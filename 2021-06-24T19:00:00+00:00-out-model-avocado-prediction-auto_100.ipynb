{
 "cells": [
  {
   "cell_type": "code",
   "execution_count": 1,
   "metadata": {
    "_cell_guid": "79c7e3d0-c299-4dcb-8224-4455121ee9b0",
    "_uuid": "d629ff2d2480ee46fbb7e2d37f6b5fab8052498a",
    "execution": {
     "iopub.execute_input": "2021-06-24T19:10:09.925426Z",
     "iopub.status.busy": "2021-06-24T19:10:09.924643Z",
     "iopub.status.idle": "2021-06-24T19:10:10.606364Z",
     "shell.execute_reply": "2021-06-24T19:10:10.606973Z"
    },
    "jupyter": {
     "source_hidden": true
    },
    "papermill": {
     "duration": 0.696694,
     "end_time": "2021-06-24T19:10:10.607366",
     "exception": false,
     "start_time": "2021-06-24T19:10:09.910672",
     "status": "completed"
    },
    "tags": []
   },
   "outputs": [],
   "source": [
    "import pandas as pd\n",
    "import numpy as np\n",
    "from sqlalchemy import create_engine\n",
    "from datetime import date\n",
    "from sklearn.metrics import mean_squared_error"
   ]
  },
  {
   "cell_type": "code",
   "execution_count": 2,
   "metadata": {
    "execution": {
     "iopub.execute_input": "2021-06-24T19:10:10.626264Z",
     "iopub.status.busy": "2021-06-24T19:10:10.625528Z",
     "iopub.status.idle": "2021-06-24T19:10:10.651324Z",
     "shell.execute_reply": "2021-06-24T19:10:10.650864Z"
    },
    "jupyter": {
     "source_hidden": true
    },
    "papermill": {
     "duration": 0.037325,
     "end_time": "2021-06-24T19:10:10.651533",
     "exception": false,
     "start_time": "2021-06-24T19:10:10.614208",
     "status": "completed"
    },
    "tags": []
   },
   "outputs": [],
   "source": [
    "# THIS IS PURELY FOR TEST PURPOSE NEVER DO THAT IN PRODUCTION\n",
    "POSTGRES_ADDRESS='postgres'\n",
    "POSTGRES_PORT='5432'\n",
    "POSTGRES_USERNAME='postgres'\n",
    "POSTGRES_PASSWORD='postgres'\n",
    "\n",
    "postgres_conn = 'postgresql://{0}:{1}@{2}:{3}/'.format(POSTGRES_USERNAME, POSTGRES_PASSWORD, POSTGRES_ADDRESS, POSTGRES_PORT)\n",
    "\n",
    "# Create the connection\n",
    "cnx = create_engine(postgres_conn)\n"
   ]
  },
  {
   "cell_type": "markdown",
   "metadata": {
    "_uuid": "1998755ef10683262b29765345cff1c1c7d10b15",
    "papermill": {
     "duration": 0.005278,
     "end_time": "2021-06-24T19:10:10.662165",
     "exception": false,
     "start_time": "2021-06-24T19:10:10.656887",
     "status": "completed"
    },
    "tags": []
   },
   "source": [
    "Read in the Avocado Prices csv file as a DataFrame called df"
   ]
  },
  {
   "cell_type": "code",
   "execution_count": 3,
   "metadata": {
    "execution": {
     "iopub.execute_input": "2021-06-24T19:10:10.677817Z",
     "iopub.status.busy": "2021-06-24T19:10:10.677042Z",
     "iopub.status.idle": "2021-06-24T19:10:10.680149Z",
     "shell.execute_reply": "2021-06-24T19:10:10.679621Z"
    },
    "jupyter": {
     "source_hidden": true
    },
    "papermill": {
     "duration": 0.013173,
     "end_time": "2021-06-24T19:10:10.680362",
     "exception": false,
     "start_time": "2021-06-24T19:10:10.667189",
     "status": "completed"
    },
    "tags": [
     "parameters"
    ]
   },
   "outputs": [],
   "source": [
    "# Parameterized\n",
    "\n",
    "filepath='avocado.csv'\n",
    "ml_id='auto_100'\n",
    "ml_date=date.today()\n",
    "n_estimators = 100\n",
    "max_features = 'auto'"
   ]
  },
  {
   "cell_type": "code",
   "execution_count": 4,
   "id": "193f4fbd",
   "metadata": {
    "execution": {
     "iopub.execute_input": "2021-06-24T19:10:10.695455Z",
     "iopub.status.busy": "2021-06-24T19:10:10.694857Z",
     "iopub.status.idle": "2021-06-24T19:10:10.697796Z",
     "shell.execute_reply": "2021-06-24T19:10:10.697329Z"
    },
    "jupyter": {
     "source_hidden": true
    },
    "papermill": {
     "duration": 0.012275,
     "end_time": "2021-06-24T19:10:10.697996",
     "exception": false,
     "start_time": "2021-06-24T19:10:10.685721",
     "status": "completed"
    },
    "tags": [
     "injected-parameters"
    ]
   },
   "outputs": [],
   "source": [
    "# Parameters\n",
    "filepath = \"/tmp/avocado.csv\"\n",
    "n_estimators = 100\n",
    "max_features = \"auto\"\n",
    "ml_id = \"auto_100\"\n"
   ]
  },
  {
   "cell_type": "code",
   "execution_count": 5,
   "metadata": {
    "_uuid": "55d0e719eb8b91d763c1eacaf0f51ee0586486fc",
    "execution": {
     "iopub.execute_input": "2021-06-24T19:10:10.714383Z",
     "iopub.status.busy": "2021-06-24T19:10:10.713740Z",
     "iopub.status.idle": "2021-06-24T19:10:10.743866Z",
     "shell.execute_reply": "2021-06-24T19:10:10.743363Z"
    },
    "jupyter": {
     "source_hidden": true
    },
    "papermill": {
     "duration": 0.040497,
     "end_time": "2021-06-24T19:10:10.744080",
     "exception": false,
     "start_time": "2021-06-24T19:10:10.703583",
     "status": "completed"
    },
    "tags": []
   },
   "outputs": [],
   "source": [
    "df= pd.read_csv(filepath)"
   ]
  },
  {
   "cell_type": "markdown",
   "metadata": {
    "_uuid": "434e0457f550e2200424e5ec26162e1aa5904005",
    "papermill": {
     "duration": 0.005722,
     "end_time": "2021-06-24T19:10:10.755468",
     "exception": false,
     "start_time": "2021-06-24T19:10:10.749746",
     "status": "completed"
    },
    "tags": []
   },
   "source": [
    "The Feature \"Unnamed:0\" is just a representation of the indexes, so it's useless to keep it, lets remove it !"
   ]
  },
  {
   "cell_type": "code",
   "execution_count": 6,
   "metadata": {
    "_uuid": "9875398e37728dc3141fed4228be337a4735beb6",
    "execution": {
     "iopub.execute_input": "2021-06-24T19:10:10.773923Z",
     "iopub.status.busy": "2021-06-24T19:10:10.773265Z",
     "iopub.status.idle": "2021-06-24T19:10:10.776288Z",
     "shell.execute_reply": "2021-06-24T19:10:10.775530Z"
    },
    "jupyter": {
     "source_hidden": true
    },
    "papermill": {
     "duration": 0.014523,
     "end_time": "2021-06-24T19:10:10.776475",
     "exception": false,
     "start_time": "2021-06-24T19:10:10.761952",
     "status": "completed"
    },
    "tags": []
   },
   "outputs": [],
   "source": [
    "df.drop('Unnamed: 0',axis=1,inplace=True)"
   ]
  },
  {
   "cell_type": "markdown",
   "metadata": {
    "_uuid": "12e94ad381e4cb8d2c8a9bbe08ce07ab5d49c040",
    "papermill": {
     "duration": 0.005918,
     "end_time": "2021-06-24T19:10:10.788207",
     "exception": false,
     "start_time": "2021-06-24T19:10:10.782289",
     "status": "completed"
    },
    "tags": []
   },
   "source": [
    "well as a first observation we can see that we are lucky, we dont have any missing values (18249 complete data) and 13 columns.\n",
    "Now let's do some Feature Engineering on the Date Feature so we can be able to use the day and the month columns in building our machine learning model later. ( I didn't mention the year because its already there in data frame)"
   ]
  },
  {
   "cell_type": "code",
   "execution_count": 7,
   "metadata": {
    "_uuid": "f031639ce794656e877484d1c9c356df7028177f",
    "execution": {
     "iopub.execute_input": "2021-06-24T19:10:10.805979Z",
     "iopub.status.busy": "2021-06-24T19:10:10.805292Z",
     "iopub.status.idle": "2021-06-24T19:10:10.928070Z",
     "shell.execute_reply": "2021-06-24T19:10:10.927369Z"
    },
    "jupyter": {
     "source_hidden": true
    },
    "papermill": {
     "duration": 0.134154,
     "end_time": "2021-06-24T19:10:10.928278",
     "exception": false,
     "start_time": "2021-06-24T19:10:10.794124",
     "status": "completed"
    },
    "tags": []
   },
   "outputs": [],
   "source": [
    "df['Date']=pd.to_datetime(df['Date'])\n",
    "df['Month']=df['Date'].apply(lambda x:x.month)\n",
    "df['Day']=df['Date'].apply(lambda x:x.day)"
   ]
  },
  {
   "cell_type": "markdown",
   "metadata": {
    "_uuid": "ebdcac9924ce3e366fd3a75170682f7113385b7a",
    "papermill": {
     "duration": 0.006086,
     "end_time": "2021-06-24T19:10:10.940405",
     "exception": false,
     "start_time": "2021-06-24T19:10:10.934319",
     "status": "completed"
    },
    "tags": []
   },
   "source": [
    "as we can see we have 54 regions and 2 unique types, so it's going to be easy to to transform the type feature to dummies, but for the region its going to be a bit complexe so I decided to drop the entire column.\n",
    "I will drop the Date Feature as well because I already have 3 other columns for the Year, Month and Day."
   ]
  },
  {
   "cell_type": "code",
   "execution_count": 8,
   "metadata": {
    "_uuid": "a798682da34327b731ef262985fd50ba68e06460",
    "execution": {
     "iopub.execute_input": "2021-06-24T19:10:10.962306Z",
     "iopub.status.busy": "2021-06-24T19:10:10.961643Z",
     "iopub.status.idle": "2021-06-24T19:10:10.966077Z",
     "shell.execute_reply": "2021-06-24T19:10:10.966488Z"
    },
    "jupyter": {
     "source_hidden": true
    },
    "papermill": {
     "duration": 0.020906,
     "end_time": "2021-06-24T19:10:10.966801",
     "exception": false,
     "start_time": "2021-06-24T19:10:10.945895",
     "status": "completed"
    },
    "tags": []
   },
   "outputs": [],
   "source": [
    "df_final=pd.get_dummies(df.drop(['region','Date'],axis=1),drop_first=True)"
   ]
  },
  {
   "cell_type": "markdown",
   "metadata": {
    "_uuid": "8b74a6b88cb3e9b3e1d1e987e061048f203c7364",
    "papermill": {
     "duration": 0.005732,
     "end_time": "2021-06-24T19:10:10.978730",
     "exception": false,
     "start_time": "2021-06-24T19:10:10.972998",
     "status": "completed"
    },
    "tags": []
   },
   "source": [
    "Now our data are ready! lets apply our model which is going to be the Linear Regression because our Target variable 'AveragePrice'is continuous.\n",
    "Let's now begin to train out regression model! We will need to first split up our data into an X array that contains the features to train on, and a y array with the target variable"
   ]
  },
  {
   "cell_type": "code",
   "execution_count": 9,
   "metadata": {
    "_uuid": "830591f99de9715241e688bf9ce265e979401ff5",
    "execution": {
     "iopub.execute_input": "2021-06-24T19:10:10.995420Z",
     "iopub.status.busy": "2021-06-24T19:10:10.994821Z",
     "iopub.status.idle": "2021-06-24T19:10:11.005466Z",
     "shell.execute_reply": "2021-06-24T19:10:11.005012Z"
    },
    "jupyter": {
     "source_hidden": true
    },
    "papermill": {
     "duration": 0.021606,
     "end_time": "2021-06-24T19:10:11.005675",
     "exception": false,
     "start_time": "2021-06-24T19:10:10.984069",
     "status": "completed"
    },
    "tags": []
   },
   "outputs": [],
   "source": [
    "X=df_final.iloc[:,1:14]\n",
    "y=df_final['AveragePrice']\n",
    "from sklearn.model_selection import train_test_split\n",
    "X_train,X_test,y_train,y_test=train_test_split(X,y,test_size=0.2,random_state=42)"
   ]
  },
  {
   "cell_type": "markdown",
   "metadata": {
    "_uuid": "ea730c77a31cde9de98263079a189accb8b5772b",
    "papermill": {
     "duration": 0.005581,
     "end_time": "2021-06-24T19:10:11.016889",
     "exception": false,
     "start_time": "2021-06-24T19:10:11.011308",
     "status": "completed"
    },
    "tags": []
   },
   "source": [
    "Creating and Training the Model"
   ]
  },
  {
   "cell_type": "code",
   "execution_count": 10,
   "metadata": {
    "_uuid": "eb37015e78974e5fd2ae7e13d065c8ab0a9c6948",
    "execution": {
     "iopub.execute_input": "2021-06-24T19:10:11.032373Z",
     "iopub.status.busy": "2021-06-24T19:10:11.031748Z",
     "iopub.status.idle": "2021-06-24T19:10:19.570991Z",
     "shell.execute_reply": "2021-06-24T19:10:19.570470Z"
    },
    "jupyter": {
     "source_hidden": true
    },
    "papermill": {
     "duration": 8.548948,
     "end_time": "2021-06-24T19:10:19.571204",
     "exception": false,
     "start_time": "2021-06-24T19:10:11.022256",
     "status": "completed"
    },
    "tags": []
   },
   "outputs": [],
   "source": [
    "from sklearn.ensemble import RandomForestRegressor\n",
    "rdr = RandomForestRegressor(\n",
    "    n_estimators=n_estimators,\n",
    "    max_features=max_features\n",
    ")\n",
    "rdr.fit(X_train,y_train)\n",
    "pred=rdr.predict(X_test)"
   ]
  },
  {
   "cell_type": "code",
   "execution_count": 11,
   "metadata": {
    "_uuid": "7ed5b8d4e8abb44a4b548c13ac9fb2d65227d1c5",
    "execution": {
     "iopub.execute_input": "2021-06-24T19:10:19.586874Z",
     "iopub.status.busy": "2021-06-24T19:10:19.586228Z",
     "iopub.status.idle": "2021-06-24T19:10:19.589056Z",
     "shell.execute_reply": "2021-06-24T19:10:19.588585Z"
    },
    "jupyter": {
     "source_hidden": true
    },
    "papermill": {
     "duration": 0.012022,
     "end_time": "2021-06-24T19:10:19.589258",
     "exception": false,
     "start_time": "2021-06-24T19:10:19.577236",
     "status": "completed"
    },
    "tags": []
   },
   "outputs": [],
   "source": [
    "#%%capture cap --no-stderr\n",
    "#print(np.sqrt(mean_squared_error(y_test, pred)))"
   ]
  },
  {
   "cell_type": "code",
   "execution_count": 12,
   "metadata": {
    "execution": {
     "iopub.execute_input": "2021-06-24T19:10:19.604712Z",
     "iopub.status.busy": "2021-06-24T19:10:19.604088Z",
     "iopub.status.idle": "2021-06-24T19:10:19.606365Z",
     "shell.execute_reply": "2021-06-24T19:10:19.606801Z"
    },
    "jupyter": {
     "source_hidden": true
    },
    "papermill": {
     "duration": 0.012258,
     "end_time": "2021-06-24T19:10:19.607026",
     "exception": false,
     "start_time": "2021-06-24T19:10:19.594768",
     "status": "completed"
    },
    "tags": []
   },
   "outputs": [],
   "source": [
    "#with open(output_rmse, 'w') as f:\n",
    "#    f.write(cap.stdout)"
   ]
  },
  {
   "cell_type": "code",
   "execution_count": 13,
   "metadata": {
    "execution": {
     "iopub.execute_input": "2021-06-24T19:10:19.624072Z",
     "iopub.status.busy": "2021-06-24T19:10:19.623329Z",
     "iopub.status.idle": "2021-06-24T19:10:19.643391Z",
     "shell.execute_reply": "2021-06-24T19:10:19.642789Z"
    },
    "jupyter": {
     "source_hidden": true
    },
    "papermill": {
     "duration": 0.030828,
     "end_time": "2021-06-24T19:10:19.643593",
     "exception": false,
     "start_time": "2021-06-24T19:10:19.612765",
     "status": "completed"
    },
    "tags": []
   },
   "outputs": [
    {
     "data": {
      "text/plain": [
       "<sqlalchemy.engine.result.ResultProxy at 0x7f40395a4450>"
      ]
     },
     "execution_count": 13,
     "metadata": {},
     "output_type": "execute_result"
    }
   ],
   "source": [
    "cnx.execute(\"\"\"\n",
    "    INSERT INTO ml.accuracies (ml_id, ml_date, accuracy) VALUES ('{0}', '{1}', {2}) \n",
    "    ON CONFLICT (ml_id, ml_date) \n",
    "    DO\n",
    "        UPDATE SET accuracy = {2};\n",
    "    \"\"\".format(ml_id, ml_date, np.sqrt(mean_squared_error(y_test, pred))))"
   ]
  }
 ],
 "metadata": {
  "kernelspec": {
   "display_name": "Python 3",
   "language": "python",
   "name": "python3"
  },
  "language_info": {
   "codemirror_mode": {
    "name": "ipython",
    "version": 3
   },
   "file_extension": ".py",
   "mimetype": "text/x-python",
   "name": "python",
   "nbconvert_exporter": "python",
   "pygments_lexer": "ipython3",
   "version": "3.7.10"
  },
  "papermill": {
   "duration": 11.385794,
   "end_time": "2021-06-24T19:10:20.058216",
   "environment_variables": {},
   "exception": null,
   "input_path": "/usr/local/airflow/include/notebooks/avocado_prediction.ipynb",
   "output_path": "/tmp/out-model-avocado-prediction-auto_100.ipynb",
   "parameters": {
    "filepath": "/tmp/avocado.csv",
    "max_features": "auto",
    "ml_id": "auto_100",
    "n_estimators": 100
   },
   "start_time": "2021-06-24T19:10:08.672422",
   "version": "2.1.2"
  }
 },
 "nbformat": 4,
 "nbformat_minor": 4
}