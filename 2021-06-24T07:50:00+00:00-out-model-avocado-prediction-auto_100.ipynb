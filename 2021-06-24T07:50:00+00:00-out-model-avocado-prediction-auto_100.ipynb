{
 "cells": [
  {
   "cell_type": "code",
   "execution_count": 1,
   "metadata": {
    "_cell_guid": "79c7e3d0-c299-4dcb-8224-4455121ee9b0",
    "_uuid": "d629ff2d2480ee46fbb7e2d37f6b5fab8052498a",
    "execution": {
     "iopub.execute_input": "2021-06-24T08:00:09.772523Z",
     "iopub.status.busy": "2021-06-24T08:00:09.770747Z",
     "iopub.status.idle": "2021-06-24T08:00:10.377370Z",
     "shell.execute_reply": "2021-06-24T08:00:10.377876Z"
    },
    "jupyter": {
     "source_hidden": true
    },
    "papermill": {
     "duration": 0.622849,
     "end_time": "2021-06-24T08:00:10.378320",
     "exception": false,
     "start_time": "2021-06-24T08:00:09.755471",
     "status": "completed"
    },
    "tags": []
   },
   "outputs": [],
   "source": [
    "import pandas as pd\n",
    "import numpy as np\n",
    "from sqlalchemy import create_engine\n",
    "from datetime import date\n",
    "from sklearn.metrics import mean_squared_error"
   ]
  },
  {
   "cell_type": "code",
   "execution_count": 2,
   "metadata": {
    "execution": {
     "iopub.execute_input": "2021-06-24T08:00:10.396024Z",
     "iopub.status.busy": "2021-06-24T08:00:10.395433Z",
     "iopub.status.idle": "2021-06-24T08:00:10.420850Z",
     "shell.execute_reply": "2021-06-24T08:00:10.420385Z"
    },
    "jupyter": {
     "source_hidden": true
    },
    "papermill": {
     "duration": 0.035878,
     "end_time": "2021-06-24T08:00:10.421071",
     "exception": false,
     "start_time": "2021-06-24T08:00:10.385193",
     "status": "completed"
    },
    "tags": []
   },
   "outputs": [],
   "source": [
    "# THIS IS PURELY FOR TEST PURPOSE NEVER DO THAT IN PRODUCTION\n",
    "POSTGRES_ADDRESS='postgres'\n",
    "POSTGRES_PORT='5432'\n",
    "POSTGRES_USERNAME='postgres'\n",
    "POSTGRES_PASSWORD='postgres'\n",
    "\n",
    "postgres_conn = 'postgresql://{0}:{1}@{2}:{3}/'.format(POSTGRES_USERNAME, POSTGRES_PASSWORD, POSTGRES_ADDRESS, POSTGRES_PORT)\n",
    "\n",
    "# Create the connection\n",
    "cnx = create_engine(postgres_conn)\n"
   ]
  },
  {
   "cell_type": "markdown",
   "metadata": {
    "_uuid": "1998755ef10683262b29765345cff1c1c7d10b15",
    "papermill": {
     "duration": 0.005269,
     "end_time": "2021-06-24T08:00:10.431444",
     "exception": false,
     "start_time": "2021-06-24T08:00:10.426175",
     "status": "completed"
    },
    "tags": []
   },
   "source": [
    "Read in the Avocado Prices csv file as a DataFrame called df"
   ]
  },
  {
   "cell_type": "code",
   "execution_count": 3,
   "metadata": {
    "execution": {
     "iopub.execute_input": "2021-06-24T08:00:10.445157Z",
     "iopub.status.busy": "2021-06-24T08:00:10.444645Z",
     "iopub.status.idle": "2021-06-24T08:00:10.447576Z",
     "shell.execute_reply": "2021-06-24T08:00:10.447231Z"
    },
    "jupyter": {
     "source_hidden": true
    },
    "papermill": {
     "duration": 0.011277,
     "end_time": "2021-06-24T08:00:10.447733",
     "exception": false,
     "start_time": "2021-06-24T08:00:10.436456",
     "status": "completed"
    },
    "tags": [
     "parameters"
    ]
   },
   "outputs": [],
   "source": [
    "# Parameterized\n",
    "\n",
    "filepath='avocado.csv'\n",
    "ml_id='auto_100'\n",
    "ml_date=date.today()\n",
    "n_estimators = 100\n",
    "max_features = 'auto'"
   ]
  },
  {
   "cell_type": "code",
   "execution_count": 4,
   "id": "460ff17d",
   "metadata": {
    "execution": {
     "iopub.execute_input": "2021-06-24T08:00:10.459671Z",
     "iopub.status.busy": "2021-06-24T08:00:10.459106Z",
     "iopub.status.idle": "2021-06-24T08:00:10.462220Z",
     "shell.execute_reply": "2021-06-24T08:00:10.461807Z"
    },
    "jupyter": {
     "source_hidden": true
    },
    "papermill": {
     "duration": 0.010556,
     "end_time": "2021-06-24T08:00:10.462376",
     "exception": false,
     "start_time": "2021-06-24T08:00:10.451820",
     "status": "completed"
    },
    "tags": [
     "injected-parameters"
    ]
   },
   "outputs": [],
   "source": [
    "# Parameters\n",
    "filepath = \"/tmp/avocado.csv\"\n",
    "n_estimators = 100\n",
    "max_features = \"auto\"\n",
    "ml_id = \"auto_100\"\n"
   ]
  },
  {
   "cell_type": "code",
   "execution_count": 5,
   "metadata": {
    "_uuid": "55d0e719eb8b91d763c1eacaf0f51ee0586486fc",
    "execution": {
     "iopub.execute_input": "2021-06-24T08:00:10.475253Z",
     "iopub.status.busy": "2021-06-24T08:00:10.474602Z",
     "iopub.status.idle": "2021-06-24T08:00:10.500132Z",
     "shell.execute_reply": "2021-06-24T08:00:10.499738Z"
    },
    "jupyter": {
     "source_hidden": true
    },
    "papermill": {
     "duration": 0.033547,
     "end_time": "2021-06-24T08:00:10.500359",
     "exception": false,
     "start_time": "2021-06-24T08:00:10.466812",
     "status": "completed"
    },
    "tags": []
   },
   "outputs": [],
   "source": [
    "df= pd.read_csv(filepath)"
   ]
  },
  {
   "cell_type": "markdown",
   "metadata": {
    "_uuid": "434e0457f550e2200424e5ec26162e1aa5904005",
    "papermill": {
     "duration": 0.004402,
     "end_time": "2021-06-24T08:00:10.509369",
     "exception": false,
     "start_time": "2021-06-24T08:00:10.504967",
     "status": "completed"
    },
    "tags": []
   },
   "source": [
    "The Feature \"Unnamed:0\" is just a representation of the indexes, so it's useless to keep it, lets remove it !"
   ]
  },
  {
   "cell_type": "code",
   "execution_count": 6,
   "metadata": {
    "_uuid": "9875398e37728dc3141fed4228be337a4735beb6",
    "execution": {
     "iopub.execute_input": "2021-06-24T08:00:10.523475Z",
     "iopub.status.busy": "2021-06-24T08:00:10.522960Z",
     "iopub.status.idle": "2021-06-24T08:00:10.525794Z",
     "shell.execute_reply": "2021-06-24T08:00:10.525457Z"
    },
    "jupyter": {
     "source_hidden": true
    },
    "papermill": {
     "duration": 0.012189,
     "end_time": "2021-06-24T08:00:10.525948",
     "exception": false,
     "start_time": "2021-06-24T08:00:10.513759",
     "status": "completed"
    },
    "tags": []
   },
   "outputs": [],
   "source": [
    "df.drop('Unnamed: 0',axis=1,inplace=True)"
   ]
  },
  {
   "cell_type": "markdown",
   "metadata": {
    "_uuid": "12e94ad381e4cb8d2c8a9bbe08ce07ab5d49c040",
    "papermill": {
     "duration": 0.00479,
     "end_time": "2021-06-24T08:00:10.536090",
     "exception": false,
     "start_time": "2021-06-24T08:00:10.531300",
     "status": "completed"
    },
    "tags": []
   },
   "source": [
    "well as a first observation we can see that we are lucky, we dont have any missing values (18249 complete data) and 13 columns.\n",
    "Now let's do some Feature Engineering on the Date Feature so we can be able to use the day and the month columns in building our machine learning model later. ( I didn't mention the year because its already there in data frame)"
   ]
  },
  {
   "cell_type": "code",
   "execution_count": 7,
   "metadata": {
    "_uuid": "f031639ce794656e877484d1c9c356df7028177f",
    "execution": {
     "iopub.execute_input": "2021-06-24T08:00:10.549840Z",
     "iopub.status.busy": "2021-06-24T08:00:10.549383Z",
     "iopub.status.idle": "2021-06-24T08:00:10.646950Z",
     "shell.execute_reply": "2021-06-24T08:00:10.646557Z"
    },
    "jupyter": {
     "source_hidden": true
    },
    "papermill": {
     "duration": 0.106866,
     "end_time": "2021-06-24T08:00:10.647133",
     "exception": false,
     "start_time": "2021-06-24T08:00:10.540267",
     "status": "completed"
    },
    "tags": []
   },
   "outputs": [],
   "source": [
    "df['Date']=pd.to_datetime(df['Date'])\n",
    "df['Month']=df['Date'].apply(lambda x:x.month)\n",
    "df['Day']=df['Date'].apply(lambda x:x.day)"
   ]
  },
  {
   "cell_type": "markdown",
   "metadata": {
    "_uuid": "ebdcac9924ce3e366fd3a75170682f7113385b7a",
    "papermill": {
     "duration": 0.004349,
     "end_time": "2021-06-24T08:00:10.656455",
     "exception": false,
     "start_time": "2021-06-24T08:00:10.652106",
     "status": "completed"
    },
    "tags": []
   },
   "source": [
    "as we can see we have 54 regions and 2 unique types, so it's going to be easy to to transform the type feature to dummies, but for the region its going to be a bit complexe so I decided to drop the entire column.\n",
    "I will drop the Date Feature as well because I already have 3 other columns for the Year, Month and Day."
   ]
  },
  {
   "cell_type": "code",
   "execution_count": 8,
   "metadata": {
    "_uuid": "a798682da34327b731ef262985fd50ba68e06460",
    "execution": {
     "iopub.execute_input": "2021-06-24T08:00:10.669467Z",
     "iopub.status.busy": "2021-06-24T08:00:10.668923Z",
     "iopub.status.idle": "2021-06-24T08:00:10.678341Z",
     "shell.execute_reply": "2021-06-24T08:00:10.677871Z"
    },
    "jupyter": {
     "source_hidden": true
    },
    "papermill": {
     "duration": 0.017856,
     "end_time": "2021-06-24T08:00:10.678526",
     "exception": false,
     "start_time": "2021-06-24T08:00:10.660670",
     "status": "completed"
    },
    "tags": []
   },
   "outputs": [],
   "source": [
    "df_final=pd.get_dummies(df.drop(['region','Date'],axis=1),drop_first=True)"
   ]
  },
  {
   "cell_type": "markdown",
   "metadata": {
    "_uuid": "8b74a6b88cb3e9b3e1d1e987e061048f203c7364",
    "papermill": {
     "duration": 0.004325,
     "end_time": "2021-06-24T08:00:10.687642",
     "exception": false,
     "start_time": "2021-06-24T08:00:10.683317",
     "status": "completed"
    },
    "tags": []
   },
   "source": [
    "Now our data are ready! lets apply our model which is going to be the Linear Regression because our Target variable 'AveragePrice'is continuous.\n",
    "Let's now begin to train out regression model! We will need to first split up our data into an X array that contains the features to train on, and a y array with the target variable"
   ]
  },
  {
   "cell_type": "code",
   "execution_count": 9,
   "metadata": {
    "_uuid": "830591f99de9715241e688bf9ce265e979401ff5",
    "execution": {
     "iopub.execute_input": "2021-06-24T08:00:10.701279Z",
     "iopub.status.busy": "2021-06-24T08:00:10.700706Z",
     "iopub.status.idle": "2021-06-24T08:00:10.710302Z",
     "shell.execute_reply": "2021-06-24T08:00:10.709870Z"
    },
    "jupyter": {
     "source_hidden": true
    },
    "papermill": {
     "duration": 0.018502,
     "end_time": "2021-06-24T08:00:10.710486",
     "exception": false,
     "start_time": "2021-06-24T08:00:10.691984",
     "status": "completed"
    },
    "tags": []
   },
   "outputs": [],
   "source": [
    "X=df_final.iloc[:,1:14]\n",
    "y=df_final['AveragePrice']\n",
    "from sklearn.model_selection import train_test_split\n",
    "X_train,X_test,y_train,y_test=train_test_split(X,y,test_size=0.2,random_state=42)"
   ]
  },
  {
   "cell_type": "markdown",
   "metadata": {
    "_uuid": "ea730c77a31cde9de98263079a189accb8b5772b",
    "papermill": {
     "duration": 0.004332,
     "end_time": "2021-06-24T08:00:10.719683",
     "exception": false,
     "start_time": "2021-06-24T08:00:10.715351",
     "status": "completed"
    },
    "tags": []
   },
   "source": [
    "Creating and Training the Model"
   ]
  },
  {
   "cell_type": "code",
   "execution_count": 10,
   "metadata": {
    "_uuid": "eb37015e78974e5fd2ae7e13d065c8ab0a9c6948",
    "execution": {
     "iopub.execute_input": "2021-06-24T08:00:10.732389Z",
     "iopub.status.busy": "2021-06-24T08:00:10.731794Z",
     "iopub.status.idle": "2021-06-24T08:00:17.990306Z",
     "shell.execute_reply": "2021-06-24T08:00:17.990708Z"
    },
    "jupyter": {
     "source_hidden": true
    },
    "papermill": {
     "duration": 7.266993,
     "end_time": "2021-06-24T08:00:17.990949",
     "exception": false,
     "start_time": "2021-06-24T08:00:10.723956",
     "status": "completed"
    },
    "tags": []
   },
   "outputs": [],
   "source": [
    "from sklearn.ensemble import RandomForestRegressor\n",
    "rdr = RandomForestRegressor(\n",
    "    n_estimators=n_estimators,\n",
    "    max_features=max_features\n",
    ")\n",
    "rdr.fit(X_train,y_train)\n",
    "pred=rdr.predict(X_test)"
   ]
  },
  {
   "cell_type": "code",
   "execution_count": 11,
   "metadata": {
    "_uuid": "7ed5b8d4e8abb44a4b548c13ac9fb2d65227d1c5",
    "execution": {
     "iopub.execute_input": "2021-06-24T08:00:18.005771Z",
     "iopub.status.busy": "2021-06-24T08:00:18.005173Z",
     "iopub.status.idle": "2021-06-24T08:00:18.008388Z",
     "shell.execute_reply": "2021-06-24T08:00:18.007719Z"
    },
    "jupyter": {
     "source_hidden": true
    },
    "papermill": {
     "duration": 0.01181,
     "end_time": "2021-06-24T08:00:18.008582",
     "exception": false,
     "start_time": "2021-06-24T08:00:17.996772",
     "status": "completed"
    },
    "tags": []
   },
   "outputs": [],
   "source": [
    "#%%capture cap --no-stderr\n",
    "#print(np.sqrt(mean_squared_error(y_test, pred)))"
   ]
  },
  {
   "cell_type": "code",
   "execution_count": 12,
   "metadata": {
    "execution": {
     "iopub.execute_input": "2021-06-24T08:00:18.022167Z",
     "iopub.status.busy": "2021-06-24T08:00:18.021596Z",
     "iopub.status.idle": "2021-06-24T08:00:18.024715Z",
     "shell.execute_reply": "2021-06-24T08:00:18.024132Z"
    },
    "jupyter": {
     "source_hidden": true
    },
    "papermill": {
     "duration": 0.010798,
     "end_time": "2021-06-24T08:00:18.024864",
     "exception": false,
     "start_time": "2021-06-24T08:00:18.014066",
     "status": "completed"
    },
    "tags": []
   },
   "outputs": [],
   "source": [
    "#with open(output_rmse, 'w') as f:\n",
    "#    f.write(cap.stdout)"
   ]
  },
  {
   "cell_type": "code",
   "execution_count": 13,
   "metadata": {
    "execution": {
     "iopub.execute_input": "2021-06-24T08:00:18.042113Z",
     "iopub.status.busy": "2021-06-24T08:00:18.041068Z",
     "iopub.status.idle": "2021-06-24T08:00:18.061739Z",
     "shell.execute_reply": "2021-06-24T08:00:18.061141Z"
    },
    "jupyter": {
     "source_hidden": true
    },
    "papermill": {
     "duration": 0.032562,
     "end_time": "2021-06-24T08:00:18.061916",
     "exception": false,
     "start_time": "2021-06-24T08:00:18.029354",
     "status": "completed"
    },
    "tags": []
   },
   "outputs": [
    {
     "data": {
      "text/plain": [
       "<sqlalchemy.engine.result.ResultProxy at 0x7f421ebac750>"
      ]
     },
     "execution_count": 13,
     "metadata": {},
     "output_type": "execute_result"
    }
   ],
   "source": [
    "cnx.execute(\"\"\"\n",
    "    INSERT INTO ml.accuracies (ml_id, ml_date, accuracy) VALUES ('{0}', '{1}', {2}) \n",
    "    ON CONFLICT (ml_id, ml_date) \n",
    "    DO\n",
    "        UPDATE SET accuracy = {2};\n",
    "    \"\"\".format(ml_id, ml_date, np.sqrt(mean_squared_error(y_test, pred))))"
   ]
  }
 ],
 "metadata": {
  "kernelspec": {
   "display_name": "Python 3",
   "language": "python",
   "name": "python3"
  },
  "language_info": {
   "codemirror_mode": {
    "name": "ipython",
    "version": 3
   },
   "file_extension": ".py",
   "mimetype": "text/x-python",
   "name": "python",
   "nbconvert_exporter": "python",
   "pygments_lexer": "ipython3",
   "version": "3.7.10"
  },
  "papermill": {
   "duration": 9.636954,
   "end_time": "2021-06-24T08:00:18.476781",
   "environment_variables": {},
   "exception": null,
   "input_path": "/usr/local/airflow/include/notebooks/avocado_prediction.ipynb",
   "output_path": "/tmp/out-model-avocado-prediction-auto_100.ipynb",
   "parameters": {
    "filepath": "/tmp/avocado.csv",
    "max_features": "auto",
    "ml_id": "auto_100",
    "n_estimators": 100
   },
   "start_time": "2021-06-24T08:00:08.839827",
   "version": "2.1.2"
  }
 },
 "nbformat": 4,
 "nbformat_minor": 4
}