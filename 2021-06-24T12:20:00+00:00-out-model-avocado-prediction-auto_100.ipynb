{
 "cells": [
  {
   "cell_type": "code",
   "execution_count": 1,
   "metadata": {
    "_cell_guid": "79c7e3d0-c299-4dcb-8224-4455121ee9b0",
    "_uuid": "d629ff2d2480ee46fbb7e2d37f6b5fab8052498a",
    "execution": {
     "iopub.execute_input": "2021-06-24T12:30:09.343471Z",
     "iopub.status.busy": "2021-06-24T12:30:09.342850Z",
     "iopub.status.idle": "2021-06-24T12:30:10.047602Z",
     "shell.execute_reply": "2021-06-24T12:30:10.046888Z"
    },
    "jupyter": {
     "source_hidden": true
    },
    "papermill": {
     "duration": 0.716779,
     "end_time": "2021-06-24T12:30:10.047932",
     "exception": false,
     "start_time": "2021-06-24T12:30:09.331153",
     "status": "completed"
    },
    "tags": []
   },
   "outputs": [],
   "source": [
    "import pandas as pd\n",
    "import numpy as np\n",
    "from sqlalchemy import create_engine\n",
    "from datetime import date\n",
    "from sklearn.metrics import mean_squared_error"
   ]
  },
  {
   "cell_type": "code",
   "execution_count": 2,
   "metadata": {
    "execution": {
     "iopub.execute_input": "2021-06-24T12:30:10.068532Z",
     "iopub.status.busy": "2021-06-24T12:30:10.067638Z",
     "iopub.status.idle": "2021-06-24T12:30:10.099321Z",
     "shell.execute_reply": "2021-06-24T12:30:10.098763Z"
    },
    "jupyter": {
     "source_hidden": true
    },
    "papermill": {
     "duration": 0.044314,
     "end_time": "2021-06-24T12:30:10.099553",
     "exception": false,
     "start_time": "2021-06-24T12:30:10.055239",
     "status": "completed"
    },
    "tags": []
   },
   "outputs": [],
   "source": [
    "# THIS IS PURELY FOR TEST PURPOSE NEVER DO THAT IN PRODUCTION\n",
    "POSTGRES_ADDRESS='postgres'\n",
    "POSTGRES_PORT='5432'\n",
    "POSTGRES_USERNAME='postgres'\n",
    "POSTGRES_PASSWORD='postgres'\n",
    "\n",
    "postgres_conn = 'postgresql://{0}:{1}@{2}:{3}/'.format(POSTGRES_USERNAME, POSTGRES_PASSWORD, POSTGRES_ADDRESS, POSTGRES_PORT)\n",
    "\n",
    "# Create the connection\n",
    "cnx = create_engine(postgres_conn)\n"
   ]
  },
  {
   "cell_type": "markdown",
   "metadata": {
    "_uuid": "1998755ef10683262b29765345cff1c1c7d10b15",
    "papermill": {
     "duration": 0.005599,
     "end_time": "2021-06-24T12:30:10.110885",
     "exception": false,
     "start_time": "2021-06-24T12:30:10.105286",
     "status": "completed"
    },
    "tags": []
   },
   "source": [
    "Read in the Avocado Prices csv file as a DataFrame called df"
   ]
  },
  {
   "cell_type": "code",
   "execution_count": 3,
   "metadata": {
    "execution": {
     "iopub.execute_input": "2021-06-24T12:30:10.125983Z",
     "iopub.status.busy": "2021-06-24T12:30:10.125313Z",
     "iopub.status.idle": "2021-06-24T12:30:10.128104Z",
     "shell.execute_reply": "2021-06-24T12:30:10.128509Z"
    },
    "jupyter": {
     "source_hidden": true
    },
    "papermill": {
     "duration": 0.012774,
     "end_time": "2021-06-24T12:30:10.128800",
     "exception": false,
     "start_time": "2021-06-24T12:30:10.116026",
     "status": "completed"
    },
    "tags": [
     "parameters"
    ]
   },
   "outputs": [],
   "source": [
    "# Parameterized\n",
    "\n",
    "filepath='avocado.csv'\n",
    "ml_id='auto_100'\n",
    "ml_date=date.today()\n",
    "n_estimators = 100\n",
    "max_features = 'auto'"
   ]
  },
  {
   "cell_type": "code",
   "execution_count": 4,
   "id": "5993735f",
   "metadata": {
    "execution": {
     "iopub.execute_input": "2021-06-24T12:30:10.144379Z",
     "iopub.status.busy": "2021-06-24T12:30:10.143767Z",
     "iopub.status.idle": "2021-06-24T12:30:10.146452Z",
     "shell.execute_reply": "2021-06-24T12:30:10.146884Z"
    },
    "jupyter": {
     "source_hidden": true
    },
    "papermill": {
     "duration": 0.01287,
     "end_time": "2021-06-24T12:30:10.147122",
     "exception": false,
     "start_time": "2021-06-24T12:30:10.134252",
     "status": "completed"
    },
    "tags": [
     "injected-parameters"
    ]
   },
   "outputs": [],
   "source": [
    "# Parameters\n",
    "filepath = \"/tmp/avocado.csv\"\n",
    "n_estimators = 100\n",
    "max_features = \"auto\"\n",
    "ml_id = \"auto_100\"\n"
   ]
  },
  {
   "cell_type": "code",
   "execution_count": 5,
   "metadata": {
    "_uuid": "55d0e719eb8b91d763c1eacaf0f51ee0586486fc",
    "execution": {
     "iopub.execute_input": "2021-06-24T12:30:10.163350Z",
     "iopub.status.busy": "2021-06-24T12:30:10.162736Z",
     "iopub.status.idle": "2021-06-24T12:30:10.193501Z",
     "shell.execute_reply": "2021-06-24T12:30:10.193038Z"
    },
    "jupyter": {
     "source_hidden": true
    },
    "papermill": {
     "duration": 0.041071,
     "end_time": "2021-06-24T12:30:10.193770",
     "exception": false,
     "start_time": "2021-06-24T12:30:10.152699",
     "status": "completed"
    },
    "tags": []
   },
   "outputs": [],
   "source": [
    "df= pd.read_csv(filepath)"
   ]
  },
  {
   "cell_type": "markdown",
   "metadata": {
    "_uuid": "434e0457f550e2200424e5ec26162e1aa5904005",
    "papermill": {
     "duration": 0.005789,
     "end_time": "2021-06-24T12:30:10.205150",
     "exception": false,
     "start_time": "2021-06-24T12:30:10.199361",
     "status": "completed"
    },
    "tags": []
   },
   "source": [
    "The Feature \"Unnamed:0\" is just a representation of the indexes, so it's useless to keep it, lets remove it !"
   ]
  },
  {
   "cell_type": "code",
   "execution_count": 6,
   "metadata": {
    "_uuid": "9875398e37728dc3141fed4228be337a4735beb6",
    "execution": {
     "iopub.execute_input": "2021-06-24T12:30:10.222970Z",
     "iopub.status.busy": "2021-06-24T12:30:10.222320Z",
     "iopub.status.idle": "2021-06-24T12:30:10.225697Z",
     "shell.execute_reply": "2021-06-24T12:30:10.225029Z"
    },
    "jupyter": {
     "source_hidden": true
    },
    "papermill": {
     "duration": 0.014943,
     "end_time": "2021-06-24T12:30:10.225915",
     "exception": false,
     "start_time": "2021-06-24T12:30:10.210972",
     "status": "completed"
    },
    "tags": []
   },
   "outputs": [],
   "source": [
    "df.drop('Unnamed: 0',axis=1,inplace=True)"
   ]
  },
  {
   "cell_type": "markdown",
   "metadata": {
    "_uuid": "12e94ad381e4cb8d2c8a9bbe08ce07ab5d49c040",
    "papermill": {
     "duration": 0.005825,
     "end_time": "2021-06-24T12:30:10.238040",
     "exception": false,
     "start_time": "2021-06-24T12:30:10.232215",
     "status": "completed"
    },
    "tags": []
   },
   "source": [
    "well as a first observation we can see that we are lucky, we dont have any missing values (18249 complete data) and 13 columns.\n",
    "Now let's do some Feature Engineering on the Date Feature so we can be able to use the day and the month columns in building our machine learning model later. ( I didn't mention the year because its already there in data frame)"
   ]
  },
  {
   "cell_type": "code",
   "execution_count": 7,
   "metadata": {
    "_uuid": "f031639ce794656e877484d1c9c356df7028177f",
    "execution": {
     "iopub.execute_input": "2021-06-24T12:30:10.255606Z",
     "iopub.status.busy": "2021-06-24T12:30:10.254833Z",
     "iopub.status.idle": "2021-06-24T12:30:10.379432Z",
     "shell.execute_reply": "2021-06-24T12:30:10.378787Z"
    },
    "jupyter": {
     "source_hidden": true
    },
    "papermill": {
     "duration": 0.135932,
     "end_time": "2021-06-24T12:30:10.379639",
     "exception": false,
     "start_time": "2021-06-24T12:30:10.243707",
     "status": "completed"
    },
    "tags": []
   },
   "outputs": [],
   "source": [
    "df['Date']=pd.to_datetime(df['Date'])\n",
    "df['Month']=df['Date'].apply(lambda x:x.month)\n",
    "df['Day']=df['Date'].apply(lambda x:x.day)"
   ]
  },
  {
   "cell_type": "markdown",
   "metadata": {
    "_uuid": "ebdcac9924ce3e366fd3a75170682f7113385b7a",
    "papermill": {
     "duration": 0.006157,
     "end_time": "2021-06-24T12:30:10.391555",
     "exception": false,
     "start_time": "2021-06-24T12:30:10.385398",
     "status": "completed"
    },
    "tags": []
   },
   "source": [
    "as we can see we have 54 regions and 2 unique types, so it's going to be easy to to transform the type feature to dummies, but for the region its going to be a bit complexe so I decided to drop the entire column.\n",
    "I will drop the Date Feature as well because I already have 3 other columns for the Year, Month and Day."
   ]
  },
  {
   "cell_type": "code",
   "execution_count": 8,
   "metadata": {
    "_uuid": "a798682da34327b731ef262985fd50ba68e06460",
    "execution": {
     "iopub.execute_input": "2021-06-24T12:30:10.410005Z",
     "iopub.status.busy": "2021-06-24T12:30:10.409309Z",
     "iopub.status.idle": "2021-06-24T12:30:10.419507Z",
     "shell.execute_reply": "2021-06-24T12:30:10.420013Z"
    },
    "jupyter": {
     "source_hidden": true
    },
    "papermill": {
     "duration": 0.02268,
     "end_time": "2021-06-24T12:30:10.420263",
     "exception": false,
     "start_time": "2021-06-24T12:30:10.397583",
     "status": "completed"
    },
    "tags": []
   },
   "outputs": [],
   "source": [
    "df_final=pd.get_dummies(df.drop(['region','Date'],axis=1),drop_first=True)"
   ]
  },
  {
   "cell_type": "markdown",
   "metadata": {
    "_uuid": "8b74a6b88cb3e9b3e1d1e987e061048f203c7364",
    "papermill": {
     "duration": 0.005934,
     "end_time": "2021-06-24T12:30:10.432202",
     "exception": false,
     "start_time": "2021-06-24T12:30:10.426268",
     "status": "completed"
    },
    "tags": []
   },
   "source": [
    "Now our data are ready! lets apply our model which is going to be the Linear Regression because our Target variable 'AveragePrice'is continuous.\n",
    "Let's now begin to train out regression model! We will need to first split up our data into an X array that contains the features to train on, and a y array with the target variable"
   ]
  },
  {
   "cell_type": "code",
   "execution_count": 9,
   "metadata": {
    "_uuid": "830591f99de9715241e688bf9ce265e979401ff5",
    "execution": {
     "iopub.execute_input": "2021-06-24T12:30:10.449774Z",
     "iopub.status.busy": "2021-06-24T12:30:10.449123Z",
     "iopub.status.idle": "2021-06-24T12:30:10.460301Z",
     "shell.execute_reply": "2021-06-24T12:30:10.460792Z"
    },
    "jupyter": {
     "source_hidden": true
    },
    "papermill": {
     "duration": 0.023044,
     "end_time": "2021-06-24T12:30:10.461042",
     "exception": false,
     "start_time": "2021-06-24T12:30:10.437998",
     "status": "completed"
    },
    "tags": []
   },
   "outputs": [],
   "source": [
    "X=df_final.iloc[:,1:14]\n",
    "y=df_final['AveragePrice']\n",
    "from sklearn.model_selection import train_test_split\n",
    "X_train,X_test,y_train,y_test=train_test_split(X,y,test_size=0.2,random_state=42)"
   ]
  },
  {
   "cell_type": "markdown",
   "metadata": {
    "_uuid": "ea730c77a31cde9de98263079a189accb8b5772b",
    "papermill": {
     "duration": 0.005946,
     "end_time": "2021-06-24T12:30:10.472745",
     "exception": false,
     "start_time": "2021-06-24T12:30:10.466799",
     "status": "completed"
    },
    "tags": []
   },
   "source": [
    "Creating and Training the Model"
   ]
  },
  {
   "cell_type": "code",
   "execution_count": 10,
   "metadata": {
    "_uuid": "eb37015e78974e5fd2ae7e13d065c8ab0a9c6948",
    "execution": {
     "iopub.execute_input": "2021-06-24T12:30:10.489631Z",
     "iopub.status.busy": "2021-06-24T12:30:10.488886Z",
     "iopub.status.idle": "2021-06-24T12:30:18.344596Z",
     "shell.execute_reply": "2021-06-24T12:30:18.343935Z"
    },
    "jupyter": {
     "source_hidden": true
    },
    "papermill": {
     "duration": 7.866049,
     "end_time": "2021-06-24T12:30:18.344853",
     "exception": false,
     "start_time": "2021-06-24T12:30:10.478804",
     "status": "completed"
    },
    "tags": []
   },
   "outputs": [],
   "source": [
    "from sklearn.ensemble import RandomForestRegressor\n",
    "rdr = RandomForestRegressor(\n",
    "    n_estimators=n_estimators,\n",
    "    max_features=max_features\n",
    ")\n",
    "rdr.fit(X_train,y_train)\n",
    "pred=rdr.predict(X_test)"
   ]
  },
  {
   "cell_type": "code",
   "execution_count": 11,
   "metadata": {
    "_uuid": "7ed5b8d4e8abb44a4b548c13ac9fb2d65227d1c5",
    "execution": {
     "iopub.execute_input": "2021-06-24T12:30:18.360031Z",
     "iopub.status.busy": "2021-06-24T12:30:18.359390Z",
     "iopub.status.idle": "2021-06-24T12:30:18.362300Z",
     "shell.execute_reply": "2021-06-24T12:30:18.361854Z"
    },
    "jupyter": {
     "source_hidden": true
    },
    "papermill": {
     "duration": 0.011723,
     "end_time": "2021-06-24T12:30:18.362499",
     "exception": false,
     "start_time": "2021-06-24T12:30:18.350776",
     "status": "completed"
    },
    "tags": []
   },
   "outputs": [],
   "source": [
    "#%%capture cap --no-stderr\n",
    "#print(np.sqrt(mean_squared_error(y_test, pred)))"
   ]
  },
  {
   "cell_type": "code",
   "execution_count": 12,
   "metadata": {
    "execution": {
     "iopub.execute_input": "2021-06-24T12:30:18.377562Z",
     "iopub.status.busy": "2021-06-24T12:30:18.376941Z",
     "iopub.status.idle": "2021-06-24T12:30:18.380404Z",
     "shell.execute_reply": "2021-06-24T12:30:18.379818Z"
    },
    "jupyter": {
     "source_hidden": true
    },
    "papermill": {
     "duration": 0.01242,
     "end_time": "2021-06-24T12:30:18.380654",
     "exception": false,
     "start_time": "2021-06-24T12:30:18.368234",
     "status": "completed"
    },
    "tags": []
   },
   "outputs": [],
   "source": [
    "#with open(output_rmse, 'w') as f:\n",
    "#    f.write(cap.stdout)"
   ]
  },
  {
   "cell_type": "code",
   "execution_count": 13,
   "metadata": {
    "execution": {
     "iopub.execute_input": "2021-06-24T12:30:18.396667Z",
     "iopub.status.busy": "2021-06-24T12:30:18.395479Z",
     "iopub.status.idle": "2021-06-24T12:30:18.418813Z",
     "shell.execute_reply": "2021-06-24T12:30:18.418315Z"
    },
    "jupyter": {
     "source_hidden": true
    },
    "papermill": {
     "duration": 0.032801,
     "end_time": "2021-06-24T12:30:18.419020",
     "exception": false,
     "start_time": "2021-06-24T12:30:18.386219",
     "status": "completed"
    },
    "tags": []
   },
   "outputs": [
    {
     "data": {
      "text/plain": [
       "<sqlalchemy.engine.result.ResultProxy at 0x7f9d8977e510>"
      ]
     },
     "execution_count": 13,
     "metadata": {},
     "output_type": "execute_result"
    }
   ],
   "source": [
    "cnx.execute(\"\"\"\n",
    "    INSERT INTO ml.accuracies (ml_id, ml_date, accuracy) VALUES ('{0}', '{1}', {2}) \n",
    "    ON CONFLICT (ml_id, ml_date) \n",
    "    DO\n",
    "        UPDATE SET accuracy = {2};\n",
    "    \"\"\".format(ml_id, ml_date, np.sqrt(mean_squared_error(y_test, pred))))"
   ]
  }
 ],
 "metadata": {
  "kernelspec": {
   "display_name": "Python 3",
   "language": "python",
   "name": "python3"
  },
  "language_info": {
   "codemirror_mode": {
    "name": "ipython",
    "version": 3
   },
   "file_extension": ".py",
   "mimetype": "text/x-python",
   "name": "python",
   "nbconvert_exporter": "python",
   "pygments_lexer": "ipython3",
   "version": "3.7.10"
  },
  "papermill": {
   "duration": 10.66285,
   "end_time": "2021-06-24T12:30:18.834141",
   "environment_variables": {},
   "exception": null,
   "input_path": "/usr/local/airflow/include/notebooks/avocado_prediction.ipynb",
   "output_path": "/tmp/out-model-avocado-prediction-auto_100.ipynb",
   "parameters": {
    "filepath": "/tmp/avocado.csv",
    "max_features": "auto",
    "ml_id": "auto_100",
    "n_estimators": 100
   },
   "start_time": "2021-06-24T12:30:08.171291",
   "version": "2.1.2"
  }
 },
 "nbformat": 4,
 "nbformat_minor": 4
}