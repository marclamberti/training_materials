{
 "cells": [
  {
   "cell_type": "code",
   "execution_count": 1,
   "metadata": {
    "_cell_guid": "79c7e3d0-c299-4dcb-8224-4455121ee9b0",
    "_uuid": "d629ff2d2480ee46fbb7e2d37f6b5fab8052498a",
    "execution": {
     "iopub.execute_input": "2021-06-24T16:20:09.510564Z",
     "iopub.status.busy": "2021-06-24T16:20:09.509927Z",
     "iopub.status.idle": "2021-06-24T16:20:10.133733Z",
     "shell.execute_reply": "2021-06-24T16:20:10.132802Z"
    },
    "jupyter": {
     "source_hidden": true
    },
    "papermill": {
     "duration": 0.635079,
     "end_time": "2021-06-24T16:20:10.133992",
     "exception": false,
     "start_time": "2021-06-24T16:20:09.498913",
     "status": "completed"
    },
    "tags": []
   },
   "outputs": [],
   "source": [
    "import pandas as pd\n",
    "import numpy as np\n",
    "from sqlalchemy import create_engine\n",
    "from datetime import date\n",
    "from sklearn.metrics import mean_squared_error"
   ]
  },
  {
   "cell_type": "code",
   "execution_count": 2,
   "metadata": {
    "execution": {
     "iopub.execute_input": "2021-06-24T16:20:10.151605Z",
     "iopub.status.busy": "2021-06-24T16:20:10.150952Z",
     "iopub.status.idle": "2021-06-24T16:20:10.176720Z",
     "shell.execute_reply": "2021-06-24T16:20:10.176193Z"
    },
    "jupyter": {
     "source_hidden": true
    },
    "papermill": {
     "duration": 0.036081,
     "end_time": "2021-06-24T16:20:10.176931",
     "exception": false,
     "start_time": "2021-06-24T16:20:10.140850",
     "status": "completed"
    },
    "tags": []
   },
   "outputs": [],
   "source": [
    "# THIS IS PURELY FOR TEST PURPOSE NEVER DO THAT IN PRODUCTION\n",
    "POSTGRES_ADDRESS='postgres'\n",
    "POSTGRES_PORT='5432'\n",
    "POSTGRES_USERNAME='postgres'\n",
    "POSTGRES_PASSWORD='postgres'\n",
    "\n",
    "postgres_conn = 'postgresql://{0}:{1}@{2}:{3}/'.format(POSTGRES_USERNAME, POSTGRES_PASSWORD, POSTGRES_ADDRESS, POSTGRES_PORT)\n",
    "\n",
    "# Create the connection\n",
    "cnx = create_engine(postgres_conn)\n"
   ]
  },
  {
   "cell_type": "markdown",
   "metadata": {
    "_uuid": "1998755ef10683262b29765345cff1c1c7d10b15",
    "papermill": {
     "duration": 0.005583,
     "end_time": "2021-06-24T16:20:10.187676",
     "exception": false,
     "start_time": "2021-06-24T16:20:10.182093",
     "status": "completed"
    },
    "tags": []
   },
   "source": [
    "Read in the Avocado Prices csv file as a DataFrame called df"
   ]
  },
  {
   "cell_type": "code",
   "execution_count": 3,
   "metadata": {
    "execution": {
     "iopub.execute_input": "2021-06-24T16:20:10.202156Z",
     "iopub.status.busy": "2021-06-24T16:20:10.201511Z",
     "iopub.status.idle": "2021-06-24T16:20:10.204707Z",
     "shell.execute_reply": "2021-06-24T16:20:10.204218Z"
    },
    "jupyter": {
     "source_hidden": true
    },
    "papermill": {
     "duration": 0.012243,
     "end_time": "2021-06-24T16:20:10.204911",
     "exception": false,
     "start_time": "2021-06-24T16:20:10.192668",
     "status": "completed"
    },
    "tags": [
     "parameters"
    ]
   },
   "outputs": [],
   "source": [
    "# Parameterized\n",
    "\n",
    "filepath='avocado.csv'\n",
    "ml_id='auto_100'\n",
    "ml_date=date.today()\n",
    "n_estimators = 100\n",
    "max_features = 'auto'"
   ]
  },
  {
   "cell_type": "code",
   "execution_count": 4,
   "id": "6fb03037",
   "metadata": {
    "execution": {
     "iopub.execute_input": "2021-06-24T16:20:10.219092Z",
     "iopub.status.busy": "2021-06-24T16:20:10.218581Z",
     "iopub.status.idle": "2021-06-24T16:20:10.221716Z",
     "shell.execute_reply": "2021-06-24T16:20:10.221350Z"
    },
    "jupyter": {
     "source_hidden": true
    },
    "papermill": {
     "duration": 0.011709,
     "end_time": "2021-06-24T16:20:10.221879",
     "exception": false,
     "start_time": "2021-06-24T16:20:10.210170",
     "status": "completed"
    },
    "tags": [
     "injected-parameters"
    ]
   },
   "outputs": [],
   "source": [
    "# Parameters\n",
    "filepath = \"/tmp/avocado.csv\"\n",
    "n_estimators = 100\n",
    "max_features = \"auto\"\n",
    "ml_id = \"auto_100\"\n"
   ]
  },
  {
   "cell_type": "code",
   "execution_count": 5,
   "metadata": {
    "_uuid": "55d0e719eb8b91d763c1eacaf0f51ee0586486fc",
    "execution": {
     "iopub.execute_input": "2021-06-24T16:20:10.234747Z",
     "iopub.status.busy": "2021-06-24T16:20:10.234149Z",
     "iopub.status.idle": "2021-06-24T16:20:10.259118Z",
     "shell.execute_reply": "2021-06-24T16:20:10.259525Z"
    },
    "jupyter": {
     "source_hidden": true
    },
    "papermill": {
     "duration": 0.033449,
     "end_time": "2021-06-24T16:20:10.259734",
     "exception": false,
     "start_time": "2021-06-24T16:20:10.226285",
     "status": "completed"
    },
    "tags": []
   },
   "outputs": [],
   "source": [
    "df= pd.read_csv(filepath)"
   ]
  },
  {
   "cell_type": "markdown",
   "metadata": {
    "_uuid": "434e0457f550e2200424e5ec26162e1aa5904005",
    "papermill": {
     "duration": 0.004692,
     "end_time": "2021-06-24T16:20:10.268997",
     "exception": false,
     "start_time": "2021-06-24T16:20:10.264305",
     "status": "completed"
    },
    "tags": []
   },
   "source": [
    "The Feature \"Unnamed:0\" is just a representation of the indexes, so it's useless to keep it, lets remove it !"
   ]
  },
  {
   "cell_type": "code",
   "execution_count": 6,
   "metadata": {
    "_uuid": "9875398e37728dc3141fed4228be337a4735beb6",
    "execution": {
     "iopub.execute_input": "2021-06-24T16:20:10.283830Z",
     "iopub.status.busy": "2021-06-24T16:20:10.283250Z",
     "iopub.status.idle": "2021-06-24T16:20:10.286215Z",
     "shell.execute_reply": "2021-06-24T16:20:10.285860Z"
    },
    "jupyter": {
     "source_hidden": true
    },
    "papermill": {
     "duration": 0.012474,
     "end_time": "2021-06-24T16:20:10.286415",
     "exception": false,
     "start_time": "2021-06-24T16:20:10.273941",
     "status": "completed"
    },
    "tags": []
   },
   "outputs": [],
   "source": [
    "df.drop('Unnamed: 0',axis=1,inplace=True)"
   ]
  },
  {
   "cell_type": "markdown",
   "metadata": {
    "_uuid": "12e94ad381e4cb8d2c8a9bbe08ce07ab5d49c040",
    "papermill": {
     "duration": 0.004867,
     "end_time": "2021-06-24T16:20:10.295646",
     "exception": false,
     "start_time": "2021-06-24T16:20:10.290779",
     "status": "completed"
    },
    "tags": []
   },
   "source": [
    "well as a first observation we can see that we are lucky, we dont have any missing values (18249 complete data) and 13 columns.\n",
    "Now let's do some Feature Engineering on the Date Feature so we can be able to use the day and the month columns in building our machine learning model later. ( I didn't mention the year because its already there in data frame)"
   ]
  },
  {
   "cell_type": "code",
   "execution_count": 7,
   "metadata": {
    "_uuid": "f031639ce794656e877484d1c9c356df7028177f",
    "execution": {
     "iopub.execute_input": "2021-06-24T16:20:10.309335Z",
     "iopub.status.busy": "2021-06-24T16:20:10.308870Z",
     "iopub.status.idle": "2021-06-24T16:20:10.408888Z",
     "shell.execute_reply": "2021-06-24T16:20:10.408488Z"
    },
    "jupyter": {
     "source_hidden": true
    },
    "papermill": {
     "duration": 0.109167,
     "end_time": "2021-06-24T16:20:10.409073",
     "exception": false,
     "start_time": "2021-06-24T16:20:10.299906",
     "status": "completed"
    },
    "tags": []
   },
   "outputs": [],
   "source": [
    "df['Date']=pd.to_datetime(df['Date'])\n",
    "df['Month']=df['Date'].apply(lambda x:x.month)\n",
    "df['Day']=df['Date'].apply(lambda x:x.day)"
   ]
  },
  {
   "cell_type": "markdown",
   "metadata": {
    "_uuid": "ebdcac9924ce3e366fd3a75170682f7113385b7a",
    "papermill": {
     "duration": 0.004438,
     "end_time": "2021-06-24T16:20:10.418092",
     "exception": false,
     "start_time": "2021-06-24T16:20:10.413654",
     "status": "completed"
    },
    "tags": []
   },
   "source": [
    "as we can see we have 54 regions and 2 unique types, so it's going to be easy to to transform the type feature to dummies, but for the region its going to be a bit complexe so I decided to drop the entire column.\n",
    "I will drop the Date Feature as well because I already have 3 other columns for the Year, Month and Day."
   ]
  },
  {
   "cell_type": "code",
   "execution_count": 8,
   "metadata": {
    "_uuid": "a798682da34327b731ef262985fd50ba68e06460",
    "execution": {
     "iopub.execute_input": "2021-06-24T16:20:10.437098Z",
     "iopub.status.busy": "2021-06-24T16:20:10.436498Z",
     "iopub.status.idle": "2021-06-24T16:20:10.442368Z",
     "shell.execute_reply": "2021-06-24T16:20:10.441989Z"
    },
    "jupyter": {
     "source_hidden": true
    },
    "papermill": {
     "duration": 0.02006,
     "end_time": "2021-06-24T16:20:10.442588",
     "exception": false,
     "start_time": "2021-06-24T16:20:10.422528",
     "status": "completed"
    },
    "tags": []
   },
   "outputs": [],
   "source": [
    "df_final=pd.get_dummies(df.drop(['region','Date'],axis=1),drop_first=True)"
   ]
  },
  {
   "cell_type": "markdown",
   "metadata": {
    "_uuid": "8b74a6b88cb3e9b3e1d1e987e061048f203c7364",
    "papermill": {
     "duration": 0.004699,
     "end_time": "2021-06-24T16:20:10.451869",
     "exception": false,
     "start_time": "2021-06-24T16:20:10.447170",
     "status": "completed"
    },
    "tags": []
   },
   "source": [
    "Now our data are ready! lets apply our model which is going to be the Linear Regression because our Target variable 'AveragePrice'is continuous.\n",
    "Let's now begin to train out regression model! We will need to first split up our data into an X array that contains the features to train on, and a y array with the target variable"
   ]
  },
  {
   "cell_type": "code",
   "execution_count": 9,
   "metadata": {
    "_uuid": "830591f99de9715241e688bf9ce265e979401ff5",
    "execution": {
     "iopub.execute_input": "2021-06-24T16:20:10.467133Z",
     "iopub.status.busy": "2021-06-24T16:20:10.466503Z",
     "iopub.status.idle": "2021-06-24T16:20:10.476266Z",
     "shell.execute_reply": "2021-06-24T16:20:10.475871Z"
    },
    "jupyter": {
     "source_hidden": true
    },
    "papermill": {
     "duration": 0.01884,
     "end_time": "2021-06-24T16:20:10.476486",
     "exception": false,
     "start_time": "2021-06-24T16:20:10.457646",
     "status": "completed"
    },
    "tags": []
   },
   "outputs": [],
   "source": [
    "X=df_final.iloc[:,1:14]\n",
    "y=df_final['AveragePrice']\n",
    "from sklearn.model_selection import train_test_split\n",
    "X_train,X_test,y_train,y_test=train_test_split(X,y,test_size=0.2,random_state=42)"
   ]
  },
  {
   "cell_type": "markdown",
   "metadata": {
    "_uuid": "ea730c77a31cde9de98263079a189accb8b5772b",
    "papermill": {
     "duration": 0.005396,
     "end_time": "2021-06-24T16:20:10.486881",
     "exception": false,
     "start_time": "2021-06-24T16:20:10.481485",
     "status": "completed"
    },
    "tags": []
   },
   "source": [
    "Creating and Training the Model"
   ]
  },
  {
   "cell_type": "code",
   "execution_count": 10,
   "metadata": {
    "_uuid": "eb37015e78974e5fd2ae7e13d065c8ab0a9c6948",
    "execution": {
     "iopub.execute_input": "2021-06-24T16:20:10.502267Z",
     "iopub.status.busy": "2021-06-24T16:20:10.501571Z",
     "iopub.status.idle": "2021-06-24T16:20:17.960933Z",
     "shell.execute_reply": "2021-06-24T16:20:17.961342Z"
    },
    "jupyter": {
     "source_hidden": true
    },
    "papermill": {
     "duration": 7.469126,
     "end_time": "2021-06-24T16:20:17.961617",
     "exception": false,
     "start_time": "2021-06-24T16:20:10.492491",
     "status": "completed"
    },
    "tags": []
   },
   "outputs": [],
   "source": [
    "from sklearn.ensemble import RandomForestRegressor\n",
    "rdr = RandomForestRegressor(\n",
    "    n_estimators=n_estimators,\n",
    "    max_features=max_features\n",
    ")\n",
    "rdr.fit(X_train,y_train)\n",
    "pred=rdr.predict(X_test)"
   ]
  },
  {
   "cell_type": "code",
   "execution_count": 11,
   "metadata": {
    "_uuid": "7ed5b8d4e8abb44a4b548c13ac9fb2d65227d1c5",
    "execution": {
     "iopub.execute_input": "2021-06-24T16:20:17.977479Z",
     "iopub.status.busy": "2021-06-24T16:20:17.976848Z",
     "iopub.status.idle": "2021-06-24T16:20:17.979638Z",
     "shell.execute_reply": "2021-06-24T16:20:17.980026Z"
    },
    "jupyter": {
     "source_hidden": true
    },
    "papermill": {
     "duration": 0.012707,
     "end_time": "2021-06-24T16:20:17.980248",
     "exception": false,
     "start_time": "2021-06-24T16:20:17.967541",
     "status": "completed"
    },
    "tags": []
   },
   "outputs": [],
   "source": [
    "#%%capture cap --no-stderr\n",
    "#print(np.sqrt(mean_squared_error(y_test, pred)))"
   ]
  },
  {
   "cell_type": "code",
   "execution_count": 12,
   "metadata": {
    "execution": {
     "iopub.execute_input": "2021-06-24T16:20:17.996022Z",
     "iopub.status.busy": "2021-06-24T16:20:17.995404Z",
     "iopub.status.idle": "2021-06-24T16:20:17.997636Z",
     "shell.execute_reply": "2021-06-24T16:20:17.998042Z"
    },
    "jupyter": {
     "source_hidden": true
    },
    "papermill": {
     "duration": 0.012581,
     "end_time": "2021-06-24T16:20:17.998283",
     "exception": false,
     "start_time": "2021-06-24T16:20:17.985702",
     "status": "completed"
    },
    "tags": []
   },
   "outputs": [],
   "source": [
    "#with open(output_rmse, 'w') as f:\n",
    "#    f.write(cap.stdout)"
   ]
  },
  {
   "cell_type": "code",
   "execution_count": 13,
   "metadata": {
    "execution": {
     "iopub.execute_input": "2021-06-24T16:20:18.015423Z",
     "iopub.status.busy": "2021-06-24T16:20:18.014733Z",
     "iopub.status.idle": "2021-06-24T16:20:18.035457Z",
     "shell.execute_reply": "2021-06-24T16:20:18.034973Z"
    },
    "jupyter": {
     "source_hidden": true
    },
    "papermill": {
     "duration": 0.03162,
     "end_time": "2021-06-24T16:20:18.035659",
     "exception": false,
     "start_time": "2021-06-24T16:20:18.004039",
     "status": "completed"
    },
    "tags": []
   },
   "outputs": [
    {
     "data": {
      "text/plain": [
       "<sqlalchemy.engine.result.ResultProxy at 0x7f5de2e55150>"
      ]
     },
     "execution_count": 13,
     "metadata": {},
     "output_type": "execute_result"
    }
   ],
   "source": [
    "cnx.execute(\"\"\"\n",
    "    INSERT INTO ml.accuracies (ml_id, ml_date, accuracy) VALUES ('{0}', '{1}', {2}) \n",
    "    ON CONFLICT (ml_id, ml_date) \n",
    "    DO\n",
    "        UPDATE SET accuracy = {2};\n",
    "    \"\"\".format(ml_id, ml_date, np.sqrt(mean_squared_error(y_test, pred))))"
   ]
  }
 ],
 "metadata": {
  "kernelspec": {
   "display_name": "Python 3",
   "language": "python",
   "name": "python3"
  },
  "language_info": {
   "codemirror_mode": {
    "name": "ipython",
    "version": 3
   },
   "file_extension": ".py",
   "mimetype": "text/x-python",
   "name": "python",
   "nbconvert_exporter": "python",
   "pygments_lexer": "ipython3",
   "version": "3.7.10"
  },
  "papermill": {
   "duration": 10.093552,
   "end_time": "2021-06-24T16:20:18.454439",
   "environment_variables": {},
   "exception": null,
   "input_path": "/usr/local/airflow/include/notebooks/avocado_prediction.ipynb",
   "output_path": "/tmp/out-model-avocado-prediction-auto_100.ipynb",
   "parameters": {
    "filepath": "/tmp/avocado.csv",
    "max_features": "auto",
    "ml_id": "auto_100",
    "n_estimators": 100
   },
   "start_time": "2021-06-24T16:20:08.360887",
   "version": "2.1.2"
  }
 },
 "nbformat": 4,
 "nbformat_minor": 4
}