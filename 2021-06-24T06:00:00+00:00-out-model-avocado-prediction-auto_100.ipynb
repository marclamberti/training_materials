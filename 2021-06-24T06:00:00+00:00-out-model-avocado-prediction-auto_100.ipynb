{
 "cells": [
  {
   "cell_type": "code",
   "execution_count": 1,
   "metadata": {
    "_cell_guid": "79c7e3d0-c299-4dcb-8224-4455121ee9b0",
    "_uuid": "d629ff2d2480ee46fbb7e2d37f6b5fab8052498a",
    "execution": {
     "iopub.execute_input": "2021-06-24T06:10:09.117333Z",
     "iopub.status.busy": "2021-06-24T06:10:09.116626Z",
     "iopub.status.idle": "2021-06-24T06:10:09.768231Z",
     "shell.execute_reply": "2021-06-24T06:10:09.767236Z"
    },
    "jupyter": {
     "source_hidden": true
    },
    "papermill": {
     "duration": 0.665509,
     "end_time": "2021-06-24T06:10:09.768520",
     "exception": false,
     "start_time": "2021-06-24T06:10:09.103011",
     "status": "completed"
    },
    "tags": []
   },
   "outputs": [],
   "source": [
    "import pandas as pd\n",
    "import numpy as np\n",
    "from sqlalchemy import create_engine\n",
    "from datetime import date\n",
    "from sklearn.metrics import mean_squared_error"
   ]
  },
  {
   "cell_type": "code",
   "execution_count": 2,
   "metadata": {
    "execution": {
     "iopub.execute_input": "2021-06-24T06:10:09.787347Z",
     "iopub.status.busy": "2021-06-24T06:10:09.786709Z",
     "iopub.status.idle": "2021-06-24T06:10:09.812759Z",
     "shell.execute_reply": "2021-06-24T06:10:09.812317Z"
    },
    "jupyter": {
     "source_hidden": true
    },
    "papermill": {
     "duration": 0.037462,
     "end_time": "2021-06-24T06:10:09.813015",
     "exception": false,
     "start_time": "2021-06-24T06:10:09.775553",
     "status": "completed"
    },
    "tags": []
   },
   "outputs": [],
   "source": [
    "# THIS IS PURELY FOR TEST PURPOSE NEVER DO THAT IN PRODUCTION\n",
    "POSTGRES_ADDRESS='postgres'\n",
    "POSTGRES_PORT='5432'\n",
    "POSTGRES_USERNAME='postgres'\n",
    "POSTGRES_PASSWORD='postgres'\n",
    "\n",
    "postgres_conn = 'postgresql://{0}:{1}@{2}:{3}/'.format(POSTGRES_USERNAME, POSTGRES_PASSWORD, POSTGRES_ADDRESS, POSTGRES_PORT)\n",
    "\n",
    "# Create the connection\n",
    "cnx = create_engine(postgres_conn)\n"
   ]
  },
  {
   "cell_type": "markdown",
   "metadata": {
    "_uuid": "1998755ef10683262b29765345cff1c1c7d10b15",
    "papermill": {
     "duration": 0.00548,
     "end_time": "2021-06-24T06:10:09.823604",
     "exception": false,
     "start_time": "2021-06-24T06:10:09.818124",
     "status": "completed"
    },
    "tags": []
   },
   "source": [
    "Read in the Avocado Prices csv file as a DataFrame called df"
   ]
  },
  {
   "cell_type": "code",
   "execution_count": 3,
   "metadata": {
    "execution": {
     "iopub.execute_input": "2021-06-24T06:10:09.838241Z",
     "iopub.status.busy": "2021-06-24T06:10:09.837614Z",
     "iopub.status.idle": "2021-06-24T06:10:09.840452Z",
     "shell.execute_reply": "2021-06-24T06:10:09.840015Z"
    },
    "jupyter": {
     "source_hidden": true
    },
    "papermill": {
     "duration": 0.012077,
     "end_time": "2021-06-24T06:10:09.840656",
     "exception": false,
     "start_time": "2021-06-24T06:10:09.828579",
     "status": "completed"
    },
    "tags": [
     "parameters"
    ]
   },
   "outputs": [],
   "source": [
    "# Parameterized\n",
    "\n",
    "filepath='avocado.csv'\n",
    "ml_id='auto_100'\n",
    "ml_date=date.today()\n",
    "n_estimators = 100\n",
    "max_features = 'auto'"
   ]
  },
  {
   "cell_type": "code",
   "execution_count": 4,
   "id": "c28ec856",
   "metadata": {
    "execution": {
     "iopub.execute_input": "2021-06-24T06:10:09.855293Z",
     "iopub.status.busy": "2021-06-24T06:10:09.854726Z",
     "iopub.status.idle": "2021-06-24T06:10:09.857685Z",
     "shell.execute_reply": "2021-06-24T06:10:09.857287Z"
    },
    "jupyter": {
     "source_hidden": true
    },
    "papermill": {
     "duration": 0.011837,
     "end_time": "2021-06-24T06:10:09.857924",
     "exception": false,
     "start_time": "2021-06-24T06:10:09.846087",
     "status": "completed"
    },
    "tags": [
     "injected-parameters"
    ]
   },
   "outputs": [],
   "source": [
    "# Parameters\n",
    "filepath = \"/tmp/avocado.csv\"\n",
    "n_estimators = 100\n",
    "max_features = \"auto\"\n",
    "ml_id = \"auto_100\"\n"
   ]
  },
  {
   "cell_type": "code",
   "execution_count": 5,
   "metadata": {
    "_uuid": "55d0e719eb8b91d763c1eacaf0f51ee0586486fc",
    "execution": {
     "iopub.execute_input": "2021-06-24T06:10:09.871367Z",
     "iopub.status.busy": "2021-06-24T06:10:09.870894Z",
     "iopub.status.idle": "2021-06-24T06:10:09.896636Z",
     "shell.execute_reply": "2021-06-24T06:10:09.896085Z"
    },
    "jupyter": {
     "source_hidden": true
    },
    "papermill": {
     "duration": 0.034312,
     "end_time": "2021-06-24T06:10:09.896976",
     "exception": false,
     "start_time": "2021-06-24T06:10:09.862664",
     "status": "completed"
    },
    "tags": []
   },
   "outputs": [],
   "source": [
    "df= pd.read_csv(filepath)"
   ]
  },
  {
   "cell_type": "markdown",
   "metadata": {
    "_uuid": "434e0457f550e2200424e5ec26162e1aa5904005",
    "papermill": {
     "duration": 0.004903,
     "end_time": "2021-06-24T06:10:09.907220",
     "exception": false,
     "start_time": "2021-06-24T06:10:09.902317",
     "status": "completed"
    },
    "tags": []
   },
   "source": [
    "The Feature \"Unnamed:0\" is just a representation of the indexes, so it's useless to keep it, lets remove it !"
   ]
  },
  {
   "cell_type": "code",
   "execution_count": 6,
   "metadata": {
    "_uuid": "9875398e37728dc3141fed4228be337a4735beb6",
    "execution": {
     "iopub.execute_input": "2021-06-24T06:10:09.922989Z",
     "iopub.status.busy": "2021-06-24T06:10:09.922408Z",
     "iopub.status.idle": "2021-06-24T06:10:09.925136Z",
     "shell.execute_reply": "2021-06-24T06:10:09.924734Z"
    },
    "jupyter": {
     "source_hidden": true
    },
    "papermill": {
     "duration": 0.012951,
     "end_time": "2021-06-24T06:10:09.925304",
     "exception": false,
     "start_time": "2021-06-24T06:10:09.912353",
     "status": "completed"
    },
    "tags": []
   },
   "outputs": [],
   "source": [
    "df.drop('Unnamed: 0',axis=1,inplace=True)"
   ]
  },
  {
   "cell_type": "markdown",
   "metadata": {
    "_uuid": "12e94ad381e4cb8d2c8a9bbe08ce07ab5d49c040",
    "papermill": {
     "duration": 0.005024,
     "end_time": "2021-06-24T06:10:09.934876",
     "exception": false,
     "start_time": "2021-06-24T06:10:09.929852",
     "status": "completed"
    },
    "tags": []
   },
   "source": [
    "well as a first observation we can see that we are lucky, we dont have any missing values (18249 complete data) and 13 columns.\n",
    "Now let's do some Feature Engineering on the Date Feature so we can be able to use the day and the month columns in building our machine learning model later. ( I didn't mention the year because its already there in data frame)"
   ]
  },
  {
   "cell_type": "code",
   "execution_count": 7,
   "metadata": {
    "_uuid": "f031639ce794656e877484d1c9c356df7028177f",
    "execution": {
     "iopub.execute_input": "2021-06-24T06:10:09.948568Z",
     "iopub.status.busy": "2021-06-24T06:10:09.948092Z",
     "iopub.status.idle": "2021-06-24T06:10:10.057964Z",
     "shell.execute_reply": "2021-06-24T06:10:10.058331Z"
    },
    "jupyter": {
     "source_hidden": true
    },
    "papermill": {
     "duration": 0.119332,
     "end_time": "2021-06-24T06:10:10.058552",
     "exception": false,
     "start_time": "2021-06-24T06:10:09.939220",
     "status": "completed"
    },
    "tags": []
   },
   "outputs": [],
   "source": [
    "df['Date']=pd.to_datetime(df['Date'])\n",
    "df['Month']=df['Date'].apply(lambda x:x.month)\n",
    "df['Day']=df['Date'].apply(lambda x:x.day)"
   ]
  },
  {
   "cell_type": "markdown",
   "metadata": {
    "_uuid": "ebdcac9924ce3e366fd3a75170682f7113385b7a",
    "papermill": {
     "duration": 0.005791,
     "end_time": "2021-06-24T06:10:10.069855",
     "exception": false,
     "start_time": "2021-06-24T06:10:10.064064",
     "status": "completed"
    },
    "tags": []
   },
   "source": [
    "as we can see we have 54 regions and 2 unique types, so it's going to be easy to to transform the type feature to dummies, but for the region its going to be a bit complexe so I decided to drop the entire column.\n",
    "I will drop the Date Feature as well because I already have 3 other columns for the Year, Month and Day."
   ]
  },
  {
   "cell_type": "code",
   "execution_count": 8,
   "metadata": {
    "_uuid": "a798682da34327b731ef262985fd50ba68e06460",
    "execution": {
     "iopub.execute_input": "2021-06-24T06:10:10.091658Z",
     "iopub.status.busy": "2021-06-24T06:10:10.086403Z",
     "iopub.status.idle": "2021-06-24T06:10:10.096458Z",
     "shell.execute_reply": "2021-06-24T06:10:10.096907Z"
    },
    "jupyter": {
     "source_hidden": true
    },
    "papermill": {
     "duration": 0.021717,
     "end_time": "2021-06-24T06:10:10.097151",
     "exception": false,
     "start_time": "2021-06-24T06:10:10.075434",
     "status": "completed"
    },
    "tags": []
   },
   "outputs": [],
   "source": [
    "df_final=pd.get_dummies(df.drop(['region','Date'],axis=1),drop_first=True)"
   ]
  },
  {
   "cell_type": "markdown",
   "metadata": {
    "_uuid": "8b74a6b88cb3e9b3e1d1e987e061048f203c7364",
    "papermill": {
     "duration": 0.005716,
     "end_time": "2021-06-24T06:10:10.108693",
     "exception": false,
     "start_time": "2021-06-24T06:10:10.102977",
     "status": "completed"
    },
    "tags": []
   },
   "source": [
    "Now our data are ready! lets apply our model which is going to be the Linear Regression because our Target variable 'AveragePrice'is continuous.\n",
    "Let's now begin to train out regression model! We will need to first split up our data into an X array that contains the features to train on, and a y array with the target variable"
   ]
  },
  {
   "cell_type": "code",
   "execution_count": 9,
   "metadata": {
    "_uuid": "830591f99de9715241e688bf9ce265e979401ff5",
    "execution": {
     "iopub.execute_input": "2021-06-24T06:10:10.125251Z",
     "iopub.status.busy": "2021-06-24T06:10:10.124603Z",
     "iopub.status.idle": "2021-06-24T06:10:10.135546Z",
     "shell.execute_reply": "2021-06-24T06:10:10.134839Z"
    },
    "jupyter": {
     "source_hidden": true
    },
    "papermill": {
     "duration": 0.021655,
     "end_time": "2021-06-24T06:10:10.135802",
     "exception": false,
     "start_time": "2021-06-24T06:10:10.114147",
     "status": "completed"
    },
    "tags": []
   },
   "outputs": [],
   "source": [
    "X=df_final.iloc[:,1:14]\n",
    "y=df_final['AveragePrice']\n",
    "from sklearn.model_selection import train_test_split\n",
    "X_train,X_test,y_train,y_test=train_test_split(X,y,test_size=0.2,random_state=42)"
   ]
  },
  {
   "cell_type": "markdown",
   "metadata": {
    "_uuid": "ea730c77a31cde9de98263079a189accb8b5772b",
    "papermill": {
     "duration": 0.005816,
     "end_time": "2021-06-24T06:10:10.147435",
     "exception": false,
     "start_time": "2021-06-24T06:10:10.141619",
     "status": "completed"
    },
    "tags": []
   },
   "source": [
    "Creating and Training the Model"
   ]
  },
  {
   "cell_type": "code",
   "execution_count": 10,
   "metadata": {
    "_uuid": "eb37015e78974e5fd2ae7e13d065c8ab0a9c6948",
    "execution": {
     "iopub.execute_input": "2021-06-24T06:10:10.163545Z",
     "iopub.status.busy": "2021-06-24T06:10:10.162799Z",
     "iopub.status.idle": "2021-06-24T06:10:17.782681Z",
     "shell.execute_reply": "2021-06-24T06:10:17.782222Z"
    },
    "jupyter": {
     "source_hidden": true
    },
    "papermill": {
     "duration": 7.629921,
     "end_time": "2021-06-24T06:10:17.782939",
     "exception": false,
     "start_time": "2021-06-24T06:10:10.153018",
     "status": "completed"
    },
    "tags": []
   },
   "outputs": [],
   "source": [
    "from sklearn.ensemble import RandomForestRegressor\n",
    "rdr = RandomForestRegressor(\n",
    "    n_estimators=n_estimators,\n",
    "    max_features=max_features\n",
    ")\n",
    "rdr.fit(X_train,y_train)\n",
    "pred=rdr.predict(X_test)"
   ]
  },
  {
   "cell_type": "code",
   "execution_count": 11,
   "metadata": {
    "_uuid": "7ed5b8d4e8abb44a4b548c13ac9fb2d65227d1c5",
    "execution": {
     "iopub.execute_input": "2021-06-24T06:10:17.797930Z",
     "iopub.status.busy": "2021-06-24T06:10:17.797277Z",
     "iopub.status.idle": "2021-06-24T06:10:17.800308Z",
     "shell.execute_reply": "2021-06-24T06:10:17.799883Z"
    },
    "jupyter": {
     "source_hidden": true
    },
    "papermill": {
     "duration": 0.011645,
     "end_time": "2021-06-24T06:10:17.800502",
     "exception": false,
     "start_time": "2021-06-24T06:10:17.788857",
     "status": "completed"
    },
    "tags": []
   },
   "outputs": [],
   "source": [
    "#%%capture cap --no-stderr\n",
    "#print(np.sqrt(mean_squared_error(y_test, pred)))"
   ]
  },
  {
   "cell_type": "code",
   "execution_count": 12,
   "metadata": {
    "execution": {
     "iopub.execute_input": "2021-06-24T06:10:17.814984Z",
     "iopub.status.busy": "2021-06-24T06:10:17.814351Z",
     "iopub.status.idle": "2021-06-24T06:10:17.817482Z",
     "shell.execute_reply": "2021-06-24T06:10:17.817072Z"
    },
    "jupyter": {
     "source_hidden": true
    },
    "papermill": {
     "duration": 0.011764,
     "end_time": "2021-06-24T06:10:17.817713",
     "exception": false,
     "start_time": "2021-06-24T06:10:17.805949",
     "status": "completed"
    },
    "tags": []
   },
   "outputs": [],
   "source": [
    "#with open(output_rmse, 'w') as f:\n",
    "#    f.write(cap.stdout)"
   ]
  },
  {
   "cell_type": "code",
   "execution_count": 13,
   "metadata": {
    "execution": {
     "iopub.execute_input": "2021-06-24T06:10:17.834954Z",
     "iopub.status.busy": "2021-06-24T06:10:17.834287Z",
     "iopub.status.idle": "2021-06-24T06:10:17.854379Z",
     "shell.execute_reply": "2021-06-24T06:10:17.853829Z"
    },
    "jupyter": {
     "source_hidden": true
    },
    "papermill": {
     "duration": 0.030836,
     "end_time": "2021-06-24T06:10:17.854588",
     "exception": false,
     "start_time": "2021-06-24T06:10:17.823752",
     "status": "completed"
    },
    "tags": []
   },
   "outputs": [
    {
     "data": {
      "text/plain": [
       "<sqlalchemy.engine.result.ResultProxy at 0x7f1fd74b1890>"
      ]
     },
     "execution_count": 13,
     "metadata": {},
     "output_type": "execute_result"
    }
   ],
   "source": [
    "cnx.execute(\"\"\"\n",
    "    INSERT INTO ml.accuracies (ml_id, ml_date, accuracy) VALUES ('{0}', '{1}', {2}) \n",
    "    ON CONFLICT (ml_id, ml_date) \n",
    "    DO\n",
    "        UPDATE SET accuracy = {2};\n",
    "    \"\"\".format(ml_id, ml_date, np.sqrt(mean_squared_error(y_test, pred))))"
   ]
  }
 ],
 "metadata": {
  "kernelspec": {
   "display_name": "Python 3",
   "language": "python",
   "name": "python3"
  },
  "language_info": {
   "codemirror_mode": {
    "name": "ipython",
    "version": 3
   },
   "file_extension": ".py",
   "mimetype": "text/x-python",
   "name": "python",
   "nbconvert_exporter": "python",
   "pygments_lexer": "ipython3",
   "version": "3.7.10"
  },
  "papermill": {
   "duration": 10.296526,
   "end_time": "2021-06-24T06:10:18.271774",
   "environment_variables": {},
   "exception": null,
   "input_path": "/usr/local/airflow/include/notebooks/avocado_prediction.ipynb",
   "output_path": "/tmp/out-model-avocado-prediction-auto_100.ipynb",
   "parameters": {
    "filepath": "/tmp/avocado.csv",
    "max_features": "auto",
    "ml_id": "auto_100",
    "n_estimators": 100
   },
   "start_time": "2021-06-24T06:10:07.975248",
   "version": "2.1.2"
  }
 },
 "nbformat": 4,
 "nbformat_minor": 4
}