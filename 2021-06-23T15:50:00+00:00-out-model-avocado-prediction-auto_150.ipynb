{
 "cells": [
  {
   "cell_type": "code",
   "execution_count": 1,
   "metadata": {
    "_cell_guid": "79c7e3d0-c299-4dcb-8224-4455121ee9b0",
    "_uuid": "d629ff2d2480ee46fbb7e2d37f6b5fab8052498a",
    "execution": {
     "iopub.execute_input": "2021-06-23T16:00:20.938505Z",
     "iopub.status.busy": "2021-06-23T16:00:20.937664Z",
     "iopub.status.idle": "2021-06-23T16:00:22.009339Z",
     "shell.execute_reply": "2021-06-23T16:00:22.009809Z"
    },
    "jupyter": {
     "source_hidden": true
    },
    "papermill": {
     "duration": 1.098472,
     "end_time": "2021-06-23T16:00:22.010088",
     "exception": false,
     "start_time": "2021-06-23T16:00:20.911616",
     "status": "completed"
    },
    "tags": []
   },
   "outputs": [],
   "source": [
    "import pandas as pd\n",
    "import numpy as np\n",
    "from sqlalchemy import create_engine\n",
    "from datetime import date\n",
    "from sklearn.metrics import mean_squared_error"
   ]
  },
  {
   "cell_type": "code",
   "execution_count": 2,
   "metadata": {
    "execution": {
     "iopub.execute_input": "2021-06-23T16:00:22.031748Z",
     "iopub.status.busy": "2021-06-23T16:00:22.027795Z",
     "iopub.status.idle": "2021-06-23T16:00:22.066453Z",
     "shell.execute_reply": "2021-06-23T16:00:22.065502Z"
    },
    "jupyter": {
     "source_hidden": true
    },
    "papermill": {
     "duration": 0.048173,
     "end_time": "2021-06-23T16:00:22.066578",
     "exception": false,
     "start_time": "2021-06-23T16:00:22.018405",
     "status": "completed"
    },
    "tags": []
   },
   "outputs": [],
   "source": [
    "# THIS IS PURELY FOR TEST PURPOSE NEVER DO THAT IN PRODUCTION\n",
    "POSTGRES_ADDRESS='postgres'\n",
    "POSTGRES_PORT='5432'\n",
    "POSTGRES_USERNAME='postgres'\n",
    "POSTGRES_PASSWORD='postgres'\n",
    "\n",
    "postgres_conn = 'postgresql://{0}:{1}@{2}:{3}/'.format(POSTGRES_USERNAME, POSTGRES_PASSWORD, POSTGRES_ADDRESS, POSTGRES_PORT)\n",
    "\n",
    "# Create the connection\n",
    "cnx = create_engine(postgres_conn)\n"
   ]
  },
  {
   "cell_type": "markdown",
   "metadata": {
    "_uuid": "1998755ef10683262b29765345cff1c1c7d10b15",
    "papermill": {
     "duration": 0.006154,
     "end_time": "2021-06-23T16:00:22.079249",
     "exception": false,
     "start_time": "2021-06-23T16:00:22.073095",
     "status": "completed"
    },
    "tags": []
   },
   "source": [
    "Read in the Avocado Prices csv file as a DataFrame called df"
   ]
  },
  {
   "cell_type": "code",
   "execution_count": 3,
   "metadata": {
    "execution": {
     "iopub.execute_input": "2021-06-23T16:00:22.099884Z",
     "iopub.status.busy": "2021-06-23T16:00:22.097727Z",
     "iopub.status.idle": "2021-06-23T16:00:22.100562Z",
     "shell.execute_reply": "2021-06-23T16:00:22.100943Z"
    },
    "jupyter": {
     "source_hidden": true
    },
    "papermill": {
     "duration": 0.015394,
     "end_time": "2021-06-23T16:00:22.101070",
     "exception": false,
     "start_time": "2021-06-23T16:00:22.085676",
     "status": "completed"
    },
    "tags": [
     "parameters"
    ]
   },
   "outputs": [],
   "source": [
    "# Parameterized\n",
    "\n",
    "filepath='avocado.csv'\n",
    "ml_id='auto_100'\n",
    "ml_date=date.today()\n",
    "n_estimators = 100\n",
    "max_features = 'auto'"
   ]
  },
  {
   "cell_type": "code",
   "execution_count": 4,
   "id": "7ee007cc",
   "metadata": {
    "execution": {
     "iopub.execute_input": "2021-06-23T16:00:22.121212Z",
     "iopub.status.busy": "2021-06-23T16:00:22.120565Z",
     "iopub.status.idle": "2021-06-23T16:00:22.124300Z",
     "shell.execute_reply": "2021-06-23T16:00:22.124657Z"
    },
    "jupyter": {
     "source_hidden": true
    },
    "papermill": {
     "duration": 0.015784,
     "end_time": "2021-06-23T16:00:22.124778",
     "exception": false,
     "start_time": "2021-06-23T16:00:22.108994",
     "status": "completed"
    },
    "tags": [
     "injected-parameters"
    ]
   },
   "outputs": [],
   "source": [
    "# Parameters\n",
    "filepath = \"/tmp/avocado.csv\"\n",
    "n_estimators = 150\n",
    "max_features = \"auto\"\n",
    "ml_id = \"auto_150\"\n"
   ]
  },
  {
   "cell_type": "code",
   "execution_count": 5,
   "metadata": {
    "_uuid": "55d0e719eb8b91d763c1eacaf0f51ee0586486fc",
    "execution": {
     "iopub.execute_input": "2021-06-23T16:00:22.145537Z",
     "iopub.status.busy": "2021-06-23T16:00:22.144711Z",
     "iopub.status.idle": "2021-06-23T16:00:22.188435Z",
     "shell.execute_reply": "2021-06-23T16:00:22.189460Z"
    },
    "jupyter": {
     "source_hidden": true
    },
    "papermill": {
     "duration": 0.056887,
     "end_time": "2021-06-23T16:00:22.189718",
     "exception": false,
     "start_time": "2021-06-23T16:00:22.132831",
     "status": "completed"
    },
    "tags": []
   },
   "outputs": [],
   "source": [
    "df= pd.read_csv(filepath)"
   ]
  },
  {
   "cell_type": "markdown",
   "metadata": {
    "_uuid": "434e0457f550e2200424e5ec26162e1aa5904005",
    "papermill": {
     "duration": 0.008007,
     "end_time": "2021-06-23T16:00:22.204972",
     "exception": false,
     "start_time": "2021-06-23T16:00:22.196965",
     "status": "completed"
    },
    "tags": []
   },
   "source": [
    "The Feature \"Unnamed:0\" is just a representation of the indexes, so it's useless to keep it, lets remove it !"
   ]
  },
  {
   "cell_type": "code",
   "execution_count": 6,
   "metadata": {
    "_uuid": "9875398e37728dc3141fed4228be337a4735beb6",
    "execution": {
     "iopub.execute_input": "2021-06-23T16:00:22.225805Z",
     "iopub.status.busy": "2021-06-23T16:00:22.224958Z",
     "iopub.status.idle": "2021-06-23T16:00:22.231299Z",
     "shell.execute_reply": "2021-06-23T16:00:22.231959Z"
    },
    "jupyter": {
     "source_hidden": true
    },
    "papermill": {
     "duration": 0.019461,
     "end_time": "2021-06-23T16:00:22.232173",
     "exception": false,
     "start_time": "2021-06-23T16:00:22.212712",
     "status": "completed"
    },
    "tags": []
   },
   "outputs": [],
   "source": [
    "df.drop('Unnamed: 0',axis=1,inplace=True)"
   ]
  },
  {
   "cell_type": "markdown",
   "metadata": {
    "_uuid": "12e94ad381e4cb8d2c8a9bbe08ce07ab5d49c040",
    "papermill": {
     "duration": 0.007651,
     "end_time": "2021-06-23T16:00:22.247461",
     "exception": false,
     "start_time": "2021-06-23T16:00:22.239810",
     "status": "completed"
    },
    "tags": []
   },
   "source": [
    "well as a first observation we can see that we are lucky, we dont have any missing values (18249 complete data) and 13 columns.\n",
    "Now let's do some Feature Engineering on the Date Feature so we can be able to use the day and the month columns in building our machine learning model later. ( I didn't mention the year because its already there in data frame)"
   ]
  },
  {
   "cell_type": "code",
   "execution_count": 7,
   "metadata": {
    "_uuid": "f031639ce794656e877484d1c9c356df7028177f",
    "execution": {
     "iopub.execute_input": "2021-06-23T16:00:22.269451Z",
     "iopub.status.busy": "2021-06-23T16:00:22.268654Z",
     "iopub.status.idle": "2021-06-23T16:00:22.486772Z",
     "shell.execute_reply": "2021-06-23T16:00:22.485599Z"
    },
    "jupyter": {
     "source_hidden": true
    },
    "papermill": {
     "duration": 0.232024,
     "end_time": "2021-06-23T16:00:22.487009",
     "exception": false,
     "start_time": "2021-06-23T16:00:22.254985",
     "status": "completed"
    },
    "tags": []
   },
   "outputs": [],
   "source": [
    "df['Date']=pd.to_datetime(df['Date'])\n",
    "df['Month']=df['Date'].apply(lambda x:x.month)\n",
    "df['Day']=df['Date'].apply(lambda x:x.day)"
   ]
  },
  {
   "cell_type": "markdown",
   "metadata": {
    "_uuid": "ebdcac9924ce3e366fd3a75170682f7113385b7a",
    "papermill": {
     "duration": 0.00752,
     "end_time": "2021-06-23T16:00:22.504661",
     "exception": false,
     "start_time": "2021-06-23T16:00:22.497141",
     "status": "completed"
    },
    "tags": []
   },
   "source": [
    "as we can see we have 54 regions and 2 unique types, so it's going to be easy to to transform the type feature to dummies, but for the region its going to be a bit complexe so I decided to drop the entire column.\n",
    "I will drop the Date Feature as well because I already have 3 other columns for the Year, Month and Day."
   ]
  },
  {
   "cell_type": "code",
   "execution_count": 8,
   "metadata": {
    "_uuid": "a798682da34327b731ef262985fd50ba68e06460",
    "execution": {
     "iopub.execute_input": "2021-06-23T16:00:22.539557Z",
     "iopub.status.busy": "2021-06-23T16:00:22.536746Z",
     "iopub.status.idle": "2021-06-23T16:00:22.558908Z",
     "shell.execute_reply": "2021-06-23T16:00:22.560130Z"
    },
    "jupyter": {
     "source_hidden": true
    },
    "papermill": {
     "duration": 0.04891,
     "end_time": "2021-06-23T16:00:22.560347",
     "exception": false,
     "start_time": "2021-06-23T16:00:22.511437",
     "status": "completed"
    },
    "tags": []
   },
   "outputs": [],
   "source": [
    "df_final=pd.get_dummies(df.drop(['region','Date'],axis=1),drop_first=True)"
   ]
  },
  {
   "cell_type": "markdown",
   "metadata": {
    "_uuid": "8b74a6b88cb3e9b3e1d1e987e061048f203c7364",
    "papermill": {
     "duration": 0.00713,
     "end_time": "2021-06-23T16:00:22.576162",
     "exception": false,
     "start_time": "2021-06-23T16:00:22.569032",
     "status": "completed"
    },
    "tags": []
   },
   "source": [
    "Now our data are ready! lets apply our model which is going to be the Linear Regression because our Target variable 'AveragePrice'is continuous.\n",
    "Let's now begin to train out regression model! We will need to first split up our data into an X array that contains the features to train on, and a y array with the target variable"
   ]
  },
  {
   "cell_type": "code",
   "execution_count": 9,
   "metadata": {
    "_uuid": "830591f99de9715241e688bf9ce265e979401ff5",
    "execution": {
     "iopub.execute_input": "2021-06-23T16:00:22.598908Z",
     "iopub.status.busy": "2021-06-23T16:00:22.598401Z",
     "iopub.status.idle": "2021-06-23T16:00:22.607440Z",
     "shell.execute_reply": "2021-06-23T16:00:22.607877Z"
    },
    "jupyter": {
     "source_hidden": true
    },
    "papermill": {
     "duration": 0.025105,
     "end_time": "2021-06-23T16:00:22.608013",
     "exception": false,
     "start_time": "2021-06-23T16:00:22.582908",
     "status": "completed"
    },
    "tags": []
   },
   "outputs": [],
   "source": [
    "X=df_final.iloc[:,1:14]\n",
    "y=df_final['AveragePrice']\n",
    "from sklearn.model_selection import train_test_split\n",
    "X_train,X_test,y_train,y_test=train_test_split(X,y,test_size=0.2,random_state=42)"
   ]
  },
  {
   "cell_type": "markdown",
   "metadata": {
    "_uuid": "ea730c77a31cde9de98263079a189accb8b5772b",
    "papermill": {
     "duration": 0.007724,
     "end_time": "2021-06-23T16:00:22.623585",
     "exception": false,
     "start_time": "2021-06-23T16:00:22.615861",
     "status": "completed"
    },
    "tags": []
   },
   "source": [
    "Creating and Training the Model"
   ]
  },
  {
   "cell_type": "code",
   "execution_count": 10,
   "metadata": {
    "_uuid": "eb37015e78974e5fd2ae7e13d065c8ab0a9c6948",
    "execution": {
     "iopub.execute_input": "2021-06-23T16:00:22.642928Z",
     "iopub.status.busy": "2021-06-23T16:00:22.642135Z",
     "iopub.status.idle": "2021-06-23T16:00:49.548764Z",
     "shell.execute_reply": "2021-06-23T16:00:49.550566Z"
    },
    "jupyter": {
     "source_hidden": true
    },
    "papermill": {
     "duration": 26.920123,
     "end_time": "2021-06-23T16:00:49.550822",
     "exception": false,
     "start_time": "2021-06-23T16:00:22.630699",
     "status": "completed"
    },
    "tags": []
   },
   "outputs": [],
   "source": [
    "from sklearn.ensemble import RandomForestRegressor\n",
    "rdr = RandomForestRegressor(\n",
    "    n_estimators=n_estimators,\n",
    "    max_features=max_features\n",
    ")\n",
    "rdr.fit(X_train,y_train)\n",
    "pred=rdr.predict(X_test)"
   ]
  },
  {
   "cell_type": "code",
   "execution_count": 11,
   "metadata": {
    "_uuid": "7ed5b8d4e8abb44a4b548c13ac9fb2d65227d1c5",
    "execution": {
     "iopub.execute_input": "2021-06-23T16:00:49.593330Z",
     "iopub.status.busy": "2021-06-23T16:00:49.592446Z",
     "iopub.status.idle": "2021-06-23T16:00:49.602107Z",
     "shell.execute_reply": "2021-06-23T16:00:49.601453Z"
    },
    "jupyter": {
     "source_hidden": true
    },
    "papermill": {
     "duration": 0.036821,
     "end_time": "2021-06-23T16:00:49.602704",
     "exception": false,
     "start_time": "2021-06-23T16:00:49.565883",
     "status": "completed"
    },
    "tags": []
   },
   "outputs": [],
   "source": [
    "#%%capture cap --no-stderr\n",
    "#print(np.sqrt(mean_squared_error(y_test, pred)))"
   ]
  },
  {
   "cell_type": "code",
   "execution_count": 12,
   "metadata": {
    "execution": {
     "iopub.execute_input": "2021-06-23T16:00:49.646838Z",
     "iopub.status.busy": "2021-06-23T16:00:49.645790Z",
     "iopub.status.idle": "2021-06-23T16:00:49.651681Z",
     "shell.execute_reply": "2021-06-23T16:00:49.652365Z"
    },
    "jupyter": {
     "source_hidden": true
    },
    "papermill": {
     "duration": 0.023091,
     "end_time": "2021-06-23T16:00:49.652509",
     "exception": false,
     "start_time": "2021-06-23T16:00:49.629418",
     "status": "completed"
    },
    "tags": []
   },
   "outputs": [],
   "source": [
    "#with open(output_rmse, 'w') as f:\n",
    "#    f.write(cap.stdout)"
   ]
  },
  {
   "cell_type": "code",
   "execution_count": 13,
   "metadata": {
    "execution": {
     "iopub.execute_input": "2021-06-23T16:00:49.685578Z",
     "iopub.status.busy": "2021-06-23T16:00:49.684667Z",
     "iopub.status.idle": "2021-06-23T16:00:49.729547Z",
     "shell.execute_reply": "2021-06-23T16:00:49.729954Z"
    },
    "jupyter": {
     "source_hidden": true
    },
    "papermill": {
     "duration": 0.068698,
     "end_time": "2021-06-23T16:00:49.730240",
     "exception": false,
     "start_time": "2021-06-23T16:00:49.661542",
     "status": "completed"
    },
    "tags": []
   },
   "outputs": [
    {
     "data": {
      "text/plain": [
       "<sqlalchemy.engine.result.ResultProxy at 0x7f7b385ff910>"
      ]
     },
     "execution_count": 13,
     "metadata": {},
     "output_type": "execute_result"
    }
   ],
   "source": [
    "cnx.execute(\"\"\"\n",
    "    INSERT INTO ml.accuracies (ml_id, ml_date, accuracy) VALUES ('{0}', '{1}', {2}) \n",
    "    ON CONFLICT (ml_id, ml_date) \n",
    "    DO\n",
    "        UPDATE SET accuracy = {2};\n",
    "    \"\"\".format(ml_id, ml_date, np.sqrt(mean_squared_error(y_test, pred))))"
   ]
  }
 ],
 "metadata": {
  "kernelspec": {
   "display_name": "Python 3",
   "language": "python",
   "name": "python3"
  },
  "language_info": {
   "codemirror_mode": {
    "name": "ipython",
    "version": 3
   },
   "file_extension": ".py",
   "mimetype": "text/x-python",
   "name": "python",
   "nbconvert_exporter": "python",
   "pygments_lexer": "ipython3",
   "version": "3.7.10"
  },
  "papermill": {
   "duration": 31.119611,
   "end_time": "2021-06-23T16:00:50.476927",
   "environment_variables": {},
   "exception": null,
   "input_path": "/usr/local/airflow/include/notebooks/avocado_prediction.ipynb",
   "output_path": "/tmp/out-model-avocado-prediction-auto_150.ipynb",
   "parameters": {
    "filepath": "/tmp/avocado.csv",
    "max_features": "auto",
    "ml_id": "auto_150",
    "n_estimators": 150
   },
   "start_time": "2021-06-23T16:00:19.357316",
   "version": "2.1.2"
  }
 },
 "nbformat": 4,
 "nbformat_minor": 4
}