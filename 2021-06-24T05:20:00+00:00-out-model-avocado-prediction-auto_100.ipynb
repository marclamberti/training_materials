{
 "cells": [
  {
   "cell_type": "code",
   "execution_count": 1,
   "metadata": {
    "_cell_guid": "79c7e3d0-c299-4dcb-8224-4455121ee9b0",
    "_uuid": "d629ff2d2480ee46fbb7e2d37f6b5fab8052498a",
    "execution": {
     "iopub.execute_input": "2021-06-24T05:30:09.419980Z",
     "iopub.status.busy": "2021-06-24T05:30:09.419270Z",
     "iopub.status.idle": "2021-06-24T05:30:10.245716Z",
     "shell.execute_reply": "2021-06-24T05:30:10.244208Z"
    },
    "jupyter": {
     "source_hidden": true
    },
    "papermill": {
     "duration": 0.845382,
     "end_time": "2021-06-24T05:30:10.246103",
     "exception": false,
     "start_time": "2021-06-24T05:30:09.400721",
     "status": "completed"
    },
    "tags": []
   },
   "outputs": [],
   "source": [
    "import pandas as pd\n",
    "import numpy as np\n",
    "from sqlalchemy import create_engine\n",
    "from datetime import date\n",
    "from sklearn.metrics import mean_squared_error"
   ]
  },
  {
   "cell_type": "code",
   "execution_count": 2,
   "metadata": {
    "execution": {
     "iopub.execute_input": "2021-06-24T05:30:10.273494Z",
     "iopub.status.busy": "2021-06-24T05:30:10.271321Z",
     "iopub.status.idle": "2021-06-24T05:30:10.303396Z",
     "shell.execute_reply": "2021-06-24T05:30:10.302918Z"
    },
    "jupyter": {
     "source_hidden": true
    },
    "papermill": {
     "duration": 0.04557,
     "end_time": "2021-06-24T05:30:10.303622",
     "exception": false,
     "start_time": "2021-06-24T05:30:10.258052",
     "status": "completed"
    },
    "tags": []
   },
   "outputs": [],
   "source": [
    "# THIS IS PURELY FOR TEST PURPOSE NEVER DO THAT IN PRODUCTION\n",
    "POSTGRES_ADDRESS='postgres'\n",
    "POSTGRES_PORT='5432'\n",
    "POSTGRES_USERNAME='postgres'\n",
    "POSTGRES_PASSWORD='postgres'\n",
    "\n",
    "postgres_conn = 'postgresql://{0}:{1}@{2}:{3}/'.format(POSTGRES_USERNAME, POSTGRES_PASSWORD, POSTGRES_ADDRESS, POSTGRES_PORT)\n",
    "\n",
    "# Create the connection\n",
    "cnx = create_engine(postgres_conn)\n"
   ]
  },
  {
   "cell_type": "markdown",
   "metadata": {
    "_uuid": "1998755ef10683262b29765345cff1c1c7d10b15",
    "papermill": {
     "duration": 0.005782,
     "end_time": "2021-06-24T05:30:10.317506",
     "exception": false,
     "start_time": "2021-06-24T05:30:10.311724",
     "status": "completed"
    },
    "tags": []
   },
   "source": [
    "Read in the Avocado Prices csv file as a DataFrame called df"
   ]
  },
  {
   "cell_type": "code",
   "execution_count": 3,
   "metadata": {
    "execution": {
     "iopub.execute_input": "2021-06-24T05:30:10.335279Z",
     "iopub.status.busy": "2021-06-24T05:30:10.334627Z",
     "iopub.status.idle": "2021-06-24T05:30:10.336795Z",
     "shell.execute_reply": "2021-06-24T05:30:10.337197Z"
    },
    "jupyter": {
     "source_hidden": true
    },
    "papermill": {
     "duration": 0.015293,
     "end_time": "2021-06-24T05:30:10.337409",
     "exception": false,
     "start_time": "2021-06-24T05:30:10.322116",
     "status": "completed"
    },
    "tags": [
     "parameters"
    ]
   },
   "outputs": [],
   "source": [
    "# Parameterized\n",
    "\n",
    "filepath='avocado.csv'\n",
    "ml_id='auto_100'\n",
    "ml_date=date.today()\n",
    "n_estimators = 100\n",
    "max_features = 'auto'"
   ]
  },
  {
   "cell_type": "code",
   "execution_count": 4,
   "id": "1f3fa9cf",
   "metadata": {
    "execution": {
     "iopub.execute_input": "2021-06-24T05:30:10.356911Z",
     "iopub.status.busy": "2021-06-24T05:30:10.355758Z",
     "iopub.status.idle": "2021-06-24T05:30:10.358931Z",
     "shell.execute_reply": "2021-06-24T05:30:10.359327Z"
    },
    "jupyter": {
     "source_hidden": true
    },
    "papermill": {
     "duration": 0.015942,
     "end_time": "2021-06-24T05:30:10.359731",
     "exception": false,
     "start_time": "2021-06-24T05:30:10.343789",
     "status": "completed"
    },
    "tags": [
     "injected-parameters"
    ]
   },
   "outputs": [],
   "source": [
    "# Parameters\n",
    "filepath = \"/tmp/avocado.csv\"\n",
    "n_estimators = 100\n",
    "max_features = \"auto\"\n",
    "ml_id = \"auto_100\"\n"
   ]
  },
  {
   "cell_type": "code",
   "execution_count": 5,
   "metadata": {
    "_uuid": "55d0e719eb8b91d763c1eacaf0f51ee0586486fc",
    "execution": {
     "iopub.execute_input": "2021-06-24T05:30:10.378750Z",
     "iopub.status.busy": "2021-06-24T05:30:10.378141Z",
     "iopub.status.idle": "2021-06-24T05:30:10.412738Z",
     "shell.execute_reply": "2021-06-24T05:30:10.411864Z"
    },
    "jupyter": {
     "source_hidden": true
    },
    "papermill": {
     "duration": 0.046693,
     "end_time": "2021-06-24T05:30:10.412984",
     "exception": false,
     "start_time": "2021-06-24T05:30:10.366291",
     "status": "completed"
    },
    "tags": []
   },
   "outputs": [],
   "source": [
    "df= pd.read_csv(filepath)"
   ]
  },
  {
   "cell_type": "markdown",
   "metadata": {
    "_uuid": "434e0457f550e2200424e5ec26162e1aa5904005",
    "papermill": {
     "duration": 0.005053,
     "end_time": "2021-06-24T05:30:10.423708",
     "exception": false,
     "start_time": "2021-06-24T05:30:10.418655",
     "status": "completed"
    },
    "tags": []
   },
   "source": [
    "The Feature \"Unnamed:0\" is just a representation of the indexes, so it's useless to keep it, lets remove it !"
   ]
  },
  {
   "cell_type": "code",
   "execution_count": 6,
   "metadata": {
    "_uuid": "9875398e37728dc3141fed4228be337a4735beb6",
    "execution": {
     "iopub.execute_input": "2021-06-24T05:30:10.441954Z",
     "iopub.status.busy": "2021-06-24T05:30:10.441338Z",
     "iopub.status.idle": "2021-06-24T05:30:10.444138Z",
     "shell.execute_reply": "2021-06-24T05:30:10.443649Z"
    },
    "jupyter": {
     "source_hidden": true
    },
    "papermill": {
     "duration": 0.01472,
     "end_time": "2021-06-24T05:30:10.444365",
     "exception": false,
     "start_time": "2021-06-24T05:30:10.429645",
     "status": "completed"
    },
    "tags": []
   },
   "outputs": [],
   "source": [
    "df.drop('Unnamed: 0',axis=1,inplace=True)"
   ]
  },
  {
   "cell_type": "markdown",
   "metadata": {
    "_uuid": "12e94ad381e4cb8d2c8a9bbe08ce07ab5d49c040",
    "papermill": {
     "duration": 0.005615,
     "end_time": "2021-06-24T05:30:10.456351",
     "exception": false,
     "start_time": "2021-06-24T05:30:10.450736",
     "status": "completed"
    },
    "tags": []
   },
   "source": [
    "well as a first observation we can see that we are lucky, we dont have any missing values (18249 complete data) and 13 columns.\n",
    "Now let's do some Feature Engineering on the Date Feature so we can be able to use the day and the month columns in building our machine learning model later. ( I didn't mention the year because its already there in data frame)"
   ]
  },
  {
   "cell_type": "code",
   "execution_count": 7,
   "metadata": {
    "_uuid": "f031639ce794656e877484d1c9c356df7028177f",
    "execution": {
     "iopub.execute_input": "2021-06-24T05:30:10.474791Z",
     "iopub.status.busy": "2021-06-24T05:30:10.473933Z",
     "iopub.status.idle": "2021-06-24T05:30:10.597445Z",
     "shell.execute_reply": "2021-06-24T05:30:10.597970Z"
    },
    "jupyter": {
     "source_hidden": true
    },
    "papermill": {
     "duration": 0.136715,
     "end_time": "2021-06-24T05:30:10.598209",
     "exception": false,
     "start_time": "2021-06-24T05:30:10.461494",
     "status": "completed"
    },
    "tags": []
   },
   "outputs": [],
   "source": [
    "df['Date']=pd.to_datetime(df['Date'])\n",
    "df['Month']=df['Date'].apply(lambda x:x.month)\n",
    "df['Day']=df['Date'].apply(lambda x:x.day)"
   ]
  },
  {
   "cell_type": "markdown",
   "metadata": {
    "_uuid": "ebdcac9924ce3e366fd3a75170682f7113385b7a",
    "papermill": {
     "duration": 0.007106,
     "end_time": "2021-06-24T05:30:10.611322",
     "exception": false,
     "start_time": "2021-06-24T05:30:10.604216",
     "status": "completed"
    },
    "tags": []
   },
   "source": [
    "as we can see we have 54 regions and 2 unique types, so it's going to be easy to to transform the type feature to dummies, but for the region its going to be a bit complexe so I decided to drop the entire column.\n",
    "I will drop the Date Feature as well because I already have 3 other columns for the Year, Month and Day."
   ]
  },
  {
   "cell_type": "code",
   "execution_count": 8,
   "metadata": {
    "_uuid": "a798682da34327b731ef262985fd50ba68e06460",
    "execution": {
     "iopub.execute_input": "2021-06-24T05:30:10.626697Z",
     "iopub.status.busy": "2021-06-24T05:30:10.625924Z",
     "iopub.status.idle": "2021-06-24T05:30:10.637860Z",
     "shell.execute_reply": "2021-06-24T05:30:10.637352Z"
    },
    "jupyter": {
     "source_hidden": true
    },
    "papermill": {
     "duration": 0.021326,
     "end_time": "2021-06-24T05:30:10.638120",
     "exception": false,
     "start_time": "2021-06-24T05:30:10.616794",
     "status": "completed"
    },
    "tags": []
   },
   "outputs": [],
   "source": [
    "df_final=pd.get_dummies(df.drop(['region','Date'],axis=1),drop_first=True)"
   ]
  },
  {
   "cell_type": "markdown",
   "metadata": {
    "_uuid": "8b74a6b88cb3e9b3e1d1e987e061048f203c7364",
    "papermill": {
     "duration": 0.008238,
     "end_time": "2021-06-24T05:30:10.652122",
     "exception": false,
     "start_time": "2021-06-24T05:30:10.643884",
     "status": "completed"
    },
    "tags": []
   },
   "source": [
    "Now our data are ready! lets apply our model which is going to be the Linear Regression because our Target variable 'AveragePrice'is continuous.\n",
    "Let's now begin to train out regression model! We will need to first split up our data into an X array that contains the features to train on, and a y array with the target variable"
   ]
  },
  {
   "cell_type": "code",
   "execution_count": 9,
   "metadata": {
    "_uuid": "830591f99de9715241e688bf9ce265e979401ff5",
    "execution": {
     "iopub.execute_input": "2021-06-24T05:30:10.671055Z",
     "iopub.status.busy": "2021-06-24T05:30:10.670171Z",
     "iopub.status.idle": "2021-06-24T05:30:10.682390Z",
     "shell.execute_reply": "2021-06-24T05:30:10.681776Z"
    },
    "jupyter": {
     "source_hidden": true
    },
    "papermill": {
     "duration": 0.024704,
     "end_time": "2021-06-24T05:30:10.682732",
     "exception": false,
     "start_time": "2021-06-24T05:30:10.658028",
     "status": "completed"
    },
    "tags": []
   },
   "outputs": [],
   "source": [
    "X=df_final.iloc[:,1:14]\n",
    "y=df_final['AveragePrice']\n",
    "from sklearn.model_selection import train_test_split\n",
    "X_train,X_test,y_train,y_test=train_test_split(X,y,test_size=0.2,random_state=42)"
   ]
  },
  {
   "cell_type": "markdown",
   "metadata": {
    "_uuid": "ea730c77a31cde9de98263079a189accb8b5772b",
    "papermill": {
     "duration": 0.007102,
     "end_time": "2021-06-24T05:30:10.698077",
     "exception": false,
     "start_time": "2021-06-24T05:30:10.690975",
     "status": "completed"
    },
    "tags": []
   },
   "source": [
    "Creating and Training the Model"
   ]
  },
  {
   "cell_type": "code",
   "execution_count": 10,
   "metadata": {
    "_uuid": "eb37015e78974e5fd2ae7e13d065c8ab0a9c6948",
    "execution": {
     "iopub.execute_input": "2021-06-24T05:30:10.716898Z",
     "iopub.status.busy": "2021-06-24T05:30:10.716053Z",
     "iopub.status.idle": "2021-06-24T05:30:19.993666Z",
     "shell.execute_reply": "2021-06-24T05:30:19.994113Z"
    },
    "jupyter": {
     "source_hidden": true
    },
    "papermill": {
     "duration": 9.290386,
     "end_time": "2021-06-24T05:30:19.994355",
     "exception": false,
     "start_time": "2021-06-24T05:30:10.703969",
     "status": "completed"
    },
    "tags": []
   },
   "outputs": [],
   "source": [
    "from sklearn.ensemble import RandomForestRegressor\n",
    "rdr = RandomForestRegressor(\n",
    "    n_estimators=n_estimators,\n",
    "    max_features=max_features\n",
    ")\n",
    "rdr.fit(X_train,y_train)\n",
    "pred=rdr.predict(X_test)"
   ]
  },
  {
   "cell_type": "code",
   "execution_count": 11,
   "metadata": {
    "_uuid": "7ed5b8d4e8abb44a4b548c13ac9fb2d65227d1c5",
    "execution": {
     "iopub.execute_input": "2021-06-24T05:30:20.013746Z",
     "iopub.status.busy": "2021-06-24T05:30:20.013059Z",
     "iopub.status.idle": "2021-06-24T05:30:20.017529Z",
     "shell.execute_reply": "2021-06-24T05:30:20.016153Z"
    },
    "jupyter": {
     "source_hidden": true
    },
    "papermill": {
     "duration": 0.013498,
     "end_time": "2021-06-24T05:30:20.017872",
     "exception": false,
     "start_time": "2021-06-24T05:30:20.004374",
     "status": "completed"
    },
    "tags": []
   },
   "outputs": [],
   "source": [
    "#%%capture cap --no-stderr\n",
    "#print(np.sqrt(mean_squared_error(y_test, pred)))"
   ]
  },
  {
   "cell_type": "code",
   "execution_count": 12,
   "metadata": {
    "execution": {
     "iopub.execute_input": "2021-06-24T05:30:20.037424Z",
     "iopub.status.busy": "2021-06-24T05:30:20.036489Z",
     "iopub.status.idle": "2021-06-24T05:30:20.041990Z",
     "shell.execute_reply": "2021-06-24T05:30:20.041203Z"
    },
    "jupyter": {
     "source_hidden": true
    },
    "papermill": {
     "duration": 0.01527,
     "end_time": "2021-06-24T05:30:20.042308",
     "exception": false,
     "start_time": "2021-06-24T05:30:20.027038",
     "status": "completed"
    },
    "tags": []
   },
   "outputs": [],
   "source": [
    "#with open(output_rmse, 'w') as f:\n",
    "#    f.write(cap.stdout)"
   ]
  },
  {
   "cell_type": "code",
   "execution_count": 13,
   "metadata": {
    "execution": {
     "iopub.execute_input": "2021-06-24T05:30:20.065072Z",
     "iopub.status.busy": "2021-06-24T05:30:20.063730Z",
     "iopub.status.idle": "2021-06-24T05:30:20.090330Z",
     "shell.execute_reply": "2021-06-24T05:30:20.090788Z"
    },
    "jupyter": {
     "source_hidden": true
    },
    "papermill": {
     "duration": 0.041615,
     "end_time": "2021-06-24T05:30:20.091028",
     "exception": false,
     "start_time": "2021-06-24T05:30:20.049413",
     "status": "completed"
    },
    "tags": []
   },
   "outputs": [
    {
     "data": {
      "text/plain": [
       "<sqlalchemy.engine.result.ResultProxy at 0x7f7e13f5bfd0>"
      ]
     },
     "execution_count": 13,
     "metadata": {},
     "output_type": "execute_result"
    }
   ],
   "source": [
    "cnx.execute(\"\"\"\n",
    "    INSERT INTO ml.accuracies (ml_id, ml_date, accuracy) VALUES ('{0}', '{1}', {2}) \n",
    "    ON CONFLICT (ml_id, ml_date) \n",
    "    DO\n",
    "        UPDATE SET accuracy = {2};\n",
    "    \"\"\".format(ml_id, ml_date, np.sqrt(mean_squared_error(y_test, pred))))"
   ]
  }
 ],
 "metadata": {
  "kernelspec": {
   "display_name": "Python 3",
   "language": "python",
   "name": "python3"
  },
  "language_info": {
   "codemirror_mode": {
    "name": "ipython",
    "version": 3
   },
   "file_extension": ".py",
   "mimetype": "text/x-python",
   "name": "python",
   "nbconvert_exporter": "python",
   "pygments_lexer": "ipython3",
   "version": "3.7.10"
  },
  "papermill": {
   "duration": 12.334021,
   "end_time": "2021-06-24T05:30:20.509514",
   "environment_variables": {},
   "exception": null,
   "input_path": "/usr/local/airflow/include/notebooks/avocado_prediction.ipynb",
   "output_path": "/tmp/out-model-avocado-prediction-auto_100.ipynb",
   "parameters": {
    "filepath": "/tmp/avocado.csv",
    "max_features": "auto",
    "ml_id": "auto_100",
    "n_estimators": 100
   },
   "start_time": "2021-06-24T05:30:08.175493",
   "version": "2.1.2"
  }
 },
 "nbformat": 4,
 "nbformat_minor": 4
}