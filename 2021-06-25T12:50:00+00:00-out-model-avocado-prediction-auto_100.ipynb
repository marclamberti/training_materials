{
 "cells": [
  {
   "cell_type": "code",
   "execution_count": 1,
   "metadata": {
    "_cell_guid": "79c7e3d0-c299-4dcb-8224-4455121ee9b0",
    "_uuid": "d629ff2d2480ee46fbb7e2d37f6b5fab8052498a",
    "execution": {
     "iopub.execute_input": "2021-06-25T13:00:09.449681Z",
     "iopub.status.busy": "2021-06-25T13:00:09.449023Z",
     "iopub.status.idle": "2021-06-25T13:00:10.069213Z",
     "shell.execute_reply": "2021-06-25T13:00:10.069709Z"
    },
    "jupyter": {
     "source_hidden": true
    },
    "papermill": {
     "duration": 0.633018,
     "end_time": "2021-06-25T13:00:10.070140",
     "exception": false,
     "start_time": "2021-06-25T13:00:09.437122",
     "status": "completed"
    },
    "tags": []
   },
   "outputs": [],
   "source": [
    "import pandas as pd\n",
    "import numpy as np\n",
    "from sqlalchemy import create_engine\n",
    "from datetime import date\n",
    "from sklearn.metrics import mean_squared_error"
   ]
  },
  {
   "cell_type": "code",
   "execution_count": 2,
   "metadata": {
    "execution": {
     "iopub.execute_input": "2021-06-25T13:00:10.090414Z",
     "iopub.status.busy": "2021-06-25T13:00:10.089419Z",
     "iopub.status.idle": "2021-06-25T13:00:10.121887Z",
     "shell.execute_reply": "2021-06-25T13:00:10.121413Z"
    },
    "jupyter": {
     "source_hidden": true
    },
    "papermill": {
     "duration": 0.045535,
     "end_time": "2021-06-25T13:00:10.122151",
     "exception": false,
     "start_time": "2021-06-25T13:00:10.076616",
     "status": "completed"
    },
    "tags": []
   },
   "outputs": [],
   "source": [
    "# THIS IS PURELY FOR TEST PURPOSE NEVER DO THAT IN PRODUCTION\n",
    "POSTGRES_ADDRESS='postgres'\n",
    "POSTGRES_PORT='5432'\n",
    "POSTGRES_USERNAME='postgres'\n",
    "POSTGRES_PASSWORD='postgres'\n",
    "\n",
    "postgres_conn = 'postgresql://{0}:{1}@{2}:{3}/'.format(POSTGRES_USERNAME, POSTGRES_PASSWORD, POSTGRES_ADDRESS, POSTGRES_PORT)\n",
    "\n",
    "# Create the connection\n",
    "cnx = create_engine(postgres_conn)\n"
   ]
  },
  {
   "cell_type": "markdown",
   "metadata": {
    "_uuid": "1998755ef10683262b29765345cff1c1c7d10b15",
    "papermill": {
     "duration": 0.005354,
     "end_time": "2021-06-25T13:00:10.132818",
     "exception": false,
     "start_time": "2021-06-25T13:00:10.127464",
     "status": "completed"
    },
    "tags": []
   },
   "source": [
    "Read in the Avocado Prices csv file as a DataFrame called df"
   ]
  },
  {
   "cell_type": "code",
   "execution_count": 3,
   "metadata": {
    "execution": {
     "iopub.execute_input": "2021-06-25T13:00:10.147773Z",
     "iopub.status.busy": "2021-06-25T13:00:10.147182Z",
     "iopub.status.idle": "2021-06-25T13:00:10.150099Z",
     "shell.execute_reply": "2021-06-25T13:00:10.149510Z"
    },
    "jupyter": {
     "source_hidden": true
    },
    "papermill": {
     "duration": 0.01246,
     "end_time": "2021-06-25T13:00:10.150298",
     "exception": false,
     "start_time": "2021-06-25T13:00:10.137838",
     "status": "completed"
    },
    "tags": [
     "parameters"
    ]
   },
   "outputs": [],
   "source": [
    "# Parameterized\n",
    "\n",
    "filepath='avocado.csv'\n",
    "ml_id='auto_100'\n",
    "ml_date=date.today()\n",
    "n_estimators = 100\n",
    "max_features = 'auto'"
   ]
  },
  {
   "cell_type": "code",
   "execution_count": 4,
   "id": "72a599b7",
   "metadata": {
    "execution": {
     "iopub.execute_input": "2021-06-25T13:00:10.164505Z",
     "iopub.status.busy": "2021-06-25T13:00:10.163884Z",
     "iopub.status.idle": "2021-06-25T13:00:10.166911Z",
     "shell.execute_reply": "2021-06-25T13:00:10.166420Z"
    },
    "jupyter": {
     "source_hidden": true
    },
    "papermill": {
     "duration": 0.011619,
     "end_time": "2021-06-25T13:00:10.167138",
     "exception": false,
     "start_time": "2021-06-25T13:00:10.155519",
     "status": "completed"
    },
    "tags": [
     "injected-parameters"
    ]
   },
   "outputs": [],
   "source": [
    "# Parameters\n",
    "filepath = \"/tmp/avocado.csv\"\n",
    "n_estimators = 100\n",
    "max_features = \"auto\"\n",
    "ml_id = \"auto_100\"\n"
   ]
  },
  {
   "cell_type": "code",
   "execution_count": 5,
   "metadata": {
    "_uuid": "55d0e719eb8b91d763c1eacaf0f51ee0586486fc",
    "execution": {
     "iopub.execute_input": "2021-06-25T13:00:10.182420Z",
     "iopub.status.busy": "2021-06-25T13:00:10.181740Z",
     "iopub.status.idle": "2021-06-25T13:00:10.209078Z",
     "shell.execute_reply": "2021-06-25T13:00:10.208606Z"
    },
    "jupyter": {
     "source_hidden": true
    },
    "papermill": {
     "duration": 0.037359,
     "end_time": "2021-06-25T13:00:10.209260",
     "exception": false,
     "start_time": "2021-06-25T13:00:10.171901",
     "status": "completed"
    },
    "tags": []
   },
   "outputs": [],
   "source": [
    "df= pd.read_csv(filepath)"
   ]
  },
  {
   "cell_type": "markdown",
   "metadata": {
    "_uuid": "434e0457f550e2200424e5ec26162e1aa5904005",
    "papermill": {
     "duration": 0.004487,
     "end_time": "2021-06-25T13:00:10.218631",
     "exception": false,
     "start_time": "2021-06-25T13:00:10.214144",
     "status": "completed"
    },
    "tags": []
   },
   "source": [
    "The Feature \"Unnamed:0\" is just a representation of the indexes, so it's useless to keep it, lets remove it !"
   ]
  },
  {
   "cell_type": "code",
   "execution_count": 6,
   "metadata": {
    "_uuid": "9875398e37728dc3141fed4228be337a4735beb6",
    "execution": {
     "iopub.execute_input": "2021-06-25T13:00:10.232955Z",
     "iopub.status.busy": "2021-06-25T13:00:10.232453Z",
     "iopub.status.idle": "2021-06-25T13:00:10.235334Z",
     "shell.execute_reply": "2021-06-25T13:00:10.234859Z"
    },
    "jupyter": {
     "source_hidden": true
    },
    "papermill": {
     "duration": 0.012304,
     "end_time": "2021-06-25T13:00:10.235496",
     "exception": false,
     "start_time": "2021-06-25T13:00:10.223192",
     "status": "completed"
    },
    "tags": []
   },
   "outputs": [],
   "source": [
    "df.drop('Unnamed: 0',axis=1,inplace=True)"
   ]
  },
  {
   "cell_type": "markdown",
   "metadata": {
    "_uuid": "12e94ad381e4cb8d2c8a9bbe08ce07ab5d49c040",
    "papermill": {
     "duration": 0.004642,
     "end_time": "2021-06-25T13:00:10.245293",
     "exception": false,
     "start_time": "2021-06-25T13:00:10.240651",
     "status": "completed"
    },
    "tags": []
   },
   "source": [
    "well as a first observation we can see that we are lucky, we dont have any missing values (18249 complete data) and 13 columns.\n",
    "Now let's do some Feature Engineering on the Date Feature so we can be able to use the day and the month columns in building our machine learning model later. ( I didn't mention the year because its already there in data frame)"
   ]
  },
  {
   "cell_type": "code",
   "execution_count": 7,
   "metadata": {
    "_uuid": "f031639ce794656e877484d1c9c356df7028177f",
    "execution": {
     "iopub.execute_input": "2021-06-25T13:00:10.259375Z",
     "iopub.status.busy": "2021-06-25T13:00:10.258771Z",
     "iopub.status.idle": "2021-06-25T13:00:10.362173Z",
     "shell.execute_reply": "2021-06-25T13:00:10.361727Z"
    },
    "jupyter": {
     "source_hidden": true
    },
    "papermill": {
     "duration": 0.112702,
     "end_time": "2021-06-25T13:00:10.362347",
     "exception": false,
     "start_time": "2021-06-25T13:00:10.249645",
     "status": "completed"
    },
    "tags": []
   },
   "outputs": [],
   "source": [
    "df['Date']=pd.to_datetime(df['Date'])\n",
    "df['Month']=df['Date'].apply(lambda x:x.month)\n",
    "df['Day']=df['Date'].apply(lambda x:x.day)"
   ]
  },
  {
   "cell_type": "markdown",
   "metadata": {
    "_uuid": "ebdcac9924ce3e366fd3a75170682f7113385b7a",
    "papermill": {
     "duration": 0.004644,
     "end_time": "2021-06-25T13:00:10.371688",
     "exception": false,
     "start_time": "2021-06-25T13:00:10.367044",
     "status": "completed"
    },
    "tags": []
   },
   "source": [
    "as we can see we have 54 regions and 2 unique types, so it's going to be easy to to transform the type feature to dummies, but for the region its going to be a bit complexe so I decided to drop the entire column.\n",
    "I will drop the Date Feature as well because I already have 3 other columns for the Year, Month and Day."
   ]
  },
  {
   "cell_type": "code",
   "execution_count": 8,
   "metadata": {
    "_uuid": "a798682da34327b731ef262985fd50ba68e06460",
    "execution": {
     "iopub.execute_input": "2021-06-25T13:00:10.391305Z",
     "iopub.status.busy": "2021-06-25T13:00:10.388667Z",
     "iopub.status.idle": "2021-06-25T13:00:10.397009Z",
     "shell.execute_reply": "2021-06-25T13:00:10.396464Z"
    },
    "jupyter": {
     "source_hidden": true
    },
    "papermill": {
     "duration": 0.020858,
     "end_time": "2021-06-25T13:00:10.397177",
     "exception": false,
     "start_time": "2021-06-25T13:00:10.376319",
     "status": "completed"
    },
    "tags": []
   },
   "outputs": [],
   "source": [
    "df_final=pd.get_dummies(df.drop(['region','Date'],axis=1),drop_first=True)"
   ]
  },
  {
   "cell_type": "markdown",
   "metadata": {
    "_uuid": "8b74a6b88cb3e9b3e1d1e987e061048f203c7364",
    "papermill": {
     "duration": 0.00506,
     "end_time": "2021-06-25T13:00:10.406996",
     "exception": false,
     "start_time": "2021-06-25T13:00:10.401936",
     "status": "completed"
    },
    "tags": []
   },
   "source": [
    "Now our data are ready! lets apply our model which is going to be the Linear Regression because our Target variable 'AveragePrice'is continuous.\n",
    "Let's now begin to train out regression model! We will need to first split up our data into an X array that contains the features to train on, and a y array with the target variable"
   ]
  },
  {
   "cell_type": "code",
   "execution_count": 9,
   "metadata": {
    "_uuid": "830591f99de9715241e688bf9ce265e979401ff5",
    "execution": {
     "iopub.execute_input": "2021-06-25T13:00:10.421864Z",
     "iopub.status.busy": "2021-06-25T13:00:10.421383Z",
     "iopub.status.idle": "2021-06-25T13:00:10.430477Z",
     "shell.execute_reply": "2021-06-25T13:00:10.430091Z"
    },
    "jupyter": {
     "source_hidden": true
    },
    "papermill": {
     "duration": 0.018482,
     "end_time": "2021-06-25T13:00:10.430655",
     "exception": false,
     "start_time": "2021-06-25T13:00:10.412173",
     "status": "completed"
    },
    "tags": []
   },
   "outputs": [],
   "source": [
    "X=df_final.iloc[:,1:14]\n",
    "y=df_final['AveragePrice']\n",
    "from sklearn.model_selection import train_test_split\n",
    "X_train,X_test,y_train,y_test=train_test_split(X,y,test_size=0.2,random_state=42)"
   ]
  },
  {
   "cell_type": "markdown",
   "metadata": {
    "_uuid": "ea730c77a31cde9de98263079a189accb8b5772b",
    "papermill": {
     "duration": 0.00463,
     "end_time": "2021-06-25T13:00:10.439864",
     "exception": false,
     "start_time": "2021-06-25T13:00:10.435234",
     "status": "completed"
    },
    "tags": []
   },
   "source": [
    "Creating and Training the Model"
   ]
  },
  {
   "cell_type": "code",
   "execution_count": 10,
   "metadata": {
    "_uuid": "eb37015e78974e5fd2ae7e13d065c8ab0a9c6948",
    "execution": {
     "iopub.execute_input": "2021-06-25T13:00:10.453583Z",
     "iopub.status.busy": "2021-06-25T13:00:10.452927Z",
     "iopub.status.idle": "2021-06-25T13:00:18.025346Z",
     "shell.execute_reply": "2021-06-25T13:00:18.025755Z"
    },
    "jupyter": {
     "source_hidden": true
    },
    "papermill": {
     "duration": 7.581622,
     "end_time": "2021-06-25T13:00:18.025997",
     "exception": false,
     "start_time": "2021-06-25T13:00:10.444375",
     "status": "completed"
    },
    "tags": []
   },
   "outputs": [],
   "source": [
    "from sklearn.ensemble import RandomForestRegressor\n",
    "rdr = RandomForestRegressor(\n",
    "    n_estimators=n_estimators,\n",
    "    max_features=max_features\n",
    ")\n",
    "rdr.fit(X_train,y_train)\n",
    "pred=rdr.predict(X_test)"
   ]
  },
  {
   "cell_type": "code",
   "execution_count": 11,
   "metadata": {
    "_uuid": "7ed5b8d4e8abb44a4b548c13ac9fb2d65227d1c5",
    "execution": {
     "iopub.execute_input": "2021-06-25T13:00:18.042152Z",
     "iopub.status.busy": "2021-06-25T13:00:18.041516Z",
     "iopub.status.idle": "2021-06-25T13:00:18.044038Z",
     "shell.execute_reply": "2021-06-25T13:00:18.043363Z"
    },
    "jupyter": {
     "source_hidden": true
    },
    "papermill": {
     "duration": 0.012309,
     "end_time": "2021-06-25T13:00:18.044240",
     "exception": false,
     "start_time": "2021-06-25T13:00:18.031931",
     "status": "completed"
    },
    "tags": []
   },
   "outputs": [],
   "source": [
    "#%%capture cap --no-stderr\n",
    "#print(np.sqrt(mean_squared_error(y_test, pred)))"
   ]
  },
  {
   "cell_type": "code",
   "execution_count": 12,
   "metadata": {
    "execution": {
     "iopub.execute_input": "2021-06-25T13:00:18.059717Z",
     "iopub.status.busy": "2021-06-25T13:00:18.059118Z",
     "iopub.status.idle": "2021-06-25T13:00:18.062122Z",
     "shell.execute_reply": "2021-06-25T13:00:18.061604Z"
    },
    "jupyter": {
     "source_hidden": true
    },
    "papermill": {
     "duration": 0.012296,
     "end_time": "2021-06-25T13:00:18.062323",
     "exception": false,
     "start_time": "2021-06-25T13:00:18.050027",
     "status": "completed"
    },
    "tags": []
   },
   "outputs": [],
   "source": [
    "#with open(output_rmse, 'w') as f:\n",
    "#    f.write(cap.stdout)"
   ]
  },
  {
   "cell_type": "code",
   "execution_count": 13,
   "metadata": {
    "execution": {
     "iopub.execute_input": "2021-06-25T13:00:18.082686Z",
     "iopub.status.busy": "2021-06-25T13:00:18.082074Z",
     "iopub.status.idle": "2021-06-25T13:00:18.101840Z",
     "shell.execute_reply": "2021-06-25T13:00:18.101248Z"
    },
    "jupyter": {
     "source_hidden": true
    },
    "papermill": {
     "duration": 0.0341,
     "end_time": "2021-06-25T13:00:18.102042",
     "exception": false,
     "start_time": "2021-06-25T13:00:18.067942",
     "status": "completed"
    },
    "tags": []
   },
   "outputs": [
    {
     "data": {
      "text/plain": [
       "<sqlalchemy.engine.result.ResultProxy at 0x7f3b08376590>"
      ]
     },
     "execution_count": 13,
     "metadata": {},
     "output_type": "execute_result"
    }
   ],
   "source": [
    "cnx.execute(\"\"\"\n",
    "    INSERT INTO ml.accuracies (ml_id, ml_date, accuracy) VALUES ('{0}', '{1}', {2}) \n",
    "    ON CONFLICT (ml_id, ml_date) \n",
    "    DO\n",
    "        UPDATE SET accuracy = {2};\n",
    "    \"\"\".format(ml_id, ml_date, np.sqrt(mean_squared_error(y_test, pred))))"
   ]
  }
 ],
 "metadata": {
  "kernelspec": {
   "display_name": "Python 3",
   "language": "python",
   "name": "python3"
  },
  "language_info": {
   "codemirror_mode": {
    "name": "ipython",
    "version": 3
   },
   "file_extension": ".py",
   "mimetype": "text/x-python",
   "name": "python",
   "nbconvert_exporter": "python",
   "pygments_lexer": "ipython3",
   "version": "3.7.10"
  },
  "papermill": {
   "duration": 10.194702,
   "end_time": "2021-06-25T13:00:18.516361",
   "environment_variables": {},
   "exception": null,
   "input_path": "/usr/local/airflow/include/notebooks/avocado_prediction.ipynb",
   "output_path": "/tmp/out-model-avocado-prediction-auto_100.ipynb",
   "parameters": {
    "filepath": "/tmp/avocado.csv",
    "max_features": "auto",
    "ml_id": "auto_100",
    "n_estimators": 100
   },
   "start_time": "2021-06-25T13:00:08.321659",
   "version": "2.1.2"
  }
 },
 "nbformat": 4,
 "nbformat_minor": 4
}