{
 "cells": [
  {
   "cell_type": "code",
   "execution_count": 1,
   "metadata": {
    "_cell_guid": "79c7e3d0-c299-4dcb-8224-4455121ee9b0",
    "_uuid": "d629ff2d2480ee46fbb7e2d37f6b5fab8052498a",
    "execution": {
     "iopub.execute_input": "2021-03-01T15:45:28.893000Z",
     "iopub.status.busy": "2021-03-01T15:45:28.892087Z",
     "iopub.status.idle": "2021-03-01T15:45:29.784761Z",
     "shell.execute_reply": "2021-03-01T15:45:29.783199Z"
    },
    "jupyter": {
     "source_hidden": true
    },
    "papermill": {
     "duration": 0.907054,
     "end_time": "2021-03-01T15:45:29.785112",
     "exception": false,
     "start_time": "2021-03-01T15:45:28.878058",
     "status": "completed"
    },
    "tags": []
   },
   "outputs": [],
   "source": [
    "import pandas as pd\n",
    "import numpy as np\n",
    "from sqlalchemy import create_engine\n",
    "from datetime import date\n",
    "from sklearn.metrics import mean_squared_error"
   ]
  },
  {
   "cell_type": "code",
   "execution_count": 2,
   "metadata": {
    "execution": {
     "iopub.execute_input": "2021-03-01T15:45:29.832283Z",
     "iopub.status.busy": "2021-03-01T15:45:29.831186Z",
     "iopub.status.idle": "2021-03-01T15:45:29.903682Z",
     "shell.execute_reply": "2021-03-01T15:45:29.904352Z"
    },
    "jupyter": {
     "source_hidden": true
    },
    "papermill": {
     "duration": 0.104318,
     "end_time": "2021-03-01T15:45:29.904755",
     "exception": false,
     "start_time": "2021-03-01T15:45:29.800437",
     "status": "completed"
    },
    "tags": []
   },
   "outputs": [],
   "source": [
    "# THIS IS PURELY FOR TEST PURPOSE NEVER DO THAT IN PRODUCTION\n",
    "POSTGRES_ADDRESS='postgres'\n",
    "POSTGRES_PORT='5432'\n",
    "POSTGRES_USERNAME='postgres'\n",
    "POSTGRES_PASSWORD='postgres'\n",
    "\n",
    "postgres_conn = 'postgresql://{0}:{1}@{2}:{3}/'.format(POSTGRES_USERNAME, POSTGRES_PASSWORD, POSTGRES_ADDRESS, POSTGRES_PORT)\n",
    "\n",
    "# Create the connection\n",
    "cnx = create_engine(postgres_conn)\n"
   ]
  },
  {
   "cell_type": "markdown",
   "metadata": {
    "_uuid": "1998755ef10683262b29765345cff1c1c7d10b15",
    "papermill": {
     "duration": 0.007769,
     "end_time": "2021-03-01T15:45:29.919048",
     "exception": false,
     "start_time": "2021-03-01T15:45:29.911279",
     "status": "completed"
    },
    "tags": []
   },
   "source": [
    "Read in the Avocado Prices csv file as a DataFrame called df"
   ]
  },
  {
   "cell_type": "code",
   "execution_count": 3,
   "metadata": {
    "execution": {
     "iopub.execute_input": "2021-03-01T15:45:29.940156Z",
     "iopub.status.busy": "2021-03-01T15:45:29.939117Z",
     "iopub.status.idle": "2021-03-01T15:45:29.942657Z",
     "shell.execute_reply": "2021-03-01T15:45:29.943216Z"
    },
    "jupyter": {
     "source_hidden": true
    },
    "papermill": {
     "duration": 0.017688,
     "end_time": "2021-03-01T15:45:29.943503",
     "exception": false,
     "start_time": "2021-03-01T15:45:29.925815",
     "status": "completed"
    },
    "tags": [
     "parameters"
    ]
   },
   "outputs": [],
   "source": [
    "# Parameterized\n",
    "\n",
    "filepath='avocado.csv'\n",
    "ml_id='auto_100'\n",
    "ml_date=date.today()\n",
    "n_estimators = 100\n",
    "max_features = 'auto'"
   ]
  },
  {
   "cell_type": "code",
   "execution_count": 4,
   "id": "immediate-spread",
   "metadata": {
    "execution": {
     "iopub.execute_input": "2021-03-01T15:45:29.964823Z",
     "iopub.status.busy": "2021-03-01T15:45:29.963935Z",
     "iopub.status.idle": "2021-03-01T15:45:29.968357Z",
     "shell.execute_reply": "2021-03-01T15:45:29.967605Z"
    },
    "jupyter": {
     "source_hidden": true
    },
    "papermill": {
     "duration": 0.017954,
     "end_time": "2021-03-01T15:45:29.968689",
     "exception": false,
     "start_time": "2021-03-01T15:45:29.950735",
     "status": "completed"
    },
    "tags": [
     "injected-parameters"
    ]
   },
   "outputs": [],
   "source": [
    "# Parameters\n",
    "filepath = \"/tmp/avocado.csv\"\n",
    "n_estimators = 150\n",
    "max_features = \"auto\"\n",
    "ml_id = \"auto_150\"\n"
   ]
  },
  {
   "cell_type": "code",
   "execution_count": 5,
   "metadata": {
    "_uuid": "55d0e719eb8b91d763c1eacaf0f51ee0586486fc",
    "execution": {
     "iopub.execute_input": "2021-03-01T15:45:29.989424Z",
     "iopub.status.busy": "2021-03-01T15:45:29.988669Z",
     "iopub.status.idle": "2021-03-01T15:45:30.023194Z",
     "shell.execute_reply": "2021-03-01T15:45:30.022482Z"
    },
    "jupyter": {
     "source_hidden": true
    },
    "papermill": {
     "duration": 0.046965,
     "end_time": "2021-03-01T15:45:30.023445",
     "exception": false,
     "start_time": "2021-03-01T15:45:29.976480",
     "status": "completed"
    },
    "tags": []
   },
   "outputs": [],
   "source": [
    "df= pd.read_csv(filepath)"
   ]
  },
  {
   "cell_type": "markdown",
   "metadata": {
    "_uuid": "434e0457f550e2200424e5ec26162e1aa5904005",
    "papermill": {
     "duration": 0.00875,
     "end_time": "2021-03-01T15:45:30.039011",
     "exception": false,
     "start_time": "2021-03-01T15:45:30.030261",
     "status": "completed"
    },
    "tags": []
   },
   "source": [
    "The Feature \"Unnamed:0\" is just a representation of the indexes, so it's useless to keep it, lets remove it !"
   ]
  },
  {
   "cell_type": "code",
   "execution_count": 6,
   "metadata": {
    "_uuid": "9875398e37728dc3141fed4228be337a4735beb6",
    "execution": {
     "iopub.execute_input": "2021-03-01T15:45:30.061444Z",
     "iopub.status.busy": "2021-03-01T15:45:30.060709Z",
     "iopub.status.idle": "2021-03-01T15:45:30.066398Z",
     "shell.execute_reply": "2021-03-01T15:45:30.065427Z"
    },
    "jupyter": {
     "source_hidden": true
    },
    "papermill": {
     "duration": 0.020501,
     "end_time": "2021-03-01T15:45:30.066677",
     "exception": false,
     "start_time": "2021-03-01T15:45:30.046176",
     "status": "completed"
    },
    "tags": []
   },
   "outputs": [],
   "source": [
    "df.drop('Unnamed: 0',axis=1,inplace=True)"
   ]
  },
  {
   "cell_type": "markdown",
   "metadata": {
    "_uuid": "12e94ad381e4cb8d2c8a9bbe08ce07ab5d49c040",
    "papermill": {
     "duration": 0.007749,
     "end_time": "2021-03-01T15:45:30.082151",
     "exception": false,
     "start_time": "2021-03-01T15:45:30.074402",
     "status": "completed"
    },
    "tags": []
   },
   "source": [
    "well as a first observation we can see that we are lucky, we dont have any missing values (18249 complete data) and 13 columns.\n",
    "Now let's do some Feature Engineering on the Date Feature so we can be able to use the day and the month columns in building our machine learning model later. ( I didn't mention the year because its already there in data frame)"
   ]
  },
  {
   "cell_type": "code",
   "execution_count": 7,
   "metadata": {
    "_uuid": "f031639ce794656e877484d1c9c356df7028177f",
    "execution": {
     "iopub.execute_input": "2021-03-01T15:45:30.105947Z",
     "iopub.status.busy": "2021-03-01T15:45:30.105065Z",
     "iopub.status.idle": "2021-03-01T15:45:30.300287Z",
     "shell.execute_reply": "2021-03-01T15:45:30.299406Z"
    },
    "jupyter": {
     "source_hidden": true
    },
    "papermill": {
     "duration": 0.211024,
     "end_time": "2021-03-01T15:45:30.300773",
     "exception": false,
     "start_time": "2021-03-01T15:45:30.089749",
     "status": "completed"
    },
    "tags": []
   },
   "outputs": [],
   "source": [
    "df['Date']=pd.to_datetime(df['Date'])\n",
    "df['Month']=df['Date'].apply(lambda x:x.month)\n",
    "df['Day']=df['Date'].apply(lambda x:x.day)"
   ]
  },
  {
   "cell_type": "markdown",
   "metadata": {
    "_uuid": "ebdcac9924ce3e366fd3a75170682f7113385b7a",
    "papermill": {
     "duration": 0.008529,
     "end_time": "2021-03-01T15:45:30.316726",
     "exception": false,
     "start_time": "2021-03-01T15:45:30.308197",
     "status": "completed"
    },
    "tags": []
   },
   "source": [
    "as we can see we have 54 regions and 2 unique types, so it's going to be easy to to transform the type feature to dummies, but for the region its going to be a bit complexe so I decided to drop the entire column.\n",
    "I will drop the Date Feature as well because I already have 3 other columns for the Year, Month and Day."
   ]
  },
  {
   "cell_type": "code",
   "execution_count": 8,
   "metadata": {
    "_uuid": "a798682da34327b731ef262985fd50ba68e06460",
    "execution": {
     "iopub.execute_input": "2021-03-01T15:45:30.346214Z",
     "iopub.status.busy": "2021-03-01T15:45:30.339241Z",
     "iopub.status.idle": "2021-03-01T15:45:30.354065Z",
     "shell.execute_reply": "2021-03-01T15:45:30.354826Z"
    },
    "jupyter": {
     "source_hidden": true
    },
    "papermill": {
     "duration": 0.030051,
     "end_time": "2021-03-01T15:45:30.355143",
     "exception": false,
     "start_time": "2021-03-01T15:45:30.325092",
     "status": "completed"
    },
    "tags": []
   },
   "outputs": [],
   "source": [
    "df_final=pd.get_dummies(df.drop(['region','Date'],axis=1),drop_first=True)"
   ]
  },
  {
   "cell_type": "markdown",
   "metadata": {
    "_uuid": "8b74a6b88cb3e9b3e1d1e987e061048f203c7364",
    "papermill": {
     "duration": 0.008549,
     "end_time": "2021-03-01T15:45:30.371537",
     "exception": false,
     "start_time": "2021-03-01T15:45:30.362988",
     "status": "completed"
    },
    "tags": []
   },
   "source": [
    "Now our data are ready! lets apply our model which is going to be the Linear Regression because our Target variable 'AveragePrice'is continuous.\n",
    "Let's now begin to train out regression model! We will need to first split up our data into an X array that contains the features to train on, and a y array with the target variable"
   ]
  },
  {
   "cell_type": "code",
   "execution_count": 9,
   "metadata": {
    "_uuid": "830591f99de9715241e688bf9ce265e979401ff5",
    "execution": {
     "iopub.execute_input": "2021-03-01T15:45:30.396144Z",
     "iopub.status.busy": "2021-03-01T15:45:30.392488Z",
     "iopub.status.idle": "2021-03-01T15:45:30.414727Z",
     "shell.execute_reply": "2021-03-01T15:45:30.412862Z"
    },
    "jupyter": {
     "source_hidden": true
    },
    "papermill": {
     "duration": 0.035264,
     "end_time": "2021-03-01T15:45:30.415055",
     "exception": false,
     "start_time": "2021-03-01T15:45:30.379791",
     "status": "completed"
    },
    "tags": []
   },
   "outputs": [],
   "source": [
    "X=df_final.iloc[:,1:14]\n",
    "y=df_final['AveragePrice']\n",
    "from sklearn.model_selection import train_test_split\n",
    "X_train,X_test,y_train,y_test=train_test_split(X,y,test_size=0.2,random_state=42)"
   ]
  },
  {
   "cell_type": "markdown",
   "metadata": {
    "_uuid": "ea730c77a31cde9de98263079a189accb8b5772b",
    "papermill": {
     "duration": 0.008654,
     "end_time": "2021-03-01T15:45:30.436121",
     "exception": false,
     "start_time": "2021-03-01T15:45:30.427467",
     "status": "completed"
    },
    "tags": []
   },
   "source": [
    "Creating and Training the Model"
   ]
  },
  {
   "cell_type": "code",
   "execution_count": 10,
   "metadata": {
    "_uuid": "eb37015e78974e5fd2ae7e13d065c8ab0a9c6948",
    "execution": {
     "iopub.execute_input": "2021-03-01T15:45:30.460637Z",
     "iopub.status.busy": "2021-03-01T15:45:30.459571Z",
     "iopub.status.idle": "2021-03-01T15:45:46.844932Z",
     "shell.execute_reply": "2021-03-01T15:45:46.845523Z"
    },
    "jupyter": {
     "source_hidden": true
    },
    "papermill": {
     "duration": 16.400761,
     "end_time": "2021-03-01T15:45:46.845815",
     "exception": false,
     "start_time": "2021-03-01T15:45:30.445054",
     "status": "completed"
    },
    "tags": []
   },
   "outputs": [],
   "source": [
    "from sklearn.ensemble import RandomForestRegressor\n",
    "rdr = RandomForestRegressor(\n",
    "    n_estimators=n_estimators,\n",
    "    max_features=max_features\n",
    ")\n",
    "rdr.fit(X_train,y_train)\n",
    "pred=rdr.predict(X_test)"
   ]
  },
  {
   "cell_type": "code",
   "execution_count": 11,
   "metadata": {
    "_uuid": "7ed5b8d4e8abb44a4b548c13ac9fb2d65227d1c5",
    "execution": {
     "iopub.execute_input": "2021-03-01T15:45:46.867106Z",
     "iopub.status.busy": "2021-03-01T15:45:46.866401Z",
     "iopub.status.idle": "2021-03-01T15:45:46.870422Z",
     "shell.execute_reply": "2021-03-01T15:45:46.869481Z"
    },
    "jupyter": {
     "source_hidden": true
    },
    "papermill": {
     "duration": 0.015961,
     "end_time": "2021-03-01T15:45:46.870737",
     "exception": false,
     "start_time": "2021-03-01T15:45:46.854776",
     "status": "completed"
    },
    "tags": []
   },
   "outputs": [],
   "source": [
    "#%%capture cap --no-stderr\n",
    "#print(np.sqrt(mean_squared_error(y_test, pred)))"
   ]
  },
  {
   "cell_type": "code",
   "execution_count": 12,
   "metadata": {
    "execution": {
     "iopub.execute_input": "2021-03-01T15:45:46.896576Z",
     "iopub.status.busy": "2021-03-01T15:45:46.895638Z",
     "iopub.status.idle": "2021-03-01T15:45:46.899672Z",
     "shell.execute_reply": "2021-03-01T15:45:46.898826Z"
    },
    "jupyter": {
     "source_hidden": true
    },
    "papermill": {
     "duration": 0.017238,
     "end_time": "2021-03-01T15:45:46.899924",
     "exception": false,
     "start_time": "2021-03-01T15:45:46.882686",
     "status": "completed"
    },
    "tags": []
   },
   "outputs": [],
   "source": [
    "#with open(output_rmse, 'w') as f:\n",
    "#    f.write(cap.stdout)"
   ]
  },
  {
   "cell_type": "code",
   "execution_count": 13,
   "metadata": {
    "execution": {
     "iopub.execute_input": "2021-03-01T15:45:46.922367Z",
     "iopub.status.busy": "2021-03-01T15:45:46.921531Z",
     "iopub.status.idle": "2021-03-01T15:45:46.946034Z",
     "shell.execute_reply": "2021-03-01T15:45:46.945180Z"
    },
    "jupyter": {
     "source_hidden": true
    },
    "papermill": {
     "duration": 0.038725,
     "end_time": "2021-03-01T15:45:46.946261",
     "exception": false,
     "start_time": "2021-03-01T15:45:46.907536",
     "status": "completed"
    },
    "tags": []
   },
   "outputs": [
    {
     "data": {
      "text/plain": [
       "<sqlalchemy.engine.result.ResultProxy at 0x7f79d3e37490>"
      ]
     },
     "execution_count": 13,
     "metadata": {},
     "output_type": "execute_result"
    }
   ],
   "source": [
    "cnx.execute(\"\"\"\n",
    "    INSERT INTO ml.accuracies (ml_id, ml_date, accuracy) VALUES ('{0}', '{1}', {2}) \n",
    "    ON CONFLICT (ml_id, ml_date) \n",
    "    DO\n",
    "        UPDATE SET accuracy = {2};\n",
    "    \"\"\".format(ml_id, ml_date, np.sqrt(mean_squared_error(y_test, pred))))"
   ]
  }
 ],
 "metadata": {
  "kernelspec": {
   "display_name": "Python 3",
   "language": "python",
   "name": "python3"
  },
  "language_info": {
   "codemirror_mode": {
    "name": "ipython",
    "version": 3
   },
   "file_extension": ".py",
   "mimetype": "text/x-python",
   "name": "python",
   "nbconvert_exporter": "python",
   "pygments_lexer": "ipython3",
   "version": "3.7.9"
  },
  "papermill": {
   "duration": 20.044886,
   "end_time": "2021-03-01T15:45:47.363078",
   "environment_variables": {},
   "exception": null,
   "input_path": "/usr/local/airflow/include/notebooks/avocado_prediction.ipynb",
   "output_path": "/tmp/out-model-avocado-prediction-auto_150.ipynb",
   "parameters": {
    "filepath": "/tmp/avocado.csv",
    "max_features": "auto",
    "ml_id": "auto_150",
    "n_estimators": 150
   },
   "start_time": "2021-03-01T15:45:27.318192",
   "version": "2.1.2"
  }
 },
 "nbformat": 4,
 "nbformat_minor": 4
}