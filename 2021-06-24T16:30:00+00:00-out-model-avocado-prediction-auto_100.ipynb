{
 "cells": [
  {
   "cell_type": "code",
   "execution_count": 1,
   "metadata": {
    "_cell_guid": "79c7e3d0-c299-4dcb-8224-4455121ee9b0",
    "_uuid": "d629ff2d2480ee46fbb7e2d37f6b5fab8052498a",
    "execution": {
     "iopub.execute_input": "2021-06-24T16:40:09.742597Z",
     "iopub.status.busy": "2021-06-24T16:40:09.741947Z",
     "iopub.status.idle": "2021-06-24T16:40:10.391211Z",
     "shell.execute_reply": "2021-06-24T16:40:10.391795Z"
    },
    "jupyter": {
     "source_hidden": true
    },
    "papermill": {
     "duration": 0.662,
     "end_time": "2021-06-24T16:40:10.392214",
     "exception": false,
     "start_time": "2021-06-24T16:40:09.730214",
     "status": "completed"
    },
    "tags": []
   },
   "outputs": [],
   "source": [
    "import pandas as pd\n",
    "import numpy as np\n",
    "from sqlalchemy import create_engine\n",
    "from datetime import date\n",
    "from sklearn.metrics import mean_squared_error"
   ]
  },
  {
   "cell_type": "code",
   "execution_count": 2,
   "metadata": {
    "execution": {
     "iopub.execute_input": "2021-06-24T16:40:10.411904Z",
     "iopub.status.busy": "2021-06-24T16:40:10.411057Z",
     "iopub.status.idle": "2021-06-24T16:40:10.438683Z",
     "shell.execute_reply": "2021-06-24T16:40:10.438002Z"
    },
    "jupyter": {
     "source_hidden": true
    },
    "papermill": {
     "duration": 0.039241,
     "end_time": "2021-06-24T16:40:10.438891",
     "exception": false,
     "start_time": "2021-06-24T16:40:10.399650",
     "status": "completed"
    },
    "tags": []
   },
   "outputs": [],
   "source": [
    "# THIS IS PURELY FOR TEST PURPOSE NEVER DO THAT IN PRODUCTION\n",
    "POSTGRES_ADDRESS='postgres'\n",
    "POSTGRES_PORT='5432'\n",
    "POSTGRES_USERNAME='postgres'\n",
    "POSTGRES_PASSWORD='postgres'\n",
    "\n",
    "postgres_conn = 'postgresql://{0}:{1}@{2}:{3}/'.format(POSTGRES_USERNAME, POSTGRES_PASSWORD, POSTGRES_ADDRESS, POSTGRES_PORT)\n",
    "\n",
    "# Create the connection\n",
    "cnx = create_engine(postgres_conn)\n"
   ]
  },
  {
   "cell_type": "markdown",
   "metadata": {
    "_uuid": "1998755ef10683262b29765345cff1c1c7d10b15",
    "papermill": {
     "duration": 0.005371,
     "end_time": "2021-06-24T16:40:10.449550",
     "exception": false,
     "start_time": "2021-06-24T16:40:10.444179",
     "status": "completed"
    },
    "tags": []
   },
   "source": [
    "Read in the Avocado Prices csv file as a DataFrame called df"
   ]
  },
  {
   "cell_type": "code",
   "execution_count": 3,
   "metadata": {
    "execution": {
     "iopub.execute_input": "2021-06-24T16:40:10.463987Z",
     "iopub.status.busy": "2021-06-24T16:40:10.463368Z",
     "iopub.status.idle": "2021-06-24T16:40:10.465877Z",
     "shell.execute_reply": "2021-06-24T16:40:10.466277Z"
    },
    "jupyter": {
     "source_hidden": true
    },
    "papermill": {
     "duration": 0.011962,
     "end_time": "2021-06-24T16:40:10.466562",
     "exception": false,
     "start_time": "2021-06-24T16:40:10.454600",
     "status": "completed"
    },
    "tags": [
     "parameters"
    ]
   },
   "outputs": [],
   "source": [
    "# Parameterized\n",
    "\n",
    "filepath='avocado.csv'\n",
    "ml_id='auto_100'\n",
    "ml_date=date.today()\n",
    "n_estimators = 100\n",
    "max_features = 'auto'"
   ]
  },
  {
   "cell_type": "code",
   "execution_count": 4,
   "id": "e9a81bf4",
   "metadata": {
    "execution": {
     "iopub.execute_input": "2021-06-24T16:40:10.481052Z",
     "iopub.status.busy": "2021-06-24T16:40:10.480478Z",
     "iopub.status.idle": "2021-06-24T16:40:10.483360Z",
     "shell.execute_reply": "2021-06-24T16:40:10.482756Z"
    },
    "jupyter": {
     "source_hidden": true
    },
    "papermill": {
     "duration": 0.011741,
     "end_time": "2021-06-24T16:40:10.483607",
     "exception": false,
     "start_time": "2021-06-24T16:40:10.471866",
     "status": "completed"
    },
    "tags": [
     "injected-parameters"
    ]
   },
   "outputs": [],
   "source": [
    "# Parameters\n",
    "filepath = \"/tmp/avocado.csv\"\n",
    "n_estimators = 100\n",
    "max_features = \"auto\"\n",
    "ml_id = \"auto_100\"\n"
   ]
  },
  {
   "cell_type": "code",
   "execution_count": 5,
   "metadata": {
    "_uuid": "55d0e719eb8b91d763c1eacaf0f51ee0586486fc",
    "execution": {
     "iopub.execute_input": "2021-06-24T16:40:10.497625Z",
     "iopub.status.busy": "2021-06-24T16:40:10.497076Z",
     "iopub.status.idle": "2021-06-24T16:40:10.524102Z",
     "shell.execute_reply": "2021-06-24T16:40:10.523722Z"
    },
    "jupyter": {
     "source_hidden": true
    },
    "papermill": {
     "duration": 0.035224,
     "end_time": "2021-06-24T16:40:10.524276",
     "exception": false,
     "start_time": "2021-06-24T16:40:10.489052",
     "status": "completed"
    },
    "tags": []
   },
   "outputs": [],
   "source": [
    "df= pd.read_csv(filepath)"
   ]
  },
  {
   "cell_type": "markdown",
   "metadata": {
    "_uuid": "434e0457f550e2200424e5ec26162e1aa5904005",
    "papermill": {
     "duration": 0.005152,
     "end_time": "2021-06-24T16:40:10.534099",
     "exception": false,
     "start_time": "2021-06-24T16:40:10.528947",
     "status": "completed"
    },
    "tags": []
   },
   "source": [
    "The Feature \"Unnamed:0\" is just a representation of the indexes, so it's useless to keep it, lets remove it !"
   ]
  },
  {
   "cell_type": "code",
   "execution_count": 6,
   "metadata": {
    "_uuid": "9875398e37728dc3141fed4228be337a4735beb6",
    "execution": {
     "iopub.execute_input": "2021-06-24T16:40:10.549020Z",
     "iopub.status.busy": "2021-06-24T16:40:10.548530Z",
     "iopub.status.idle": "2021-06-24T16:40:10.550746Z",
     "shell.execute_reply": "2021-06-24T16:40:10.551080Z"
    },
    "jupyter": {
     "source_hidden": true
    },
    "papermill": {
     "duration": 0.012468,
     "end_time": "2021-06-24T16:40:10.551273",
     "exception": false,
     "start_time": "2021-06-24T16:40:10.538805",
     "status": "completed"
    },
    "tags": []
   },
   "outputs": [],
   "source": [
    "df.drop('Unnamed: 0',axis=1,inplace=True)"
   ]
  },
  {
   "cell_type": "markdown",
   "metadata": {
    "_uuid": "12e94ad381e4cb8d2c8a9bbe08ce07ab5d49c040",
    "papermill": {
     "duration": 0.004575,
     "end_time": "2021-06-24T16:40:10.561277",
     "exception": false,
     "start_time": "2021-06-24T16:40:10.556702",
     "status": "completed"
    },
    "tags": []
   },
   "source": [
    "well as a first observation we can see that we are lucky, we dont have any missing values (18249 complete data) and 13 columns.\n",
    "Now let's do some Feature Engineering on the Date Feature so we can be able to use the day and the month columns in building our machine learning model later. ( I didn't mention the year because its already there in data frame)"
   ]
  },
  {
   "cell_type": "code",
   "execution_count": 7,
   "metadata": {
    "_uuid": "f031639ce794656e877484d1c9c356df7028177f",
    "execution": {
     "iopub.execute_input": "2021-06-24T16:40:10.575096Z",
     "iopub.status.busy": "2021-06-24T16:40:10.574615Z",
     "iopub.status.idle": "2021-06-24T16:40:10.718070Z",
     "shell.execute_reply": "2021-06-24T16:40:10.718479Z"
    },
    "jupyter": {
     "source_hidden": true
    },
    "papermill": {
     "duration": 0.153077,
     "end_time": "2021-06-24T16:40:10.718774",
     "exception": false,
     "start_time": "2021-06-24T16:40:10.565697",
     "status": "completed"
    },
    "tags": []
   },
   "outputs": [],
   "source": [
    "df['Date']=pd.to_datetime(df['Date'])\n",
    "df['Month']=df['Date'].apply(lambda x:x.month)\n",
    "df['Day']=df['Date'].apply(lambda x:x.day)"
   ]
  },
  {
   "cell_type": "markdown",
   "metadata": {
    "_uuid": "ebdcac9924ce3e366fd3a75170682f7113385b7a",
    "papermill": {
     "duration": 0.006279,
     "end_time": "2021-06-24T16:40:10.731166",
     "exception": false,
     "start_time": "2021-06-24T16:40:10.724887",
     "status": "completed"
    },
    "tags": []
   },
   "source": [
    "as we can see we have 54 regions and 2 unique types, so it's going to be easy to to transform the type feature to dummies, but for the region its going to be a bit complexe so I decided to drop the entire column.\n",
    "I will drop the Date Feature as well because I already have 3 other columns for the Year, Month and Day."
   ]
  },
  {
   "cell_type": "code",
   "execution_count": 8,
   "metadata": {
    "_uuid": "a798682da34327b731ef262985fd50ba68e06460",
    "execution": {
     "iopub.execute_input": "2021-06-24T16:40:10.748620Z",
     "iopub.status.busy": "2021-06-24T16:40:10.747878Z",
     "iopub.status.idle": "2021-06-24T16:40:10.758341Z",
     "shell.execute_reply": "2021-06-24T16:40:10.757797Z"
    },
    "jupyter": {
     "source_hidden": true
    },
    "papermill": {
     "duration": 0.021573,
     "end_time": "2021-06-24T16:40:10.758588",
     "exception": false,
     "start_time": "2021-06-24T16:40:10.737015",
     "status": "completed"
    },
    "tags": []
   },
   "outputs": [],
   "source": [
    "df_final=pd.get_dummies(df.drop(['region','Date'],axis=1),drop_first=True)"
   ]
  },
  {
   "cell_type": "markdown",
   "metadata": {
    "_uuid": "8b74a6b88cb3e9b3e1d1e987e061048f203c7364",
    "papermill": {
     "duration": 0.006045,
     "end_time": "2021-06-24T16:40:10.770307",
     "exception": false,
     "start_time": "2021-06-24T16:40:10.764262",
     "status": "completed"
    },
    "tags": []
   },
   "source": [
    "Now our data are ready! lets apply our model which is going to be the Linear Regression because our Target variable 'AveragePrice'is continuous.\n",
    "Let's now begin to train out regression model! We will need to first split up our data into an X array that contains the features to train on, and a y array with the target variable"
   ]
  },
  {
   "cell_type": "code",
   "execution_count": 9,
   "metadata": {
    "_uuid": "830591f99de9715241e688bf9ce265e979401ff5",
    "execution": {
     "iopub.execute_input": "2021-06-24T16:40:10.788246Z",
     "iopub.status.busy": "2021-06-24T16:40:10.787576Z",
     "iopub.status.idle": "2021-06-24T16:40:10.798284Z",
     "shell.execute_reply": "2021-06-24T16:40:10.798736Z"
    },
    "jupyter": {
     "source_hidden": true
    },
    "papermill": {
     "duration": 0.023,
     "end_time": "2021-06-24T16:40:10.798989",
     "exception": false,
     "start_time": "2021-06-24T16:40:10.775989",
     "status": "completed"
    },
    "tags": []
   },
   "outputs": [],
   "source": [
    "X=df_final.iloc[:,1:14]\n",
    "y=df_final['AveragePrice']\n",
    "from sklearn.model_selection import train_test_split\n",
    "X_train,X_test,y_train,y_test=train_test_split(X,y,test_size=0.2,random_state=42)"
   ]
  },
  {
   "cell_type": "markdown",
   "metadata": {
    "_uuid": "ea730c77a31cde9de98263079a189accb8b5772b",
    "papermill": {
     "duration": 0.005741,
     "end_time": "2021-06-24T16:40:10.810730",
     "exception": false,
     "start_time": "2021-06-24T16:40:10.804989",
     "status": "completed"
    },
    "tags": []
   },
   "source": [
    "Creating and Training the Model"
   ]
  },
  {
   "cell_type": "code",
   "execution_count": 10,
   "metadata": {
    "_uuid": "eb37015e78974e5fd2ae7e13d065c8ab0a9c6948",
    "execution": {
     "iopub.execute_input": "2021-06-24T16:40:10.827802Z",
     "iopub.status.busy": "2021-06-24T16:40:10.827129Z",
     "iopub.status.idle": "2021-06-24T16:40:18.695502Z",
     "shell.execute_reply": "2021-06-24T16:40:18.694885Z"
    },
    "jupyter": {
     "source_hidden": true
    },
    "papermill": {
     "duration": 7.879165,
     "end_time": "2021-06-24T16:40:18.695765",
     "exception": false,
     "start_time": "2021-06-24T16:40:10.816600",
     "status": "completed"
    },
    "tags": []
   },
   "outputs": [],
   "source": [
    "from sklearn.ensemble import RandomForestRegressor\n",
    "rdr = RandomForestRegressor(\n",
    "    n_estimators=n_estimators,\n",
    "    max_features=max_features\n",
    ")\n",
    "rdr.fit(X_train,y_train)\n",
    "pred=rdr.predict(X_test)"
   ]
  },
  {
   "cell_type": "code",
   "execution_count": 11,
   "metadata": {
    "_uuid": "7ed5b8d4e8abb44a4b548c13ac9fb2d65227d1c5",
    "execution": {
     "iopub.execute_input": "2021-06-24T16:40:18.711117Z",
     "iopub.status.busy": "2021-06-24T16:40:18.710515Z",
     "iopub.status.idle": "2021-06-24T16:40:18.713588Z",
     "shell.execute_reply": "2021-06-24T16:40:18.713106Z"
    },
    "jupyter": {
     "source_hidden": true
    },
    "papermill": {
     "duration": 0.012081,
     "end_time": "2021-06-24T16:40:18.713788",
     "exception": false,
     "start_time": "2021-06-24T16:40:18.701707",
     "status": "completed"
    },
    "tags": []
   },
   "outputs": [],
   "source": [
    "#%%capture cap --no-stderr\n",
    "#print(np.sqrt(mean_squared_error(y_test, pred)))"
   ]
  },
  {
   "cell_type": "code",
   "execution_count": 12,
   "metadata": {
    "execution": {
     "iopub.execute_input": "2021-06-24T16:40:18.728881Z",
     "iopub.status.busy": "2021-06-24T16:40:18.728244Z",
     "iopub.status.idle": "2021-06-24T16:40:18.730924Z",
     "shell.execute_reply": "2021-06-24T16:40:18.731345Z"
    },
    "jupyter": {
     "source_hidden": true
    },
    "papermill": {
     "duration": 0.012304,
     "end_time": "2021-06-24T16:40:18.731631",
     "exception": false,
     "start_time": "2021-06-24T16:40:18.719327",
     "status": "completed"
    },
    "tags": []
   },
   "outputs": [],
   "source": [
    "#with open(output_rmse, 'w') as f:\n",
    "#    f.write(cap.stdout)"
   ]
  },
  {
   "cell_type": "code",
   "execution_count": 13,
   "metadata": {
    "execution": {
     "iopub.execute_input": "2021-06-24T16:40:18.748504Z",
     "iopub.status.busy": "2021-06-24T16:40:18.747845Z",
     "iopub.status.idle": "2021-06-24T16:40:18.767844Z",
     "shell.execute_reply": "2021-06-24T16:40:18.767170Z"
    },
    "jupyter": {
     "source_hidden": true
    },
    "papermill": {
     "duration": 0.030767,
     "end_time": "2021-06-24T16:40:18.768046",
     "exception": false,
     "start_time": "2021-06-24T16:40:18.737279",
     "status": "completed"
    },
    "tags": []
   },
   "outputs": [
    {
     "data": {
      "text/plain": [
       "<sqlalchemy.engine.result.ResultProxy at 0x7f9a94101950>"
      ]
     },
     "execution_count": 13,
     "metadata": {},
     "output_type": "execute_result"
    }
   ],
   "source": [
    "cnx.execute(\"\"\"\n",
    "    INSERT INTO ml.accuracies (ml_id, ml_date, accuracy) VALUES ('{0}', '{1}', {2}) \n",
    "    ON CONFLICT (ml_id, ml_date) \n",
    "    DO\n",
    "        UPDATE SET accuracy = {2};\n",
    "    \"\"\".format(ml_id, ml_date, np.sqrt(mean_squared_error(y_test, pred))))"
   ]
  }
 ],
 "metadata": {
  "kernelspec": {
   "display_name": "Python 3",
   "language": "python",
   "name": "python3"
  },
  "language_info": {
   "codemirror_mode": {
    "name": "ipython",
    "version": 3
   },
   "file_extension": ".py",
   "mimetype": "text/x-python",
   "name": "python",
   "nbconvert_exporter": "python",
   "pygments_lexer": "ipython3",
   "version": "3.7.10"
  },
  "papermill": {
   "duration": 11.374194,
   "end_time": "2021-06-24T16:40:19.968836",
   "environment_variables": {},
   "exception": null,
   "input_path": "/usr/local/airflow/include/notebooks/avocado_prediction.ipynb",
   "output_path": "/tmp/out-model-avocado-prediction-auto_100.ipynb",
   "parameters": {
    "filepath": "/tmp/avocado.csv",
    "max_features": "auto",
    "ml_id": "auto_100",
    "n_estimators": 100
   },
   "start_time": "2021-06-24T16:40:08.594642",
   "version": "2.1.2"
  }
 },
 "nbformat": 4,
 "nbformat_minor": 4
}