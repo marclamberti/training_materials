{
 "cells": [
  {
   "cell_type": "code",
   "execution_count": 1,
   "metadata": {
    "_cell_guid": "79c7e3d0-c299-4dcb-8224-4455121ee9b0",
    "_uuid": "d629ff2d2480ee46fbb7e2d37f6b5fab8052498a",
    "execution": {
     "iopub.execute_input": "2021-03-01T16:00:30.554556Z",
     "iopub.status.busy": "2021-03-01T16:00:30.552809Z",
     "iopub.status.idle": "2021-03-01T16:00:31.639137Z",
     "shell.execute_reply": "2021-03-01T16:00:31.638238Z"
    },
    "jupyter": {
     "source_hidden": true
    },
    "papermill": {
     "duration": 1.1053,
     "end_time": "2021-03-01T16:00:31.639431",
     "exception": false,
     "start_time": "2021-03-01T16:00:30.534131",
     "status": "completed"
    },
    "tags": []
   },
   "outputs": [],
   "source": [
    "import pandas as pd\n",
    "import numpy as np\n",
    "from sqlalchemy import create_engine\n",
    "from datetime import date\n",
    "from sklearn.metrics import mean_squared_error"
   ]
  },
  {
   "cell_type": "code",
   "execution_count": 2,
   "metadata": {
    "execution": {
     "iopub.execute_input": "2021-03-01T16:00:31.662646Z",
     "iopub.status.busy": "2021-03-01T16:00:31.661753Z",
     "iopub.status.idle": "2021-03-01T16:00:31.769457Z",
     "shell.execute_reply": "2021-03-01T16:00:31.768221Z"
    },
    "jupyter": {
     "source_hidden": true
    },
    "papermill": {
     "duration": 0.122747,
     "end_time": "2021-03-01T16:00:31.770113",
     "exception": false,
     "start_time": "2021-03-01T16:00:31.647366",
     "status": "completed"
    },
    "tags": []
   },
   "outputs": [],
   "source": [
    "# THIS IS PURELY FOR TEST PURPOSE NEVER DO THAT IN PRODUCTION\n",
    "POSTGRES_ADDRESS='postgres'\n",
    "POSTGRES_PORT='5432'\n",
    "POSTGRES_USERNAME='postgres'\n",
    "POSTGRES_PASSWORD='postgres'\n",
    "\n",
    "postgres_conn = 'postgresql://{0}:{1}@{2}:{3}/'.format(POSTGRES_USERNAME, POSTGRES_PASSWORD, POSTGRES_ADDRESS, POSTGRES_PORT)\n",
    "\n",
    "# Create the connection\n",
    "cnx = create_engine(postgres_conn)\n"
   ]
  },
  {
   "cell_type": "markdown",
   "metadata": {
    "_uuid": "1998755ef10683262b29765345cff1c1c7d10b15",
    "papermill": {
     "duration": 0.012798,
     "end_time": "2021-03-01T16:00:31.801361",
     "exception": false,
     "start_time": "2021-03-01T16:00:31.788563",
     "status": "completed"
    },
    "tags": []
   },
   "source": [
    "Read in the Avocado Prices csv file as a DataFrame called df"
   ]
  },
  {
   "cell_type": "code",
   "execution_count": 3,
   "metadata": {
    "execution": {
     "iopub.execute_input": "2021-03-01T16:00:31.833630Z",
     "iopub.status.busy": "2021-03-01T16:00:31.831480Z",
     "iopub.status.idle": "2021-03-01T16:00:31.836514Z",
     "shell.execute_reply": "2021-03-01T16:00:31.837319Z"
    },
    "jupyter": {
     "source_hidden": true
    },
    "papermill": {
     "duration": 0.023928,
     "end_time": "2021-03-01T16:00:31.837615",
     "exception": false,
     "start_time": "2021-03-01T16:00:31.813687",
     "status": "completed"
    },
    "tags": [
     "parameters"
    ]
   },
   "outputs": [],
   "source": [
    "# Parameterized\n",
    "\n",
    "filepath='avocado.csv'\n",
    "ml_id='auto_100'\n",
    "ml_date=date.today()\n",
    "n_estimators = 100\n",
    "max_features = 'auto'"
   ]
  },
  {
   "cell_type": "code",
   "execution_count": 4,
   "id": "clinical-indonesian",
   "metadata": {
    "execution": {
     "iopub.execute_input": "2021-03-01T16:00:31.863311Z",
     "iopub.status.busy": "2021-03-01T16:00:31.861834Z",
     "iopub.status.idle": "2021-03-01T16:00:31.867053Z",
     "shell.execute_reply": "2021-03-01T16:00:31.867987Z"
    },
    "jupyter": {
     "source_hidden": true
    },
    "papermill": {
     "duration": 0.022852,
     "end_time": "2021-03-01T16:00:31.868278",
     "exception": false,
     "start_time": "2021-03-01T16:00:31.845426",
     "status": "completed"
    },
    "tags": [
     "injected-parameters"
    ]
   },
   "outputs": [],
   "source": [
    "# Parameters\n",
    "filepath = \"/tmp/avocado.csv\"\n",
    "n_estimators = 150\n",
    "max_features = \"auto\"\n",
    "ml_id = \"auto_150\"\n"
   ]
  },
  {
   "cell_type": "code",
   "execution_count": 5,
   "metadata": {
    "_uuid": "55d0e719eb8b91d763c1eacaf0f51ee0586486fc",
    "execution": {
     "iopub.execute_input": "2021-03-01T16:00:31.893305Z",
     "iopub.status.busy": "2021-03-01T16:00:31.891398Z",
     "iopub.status.idle": "2021-03-01T16:00:31.946119Z",
     "shell.execute_reply": "2021-03-01T16:00:31.946739Z"
    },
    "jupyter": {
     "source_hidden": true
    },
    "papermill": {
     "duration": 0.069435,
     "end_time": "2021-03-01T16:00:31.947168",
     "exception": false,
     "start_time": "2021-03-01T16:00:31.877733",
     "status": "completed"
    },
    "tags": []
   },
   "outputs": [],
   "source": [
    "df= pd.read_csv(filepath)"
   ]
  },
  {
   "cell_type": "markdown",
   "metadata": {
    "_uuid": "434e0457f550e2200424e5ec26162e1aa5904005",
    "papermill": {
     "duration": 0.011029,
     "end_time": "2021-03-01T16:00:31.966177",
     "exception": false,
     "start_time": "2021-03-01T16:00:31.955148",
     "status": "completed"
    },
    "tags": []
   },
   "source": [
    "The Feature \"Unnamed:0\" is just a representation of the indexes, so it's useless to keep it, lets remove it !"
   ]
  },
  {
   "cell_type": "code",
   "execution_count": 6,
   "metadata": {
    "_uuid": "9875398e37728dc3141fed4228be337a4735beb6",
    "execution": {
     "iopub.execute_input": "2021-03-01T16:00:32.006242Z",
     "iopub.status.busy": "2021-03-01T16:00:32.004578Z",
     "iopub.status.idle": "2021-03-01T16:00:32.013108Z",
     "shell.execute_reply": "2021-03-01T16:00:32.011304Z"
    },
    "jupyter": {
     "source_hidden": true
    },
    "papermill": {
     "duration": 0.036973,
     "end_time": "2021-03-01T16:00:32.013699",
     "exception": false,
     "start_time": "2021-03-01T16:00:31.976726",
     "status": "completed"
    },
    "tags": []
   },
   "outputs": [],
   "source": [
    "df.drop('Unnamed: 0',axis=1,inplace=True)"
   ]
  },
  {
   "cell_type": "markdown",
   "metadata": {
    "_uuid": "12e94ad381e4cb8d2c8a9bbe08ce07ab5d49c040",
    "papermill": {
     "duration": 0.013505,
     "end_time": "2021-03-01T16:00:32.044763",
     "exception": false,
     "start_time": "2021-03-01T16:00:32.031258",
     "status": "completed"
    },
    "tags": []
   },
   "source": [
    "well as a first observation we can see that we are lucky, we dont have any missing values (18249 complete data) and 13 columns.\n",
    "Now let's do some Feature Engineering on the Date Feature so we can be able to use the day and the month columns in building our machine learning model later. ( I didn't mention the year because its already there in data frame)"
   ]
  },
  {
   "cell_type": "code",
   "execution_count": 7,
   "metadata": {
    "_uuid": "f031639ce794656e877484d1c9c356df7028177f",
    "execution": {
     "iopub.execute_input": "2021-03-01T16:00:32.074311Z",
     "iopub.status.busy": "2021-03-01T16:00:32.073019Z",
     "iopub.status.idle": "2021-03-01T16:00:32.299113Z",
     "shell.execute_reply": "2021-03-01T16:00:32.300052Z"
    },
    "jupyter": {
     "source_hidden": true
    },
    "papermill": {
     "duration": 0.245308,
     "end_time": "2021-03-01T16:00:32.300424",
     "exception": false,
     "start_time": "2021-03-01T16:00:32.055116",
     "status": "completed"
    },
    "tags": []
   },
   "outputs": [],
   "source": [
    "df['Date']=pd.to_datetime(df['Date'])\n",
    "df['Month']=df['Date'].apply(lambda x:x.month)\n",
    "df['Day']=df['Date'].apply(lambda x:x.day)"
   ]
  },
  {
   "cell_type": "markdown",
   "metadata": {
    "_uuid": "ebdcac9924ce3e366fd3a75170682f7113385b7a",
    "papermill": {
     "duration": 0.011309,
     "end_time": "2021-03-01T16:00:32.323488",
     "exception": false,
     "start_time": "2021-03-01T16:00:32.312179",
     "status": "completed"
    },
    "tags": []
   },
   "source": [
    "as we can see we have 54 regions and 2 unique types, so it's going to be easy to to transform the type feature to dummies, but for the region its going to be a bit complexe so I decided to drop the entire column.\n",
    "I will drop the Date Feature as well because I already have 3 other columns for the Year, Month and Day."
   ]
  },
  {
   "cell_type": "code",
   "execution_count": 8,
   "metadata": {
    "_uuid": "a798682da34327b731ef262985fd50ba68e06460",
    "execution": {
     "iopub.execute_input": "2021-03-01T16:00:32.351545Z",
     "iopub.status.busy": "2021-03-01T16:00:32.350256Z",
     "iopub.status.idle": "2021-03-01T16:00:32.371738Z",
     "shell.execute_reply": "2021-03-01T16:00:32.373062Z"
    },
    "jupyter": {
     "source_hidden": true
    },
    "papermill": {
     "duration": 0.039956,
     "end_time": "2021-03-01T16:00:32.373389",
     "exception": false,
     "start_time": "2021-03-01T16:00:32.333433",
     "status": "completed"
    },
    "tags": []
   },
   "outputs": [],
   "source": [
    "df_final=pd.get_dummies(df.drop(['region','Date'],axis=1),drop_first=True)"
   ]
  },
  {
   "cell_type": "markdown",
   "metadata": {
    "_uuid": "8b74a6b88cb3e9b3e1d1e987e061048f203c7364",
    "papermill": {
     "duration": 0.008288,
     "end_time": "2021-03-01T16:00:32.390557",
     "exception": false,
     "start_time": "2021-03-01T16:00:32.382269",
     "status": "completed"
    },
    "tags": []
   },
   "source": [
    "Now our data are ready! lets apply our model which is going to be the Linear Regression because our Target variable 'AveragePrice'is continuous.\n",
    "Let's now begin to train out regression model! We will need to first split up our data into an X array that contains the features to train on, and a y array with the target variable"
   ]
  },
  {
   "cell_type": "code",
   "execution_count": 9,
   "metadata": {
    "_uuid": "830591f99de9715241e688bf9ce265e979401ff5",
    "execution": {
     "iopub.execute_input": "2021-03-01T16:00:32.415937Z",
     "iopub.status.busy": "2021-03-01T16:00:32.414994Z",
     "iopub.status.idle": "2021-03-01T16:00:32.431989Z",
     "shell.execute_reply": "2021-03-01T16:00:32.431038Z"
    },
    "jupyter": {
     "source_hidden": true
    },
    "papermill": {
     "duration": 0.032059,
     "end_time": "2021-03-01T16:00:32.432253",
     "exception": false,
     "start_time": "2021-03-01T16:00:32.400194",
     "status": "completed"
    },
    "tags": []
   },
   "outputs": [],
   "source": [
    "X=df_final.iloc[:,1:14]\n",
    "y=df_final['AveragePrice']\n",
    "from sklearn.model_selection import train_test_split\n",
    "X_train,X_test,y_train,y_test=train_test_split(X,y,test_size=0.2,random_state=42)"
   ]
  },
  {
   "cell_type": "markdown",
   "metadata": {
    "_uuid": "ea730c77a31cde9de98263079a189accb8b5772b",
    "papermill": {
     "duration": 0.008996,
     "end_time": "2021-03-01T16:00:32.450562",
     "exception": false,
     "start_time": "2021-03-01T16:00:32.441566",
     "status": "completed"
    },
    "tags": []
   },
   "source": [
    "Creating and Training the Model"
   ]
  },
  {
   "cell_type": "code",
   "execution_count": 10,
   "metadata": {
    "_uuid": "eb37015e78974e5fd2ae7e13d065c8ab0a9c6948",
    "execution": {
     "iopub.execute_input": "2021-03-01T16:00:32.481722Z",
     "iopub.status.busy": "2021-03-01T16:00:32.480818Z",
     "iopub.status.idle": "2021-03-01T16:00:50.000639Z",
     "shell.execute_reply": "2021-03-01T16:00:49.998739Z"
    },
    "jupyter": {
     "source_hidden": true
    },
    "papermill": {
     "duration": 17.53825,
     "end_time": "2021-03-01T16:00:50.000965",
     "exception": false,
     "start_time": "2021-03-01T16:00:32.462715",
     "status": "completed"
    },
    "tags": []
   },
   "outputs": [],
   "source": [
    "from sklearn.ensemble import RandomForestRegressor\n",
    "rdr = RandomForestRegressor(\n",
    "    n_estimators=n_estimators,\n",
    "    max_features=max_features\n",
    ")\n",
    "rdr.fit(X_train,y_train)\n",
    "pred=rdr.predict(X_test)"
   ]
  },
  {
   "cell_type": "code",
   "execution_count": 11,
   "metadata": {
    "_uuid": "7ed5b8d4e8abb44a4b548c13ac9fb2d65227d1c5",
    "execution": {
     "iopub.execute_input": "2021-03-01T16:00:50.023403Z",
     "iopub.status.busy": "2021-03-01T16:00:50.021293Z",
     "iopub.status.idle": "2021-03-01T16:00:50.024355Z",
     "shell.execute_reply": "2021-03-01T16:00:50.024899Z"
    },
    "jupyter": {
     "source_hidden": true
    },
    "papermill": {
     "duration": 0.016795,
     "end_time": "2021-03-01T16:00:50.025248",
     "exception": false,
     "start_time": "2021-03-01T16:00:50.008453",
     "status": "completed"
    },
    "tags": []
   },
   "outputs": [],
   "source": [
    "#%%capture cap --no-stderr\n",
    "#print(np.sqrt(mean_squared_error(y_test, pred)))"
   ]
  },
  {
   "cell_type": "code",
   "execution_count": 12,
   "metadata": {
    "execution": {
     "iopub.execute_input": "2021-03-01T16:00:50.048383Z",
     "iopub.status.busy": "2021-03-01T16:00:50.045726Z",
     "iopub.status.idle": "2021-03-01T16:00:50.049589Z",
     "shell.execute_reply": "2021-03-01T16:00:50.050233Z"
    },
    "jupyter": {
     "source_hidden": true
    },
    "papermill": {
     "duration": 0.017514,
     "end_time": "2021-03-01T16:00:50.050522",
     "exception": false,
     "start_time": "2021-03-01T16:00:50.033008",
     "status": "completed"
    },
    "tags": []
   },
   "outputs": [],
   "source": [
    "#with open(output_rmse, 'w') as f:\n",
    "#    f.write(cap.stdout)"
   ]
  },
  {
   "cell_type": "code",
   "execution_count": 13,
   "metadata": {
    "execution": {
     "iopub.execute_input": "2021-03-01T16:00:50.075460Z",
     "iopub.status.busy": "2021-03-01T16:00:50.074317Z",
     "iopub.status.idle": "2021-03-01T16:00:50.107377Z",
     "shell.execute_reply": "2021-03-01T16:00:50.108425Z"
    },
    "jupyter": {
     "source_hidden": true
    },
    "papermill": {
     "duration": 0.050261,
     "end_time": "2021-03-01T16:00:50.108781",
     "exception": false,
     "start_time": "2021-03-01T16:00:50.058520",
     "status": "completed"
    },
    "tags": []
   },
   "outputs": [
    {
     "data": {
      "text/plain": [
       "<sqlalchemy.engine.result.ResultProxy at 0x7efe00e57fd0>"
      ]
     },
     "execution_count": 13,
     "metadata": {},
     "output_type": "execute_result"
    }
   ],
   "source": [
    "cnx.execute(\"\"\"\n",
    "    INSERT INTO ml.accuracies (ml_id, ml_date, accuracy) VALUES ('{0}', '{1}', {2}) \n",
    "    ON CONFLICT (ml_id, ml_date) \n",
    "    DO\n",
    "        UPDATE SET accuracy = {2};\n",
    "    \"\"\".format(ml_id, ml_date, np.sqrt(mean_squared_error(y_test, pred))))"
   ]
  }
 ],
 "metadata": {
  "kernelspec": {
   "display_name": "Python 3",
   "language": "python",
   "name": "python3"
  },
  "language_info": {
   "codemirror_mode": {
    "name": "ipython",
    "version": 3
   },
   "file_extension": ".py",
   "mimetype": "text/x-python",
   "name": "python",
   "nbconvert_exporter": "python",
   "pygments_lexer": "ipython3",
   "version": "3.7.9"
  },
  "papermill": {
   "duration": 21.868906,
   "end_time": "2021-03-01T16:00:50.630641",
   "environment_variables": {},
   "exception": null,
   "input_path": "/usr/local/airflow/include/notebooks/avocado_prediction.ipynb",
   "output_path": "/tmp/out-model-avocado-prediction-auto_150.ipynb",
   "parameters": {
    "filepath": "/tmp/avocado.csv",
    "max_features": "auto",
    "ml_id": "auto_150",
    "n_estimators": 150
   },
   "start_time": "2021-03-01T16:00:28.761735",
   "version": "2.1.2"
  }
 },
 "nbformat": 4,
 "nbformat_minor": 4
}