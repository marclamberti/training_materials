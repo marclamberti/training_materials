{
 "cells": [
  {
   "cell_type": "code",
   "execution_count": 1,
   "metadata": {
    "_cell_guid": "79c7e3d0-c299-4dcb-8224-4455121ee9b0",
    "_uuid": "d629ff2d2480ee46fbb7e2d37f6b5fab8052498a",
    "execution": {
     "iopub.execute_input": "2021-06-25T07:10:12.226883Z",
     "iopub.status.busy": "2021-06-25T07:10:12.226091Z",
     "iopub.status.idle": "2021-06-25T07:10:12.861296Z",
     "shell.execute_reply": "2021-06-25T07:10:12.861917Z"
    },
    "jupyter": {
     "source_hidden": true
    },
    "papermill": {
     "duration": 0.650278,
     "end_time": "2021-06-25T07:10:12.862366",
     "exception": false,
     "start_time": "2021-06-25T07:10:12.212088",
     "status": "completed"
    },
    "tags": []
   },
   "outputs": [],
   "source": [
    "import pandas as pd\n",
    "import numpy as np\n",
    "from sqlalchemy import create_engine\n",
    "from datetime import date\n",
    "from sklearn.metrics import mean_squared_error"
   ]
  },
  {
   "cell_type": "code",
   "execution_count": 2,
   "metadata": {
    "execution": {
     "iopub.execute_input": "2021-06-25T07:10:12.887687Z",
     "iopub.status.busy": "2021-06-25T07:10:12.882961Z",
     "iopub.status.idle": "2021-06-25T07:10:12.906585Z",
     "shell.execute_reply": "2021-06-25T07:10:12.906092Z"
    },
    "jupyter": {
     "source_hidden": true
    },
    "papermill": {
     "duration": 0.037133,
     "end_time": "2021-06-25T07:10:12.906795",
     "exception": false,
     "start_time": "2021-06-25T07:10:12.869662",
     "status": "completed"
    },
    "tags": []
   },
   "outputs": [],
   "source": [
    "# THIS IS PURELY FOR TEST PURPOSE NEVER DO THAT IN PRODUCTION\n",
    "POSTGRES_ADDRESS='postgres'\n",
    "POSTGRES_PORT='5432'\n",
    "POSTGRES_USERNAME='postgres'\n",
    "POSTGRES_PASSWORD='postgres'\n",
    "\n",
    "postgres_conn = 'postgresql://{0}:{1}@{2}:{3}/'.format(POSTGRES_USERNAME, POSTGRES_PASSWORD, POSTGRES_ADDRESS, POSTGRES_PORT)\n",
    "\n",
    "# Create the connection\n",
    "cnx = create_engine(postgres_conn)\n"
   ]
  },
  {
   "cell_type": "markdown",
   "metadata": {
    "_uuid": "1998755ef10683262b29765345cff1c1c7d10b15",
    "papermill": {
     "duration": 0.005149,
     "end_time": "2021-06-25T07:10:12.917118",
     "exception": false,
     "start_time": "2021-06-25T07:10:12.911969",
     "status": "completed"
    },
    "tags": []
   },
   "source": [
    "Read in the Avocado Prices csv file as a DataFrame called df"
   ]
  },
  {
   "cell_type": "code",
   "execution_count": 3,
   "metadata": {
    "execution": {
     "iopub.execute_input": "2021-06-25T07:10:12.931279Z",
     "iopub.status.busy": "2021-06-25T07:10:12.930639Z",
     "iopub.status.idle": "2021-06-25T07:10:12.933603Z",
     "shell.execute_reply": "2021-06-25T07:10:12.933121Z"
    },
    "jupyter": {
     "source_hidden": true
    },
    "papermill": {
     "duration": 0.011777,
     "end_time": "2021-06-25T07:10:12.933798",
     "exception": false,
     "start_time": "2021-06-25T07:10:12.922021",
     "status": "completed"
    },
    "tags": [
     "parameters"
    ]
   },
   "outputs": [],
   "source": [
    "# Parameterized\n",
    "\n",
    "filepath='avocado.csv'\n",
    "ml_id='auto_100'\n",
    "ml_date=date.today()\n",
    "n_estimators = 100\n",
    "max_features = 'auto'"
   ]
  },
  {
   "cell_type": "code",
   "execution_count": 4,
   "id": "066f481d",
   "metadata": {
    "execution": {
     "iopub.execute_input": "2021-06-25T07:10:12.947843Z",
     "iopub.status.busy": "2021-06-25T07:10:12.947269Z",
     "iopub.status.idle": "2021-06-25T07:10:12.950520Z",
     "shell.execute_reply": "2021-06-25T07:10:12.949948Z"
    },
    "jupyter": {
     "source_hidden": true
    },
    "papermill": {
     "duration": 0.011712,
     "end_time": "2021-06-25T07:10:12.950709",
     "exception": false,
     "start_time": "2021-06-25T07:10:12.938997",
     "status": "completed"
    },
    "tags": [
     "injected-parameters"
    ]
   },
   "outputs": [],
   "source": [
    "# Parameters\n",
    "filepath = \"/tmp/avocado.csv\"\n",
    "n_estimators = 100\n",
    "max_features = \"auto\"\n",
    "ml_id = \"auto_100\"\n"
   ]
  },
  {
   "cell_type": "code",
   "execution_count": 5,
   "metadata": {
    "_uuid": "55d0e719eb8b91d763c1eacaf0f51ee0586486fc",
    "execution": {
     "iopub.execute_input": "2021-06-25T07:10:12.965571Z",
     "iopub.status.busy": "2021-06-25T07:10:12.964950Z",
     "iopub.status.idle": "2021-06-25T07:10:12.994257Z",
     "shell.execute_reply": "2021-06-25T07:10:12.994722Z"
    },
    "jupyter": {
     "source_hidden": true
    },
    "papermill": {
     "duration": 0.038991,
     "end_time": "2021-06-25T07:10:12.994968",
     "exception": false,
     "start_time": "2021-06-25T07:10:12.955977",
     "status": "completed"
    },
    "tags": []
   },
   "outputs": [],
   "source": [
    "df= pd.read_csv(filepath)"
   ]
  },
  {
   "cell_type": "markdown",
   "metadata": {
    "_uuid": "434e0457f550e2200424e5ec26162e1aa5904005",
    "papermill": {
     "duration": 0.005445,
     "end_time": "2021-06-25T07:10:13.006018",
     "exception": false,
     "start_time": "2021-06-25T07:10:13.000573",
     "status": "completed"
    },
    "tags": []
   },
   "source": [
    "The Feature \"Unnamed:0\" is just a representation of the indexes, so it's useless to keep it, lets remove it !"
   ]
  },
  {
   "cell_type": "code",
   "execution_count": 6,
   "metadata": {
    "_uuid": "9875398e37728dc3141fed4228be337a4735beb6",
    "execution": {
     "iopub.execute_input": "2021-06-25T07:10:13.022500Z",
     "iopub.status.busy": "2021-06-25T07:10:13.021884Z",
     "iopub.status.idle": "2021-06-25T07:10:13.024697Z",
     "shell.execute_reply": "2021-06-25T07:10:13.024283Z"
    },
    "jupyter": {
     "source_hidden": true
    },
    "papermill": {
     "duration": 0.013423,
     "end_time": "2021-06-25T07:10:13.024884",
     "exception": false,
     "start_time": "2021-06-25T07:10:13.011461",
     "status": "completed"
    },
    "tags": []
   },
   "outputs": [],
   "source": [
    "df.drop('Unnamed: 0',axis=1,inplace=True)"
   ]
  },
  {
   "cell_type": "markdown",
   "metadata": {
    "_uuid": "12e94ad381e4cb8d2c8a9bbe08ce07ab5d49c040",
    "papermill": {
     "duration": 0.005353,
     "end_time": "2021-06-25T07:10:13.035417",
     "exception": false,
     "start_time": "2021-06-25T07:10:13.030064",
     "status": "completed"
    },
    "tags": []
   },
   "source": [
    "well as a first observation we can see that we are lucky, we dont have any missing values (18249 complete data) and 13 columns.\n",
    "Now let's do some Feature Engineering on the Date Feature so we can be able to use the day and the month columns in building our machine learning model later. ( I didn't mention the year because its already there in data frame)"
   ]
  },
  {
   "cell_type": "code",
   "execution_count": 7,
   "metadata": {
    "_uuid": "f031639ce794656e877484d1c9c356df7028177f",
    "execution": {
     "iopub.execute_input": "2021-06-25T07:10:13.051059Z",
     "iopub.status.busy": "2021-06-25T07:10:13.050488Z",
     "iopub.status.idle": "2021-06-25T07:10:13.165591Z",
     "shell.execute_reply": "2021-06-25T07:10:13.165096Z"
    },
    "jupyter": {
     "source_hidden": true
    },
    "papermill": {
     "duration": 0.12524,
     "end_time": "2021-06-25T07:10:13.165795",
     "exception": false,
     "start_time": "2021-06-25T07:10:13.040555",
     "status": "completed"
    },
    "tags": []
   },
   "outputs": [],
   "source": [
    "df['Date']=pd.to_datetime(df['Date'])\n",
    "df['Month']=df['Date'].apply(lambda x:x.month)\n",
    "df['Day']=df['Date'].apply(lambda x:x.day)"
   ]
  },
  {
   "cell_type": "markdown",
   "metadata": {
    "_uuid": "ebdcac9924ce3e366fd3a75170682f7113385b7a",
    "papermill": {
     "duration": 0.005419,
     "end_time": "2021-06-25T07:10:13.176826",
     "exception": false,
     "start_time": "2021-06-25T07:10:13.171407",
     "status": "completed"
    },
    "tags": []
   },
   "source": [
    "as we can see we have 54 regions and 2 unique types, so it's going to be easy to to transform the type feature to dummies, but for the region its going to be a bit complexe so I decided to drop the entire column.\n",
    "I will drop the Date Feature as well because I already have 3 other columns for the Year, Month and Day."
   ]
  },
  {
   "cell_type": "code",
   "execution_count": 8,
   "metadata": {
    "_uuid": "a798682da34327b731ef262985fd50ba68e06460",
    "execution": {
     "iopub.execute_input": "2021-06-25T07:10:13.192739Z",
     "iopub.status.busy": "2021-06-25T07:10:13.192132Z",
     "iopub.status.idle": "2021-06-25T07:10:13.202535Z",
     "shell.execute_reply": "2021-06-25T07:10:13.201935Z"
    },
    "jupyter": {
     "source_hidden": true
    },
    "papermill": {
     "duration": 0.020567,
     "end_time": "2021-06-25T07:10:13.202740",
     "exception": false,
     "start_time": "2021-06-25T07:10:13.182173",
     "status": "completed"
    },
    "tags": []
   },
   "outputs": [],
   "source": [
    "df_final=pd.get_dummies(df.drop(['region','Date'],axis=1),drop_first=True)"
   ]
  },
  {
   "cell_type": "markdown",
   "metadata": {
    "_uuid": "8b74a6b88cb3e9b3e1d1e987e061048f203c7364",
    "papermill": {
     "duration": 0.005485,
     "end_time": "2021-06-25T07:10:13.213802",
     "exception": false,
     "start_time": "2021-06-25T07:10:13.208317",
     "status": "completed"
    },
    "tags": []
   },
   "source": [
    "Now our data are ready! lets apply our model which is going to be the Linear Regression because our Target variable 'AveragePrice'is continuous.\n",
    "Let's now begin to train out regression model! We will need to first split up our data into an X array that contains the features to train on, and a y array with the target variable"
   ]
  },
  {
   "cell_type": "code",
   "execution_count": 9,
   "metadata": {
    "_uuid": "830591f99de9715241e688bf9ce265e979401ff5",
    "execution": {
     "iopub.execute_input": "2021-06-25T07:10:13.229309Z",
     "iopub.status.busy": "2021-06-25T07:10:13.228722Z",
     "iopub.status.idle": "2021-06-25T07:10:13.239052Z",
     "shell.execute_reply": "2021-06-25T07:10:13.239507Z"
    },
    "jupyter": {
     "source_hidden": true
    },
    "papermill": {
     "duration": 0.020717,
     "end_time": "2021-06-25T07:10:13.239750",
     "exception": false,
     "start_time": "2021-06-25T07:10:13.219033",
     "status": "completed"
    },
    "tags": []
   },
   "outputs": [],
   "source": [
    "X=df_final.iloc[:,1:14]\n",
    "y=df_final['AveragePrice']\n",
    "from sklearn.model_selection import train_test_split\n",
    "X_train,X_test,y_train,y_test=train_test_split(X,y,test_size=0.2,random_state=42)"
   ]
  },
  {
   "cell_type": "markdown",
   "metadata": {
    "_uuid": "ea730c77a31cde9de98263079a189accb8b5772b",
    "papermill": {
     "duration": 0.005475,
     "end_time": "2021-06-25T07:10:13.250864",
     "exception": false,
     "start_time": "2021-06-25T07:10:13.245389",
     "status": "completed"
    },
    "tags": []
   },
   "source": [
    "Creating and Training the Model"
   ]
  },
  {
   "cell_type": "code",
   "execution_count": 10,
   "metadata": {
    "_uuid": "eb37015e78974e5fd2ae7e13d065c8ab0a9c6948",
    "execution": {
     "iopub.execute_input": "2021-06-25T07:10:13.265670Z",
     "iopub.status.busy": "2021-06-25T07:10:13.265061Z",
     "iopub.status.idle": "2021-06-25T07:10:25.793779Z",
     "shell.execute_reply": "2021-06-25T07:10:25.792597Z"
    },
    "jupyter": {
     "source_hidden": true
    },
    "papermill": {
     "duration": 12.537975,
     "end_time": "2021-06-25T07:10:25.794130",
     "exception": false,
     "start_time": "2021-06-25T07:10:13.256155",
     "status": "completed"
    },
    "tags": []
   },
   "outputs": [],
   "source": [
    "from sklearn.ensemble import RandomForestRegressor\n",
    "rdr = RandomForestRegressor(\n",
    "    n_estimators=n_estimators,\n",
    "    max_features=max_features\n",
    ")\n",
    "rdr.fit(X_train,y_train)\n",
    "pred=rdr.predict(X_test)"
   ]
  },
  {
   "cell_type": "code",
   "execution_count": 11,
   "metadata": {
    "_uuid": "7ed5b8d4e8abb44a4b548c13ac9fb2d65227d1c5",
    "execution": {
     "iopub.execute_input": "2021-06-25T07:10:25.821265Z",
     "iopub.status.busy": "2021-06-25T07:10:25.820134Z",
     "iopub.status.idle": "2021-06-25T07:10:25.824226Z",
     "shell.execute_reply": "2021-06-25T07:10:25.824891Z"
    },
    "jupyter": {
     "source_hidden": true
    },
    "papermill": {
     "duration": 0.020581,
     "end_time": "2021-06-25T07:10:25.825297",
     "exception": false,
     "start_time": "2021-06-25T07:10:25.804716",
     "status": "completed"
    },
    "tags": []
   },
   "outputs": [],
   "source": [
    "#%%capture cap --no-stderr\n",
    "#print(np.sqrt(mean_squared_error(y_test, pred)))"
   ]
  },
  {
   "cell_type": "code",
   "execution_count": 12,
   "metadata": {
    "execution": {
     "iopub.execute_input": "2021-06-25T07:10:25.851715Z",
     "iopub.status.busy": "2021-06-25T07:10:25.850583Z",
     "iopub.status.idle": "2021-06-25T07:10:25.856461Z",
     "shell.execute_reply": "2021-06-25T07:10:25.855200Z"
    },
    "jupyter": {
     "source_hidden": true
    },
    "papermill": {
     "duration": 0.021144,
     "end_time": "2021-06-25T07:10:25.856806",
     "exception": false,
     "start_time": "2021-06-25T07:10:25.835662",
     "status": "completed"
    },
    "tags": []
   },
   "outputs": [],
   "source": [
    "#with open(output_rmse, 'w') as f:\n",
    "#    f.write(cap.stdout)"
   ]
  },
  {
   "cell_type": "code",
   "execution_count": 13,
   "metadata": {
    "execution": {
     "iopub.execute_input": "2021-06-25T07:10:25.886609Z",
     "iopub.status.busy": "2021-06-25T07:10:25.885488Z",
     "iopub.status.idle": "2021-06-25T07:10:25.929636Z",
     "shell.execute_reply": "2021-06-25T07:10:25.930730Z"
    },
    "jupyter": {
     "source_hidden": true
    },
    "papermill": {
     "duration": 0.063892,
     "end_time": "2021-06-25T07:10:25.931277",
     "exception": false,
     "start_time": "2021-06-25T07:10:25.867385",
     "status": "completed"
    },
    "tags": []
   },
   "outputs": [
    {
     "data": {
      "text/plain": [
       "<sqlalchemy.engine.result.ResultProxy at 0x7f1951479c90>"
      ]
     },
     "execution_count": 13,
     "metadata": {},
     "output_type": "execute_result"
    }
   ],
   "source": [
    "cnx.execute(\"\"\"\n",
    "    INSERT INTO ml.accuracies (ml_id, ml_date, accuracy) VALUES ('{0}', '{1}', {2}) \n",
    "    ON CONFLICT (ml_id, ml_date) \n",
    "    DO\n",
    "        UPDATE SET accuracy = {2};\n",
    "    \"\"\".format(ml_id, ml_date, np.sqrt(mean_squared_error(y_test, pred))))"
   ]
  }
 ],
 "metadata": {
  "kernelspec": {
   "display_name": "Python 3",
   "language": "python",
   "name": "python3"
  },
  "language_info": {
   "codemirror_mode": {
    "name": "ipython",
    "version": 3
   },
   "file_extension": ".py",
   "mimetype": "text/x-python",
   "name": "python",
   "nbconvert_exporter": "python",
   "pygments_lexer": "ipython3",
   "version": "3.7.10"
  },
  "papermill": {
   "duration": 15.239851,
   "end_time": "2021-06-25T07:10:26.325036",
   "environment_variables": {},
   "exception": null,
   "input_path": "/usr/local/airflow/include/notebooks/avocado_prediction.ipynb",
   "output_path": "/tmp/out-model-avocado-prediction-auto_100.ipynb",
   "parameters": {
    "filepath": "/tmp/avocado.csv",
    "max_features": "auto",
    "ml_id": "auto_100",
    "n_estimators": 100
   },
   "start_time": "2021-06-25T07:10:11.085185",
   "version": "2.1.2"
  }
 },
 "nbformat": 4,
 "nbformat_minor": 4
}