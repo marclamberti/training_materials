{
 "cells": [
  {
   "cell_type": "code",
   "execution_count": 1,
   "metadata": {
    "_cell_guid": "79c7e3d0-c299-4dcb-8224-4455121ee9b0",
    "_uuid": "d629ff2d2480ee46fbb7e2d37f6b5fab8052498a",
    "execution": {
     "iopub.execute_input": "2021-06-23T15:40:08.393421Z",
     "iopub.status.busy": "2021-06-23T15:40:08.392487Z",
     "iopub.status.idle": "2021-06-23T15:40:09.226906Z",
     "shell.execute_reply": "2021-06-23T15:40:09.224894Z"
    },
    "jupyter": {
     "source_hidden": true
    },
    "papermill": {
     "duration": 0.849645,
     "end_time": "2021-06-23T15:40:09.227343",
     "exception": false,
     "start_time": "2021-06-23T15:40:08.377698",
     "status": "completed"
    },
    "tags": []
   },
   "outputs": [],
   "source": [
    "import pandas as pd\n",
    "import numpy as np\n",
    "from sqlalchemy import create_engine\n",
    "from datetime import date\n",
    "from sklearn.metrics import mean_squared_error"
   ]
  },
  {
   "cell_type": "code",
   "execution_count": 2,
   "metadata": {
    "execution": {
     "iopub.execute_input": "2021-06-23T15:40:09.249824Z",
     "iopub.status.busy": "2021-06-23T15:40:09.248894Z",
     "iopub.status.idle": "2021-06-23T15:40:09.279640Z",
     "shell.execute_reply": "2021-06-23T15:40:09.278951Z"
    },
    "jupyter": {
     "source_hidden": true
    },
    "papermill": {
     "duration": 0.043131,
     "end_time": "2021-06-23T15:40:09.279846",
     "exception": false,
     "start_time": "2021-06-23T15:40:09.236715",
     "status": "completed"
    },
    "tags": []
   },
   "outputs": [],
   "source": [
    "# THIS IS PURELY FOR TEST PURPOSE NEVER DO THAT IN PRODUCTION\n",
    "POSTGRES_ADDRESS='postgres'\n",
    "POSTGRES_PORT='5432'\n",
    "POSTGRES_USERNAME='postgres'\n",
    "POSTGRES_PASSWORD='postgres'\n",
    "\n",
    "postgres_conn = 'postgresql://{0}:{1}@{2}:{3}/'.format(POSTGRES_USERNAME, POSTGRES_PASSWORD, POSTGRES_ADDRESS, POSTGRES_PORT)\n",
    "\n",
    "# Create the connection\n",
    "cnx = create_engine(postgres_conn)\n"
   ]
  },
  {
   "cell_type": "markdown",
   "metadata": {
    "_uuid": "1998755ef10683262b29765345cff1c1c7d10b15",
    "papermill": {
     "duration": 0.007925,
     "end_time": "2021-06-23T15:40:09.293592",
     "exception": false,
     "start_time": "2021-06-23T15:40:09.285667",
     "status": "completed"
    },
    "tags": []
   },
   "source": [
    "Read in the Avocado Prices csv file as a DataFrame called df"
   ]
  },
  {
   "cell_type": "code",
   "execution_count": 3,
   "metadata": {
    "execution": {
     "iopub.execute_input": "2021-06-23T15:40:09.313564Z",
     "iopub.status.busy": "2021-06-23T15:40:09.312796Z",
     "iopub.status.idle": "2021-06-23T15:40:09.315761Z",
     "shell.execute_reply": "2021-06-23T15:40:09.315167Z"
    },
    "jupyter": {
     "source_hidden": true
    },
    "papermill": {
     "duration": 0.017536,
     "end_time": "2021-06-23T15:40:09.315941",
     "exception": false,
     "start_time": "2021-06-23T15:40:09.298405",
     "status": "completed"
    },
    "tags": [
     "parameters"
    ]
   },
   "outputs": [],
   "source": [
    "# Parameterized\n",
    "\n",
    "filepath='avocado.csv'\n",
    "ml_id='auto_100'\n",
    "ml_date=date.today()\n",
    "n_estimators = 100\n",
    "max_features = 'auto'"
   ]
  },
  {
   "cell_type": "code",
   "execution_count": 4,
   "id": "f92990de",
   "metadata": {
    "execution": {
     "iopub.execute_input": "2021-06-23T15:40:09.335335Z",
     "iopub.status.busy": "2021-06-23T15:40:09.334793Z",
     "iopub.status.idle": "2021-06-23T15:40:09.338030Z",
     "shell.execute_reply": "2021-06-23T15:40:09.337429Z"
    },
    "jupyter": {
     "source_hidden": true
    },
    "papermill": {
     "duration": 0.016954,
     "end_time": "2021-06-23T15:40:09.338208",
     "exception": false,
     "start_time": "2021-06-23T15:40:09.321254",
     "status": "completed"
    },
    "tags": [
     "injected-parameters"
    ]
   },
   "outputs": [],
   "source": [
    "# Parameters\n",
    "filepath = \"/tmp/avocado.csv\"\n",
    "n_estimators = 100\n",
    "max_features = \"auto\"\n",
    "ml_id = \"auto_100\"\n"
   ]
  },
  {
   "cell_type": "code",
   "execution_count": 5,
   "metadata": {
    "_uuid": "55d0e719eb8b91d763c1eacaf0f51ee0586486fc",
    "execution": {
     "iopub.execute_input": "2021-06-23T15:40:09.356116Z",
     "iopub.status.busy": "2021-06-23T15:40:09.355541Z",
     "iopub.status.idle": "2021-06-23T15:40:09.391612Z",
     "shell.execute_reply": "2021-06-23T15:40:09.390983Z"
    },
    "jupyter": {
     "source_hidden": true
    },
    "papermill": {
     "duration": 0.048035,
     "end_time": "2021-06-23T15:40:09.391829",
     "exception": false,
     "start_time": "2021-06-23T15:40:09.343794",
     "status": "completed"
    },
    "tags": []
   },
   "outputs": [],
   "source": [
    "df= pd.read_csv(filepath)"
   ]
  },
  {
   "cell_type": "markdown",
   "metadata": {
    "_uuid": "434e0457f550e2200424e5ec26162e1aa5904005",
    "papermill": {
     "duration": 0.005267,
     "end_time": "2021-06-23T15:40:09.402683",
     "exception": false,
     "start_time": "2021-06-23T15:40:09.397416",
     "status": "completed"
    },
    "tags": []
   },
   "source": [
    "The Feature \"Unnamed:0\" is just a representation of the indexes, so it's useless to keep it, lets remove it !"
   ]
  },
  {
   "cell_type": "code",
   "execution_count": 6,
   "metadata": {
    "_uuid": "9875398e37728dc3141fed4228be337a4735beb6",
    "execution": {
     "iopub.execute_input": "2021-06-23T15:40:09.422792Z",
     "iopub.status.busy": "2021-06-23T15:40:09.422166Z",
     "iopub.status.idle": "2021-06-23T15:40:09.427479Z",
     "shell.execute_reply": "2021-06-23T15:40:09.428518Z"
    },
    "jupyter": {
     "source_hidden": true
    },
    "papermill": {
     "duration": 0.018708,
     "end_time": "2021-06-23T15:40:09.428941",
     "exception": false,
     "start_time": "2021-06-23T15:40:09.410233",
     "status": "completed"
    },
    "tags": []
   },
   "outputs": [],
   "source": [
    "df.drop('Unnamed: 0',axis=1,inplace=True)"
   ]
  },
  {
   "cell_type": "markdown",
   "metadata": {
    "_uuid": "12e94ad381e4cb8d2c8a9bbe08ce07ab5d49c040",
    "papermill": {
     "duration": 0.005713,
     "end_time": "2021-06-23T15:40:09.442739",
     "exception": false,
     "start_time": "2021-06-23T15:40:09.437026",
     "status": "completed"
    },
    "tags": []
   },
   "source": [
    "well as a first observation we can see that we are lucky, we dont have any missing values (18249 complete data) and 13 columns.\n",
    "Now let's do some Feature Engineering on the Date Feature so we can be able to use the day and the month columns in building our machine learning model later. ( I didn't mention the year because its already there in data frame)"
   ]
  },
  {
   "cell_type": "code",
   "execution_count": 7,
   "metadata": {
    "_uuid": "f031639ce794656e877484d1c9c356df7028177f",
    "execution": {
     "iopub.execute_input": "2021-06-23T15:40:09.462661Z",
     "iopub.status.busy": "2021-06-23T15:40:09.461979Z",
     "iopub.status.idle": "2021-06-23T15:40:09.608023Z",
     "shell.execute_reply": "2021-06-23T15:40:09.607081Z"
    },
    "jupyter": {
     "source_hidden": true
    },
    "papermill": {
     "duration": 0.158505,
     "end_time": "2021-06-23T15:40:09.608577",
     "exception": false,
     "start_time": "2021-06-23T15:40:09.450072",
     "status": "completed"
    },
    "tags": []
   },
   "outputs": [],
   "source": [
    "df['Date']=pd.to_datetime(df['Date'])\n",
    "df['Month']=df['Date'].apply(lambda x:x.month)\n",
    "df['Day']=df['Date'].apply(lambda x:x.day)"
   ]
  },
  {
   "cell_type": "markdown",
   "metadata": {
    "_uuid": "ebdcac9924ce3e366fd3a75170682f7113385b7a",
    "papermill": {
     "duration": 0.005629,
     "end_time": "2021-06-23T15:40:09.623332",
     "exception": false,
     "start_time": "2021-06-23T15:40:09.617703",
     "status": "completed"
    },
    "tags": []
   },
   "source": [
    "as we can see we have 54 regions and 2 unique types, so it's going to be easy to to transform the type feature to dummies, but for the region its going to be a bit complexe so I decided to drop the entire column.\n",
    "I will drop the Date Feature as well because I already have 3 other columns for the Year, Month and Day."
   ]
  },
  {
   "cell_type": "code",
   "execution_count": 8,
   "metadata": {
    "_uuid": "a798682da34327b731ef262985fd50ba68e06460",
    "execution": {
     "iopub.execute_input": "2021-06-23T15:40:09.642630Z",
     "iopub.status.busy": "2021-06-23T15:40:09.641945Z",
     "iopub.status.idle": "2021-06-23T15:40:09.654818Z",
     "shell.execute_reply": "2021-06-23T15:40:09.655189Z"
    },
    "jupyter": {
     "source_hidden": true
    },
    "papermill": {
     "duration": 0.023622,
     "end_time": "2021-06-23T15:40:09.655412",
     "exception": false,
     "start_time": "2021-06-23T15:40:09.631790",
     "status": "completed"
    },
    "tags": []
   },
   "outputs": [],
   "source": [
    "df_final=pd.get_dummies(df.drop(['region','Date'],axis=1),drop_first=True)"
   ]
  },
  {
   "cell_type": "markdown",
   "metadata": {
    "_uuid": "8b74a6b88cb3e9b3e1d1e987e061048f203c7364",
    "papermill": {
     "duration": 0.007521,
     "end_time": "2021-06-23T15:40:09.668598",
     "exception": false,
     "start_time": "2021-06-23T15:40:09.661077",
     "status": "completed"
    },
    "tags": []
   },
   "source": [
    "Now our data are ready! lets apply our model which is going to be the Linear Regression because our Target variable 'AveragePrice'is continuous.\n",
    "Let's now begin to train out regression model! We will need to first split up our data into an X array that contains the features to train on, and a y array with the target variable"
   ]
  },
  {
   "cell_type": "code",
   "execution_count": 9,
   "metadata": {
    "_uuid": "830591f99de9715241e688bf9ce265e979401ff5",
    "execution": {
     "iopub.execute_input": "2021-06-23T15:40:09.689039Z",
     "iopub.status.busy": "2021-06-23T15:40:09.688464Z",
     "iopub.status.idle": "2021-06-23T15:40:09.699145Z",
     "shell.execute_reply": "2021-06-23T15:40:09.699516Z"
    },
    "jupyter": {
     "source_hidden": true
    },
    "papermill": {
     "duration": 0.024058,
     "end_time": "2021-06-23T15:40:09.699780",
     "exception": false,
     "start_time": "2021-06-23T15:40:09.675722",
     "status": "completed"
    },
    "tags": []
   },
   "outputs": [],
   "source": [
    "X=df_final.iloc[:,1:14]\n",
    "y=df_final['AveragePrice']\n",
    "from sklearn.model_selection import train_test_split\n",
    "X_train,X_test,y_train,y_test=train_test_split(X,y,test_size=0.2,random_state=42)"
   ]
  },
  {
   "cell_type": "markdown",
   "metadata": {
    "_uuid": "ea730c77a31cde9de98263079a189accb8b5772b",
    "papermill": {
     "duration": 0.007782,
     "end_time": "2021-06-23T15:40:09.713627",
     "exception": false,
     "start_time": "2021-06-23T15:40:09.705845",
     "status": "completed"
    },
    "tags": []
   },
   "source": [
    "Creating and Training the Model"
   ]
  },
  {
   "cell_type": "code",
   "execution_count": 10,
   "metadata": {
    "_uuid": "eb37015e78974e5fd2ae7e13d065c8ab0a9c6948",
    "execution": {
     "iopub.execute_input": "2021-06-23T15:40:09.733814Z",
     "iopub.status.busy": "2021-06-23T15:40:09.732541Z",
     "iopub.status.idle": "2021-06-23T15:40:19.746850Z",
     "shell.execute_reply": "2021-06-23T15:40:19.746186Z"
    },
    "jupyter": {
     "source_hidden": true
    },
    "papermill": {
     "duration": 10.028395,
     "end_time": "2021-06-23T15:40:19.747077",
     "exception": false,
     "start_time": "2021-06-23T15:40:09.718682",
     "status": "completed"
    },
    "tags": []
   },
   "outputs": [],
   "source": [
    "from sklearn.ensemble import RandomForestRegressor\n",
    "rdr = RandomForestRegressor(\n",
    "    n_estimators=n_estimators,\n",
    "    max_features=max_features\n",
    ")\n",
    "rdr.fit(X_train,y_train)\n",
    "pred=rdr.predict(X_test)"
   ]
  },
  {
   "cell_type": "code",
   "execution_count": 11,
   "metadata": {
    "_uuid": "7ed5b8d4e8abb44a4b548c13ac9fb2d65227d1c5",
    "execution": {
     "iopub.execute_input": "2021-06-23T15:40:19.767341Z",
     "iopub.status.busy": "2021-06-23T15:40:19.766745Z",
     "iopub.status.idle": "2021-06-23T15:40:19.769948Z",
     "shell.execute_reply": "2021-06-23T15:40:19.769406Z"
    },
    "jupyter": {
     "source_hidden": true
    },
    "papermill": {
     "duration": 0.01654,
     "end_time": "2021-06-23T15:40:19.770162",
     "exception": false,
     "start_time": "2021-06-23T15:40:19.753622",
     "status": "completed"
    },
    "tags": []
   },
   "outputs": [],
   "source": [
    "#%%capture cap --no-stderr\n",
    "#print(np.sqrt(mean_squared_error(y_test, pred)))"
   ]
  },
  {
   "cell_type": "code",
   "execution_count": 12,
   "metadata": {
    "execution": {
     "iopub.execute_input": "2021-06-23T15:40:19.791845Z",
     "iopub.status.busy": "2021-06-23T15:40:19.791211Z",
     "iopub.status.idle": "2021-06-23T15:40:19.794159Z",
     "shell.execute_reply": "2021-06-23T15:40:19.794633Z"
    },
    "jupyter": {
     "source_hidden": true
    },
    "papermill": {
     "duration": 0.018164,
     "end_time": "2021-06-23T15:40:19.794885",
     "exception": false,
     "start_time": "2021-06-23T15:40:19.776721",
     "status": "completed"
    },
    "tags": []
   },
   "outputs": [],
   "source": [
    "#with open(output_rmse, 'w') as f:\n",
    "#    f.write(cap.stdout)"
   ]
  },
  {
   "cell_type": "code",
   "execution_count": 13,
   "metadata": {
    "execution": {
     "iopub.execute_input": "2021-06-23T15:40:19.815645Z",
     "iopub.status.busy": "2021-06-23T15:40:19.815067Z",
     "iopub.status.idle": "2021-06-23T15:40:19.843000Z",
     "shell.execute_reply": "2021-06-23T15:40:19.842283Z"
    },
    "jupyter": {
     "source_hidden": true
    },
    "papermill": {
     "duration": 0.03923,
     "end_time": "2021-06-23T15:40:19.843207",
     "exception": false,
     "start_time": "2021-06-23T15:40:19.803977",
     "status": "completed"
    },
    "tags": []
   },
   "outputs": [
    {
     "data": {
      "text/plain": [
       "<sqlalchemy.engine.result.ResultProxy at 0x7f248b747e90>"
      ]
     },
     "execution_count": 13,
     "metadata": {},
     "output_type": "execute_result"
    }
   ],
   "source": [
    "cnx.execute(\"\"\"\n",
    "    INSERT INTO ml.accuracies (ml_id, ml_date, accuracy) VALUES ('{0}', '{1}', {2}) \n",
    "    ON CONFLICT (ml_id, ml_date) \n",
    "    DO\n",
    "        UPDATE SET accuracy = {2};\n",
    "    \"\"\".format(ml_id, ml_date, np.sqrt(mean_squared_error(y_test, pred))))"
   ]
  }
 ],
 "metadata": {
  "kernelspec": {
   "display_name": "Python 3",
   "language": "python",
   "name": "python3"
  },
  "language_info": {
   "codemirror_mode": {
    "name": "ipython",
    "version": 3
   },
   "file_extension": ".py",
   "mimetype": "text/x-python",
   "name": "python",
   "nbconvert_exporter": "python",
   "pygments_lexer": "ipython3",
   "version": "3.7.10"
  },
  "papermill": {
   "duration": 13.104077,
   "end_time": "2021-06-23T15:40:20.260657",
   "environment_variables": {},
   "exception": null,
   "input_path": "/usr/local/airflow/include/notebooks/avocado_prediction.ipynb",
   "output_path": "/tmp/out-model-avocado-prediction-auto_100.ipynb",
   "parameters": {
    "filepath": "/tmp/avocado.csv",
    "max_features": "auto",
    "ml_id": "auto_100",
    "n_estimators": 100
   },
   "start_time": "2021-06-23T15:40:07.156580",
   "version": "2.1.2"
  }
 },
 "nbformat": 4,
 "nbformat_minor": 4
}