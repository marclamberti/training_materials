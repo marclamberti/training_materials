{
 "cells": [
  {
   "cell_type": "code",
   "execution_count": 1,
   "metadata": {
    "_cell_guid": "79c7e3d0-c299-4dcb-8224-4455121ee9b0",
    "_uuid": "d629ff2d2480ee46fbb7e2d37f6b5fab8052498a",
    "execution": {
     "iopub.execute_input": "2021-06-24T07:30:09.833575Z",
     "iopub.status.busy": "2021-06-24T07:30:09.832808Z",
     "iopub.status.idle": "2021-06-24T07:30:10.500178Z",
     "shell.execute_reply": "2021-06-24T07:30:10.500740Z"
    },
    "jupyter": {
     "source_hidden": true
    },
    "papermill": {
     "duration": 0.683038,
     "end_time": "2021-06-24T07:30:10.501139",
     "exception": false,
     "start_time": "2021-06-24T07:30:09.818101",
     "status": "completed"
    },
    "tags": []
   },
   "outputs": [],
   "source": [
    "import pandas as pd\n",
    "import numpy as np\n",
    "from sqlalchemy import create_engine\n",
    "from datetime import date\n",
    "from sklearn.metrics import mean_squared_error"
   ]
  },
  {
   "cell_type": "code",
   "execution_count": 2,
   "metadata": {
    "execution": {
     "iopub.execute_input": "2021-06-24T07:30:10.522126Z",
     "iopub.status.busy": "2021-06-24T07:30:10.519533Z",
     "iopub.status.idle": "2021-06-24T07:30:10.545142Z",
     "shell.execute_reply": "2021-06-24T07:30:10.544580Z"
    },
    "jupyter": {
     "source_hidden": true
    },
    "papermill": {
     "duration": 0.037377,
     "end_time": "2021-06-24T07:30:10.545347",
     "exception": false,
     "start_time": "2021-06-24T07:30:10.507970",
     "status": "completed"
    },
    "tags": []
   },
   "outputs": [],
   "source": [
    "# THIS IS PURELY FOR TEST PURPOSE NEVER DO THAT IN PRODUCTION\n",
    "POSTGRES_ADDRESS='postgres'\n",
    "POSTGRES_PORT='5432'\n",
    "POSTGRES_USERNAME='postgres'\n",
    "POSTGRES_PASSWORD='postgres'\n",
    "\n",
    "postgres_conn = 'postgresql://{0}:{1}@{2}:{3}/'.format(POSTGRES_USERNAME, POSTGRES_PASSWORD, POSTGRES_ADDRESS, POSTGRES_PORT)\n",
    "\n",
    "# Create the connection\n",
    "cnx = create_engine(postgres_conn)\n"
   ]
  },
  {
   "cell_type": "markdown",
   "metadata": {
    "_uuid": "1998755ef10683262b29765345cff1c1c7d10b15",
    "papermill": {
     "duration": 0.005143,
     "end_time": "2021-06-24T07:30:10.555583",
     "exception": false,
     "start_time": "2021-06-24T07:30:10.550440",
     "status": "completed"
    },
    "tags": []
   },
   "source": [
    "Read in the Avocado Prices csv file as a DataFrame called df"
   ]
  },
  {
   "cell_type": "code",
   "execution_count": 3,
   "metadata": {
    "execution": {
     "iopub.execute_input": "2021-06-24T07:30:10.569668Z",
     "iopub.status.busy": "2021-06-24T07:30:10.569028Z",
     "iopub.status.idle": "2021-06-24T07:30:10.572185Z",
     "shell.execute_reply": "2021-06-24T07:30:10.571762Z"
    },
    "jupyter": {
     "source_hidden": true
    },
    "papermill": {
     "duration": 0.011959,
     "end_time": "2021-06-24T07:30:10.572367",
     "exception": false,
     "start_time": "2021-06-24T07:30:10.560408",
     "status": "completed"
    },
    "tags": [
     "parameters"
    ]
   },
   "outputs": [],
   "source": [
    "# Parameterized\n",
    "\n",
    "filepath='avocado.csv'\n",
    "ml_id='auto_100'\n",
    "ml_date=date.today()\n",
    "n_estimators = 100\n",
    "max_features = 'auto'"
   ]
  },
  {
   "cell_type": "code",
   "execution_count": 4,
   "id": "64abfae8",
   "metadata": {
    "execution": {
     "iopub.execute_input": "2021-06-24T07:30:10.584684Z",
     "iopub.status.busy": "2021-06-24T07:30:10.584130Z",
     "iopub.status.idle": "2021-06-24T07:30:10.586588Z",
     "shell.execute_reply": "2021-06-24T07:30:10.586905Z"
    },
    "jupyter": {
     "source_hidden": true
    },
    "papermill": {
     "duration": 0.010098,
     "end_time": "2021-06-24T07:30:10.587084",
     "exception": false,
     "start_time": "2021-06-24T07:30:10.576986",
     "status": "completed"
    },
    "tags": [
     "injected-parameters"
    ]
   },
   "outputs": [],
   "source": [
    "# Parameters\n",
    "filepath = \"/tmp/avocado.csv\"\n",
    "n_estimators = 100\n",
    "max_features = \"auto\"\n",
    "ml_id = \"auto_100\"\n"
   ]
  },
  {
   "cell_type": "code",
   "execution_count": 5,
   "metadata": {
    "_uuid": "55d0e719eb8b91d763c1eacaf0f51ee0586486fc",
    "execution": {
     "iopub.execute_input": "2021-06-24T07:30:10.599687Z",
     "iopub.status.busy": "2021-06-24T07:30:10.599105Z",
     "iopub.status.idle": "2021-06-24T07:30:10.624893Z",
     "shell.execute_reply": "2021-06-24T07:30:10.624418Z"
    },
    "jupyter": {
     "source_hidden": true
    },
    "papermill": {
     "duration": 0.033461,
     "end_time": "2021-06-24T07:30:10.625062",
     "exception": false,
     "start_time": "2021-06-24T07:30:10.591601",
     "status": "completed"
    },
    "tags": []
   },
   "outputs": [],
   "source": [
    "df= pd.read_csv(filepath)"
   ]
  },
  {
   "cell_type": "markdown",
   "metadata": {
    "_uuid": "434e0457f550e2200424e5ec26162e1aa5904005",
    "papermill": {
     "duration": 0.004253,
     "end_time": "2021-06-24T07:30:10.633987",
     "exception": false,
     "start_time": "2021-06-24T07:30:10.629734",
     "status": "completed"
    },
    "tags": []
   },
   "source": [
    "The Feature \"Unnamed:0\" is just a representation of the indexes, so it's useless to keep it, lets remove it !"
   ]
  },
  {
   "cell_type": "code",
   "execution_count": 6,
   "metadata": {
    "_uuid": "9875398e37728dc3141fed4228be337a4735beb6",
    "execution": {
     "iopub.execute_input": "2021-06-24T07:30:10.650378Z",
     "iopub.status.busy": "2021-06-24T07:30:10.649841Z",
     "iopub.status.idle": "2021-06-24T07:30:10.652569Z",
     "shell.execute_reply": "2021-06-24T07:30:10.652179Z"
    },
    "jupyter": {
     "source_hidden": true
    },
    "papermill": {
     "duration": 0.01273,
     "end_time": "2021-06-24T07:30:10.652731",
     "exception": false,
     "start_time": "2021-06-24T07:30:10.640001",
     "status": "completed"
    },
    "tags": []
   },
   "outputs": [],
   "source": [
    "df.drop('Unnamed: 0',axis=1,inplace=True)"
   ]
  },
  {
   "cell_type": "markdown",
   "metadata": {
    "_uuid": "12e94ad381e4cb8d2c8a9bbe08ce07ab5d49c040",
    "papermill": {
     "duration": 0.004923,
     "end_time": "2021-06-24T07:30:10.661910",
     "exception": false,
     "start_time": "2021-06-24T07:30:10.656987",
     "status": "completed"
    },
    "tags": []
   },
   "source": [
    "well as a first observation we can see that we are lucky, we dont have any missing values (18249 complete data) and 13 columns.\n",
    "Now let's do some Feature Engineering on the Date Feature so we can be able to use the day and the month columns in building our machine learning model later. ( I didn't mention the year because its already there in data frame)"
   ]
  },
  {
   "cell_type": "code",
   "execution_count": 7,
   "metadata": {
    "_uuid": "f031639ce794656e877484d1c9c356df7028177f",
    "execution": {
     "iopub.execute_input": "2021-06-24T07:30:10.676025Z",
     "iopub.status.busy": "2021-06-24T07:30:10.675412Z",
     "iopub.status.idle": "2021-06-24T07:30:10.775286Z",
     "shell.execute_reply": "2021-06-24T07:30:10.774869Z"
    },
    "jupyter": {
     "source_hidden": true
    },
    "papermill": {
     "duration": 0.109154,
     "end_time": "2021-06-24T07:30:10.775584",
     "exception": false,
     "start_time": "2021-06-24T07:30:10.666430",
     "status": "completed"
    },
    "tags": []
   },
   "outputs": [],
   "source": [
    "df['Date']=pd.to_datetime(df['Date'])\n",
    "df['Month']=df['Date'].apply(lambda x:x.month)\n",
    "df['Day']=df['Date'].apply(lambda x:x.day)"
   ]
  },
  {
   "cell_type": "markdown",
   "metadata": {
    "_uuid": "ebdcac9924ce3e366fd3a75170682f7113385b7a",
    "papermill": {
     "duration": 0.005937,
     "end_time": "2021-06-24T07:30:10.787008",
     "exception": false,
     "start_time": "2021-06-24T07:30:10.781071",
     "status": "completed"
    },
    "tags": []
   },
   "source": [
    "as we can see we have 54 regions and 2 unique types, so it's going to be easy to to transform the type feature to dummies, but for the region its going to be a bit complexe so I decided to drop the entire column.\n",
    "I will drop the Date Feature as well because I already have 3 other columns for the Year, Month and Day."
   ]
  },
  {
   "cell_type": "code",
   "execution_count": 8,
   "metadata": {
    "_uuid": "a798682da34327b731ef262985fd50ba68e06460",
    "execution": {
     "iopub.execute_input": "2021-06-24T07:30:10.810391Z",
     "iopub.status.busy": "2021-06-24T07:30:10.809125Z",
     "iopub.status.idle": "2021-06-24T07:30:10.813916Z",
     "shell.execute_reply": "2021-06-24T07:30:10.814240Z"
    },
    "jupyter": {
     "source_hidden": true
    },
    "papermill": {
     "duration": 0.021958,
     "end_time": "2021-06-24T07:30:10.814438",
     "exception": false,
     "start_time": "2021-06-24T07:30:10.792480",
     "status": "completed"
    },
    "tags": []
   },
   "outputs": [],
   "source": [
    "df_final=pd.get_dummies(df.drop(['region','Date'],axis=1),drop_first=True)"
   ]
  },
  {
   "cell_type": "markdown",
   "metadata": {
    "_uuid": "8b74a6b88cb3e9b3e1d1e987e061048f203c7364",
    "papermill": {
     "duration": 0.004583,
     "end_time": "2021-06-24T07:30:10.823664",
     "exception": false,
     "start_time": "2021-06-24T07:30:10.819081",
     "status": "completed"
    },
    "tags": []
   },
   "source": [
    "Now our data are ready! lets apply our model which is going to be the Linear Regression because our Target variable 'AveragePrice'is continuous.\n",
    "Let's now begin to train out regression model! We will need to first split up our data into an X array that contains the features to train on, and a y array with the target variable"
   ]
  },
  {
   "cell_type": "code",
   "execution_count": 9,
   "metadata": {
    "_uuid": "830591f99de9715241e688bf9ce265e979401ff5",
    "execution": {
     "iopub.execute_input": "2021-06-24T07:30:10.847233Z",
     "iopub.status.busy": "2021-06-24T07:30:10.846565Z",
     "iopub.status.idle": "2021-06-24T07:30:10.857555Z",
     "shell.execute_reply": "2021-06-24T07:30:10.858008Z"
    },
    "jupyter": {
     "source_hidden": true
    },
    "papermill": {
     "duration": 0.026536,
     "end_time": "2021-06-24T07:30:10.858247",
     "exception": false,
     "start_time": "2021-06-24T07:30:10.831711",
     "status": "completed"
    },
    "tags": []
   },
   "outputs": [],
   "source": [
    "X=df_final.iloc[:,1:14]\n",
    "y=df_final['AveragePrice']\n",
    "from sklearn.model_selection import train_test_split\n",
    "X_train,X_test,y_train,y_test=train_test_split(X,y,test_size=0.2,random_state=42)"
   ]
  },
  {
   "cell_type": "markdown",
   "metadata": {
    "_uuid": "ea730c77a31cde9de98263079a189accb8b5772b",
    "papermill": {
     "duration": 0.005793,
     "end_time": "2021-06-24T07:30:10.869583",
     "exception": false,
     "start_time": "2021-06-24T07:30:10.863790",
     "status": "completed"
    },
    "tags": []
   },
   "source": [
    "Creating and Training the Model"
   ]
  },
  {
   "cell_type": "code",
   "execution_count": 10,
   "metadata": {
    "_uuid": "eb37015e78974e5fd2ae7e13d065c8ab0a9c6948",
    "execution": {
     "iopub.execute_input": "2021-06-24T07:30:10.885001Z",
     "iopub.status.busy": "2021-06-24T07:30:10.884268Z",
     "iopub.status.idle": "2021-06-24T07:30:18.456647Z",
     "shell.execute_reply": "2021-06-24T07:30:18.456145Z"
    },
    "jupyter": {
     "source_hidden": true
    },
    "papermill": {
     "duration": 7.581972,
     "end_time": "2021-06-24T07:30:18.456845",
     "exception": false,
     "start_time": "2021-06-24T07:30:10.874873",
     "status": "completed"
    },
    "tags": []
   },
   "outputs": [],
   "source": [
    "from sklearn.ensemble import RandomForestRegressor\n",
    "rdr = RandomForestRegressor(\n",
    "    n_estimators=n_estimators,\n",
    "    max_features=max_features\n",
    ")\n",
    "rdr.fit(X_train,y_train)\n",
    "pred=rdr.predict(X_test)"
   ]
  },
  {
   "cell_type": "code",
   "execution_count": 11,
   "metadata": {
    "_uuid": "7ed5b8d4e8abb44a4b548c13ac9fb2d65227d1c5",
    "execution": {
     "iopub.execute_input": "2021-06-24T07:30:18.473483Z",
     "iopub.status.busy": "2021-06-24T07:30:18.472844Z",
     "iopub.status.idle": "2021-06-24T07:30:18.475798Z",
     "shell.execute_reply": "2021-06-24T07:30:18.475138Z"
    },
    "jupyter": {
     "source_hidden": true
    },
    "papermill": {
     "duration": 0.012273,
     "end_time": "2021-06-24T07:30:18.475985",
     "exception": false,
     "start_time": "2021-06-24T07:30:18.463712",
     "status": "completed"
    },
    "tags": []
   },
   "outputs": [],
   "source": [
    "#%%capture cap --no-stderr\n",
    "#print(np.sqrt(mean_squared_error(y_test, pred)))"
   ]
  },
  {
   "cell_type": "code",
   "execution_count": 12,
   "metadata": {
    "execution": {
     "iopub.execute_input": "2021-06-24T07:30:18.490857Z",
     "iopub.status.busy": "2021-06-24T07:30:18.490245Z",
     "iopub.status.idle": "2021-06-24T07:30:18.493350Z",
     "shell.execute_reply": "2021-06-24T07:30:18.492717Z"
    },
    "jupyter": {
     "source_hidden": true
    },
    "papermill": {
     "duration": 0.011928,
     "end_time": "2021-06-24T07:30:18.493598",
     "exception": false,
     "start_time": "2021-06-24T07:30:18.481670",
     "status": "completed"
    },
    "tags": []
   },
   "outputs": [],
   "source": [
    "#with open(output_rmse, 'w') as f:\n",
    "#    f.write(cap.stdout)"
   ]
  },
  {
   "cell_type": "code",
   "execution_count": 13,
   "metadata": {
    "execution": {
     "iopub.execute_input": "2021-06-24T07:30:18.509746Z",
     "iopub.status.busy": "2021-06-24T07:30:18.509120Z",
     "iopub.status.idle": "2021-06-24T07:30:18.529075Z",
     "shell.execute_reply": "2021-06-24T07:30:18.529496Z"
    },
    "jupyter": {
     "source_hidden": true
    },
    "papermill": {
     "duration": 0.03045,
     "end_time": "2021-06-24T07:30:18.529699",
     "exception": false,
     "start_time": "2021-06-24T07:30:18.499249",
     "status": "completed"
    },
    "tags": []
   },
   "outputs": [
    {
     "data": {
      "text/plain": [
       "<sqlalchemy.engine.result.ResultProxy at 0x7f42e20c8090>"
      ]
     },
     "execution_count": 13,
     "metadata": {},
     "output_type": "execute_result"
    }
   ],
   "source": [
    "cnx.execute(\"\"\"\n",
    "    INSERT INTO ml.accuracies (ml_id, ml_date, accuracy) VALUES ('{0}', '{1}', {2}) \n",
    "    ON CONFLICT (ml_id, ml_date) \n",
    "    DO\n",
    "        UPDATE SET accuracy = {2};\n",
    "    \"\"\".format(ml_id, ml_date, np.sqrt(mean_squared_error(y_test, pred))))"
   ]
  }
 ],
 "metadata": {
  "kernelspec": {
   "display_name": "Python 3",
   "language": "python",
   "name": "python3"
  },
  "language_info": {
   "codemirror_mode": {
    "name": "ipython",
    "version": 3
   },
   "file_extension": ".py",
   "mimetype": "text/x-python",
   "name": "python",
   "nbconvert_exporter": "python",
   "pygments_lexer": "ipython3",
   "version": "3.7.10"
  },
  "papermill": {
   "duration": 10.348023,
   "end_time": "2021-06-24T07:30:18.944848",
   "environment_variables": {},
   "exception": null,
   "input_path": "/usr/local/airflow/include/notebooks/avocado_prediction.ipynb",
   "output_path": "/tmp/out-model-avocado-prediction-auto_100.ipynb",
   "parameters": {
    "filepath": "/tmp/avocado.csv",
    "max_features": "auto",
    "ml_id": "auto_100",
    "n_estimators": 100
   },
   "start_time": "2021-06-24T07:30:08.596825",
   "version": "2.1.2"
  }
 },
 "nbformat": 4,
 "nbformat_minor": 4
}