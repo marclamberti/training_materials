{
 "cells": [
  {
   "cell_type": "code",
   "execution_count": 1,
   "metadata": {
    "_cell_guid": "79c7e3d0-c299-4dcb-8224-4455121ee9b0",
    "_uuid": "d629ff2d2480ee46fbb7e2d37f6b5fab8052498a",
    "execution": {
     "iopub.execute_input": "2021-06-25T09:10:07.825610Z",
     "iopub.status.busy": "2021-06-25T09:10:07.824828Z",
     "iopub.status.idle": "2021-06-25T09:10:08.431242Z",
     "shell.execute_reply": "2021-06-25T09:10:08.431798Z"
    },
    "jupyter": {
     "source_hidden": true
    },
    "papermill": {
     "duration": 0.620005,
     "end_time": "2021-06-25T09:10:08.432199",
     "exception": false,
     "start_time": "2021-06-25T09:10:07.812194",
     "status": "completed"
    },
    "tags": []
   },
   "outputs": [],
   "source": [
    "import pandas as pd\n",
    "import numpy as np\n",
    "from sqlalchemy import create_engine\n",
    "from datetime import date\n",
    "from sklearn.metrics import mean_squared_error"
   ]
  },
  {
   "cell_type": "code",
   "execution_count": 2,
   "metadata": {
    "execution": {
     "iopub.execute_input": "2021-06-25T09:10:08.451497Z",
     "iopub.status.busy": "2021-06-25T09:10:08.450855Z",
     "iopub.status.idle": "2021-06-25T09:10:08.474665Z",
     "shell.execute_reply": "2021-06-25T09:10:08.474160Z"
    },
    "jupyter": {
     "source_hidden": true
    },
    "papermill": {
     "duration": 0.035725,
     "end_time": "2021-06-25T09:10:08.474874",
     "exception": false,
     "start_time": "2021-06-25T09:10:08.439149",
     "status": "completed"
    },
    "tags": []
   },
   "outputs": [],
   "source": [
    "# THIS IS PURELY FOR TEST PURPOSE NEVER DO THAT IN PRODUCTION\n",
    "POSTGRES_ADDRESS='postgres'\n",
    "POSTGRES_PORT='5432'\n",
    "POSTGRES_USERNAME='postgres'\n",
    "POSTGRES_PASSWORD='postgres'\n",
    "\n",
    "postgres_conn = 'postgresql://{0}:{1}@{2}:{3}/'.format(POSTGRES_USERNAME, POSTGRES_PASSWORD, POSTGRES_ADDRESS, POSTGRES_PORT)\n",
    "\n",
    "# Create the connection\n",
    "cnx = create_engine(postgres_conn)\n"
   ]
  },
  {
   "cell_type": "markdown",
   "metadata": {
    "_uuid": "1998755ef10683262b29765345cff1c1c7d10b15",
    "papermill": {
     "duration": 0.00519,
     "end_time": "2021-06-25T09:10:08.485229",
     "exception": false,
     "start_time": "2021-06-25T09:10:08.480039",
     "status": "completed"
    },
    "tags": []
   },
   "source": [
    "Read in the Avocado Prices csv file as a DataFrame called df"
   ]
  },
  {
   "cell_type": "code",
   "execution_count": 3,
   "metadata": {
    "execution": {
     "iopub.execute_input": "2021-06-25T09:10:08.499552Z",
     "iopub.status.busy": "2021-06-25T09:10:08.498930Z",
     "iopub.status.idle": "2021-06-25T09:10:08.502012Z",
     "shell.execute_reply": "2021-06-25T09:10:08.501408Z"
    },
    "jupyter": {
     "source_hidden": true
    },
    "papermill": {
     "duration": 0.012035,
     "end_time": "2021-06-25T09:10:08.502192",
     "exception": false,
     "start_time": "2021-06-25T09:10:08.490157",
     "status": "completed"
    },
    "tags": [
     "parameters"
    ]
   },
   "outputs": [],
   "source": [
    "# Parameterized\n",
    "\n",
    "filepath='avocado.csv'\n",
    "ml_id='auto_100'\n",
    "ml_date=date.today()\n",
    "n_estimators = 100\n",
    "max_features = 'auto'"
   ]
  },
  {
   "cell_type": "code",
   "execution_count": 4,
   "id": "bdbef856",
   "metadata": {
    "execution": {
     "iopub.execute_input": "2021-06-25T09:10:08.515192Z",
     "iopub.status.busy": "2021-06-25T09:10:08.514718Z",
     "iopub.status.idle": "2021-06-25T09:10:08.517473Z",
     "shell.execute_reply": "2021-06-25T09:10:08.517792Z"
    },
    "jupyter": {
     "source_hidden": true
    },
    "papermill": {
     "duration": 0.011065,
     "end_time": "2021-06-25T09:10:08.517971",
     "exception": false,
     "start_time": "2021-06-25T09:10:08.506906",
     "status": "completed"
    },
    "tags": [
     "injected-parameters"
    ]
   },
   "outputs": [],
   "source": [
    "# Parameters\n",
    "filepath = \"/tmp/avocado.csv\"\n",
    "n_estimators = 100\n",
    "max_features = \"auto\"\n",
    "ml_id = \"auto_100\"\n"
   ]
  },
  {
   "cell_type": "code",
   "execution_count": 5,
   "metadata": {
    "_uuid": "55d0e719eb8b91d763c1eacaf0f51ee0586486fc",
    "execution": {
     "iopub.execute_input": "2021-06-25T09:10:08.533187Z",
     "iopub.status.busy": "2021-06-25T09:10:08.532722Z",
     "iopub.status.idle": "2021-06-25T09:10:08.558445Z",
     "shell.execute_reply": "2021-06-25T09:10:08.557844Z"
    },
    "jupyter": {
     "source_hidden": true
    },
    "papermill": {
     "duration": 0.035379,
     "end_time": "2021-06-25T09:10:08.558619",
     "exception": false,
     "start_time": "2021-06-25T09:10:08.523240",
     "status": "completed"
    },
    "tags": []
   },
   "outputs": [],
   "source": [
    "df= pd.read_csv(filepath)"
   ]
  },
  {
   "cell_type": "markdown",
   "metadata": {
    "_uuid": "434e0457f550e2200424e5ec26162e1aa5904005",
    "papermill": {
     "duration": 0.004751,
     "end_time": "2021-06-25T09:10:08.568353",
     "exception": false,
     "start_time": "2021-06-25T09:10:08.563602",
     "status": "completed"
    },
    "tags": []
   },
   "source": [
    "The Feature \"Unnamed:0\" is just a representation of the indexes, so it's useless to keep it, lets remove it !"
   ]
  },
  {
   "cell_type": "code",
   "execution_count": 6,
   "metadata": {
    "_uuid": "9875398e37728dc3141fed4228be337a4735beb6",
    "execution": {
     "iopub.execute_input": "2021-06-25T09:10:08.584414Z",
     "iopub.status.busy": "2021-06-25T09:10:08.583869Z",
     "iopub.status.idle": "2021-06-25T09:10:08.586534Z",
     "shell.execute_reply": "2021-06-25T09:10:08.586856Z"
    },
    "jupyter": {
     "source_hidden": true
    },
    "papermill": {
     "duration": 0.014208,
     "end_time": "2021-06-25T09:10:08.587034",
     "exception": false,
     "start_time": "2021-06-25T09:10:08.572826",
     "status": "completed"
    },
    "tags": []
   },
   "outputs": [],
   "source": [
    "df.drop('Unnamed: 0',axis=1,inplace=True)"
   ]
  },
  {
   "cell_type": "markdown",
   "metadata": {
    "_uuid": "12e94ad381e4cb8d2c8a9bbe08ce07ab5d49c040",
    "papermill": {
     "duration": 0.004522,
     "end_time": "2021-06-25T09:10:08.596015",
     "exception": false,
     "start_time": "2021-06-25T09:10:08.591493",
     "status": "completed"
    },
    "tags": []
   },
   "source": [
    "well as a first observation we can see that we are lucky, we dont have any missing values (18249 complete data) and 13 columns.\n",
    "Now let's do some Feature Engineering on the Date Feature so we can be able to use the day and the month columns in building our machine learning model later. ( I didn't mention the year because its already there in data frame)"
   ]
  },
  {
   "cell_type": "code",
   "execution_count": 7,
   "metadata": {
    "_uuid": "f031639ce794656e877484d1c9c356df7028177f",
    "execution": {
     "iopub.execute_input": "2021-06-25T09:10:08.611028Z",
     "iopub.status.busy": "2021-06-25T09:10:08.610564Z",
     "iopub.status.idle": "2021-06-25T09:10:08.717438Z",
     "shell.execute_reply": "2021-06-25T09:10:08.716812Z"
    },
    "jupyter": {
     "source_hidden": true
    },
    "papermill": {
     "duration": 0.117538,
     "end_time": "2021-06-25T09:10:08.717751",
     "exception": false,
     "start_time": "2021-06-25T09:10:08.600213",
     "status": "completed"
    },
    "tags": []
   },
   "outputs": [],
   "source": [
    "df['Date']=pd.to_datetime(df['Date'])\n",
    "df['Month']=df['Date'].apply(lambda x:x.month)\n",
    "df['Day']=df['Date'].apply(lambda x:x.day)"
   ]
  },
  {
   "cell_type": "markdown",
   "metadata": {
    "_uuid": "ebdcac9924ce3e366fd3a75170682f7113385b7a",
    "papermill": {
     "duration": 0.012288,
     "end_time": "2021-06-25T09:10:08.736012",
     "exception": false,
     "start_time": "2021-06-25T09:10:08.723724",
     "status": "completed"
    },
    "tags": []
   },
   "source": [
    "as we can see we have 54 regions and 2 unique types, so it's going to be easy to to transform the type feature to dummies, but for the region its going to be a bit complexe so I decided to drop the entire column.\n",
    "I will drop the Date Feature as well because I already have 3 other columns for the Year, Month and Day."
   ]
  },
  {
   "cell_type": "code",
   "execution_count": 8,
   "metadata": {
    "_uuid": "a798682da34327b731ef262985fd50ba68e06460",
    "execution": {
     "iopub.execute_input": "2021-06-25T09:10:08.757716Z",
     "iopub.status.busy": "2021-06-25T09:10:08.757043Z",
     "iopub.status.idle": "2021-06-25T09:10:08.766079Z",
     "shell.execute_reply": "2021-06-25T09:10:08.765391Z"
    },
    "jupyter": {
     "source_hidden": true
    },
    "papermill": {
     "duration": 0.023357,
     "end_time": "2021-06-25T09:10:08.766286",
     "exception": false,
     "start_time": "2021-06-25T09:10:08.742929",
     "status": "completed"
    },
    "tags": []
   },
   "outputs": [],
   "source": [
    "df_final=pd.get_dummies(df.drop(['region','Date'],axis=1),drop_first=True)"
   ]
  },
  {
   "cell_type": "markdown",
   "metadata": {
    "_uuid": "8b74a6b88cb3e9b3e1d1e987e061048f203c7364",
    "papermill": {
     "duration": 0.005708,
     "end_time": "2021-06-25T09:10:08.777728",
     "exception": false,
     "start_time": "2021-06-25T09:10:08.772020",
     "status": "completed"
    },
    "tags": []
   },
   "source": [
    "Now our data are ready! lets apply our model which is going to be the Linear Regression because our Target variable 'AveragePrice'is continuous.\n",
    "Let's now begin to train out regression model! We will need to first split up our data into an X array that contains the features to train on, and a y array with the target variable"
   ]
  },
  {
   "cell_type": "code",
   "execution_count": 9,
   "metadata": {
    "_uuid": "830591f99de9715241e688bf9ce265e979401ff5",
    "execution": {
     "iopub.execute_input": "2021-06-25T09:10:08.793820Z",
     "iopub.status.busy": "2021-06-25T09:10:08.793187Z",
     "iopub.status.idle": "2021-06-25T09:10:08.804131Z",
     "shell.execute_reply": "2021-06-25T09:10:08.803525Z"
    },
    "jupyter": {
     "source_hidden": true
    },
    "papermill": {
     "duration": 0.021089,
     "end_time": "2021-06-25T09:10:08.804333",
     "exception": false,
     "start_time": "2021-06-25T09:10:08.783244",
     "status": "completed"
    },
    "tags": []
   },
   "outputs": [],
   "source": [
    "X=df_final.iloc[:,1:14]\n",
    "y=df_final['AveragePrice']\n",
    "from sklearn.model_selection import train_test_split\n",
    "X_train,X_test,y_train,y_test=train_test_split(X,y,test_size=0.2,random_state=42)"
   ]
  },
  {
   "cell_type": "markdown",
   "metadata": {
    "_uuid": "ea730c77a31cde9de98263079a189accb8b5772b",
    "papermill": {
     "duration": 0.005166,
     "end_time": "2021-06-25T09:10:08.815091",
     "exception": false,
     "start_time": "2021-06-25T09:10:08.809925",
     "status": "completed"
    },
    "tags": []
   },
   "source": [
    "Creating and Training the Model"
   ]
  },
  {
   "cell_type": "code",
   "execution_count": 10,
   "metadata": {
    "_uuid": "eb37015e78974e5fd2ae7e13d065c8ab0a9c6948",
    "execution": {
     "iopub.execute_input": "2021-06-25T09:10:08.828712Z",
     "iopub.status.busy": "2021-06-25T09:10:08.828148Z",
     "iopub.status.idle": "2021-06-25T09:10:16.170587Z",
     "shell.execute_reply": "2021-06-25T09:10:16.170997Z"
    },
    "jupyter": {
     "source_hidden": true
    },
    "papermill": {
     "duration": 7.351494,
     "end_time": "2021-06-25T09:10:16.171235",
     "exception": false,
     "start_time": "2021-06-25T09:10:08.819741",
     "status": "completed"
    },
    "tags": []
   },
   "outputs": [],
   "source": [
    "from sklearn.ensemble import RandomForestRegressor\n",
    "rdr = RandomForestRegressor(\n",
    "    n_estimators=n_estimators,\n",
    "    max_features=max_features\n",
    ")\n",
    "rdr.fit(X_train,y_train)\n",
    "pred=rdr.predict(X_test)"
   ]
  },
  {
   "cell_type": "code",
   "execution_count": 11,
   "metadata": {
    "_uuid": "7ed5b8d4e8abb44a4b548c13ac9fb2d65227d1c5",
    "execution": {
     "iopub.execute_input": "2021-06-25T09:10:16.186787Z",
     "iopub.status.busy": "2021-06-25T09:10:16.186130Z",
     "iopub.status.idle": "2021-06-25T09:10:16.189003Z",
     "shell.execute_reply": "2021-06-25T09:10:16.188346Z"
    },
    "jupyter": {
     "source_hidden": true
    },
    "papermill": {
     "duration": 0.012028,
     "end_time": "2021-06-25T09:10:16.189209",
     "exception": false,
     "start_time": "2021-06-25T09:10:16.177181",
     "status": "completed"
    },
    "tags": []
   },
   "outputs": [],
   "source": [
    "#%%capture cap --no-stderr\n",
    "#print(np.sqrt(mean_squared_error(y_test, pred)))"
   ]
  },
  {
   "cell_type": "code",
   "execution_count": 12,
   "metadata": {
    "execution": {
     "iopub.execute_input": "2021-06-25T09:10:16.204876Z",
     "iopub.status.busy": "2021-06-25T09:10:16.204215Z",
     "iopub.status.idle": "2021-06-25T09:10:16.206887Z",
     "shell.execute_reply": "2021-06-25T09:10:16.206389Z"
    },
    "jupyter": {
     "source_hidden": true
    },
    "papermill": {
     "duration": 0.012116,
     "end_time": "2021-06-25T09:10:16.207099",
     "exception": false,
     "start_time": "2021-06-25T09:10:16.194983",
     "status": "completed"
    },
    "tags": []
   },
   "outputs": [],
   "source": [
    "#with open(output_rmse, 'w') as f:\n",
    "#    f.write(cap.stdout)"
   ]
  },
  {
   "cell_type": "code",
   "execution_count": 13,
   "metadata": {
    "execution": {
     "iopub.execute_input": "2021-06-25T09:10:16.227807Z",
     "iopub.status.busy": "2021-06-25T09:10:16.227107Z",
     "iopub.status.idle": "2021-06-25T09:10:16.249224Z",
     "shell.execute_reply": "2021-06-25T09:10:16.249688Z"
    },
    "jupyter": {
     "source_hidden": true
    },
    "papermill": {
     "duration": 0.036261,
     "end_time": "2021-06-25T09:10:16.249942",
     "exception": false,
     "start_time": "2021-06-25T09:10:16.213681",
     "status": "completed"
    },
    "tags": []
   },
   "outputs": [
    {
     "data": {
      "text/plain": [
       "<sqlalchemy.engine.result.ResultProxy at 0x7f48acefba90>"
      ]
     },
     "execution_count": 13,
     "metadata": {},
     "output_type": "execute_result"
    }
   ],
   "source": [
    "cnx.execute(\"\"\"\n",
    "    INSERT INTO ml.accuracies (ml_id, ml_date, accuracy) VALUES ('{0}', '{1}', {2}) \n",
    "    ON CONFLICT (ml_id, ml_date) \n",
    "    DO\n",
    "        UPDATE SET accuracy = {2};\n",
    "    \"\"\".format(ml_id, ml_date, np.sqrt(mean_squared_error(y_test, pred))))"
   ]
  }
 ],
 "metadata": {
  "kernelspec": {
   "display_name": "Python 3",
   "language": "python",
   "name": "python3"
  },
  "language_info": {
   "codemirror_mode": {
    "name": "ipython",
    "version": 3
   },
   "file_extension": ".py",
   "mimetype": "text/x-python",
   "name": "python",
   "nbconvert_exporter": "python",
   "pygments_lexer": "ipython3",
   "version": "3.7.10"
  },
  "papermill": {
   "duration": 9.808687,
   "end_time": "2021-06-25T09:10:16.672624",
   "environment_variables": {},
   "exception": null,
   "input_path": "/usr/local/airflow/include/notebooks/avocado_prediction.ipynb",
   "output_path": "/tmp/out-model-avocado-prediction-auto_100.ipynb",
   "parameters": {
    "filepath": "/tmp/avocado.csv",
    "max_features": "auto",
    "ml_id": "auto_100",
    "n_estimators": 100
   },
   "start_time": "2021-06-25T09:10:06.863937",
   "version": "2.1.2"
  }
 },
 "nbformat": 4,
 "nbformat_minor": 4
}