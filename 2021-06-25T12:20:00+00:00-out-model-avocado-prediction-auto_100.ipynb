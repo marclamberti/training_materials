{
 "cells": [
  {
   "cell_type": "code",
   "execution_count": 1,
   "metadata": {
    "_cell_guid": "79c7e3d0-c299-4dcb-8224-4455121ee9b0",
    "_uuid": "d629ff2d2480ee46fbb7e2d37f6b5fab8052498a",
    "execution": {
     "iopub.execute_input": "2021-06-25T12:30:09.563805Z",
     "iopub.status.busy": "2021-06-25T12:30:09.562961Z",
     "iopub.status.idle": "2021-06-25T12:30:10.333937Z",
     "shell.execute_reply": "2021-06-25T12:30:10.333127Z"
    },
    "jupyter": {
     "source_hidden": true
    },
    "papermill": {
     "duration": 0.784358,
     "end_time": "2021-06-25T12:30:10.334218",
     "exception": false,
     "start_time": "2021-06-25T12:30:09.549860",
     "status": "completed"
    },
    "tags": []
   },
   "outputs": [],
   "source": [
    "import pandas as pd\n",
    "import numpy as np\n",
    "from sqlalchemy import create_engine\n",
    "from datetime import date\n",
    "from sklearn.metrics import mean_squared_error"
   ]
  },
  {
   "cell_type": "code",
   "execution_count": 2,
   "metadata": {
    "execution": {
     "iopub.execute_input": "2021-06-25T12:30:10.355757Z",
     "iopub.status.busy": "2021-06-25T12:30:10.355000Z",
     "iopub.status.idle": "2021-06-25T12:30:10.388115Z",
     "shell.execute_reply": "2021-06-25T12:30:10.387335Z"
    },
    "jupyter": {
     "source_hidden": true
    },
    "papermill": {
     "duration": 0.045601,
     "end_time": "2021-06-25T12:30:10.388316",
     "exception": false,
     "start_time": "2021-06-25T12:30:10.342715",
     "status": "completed"
    },
    "tags": []
   },
   "outputs": [],
   "source": [
    "# THIS IS PURELY FOR TEST PURPOSE NEVER DO THAT IN PRODUCTION\n",
    "POSTGRES_ADDRESS='postgres'\n",
    "POSTGRES_PORT='5432'\n",
    "POSTGRES_USERNAME='postgres'\n",
    "POSTGRES_PASSWORD='postgres'\n",
    "\n",
    "postgres_conn = 'postgresql://{0}:{1}@{2}:{3}/'.format(POSTGRES_USERNAME, POSTGRES_PASSWORD, POSTGRES_ADDRESS, POSTGRES_PORT)\n",
    "\n",
    "# Create the connection\n",
    "cnx = create_engine(postgres_conn)\n"
   ]
  },
  {
   "cell_type": "markdown",
   "metadata": {
    "_uuid": "1998755ef10683262b29765345cff1c1c7d10b15",
    "papermill": {
     "duration": 0.005392,
     "end_time": "2021-06-25T12:30:10.398943",
     "exception": false,
     "start_time": "2021-06-25T12:30:10.393551",
     "status": "completed"
    },
    "tags": []
   },
   "source": [
    "Read in the Avocado Prices csv file as a DataFrame called df"
   ]
  },
  {
   "cell_type": "code",
   "execution_count": 3,
   "metadata": {
    "execution": {
     "iopub.execute_input": "2021-06-25T12:30:10.417152Z",
     "iopub.status.busy": "2021-06-25T12:30:10.416529Z",
     "iopub.status.idle": "2021-06-25T12:30:10.418514Z",
     "shell.execute_reply": "2021-06-25T12:30:10.418949Z"
    },
    "jupyter": {
     "source_hidden": true
    },
    "papermill": {
     "duration": 0.012302,
     "end_time": "2021-06-25T12:30:10.419184",
     "exception": false,
     "start_time": "2021-06-25T12:30:10.406882",
     "status": "completed"
    },
    "tags": [
     "parameters"
    ]
   },
   "outputs": [],
   "source": [
    "# Parameterized\n",
    "\n",
    "filepath='avocado.csv'\n",
    "ml_id='auto_100'\n",
    "ml_date=date.today()\n",
    "n_estimators = 100\n",
    "max_features = 'auto'"
   ]
  },
  {
   "cell_type": "code",
   "execution_count": 4,
   "id": "15cf270a",
   "metadata": {
    "execution": {
     "iopub.execute_input": "2021-06-25T12:30:10.439182Z",
     "iopub.status.busy": "2021-06-25T12:30:10.438576Z",
     "iopub.status.idle": "2021-06-25T12:30:10.441123Z",
     "shell.execute_reply": "2021-06-25T12:30:10.442121Z"
    },
    "jupyter": {
     "source_hidden": true
    },
    "papermill": {
     "duration": 0.013577,
     "end_time": "2021-06-25T12:30:10.442508",
     "exception": false,
     "start_time": "2021-06-25T12:30:10.428931",
     "status": "completed"
    },
    "tags": [
     "injected-parameters"
    ]
   },
   "outputs": [],
   "source": [
    "# Parameters\n",
    "filepath = \"/tmp/avocado.csv\"\n",
    "n_estimators = 100\n",
    "max_features = \"auto\"\n",
    "ml_id = \"auto_100\"\n"
   ]
  },
  {
   "cell_type": "code",
   "execution_count": 5,
   "metadata": {
    "_uuid": "55d0e719eb8b91d763c1eacaf0f51ee0586486fc",
    "execution": {
     "iopub.execute_input": "2021-06-25T12:30:10.462528Z",
     "iopub.status.busy": "2021-06-25T12:30:10.461368Z",
     "iopub.status.idle": "2021-06-25T12:30:10.498672Z",
     "shell.execute_reply": "2021-06-25T12:30:10.497972Z"
    },
    "jupyter": {
     "source_hidden": true
    },
    "papermill": {
     "duration": 0.048151,
     "end_time": "2021-06-25T12:30:10.498876",
     "exception": false,
     "start_time": "2021-06-25T12:30:10.450725",
     "status": "completed"
    },
    "tags": []
   },
   "outputs": [],
   "source": [
    "df= pd.read_csv(filepath)"
   ]
  },
  {
   "cell_type": "markdown",
   "metadata": {
    "_uuid": "434e0457f550e2200424e5ec26162e1aa5904005",
    "papermill": {
     "duration": 0.007034,
     "end_time": "2021-06-25T12:30:10.515236",
     "exception": false,
     "start_time": "2021-06-25T12:30:10.508202",
     "status": "completed"
    },
    "tags": []
   },
   "source": [
    "The Feature \"Unnamed:0\" is just a representation of the indexes, so it's useless to keep it, lets remove it !"
   ]
  },
  {
   "cell_type": "code",
   "execution_count": 6,
   "metadata": {
    "_uuid": "9875398e37728dc3141fed4228be337a4735beb6",
    "execution": {
     "iopub.execute_input": "2021-06-25T12:30:10.538056Z",
     "iopub.status.busy": "2021-06-25T12:30:10.537422Z",
     "iopub.status.idle": "2021-06-25T12:30:10.540383Z",
     "shell.execute_reply": "2021-06-25T12:30:10.541068Z"
    },
    "jupyter": {
     "source_hidden": true
    },
    "papermill": {
     "duration": 0.019148,
     "end_time": "2021-06-25T12:30:10.541371",
     "exception": false,
     "start_time": "2021-06-25T12:30:10.522223",
     "status": "completed"
    },
    "tags": []
   },
   "outputs": [],
   "source": [
    "df.drop('Unnamed: 0',axis=1,inplace=True)"
   ]
  },
  {
   "cell_type": "markdown",
   "metadata": {
    "_uuid": "12e94ad381e4cb8d2c8a9bbe08ce07ab5d49c040",
    "papermill": {
     "duration": 0.006019,
     "end_time": "2021-06-25T12:30:10.554717",
     "exception": false,
     "start_time": "2021-06-25T12:30:10.548698",
     "status": "completed"
    },
    "tags": []
   },
   "source": [
    "well as a first observation we can see that we are lucky, we dont have any missing values (18249 complete data) and 13 columns.\n",
    "Now let's do some Feature Engineering on the Date Feature so we can be able to use the day and the month columns in building our machine learning model later. ( I didn't mention the year because its already there in data frame)"
   ]
  },
  {
   "cell_type": "code",
   "execution_count": 7,
   "metadata": {
    "_uuid": "f031639ce794656e877484d1c9c356df7028177f",
    "execution": {
     "iopub.execute_input": "2021-06-25T12:30:10.574865Z",
     "iopub.status.busy": "2021-06-25T12:30:10.574034Z",
     "iopub.status.idle": "2021-06-25T12:30:10.721778Z",
     "shell.execute_reply": "2021-06-25T12:30:10.719824Z"
    },
    "jupyter": {
     "source_hidden": true
    },
    "papermill": {
     "duration": 0.161919,
     "end_time": "2021-06-25T12:30:10.722176",
     "exception": false,
     "start_time": "2021-06-25T12:30:10.560257",
     "status": "completed"
    },
    "tags": []
   },
   "outputs": [],
   "source": [
    "df['Date']=pd.to_datetime(df['Date'])\n",
    "df['Month']=df['Date'].apply(lambda x:x.month)\n",
    "df['Day']=df['Date'].apply(lambda x:x.day)"
   ]
  },
  {
   "cell_type": "markdown",
   "metadata": {
    "_uuid": "ebdcac9924ce3e366fd3a75170682f7113385b7a",
    "papermill": {
     "duration": 0.005387,
     "end_time": "2021-06-25T12:30:10.736266",
     "exception": false,
     "start_time": "2021-06-25T12:30:10.730879",
     "status": "completed"
    },
    "tags": []
   },
   "source": [
    "as we can see we have 54 regions and 2 unique types, so it's going to be easy to to transform the type feature to dummies, but for the region its going to be a bit complexe so I decided to drop the entire column.\n",
    "I will drop the Date Feature as well because I already have 3 other columns for the Year, Month and Day."
   ]
  },
  {
   "cell_type": "code",
   "execution_count": 8,
   "metadata": {
    "_uuid": "a798682da34327b731ef262985fd50ba68e06460",
    "execution": {
     "iopub.execute_input": "2021-06-25T12:30:10.757186Z",
     "iopub.status.busy": "2021-06-25T12:30:10.756583Z",
     "iopub.status.idle": "2021-06-25T12:30:10.769109Z",
     "shell.execute_reply": "2021-06-25T12:30:10.768530Z"
    },
    "jupyter": {
     "source_hidden": true
    },
    "papermill": {
     "duration": 0.026666,
     "end_time": "2021-06-25T12:30:10.769335",
     "exception": false,
     "start_time": "2021-06-25T12:30:10.742669",
     "status": "completed"
    },
    "tags": []
   },
   "outputs": [],
   "source": [
    "df_final=pd.get_dummies(df.drop(['region','Date'],axis=1),drop_first=True)"
   ]
  },
  {
   "cell_type": "markdown",
   "metadata": {
    "_uuid": "8b74a6b88cb3e9b3e1d1e987e061048f203c7364",
    "papermill": {
     "duration": 0.006227,
     "end_time": "2021-06-25T12:30:10.781534",
     "exception": false,
     "start_time": "2021-06-25T12:30:10.775307",
     "status": "completed"
    },
    "tags": []
   },
   "source": [
    "Now our data are ready! lets apply our model which is going to be the Linear Regression because our Target variable 'AveragePrice'is continuous.\n",
    "Let's now begin to train out regression model! We will need to first split up our data into an X array that contains the features to train on, and a y array with the target variable"
   ]
  },
  {
   "cell_type": "code",
   "execution_count": 9,
   "metadata": {
    "_uuid": "830591f99de9715241e688bf9ce265e979401ff5",
    "execution": {
     "iopub.execute_input": "2021-06-25T12:30:10.799013Z",
     "iopub.status.busy": "2021-06-25T12:30:10.798405Z",
     "iopub.status.idle": "2021-06-25T12:30:10.814097Z",
     "shell.execute_reply": "2021-06-25T12:30:10.813316Z"
    },
    "jupyter": {
     "source_hidden": true
    },
    "papermill": {
     "duration": 0.026683,
     "end_time": "2021-06-25T12:30:10.814310",
     "exception": false,
     "start_time": "2021-06-25T12:30:10.787627",
     "status": "completed"
    },
    "tags": []
   },
   "outputs": [],
   "source": [
    "X=df_final.iloc[:,1:14]\n",
    "y=df_final['AveragePrice']\n",
    "from sklearn.model_selection import train_test_split\n",
    "X_train,X_test,y_train,y_test=train_test_split(X,y,test_size=0.2,random_state=42)"
   ]
  },
  {
   "cell_type": "markdown",
   "metadata": {
    "_uuid": "ea730c77a31cde9de98263079a189accb8b5772b",
    "papermill": {
     "duration": 0.007325,
     "end_time": "2021-06-25T12:30:10.827353",
     "exception": false,
     "start_time": "2021-06-25T12:30:10.820028",
     "status": "completed"
    },
    "tags": []
   },
   "source": [
    "Creating and Training the Model"
   ]
  },
  {
   "cell_type": "code",
   "execution_count": 10,
   "metadata": {
    "_uuid": "eb37015e78974e5fd2ae7e13d065c8ab0a9c6948",
    "execution": {
     "iopub.execute_input": "2021-06-25T12:30:10.847735Z",
     "iopub.status.busy": "2021-06-25T12:30:10.846797Z",
     "iopub.status.idle": "2021-06-25T12:30:20.945039Z",
     "shell.execute_reply": "2021-06-25T12:30:20.944543Z"
    },
    "jupyter": {
     "source_hidden": true
    },
    "papermill": {
     "duration": 10.111516,
     "end_time": "2021-06-25T12:30:20.945253",
     "exception": false,
     "start_time": "2021-06-25T12:30:10.833737",
     "status": "completed"
    },
    "tags": []
   },
   "outputs": [],
   "source": [
    "from sklearn.ensemble import RandomForestRegressor\n",
    "rdr = RandomForestRegressor(\n",
    "    n_estimators=n_estimators,\n",
    "    max_features=max_features\n",
    ")\n",
    "rdr.fit(X_train,y_train)\n",
    "pred=rdr.predict(X_test)"
   ]
  },
  {
   "cell_type": "code",
   "execution_count": 11,
   "metadata": {
    "_uuid": "7ed5b8d4e8abb44a4b548c13ac9fb2d65227d1c5",
    "execution": {
     "iopub.execute_input": "2021-06-25T12:30:20.966962Z",
     "iopub.status.busy": "2021-06-25T12:30:20.966319Z",
     "iopub.status.idle": "2021-06-25T12:30:20.968452Z",
     "shell.execute_reply": "2021-06-25T12:30:20.968882Z"
    },
    "jupyter": {
     "source_hidden": true
    },
    "papermill": {
     "duration": 0.017616,
     "end_time": "2021-06-25T12:30:20.969114",
     "exception": false,
     "start_time": "2021-06-25T12:30:20.951498",
     "status": "completed"
    },
    "tags": []
   },
   "outputs": [],
   "source": [
    "#%%capture cap --no-stderr\n",
    "#print(np.sqrt(mean_squared_error(y_test, pred)))"
   ]
  },
  {
   "cell_type": "code",
   "execution_count": 12,
   "metadata": {
    "execution": {
     "iopub.execute_input": "2021-06-25T12:30:20.988189Z",
     "iopub.status.busy": "2021-06-25T12:30:20.987558Z",
     "iopub.status.idle": "2021-06-25T12:30:20.990477Z",
     "shell.execute_reply": "2021-06-25T12:30:20.989845Z"
    },
    "jupyter": {
     "source_hidden": true
    },
    "papermill": {
     "duration": 0.013154,
     "end_time": "2021-06-25T12:30:20.990734",
     "exception": false,
     "start_time": "2021-06-25T12:30:20.977580",
     "status": "completed"
    },
    "tags": []
   },
   "outputs": [],
   "source": [
    "#with open(output_rmse, 'w') as f:\n",
    "#    f.write(cap.stdout)"
   ]
  },
  {
   "cell_type": "code",
   "execution_count": 13,
   "metadata": {
    "execution": {
     "iopub.execute_input": "2021-06-25T12:30:21.009998Z",
     "iopub.status.busy": "2021-06-25T12:30:21.009009Z",
     "iopub.status.idle": "2021-06-25T12:30:20.999294Z",
     "shell.execute_reply": "2021-06-25T12:30:20.998605Z"
    },
    "jupyter": {
     "source_hidden": true
    },
    "papermill": {
     "duration": 0.001999,
     "end_time": "2021-06-25T12:30:20.999549",
     "exception": false,
     "start_time": "2021-06-25T12:30:20.997550",
     "status": "completed"
    },
    "tags": []
   },
   "outputs": [
    {
     "data": {
      "text/plain": [
       "<sqlalchemy.engine.result.ResultProxy at 0x7f0321bbb710>"
      ]
     },
     "execution_count": 13,
     "metadata": {},
     "output_type": "execute_result"
    }
   ],
   "source": [
    "cnx.execute(\"\"\"\n",
    "    INSERT INTO ml.accuracies (ml_id, ml_date, accuracy) VALUES ('{0}', '{1}', {2}) \n",
    "    ON CONFLICT (ml_id, ml_date) \n",
    "    DO\n",
    "        UPDATE SET accuracy = {2};\n",
    "    \"\"\".format(ml_id, ml_date, np.sqrt(mean_squared_error(y_test, pred))))"
   ]
  }
 ],
 "metadata": {
  "kernelspec": {
   "display_name": "Python 3",
   "language": "python",
   "name": "python3"
  },
  "language_info": {
   "codemirror_mode": {
    "name": "ipython",
    "version": 3
   },
   "file_extension": ".py",
   "mimetype": "text/x-python",
   "name": "python",
   "nbconvert_exporter": "python",
   "pygments_lexer": "ipython3",
   "version": "3.7.10"
  },
  "papermill": {
   "duration": 13.014312,
   "end_time": "2021-06-25T12:30:21.417984",
   "environment_variables": {},
   "exception": null,
   "input_path": "/usr/local/airflow/include/notebooks/avocado_prediction.ipynb",
   "output_path": "/tmp/out-model-avocado-prediction-auto_100.ipynb",
   "parameters": {
    "filepath": "/tmp/avocado.csv",
    "max_features": "auto",
    "ml_id": "auto_100",
    "n_estimators": 100
   },
   "start_time": "2021-06-25T12:30:08.403672",
   "version": "2.1.2"
  }
 },
 "nbformat": 4,
 "nbformat_minor": 4
}