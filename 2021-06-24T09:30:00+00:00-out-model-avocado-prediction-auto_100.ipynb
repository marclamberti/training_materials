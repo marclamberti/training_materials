{
 "cells": [
  {
   "cell_type": "code",
   "execution_count": 1,
   "metadata": {
    "_cell_guid": "79c7e3d0-c299-4dcb-8224-4455121ee9b0",
    "_uuid": "d629ff2d2480ee46fbb7e2d37f6b5fab8052498a",
    "execution": {
     "iopub.execute_input": "2021-06-24T11:55:15.971766Z",
     "iopub.status.busy": "2021-06-24T11:55:15.971041Z",
     "iopub.status.idle": "2021-06-24T11:55:16.751937Z",
     "shell.execute_reply": "2021-06-24T11:55:16.752525Z"
    },
    "jupyter": {
     "source_hidden": true
    },
    "papermill": {
     "duration": 0.80296,
     "end_time": "2021-06-24T11:55:16.752921",
     "exception": false,
     "start_time": "2021-06-24T11:55:15.949961",
     "status": "completed"
    },
    "tags": []
   },
   "outputs": [],
   "source": [
    "import pandas as pd\n",
    "import numpy as np\n",
    "from sqlalchemy import create_engine\n",
    "from datetime import date\n",
    "from sklearn.metrics import mean_squared_error"
   ]
  },
  {
   "cell_type": "code",
   "execution_count": 2,
   "metadata": {
    "execution": {
     "iopub.execute_input": "2021-06-24T11:55:16.772617Z",
     "iopub.status.busy": "2021-06-24T11:55:16.771966Z",
     "iopub.status.idle": "2021-06-24T11:55:16.796775Z",
     "shell.execute_reply": "2021-06-24T11:55:16.796098Z"
    },
    "jupyter": {
     "source_hidden": true
    },
    "papermill": {
     "duration": 0.037167,
     "end_time": "2021-06-24T11:55:16.796982",
     "exception": false,
     "start_time": "2021-06-24T11:55:16.759815",
     "status": "completed"
    },
    "tags": []
   },
   "outputs": [],
   "source": [
    "# THIS IS PURELY FOR TEST PURPOSE NEVER DO THAT IN PRODUCTION\n",
    "POSTGRES_ADDRESS='postgres'\n",
    "POSTGRES_PORT='5432'\n",
    "POSTGRES_USERNAME='postgres'\n",
    "POSTGRES_PASSWORD='postgres'\n",
    "\n",
    "postgres_conn = 'postgresql://{0}:{1}@{2}:{3}/'.format(POSTGRES_USERNAME, POSTGRES_PASSWORD, POSTGRES_ADDRESS, POSTGRES_PORT)\n",
    "\n",
    "# Create the connection\n",
    "cnx = create_engine(postgres_conn)\n"
   ]
  },
  {
   "cell_type": "markdown",
   "metadata": {
    "_uuid": "1998755ef10683262b29765345cff1c1c7d10b15",
    "papermill": {
     "duration": 0.005359,
     "end_time": "2021-06-24T11:55:16.807624",
     "exception": false,
     "start_time": "2021-06-24T11:55:16.802265",
     "status": "completed"
    },
    "tags": []
   },
   "source": [
    "Read in the Avocado Prices csv file as a DataFrame called df"
   ]
  },
  {
   "cell_type": "code",
   "execution_count": 3,
   "metadata": {
    "execution": {
     "iopub.execute_input": "2021-06-24T11:55:16.821516Z",
     "iopub.status.busy": "2021-06-24T11:55:16.821010Z",
     "iopub.status.idle": "2021-06-24T11:55:16.823620Z",
     "shell.execute_reply": "2021-06-24T11:55:16.823947Z"
    },
    "jupyter": {
     "source_hidden": true
    },
    "papermill": {
     "duration": 0.011521,
     "end_time": "2021-06-24T11:55:16.824198",
     "exception": false,
     "start_time": "2021-06-24T11:55:16.812677",
     "status": "completed"
    },
    "tags": [
     "parameters"
    ]
   },
   "outputs": [],
   "source": [
    "# Parameterized\n",
    "\n",
    "filepath='avocado.csv'\n",
    "ml_id='auto_100'\n",
    "ml_date=date.today()\n",
    "n_estimators = 100\n",
    "max_features = 'auto'"
   ]
  },
  {
   "cell_type": "code",
   "execution_count": 4,
   "id": "526472e4",
   "metadata": {
    "execution": {
     "iopub.execute_input": "2021-06-24T11:55:16.838260Z",
     "iopub.status.busy": "2021-06-24T11:55:16.837579Z",
     "iopub.status.idle": "2021-06-24T11:55:16.840230Z",
     "shell.execute_reply": "2021-06-24T11:55:16.839746Z"
    },
    "jupyter": {
     "source_hidden": true
    },
    "papermill": {
     "duration": 0.011225,
     "end_time": "2021-06-24T11:55:16.840443",
     "exception": false,
     "start_time": "2021-06-24T11:55:16.829218",
     "status": "completed"
    },
    "tags": [
     "injected-parameters"
    ]
   },
   "outputs": [],
   "source": [
    "# Parameters\n",
    "filepath = \"/tmp/avocado.csv\"\n",
    "n_estimators = 100\n",
    "max_features = \"auto\"\n",
    "ml_id = \"auto_100\"\n"
   ]
  },
  {
   "cell_type": "code",
   "execution_count": 5,
   "metadata": {
    "_uuid": "55d0e719eb8b91d763c1eacaf0f51ee0586486fc",
    "execution": {
     "iopub.execute_input": "2021-06-24T11:55:16.854874Z",
     "iopub.status.busy": "2021-06-24T11:55:16.854371Z",
     "iopub.status.idle": "2021-06-24T11:55:16.880850Z",
     "shell.execute_reply": "2021-06-24T11:55:16.880302Z"
    },
    "jupyter": {
     "source_hidden": true
    },
    "papermill": {
     "duration": 0.035166,
     "end_time": "2021-06-24T11:55:16.881022",
     "exception": false,
     "start_time": "2021-06-24T11:55:16.845856",
     "status": "completed"
    },
    "tags": []
   },
   "outputs": [],
   "source": [
    "df= pd.read_csv(filepath)"
   ]
  },
  {
   "cell_type": "markdown",
   "metadata": {
    "_uuid": "434e0457f550e2200424e5ec26162e1aa5904005",
    "papermill": {
     "duration": 0.004583,
     "end_time": "2021-06-24T11:55:16.890326",
     "exception": false,
     "start_time": "2021-06-24T11:55:16.885743",
     "status": "completed"
    },
    "tags": []
   },
   "source": [
    "The Feature \"Unnamed:0\" is just a representation of the indexes, so it's useless to keep it, lets remove it !"
   ]
  },
  {
   "cell_type": "code",
   "execution_count": 6,
   "metadata": {
    "_uuid": "9875398e37728dc3141fed4228be337a4735beb6",
    "execution": {
     "iopub.execute_input": "2021-06-24T11:55:16.906468Z",
     "iopub.status.busy": "2021-06-24T11:55:16.905548Z",
     "iopub.status.idle": "2021-06-24T11:55:16.910335Z",
     "shell.execute_reply": "2021-06-24T11:55:16.909471Z"
    },
    "jupyter": {
     "source_hidden": true
    },
    "papermill": {
     "duration": 0.01595,
     "end_time": "2021-06-24T11:55:16.910688",
     "exception": false,
     "start_time": "2021-06-24T11:55:16.894738",
     "status": "completed"
    },
    "tags": []
   },
   "outputs": [],
   "source": [
    "df.drop('Unnamed: 0',axis=1,inplace=True)"
   ]
  },
  {
   "cell_type": "markdown",
   "metadata": {
    "_uuid": "12e94ad381e4cb8d2c8a9bbe08ce07ab5d49c040",
    "papermill": {
     "duration": 0.008745,
     "end_time": "2021-06-24T11:55:16.929894",
     "exception": false,
     "start_time": "2021-06-24T11:55:16.921149",
     "status": "completed"
    },
    "tags": []
   },
   "source": [
    "well as a first observation we can see that we are lucky, we dont have any missing values (18249 complete data) and 13 columns.\n",
    "Now let's do some Feature Engineering on the Date Feature so we can be able to use the day and the month columns in building our machine learning model later. ( I didn't mention the year because its already there in data frame)"
   ]
  },
  {
   "cell_type": "code",
   "execution_count": 7,
   "metadata": {
    "_uuid": "f031639ce794656e877484d1c9c356df7028177f",
    "execution": {
     "iopub.execute_input": "2021-06-24T11:55:16.953680Z",
     "iopub.status.busy": "2021-06-24T11:55:16.952809Z",
     "iopub.status.idle": "2021-06-24T11:55:17.080320Z",
     "shell.execute_reply": "2021-06-24T11:55:17.079809Z"
    },
    "jupyter": {
     "source_hidden": true
    },
    "papermill": {
     "duration": 0.143278,
     "end_time": "2021-06-24T11:55:17.080524",
     "exception": false,
     "start_time": "2021-06-24T11:55:16.937246",
     "status": "completed"
    },
    "tags": []
   },
   "outputs": [],
   "source": [
    "df['Date']=pd.to_datetime(df['Date'])\n",
    "df['Month']=df['Date'].apply(lambda x:x.month)\n",
    "df['Day']=df['Date'].apply(lambda x:x.day)"
   ]
  },
  {
   "cell_type": "markdown",
   "metadata": {
    "_uuid": "ebdcac9924ce3e366fd3a75170682f7113385b7a",
    "papermill": {
     "duration": 0.004996,
     "end_time": "2021-06-24T11:55:17.091431",
     "exception": false,
     "start_time": "2021-06-24T11:55:17.086435",
     "status": "completed"
    },
    "tags": []
   },
   "source": [
    "as we can see we have 54 regions and 2 unique types, so it's going to be easy to to transform the type feature to dummies, but for the region its going to be a bit complexe so I decided to drop the entire column.\n",
    "I will drop the Date Feature as well because I already have 3 other columns for the Year, Month and Day."
   ]
  },
  {
   "cell_type": "code",
   "execution_count": 8,
   "metadata": {
    "_uuid": "a798682da34327b731ef262985fd50ba68e06460",
    "execution": {
     "iopub.execute_input": "2021-06-24T11:55:17.106133Z",
     "iopub.status.busy": "2021-06-24T11:55:17.105594Z",
     "iopub.status.idle": "2021-06-24T11:55:17.115734Z",
     "shell.execute_reply": "2021-06-24T11:55:17.115081Z"
    },
    "jupyter": {
     "source_hidden": true
    },
    "papermill": {
     "duration": 0.019608,
     "end_time": "2021-06-24T11:55:17.115937",
     "exception": false,
     "start_time": "2021-06-24T11:55:17.096329",
     "status": "completed"
    },
    "tags": []
   },
   "outputs": [],
   "source": [
    "df_final=pd.get_dummies(df.drop(['region','Date'],axis=1),drop_first=True)"
   ]
  },
  {
   "cell_type": "markdown",
   "metadata": {
    "_uuid": "8b74a6b88cb3e9b3e1d1e987e061048f203c7364",
    "papermill": {
     "duration": 0.005457,
     "end_time": "2021-06-24T11:55:17.127067",
     "exception": false,
     "start_time": "2021-06-24T11:55:17.121610",
     "status": "completed"
    },
    "tags": []
   },
   "source": [
    "Now our data are ready! lets apply our model which is going to be the Linear Regression because our Target variable 'AveragePrice'is continuous.\n",
    "Let's now begin to train out regression model! We will need to first split up our data into an X array that contains the features to train on, and a y array with the target variable"
   ]
  },
  {
   "cell_type": "code",
   "execution_count": 9,
   "metadata": {
    "_uuid": "830591f99de9715241e688bf9ce265e979401ff5",
    "execution": {
     "iopub.execute_input": "2021-06-24T11:55:17.141868Z",
     "iopub.status.busy": "2021-06-24T11:55:17.141368Z",
     "iopub.status.idle": "2021-06-24T11:55:17.151381Z",
     "shell.execute_reply": "2021-06-24T11:55:17.150766Z"
    },
    "jupyter": {
     "source_hidden": true
    },
    "papermill": {
     "duration": 0.01906,
     "end_time": "2021-06-24T11:55:17.151563",
     "exception": false,
     "start_time": "2021-06-24T11:55:17.132503",
     "status": "completed"
    },
    "tags": []
   },
   "outputs": [],
   "source": [
    "X=df_final.iloc[:,1:14]\n",
    "y=df_final['AveragePrice']\n",
    "from sklearn.model_selection import train_test_split\n",
    "X_train,X_test,y_train,y_test=train_test_split(X,y,test_size=0.2,random_state=42)"
   ]
  },
  {
   "cell_type": "markdown",
   "metadata": {
    "_uuid": "ea730c77a31cde9de98263079a189accb8b5772b",
    "papermill": {
     "duration": 0.005466,
     "end_time": "2021-06-24T11:55:17.162136",
     "exception": false,
     "start_time": "2021-06-24T11:55:17.156670",
     "status": "completed"
    },
    "tags": []
   },
   "source": [
    "Creating and Training the Model"
   ]
  },
  {
   "cell_type": "code",
   "execution_count": 10,
   "metadata": {
    "_uuid": "eb37015e78974e5fd2ae7e13d065c8ab0a9c6948",
    "execution": {
     "iopub.execute_input": "2021-06-24T11:55:17.179297Z",
     "iopub.status.busy": "2021-06-24T11:55:17.178310Z",
     "iopub.status.idle": "2021-06-24T11:55:25.089747Z",
     "shell.execute_reply": "2021-06-24T11:55:25.089233Z"
    },
    "jupyter": {
     "source_hidden": true
    },
    "papermill": {
     "duration": 7.922772,
     "end_time": "2021-06-24T11:55:25.089953",
     "exception": false,
     "start_time": "2021-06-24T11:55:17.167181",
     "status": "completed"
    },
    "tags": []
   },
   "outputs": [],
   "source": [
    "from sklearn.ensemble import RandomForestRegressor\n",
    "rdr = RandomForestRegressor(\n",
    "    n_estimators=n_estimators,\n",
    "    max_features=max_features\n",
    ")\n",
    "rdr.fit(X_train,y_train)\n",
    "pred=rdr.predict(X_test)"
   ]
  },
  {
   "cell_type": "code",
   "execution_count": 11,
   "metadata": {
    "_uuid": "7ed5b8d4e8abb44a4b548c13ac9fb2d65227d1c5",
    "execution": {
     "iopub.execute_input": "2021-06-24T11:55:25.104905Z",
     "iopub.status.busy": "2021-06-24T11:55:25.104261Z",
     "iopub.status.idle": "2021-06-24T11:55:25.107231Z",
     "shell.execute_reply": "2021-06-24T11:55:25.106806Z"
    },
    "jupyter": {
     "source_hidden": true
    },
    "papermill": {
     "duration": 0.011572,
     "end_time": "2021-06-24T11:55:25.107421",
     "exception": false,
     "start_time": "2021-06-24T11:55:25.095849",
     "status": "completed"
    },
    "tags": []
   },
   "outputs": [],
   "source": [
    "#%%capture cap --no-stderr\n",
    "#print(np.sqrt(mean_squared_error(y_test, pred)))"
   ]
  },
  {
   "cell_type": "code",
   "execution_count": 12,
   "metadata": {
    "execution": {
     "iopub.execute_input": "2021-06-24T11:55:25.121579Z",
     "iopub.status.busy": "2021-06-24T11:55:25.121065Z",
     "iopub.status.idle": "2021-06-24T11:55:25.124086Z",
     "shell.execute_reply": "2021-06-24T11:55:25.123741Z"
    },
    "jupyter": {
     "source_hidden": true
    },
    "papermill": {
     "duration": 0.011384,
     "end_time": "2021-06-24T11:55:25.124243",
     "exception": false,
     "start_time": "2021-06-24T11:55:25.112859",
     "status": "completed"
    },
    "tags": []
   },
   "outputs": [],
   "source": [
    "#with open(output_rmse, 'w') as f:\n",
    "#    f.write(cap.stdout)"
   ]
  },
  {
   "cell_type": "code",
   "execution_count": 13,
   "metadata": {
    "execution": {
     "iopub.execute_input": "2021-06-24T11:55:25.138332Z",
     "iopub.status.busy": "2021-06-24T11:55:25.137707Z",
     "iopub.status.idle": "2021-06-24T11:55:25.157987Z",
     "shell.execute_reply": "2021-06-24T11:55:25.157636Z"
    },
    "jupyter": {
     "source_hidden": true
    },
    "papermill": {
     "duration": 0.029412,
     "end_time": "2021-06-24T11:55:25.158149",
     "exception": false,
     "start_time": "2021-06-24T11:55:25.128737",
     "status": "completed"
    },
    "tags": []
   },
   "outputs": [
    {
     "data": {
      "text/plain": [
       "<sqlalchemy.engine.result.ResultProxy at 0x7fbe01c58a90>"
      ]
     },
     "execution_count": 13,
     "metadata": {},
     "output_type": "execute_result"
    }
   ],
   "source": [
    "cnx.execute(\"\"\"\n",
    "    INSERT INTO ml.accuracies (ml_id, ml_date, accuracy) VALUES ('{0}', '{1}', {2}) \n",
    "    ON CONFLICT (ml_id, ml_date) \n",
    "    DO\n",
    "        UPDATE SET accuracy = {2};\n",
    "    \"\"\".format(ml_id, ml_date, np.sqrt(mean_squared_error(y_test, pred))))"
   ]
  }
 ],
 "metadata": {
  "kernelspec": {
   "display_name": "Python 3",
   "language": "python",
   "name": "python3"
  },
  "language_info": {
   "codemirror_mode": {
    "name": "ipython",
    "version": 3
   },
   "file_extension": ".py",
   "mimetype": "text/x-python",
   "name": "python",
   "nbconvert_exporter": "python",
   "pygments_lexer": "ipython3",
   "version": "3.7.10"
  },
  "papermill": {
   "duration": 10.737138,
   "end_time": "2021-06-24T11:55:25.574839",
   "environment_variables": {},
   "exception": null,
   "input_path": "/usr/local/airflow/include/notebooks/avocado_prediction.ipynb",
   "output_path": "/tmp/out-model-avocado-prediction-auto_100.ipynb",
   "parameters": {
    "filepath": "/tmp/avocado.csv",
    "max_features": "auto",
    "ml_id": "auto_100",
    "n_estimators": 100
   },
   "start_time": "2021-06-24T11:55:14.837701",
   "version": "2.1.2"
  }
 },
 "nbformat": 4,
 "nbformat_minor": 4
}