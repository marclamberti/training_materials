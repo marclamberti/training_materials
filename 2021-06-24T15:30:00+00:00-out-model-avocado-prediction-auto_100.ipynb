{
 "cells": [
  {
   "cell_type": "code",
   "execution_count": 1,
   "metadata": {
    "_cell_guid": "79c7e3d0-c299-4dcb-8224-4455121ee9b0",
    "_uuid": "d629ff2d2480ee46fbb7e2d37f6b5fab8052498a",
    "execution": {
     "iopub.execute_input": "2021-06-24T15:40:09.516941Z",
     "iopub.status.busy": "2021-06-24T15:40:09.516036Z",
     "iopub.status.idle": "2021-06-24T15:40:10.176137Z",
     "shell.execute_reply": "2021-06-24T15:40:10.176649Z"
    },
    "jupyter": {
     "source_hidden": true
    },
    "papermill": {
     "duration": 0.675569,
     "end_time": "2021-06-24T15:40:10.177132",
     "exception": false,
     "start_time": "2021-06-24T15:40:09.501563",
     "status": "completed"
    },
    "tags": []
   },
   "outputs": [],
   "source": [
    "import pandas as pd\n",
    "import numpy as np\n",
    "from sqlalchemy import create_engine\n",
    "from datetime import date\n",
    "from sklearn.metrics import mean_squared_error"
   ]
  },
  {
   "cell_type": "code",
   "execution_count": 2,
   "metadata": {
    "execution": {
     "iopub.execute_input": "2021-06-24T15:40:10.196065Z",
     "iopub.status.busy": "2021-06-24T15:40:10.195357Z",
     "iopub.status.idle": "2021-06-24T15:40:10.221804Z",
     "shell.execute_reply": "2021-06-24T15:40:10.221111Z"
    },
    "jupyter": {
     "source_hidden": true
    },
    "papermill": {
     "duration": 0.037938,
     "end_time": "2021-06-24T15:40:10.222053",
     "exception": false,
     "start_time": "2021-06-24T15:40:10.184115",
     "status": "completed"
    },
    "tags": []
   },
   "outputs": [],
   "source": [
    "# THIS IS PURELY FOR TEST PURPOSE NEVER DO THAT IN PRODUCTION\n",
    "POSTGRES_ADDRESS='postgres'\n",
    "POSTGRES_PORT='5432'\n",
    "POSTGRES_USERNAME='postgres'\n",
    "POSTGRES_PASSWORD='postgres'\n",
    "\n",
    "postgres_conn = 'postgresql://{0}:{1}@{2}:{3}/'.format(POSTGRES_USERNAME, POSTGRES_PASSWORD, POSTGRES_ADDRESS, POSTGRES_PORT)\n",
    "\n",
    "# Create the connection\n",
    "cnx = create_engine(postgres_conn)\n"
   ]
  },
  {
   "cell_type": "markdown",
   "metadata": {
    "_uuid": "1998755ef10683262b29765345cff1c1c7d10b15",
    "papermill": {
     "duration": 0.005227,
     "end_time": "2021-06-24T15:40:10.232922",
     "exception": false,
     "start_time": "2021-06-24T15:40:10.227695",
     "status": "completed"
    },
    "tags": []
   },
   "source": [
    "Read in the Avocado Prices csv file as a DataFrame called df"
   ]
  },
  {
   "cell_type": "code",
   "execution_count": 3,
   "metadata": {
    "execution": {
     "iopub.execute_input": "2021-06-24T15:40:10.247536Z",
     "iopub.status.busy": "2021-06-24T15:40:10.246924Z",
     "iopub.status.idle": "2021-06-24T15:40:10.250482Z",
     "shell.execute_reply": "2021-06-24T15:40:10.249810Z"
    },
    "jupyter": {
     "source_hidden": true
    },
    "papermill": {
     "duration": 0.012675,
     "end_time": "2021-06-24T15:40:10.250683",
     "exception": false,
     "start_time": "2021-06-24T15:40:10.238008",
     "status": "completed"
    },
    "tags": [
     "parameters"
    ]
   },
   "outputs": [],
   "source": [
    "# Parameterized\n",
    "\n",
    "filepath='avocado.csv'\n",
    "ml_id='auto_100'\n",
    "ml_date=date.today()\n",
    "n_estimators = 100\n",
    "max_features = 'auto'"
   ]
  },
  {
   "cell_type": "code",
   "execution_count": 4,
   "id": "77f8d3ef",
   "metadata": {
    "execution": {
     "iopub.execute_input": "2021-06-24T15:40:10.265940Z",
     "iopub.status.busy": "2021-06-24T15:40:10.265318Z",
     "iopub.status.idle": "2021-06-24T15:40:10.268221Z",
     "shell.execute_reply": "2021-06-24T15:40:10.267651Z"
    },
    "jupyter": {
     "source_hidden": true
    },
    "papermill": {
     "duration": 0.011957,
     "end_time": "2021-06-24T15:40:10.268414",
     "exception": false,
     "start_time": "2021-06-24T15:40:10.256457",
     "status": "completed"
    },
    "tags": [
     "injected-parameters"
    ]
   },
   "outputs": [],
   "source": [
    "# Parameters\n",
    "filepath = \"/tmp/avocado.csv\"\n",
    "n_estimators = 100\n",
    "max_features = \"auto\"\n",
    "ml_id = \"auto_100\"\n"
   ]
  },
  {
   "cell_type": "code",
   "execution_count": 5,
   "metadata": {
    "_uuid": "55d0e719eb8b91d763c1eacaf0f51ee0586486fc",
    "execution": {
     "iopub.execute_input": "2021-06-24T15:40:10.284498Z",
     "iopub.status.busy": "2021-06-24T15:40:10.283907Z",
     "iopub.status.idle": "2021-06-24T15:40:10.314667Z",
     "shell.execute_reply": "2021-06-24T15:40:10.314076Z"
    },
    "jupyter": {
     "source_hidden": true
    },
    "papermill": {
     "duration": 0.040869,
     "end_time": "2021-06-24T15:40:10.314880",
     "exception": false,
     "start_time": "2021-06-24T15:40:10.274011",
     "status": "completed"
    },
    "tags": []
   },
   "outputs": [],
   "source": [
    "df= pd.read_csv(filepath)"
   ]
  },
  {
   "cell_type": "markdown",
   "metadata": {
    "_uuid": "434e0457f550e2200424e5ec26162e1aa5904005",
    "papermill": {
     "duration": 0.005538,
     "end_time": "2021-06-24T15:40:10.326038",
     "exception": false,
     "start_time": "2021-06-24T15:40:10.320500",
     "status": "completed"
    },
    "tags": []
   },
   "source": [
    "The Feature \"Unnamed:0\" is just a representation of the indexes, so it's useless to keep it, lets remove it !"
   ]
  },
  {
   "cell_type": "code",
   "execution_count": 6,
   "metadata": {
    "_uuid": "9875398e37728dc3141fed4228be337a4735beb6",
    "execution": {
     "iopub.execute_input": "2021-06-24T15:40:10.342058Z",
     "iopub.status.busy": "2021-06-24T15:40:10.341500Z",
     "iopub.status.idle": "2021-06-24T15:40:10.345782Z",
     "shell.execute_reply": "2021-06-24T15:40:10.346186Z"
    },
    "jupyter": {
     "source_hidden": true
    },
    "papermill": {
     "duration": 0.015028,
     "end_time": "2021-06-24T15:40:10.346469",
     "exception": false,
     "start_time": "2021-06-24T15:40:10.331441",
     "status": "completed"
    },
    "tags": []
   },
   "outputs": [],
   "source": [
    "df.drop('Unnamed: 0',axis=1,inplace=True)"
   ]
  },
  {
   "cell_type": "markdown",
   "metadata": {
    "_uuid": "12e94ad381e4cb8d2c8a9bbe08ce07ab5d49c040",
    "papermill": {
     "duration": 0.005252,
     "end_time": "2021-06-24T15:40:10.357088",
     "exception": false,
     "start_time": "2021-06-24T15:40:10.351836",
     "status": "completed"
    },
    "tags": []
   },
   "source": [
    "well as a first observation we can see that we are lucky, we dont have any missing values (18249 complete data) and 13 columns.\n",
    "Now let's do some Feature Engineering on the Date Feature so we can be able to use the day and the month columns in building our machine learning model later. ( I didn't mention the year because its already there in data frame)"
   ]
  },
  {
   "cell_type": "code",
   "execution_count": 7,
   "metadata": {
    "_uuid": "f031639ce794656e877484d1c9c356df7028177f",
    "execution": {
     "iopub.execute_input": "2021-06-24T15:40:10.373379Z",
     "iopub.status.busy": "2021-06-24T15:40:10.372588Z",
     "iopub.status.idle": "2021-06-24T15:40:10.483851Z",
     "shell.execute_reply": "2021-06-24T15:40:10.483447Z"
    },
    "jupyter": {
     "source_hidden": true
    },
    "papermill": {
     "duration": 0.121988,
     "end_time": "2021-06-24T15:40:10.484036",
     "exception": false,
     "start_time": "2021-06-24T15:40:10.362048",
     "status": "completed"
    },
    "tags": []
   },
   "outputs": [],
   "source": [
    "df['Date']=pd.to_datetime(df['Date'])\n",
    "df['Month']=df['Date'].apply(lambda x:x.month)\n",
    "df['Day']=df['Date'].apply(lambda x:x.day)"
   ]
  },
  {
   "cell_type": "markdown",
   "metadata": {
    "_uuid": "ebdcac9924ce3e366fd3a75170682f7113385b7a",
    "papermill": {
     "duration": 0.006246,
     "end_time": "2021-06-24T15:40:10.495374",
     "exception": false,
     "start_time": "2021-06-24T15:40:10.489128",
     "status": "completed"
    },
    "tags": []
   },
   "source": [
    "as we can see we have 54 regions and 2 unique types, so it's going to be easy to to transform the type feature to dummies, but for the region its going to be a bit complexe so I decided to drop the entire column.\n",
    "I will drop the Date Feature as well because I already have 3 other columns for the Year, Month and Day."
   ]
  },
  {
   "cell_type": "code",
   "execution_count": 8,
   "metadata": {
    "_uuid": "a798682da34327b731ef262985fd50ba68e06460",
    "execution": {
     "iopub.execute_input": "2021-06-24T15:40:10.514772Z",
     "iopub.status.busy": "2021-06-24T15:40:10.509946Z",
     "iopub.status.idle": "2021-06-24T15:40:10.520038Z",
     "shell.execute_reply": "2021-06-24T15:40:10.519606Z"
    },
    "jupyter": {
     "source_hidden": true
    },
    "papermill": {
     "duration": 0.020377,
     "end_time": "2021-06-24T15:40:10.520288",
     "exception": false,
     "start_time": "2021-06-24T15:40:10.499911",
     "status": "completed"
    },
    "tags": []
   },
   "outputs": [],
   "source": [
    "df_final=pd.get_dummies(df.drop(['region','Date'],axis=1),drop_first=True)"
   ]
  },
  {
   "cell_type": "markdown",
   "metadata": {
    "_uuid": "8b74a6b88cb3e9b3e1d1e987e061048f203c7364",
    "papermill": {
     "duration": 0.005642,
     "end_time": "2021-06-24T15:40:10.531744",
     "exception": false,
     "start_time": "2021-06-24T15:40:10.526102",
     "status": "completed"
    },
    "tags": []
   },
   "source": [
    "Now our data are ready! lets apply our model which is going to be the Linear Regression because our Target variable 'AveragePrice'is continuous.\n",
    "Let's now begin to train out regression model! We will need to first split up our data into an X array that contains the features to train on, and a y array with the target variable"
   ]
  },
  {
   "cell_type": "code",
   "execution_count": 9,
   "metadata": {
    "_uuid": "830591f99de9715241e688bf9ce265e979401ff5",
    "execution": {
     "iopub.execute_input": "2021-06-24T15:40:10.549740Z",
     "iopub.status.busy": "2021-06-24T15:40:10.547259Z",
     "iopub.status.idle": "2021-06-24T15:40:10.558424Z",
     "shell.execute_reply": "2021-06-24T15:40:10.557742Z"
    },
    "jupyter": {
     "source_hidden": true
    },
    "papermill": {
     "duration": 0.021526,
     "end_time": "2021-06-24T15:40:10.558627",
     "exception": false,
     "start_time": "2021-06-24T15:40:10.537101",
     "status": "completed"
    },
    "tags": []
   },
   "outputs": [],
   "source": [
    "X=df_final.iloc[:,1:14]\n",
    "y=df_final['AveragePrice']\n",
    "from sklearn.model_selection import train_test_split\n",
    "X_train,X_test,y_train,y_test=train_test_split(X,y,test_size=0.2,random_state=42)"
   ]
  },
  {
   "cell_type": "markdown",
   "metadata": {
    "_uuid": "ea730c77a31cde9de98263079a189accb8b5772b",
    "papermill": {
     "duration": 0.005401,
     "end_time": "2021-06-24T15:40:10.569697",
     "exception": false,
     "start_time": "2021-06-24T15:40:10.564296",
     "status": "completed"
    },
    "tags": []
   },
   "source": [
    "Creating and Training the Model"
   ]
  },
  {
   "cell_type": "code",
   "execution_count": 10,
   "metadata": {
    "_uuid": "eb37015e78974e5fd2ae7e13d065c8ab0a9c6948",
    "execution": {
     "iopub.execute_input": "2021-06-24T15:40:10.585418Z",
     "iopub.status.busy": "2021-06-24T15:40:10.584743Z",
     "iopub.status.idle": "2021-06-24T15:40:18.548714Z",
     "shell.execute_reply": "2021-06-24T15:40:18.549121Z"
    },
    "jupyter": {
     "source_hidden": true
    },
    "papermill": {
     "duration": 7.974163,
     "end_time": "2021-06-24T15:40:18.549412",
     "exception": false,
     "start_time": "2021-06-24T15:40:10.575249",
     "status": "completed"
    },
    "tags": []
   },
   "outputs": [],
   "source": [
    "from sklearn.ensemble import RandomForestRegressor\n",
    "rdr = RandomForestRegressor(\n",
    "    n_estimators=n_estimators,\n",
    "    max_features=max_features\n",
    ")\n",
    "rdr.fit(X_train,y_train)\n",
    "pred=rdr.predict(X_test)"
   ]
  },
  {
   "cell_type": "code",
   "execution_count": 11,
   "metadata": {
    "_uuid": "7ed5b8d4e8abb44a4b548c13ac9fb2d65227d1c5",
    "execution": {
     "iopub.execute_input": "2021-06-24T15:40:18.566496Z",
     "iopub.status.busy": "2021-06-24T15:40:18.565374Z",
     "iopub.status.idle": "2021-06-24T15:40:18.568860Z",
     "shell.execute_reply": "2021-06-24T15:40:18.569538Z"
    },
    "jupyter": {
     "source_hidden": true
    },
    "papermill": {
     "duration": 0.014455,
     "end_time": "2021-06-24T15:40:18.569732",
     "exception": false,
     "start_time": "2021-06-24T15:40:18.555277",
     "status": "completed"
    },
    "tags": []
   },
   "outputs": [],
   "source": [
    "#%%capture cap --no-stderr\n",
    "#print(np.sqrt(mean_squared_error(y_test, pred)))"
   ]
  },
  {
   "cell_type": "code",
   "execution_count": 12,
   "metadata": {
    "execution": {
     "iopub.execute_input": "2021-06-24T15:40:18.586112Z",
     "iopub.status.busy": "2021-06-24T15:40:18.585486Z",
     "iopub.status.idle": "2021-06-24T15:40:18.588157Z",
     "shell.execute_reply": "2021-06-24T15:40:18.588548Z"
    },
    "jupyter": {
     "source_hidden": true
    },
    "papermill": {
     "duration": 0.012805,
     "end_time": "2021-06-24T15:40:18.588771",
     "exception": false,
     "start_time": "2021-06-24T15:40:18.575966",
     "status": "completed"
    },
    "tags": []
   },
   "outputs": [],
   "source": [
    "#with open(output_rmse, 'w') as f:\n",
    "#    f.write(cap.stdout)"
   ]
  },
  {
   "cell_type": "code",
   "execution_count": 13,
   "metadata": {
    "execution": {
     "iopub.execute_input": "2021-06-24T15:40:18.605699Z",
     "iopub.status.busy": "2021-06-24T15:40:18.604955Z",
     "iopub.status.idle": "2021-06-24T15:40:18.624924Z",
     "shell.execute_reply": "2021-06-24T15:40:18.624480Z"
    },
    "jupyter": {
     "source_hidden": true
    },
    "papermill": {
     "duration": 0.030591,
     "end_time": "2021-06-24T15:40:18.625133",
     "exception": false,
     "start_time": "2021-06-24T15:40:18.594542",
     "status": "completed"
    },
    "tags": []
   },
   "outputs": [
    {
     "data": {
      "text/plain": [
       "<sqlalchemy.engine.result.ResultProxy at 0x7fa0a1078a10>"
      ]
     },
     "execution_count": 13,
     "metadata": {},
     "output_type": "execute_result"
    }
   ],
   "source": [
    "cnx.execute(\"\"\"\n",
    "    INSERT INTO ml.accuracies (ml_id, ml_date, accuracy) VALUES ('{0}', '{1}', {2}) \n",
    "    ON CONFLICT (ml_id, ml_date) \n",
    "    DO\n",
    "        UPDATE SET accuracy = {2};\n",
    "    \"\"\".format(ml_id, ml_date, np.sqrt(mean_squared_error(y_test, pred))))"
   ]
  }
 ],
 "metadata": {
  "kernelspec": {
   "display_name": "Python 3",
   "language": "python",
   "name": "python3"
  },
  "language_info": {
   "codemirror_mode": {
    "name": "ipython",
    "version": 3
   },
   "file_extension": ".py",
   "mimetype": "text/x-python",
   "name": "python",
   "nbconvert_exporter": "python",
   "pygments_lexer": "ipython3",
   "version": "3.7.10"
  },
  "papermill": {
   "duration": 10.643119,
   "end_time": "2021-06-24T15:40:19.044390",
   "environment_variables": {},
   "exception": null,
   "input_path": "/usr/local/airflow/include/notebooks/avocado_prediction.ipynb",
   "output_path": "/tmp/out-model-avocado-prediction-auto_100.ipynb",
   "parameters": {
    "filepath": "/tmp/avocado.csv",
    "max_features": "auto",
    "ml_id": "auto_100",
    "n_estimators": 100
   },
   "start_time": "2021-06-24T15:40:08.401271",
   "version": "2.1.2"
  }
 },
 "nbformat": 4,
 "nbformat_minor": 4
}