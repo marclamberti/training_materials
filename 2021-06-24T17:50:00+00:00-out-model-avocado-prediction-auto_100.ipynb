{
 "cells": [
  {
   "cell_type": "code",
   "execution_count": 1,
   "metadata": {
    "_cell_guid": "79c7e3d0-c299-4dcb-8224-4455121ee9b0",
    "_uuid": "d629ff2d2480ee46fbb7e2d37f6b5fab8052498a",
    "execution": {
     "iopub.execute_input": "2021-06-24T18:00:09.789344Z",
     "iopub.status.busy": "2021-06-24T18:00:09.788543Z",
     "iopub.status.idle": "2021-06-24T18:00:10.432765Z",
     "shell.execute_reply": "2021-06-24T18:00:10.433319Z"
    },
    "jupyter": {
     "source_hidden": true
    },
    "papermill": {
     "duration": 0.65988,
     "end_time": "2021-06-24T18:00:10.433725",
     "exception": false,
     "start_time": "2021-06-24T18:00:09.773845",
     "status": "completed"
    },
    "tags": []
   },
   "outputs": [],
   "source": [
    "import pandas as pd\n",
    "import numpy as np\n",
    "from sqlalchemy import create_engine\n",
    "from datetime import date\n",
    "from sklearn.metrics import mean_squared_error"
   ]
  },
  {
   "cell_type": "code",
   "execution_count": 2,
   "metadata": {
    "execution": {
     "iopub.execute_input": "2021-06-24T18:00:10.451844Z",
     "iopub.status.busy": "2021-06-24T18:00:10.451190Z",
     "iopub.status.idle": "2021-06-24T18:00:10.477627Z",
     "shell.execute_reply": "2021-06-24T18:00:10.476987Z"
    },
    "jupyter": {
     "source_hidden": true
    },
    "papermill": {
     "duration": 0.0372,
     "end_time": "2021-06-24T18:00:10.477835",
     "exception": false,
     "start_time": "2021-06-24T18:00:10.440635",
     "status": "completed"
    },
    "tags": []
   },
   "outputs": [],
   "source": [
    "# THIS IS PURELY FOR TEST PURPOSE NEVER DO THAT IN PRODUCTION\n",
    "POSTGRES_ADDRESS='postgres'\n",
    "POSTGRES_PORT='5432'\n",
    "POSTGRES_USERNAME='postgres'\n",
    "POSTGRES_PASSWORD='postgres'\n",
    "\n",
    "postgres_conn = 'postgresql://{0}:{1}@{2}:{3}/'.format(POSTGRES_USERNAME, POSTGRES_PASSWORD, POSTGRES_ADDRESS, POSTGRES_PORT)\n",
    "\n",
    "# Create the connection\n",
    "cnx = create_engine(postgres_conn)\n"
   ]
  },
  {
   "cell_type": "markdown",
   "metadata": {
    "_uuid": "1998755ef10683262b29765345cff1c1c7d10b15",
    "papermill": {
     "duration": 0.005177,
     "end_time": "2021-06-24T18:00:10.488168",
     "exception": false,
     "start_time": "2021-06-24T18:00:10.482991",
     "status": "completed"
    },
    "tags": []
   },
   "source": [
    "Read in the Avocado Prices csv file as a DataFrame called df"
   ]
  },
  {
   "cell_type": "code",
   "execution_count": 3,
   "metadata": {
    "execution": {
     "iopub.execute_input": "2021-06-24T18:00:10.502097Z",
     "iopub.status.busy": "2021-06-24T18:00:10.501499Z",
     "iopub.status.idle": "2021-06-24T18:00:10.504210Z",
     "shell.execute_reply": "2021-06-24T18:00:10.503817Z"
    },
    "jupyter": {
     "source_hidden": true
    },
    "papermill": {
     "duration": 0.01123,
     "end_time": "2021-06-24T18:00:10.504370",
     "exception": false,
     "start_time": "2021-06-24T18:00:10.493140",
     "status": "completed"
    },
    "tags": [
     "parameters"
    ]
   },
   "outputs": [],
   "source": [
    "# Parameterized\n",
    "\n",
    "filepath='avocado.csv'\n",
    "ml_id='auto_100'\n",
    "ml_date=date.today()\n",
    "n_estimators = 100\n",
    "max_features = 'auto'"
   ]
  },
  {
   "cell_type": "code",
   "execution_count": 4,
   "id": "4c8271b7",
   "metadata": {
    "execution": {
     "iopub.execute_input": "2021-06-24T18:00:10.516328Z",
     "iopub.status.busy": "2021-06-24T18:00:10.515744Z",
     "iopub.status.idle": "2021-06-24T18:00:10.519185Z",
     "shell.execute_reply": "2021-06-24T18:00:10.518683Z"
    },
    "jupyter": {
     "source_hidden": true
    },
    "papermill": {
     "duration": 0.010681,
     "end_time": "2021-06-24T18:00:10.519338",
     "exception": false,
     "start_time": "2021-06-24T18:00:10.508657",
     "status": "completed"
    },
    "tags": [
     "injected-parameters"
    ]
   },
   "outputs": [],
   "source": [
    "# Parameters\n",
    "filepath = \"/tmp/avocado.csv\"\n",
    "n_estimators = 100\n",
    "max_features = \"auto\"\n",
    "ml_id = \"auto_100\"\n"
   ]
  },
  {
   "cell_type": "code",
   "execution_count": 5,
   "metadata": {
    "_uuid": "55d0e719eb8b91d763c1eacaf0f51ee0586486fc",
    "execution": {
     "iopub.execute_input": "2021-06-24T18:00:10.531899Z",
     "iopub.status.busy": "2021-06-24T18:00:10.531427Z",
     "iopub.status.idle": "2021-06-24T18:00:10.557740Z",
     "shell.execute_reply": "2021-06-24T18:00:10.557379Z"
    },
    "jupyter": {
     "source_hidden": true
    },
    "papermill": {
     "duration": 0.034367,
     "end_time": "2021-06-24T18:00:10.557908",
     "exception": false,
     "start_time": "2021-06-24T18:00:10.523541",
     "status": "completed"
    },
    "tags": []
   },
   "outputs": [],
   "source": [
    "df= pd.read_csv(filepath)"
   ]
  },
  {
   "cell_type": "markdown",
   "metadata": {
    "_uuid": "434e0457f550e2200424e5ec26162e1aa5904005",
    "papermill": {
     "duration": 0.004609,
     "end_time": "2021-06-24T18:00:10.567535",
     "exception": false,
     "start_time": "2021-06-24T18:00:10.562926",
     "status": "completed"
    },
    "tags": []
   },
   "source": [
    "The Feature \"Unnamed:0\" is just a representation of the indexes, so it's useless to keep it, lets remove it !"
   ]
  },
  {
   "cell_type": "code",
   "execution_count": 6,
   "metadata": {
    "_uuid": "9875398e37728dc3141fed4228be337a4735beb6",
    "execution": {
     "iopub.execute_input": "2021-06-24T18:00:10.581073Z",
     "iopub.status.busy": "2021-06-24T18:00:10.579828Z",
     "iopub.status.idle": "2021-06-24T18:00:10.583976Z",
     "shell.execute_reply": "2021-06-24T18:00:10.583555Z"
    },
    "jupyter": {
     "source_hidden": true
    },
    "papermill": {
     "duration": 0.012391,
     "end_time": "2021-06-24T18:00:10.584151",
     "exception": false,
     "start_time": "2021-06-24T18:00:10.571760",
     "status": "completed"
    },
    "tags": []
   },
   "outputs": [],
   "source": [
    "df.drop('Unnamed: 0',axis=1,inplace=True)"
   ]
  },
  {
   "cell_type": "markdown",
   "metadata": {
    "_uuid": "12e94ad381e4cb8d2c8a9bbe08ce07ab5d49c040",
    "papermill": {
     "duration": 0.004699,
     "end_time": "2021-06-24T18:00:10.593427",
     "exception": false,
     "start_time": "2021-06-24T18:00:10.588728",
     "status": "completed"
    },
    "tags": []
   },
   "source": [
    "well as a first observation we can see that we are lucky, we dont have any missing values (18249 complete data) and 13 columns.\n",
    "Now let's do some Feature Engineering on the Date Feature so we can be able to use the day and the month columns in building our machine learning model later. ( I didn't mention the year because its already there in data frame)"
   ]
  },
  {
   "cell_type": "code",
   "execution_count": 7,
   "metadata": {
    "_uuid": "f031639ce794656e877484d1c9c356df7028177f",
    "execution": {
     "iopub.execute_input": "2021-06-24T18:00:10.607393Z",
     "iopub.status.busy": "2021-06-24T18:00:10.606796Z",
     "iopub.status.idle": "2021-06-24T18:00:10.722877Z",
     "shell.execute_reply": "2021-06-24T18:00:10.722483Z"
    },
    "jupyter": {
     "source_hidden": true
    },
    "papermill": {
     "duration": 0.124955,
     "end_time": "2021-06-24T18:00:10.723102",
     "exception": false,
     "start_time": "2021-06-24T18:00:10.598147",
     "status": "completed"
    },
    "tags": []
   },
   "outputs": [],
   "source": [
    "df['Date']=pd.to_datetime(df['Date'])\n",
    "df['Month']=df['Date'].apply(lambda x:x.month)\n",
    "df['Day']=df['Date'].apply(lambda x:x.day)"
   ]
  },
  {
   "cell_type": "markdown",
   "metadata": {
    "_uuid": "ebdcac9924ce3e366fd3a75170682f7113385b7a",
    "papermill": {
     "duration": 0.005777,
     "end_time": "2021-06-24T18:00:10.734741",
     "exception": false,
     "start_time": "2021-06-24T18:00:10.728964",
     "status": "completed"
    },
    "tags": []
   },
   "source": [
    "as we can see we have 54 regions and 2 unique types, so it's going to be easy to to transform the type feature to dummies, but for the region its going to be a bit complexe so I decided to drop the entire column.\n",
    "I will drop the Date Feature as well because I already have 3 other columns for the Year, Month and Day."
   ]
  },
  {
   "cell_type": "code",
   "execution_count": 8,
   "metadata": {
    "_uuid": "a798682da34327b731ef262985fd50ba68e06460",
    "execution": {
     "iopub.execute_input": "2021-06-24T18:00:10.750455Z",
     "iopub.status.busy": "2021-06-24T18:00:10.749858Z",
     "iopub.status.idle": "2021-06-24T18:00:10.758917Z",
     "shell.execute_reply": "2021-06-24T18:00:10.758524Z"
    },
    "jupyter": {
     "source_hidden": true
    },
    "papermill": {
     "duration": 0.019346,
     "end_time": "2021-06-24T18:00:10.759147",
     "exception": false,
     "start_time": "2021-06-24T18:00:10.739801",
     "status": "completed"
    },
    "tags": []
   },
   "outputs": [],
   "source": [
    "df_final=pd.get_dummies(df.drop(['region','Date'],axis=1),drop_first=True)"
   ]
  },
  {
   "cell_type": "markdown",
   "metadata": {
    "_uuid": "8b74a6b88cb3e9b3e1d1e987e061048f203c7364",
    "papermill": {
     "duration": 0.004678,
     "end_time": "2021-06-24T18:00:10.768823",
     "exception": false,
     "start_time": "2021-06-24T18:00:10.764145",
     "status": "completed"
    },
    "tags": []
   },
   "source": [
    "Now our data are ready! lets apply our model which is going to be the Linear Regression because our Target variable 'AveragePrice'is continuous.\n",
    "Let's now begin to train out regression model! We will need to first split up our data into an X array that contains the features to train on, and a y array with the target variable"
   ]
  },
  {
   "cell_type": "code",
   "execution_count": 9,
   "metadata": {
    "_uuid": "830591f99de9715241e688bf9ce265e979401ff5",
    "execution": {
     "iopub.execute_input": "2021-06-24T18:00:10.782397Z",
     "iopub.status.busy": "2021-06-24T18:00:10.781860Z",
     "iopub.status.idle": "2021-06-24T18:00:10.791215Z",
     "shell.execute_reply": "2021-06-24T18:00:10.790773Z"
    },
    "jupyter": {
     "source_hidden": true
    },
    "papermill": {
     "duration": 0.01809,
     "end_time": "2021-06-24T18:00:10.791396",
     "exception": false,
     "start_time": "2021-06-24T18:00:10.773306",
     "status": "completed"
    },
    "tags": []
   },
   "outputs": [],
   "source": [
    "X=df_final.iloc[:,1:14]\n",
    "y=df_final['AveragePrice']\n",
    "from sklearn.model_selection import train_test_split\n",
    "X_train,X_test,y_train,y_test=train_test_split(X,y,test_size=0.2,random_state=42)"
   ]
  },
  {
   "cell_type": "markdown",
   "metadata": {
    "_uuid": "ea730c77a31cde9de98263079a189accb8b5772b",
    "papermill": {
     "duration": 0.005176,
     "end_time": "2021-06-24T18:00:10.801519",
     "exception": false,
     "start_time": "2021-06-24T18:00:10.796343",
     "status": "completed"
    },
    "tags": []
   },
   "source": [
    "Creating and Training the Model"
   ]
  },
  {
   "cell_type": "code",
   "execution_count": 10,
   "metadata": {
    "_uuid": "eb37015e78974e5fd2ae7e13d065c8ab0a9c6948",
    "execution": {
     "iopub.execute_input": "2021-06-24T18:00:10.815292Z",
     "iopub.status.busy": "2021-06-24T18:00:10.814757Z",
     "iopub.status.idle": "2021-06-24T18:00:18.449391Z",
     "shell.execute_reply": "2021-06-24T18:00:18.448565Z"
    },
    "jupyter": {
     "source_hidden": true
    },
    "papermill": {
     "duration": 7.643352,
     "end_time": "2021-06-24T18:00:18.449600",
     "exception": false,
     "start_time": "2021-06-24T18:00:10.806248",
     "status": "completed"
    },
    "tags": []
   },
   "outputs": [],
   "source": [
    "from sklearn.ensemble import RandomForestRegressor\n",
    "rdr = RandomForestRegressor(\n",
    "    n_estimators=n_estimators,\n",
    "    max_features=max_features\n",
    ")\n",
    "rdr.fit(X_train,y_train)\n",
    "pred=rdr.predict(X_test)"
   ]
  },
  {
   "cell_type": "code",
   "execution_count": 11,
   "metadata": {
    "_uuid": "7ed5b8d4e8abb44a4b548c13ac9fb2d65227d1c5",
    "execution": {
     "iopub.execute_input": "2021-06-24T18:00:18.464639Z",
     "iopub.status.busy": "2021-06-24T18:00:18.463974Z",
     "iopub.status.idle": "2021-06-24T18:00:18.467221Z",
     "shell.execute_reply": "2021-06-24T18:00:18.466734Z"
    },
    "jupyter": {
     "source_hidden": true
    },
    "papermill": {
     "duration": 0.011964,
     "end_time": "2021-06-24T18:00:18.467416",
     "exception": false,
     "start_time": "2021-06-24T18:00:18.455452",
     "status": "completed"
    },
    "tags": []
   },
   "outputs": [],
   "source": [
    "#%%capture cap --no-stderr\n",
    "#print(np.sqrt(mean_squared_error(y_test, pred)))"
   ]
  },
  {
   "cell_type": "code",
   "execution_count": 12,
   "metadata": {
    "execution": {
     "iopub.execute_input": "2021-06-24T18:00:18.481622Z",
     "iopub.status.busy": "2021-06-24T18:00:18.481056Z",
     "iopub.status.idle": "2021-06-24T18:00:18.484138Z",
     "shell.execute_reply": "2021-06-24T18:00:18.483718Z"
    },
    "jupyter": {
     "source_hidden": true
    },
    "papermill": {
     "duration": 0.011444,
     "end_time": "2021-06-24T18:00:18.484310",
     "exception": false,
     "start_time": "2021-06-24T18:00:18.472866",
     "status": "completed"
    },
    "tags": []
   },
   "outputs": [],
   "source": [
    "#with open(output_rmse, 'w') as f:\n",
    "#    f.write(cap.stdout)"
   ]
  },
  {
   "cell_type": "code",
   "execution_count": 13,
   "metadata": {
    "execution": {
     "iopub.execute_input": "2021-06-24T18:00:18.498408Z",
     "iopub.status.busy": "2021-06-24T18:00:18.497791Z",
     "iopub.status.idle": "2021-06-24T18:00:18.516428Z",
     "shell.execute_reply": "2021-06-24T18:00:18.516009Z"
    },
    "jupyter": {
     "source_hidden": true
    },
    "papermill": {
     "duration": 0.027159,
     "end_time": "2021-06-24T18:00:18.516605",
     "exception": false,
     "start_time": "2021-06-24T18:00:18.489446",
     "status": "completed"
    },
    "tags": []
   },
   "outputs": [
    {
     "data": {
      "text/plain": [
       "<sqlalchemy.engine.result.ResultProxy at 0x7f86c8ab6950>"
      ]
     },
     "execution_count": 13,
     "metadata": {},
     "output_type": "execute_result"
    }
   ],
   "source": [
    "cnx.execute(\"\"\"\n",
    "    INSERT INTO ml.accuracies (ml_id, ml_date, accuracy) VALUES ('{0}', '{1}', {2}) \n",
    "    ON CONFLICT (ml_id, ml_date) \n",
    "    DO\n",
    "        UPDATE SET accuracy = {2};\n",
    "    \"\"\".format(ml_id, ml_date, np.sqrt(mean_squared_error(y_test, pred))))"
   ]
  }
 ],
 "metadata": {
  "kernelspec": {
   "display_name": "Python 3",
   "language": "python",
   "name": "python3"
  },
  "language_info": {
   "codemirror_mode": {
    "name": "ipython",
    "version": 3
   },
   "file_extension": ".py",
   "mimetype": "text/x-python",
   "name": "python",
   "nbconvert_exporter": "python",
   "pygments_lexer": "ipython3",
   "version": "3.7.10"
  },
  "papermill": {
   "duration": 10.113279,
   "end_time": "2021-06-24T18:00:18.932323",
   "environment_variables": {},
   "exception": null,
   "input_path": "/usr/local/airflow/include/notebooks/avocado_prediction.ipynb",
   "output_path": "/tmp/out-model-avocado-prediction-auto_100.ipynb",
   "parameters": {
    "filepath": "/tmp/avocado.csv",
    "max_features": "auto",
    "ml_id": "auto_100",
    "n_estimators": 100
   },
   "start_time": "2021-06-24T18:00:08.819044",
   "version": "2.1.2"
  }
 },
 "nbformat": 4,
 "nbformat_minor": 4
}