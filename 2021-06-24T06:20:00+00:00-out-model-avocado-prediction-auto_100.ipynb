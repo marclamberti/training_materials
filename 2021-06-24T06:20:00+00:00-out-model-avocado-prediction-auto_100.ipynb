{
 "cells": [
  {
   "cell_type": "code",
   "execution_count": 1,
   "metadata": {
    "_cell_guid": "79c7e3d0-c299-4dcb-8224-4455121ee9b0",
    "_uuid": "d629ff2d2480ee46fbb7e2d37f6b5fab8052498a",
    "execution": {
     "iopub.execute_input": "2021-06-24T06:35:29.764170Z",
     "iopub.status.busy": "2021-06-24T06:35:29.761045Z",
     "iopub.status.idle": "2021-06-24T06:35:33.020874Z",
     "shell.execute_reply": "2021-06-24T06:35:33.023085Z"
    },
    "jupyter": {
     "source_hidden": true
    },
    "papermill": {
     "duration": 3.317017,
     "end_time": "2021-06-24T06:35:33.024839",
     "exception": false,
     "start_time": "2021-06-24T06:35:29.707822",
     "status": "completed"
    },
    "tags": []
   },
   "outputs": [],
   "source": [
    "import pandas as pd\n",
    "import numpy as np\n",
    "from sqlalchemy import create_engine\n",
    "from datetime import date\n",
    "from sklearn.metrics import mean_squared_error"
   ]
  },
  {
   "cell_type": "code",
   "execution_count": 2,
   "metadata": {
    "execution": {
     "iopub.execute_input": "2021-06-24T06:35:33.106660Z",
     "iopub.status.busy": "2021-06-24T06:35:33.103649Z",
     "iopub.status.idle": "2021-06-24T06:35:33.239334Z",
     "shell.execute_reply": "2021-06-24T06:35:33.236954Z"
    },
    "jupyter": {
     "source_hidden": true
    },
    "papermill": {
     "duration": 0.184026,
     "end_time": "2021-06-24T06:35:33.240566",
     "exception": false,
     "start_time": "2021-06-24T06:35:33.056540",
     "status": "completed"
    },
    "tags": []
   },
   "outputs": [],
   "source": [
    "# THIS IS PURELY FOR TEST PURPOSE NEVER DO THAT IN PRODUCTION\n",
    "POSTGRES_ADDRESS='postgres'\n",
    "POSTGRES_PORT='5432'\n",
    "POSTGRES_USERNAME='postgres'\n",
    "POSTGRES_PASSWORD='postgres'\n",
    "\n",
    "postgres_conn = 'postgresql://{0}:{1}@{2}:{3}/'.format(POSTGRES_USERNAME, POSTGRES_PASSWORD, POSTGRES_ADDRESS, POSTGRES_PORT)\n",
    "\n",
    "# Create the connection\n",
    "cnx = create_engine(postgres_conn)\n"
   ]
  },
  {
   "cell_type": "markdown",
   "metadata": {
    "_uuid": "1998755ef10683262b29765345cff1c1c7d10b15",
    "papermill": {
     "duration": 0.028932,
     "end_time": "2021-06-24T06:35:33.298640",
     "exception": false,
     "start_time": "2021-06-24T06:35:33.269708",
     "status": "completed"
    },
    "tags": []
   },
   "source": [
    "Read in the Avocado Prices csv file as a DataFrame called df"
   ]
  },
  {
   "cell_type": "code",
   "execution_count": 3,
   "metadata": {
    "execution": {
     "iopub.execute_input": "2021-06-24T06:35:33.378614Z",
     "iopub.status.busy": "2021-06-24T06:35:33.375450Z",
     "iopub.status.idle": "2021-06-24T06:35:33.386884Z",
     "shell.execute_reply": "2021-06-24T06:35:33.389074Z"
    },
    "jupyter": {
     "source_hidden": true
    },
    "papermill": {
     "duration": 0.062265,
     "end_time": "2021-06-24T06:35:33.390461",
     "exception": false,
     "start_time": "2021-06-24T06:35:33.328196",
     "status": "completed"
    },
    "tags": [
     "parameters"
    ]
   },
   "outputs": [],
   "source": [
    "# Parameterized\n",
    "\n",
    "filepath='avocado.csv'\n",
    "ml_id='auto_100'\n",
    "ml_date=date.today()\n",
    "n_estimators = 100\n",
    "max_features = 'auto'"
   ]
  },
  {
   "cell_type": "code",
   "execution_count": 4,
   "id": "f3358318",
   "metadata": {
    "execution": {
     "iopub.execute_input": "2021-06-24T06:35:33.471748Z",
     "iopub.status.busy": "2021-06-24T06:35:33.467930Z",
     "iopub.status.idle": "2021-06-24T06:35:33.483057Z",
     "shell.execute_reply": "2021-06-24T06:35:33.480148Z"
    },
    "jupyter": {
     "source_hidden": true
    },
    "papermill": {
     "duration": 0.063218,
     "end_time": "2021-06-24T06:35:33.484061",
     "exception": false,
     "start_time": "2021-06-24T06:35:33.420843",
     "status": "completed"
    },
    "tags": [
     "injected-parameters"
    ]
   },
   "outputs": [],
   "source": [
    "# Parameters\n",
    "filepath = \"/tmp/avocado.csv\"\n",
    "n_estimators = 100\n",
    "max_features = \"auto\"\n",
    "ml_id = \"auto_100\"\n"
   ]
  },
  {
   "cell_type": "code",
   "execution_count": 5,
   "metadata": {
    "_uuid": "55d0e719eb8b91d763c1eacaf0f51ee0586486fc",
    "execution": {
     "iopub.execute_input": "2021-06-24T06:35:33.567520Z",
     "iopub.status.busy": "2021-06-24T06:35:33.564196Z",
     "iopub.status.idle": "2021-06-24T06:35:33.719762Z",
     "shell.execute_reply": "2021-06-24T06:35:33.716358Z"
    },
    "jupyter": {
     "source_hidden": true
    },
    "papermill": {
     "duration": 0.205997,
     "end_time": "2021-06-24T06:35:33.720799",
     "exception": false,
     "start_time": "2021-06-24T06:35:33.514802",
     "status": "completed"
    },
    "tags": []
   },
   "outputs": [],
   "source": [
    "df= pd.read_csv(filepath)"
   ]
  },
  {
   "cell_type": "markdown",
   "metadata": {
    "_uuid": "434e0457f550e2200424e5ec26162e1aa5904005",
    "papermill": {
     "duration": 0.030818,
     "end_time": "2021-06-24T06:35:33.782769",
     "exception": false,
     "start_time": "2021-06-24T06:35:33.751951",
     "status": "completed"
    },
    "tags": []
   },
   "source": [
    "The Feature \"Unnamed:0\" is just a representation of the indexes, so it's useless to keep it, lets remove it !"
   ]
  },
  {
   "cell_type": "code",
   "execution_count": 6,
   "metadata": {
    "_uuid": "9875398e37728dc3141fed4228be337a4735beb6",
    "execution": {
     "iopub.execute_input": "2021-06-24T06:35:33.872197Z",
     "iopub.status.busy": "2021-06-24T06:35:33.862722Z",
     "iopub.status.idle": "2021-06-24T06:35:33.885945Z",
     "shell.execute_reply": "2021-06-24T06:35:33.882205Z"
    },
    "jupyter": {
     "source_hidden": true
    },
    "papermill": {
     "duration": 0.07342,
     "end_time": "2021-06-24T06:35:33.887061",
     "exception": false,
     "start_time": "2021-06-24T06:35:33.813641",
     "status": "completed"
    },
    "tags": []
   },
   "outputs": [],
   "source": [
    "df.drop('Unnamed: 0',axis=1,inplace=True)"
   ]
  },
  {
   "cell_type": "markdown",
   "metadata": {
    "_uuid": "12e94ad381e4cb8d2c8a9bbe08ce07ab5d49c040",
    "papermill": {
     "duration": 0.032507,
     "end_time": "2021-06-24T06:35:33.951643",
     "exception": false,
     "start_time": "2021-06-24T06:35:33.919136",
     "status": "completed"
    },
    "tags": []
   },
   "source": [
    "well as a first observation we can see that we are lucky, we dont have any missing values (18249 complete data) and 13 columns.\n",
    "Now let's do some Feature Engineering on the Date Feature so we can be able to use the day and the month columns in building our machine learning model later. ( I didn't mention the year because its already there in data frame)"
   ]
  },
  {
   "cell_type": "code",
   "execution_count": 7,
   "metadata": {
    "_uuid": "f031639ce794656e877484d1c9c356df7028177f",
    "execution": {
     "iopub.execute_input": "2021-06-24T06:35:34.037212Z",
     "iopub.status.busy": "2021-06-24T06:35:34.034073Z",
     "iopub.status.idle": "2021-06-24T06:35:34.843114Z",
     "shell.execute_reply": "2021-06-24T06:35:34.845932Z"
    },
    "jupyter": {
     "source_hidden": true
    },
    "papermill": {
     "duration": 0.86413,
     "end_time": "2021-06-24T06:35:34.847011",
     "exception": false,
     "start_time": "2021-06-24T06:35:33.982881",
     "status": "completed"
    },
    "tags": []
   },
   "outputs": [],
   "source": [
    "df['Date']=pd.to_datetime(df['Date'])\n",
    "df['Month']=df['Date'].apply(lambda x:x.month)\n",
    "df['Day']=df['Date'].apply(lambda x:x.day)"
   ]
  },
  {
   "cell_type": "markdown",
   "metadata": {
    "_uuid": "ebdcac9924ce3e366fd3a75170682f7113385b7a",
    "papermill": {
     "duration": 0.042403,
     "end_time": "2021-06-24T06:35:34.931063",
     "exception": false,
     "start_time": "2021-06-24T06:35:34.888660",
     "status": "completed"
    },
    "tags": []
   },
   "source": [
    "as we can see we have 54 regions and 2 unique types, so it's going to be easy to to transform the type feature to dummies, but for the region its going to be a bit complexe so I decided to drop the entire column.\n",
    "I will drop the Date Feature as well because I already have 3 other columns for the Year, Month and Day."
   ]
  },
  {
   "cell_type": "code",
   "execution_count": 8,
   "metadata": {
    "_uuid": "a798682da34327b731ef262985fd50ba68e06460",
    "execution": {
     "iopub.execute_input": "2021-06-24T06:35:35.025886Z",
     "iopub.status.busy": "2021-06-24T06:35:35.022036Z",
     "iopub.status.idle": "2021-06-24T06:35:35.080851Z",
     "shell.execute_reply": "2021-06-24T06:35:35.077398Z"
    },
    "jupyter": {
     "source_hidden": true
    },
    "papermill": {
     "duration": 0.114718,
     "end_time": "2021-06-24T06:35:35.081986",
     "exception": false,
     "start_time": "2021-06-24T06:35:34.967268",
     "status": "completed"
    },
    "tags": []
   },
   "outputs": [],
   "source": [
    "df_final=pd.get_dummies(df.drop(['region','Date'],axis=1),drop_first=True)"
   ]
  },
  {
   "cell_type": "markdown",
   "metadata": {
    "_uuid": "8b74a6b88cb3e9b3e1d1e987e061048f203c7364",
    "papermill": {
     "duration": 0.045291,
     "end_time": "2021-06-24T06:35:35.163920",
     "exception": false,
     "start_time": "2021-06-24T06:35:35.118629",
     "status": "completed"
    },
    "tags": []
   },
   "source": [
    "Now our data are ready! lets apply our model which is going to be the Linear Regression because our Target variable 'AveragePrice'is continuous.\n",
    "Let's now begin to train out regression model! We will need to first split up our data into an X array that contains the features to train on, and a y array with the target variable"
   ]
  },
  {
   "cell_type": "code",
   "execution_count": 9,
   "metadata": {
    "_uuid": "830591f99de9715241e688bf9ce265e979401ff5",
    "execution": {
     "iopub.execute_input": "2021-06-24T06:35:35.255478Z",
     "iopub.status.busy": "2021-06-24T06:35:35.251656Z",
     "iopub.status.idle": "2021-06-24T06:35:35.330596Z",
     "shell.execute_reply": "2021-06-24T06:35:35.326942Z"
    },
    "jupyter": {
     "source_hidden": true
    },
    "papermill": {
     "duration": 0.134011,
     "end_time": "2021-06-24T06:35:35.331770",
     "exception": false,
     "start_time": "2021-06-24T06:35:35.197759",
     "status": "completed"
    },
    "tags": []
   },
   "outputs": [],
   "source": [
    "X=df_final.iloc[:,1:14]\n",
    "y=df_final['AveragePrice']\n",
    "from sklearn.model_selection import train_test_split\n",
    "X_train,X_test,y_train,y_test=train_test_split(X,y,test_size=0.2,random_state=42)"
   ]
  },
  {
   "cell_type": "markdown",
   "metadata": {
    "_uuid": "ea730c77a31cde9de98263079a189accb8b5772b",
    "papermill": {
     "duration": 0.053908,
     "end_time": "2021-06-24T06:35:35.438609",
     "exception": false,
     "start_time": "2021-06-24T06:35:35.384701",
     "status": "completed"
    },
    "tags": []
   },
   "source": [
    "Creating and Training the Model"
   ]
  },
  {
   "cell_type": "code",
   "execution_count": 10,
   "metadata": {
    "_uuid": "eb37015e78974e5fd2ae7e13d065c8ab0a9c6948",
    "execution": {
     "iopub.execute_input": "2021-06-24T06:35:35.551027Z",
     "iopub.status.busy": "2021-06-24T06:35:35.547793Z",
     "iopub.status.idle": "2021-06-24T06:36:20.846455Z",
     "shell.execute_reply": "2021-06-24T06:36:20.843147Z"
    },
    "jupyter": {
     "source_hidden": true
    },
    "papermill": {
     "duration": 45.35747,
     "end_time": "2021-06-24T06:36:20.847521",
     "exception": false,
     "start_time": "2021-06-24T06:35:35.490051",
     "status": "completed"
    },
    "tags": []
   },
   "outputs": [],
   "source": [
    "from sklearn.ensemble import RandomForestRegressor\n",
    "rdr = RandomForestRegressor(\n",
    "    n_estimators=n_estimators,\n",
    "    max_features=max_features\n",
    ")\n",
    "rdr.fit(X_train,y_train)\n",
    "pred=rdr.predict(X_test)"
   ]
  },
  {
   "cell_type": "code",
   "execution_count": 11,
   "metadata": {
    "_uuid": "7ed5b8d4e8abb44a4b548c13ac9fb2d65227d1c5",
    "execution": {
     "iopub.execute_input": "2021-06-24T06:36:20.941494Z",
     "iopub.status.busy": "2021-06-24T06:36:20.937787Z",
     "iopub.status.idle": "2021-06-24T06:36:20.950596Z",
     "shell.execute_reply": "2021-06-24T06:36:20.948264Z"
    },
    "jupyter": {
     "source_hidden": true
    },
    "papermill": {
     "duration": 0.060065,
     "end_time": "2021-06-24T06:36:20.951654",
     "exception": false,
     "start_time": "2021-06-24T06:36:20.891589",
     "status": "completed"
    },
    "tags": []
   },
   "outputs": [],
   "source": [
    "#%%capture cap --no-stderr\n",
    "#print(np.sqrt(mean_squared_error(y_test, pred)))"
   ]
  },
  {
   "cell_type": "code",
   "execution_count": 12,
   "metadata": {
    "execution": {
     "iopub.execute_input": "2021-06-24T06:36:21.032742Z",
     "iopub.status.busy": "2021-06-24T06:36:21.029557Z",
     "iopub.status.idle": "2021-06-24T06:36:21.043568Z",
     "shell.execute_reply": "2021-06-24T06:36:21.040045Z"
    },
    "jupyter": {
     "source_hidden": true
    },
    "papermill": {
     "duration": 0.061055,
     "end_time": "2021-06-24T06:36:21.044549",
     "exception": false,
     "start_time": "2021-06-24T06:36:20.983494",
     "status": "completed"
    },
    "tags": []
   },
   "outputs": [],
   "source": [
    "#with open(output_rmse, 'w') as f:\n",
    "#    f.write(cap.stdout)"
   ]
  },
  {
   "cell_type": "code",
   "execution_count": 13,
   "metadata": {
    "execution": {
     "iopub.execute_input": "2021-06-24T06:36:21.140727Z",
     "iopub.status.busy": "2021-06-24T06:36:21.128952Z",
     "iopub.status.idle": "2021-06-24T06:36:21.230227Z",
     "shell.execute_reply": "2021-06-24T06:36:21.226646Z"
    },
    "jupyter": {
     "source_hidden": true
    },
    "papermill": {
     "duration": 0.155412,
     "end_time": "2021-06-24T06:36:21.231274",
     "exception": false,
     "start_time": "2021-06-24T06:36:21.075862",
     "status": "completed"
    },
    "tags": []
   },
   "outputs": [
    {
     "data": {
      "text/plain": [
       "<sqlalchemy.engine.result.ResultProxy at 0x7fcef1b8e210>"
      ]
     },
     "execution_count": 13,
     "metadata": {},
     "output_type": "execute_result"
    }
   ],
   "source": [
    "cnx.execute(\"\"\"\n",
    "    INSERT INTO ml.accuracies (ml_id, ml_date, accuracy) VALUES ('{0}', '{1}', {2}) \n",
    "    ON CONFLICT (ml_id, ml_date) \n",
    "    DO\n",
    "        UPDATE SET accuracy = {2};\n",
    "    \"\"\".format(ml_id, ml_date, np.sqrt(mean_squared_error(y_test, pred))))"
   ]
  }
 ],
 "metadata": {
  "kernelspec": {
   "display_name": "Python 3",
   "language": "python",
   "name": "python3"
  },
  "language_info": {
   "codemirror_mode": {
    "name": "ipython",
    "version": 3
   },
   "file_extension": ".py",
   "mimetype": "text/x-python",
   "name": "python",
   "nbconvert_exporter": "python",
   "pygments_lexer": "ipython3",
   "version": "3.7.10"
  },
  "papermill": {
   "duration": 57.809755,
   "end_time": "2021-06-24T06:36:22.932997",
   "environment_variables": {},
   "exception": null,
   "input_path": "/usr/local/airflow/include/notebooks/avocado_prediction.ipynb",
   "output_path": "/tmp/out-model-avocado-prediction-auto_100.ipynb",
   "parameters": {
    "filepath": "/tmp/avocado.csv",
    "max_features": "auto",
    "ml_id": "auto_100",
    "n_estimators": 100
   },
   "start_time": "2021-06-24T06:35:25.123242",
   "version": "2.1.2"
  }
 },
 "nbformat": 4,
 "nbformat_minor": 4
}