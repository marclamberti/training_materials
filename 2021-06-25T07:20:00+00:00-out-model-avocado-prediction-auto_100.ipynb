{
 "cells": [
  {
   "cell_type": "code",
   "execution_count": 1,
   "metadata": {
    "_cell_guid": "79c7e3d0-c299-4dcb-8224-4455121ee9b0",
    "_uuid": "d629ff2d2480ee46fbb7e2d37f6b5fab8052498a",
    "execution": {
     "iopub.execute_input": "2021-06-25T07:42:28.969790Z",
     "iopub.status.busy": "2021-06-25T07:42:28.969092Z",
     "iopub.status.idle": "2021-06-25T07:42:29.666885Z",
     "shell.execute_reply": "2021-06-25T07:42:29.667402Z"
    },
    "jupyter": {
     "source_hidden": true
    },
    "papermill": {
     "duration": 0.71242,
     "end_time": "2021-06-25T07:42:29.667815",
     "exception": false,
     "start_time": "2021-06-25T07:42:28.955395",
     "status": "completed"
    },
    "tags": []
   },
   "outputs": [],
   "source": [
    "import pandas as pd\n",
    "import numpy as np\n",
    "from sqlalchemy import create_engine\n",
    "from datetime import date\n",
    "from sklearn.metrics import mean_squared_error"
   ]
  },
  {
   "cell_type": "code",
   "execution_count": 2,
   "metadata": {
    "execution": {
     "iopub.execute_input": "2021-06-25T07:42:29.687230Z",
     "iopub.status.busy": "2021-06-25T07:42:29.686361Z",
     "iopub.status.idle": "2021-06-25T07:42:29.712144Z",
     "shell.execute_reply": "2021-06-25T07:42:29.711492Z"
    },
    "jupyter": {
     "source_hidden": true
    },
    "papermill": {
     "duration": 0.037542,
     "end_time": "2021-06-25T07:42:29.712345",
     "exception": false,
     "start_time": "2021-06-25T07:42:29.674803",
     "status": "completed"
    },
    "tags": []
   },
   "outputs": [],
   "source": [
    "# THIS IS PURELY FOR TEST PURPOSE NEVER DO THAT IN PRODUCTION\n",
    "POSTGRES_ADDRESS='postgres'\n",
    "POSTGRES_PORT='5432'\n",
    "POSTGRES_USERNAME='postgres'\n",
    "POSTGRES_PASSWORD='postgres'\n",
    "\n",
    "postgres_conn = 'postgresql://{0}:{1}@{2}:{3}/'.format(POSTGRES_USERNAME, POSTGRES_PASSWORD, POSTGRES_ADDRESS, POSTGRES_PORT)\n",
    "\n",
    "# Create the connection\n",
    "cnx = create_engine(postgres_conn)\n"
   ]
  },
  {
   "cell_type": "markdown",
   "metadata": {
    "_uuid": "1998755ef10683262b29765345cff1c1c7d10b15",
    "papermill": {
     "duration": 0.005552,
     "end_time": "2021-06-25T07:42:29.723055",
     "exception": false,
     "start_time": "2021-06-25T07:42:29.717503",
     "status": "completed"
    },
    "tags": []
   },
   "source": [
    "Read in the Avocado Prices csv file as a DataFrame called df"
   ]
  },
  {
   "cell_type": "code",
   "execution_count": 3,
   "metadata": {
    "execution": {
     "iopub.execute_input": "2021-06-25T07:42:29.738713Z",
     "iopub.status.busy": "2021-06-25T07:42:29.738061Z",
     "iopub.status.idle": "2021-06-25T07:42:29.741010Z",
     "shell.execute_reply": "2021-06-25T07:42:29.740338Z"
    },
    "jupyter": {
     "source_hidden": true
    },
    "papermill": {
     "duration": 0.013048,
     "end_time": "2021-06-25T07:42:29.741211",
     "exception": false,
     "start_time": "2021-06-25T07:42:29.728163",
     "status": "completed"
    },
    "tags": [
     "parameters"
    ]
   },
   "outputs": [],
   "source": [
    "# Parameterized\n",
    "\n",
    "filepath='avocado.csv'\n",
    "ml_id='auto_100'\n",
    "ml_date=date.today()\n",
    "n_estimators = 100\n",
    "max_features = 'auto'"
   ]
  },
  {
   "cell_type": "code",
   "execution_count": 4,
   "id": "44b17fcd",
   "metadata": {
    "execution": {
     "iopub.execute_input": "2021-06-25T07:42:29.756442Z",
     "iopub.status.busy": "2021-06-25T07:42:29.755758Z",
     "iopub.status.idle": "2021-06-25T07:42:29.758971Z",
     "shell.execute_reply": "2021-06-25T07:42:29.758294Z"
    },
    "jupyter": {
     "source_hidden": true
    },
    "papermill": {
     "duration": 0.0125,
     "end_time": "2021-06-25T07:42:29.759181",
     "exception": false,
     "start_time": "2021-06-25T07:42:29.746681",
     "status": "completed"
    },
    "tags": [
     "injected-parameters"
    ]
   },
   "outputs": [],
   "source": [
    "# Parameters\n",
    "filepath = \"/tmp/avocado.csv\"\n",
    "n_estimators = 100\n",
    "max_features = \"auto\"\n",
    "ml_id = \"auto_100\"\n"
   ]
  },
  {
   "cell_type": "code",
   "execution_count": 5,
   "metadata": {
    "_uuid": "55d0e719eb8b91d763c1eacaf0f51ee0586486fc",
    "execution": {
     "iopub.execute_input": "2021-06-25T07:42:29.775275Z",
     "iopub.status.busy": "2021-06-25T07:42:29.773224Z",
     "iopub.status.idle": "2021-06-25T07:42:29.807055Z",
     "shell.execute_reply": "2021-06-25T07:42:29.806488Z"
    },
    "jupyter": {
     "source_hidden": true
    },
    "papermill": {
     "duration": 0.042338,
     "end_time": "2021-06-25T07:42:29.807267",
     "exception": false,
     "start_time": "2021-06-25T07:42:29.764929",
     "status": "completed"
    },
    "tags": []
   },
   "outputs": [],
   "source": [
    "df= pd.read_csv(filepath)"
   ]
  },
  {
   "cell_type": "markdown",
   "metadata": {
    "_uuid": "434e0457f550e2200424e5ec26162e1aa5904005",
    "papermill": {
     "duration": 0.005881,
     "end_time": "2021-06-25T07:42:29.819253",
     "exception": false,
     "start_time": "2021-06-25T07:42:29.813372",
     "status": "completed"
    },
    "tags": []
   },
   "source": [
    "The Feature \"Unnamed:0\" is just a representation of the indexes, so it's useless to keep it, lets remove it !"
   ]
  },
  {
   "cell_type": "code",
   "execution_count": 6,
   "metadata": {
    "_uuid": "9875398e37728dc3141fed4228be337a4735beb6",
    "execution": {
     "iopub.execute_input": "2021-06-25T07:42:29.836855Z",
     "iopub.status.busy": "2021-06-25T07:42:29.836213Z",
     "iopub.status.idle": "2021-06-25T07:42:29.839090Z",
     "shell.execute_reply": "2021-06-25T07:42:29.838583Z"
    },
    "jupyter": {
     "source_hidden": true
    },
    "papermill": {
     "duration": 0.014464,
     "end_time": "2021-06-25T07:42:29.839299",
     "exception": false,
     "start_time": "2021-06-25T07:42:29.824835",
     "status": "completed"
    },
    "tags": []
   },
   "outputs": [],
   "source": [
    "df.drop('Unnamed: 0',axis=1,inplace=True)"
   ]
  },
  {
   "cell_type": "markdown",
   "metadata": {
    "_uuid": "12e94ad381e4cb8d2c8a9bbe08ce07ab5d49c040",
    "papermill": {
     "duration": 0.005713,
     "end_time": "2021-06-25T07:42:29.850723",
     "exception": false,
     "start_time": "2021-06-25T07:42:29.845010",
     "status": "completed"
    },
    "tags": []
   },
   "source": [
    "well as a first observation we can see that we are lucky, we dont have any missing values (18249 complete data) and 13 columns.\n",
    "Now let's do some Feature Engineering on the Date Feature so we can be able to use the day and the month columns in building our machine learning model later. ( I didn't mention the year because its already there in data frame)"
   ]
  },
  {
   "cell_type": "code",
   "execution_count": 7,
   "metadata": {
    "_uuid": "f031639ce794656e877484d1c9c356df7028177f",
    "execution": {
     "iopub.execute_input": "2021-06-25T07:42:29.867708Z",
     "iopub.status.busy": "2021-06-25T07:42:29.867095Z",
     "iopub.status.idle": "2021-06-25T07:42:29.992758Z",
     "shell.execute_reply": "2021-06-25T07:42:29.992258Z"
    },
    "jupyter": {
     "source_hidden": true
    },
    "papermill": {
     "duration": 0.136701,
     "end_time": "2021-06-25T07:42:29.993011",
     "exception": false,
     "start_time": "2021-06-25T07:42:29.856310",
     "status": "completed"
    },
    "tags": []
   },
   "outputs": [],
   "source": [
    "df['Date']=pd.to_datetime(df['Date'])\n",
    "df['Month']=df['Date'].apply(lambda x:x.month)\n",
    "df['Day']=df['Date'].apply(lambda x:x.day)"
   ]
  },
  {
   "cell_type": "markdown",
   "metadata": {
    "_uuid": "ebdcac9924ce3e366fd3a75170682f7113385b7a",
    "papermill": {
     "duration": 0.005746,
     "end_time": "2021-06-25T07:42:30.004867",
     "exception": false,
     "start_time": "2021-06-25T07:42:29.999121",
     "status": "completed"
    },
    "tags": []
   },
   "source": [
    "as we can see we have 54 regions and 2 unique types, so it's going to be easy to to transform the type feature to dummies, but for the region its going to be a bit complexe so I decided to drop the entire column.\n",
    "I will drop the Date Feature as well because I already have 3 other columns for the Year, Month and Day."
   ]
  },
  {
   "cell_type": "code",
   "execution_count": 8,
   "metadata": {
    "_uuid": "a798682da34327b731ef262985fd50ba68e06460",
    "execution": {
     "iopub.execute_input": "2021-06-25T07:42:30.027594Z",
     "iopub.status.busy": "2021-06-25T07:42:30.022226Z",
     "iopub.status.idle": "2021-06-25T07:42:30.033716Z",
     "shell.execute_reply": "2021-06-25T07:42:30.032843Z"
    },
    "jupyter": {
     "source_hidden": true
    },
    "papermill": {
     "duration": 0.023462,
     "end_time": "2021-06-25T07:42:30.034210",
     "exception": false,
     "start_time": "2021-06-25T07:42:30.010748",
     "status": "completed"
    },
    "tags": []
   },
   "outputs": [],
   "source": [
    "df_final=pd.get_dummies(df.drop(['region','Date'],axis=1),drop_first=True)"
   ]
  },
  {
   "cell_type": "markdown",
   "metadata": {
    "_uuid": "8b74a6b88cb3e9b3e1d1e987e061048f203c7364",
    "papermill": {
     "duration": 0.005843,
     "end_time": "2021-06-25T07:42:30.046397",
     "exception": false,
     "start_time": "2021-06-25T07:42:30.040554",
     "status": "completed"
    },
    "tags": []
   },
   "source": [
    "Now our data are ready! lets apply our model which is going to be the Linear Regression because our Target variable 'AveragePrice'is continuous.\n",
    "Let's now begin to train out regression model! We will need to first split up our data into an X array that contains the features to train on, and a y array with the target variable"
   ]
  },
  {
   "cell_type": "code",
   "execution_count": 9,
   "metadata": {
    "_uuid": "830591f99de9715241e688bf9ce265e979401ff5",
    "execution": {
     "iopub.execute_input": "2021-06-25T07:42:30.063451Z",
     "iopub.status.busy": "2021-06-25T07:42:30.062736Z",
     "iopub.status.idle": "2021-06-25T07:42:30.073250Z",
     "shell.execute_reply": "2021-06-25T07:42:30.073670Z"
    },
    "jupyter": {
     "source_hidden": true
    },
    "papermill": {
     "duration": 0.02193,
     "end_time": "2021-06-25T07:42:30.073915",
     "exception": false,
     "start_time": "2021-06-25T07:42:30.051985",
     "status": "completed"
    },
    "tags": []
   },
   "outputs": [],
   "source": [
    "X=df_final.iloc[:,1:14]\n",
    "y=df_final['AveragePrice']\n",
    "from sklearn.model_selection import train_test_split\n",
    "X_train,X_test,y_train,y_test=train_test_split(X,y,test_size=0.2,random_state=42)"
   ]
  },
  {
   "cell_type": "markdown",
   "metadata": {
    "_uuid": "ea730c77a31cde9de98263079a189accb8b5772b",
    "papermill": {
     "duration": 0.005673,
     "end_time": "2021-06-25T07:42:30.085411",
     "exception": false,
     "start_time": "2021-06-25T07:42:30.079738",
     "status": "completed"
    },
    "tags": []
   },
   "source": [
    "Creating and Training the Model"
   ]
  },
  {
   "cell_type": "code",
   "execution_count": 10,
   "metadata": {
    "_uuid": "eb37015e78974e5fd2ae7e13d065c8ab0a9c6948",
    "execution": {
     "iopub.execute_input": "2021-06-25T07:42:30.101699Z",
     "iopub.status.busy": "2021-06-25T07:42:30.101095Z",
     "iopub.status.idle": "2021-06-25T07:42:38.481956Z",
     "shell.execute_reply": "2021-06-25T07:42:38.482375Z"
    },
    "jupyter": {
     "source_hidden": true
    },
    "papermill": {
     "duration": 8.39151,
     "end_time": "2021-06-25T07:42:38.482618",
     "exception": false,
     "start_time": "2021-06-25T07:42:30.091108",
     "status": "completed"
    },
    "tags": []
   },
   "outputs": [],
   "source": [
    "from sklearn.ensemble import RandomForestRegressor\n",
    "rdr = RandomForestRegressor(\n",
    "    n_estimators=n_estimators,\n",
    "    max_features=max_features\n",
    ")\n",
    "rdr.fit(X_train,y_train)\n",
    "pred=rdr.predict(X_test)"
   ]
  },
  {
   "cell_type": "code",
   "execution_count": 11,
   "metadata": {
    "_uuid": "7ed5b8d4e8abb44a4b548c13ac9fb2d65227d1c5",
    "execution": {
     "iopub.execute_input": "2021-06-25T07:42:38.498487Z",
     "iopub.status.busy": "2021-06-25T07:42:38.497822Z",
     "iopub.status.idle": "2021-06-25T07:42:38.500352Z",
     "shell.execute_reply": "2021-06-25T07:42:38.500745Z"
    },
    "jupyter": {
     "source_hidden": true
    },
    "papermill": {
     "duration": 0.011955,
     "end_time": "2021-06-25T07:42:38.501017",
     "exception": false,
     "start_time": "2021-06-25T07:42:38.489062",
     "status": "completed"
    },
    "tags": []
   },
   "outputs": [],
   "source": [
    "#%%capture cap --no-stderr\n",
    "#print(np.sqrt(mean_squared_error(y_test, pred)))"
   ]
  },
  {
   "cell_type": "code",
   "execution_count": 12,
   "metadata": {
    "execution": {
     "iopub.execute_input": "2021-06-25T07:42:38.517957Z",
     "iopub.status.busy": "2021-06-25T07:42:38.516940Z",
     "iopub.status.idle": "2021-06-25T07:42:38.520619Z",
     "shell.execute_reply": "2021-06-25T07:42:38.519960Z"
    },
    "jupyter": {
     "source_hidden": true
    },
    "papermill": {
     "duration": 0.014141,
     "end_time": "2021-06-25T07:42:38.520822",
     "exception": false,
     "start_time": "2021-06-25T07:42:38.506681",
     "status": "completed"
    },
    "tags": []
   },
   "outputs": [],
   "source": [
    "#with open(output_rmse, 'w') as f:\n",
    "#    f.write(cap.stdout)"
   ]
  },
  {
   "cell_type": "code",
   "execution_count": 13,
   "metadata": {
    "execution": {
     "iopub.execute_input": "2021-06-25T07:42:38.539452Z",
     "iopub.status.busy": "2021-06-25T07:42:38.538765Z",
     "iopub.status.idle": "2021-06-25T07:42:38.557732Z",
     "shell.execute_reply": "2021-06-25T07:42:38.557264Z"
    },
    "jupyter": {
     "source_hidden": true
    },
    "papermill": {
     "duration": 0.031038,
     "end_time": "2021-06-25T07:42:38.558009",
     "exception": false,
     "start_time": "2021-06-25T07:42:38.526971",
     "status": "completed"
    },
    "tags": []
   },
   "outputs": [
    {
     "data": {
      "text/plain": [
       "<sqlalchemy.engine.result.ResultProxy at 0x7fe93e20ef50>"
      ]
     },
     "execution_count": 13,
     "metadata": {},
     "output_type": "execute_result"
    }
   ],
   "source": [
    "cnx.execute(\"\"\"\n",
    "    INSERT INTO ml.accuracies (ml_id, ml_date, accuracy) VALUES ('{0}', '{1}', {2}) \n",
    "    ON CONFLICT (ml_id, ml_date) \n",
    "    DO\n",
    "        UPDATE SET accuracy = {2};\n",
    "    \"\"\".format(ml_id, ml_date, np.sqrt(mean_squared_error(y_test, pred))))"
   ]
  }
 ],
 "metadata": {
  "kernelspec": {
   "display_name": "Python 3",
   "language": "python",
   "name": "python3"
  },
  "language_info": {
   "codemirror_mode": {
    "name": "ipython",
    "version": 3
   },
   "file_extension": ".py",
   "mimetype": "text/x-python",
   "name": "python",
   "nbconvert_exporter": "python",
   "pygments_lexer": "ipython3",
   "version": "3.7.10"
  },
  "papermill": {
   "duration": 11.182283,
   "end_time": "2021-06-25T07:42:38.973595",
   "environment_variables": {},
   "exception": null,
   "input_path": "/usr/local/airflow/include/notebooks/avocado_prediction.ipynb",
   "output_path": "/tmp/out-model-avocado-prediction-auto_100.ipynb",
   "parameters": {
    "filepath": "/tmp/avocado.csv",
    "max_features": "auto",
    "ml_id": "auto_100",
    "n_estimators": 100
   },
   "start_time": "2021-06-25T07:42:27.791312",
   "version": "2.1.2"
  }
 },
 "nbformat": 4,
 "nbformat_minor": 4
}