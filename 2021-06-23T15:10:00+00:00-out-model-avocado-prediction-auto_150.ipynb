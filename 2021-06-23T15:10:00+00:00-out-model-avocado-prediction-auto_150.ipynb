{
 "cells": [
  {
   "cell_type": "code",
   "execution_count": 1,
   "metadata": {
    "_cell_guid": "79c7e3d0-c299-4dcb-8224-4455121ee9b0",
    "_uuid": "d629ff2d2480ee46fbb7e2d37f6b5fab8052498a",
    "execution": {
     "iopub.execute_input": "2021-06-23T15:51:40.059121Z",
     "iopub.status.busy": "2021-06-23T15:51:40.058239Z",
     "iopub.status.idle": "2021-06-23T15:51:41.160351Z",
     "shell.execute_reply": "2021-06-23T15:51:41.160821Z"
    },
    "jupyter": {
     "source_hidden": true
    },
    "papermill": {
     "duration": 1.118574,
     "end_time": "2021-06-23T15:51:41.161096",
     "exception": false,
     "start_time": "2021-06-23T15:51:40.042522",
     "status": "completed"
    },
    "tags": []
   },
   "outputs": [],
   "source": [
    "import pandas as pd\n",
    "import numpy as np\n",
    "from sqlalchemy import create_engine\n",
    "from datetime import date\n",
    "from sklearn.metrics import mean_squared_error"
   ]
  },
  {
   "cell_type": "code",
   "execution_count": 2,
   "metadata": {
    "execution": {
     "iopub.execute_input": "2021-06-23T15:51:41.184981Z",
     "iopub.status.busy": "2021-06-23T15:51:41.182898Z",
     "iopub.status.idle": "2021-06-23T15:51:41.219566Z",
     "shell.execute_reply": "2021-06-23T15:51:41.218949Z"
    },
    "jupyter": {
     "source_hidden": true
    },
    "papermill": {
     "duration": 0.049699,
     "end_time": "2021-06-23T15:51:41.219690",
     "exception": false,
     "start_time": "2021-06-23T15:51:41.169991",
     "status": "completed"
    },
    "tags": []
   },
   "outputs": [],
   "source": [
    "# THIS IS PURELY FOR TEST PURPOSE NEVER DO THAT IN PRODUCTION\n",
    "POSTGRES_ADDRESS='postgres'\n",
    "POSTGRES_PORT='5432'\n",
    "POSTGRES_USERNAME='postgres'\n",
    "POSTGRES_PASSWORD='postgres'\n",
    "\n",
    "postgres_conn = 'postgresql://{0}:{1}@{2}:{3}/'.format(POSTGRES_USERNAME, POSTGRES_PASSWORD, POSTGRES_ADDRESS, POSTGRES_PORT)\n",
    "\n",
    "# Create the connection\n",
    "cnx = create_engine(postgres_conn)\n"
   ]
  },
  {
   "cell_type": "markdown",
   "metadata": {
    "_uuid": "1998755ef10683262b29765345cff1c1c7d10b15",
    "papermill": {
     "duration": 0.007503,
     "end_time": "2021-06-23T15:51:41.234696",
     "exception": false,
     "start_time": "2021-06-23T15:51:41.227193",
     "status": "completed"
    },
    "tags": []
   },
   "source": [
    "Read in the Avocado Prices csv file as a DataFrame called df"
   ]
  },
  {
   "cell_type": "code",
   "execution_count": 3,
   "metadata": {
    "execution": {
     "iopub.execute_input": "2021-06-23T15:51:41.253847Z",
     "iopub.status.busy": "2021-06-23T15:51:41.252739Z",
     "iopub.status.idle": "2021-06-23T15:51:41.255830Z",
     "shell.execute_reply": "2021-06-23T15:51:41.256279Z"
    },
    "jupyter": {
     "source_hidden": true
    },
    "papermill": {
     "duration": 0.015227,
     "end_time": "2021-06-23T15:51:41.256411",
     "exception": false,
     "start_time": "2021-06-23T15:51:41.241184",
     "status": "completed"
    },
    "tags": [
     "parameters"
    ]
   },
   "outputs": [],
   "source": [
    "# Parameterized\n",
    "\n",
    "filepath='avocado.csv'\n",
    "ml_id='auto_100'\n",
    "ml_date=date.today()\n",
    "n_estimators = 100\n",
    "max_features = 'auto'"
   ]
  },
  {
   "cell_type": "code",
   "execution_count": 4,
   "id": "0e75ea16",
   "metadata": {
    "execution": {
     "iopub.execute_input": "2021-06-23T15:51:41.274731Z",
     "iopub.status.busy": "2021-06-23T15:51:41.273952Z",
     "iopub.status.idle": "2021-06-23T15:51:41.276459Z",
     "shell.execute_reply": "2021-06-23T15:51:41.276818Z"
    },
    "jupyter": {
     "source_hidden": true
    },
    "papermill": {
     "duration": 0.013028,
     "end_time": "2021-06-23T15:51:41.276941",
     "exception": false,
     "start_time": "2021-06-23T15:51:41.263913",
     "status": "completed"
    },
    "tags": [
     "injected-parameters"
    ]
   },
   "outputs": [],
   "source": [
    "# Parameters\n",
    "filepath = \"/tmp/avocado.csv\"\n",
    "n_estimators = 150\n",
    "max_features = \"auto\"\n",
    "ml_id = \"auto_150\"\n"
   ]
  },
  {
   "cell_type": "code",
   "execution_count": 5,
   "metadata": {
    "_uuid": "55d0e719eb8b91d763c1eacaf0f51ee0586486fc",
    "execution": {
     "iopub.execute_input": "2021-06-23T15:51:41.298116Z",
     "iopub.status.busy": "2021-06-23T15:51:41.295998Z",
     "iopub.status.idle": "2021-06-23T15:51:41.340308Z",
     "shell.execute_reply": "2021-06-23T15:51:41.340787Z"
    },
    "jupyter": {
     "source_hidden": true
    },
    "papermill": {
     "duration": 0.056294,
     "end_time": "2021-06-23T15:51:41.340917",
     "exception": false,
     "start_time": "2021-06-23T15:51:41.284623",
     "status": "completed"
    },
    "tags": []
   },
   "outputs": [],
   "source": [
    "df= pd.read_csv(filepath)"
   ]
  },
  {
   "cell_type": "markdown",
   "metadata": {
    "_uuid": "434e0457f550e2200424e5ec26162e1aa5904005",
    "papermill": {
     "duration": 0.007692,
     "end_time": "2021-06-23T15:51:41.355721",
     "exception": false,
     "start_time": "2021-06-23T15:51:41.348029",
     "status": "completed"
    },
    "tags": []
   },
   "source": [
    "The Feature \"Unnamed:0\" is just a representation of the indexes, so it's useless to keep it, lets remove it !"
   ]
  },
  {
   "cell_type": "code",
   "execution_count": 6,
   "metadata": {
    "_uuid": "9875398e37728dc3141fed4228be337a4735beb6",
    "execution": {
     "iopub.execute_input": "2021-06-23T15:51:41.378612Z",
     "iopub.status.busy": "2021-06-23T15:51:41.377557Z",
     "iopub.status.idle": "2021-06-23T15:51:41.381972Z",
     "shell.execute_reply": "2021-06-23T15:51:41.382733Z"
    },
    "jupyter": {
     "source_hidden": true
    },
    "papermill": {
     "duration": 0.020269,
     "end_time": "2021-06-23T15:51:41.382881",
     "exception": false,
     "start_time": "2021-06-23T15:51:41.362612",
     "status": "completed"
    },
    "tags": []
   },
   "outputs": [],
   "source": [
    "df.drop('Unnamed: 0',axis=1,inplace=True)"
   ]
  },
  {
   "cell_type": "markdown",
   "metadata": {
    "_uuid": "12e94ad381e4cb8d2c8a9bbe08ce07ab5d49c040",
    "papermill": {
     "duration": 0.007895,
     "end_time": "2021-06-23T15:51:41.398075",
     "exception": false,
     "start_time": "2021-06-23T15:51:41.390180",
     "status": "completed"
    },
    "tags": []
   },
   "source": [
    "well as a first observation we can see that we are lucky, we dont have any missing values (18249 complete data) and 13 columns.\n",
    "Now let's do some Feature Engineering on the Date Feature so we can be able to use the day and the month columns in building our machine learning model later. ( I didn't mention the year because its already there in data frame)"
   ]
  },
  {
   "cell_type": "code",
   "execution_count": 7,
   "metadata": {
    "_uuid": "f031639ce794656e877484d1c9c356df7028177f",
    "execution": {
     "iopub.execute_input": "2021-06-23T15:51:41.415487Z",
     "iopub.status.busy": "2021-06-23T15:51:41.414530Z",
     "iopub.status.idle": "2021-06-23T15:51:41.592434Z",
     "shell.execute_reply": "2021-06-23T15:51:41.593656Z"
    },
    "jupyter": {
     "source_hidden": true
    },
    "papermill": {
     "duration": 0.188774,
     "end_time": "2021-06-23T15:51:41.593848",
     "exception": false,
     "start_time": "2021-06-23T15:51:41.405074",
     "status": "completed"
    },
    "tags": []
   },
   "outputs": [],
   "source": [
    "df['Date']=pd.to_datetime(df['Date'])\n",
    "df['Month']=df['Date'].apply(lambda x:x.month)\n",
    "df['Day']=df['Date'].apply(lambda x:x.day)"
   ]
  },
  {
   "cell_type": "markdown",
   "metadata": {
    "_uuid": "ebdcac9924ce3e366fd3a75170682f7113385b7a",
    "papermill": {
     "duration": 0.008301,
     "end_time": "2021-06-23T15:51:41.611391",
     "exception": false,
     "start_time": "2021-06-23T15:51:41.603090",
     "status": "completed"
    },
    "tags": []
   },
   "source": [
    "as we can see we have 54 regions and 2 unique types, so it's going to be easy to to transform the type feature to dummies, but for the region its going to be a bit complexe so I decided to drop the entire column.\n",
    "I will drop the Date Feature as well because I already have 3 other columns for the Year, Month and Day."
   ]
  },
  {
   "cell_type": "code",
   "execution_count": 8,
   "metadata": {
    "_uuid": "a798682da34327b731ef262985fd50ba68e06460",
    "execution": {
     "iopub.execute_input": "2021-06-23T15:51:41.634653Z",
     "iopub.status.busy": "2021-06-23T15:51:41.633406Z",
     "iopub.status.idle": "2021-06-23T15:51:41.646505Z",
     "shell.execute_reply": "2021-06-23T15:51:41.646875Z"
    },
    "jupyter": {
     "source_hidden": true
    },
    "papermill": {
     "duration": 0.027498,
     "end_time": "2021-06-23T15:51:41.647016",
     "exception": false,
     "start_time": "2021-06-23T15:51:41.619518",
     "status": "completed"
    },
    "tags": []
   },
   "outputs": [],
   "source": [
    "df_final=pd.get_dummies(df.drop(['region','Date'],axis=1),drop_first=True)"
   ]
  },
  {
   "cell_type": "markdown",
   "metadata": {
    "_uuid": "8b74a6b88cb3e9b3e1d1e987e061048f203c7364",
    "papermill": {
     "duration": 0.007687,
     "end_time": "2021-06-23T15:51:41.662557",
     "exception": false,
     "start_time": "2021-06-23T15:51:41.654870",
     "status": "completed"
    },
    "tags": []
   },
   "source": [
    "Now our data are ready! lets apply our model which is going to be the Linear Regression because our Target variable 'AveragePrice'is continuous.\n",
    "Let's now begin to train out regression model! We will need to first split up our data into an X array that contains the features to train on, and a y array with the target variable"
   ]
  },
  {
   "cell_type": "code",
   "execution_count": 9,
   "metadata": {
    "_uuid": "830591f99de9715241e688bf9ce265e979401ff5",
    "execution": {
     "iopub.execute_input": "2021-06-23T15:51:41.684465Z",
     "iopub.status.busy": "2021-06-23T15:51:41.683673Z",
     "iopub.status.idle": "2021-06-23T15:51:41.696492Z",
     "shell.execute_reply": "2021-06-23T15:51:41.696886Z"
    },
    "jupyter": {
     "source_hidden": true
    },
    "papermill": {
     "duration": 0.02671,
     "end_time": "2021-06-23T15:51:41.697011",
     "exception": false,
     "start_time": "2021-06-23T15:51:41.670301",
     "status": "completed"
    },
    "tags": []
   },
   "outputs": [],
   "source": [
    "X=df_final.iloc[:,1:14]\n",
    "y=df_final['AveragePrice']\n",
    "from sklearn.model_selection import train_test_split\n",
    "X_train,X_test,y_train,y_test=train_test_split(X,y,test_size=0.2,random_state=42)"
   ]
  },
  {
   "cell_type": "markdown",
   "metadata": {
    "_uuid": "ea730c77a31cde9de98263079a189accb8b5772b",
    "papermill": {
     "duration": 0.007617,
     "end_time": "2021-06-23T15:51:41.712182",
     "exception": false,
     "start_time": "2021-06-23T15:51:41.704565",
     "status": "completed"
    },
    "tags": []
   },
   "source": [
    "Creating and Training the Model"
   ]
  },
  {
   "cell_type": "code",
   "execution_count": 10,
   "metadata": {
    "_uuid": "eb37015e78974e5fd2ae7e13d065c8ab0a9c6948",
    "execution": {
     "iopub.execute_input": "2021-06-23T15:51:41.757392Z",
     "iopub.status.busy": "2021-06-23T15:51:41.746919Z",
     "iopub.status.idle": "2021-06-23T15:52:02.847243Z",
     "shell.execute_reply": "2021-06-23T15:52:02.848377Z"
    },
    "jupyter": {
     "source_hidden": true
    },
    "papermill": {
     "duration": 21.124508,
     "end_time": "2021-06-23T15:52:02.848609",
     "exception": false,
     "start_time": "2021-06-23T15:51:41.724101",
     "status": "completed"
    },
    "tags": []
   },
   "outputs": [],
   "source": [
    "from sklearn.ensemble import RandomForestRegressor\n",
    "rdr = RandomForestRegressor(\n",
    "    n_estimators=n_estimators,\n",
    "    max_features=max_features\n",
    ")\n",
    "rdr.fit(X_train,y_train)\n",
    "pred=rdr.predict(X_test)"
   ]
  },
  {
   "cell_type": "code",
   "execution_count": 11,
   "metadata": {
    "_uuid": "7ed5b8d4e8abb44a4b548c13ac9fb2d65227d1c5",
    "execution": {
     "iopub.execute_input": "2021-06-23T15:52:02.881128Z",
     "iopub.status.busy": "2021-06-23T15:52:02.880206Z",
     "iopub.status.idle": "2021-06-23T15:52:02.882036Z",
     "shell.execute_reply": "2021-06-23T15:52:02.882712Z"
    },
    "jupyter": {
     "source_hidden": true
    },
    "papermill": {
     "duration": 0.019047,
     "end_time": "2021-06-23T15:52:02.882909",
     "exception": false,
     "start_time": "2021-06-23T15:52:02.863862",
     "status": "completed"
    },
    "tags": []
   },
   "outputs": [],
   "source": [
    "#%%capture cap --no-stderr\n",
    "#print(np.sqrt(mean_squared_error(y_test, pred)))"
   ]
  },
  {
   "cell_type": "code",
   "execution_count": 12,
   "metadata": {
    "execution": {
     "iopub.execute_input": "2021-06-23T15:52:02.918922Z",
     "iopub.status.busy": "2021-06-23T15:52:02.918008Z",
     "iopub.status.idle": "2021-06-23T15:52:02.920037Z",
     "shell.execute_reply": "2021-06-23T15:52:02.919577Z"
    },
    "jupyter": {
     "source_hidden": true
    },
    "papermill": {
     "duration": 0.024039,
     "end_time": "2021-06-23T15:52:02.920137",
     "exception": false,
     "start_time": "2021-06-23T15:52:02.896098",
     "status": "completed"
    },
    "tags": []
   },
   "outputs": [],
   "source": [
    "#with open(output_rmse, 'w') as f:\n",
    "#    f.write(cap.stdout)"
   ]
  },
  {
   "cell_type": "code",
   "execution_count": 13,
   "metadata": {
    "execution": {
     "iopub.execute_input": "2021-06-23T15:52:02.968993Z",
     "iopub.status.busy": "2021-06-23T15:52:02.968191Z",
     "iopub.status.idle": "2021-06-23T15:52:03.054338Z",
     "shell.execute_reply": "2021-06-23T15:52:03.053470Z"
    },
    "jupyter": {
     "source_hidden": true
    },
    "papermill": {
     "duration": 0.116372,
     "end_time": "2021-06-23T15:52:03.054583",
     "exception": false,
     "start_time": "2021-06-23T15:52:02.938211",
     "status": "completed"
    },
    "tags": []
   },
   "outputs": [
    {
     "data": {
      "text/plain": [
       "<sqlalchemy.engine.result.ResultProxy at 0x7f15ad609650>"
      ]
     },
     "execution_count": 13,
     "metadata": {},
     "output_type": "execute_result"
    }
   ],
   "source": [
    "cnx.execute(\"\"\"\n",
    "    INSERT INTO ml.accuracies (ml_id, ml_date, accuracy) VALUES ('{0}', '{1}', {2}) \n",
    "    ON CONFLICT (ml_id, ml_date) \n",
    "    DO\n",
    "        UPDATE SET accuracy = {2};\n",
    "    \"\"\".format(ml_id, ml_date, np.sqrt(mean_squared_error(y_test, pred))))"
   ]
  }
 ],
 "metadata": {
  "kernelspec": {
   "display_name": "Python 3",
   "language": "python",
   "name": "python3"
  },
  "language_info": {
   "codemirror_mode": {
    "name": "ipython",
    "version": 3
   },
   "file_extension": ".py",
   "mimetype": "text/x-python",
   "name": "python",
   "nbconvert_exporter": "python",
   "pygments_lexer": "ipython3",
   "version": "3.7.10"
  },
  "papermill": {
   "duration": 25.327903,
   "end_time": "2021-06-23T15:52:03.594474",
   "environment_variables": {},
   "exception": null,
   "input_path": "/usr/local/airflow/include/notebooks/avocado_prediction.ipynb",
   "output_path": "/tmp/out-model-avocado-prediction-auto_150.ipynb",
   "parameters": {
    "filepath": "/tmp/avocado.csv",
    "max_features": "auto",
    "ml_id": "auto_150",
    "n_estimators": 150
   },
   "start_time": "2021-06-23T15:51:38.266571",
   "version": "2.1.2"
  }
 },
 "nbformat": 4,
 "nbformat_minor": 4
}