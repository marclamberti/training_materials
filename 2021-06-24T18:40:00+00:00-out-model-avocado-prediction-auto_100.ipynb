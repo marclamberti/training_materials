{
 "cells": [
  {
   "cell_type": "code",
   "execution_count": 1,
   "metadata": {
    "_cell_guid": "79c7e3d0-c299-4dcb-8224-4455121ee9b0",
    "_uuid": "d629ff2d2480ee46fbb7e2d37f6b5fab8052498a",
    "execution": {
     "iopub.execute_input": "2021-06-24T18:50:09.686091Z",
     "iopub.status.busy": "2021-06-24T18:50:09.685427Z",
     "iopub.status.idle": "2021-06-24T18:50:10.301220Z",
     "shell.execute_reply": "2021-06-24T18:50:10.300047Z"
    },
    "jupyter": {
     "source_hidden": true
    },
    "papermill": {
     "duration": 0.627996,
     "end_time": "2021-06-24T18:50:10.301498",
     "exception": false,
     "start_time": "2021-06-24T18:50:09.673502",
     "status": "completed"
    },
    "tags": []
   },
   "outputs": [],
   "source": [
    "import pandas as pd\n",
    "import numpy as np\n",
    "from sqlalchemy import create_engine\n",
    "from datetime import date\n",
    "from sklearn.metrics import mean_squared_error"
   ]
  },
  {
   "cell_type": "code",
   "execution_count": 2,
   "metadata": {
    "execution": {
     "iopub.execute_input": "2021-06-24T18:50:10.319390Z",
     "iopub.status.busy": "2021-06-24T18:50:10.318711Z",
     "iopub.status.idle": "2021-06-24T18:50:10.343538Z",
     "shell.execute_reply": "2021-06-24T18:50:10.342925Z"
    },
    "jupyter": {
     "source_hidden": true
    },
    "papermill": {
     "duration": 0.035461,
     "end_time": "2021-06-24T18:50:10.343775",
     "exception": false,
     "start_time": "2021-06-24T18:50:10.308314",
     "status": "completed"
    },
    "tags": []
   },
   "outputs": [],
   "source": [
    "# THIS IS PURELY FOR TEST PURPOSE NEVER DO THAT IN PRODUCTION\n",
    "POSTGRES_ADDRESS='postgres'\n",
    "POSTGRES_PORT='5432'\n",
    "POSTGRES_USERNAME='postgres'\n",
    "POSTGRES_PASSWORD='postgres'\n",
    "\n",
    "postgres_conn = 'postgresql://{0}:{1}@{2}:{3}/'.format(POSTGRES_USERNAME, POSTGRES_PASSWORD, POSTGRES_ADDRESS, POSTGRES_PORT)\n",
    "\n",
    "# Create the connection\n",
    "cnx = create_engine(postgres_conn)\n"
   ]
  },
  {
   "cell_type": "markdown",
   "metadata": {
    "_uuid": "1998755ef10683262b29765345cff1c1c7d10b15",
    "papermill": {
     "duration": 0.005318,
     "end_time": "2021-06-24T18:50:10.354344",
     "exception": false,
     "start_time": "2021-06-24T18:50:10.349026",
     "status": "completed"
    },
    "tags": []
   },
   "source": [
    "Read in the Avocado Prices csv file as a DataFrame called df"
   ]
  },
  {
   "cell_type": "code",
   "execution_count": 3,
   "metadata": {
    "execution": {
     "iopub.execute_input": "2021-06-24T18:50:10.368928Z",
     "iopub.status.busy": "2021-06-24T18:50:10.368275Z",
     "iopub.status.idle": "2021-06-24T18:50:10.371444Z",
     "shell.execute_reply": "2021-06-24T18:50:10.370974Z"
    },
    "jupyter": {
     "source_hidden": true
    },
    "papermill": {
     "duration": 0.012241,
     "end_time": "2021-06-24T18:50:10.371639",
     "exception": false,
     "start_time": "2021-06-24T18:50:10.359398",
     "status": "completed"
    },
    "tags": [
     "parameters"
    ]
   },
   "outputs": [],
   "source": [
    "# Parameterized\n",
    "\n",
    "filepath='avocado.csv'\n",
    "ml_id='auto_100'\n",
    "ml_date=date.today()\n",
    "n_estimators = 100\n",
    "max_features = 'auto'"
   ]
  },
  {
   "cell_type": "code",
   "execution_count": 4,
   "id": "8ac31f98",
   "metadata": {
    "execution": {
     "iopub.execute_input": "2021-06-24T18:50:10.384453Z",
     "iopub.status.busy": "2021-06-24T18:50:10.383929Z",
     "iopub.status.idle": "2021-06-24T18:50:10.387920Z",
     "shell.execute_reply": "2021-06-24T18:50:10.387443Z"
    },
    "jupyter": {
     "source_hidden": true
    },
    "papermill": {
     "duration": 0.011627,
     "end_time": "2021-06-24T18:50:10.388281",
     "exception": false,
     "start_time": "2021-06-24T18:50:10.376654",
     "status": "completed"
    },
    "tags": [
     "injected-parameters"
    ]
   },
   "outputs": [],
   "source": [
    "# Parameters\n",
    "filepath = \"/tmp/avocado.csv\"\n",
    "n_estimators = 100\n",
    "max_features = \"auto\"\n",
    "ml_id = \"auto_100\"\n"
   ]
  },
  {
   "cell_type": "code",
   "execution_count": 5,
   "metadata": {
    "_uuid": "55d0e719eb8b91d763c1eacaf0f51ee0586486fc",
    "execution": {
     "iopub.execute_input": "2021-06-24T18:50:10.401902Z",
     "iopub.status.busy": "2021-06-24T18:50:10.401414Z",
     "iopub.status.idle": "2021-06-24T18:50:10.432557Z",
     "shell.execute_reply": "2021-06-24T18:50:10.433237Z"
    },
    "jupyter": {
     "source_hidden": true
    },
    "papermill": {
     "duration": 0.040402,
     "end_time": "2021-06-24T18:50:10.433495",
     "exception": false,
     "start_time": "2021-06-24T18:50:10.393093",
     "status": "completed"
    },
    "tags": []
   },
   "outputs": [],
   "source": [
    "df= pd.read_csv(filepath)"
   ]
  },
  {
   "cell_type": "markdown",
   "metadata": {
    "_uuid": "434e0457f550e2200424e5ec26162e1aa5904005",
    "papermill": {
     "duration": 0.005676,
     "end_time": "2021-06-24T18:50:10.444794",
     "exception": false,
     "start_time": "2021-06-24T18:50:10.439118",
     "status": "completed"
    },
    "tags": []
   },
   "source": [
    "The Feature \"Unnamed:0\" is just a representation of the indexes, so it's useless to keep it, lets remove it !"
   ]
  },
  {
   "cell_type": "code",
   "execution_count": 6,
   "metadata": {
    "_uuid": "9875398e37728dc3141fed4228be337a4735beb6",
    "execution": {
     "iopub.execute_input": "2021-06-24T18:50:10.462115Z",
     "iopub.status.busy": "2021-06-24T18:50:10.461480Z",
     "iopub.status.idle": "2021-06-24T18:50:10.464579Z",
     "shell.execute_reply": "2021-06-24T18:50:10.464154Z"
    },
    "jupyter": {
     "source_hidden": true
    },
    "papermill": {
     "duration": 0.01437,
     "end_time": "2021-06-24T18:50:10.464822",
     "exception": false,
     "start_time": "2021-06-24T18:50:10.450452",
     "status": "completed"
    },
    "tags": []
   },
   "outputs": [],
   "source": [
    "df.drop('Unnamed: 0',axis=1,inplace=True)"
   ]
  },
  {
   "cell_type": "markdown",
   "metadata": {
    "_uuid": "12e94ad381e4cb8d2c8a9bbe08ce07ab5d49c040",
    "papermill": {
     "duration": 0.005427,
     "end_time": "2021-06-24T18:50:10.475541",
     "exception": false,
     "start_time": "2021-06-24T18:50:10.470114",
     "status": "completed"
    },
    "tags": []
   },
   "source": [
    "well as a first observation we can see that we are lucky, we dont have any missing values (18249 complete data) and 13 columns.\n",
    "Now let's do some Feature Engineering on the Date Feature so we can be able to use the day and the month columns in building our machine learning model later. ( I didn't mention the year because its already there in data frame)"
   ]
  },
  {
   "cell_type": "code",
   "execution_count": 7,
   "metadata": {
    "_uuid": "f031639ce794656e877484d1c9c356df7028177f",
    "execution": {
     "iopub.execute_input": "2021-06-24T18:50:10.489810Z",
     "iopub.status.busy": "2021-06-24T18:50:10.489312Z",
     "iopub.status.idle": "2021-06-24T18:50:10.596684Z",
     "shell.execute_reply": "2021-06-24T18:50:10.597085Z"
    },
    "jupyter": {
     "source_hidden": true
    },
    "papermill": {
     "duration": 0.117213,
     "end_time": "2021-06-24T18:50:10.597298",
     "exception": false,
     "start_time": "2021-06-24T18:50:10.480085",
     "status": "completed"
    },
    "tags": []
   },
   "outputs": [],
   "source": [
    "df['Date']=pd.to_datetime(df['Date'])\n",
    "df['Month']=df['Date'].apply(lambda x:x.month)\n",
    "df['Day']=df['Date'].apply(lambda x:x.day)"
   ]
  },
  {
   "cell_type": "markdown",
   "metadata": {
    "_uuid": "ebdcac9924ce3e366fd3a75170682f7113385b7a",
    "papermill": {
     "duration": 0.004501,
     "end_time": "2021-06-24T18:50:10.607273",
     "exception": false,
     "start_time": "2021-06-24T18:50:10.602772",
     "status": "completed"
    },
    "tags": []
   },
   "source": [
    "as we can see we have 54 regions and 2 unique types, so it's going to be easy to to transform the type feature to dummies, but for the region its going to be a bit complexe so I decided to drop the entire column.\n",
    "I will drop the Date Feature as well because I already have 3 other columns for the Year, Month and Day."
   ]
  },
  {
   "cell_type": "code",
   "execution_count": 8,
   "metadata": {
    "_uuid": "a798682da34327b731ef262985fd50ba68e06460",
    "execution": {
     "iopub.execute_input": "2021-06-24T18:50:10.621403Z",
     "iopub.status.busy": "2021-06-24T18:50:10.620910Z",
     "iopub.status.idle": "2021-06-24T18:50:10.630377Z",
     "shell.execute_reply": "2021-06-24T18:50:10.629771Z"
    },
    "jupyter": {
     "source_hidden": true
    },
    "papermill": {
     "duration": 0.018787,
     "end_time": "2021-06-24T18:50:10.630557",
     "exception": false,
     "start_time": "2021-06-24T18:50:10.611770",
     "status": "completed"
    },
    "tags": []
   },
   "outputs": [],
   "source": [
    "df_final=pd.get_dummies(df.drop(['region','Date'],axis=1),drop_first=True)"
   ]
  },
  {
   "cell_type": "markdown",
   "metadata": {
    "_uuid": "8b74a6b88cb3e9b3e1d1e987e061048f203c7364",
    "papermill": {
     "duration": 0.00492,
     "end_time": "2021-06-24T18:50:10.640610",
     "exception": false,
     "start_time": "2021-06-24T18:50:10.635690",
     "status": "completed"
    },
    "tags": []
   },
   "source": [
    "Now our data are ready! lets apply our model which is going to be the Linear Regression because our Target variable 'AveragePrice'is continuous.\n",
    "Let's now begin to train out regression model! We will need to first split up our data into an X array that contains the features to train on, and a y array with the target variable"
   ]
  },
  {
   "cell_type": "code",
   "execution_count": 9,
   "metadata": {
    "_uuid": "830591f99de9715241e688bf9ce265e979401ff5",
    "execution": {
     "iopub.execute_input": "2021-06-24T18:50:10.655108Z",
     "iopub.status.busy": "2021-06-24T18:50:10.654590Z",
     "iopub.status.idle": "2021-06-24T18:50:10.663099Z",
     "shell.execute_reply": "2021-06-24T18:50:10.662636Z"
    },
    "jupyter": {
     "source_hidden": true
    },
    "papermill": {
     "duration": 0.018329,
     "end_time": "2021-06-24T18:50:10.663273",
     "exception": false,
     "start_time": "2021-06-24T18:50:10.644944",
     "status": "completed"
    },
    "tags": []
   },
   "outputs": [],
   "source": [
    "X=df_final.iloc[:,1:14]\n",
    "y=df_final['AveragePrice']\n",
    "from sklearn.model_selection import train_test_split\n",
    "X_train,X_test,y_train,y_test=train_test_split(X,y,test_size=0.2,random_state=42)"
   ]
  },
  {
   "cell_type": "markdown",
   "metadata": {
    "_uuid": "ea730c77a31cde9de98263079a189accb8b5772b",
    "papermill": {
     "duration": 0.004924,
     "end_time": "2021-06-24T18:50:10.674303",
     "exception": false,
     "start_time": "2021-06-24T18:50:10.669379",
     "status": "completed"
    },
    "tags": []
   },
   "source": [
    "Creating and Training the Model"
   ]
  },
  {
   "cell_type": "code",
   "execution_count": 10,
   "metadata": {
    "_uuid": "eb37015e78974e5fd2ae7e13d065c8ab0a9c6948",
    "execution": {
     "iopub.execute_input": "2021-06-24T18:50:10.691716Z",
     "iopub.status.busy": "2021-06-24T18:50:10.691137Z",
     "iopub.status.idle": "2021-06-24T18:50:18.338012Z",
     "shell.execute_reply": "2021-06-24T18:50:18.337624Z"
    },
    "jupyter": {
     "source_hidden": true
    },
    "papermill": {
     "duration": 7.65943,
     "end_time": "2021-06-24T18:50:18.338268",
     "exception": false,
     "start_time": "2021-06-24T18:50:10.678838",
     "status": "completed"
    },
    "tags": []
   },
   "outputs": [],
   "source": [
    "from sklearn.ensemble import RandomForestRegressor\n",
    "rdr = RandomForestRegressor(\n",
    "    n_estimators=n_estimators,\n",
    "    max_features=max_features\n",
    ")\n",
    "rdr.fit(X_train,y_train)\n",
    "pred=rdr.predict(X_test)"
   ]
  },
  {
   "cell_type": "code",
   "execution_count": 11,
   "metadata": {
    "_uuid": "7ed5b8d4e8abb44a4b548c13ac9fb2d65227d1c5",
    "execution": {
     "iopub.execute_input": "2021-06-24T18:50:18.353979Z",
     "iopub.status.busy": "2021-06-24T18:50:18.353370Z",
     "iopub.status.idle": "2021-06-24T18:50:18.356225Z",
     "shell.execute_reply": "2021-06-24T18:50:18.355739Z"
    },
    "jupyter": {
     "source_hidden": true
    },
    "papermill": {
     "duration": 0.011275,
     "end_time": "2021-06-24T18:50:18.356437",
     "exception": false,
     "start_time": "2021-06-24T18:50:18.345162",
     "status": "completed"
    },
    "tags": []
   },
   "outputs": [],
   "source": [
    "#%%capture cap --no-stderr\n",
    "#print(np.sqrt(mean_squared_error(y_test, pred)))"
   ]
  },
  {
   "cell_type": "code",
   "execution_count": 12,
   "metadata": {
    "execution": {
     "iopub.execute_input": "2021-06-24T18:50:18.371853Z",
     "iopub.status.busy": "2021-06-24T18:50:18.371173Z",
     "iopub.status.idle": "2021-06-24T18:50:18.374306Z",
     "shell.execute_reply": "2021-06-24T18:50:18.374713Z"
    },
    "jupyter": {
     "source_hidden": true
    },
    "papermill": {
     "duration": 0.012545,
     "end_time": "2021-06-24T18:50:18.375021",
     "exception": false,
     "start_time": "2021-06-24T18:50:18.362476",
     "status": "completed"
    },
    "tags": []
   },
   "outputs": [],
   "source": [
    "#with open(output_rmse, 'w') as f:\n",
    "#    f.write(cap.stdout)"
   ]
  },
  {
   "cell_type": "code",
   "execution_count": 13,
   "metadata": {
    "execution": {
     "iopub.execute_input": "2021-06-24T18:50:18.390365Z",
     "iopub.status.busy": "2021-06-24T18:50:18.389642Z",
     "iopub.status.idle": "2021-06-24T18:50:18.412505Z",
     "shell.execute_reply": "2021-06-24T18:50:18.412930Z"
    },
    "jupyter": {
     "source_hidden": true
    },
    "papermill": {
     "duration": 0.032737,
     "end_time": "2021-06-24T18:50:18.413203",
     "exception": false,
     "start_time": "2021-06-24T18:50:18.380466",
     "status": "completed"
    },
    "tags": []
   },
   "outputs": [
    {
     "data": {
      "text/plain": [
       "<sqlalchemy.engine.result.ResultProxy at 0x7feaf7783f90>"
      ]
     },
     "execution_count": 13,
     "metadata": {},
     "output_type": "execute_result"
    }
   ],
   "source": [
    "cnx.execute(\"\"\"\n",
    "    INSERT INTO ml.accuracies (ml_id, ml_date, accuracy) VALUES ('{0}', '{1}', {2}) \n",
    "    ON CONFLICT (ml_id, ml_date) \n",
    "    DO\n",
    "        UPDATE SET accuracy = {2};\n",
    "    \"\"\".format(ml_id, ml_date, np.sqrt(mean_squared_error(y_test, pred))))"
   ]
  }
 ],
 "metadata": {
  "kernelspec": {
   "display_name": "Python 3",
   "language": "python",
   "name": "python3"
  },
  "language_info": {
   "codemirror_mode": {
    "name": "ipython",
    "version": 3
   },
   "file_extension": ".py",
   "mimetype": "text/x-python",
   "name": "python",
   "nbconvert_exporter": "python",
   "pygments_lexer": "ipython3",
   "version": "3.7.10"
  },
  "papermill": {
   "duration": 10.188953,
   "end_time": "2021-06-24T18:50:18.728438",
   "environment_variables": {},
   "exception": null,
   "input_path": "/usr/local/airflow/include/notebooks/avocado_prediction.ipynb",
   "output_path": "/tmp/out-model-avocado-prediction-auto_100.ipynb",
   "parameters": {
    "filepath": "/tmp/avocado.csv",
    "max_features": "auto",
    "ml_id": "auto_100",
    "n_estimators": 100
   },
   "start_time": "2021-06-24T18:50:08.539485",
   "version": "2.1.2"
  }
 },
 "nbformat": 4,
 "nbformat_minor": 4
}