{
 "cells": [
  {
   "cell_type": "code",
   "execution_count": 1,
   "metadata": {
    "_cell_guid": "79c7e3d0-c299-4dcb-8224-4455121ee9b0",
    "_uuid": "d629ff2d2480ee46fbb7e2d37f6b5fab8052498a",
    "execution": {
     "iopub.execute_input": "2021-06-24T07:50:09.653659Z",
     "iopub.status.busy": "2021-06-24T07:50:09.653006Z",
     "iopub.status.idle": "2021-06-24T07:50:10.259109Z",
     "shell.execute_reply": "2021-06-24T07:50:10.259685Z"
    },
    "jupyter": {
     "source_hidden": true
    },
    "papermill": {
     "duration": 0.619111,
     "end_time": "2021-06-24T07:50:10.260100",
     "exception": false,
     "start_time": "2021-06-24T07:50:09.640989",
     "status": "completed"
    },
    "tags": []
   },
   "outputs": [],
   "source": [
    "import pandas as pd\n",
    "import numpy as np\n",
    "from sqlalchemy import create_engine\n",
    "from datetime import date\n",
    "from sklearn.metrics import mean_squared_error"
   ]
  },
  {
   "cell_type": "code",
   "execution_count": 2,
   "metadata": {
    "execution": {
     "iopub.execute_input": "2021-06-24T07:50:10.280532Z",
     "iopub.status.busy": "2021-06-24T07:50:10.278876Z",
     "iopub.status.idle": "2021-06-24T07:50:10.305194Z",
     "shell.execute_reply": "2021-06-24T07:50:10.304678Z"
    },
    "jupyter": {
     "source_hidden": true
    },
    "papermill": {
     "duration": 0.03832,
     "end_time": "2021-06-24T07:50:10.305447",
     "exception": false,
     "start_time": "2021-06-24T07:50:10.267127",
     "status": "completed"
    },
    "tags": []
   },
   "outputs": [],
   "source": [
    "# THIS IS PURELY FOR TEST PURPOSE NEVER DO THAT IN PRODUCTION\n",
    "POSTGRES_ADDRESS='postgres'\n",
    "POSTGRES_PORT='5432'\n",
    "POSTGRES_USERNAME='postgres'\n",
    "POSTGRES_PASSWORD='postgres'\n",
    "\n",
    "postgres_conn = 'postgresql://{0}:{1}@{2}:{3}/'.format(POSTGRES_USERNAME, POSTGRES_PASSWORD, POSTGRES_ADDRESS, POSTGRES_PORT)\n",
    "\n",
    "# Create the connection\n",
    "cnx = create_engine(postgres_conn)\n"
   ]
  },
  {
   "cell_type": "markdown",
   "metadata": {
    "_uuid": "1998755ef10683262b29765345cff1c1c7d10b15",
    "papermill": {
     "duration": 0.005324,
     "end_time": "2021-06-24T07:50:10.315977",
     "exception": false,
     "start_time": "2021-06-24T07:50:10.310653",
     "status": "completed"
    },
    "tags": []
   },
   "source": [
    "Read in the Avocado Prices csv file as a DataFrame called df"
   ]
  },
  {
   "cell_type": "code",
   "execution_count": 3,
   "metadata": {
    "execution": {
     "iopub.execute_input": "2021-06-24T07:50:10.330478Z",
     "iopub.status.busy": "2021-06-24T07:50:10.329827Z",
     "iopub.status.idle": "2021-06-24T07:50:10.333045Z",
     "shell.execute_reply": "2021-06-24T07:50:10.332458Z"
    },
    "jupyter": {
     "source_hidden": true
    },
    "papermill": {
     "duration": 0.012347,
     "end_time": "2021-06-24T07:50:10.333292",
     "exception": false,
     "start_time": "2021-06-24T07:50:10.320945",
     "status": "completed"
    },
    "tags": [
     "parameters"
    ]
   },
   "outputs": [],
   "source": [
    "# Parameterized\n",
    "\n",
    "filepath='avocado.csv'\n",
    "ml_id='auto_100'\n",
    "ml_date=date.today()\n",
    "n_estimators = 100\n",
    "max_features = 'auto'"
   ]
  },
  {
   "cell_type": "code",
   "execution_count": 4,
   "id": "fa7a4919",
   "metadata": {
    "execution": {
     "iopub.execute_input": "2021-06-24T07:50:10.349473Z",
     "iopub.status.busy": "2021-06-24T07:50:10.348410Z",
     "iopub.status.idle": "2021-06-24T07:50:10.351070Z",
     "shell.execute_reply": "2021-06-24T07:50:10.351803Z"
    },
    "jupyter": {
     "source_hidden": true
    },
    "papermill": {
     "duration": 0.013351,
     "end_time": "2021-06-24T07:50:10.352164",
     "exception": false,
     "start_time": "2021-06-24T07:50:10.338813",
     "status": "completed"
    },
    "tags": [
     "injected-parameters"
    ]
   },
   "outputs": [],
   "source": [
    "# Parameters\n",
    "filepath = \"/tmp/avocado.csv\"\n",
    "n_estimators = 100\n",
    "max_features = \"auto\"\n",
    "ml_id = \"auto_100\"\n"
   ]
  },
  {
   "cell_type": "code",
   "execution_count": 5,
   "metadata": {
    "_uuid": "55d0e719eb8b91d763c1eacaf0f51ee0586486fc",
    "execution": {
     "iopub.execute_input": "2021-06-24T07:50:10.367656Z",
     "iopub.status.busy": "2021-06-24T07:50:10.367125Z",
     "iopub.status.idle": "2021-06-24T07:50:10.394170Z",
     "shell.execute_reply": "2021-06-24T07:50:10.393732Z"
    },
    "jupyter": {
     "source_hidden": true
    },
    "papermill": {
     "duration": 0.036186,
     "end_time": "2021-06-24T07:50:10.394388",
     "exception": false,
     "start_time": "2021-06-24T07:50:10.358202",
     "status": "completed"
    },
    "tags": []
   },
   "outputs": [],
   "source": [
    "df= pd.read_csv(filepath)"
   ]
  },
  {
   "cell_type": "markdown",
   "metadata": {
    "_uuid": "434e0457f550e2200424e5ec26162e1aa5904005",
    "papermill": {
     "duration": 0.004738,
     "end_time": "2021-06-24T07:50:10.403972",
     "exception": false,
     "start_time": "2021-06-24T07:50:10.399234",
     "status": "completed"
    },
    "tags": []
   },
   "source": [
    "The Feature \"Unnamed:0\" is just a representation of the indexes, so it's useless to keep it, lets remove it !"
   ]
  },
  {
   "cell_type": "code",
   "execution_count": 6,
   "metadata": {
    "_uuid": "9875398e37728dc3141fed4228be337a4735beb6",
    "execution": {
     "iopub.execute_input": "2021-06-24T07:50:10.418438Z",
     "iopub.status.busy": "2021-06-24T07:50:10.417916Z",
     "iopub.status.idle": "2021-06-24T07:50:10.420797Z",
     "shell.execute_reply": "2021-06-24T07:50:10.420389Z"
    },
    "jupyter": {
     "source_hidden": true
    },
    "papermill": {
     "duration": 0.012147,
     "end_time": "2021-06-24T07:50:10.420960",
     "exception": false,
     "start_time": "2021-06-24T07:50:10.408813",
     "status": "completed"
    },
    "tags": []
   },
   "outputs": [],
   "source": [
    "df.drop('Unnamed: 0',axis=1,inplace=True)"
   ]
  },
  {
   "cell_type": "markdown",
   "metadata": {
    "_uuid": "12e94ad381e4cb8d2c8a9bbe08ce07ab5d49c040",
    "papermill": {
     "duration": 0.004589,
     "end_time": "2021-06-24T07:50:10.430175",
     "exception": false,
     "start_time": "2021-06-24T07:50:10.425586",
     "status": "completed"
    },
    "tags": []
   },
   "source": [
    "well as a first observation we can see that we are lucky, we dont have any missing values (18249 complete data) and 13 columns.\n",
    "Now let's do some Feature Engineering on the Date Feature so we can be able to use the day and the month columns in building our machine learning model later. ( I didn't mention the year because its already there in data frame)"
   ]
  },
  {
   "cell_type": "code",
   "execution_count": 7,
   "metadata": {
    "_uuid": "f031639ce794656e877484d1c9c356df7028177f",
    "execution": {
     "iopub.execute_input": "2021-06-24T07:50:10.443906Z",
     "iopub.status.busy": "2021-06-24T07:50:10.443420Z",
     "iopub.status.idle": "2021-06-24T07:50:10.546762Z",
     "shell.execute_reply": "2021-06-24T07:50:10.546364Z"
    },
    "jupyter": {
     "source_hidden": true
    },
    "papermill": {
     "duration": 0.11232,
     "end_time": "2021-06-24T07:50:10.546947",
     "exception": false,
     "start_time": "2021-06-24T07:50:10.434627",
     "status": "completed"
    },
    "tags": []
   },
   "outputs": [],
   "source": [
    "df['Date']=pd.to_datetime(df['Date'])\n",
    "df['Month']=df['Date'].apply(lambda x:x.month)\n",
    "df['Day']=df['Date'].apply(lambda x:x.day)"
   ]
  },
  {
   "cell_type": "markdown",
   "metadata": {
    "_uuid": "ebdcac9924ce3e366fd3a75170682f7113385b7a",
    "papermill": {
     "duration": 0.004869,
     "end_time": "2021-06-24T07:50:10.556614",
     "exception": false,
     "start_time": "2021-06-24T07:50:10.551745",
     "status": "completed"
    },
    "tags": []
   },
   "source": [
    "as we can see we have 54 regions and 2 unique types, so it's going to be easy to to transform the type feature to dummies, but for the region its going to be a bit complexe so I decided to drop the entire column.\n",
    "I will drop the Date Feature as well because I already have 3 other columns for the Year, Month and Day."
   ]
  },
  {
   "cell_type": "code",
   "execution_count": 8,
   "metadata": {
    "_uuid": "a798682da34327b731ef262985fd50ba68e06460",
    "execution": {
     "iopub.execute_input": "2021-06-24T07:50:10.569679Z",
     "iopub.status.busy": "2021-06-24T07:50:10.569162Z",
     "iopub.status.idle": "2021-06-24T07:50:10.577908Z",
     "shell.execute_reply": "2021-06-24T07:50:10.578250Z"
    },
    "jupyter": {
     "source_hidden": true
    },
    "papermill": {
     "duration": 0.017568,
     "end_time": "2021-06-24T07:50:10.578534",
     "exception": false,
     "start_time": "2021-06-24T07:50:10.560966",
     "status": "completed"
    },
    "tags": []
   },
   "outputs": [],
   "source": [
    "df_final=pd.get_dummies(df.drop(['region','Date'],axis=1),drop_first=True)"
   ]
  },
  {
   "cell_type": "markdown",
   "metadata": {
    "_uuid": "8b74a6b88cb3e9b3e1d1e987e061048f203c7364",
    "papermill": {
     "duration": 0.004704,
     "end_time": "2021-06-24T07:50:10.587723",
     "exception": false,
     "start_time": "2021-06-24T07:50:10.583019",
     "status": "completed"
    },
    "tags": []
   },
   "source": [
    "Now our data are ready! lets apply our model which is going to be the Linear Regression because our Target variable 'AveragePrice'is continuous.\n",
    "Let's now begin to train out regression model! We will need to first split up our data into an X array that contains the features to train on, and a y array with the target variable"
   ]
  },
  {
   "cell_type": "code",
   "execution_count": 9,
   "metadata": {
    "_uuid": "830591f99de9715241e688bf9ce265e979401ff5",
    "execution": {
     "iopub.execute_input": "2021-06-24T07:50:10.602446Z",
     "iopub.status.busy": "2021-06-24T07:50:10.601853Z",
     "iopub.status.idle": "2021-06-24T07:50:10.610751Z",
     "shell.execute_reply": "2021-06-24T07:50:10.611073Z"
    },
    "jupyter": {
     "source_hidden": true
    },
    "papermill": {
     "duration": 0.018235,
     "end_time": "2021-06-24T07:50:10.611265",
     "exception": false,
     "start_time": "2021-06-24T07:50:10.593030",
     "status": "completed"
    },
    "tags": []
   },
   "outputs": [],
   "source": [
    "X=df_final.iloc[:,1:14]\n",
    "y=df_final['AveragePrice']\n",
    "from sklearn.model_selection import train_test_split\n",
    "X_train,X_test,y_train,y_test=train_test_split(X,y,test_size=0.2,random_state=42)"
   ]
  },
  {
   "cell_type": "markdown",
   "metadata": {
    "_uuid": "ea730c77a31cde9de98263079a189accb8b5772b",
    "papermill": {
     "duration": 0.004618,
     "end_time": "2021-06-24T07:50:10.620645",
     "exception": false,
     "start_time": "2021-06-24T07:50:10.616027",
     "status": "completed"
    },
    "tags": []
   },
   "source": [
    "Creating and Training the Model"
   ]
  },
  {
   "cell_type": "code",
   "execution_count": 10,
   "metadata": {
    "_uuid": "eb37015e78974e5fd2ae7e13d065c8ab0a9c6948",
    "execution": {
     "iopub.execute_input": "2021-06-24T07:50:10.634042Z",
     "iopub.status.busy": "2021-06-24T07:50:10.633153Z",
     "iopub.status.idle": "2021-06-24T07:50:18.092589Z",
     "shell.execute_reply": "2021-06-24T07:50:18.091888Z"
    },
    "jupyter": {
     "source_hidden": true
    },
    "papermill": {
     "duration": 7.467405,
     "end_time": "2021-06-24T07:50:18.092798",
     "exception": false,
     "start_time": "2021-06-24T07:50:10.625393",
     "status": "completed"
    },
    "tags": []
   },
   "outputs": [],
   "source": [
    "from sklearn.ensemble import RandomForestRegressor\n",
    "rdr = RandomForestRegressor(\n",
    "    n_estimators=n_estimators,\n",
    "    max_features=max_features\n",
    ")\n",
    "rdr.fit(X_train,y_train)\n",
    "pred=rdr.predict(X_test)"
   ]
  },
  {
   "cell_type": "code",
   "execution_count": 11,
   "metadata": {
    "_uuid": "7ed5b8d4e8abb44a4b548c13ac9fb2d65227d1c5",
    "execution": {
     "iopub.execute_input": "2021-06-24T07:50:18.108457Z",
     "iopub.status.busy": "2021-06-24T07:50:18.107818Z",
     "iopub.status.idle": "2021-06-24T07:50:18.110946Z",
     "shell.execute_reply": "2021-06-24T07:50:18.110517Z"
    },
    "jupyter": {
     "source_hidden": true
    },
    "papermill": {
     "duration": 0.012086,
     "end_time": "2021-06-24T07:50:18.111144",
     "exception": false,
     "start_time": "2021-06-24T07:50:18.099058",
     "status": "completed"
    },
    "tags": []
   },
   "outputs": [],
   "source": [
    "#%%capture cap --no-stderr\n",
    "#print(np.sqrt(mean_squared_error(y_test, pred)))"
   ]
  },
  {
   "cell_type": "code",
   "execution_count": 12,
   "metadata": {
    "execution": {
     "iopub.execute_input": "2021-06-24T07:50:18.126602Z",
     "iopub.status.busy": "2021-06-24T07:50:18.125968Z",
     "iopub.status.idle": "2021-06-24T07:50:18.129337Z",
     "shell.execute_reply": "2021-06-24T07:50:18.128848Z"
    },
    "jupyter": {
     "source_hidden": true
    },
    "papermill": {
     "duration": 0.012343,
     "end_time": "2021-06-24T07:50:18.129541",
     "exception": false,
     "start_time": "2021-06-24T07:50:18.117198",
     "status": "completed"
    },
    "tags": []
   },
   "outputs": [],
   "source": [
    "#with open(output_rmse, 'w') as f:\n",
    "#    f.write(cap.stdout)"
   ]
  },
  {
   "cell_type": "code",
   "execution_count": 13,
   "metadata": {
    "execution": {
     "iopub.execute_input": "2021-06-24T07:50:18.146732Z",
     "iopub.status.busy": "2021-06-24T07:50:18.145615Z",
     "iopub.status.idle": "2021-06-24T07:50:18.165588Z",
     "shell.execute_reply": "2021-06-24T07:50:18.165979Z"
    },
    "jupyter": {
     "source_hidden": true
    },
    "papermill": {
     "duration": 0.031019,
     "end_time": "2021-06-24T07:50:18.166212",
     "exception": false,
     "start_time": "2021-06-24T07:50:18.135193",
     "status": "completed"
    },
    "tags": []
   },
   "outputs": [
    {
     "data": {
      "text/plain": [
       "<sqlalchemy.engine.result.ResultProxy at 0x7f0b5684bf10>"
      ]
     },
     "execution_count": 13,
     "metadata": {},
     "output_type": "execute_result"
    }
   ],
   "source": [
    "cnx.execute(\"\"\"\n",
    "    INSERT INTO ml.accuracies (ml_id, ml_date, accuracy) VALUES ('{0}', '{1}', {2}) \n",
    "    ON CONFLICT (ml_id, ml_date) \n",
    "    DO\n",
    "        UPDATE SET accuracy = {2};\n",
    "    \"\"\".format(ml_id, ml_date, np.sqrt(mean_squared_error(y_test, pred))))"
   ]
  }
 ],
 "metadata": {
  "kernelspec": {
   "display_name": "Python 3",
   "language": "python",
   "name": "python3"
  },
  "language_info": {
   "codemirror_mode": {
    "name": "ipython",
    "version": 3
   },
   "file_extension": ".py",
   "mimetype": "text/x-python",
   "name": "python",
   "nbconvert_exporter": "python",
   "pygments_lexer": "ipython3",
   "version": "3.7.10"
  },
  "papermill": {
   "duration": 10.042648,
   "end_time": "2021-06-24T07:50:18.583471",
   "environment_variables": {},
   "exception": null,
   "input_path": "/usr/local/airflow/include/notebooks/avocado_prediction.ipynb",
   "output_path": "/tmp/out-model-avocado-prediction-auto_100.ipynb",
   "parameters": {
    "filepath": "/tmp/avocado.csv",
    "max_features": "auto",
    "ml_id": "auto_100",
    "n_estimators": 100
   },
   "start_time": "2021-06-24T07:50:08.540823",
   "version": "2.1.2"
  }
 },
 "nbformat": 4,
 "nbformat_minor": 4
}