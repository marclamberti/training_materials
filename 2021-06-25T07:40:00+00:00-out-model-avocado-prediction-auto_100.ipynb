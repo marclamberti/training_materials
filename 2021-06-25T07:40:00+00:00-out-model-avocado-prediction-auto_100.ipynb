{
 "cells": [
  {
   "cell_type": "code",
   "execution_count": 1,
   "metadata": {
    "_cell_guid": "79c7e3d0-c299-4dcb-8224-4455121ee9b0",
    "_uuid": "d629ff2d2480ee46fbb7e2d37f6b5fab8052498a",
    "execution": {
     "iopub.execute_input": "2021-06-25T07:50:09.276535Z",
     "iopub.status.busy": "2021-06-25T07:50:09.275748Z",
     "iopub.status.idle": "2021-06-25T07:50:09.900449Z",
     "shell.execute_reply": "2021-06-25T07:50:09.899764Z"
    },
    "jupyter": {
     "source_hidden": true
    },
    "papermill": {
     "duration": 0.638878,
     "end_time": "2021-06-25T07:50:09.900774",
     "exception": false,
     "start_time": "2021-06-25T07:50:09.261896",
     "status": "completed"
    },
    "tags": []
   },
   "outputs": [],
   "source": [
    "import pandas as pd\n",
    "import numpy as np\n",
    "from sqlalchemy import create_engine\n",
    "from datetime import date\n",
    "from sklearn.metrics import mean_squared_error"
   ]
  },
  {
   "cell_type": "code",
   "execution_count": 2,
   "metadata": {
    "execution": {
     "iopub.execute_input": "2021-06-25T07:50:09.919991Z",
     "iopub.status.busy": "2021-06-25T07:50:09.919245Z",
     "iopub.status.idle": "2021-06-25T07:50:09.945968Z",
     "shell.execute_reply": "2021-06-25T07:50:09.945245Z"
    },
    "jupyter": {
     "source_hidden": true
    },
    "papermill": {
     "duration": 0.038367,
     "end_time": "2021-06-25T07:50:09.946182",
     "exception": false,
     "start_time": "2021-06-25T07:50:09.907815",
     "status": "completed"
    },
    "tags": []
   },
   "outputs": [],
   "source": [
    "# THIS IS PURELY FOR TEST PURPOSE NEVER DO THAT IN PRODUCTION\n",
    "POSTGRES_ADDRESS='postgres'\n",
    "POSTGRES_PORT='5432'\n",
    "POSTGRES_USERNAME='postgres'\n",
    "POSTGRES_PASSWORD='postgres'\n",
    "\n",
    "postgres_conn = 'postgresql://{0}:{1}@{2}:{3}/'.format(POSTGRES_USERNAME, POSTGRES_PASSWORD, POSTGRES_ADDRESS, POSTGRES_PORT)\n",
    "\n",
    "# Create the connection\n",
    "cnx = create_engine(postgres_conn)\n"
   ]
  },
  {
   "cell_type": "markdown",
   "metadata": {
    "_uuid": "1998755ef10683262b29765345cff1c1c7d10b15",
    "papermill": {
     "duration": 0.005275,
     "end_time": "2021-06-25T07:50:09.956791",
     "exception": false,
     "start_time": "2021-06-25T07:50:09.951516",
     "status": "completed"
    },
    "tags": []
   },
   "source": [
    "Read in the Avocado Prices csv file as a DataFrame called df"
   ]
  },
  {
   "cell_type": "code",
   "execution_count": 3,
   "metadata": {
    "execution": {
     "iopub.execute_input": "2021-06-25T07:50:09.971639Z",
     "iopub.status.busy": "2021-06-25T07:50:09.970999Z",
     "iopub.status.idle": "2021-06-25T07:50:09.974163Z",
     "shell.execute_reply": "2021-06-25T07:50:09.973689Z"
    },
    "jupyter": {
     "source_hidden": true
    },
    "papermill": {
     "duration": 0.012415,
     "end_time": "2021-06-25T07:50:09.974367",
     "exception": false,
     "start_time": "2021-06-25T07:50:09.961952",
     "status": "completed"
    },
    "tags": [
     "parameters"
    ]
   },
   "outputs": [],
   "source": [
    "# Parameterized\n",
    "\n",
    "filepath='avocado.csv'\n",
    "ml_id='auto_100'\n",
    "ml_date=date.today()\n",
    "n_estimators = 100\n",
    "max_features = 'auto'"
   ]
  },
  {
   "cell_type": "code",
   "execution_count": 4,
   "id": "dc022ba6",
   "metadata": {
    "execution": {
     "iopub.execute_input": "2021-06-25T07:50:09.988688Z",
     "iopub.status.busy": "2021-06-25T07:50:09.988128Z",
     "iopub.status.idle": "2021-06-25T07:50:09.991034Z",
     "shell.execute_reply": "2021-06-25T07:50:09.990677Z"
    },
    "jupyter": {
     "source_hidden": true
    },
    "papermill": {
     "duration": 0.011325,
     "end_time": "2021-06-25T07:50:09.991203",
     "exception": false,
     "start_time": "2021-06-25T07:50:09.979878",
     "status": "completed"
    },
    "tags": [
     "injected-parameters"
    ]
   },
   "outputs": [],
   "source": [
    "# Parameters\n",
    "filepath = \"/tmp/avocado.csv\"\n",
    "n_estimators = 100\n",
    "max_features = \"auto\"\n",
    "ml_id = \"auto_100\"\n"
   ]
  },
  {
   "cell_type": "code",
   "execution_count": 5,
   "metadata": {
    "_uuid": "55d0e719eb8b91d763c1eacaf0f51ee0586486fc",
    "execution": {
     "iopub.execute_input": "2021-06-25T07:50:10.004308Z",
     "iopub.status.busy": "2021-06-25T07:50:10.003473Z",
     "iopub.status.idle": "2021-06-25T07:50:10.029228Z",
     "shell.execute_reply": "2021-06-25T07:50:10.029579Z"
    },
    "jupyter": {
     "source_hidden": true
    },
    "papermill": {
     "duration": 0.034083,
     "end_time": "2021-06-25T07:50:10.029865",
     "exception": false,
     "start_time": "2021-06-25T07:50:09.995782",
     "status": "completed"
    },
    "tags": []
   },
   "outputs": [],
   "source": [
    "df= pd.read_csv(filepath)"
   ]
  },
  {
   "cell_type": "markdown",
   "metadata": {
    "_uuid": "434e0457f550e2200424e5ec26162e1aa5904005",
    "papermill": {
     "duration": 0.005063,
     "end_time": "2021-06-25T07:50:10.039781",
     "exception": false,
     "start_time": "2021-06-25T07:50:10.034718",
     "status": "completed"
    },
    "tags": []
   },
   "source": [
    "The Feature \"Unnamed:0\" is just a representation of the indexes, so it's useless to keep it, lets remove it !"
   ]
  },
  {
   "cell_type": "code",
   "execution_count": 6,
   "metadata": {
    "_uuid": "9875398e37728dc3141fed4228be337a4735beb6",
    "execution": {
     "iopub.execute_input": "2021-06-25T07:50:10.054259Z",
     "iopub.status.busy": "2021-06-25T07:50:10.053771Z",
     "iopub.status.idle": "2021-06-25T07:50:10.056754Z",
     "shell.execute_reply": "2021-06-25T07:50:10.057143Z"
    },
    "jupyter": {
     "source_hidden": true
    },
    "papermill": {
     "duration": 0.012949,
     "end_time": "2021-06-25T07:50:10.057340",
     "exception": false,
     "start_time": "2021-06-25T07:50:10.044391",
     "status": "completed"
    },
    "tags": []
   },
   "outputs": [],
   "source": [
    "df.drop('Unnamed: 0',axis=1,inplace=True)"
   ]
  },
  {
   "cell_type": "markdown",
   "metadata": {
    "_uuid": "12e94ad381e4cb8d2c8a9bbe08ce07ab5d49c040",
    "papermill": {
     "duration": 0.00466,
     "end_time": "2021-06-25T07:50:10.066931",
     "exception": false,
     "start_time": "2021-06-25T07:50:10.062271",
     "status": "completed"
    },
    "tags": []
   },
   "source": [
    "well as a first observation we can see that we are lucky, we dont have any missing values (18249 complete data) and 13 columns.\n",
    "Now let's do some Feature Engineering on the Date Feature so we can be able to use the day and the month columns in building our machine learning model later. ( I didn't mention the year because its already there in data frame)"
   ]
  },
  {
   "cell_type": "code",
   "execution_count": 7,
   "metadata": {
    "_uuid": "f031639ce794656e877484d1c9c356df7028177f",
    "execution": {
     "iopub.execute_input": "2021-06-25T07:50:10.081487Z",
     "iopub.status.busy": "2021-06-25T07:50:10.081014Z",
     "iopub.status.idle": "2021-06-25T07:50:10.181072Z",
     "shell.execute_reply": "2021-06-25T07:50:10.180558Z"
    },
    "jupyter": {
     "source_hidden": true
    },
    "papermill": {
     "duration": 0.10993,
     "end_time": "2021-06-25T07:50:10.181237",
     "exception": false,
     "start_time": "2021-06-25T07:50:10.071307",
     "status": "completed"
    },
    "tags": []
   },
   "outputs": [],
   "source": [
    "df['Date']=pd.to_datetime(df['Date'])\n",
    "df['Month']=df['Date'].apply(lambda x:x.month)\n",
    "df['Day']=df['Date'].apply(lambda x:x.day)"
   ]
  },
  {
   "cell_type": "markdown",
   "metadata": {
    "_uuid": "ebdcac9924ce3e366fd3a75170682f7113385b7a",
    "papermill": {
     "duration": 0.00663,
     "end_time": "2021-06-25T07:50:10.192617",
     "exception": false,
     "start_time": "2021-06-25T07:50:10.185987",
     "status": "completed"
    },
    "tags": []
   },
   "source": [
    "as we can see we have 54 regions and 2 unique types, so it's going to be easy to to transform the type feature to dummies, but for the region its going to be a bit complexe so I decided to drop the entire column.\n",
    "I will drop the Date Feature as well because I already have 3 other columns for the Year, Month and Day."
   ]
  },
  {
   "cell_type": "code",
   "execution_count": 8,
   "metadata": {
    "_uuid": "a798682da34327b731ef262985fd50ba68e06460",
    "execution": {
     "iopub.execute_input": "2021-06-25T07:50:10.208037Z",
     "iopub.status.busy": "2021-06-25T07:50:10.207565Z",
     "iopub.status.idle": "2021-06-25T07:50:10.217349Z",
     "shell.execute_reply": "2021-06-25T07:50:10.216985Z"
    },
    "jupyter": {
     "source_hidden": true
    },
    "papermill": {
     "duration": 0.019489,
     "end_time": "2021-06-25T07:50:10.217517",
     "exception": false,
     "start_time": "2021-06-25T07:50:10.198028",
     "status": "completed"
    },
    "tags": []
   },
   "outputs": [],
   "source": [
    "df_final=pd.get_dummies(df.drop(['region','Date'],axis=1),drop_first=True)"
   ]
  },
  {
   "cell_type": "markdown",
   "metadata": {
    "_uuid": "8b74a6b88cb3e9b3e1d1e987e061048f203c7364",
    "papermill": {
     "duration": 0.005218,
     "end_time": "2021-06-25T07:50:10.227601",
     "exception": false,
     "start_time": "2021-06-25T07:50:10.222383",
     "status": "completed"
    },
    "tags": []
   },
   "source": [
    "Now our data are ready! lets apply our model which is going to be the Linear Regression because our Target variable 'AveragePrice'is continuous.\n",
    "Let's now begin to train out regression model! We will need to first split up our data into an X array that contains the features to train on, and a y array with the target variable"
   ]
  },
  {
   "cell_type": "code",
   "execution_count": 9,
   "metadata": {
    "_uuid": "830591f99de9715241e688bf9ce265e979401ff5",
    "execution": {
     "iopub.execute_input": "2021-06-25T07:50:10.242162Z",
     "iopub.status.busy": "2021-06-25T07:50:10.241556Z",
     "iopub.status.idle": "2021-06-25T07:50:10.252777Z",
     "shell.execute_reply": "2021-06-25T07:50:10.252310Z"
    },
    "jupyter": {
     "source_hidden": true
    },
    "papermill": {
     "duration": 0.020551,
     "end_time": "2021-06-25T07:50:10.252964",
     "exception": false,
     "start_time": "2021-06-25T07:50:10.232413",
     "status": "completed"
    },
    "tags": []
   },
   "outputs": [],
   "source": [
    "X=df_final.iloc[:,1:14]\n",
    "y=df_final['AveragePrice']\n",
    "from sklearn.model_selection import train_test_split\n",
    "X_train,X_test,y_train,y_test=train_test_split(X,y,test_size=0.2,random_state=42)"
   ]
  },
  {
   "cell_type": "markdown",
   "metadata": {
    "_uuid": "ea730c77a31cde9de98263079a189accb8b5772b",
    "papermill": {
     "duration": 0.005324,
     "end_time": "2021-06-25T07:50:10.263498",
     "exception": false,
     "start_time": "2021-06-25T07:50:10.258174",
     "status": "completed"
    },
    "tags": []
   },
   "source": [
    "Creating and Training the Model"
   ]
  },
  {
   "cell_type": "code",
   "execution_count": 10,
   "metadata": {
    "_uuid": "eb37015e78974e5fd2ae7e13d065c8ab0a9c6948",
    "execution": {
     "iopub.execute_input": "2021-06-25T07:50:10.278572Z",
     "iopub.status.busy": "2021-06-25T07:50:10.277887Z",
     "iopub.status.idle": "2021-06-25T07:50:17.757607Z",
     "shell.execute_reply": "2021-06-25T07:50:17.757111Z"
    },
    "jupyter": {
     "source_hidden": true
    },
    "papermill": {
     "duration": 7.489851,
     "end_time": "2021-06-25T07:50:17.757820",
     "exception": false,
     "start_time": "2021-06-25T07:50:10.267969",
     "status": "completed"
    },
    "tags": []
   },
   "outputs": [],
   "source": [
    "from sklearn.ensemble import RandomForestRegressor\n",
    "rdr = RandomForestRegressor(\n",
    "    n_estimators=n_estimators,\n",
    "    max_features=max_features\n",
    ")\n",
    "rdr.fit(X_train,y_train)\n",
    "pred=rdr.predict(X_test)"
   ]
  },
  {
   "cell_type": "code",
   "execution_count": 11,
   "metadata": {
    "_uuid": "7ed5b8d4e8abb44a4b548c13ac9fb2d65227d1c5",
    "execution": {
     "iopub.execute_input": "2021-06-25T07:50:17.773277Z",
     "iopub.status.busy": "2021-06-25T07:50:17.772630Z",
     "iopub.status.idle": "2021-06-25T07:50:17.775562Z",
     "shell.execute_reply": "2021-06-25T07:50:17.775130Z"
    },
    "jupyter": {
     "source_hidden": true
    },
    "papermill": {
     "duration": 0.01202,
     "end_time": "2021-06-25T07:50:17.775764",
     "exception": false,
     "start_time": "2021-06-25T07:50:17.763744",
     "status": "completed"
    },
    "tags": []
   },
   "outputs": [],
   "source": [
    "#%%capture cap --no-stderr\n",
    "#print(np.sqrt(mean_squared_error(y_test, pred)))"
   ]
  },
  {
   "cell_type": "code",
   "execution_count": 12,
   "metadata": {
    "execution": {
     "iopub.execute_input": "2021-06-25T07:50:17.791182Z",
     "iopub.status.busy": "2021-06-25T07:50:17.790552Z",
     "iopub.status.idle": "2021-06-25T07:50:17.793468Z",
     "shell.execute_reply": "2021-06-25T07:50:17.793046Z"
    },
    "jupyter": {
     "source_hidden": true
    },
    "papermill": {
     "duration": 0.012188,
     "end_time": "2021-06-25T07:50:17.793664",
     "exception": false,
     "start_time": "2021-06-25T07:50:17.781476",
     "status": "completed"
    },
    "tags": []
   },
   "outputs": [],
   "source": [
    "#with open(output_rmse, 'w') as f:\n",
    "#    f.write(cap.stdout)"
   ]
  },
  {
   "cell_type": "code",
   "execution_count": 13,
   "metadata": {
    "execution": {
     "iopub.execute_input": "2021-06-25T07:50:17.810394Z",
     "iopub.status.busy": "2021-06-25T07:50:17.809832Z",
     "iopub.status.idle": "2021-06-25T07:50:17.830184Z",
     "shell.execute_reply": "2021-06-25T07:50:17.829509Z"
    },
    "jupyter": {
     "source_hidden": true
    },
    "papermill": {
     "duration": 0.031006,
     "end_time": "2021-06-25T07:50:17.830386",
     "exception": false,
     "start_time": "2021-06-25T07:50:17.799380",
     "status": "completed"
    },
    "tags": []
   },
   "outputs": [
    {
     "data": {
      "text/plain": [
       "<sqlalchemy.engine.result.ResultProxy at 0x7f14ef843f10>"
      ]
     },
     "execution_count": 13,
     "metadata": {},
     "output_type": "execute_result"
    }
   ],
   "source": [
    "cnx.execute(\"\"\"\n",
    "    INSERT INTO ml.accuracies (ml_id, ml_date, accuracy) VALUES ('{0}', '{1}', {2}) \n",
    "    ON CONFLICT (ml_id, ml_date) \n",
    "    DO\n",
    "        UPDATE SET accuracy = {2};\n",
    "    \"\"\".format(ml_id, ml_date, np.sqrt(mean_squared_error(y_test, pred))))"
   ]
  }
 ],
 "metadata": {
  "kernelspec": {
   "display_name": "Python 3",
   "language": "python",
   "name": "python3"
  },
  "language_info": {
   "codemirror_mode": {
    "name": "ipython",
    "version": 3
   },
   "file_extension": ".py",
   "mimetype": "text/x-python",
   "name": "python",
   "nbconvert_exporter": "python",
   "pygments_lexer": "ipython3",
   "version": "3.7.10"
  },
  "papermill": {
   "duration": 10.093487,
   "end_time": "2021-06-25T07:50:18.246261",
   "environment_variables": {},
   "exception": null,
   "input_path": "/usr/local/airflow/include/notebooks/avocado_prediction.ipynb",
   "output_path": "/tmp/out-model-avocado-prediction-auto_100.ipynb",
   "parameters": {
    "filepath": "/tmp/avocado.csv",
    "max_features": "auto",
    "ml_id": "auto_100",
    "n_estimators": 100
   },
   "start_time": "2021-06-25T07:50:08.152774",
   "version": "2.1.2"
  }
 },
 "nbformat": 4,
 "nbformat_minor": 4
}