{
 "cells": [
  {
   "cell_type": "code",
   "execution_count": 1,
   "metadata": {
    "_cell_guid": "79c7e3d0-c299-4dcb-8224-4455121ee9b0",
    "_uuid": "d629ff2d2480ee46fbb7e2d37f6b5fab8052498a",
    "execution": {
     "iopub.execute_input": "2021-06-24T16:00:09.064836Z",
     "iopub.status.busy": "2021-06-24T16:00:09.063859Z",
     "iopub.status.idle": "2021-06-24T16:00:09.771756Z",
     "shell.execute_reply": "2021-06-24T16:00:09.771027Z"
    },
    "jupyter": {
     "source_hidden": true
    },
    "papermill": {
     "duration": 0.718931,
     "end_time": "2021-06-24T16:00:09.772031",
     "exception": false,
     "start_time": "2021-06-24T16:00:09.053100",
     "status": "completed"
    },
    "tags": []
   },
   "outputs": [],
   "source": [
    "import pandas as pd\n",
    "import numpy as np\n",
    "from sqlalchemy import create_engine\n",
    "from datetime import date\n",
    "from sklearn.metrics import mean_squared_error"
   ]
  },
  {
   "cell_type": "code",
   "execution_count": 2,
   "metadata": {
    "execution": {
     "iopub.execute_input": "2021-06-24T16:00:09.791306Z",
     "iopub.status.busy": "2021-06-24T16:00:09.790576Z",
     "iopub.status.idle": "2021-06-24T16:00:09.817821Z",
     "shell.execute_reply": "2021-06-24T16:00:09.817146Z"
    },
    "jupyter": {
     "source_hidden": true
    },
    "papermill": {
     "duration": 0.039003,
     "end_time": "2021-06-24T16:00:09.818024",
     "exception": false,
     "start_time": "2021-06-24T16:00:09.779021",
     "status": "completed"
    },
    "tags": []
   },
   "outputs": [],
   "source": [
    "# THIS IS PURELY FOR TEST PURPOSE NEVER DO THAT IN PRODUCTION\n",
    "POSTGRES_ADDRESS='postgres'\n",
    "POSTGRES_PORT='5432'\n",
    "POSTGRES_USERNAME='postgres'\n",
    "POSTGRES_PASSWORD='postgres'\n",
    "\n",
    "postgres_conn = 'postgresql://{0}:{1}@{2}:{3}/'.format(POSTGRES_USERNAME, POSTGRES_PASSWORD, POSTGRES_ADDRESS, POSTGRES_PORT)\n",
    "\n",
    "# Create the connection\n",
    "cnx = create_engine(postgres_conn)\n"
   ]
  },
  {
   "cell_type": "markdown",
   "metadata": {
    "_uuid": "1998755ef10683262b29765345cff1c1c7d10b15",
    "papermill": {
     "duration": 0.005214,
     "end_time": "2021-06-24T16:00:09.828374",
     "exception": false,
     "start_time": "2021-06-24T16:00:09.823160",
     "status": "completed"
    },
    "tags": []
   },
   "source": [
    "Read in the Avocado Prices csv file as a DataFrame called df"
   ]
  },
  {
   "cell_type": "code",
   "execution_count": 3,
   "metadata": {
    "execution": {
     "iopub.execute_input": "2021-06-24T16:00:09.843046Z",
     "iopub.status.busy": "2021-06-24T16:00:09.842405Z",
     "iopub.status.idle": "2021-06-24T16:00:09.845689Z",
     "shell.execute_reply": "2021-06-24T16:00:09.845018Z"
    },
    "jupyter": {
     "source_hidden": true
    },
    "papermill": {
     "duration": 0.012406,
     "end_time": "2021-06-24T16:00:09.845895",
     "exception": false,
     "start_time": "2021-06-24T16:00:09.833489",
     "status": "completed"
    },
    "tags": [
     "parameters"
    ]
   },
   "outputs": [],
   "source": [
    "# Parameterized\n",
    "\n",
    "filepath='avocado.csv'\n",
    "ml_id='auto_100'\n",
    "ml_date=date.today()\n",
    "n_estimators = 100\n",
    "max_features = 'auto'"
   ]
  },
  {
   "cell_type": "code",
   "execution_count": 4,
   "id": "031e5d3e",
   "metadata": {
    "execution": {
     "iopub.execute_input": "2021-06-24T16:00:09.860883Z",
     "iopub.status.busy": "2021-06-24T16:00:09.860250Z",
     "iopub.status.idle": "2021-06-24T16:00:09.863390Z",
     "shell.execute_reply": "2021-06-24T16:00:09.862923Z"
    },
    "jupyter": {
     "source_hidden": true
    },
    "papermill": {
     "duration": 0.012123,
     "end_time": "2021-06-24T16:00:09.863596",
     "exception": false,
     "start_time": "2021-06-24T16:00:09.851473",
     "status": "completed"
    },
    "tags": [
     "injected-parameters"
    ]
   },
   "outputs": [],
   "source": [
    "# Parameters\n",
    "filepath = \"/tmp/avocado.csv\"\n",
    "n_estimators = 100\n",
    "max_features = \"auto\"\n",
    "ml_id = \"auto_100\"\n"
   ]
  },
  {
   "cell_type": "code",
   "execution_count": 5,
   "metadata": {
    "_uuid": "55d0e719eb8b91d763c1eacaf0f51ee0586486fc",
    "execution": {
     "iopub.execute_input": "2021-06-24T16:00:09.881244Z",
     "iopub.status.busy": "2021-06-24T16:00:09.880460Z",
     "iopub.status.idle": "2021-06-24T16:00:09.911728Z",
     "shell.execute_reply": "2021-06-24T16:00:09.912314Z"
    },
    "jupyter": {
     "source_hidden": true
    },
    "papermill": {
     "duration": 0.042879,
     "end_time": "2021-06-24T16:00:09.912651",
     "exception": false,
     "start_time": "2021-06-24T16:00:09.869772",
     "status": "completed"
    },
    "tags": []
   },
   "outputs": [],
   "source": [
    "df= pd.read_csv(filepath)"
   ]
  },
  {
   "cell_type": "markdown",
   "metadata": {
    "_uuid": "434e0457f550e2200424e5ec26162e1aa5904005",
    "papermill": {
     "duration": 0.005816,
     "end_time": "2021-06-24T16:00:09.925216",
     "exception": false,
     "start_time": "2021-06-24T16:00:09.919400",
     "status": "completed"
    },
    "tags": []
   },
   "source": [
    "The Feature \"Unnamed:0\" is just a representation of the indexes, so it's useless to keep it, lets remove it !"
   ]
  },
  {
   "cell_type": "code",
   "execution_count": 6,
   "metadata": {
    "_uuid": "9875398e37728dc3141fed4228be337a4735beb6",
    "execution": {
     "iopub.execute_input": "2021-06-24T16:00:09.946258Z",
     "iopub.status.busy": "2021-06-24T16:00:09.945654Z",
     "iopub.status.idle": "2021-06-24T16:00:09.949016Z",
     "shell.execute_reply": "2021-06-24T16:00:09.948268Z"
    },
    "jupyter": {
     "source_hidden": true
    },
    "papermill": {
     "duration": 0.018266,
     "end_time": "2021-06-24T16:00:09.949266",
     "exception": false,
     "start_time": "2021-06-24T16:00:09.931000",
     "status": "completed"
    },
    "tags": []
   },
   "outputs": [],
   "source": [
    "df.drop('Unnamed: 0',axis=1,inplace=True)"
   ]
  },
  {
   "cell_type": "markdown",
   "metadata": {
    "_uuid": "12e94ad381e4cb8d2c8a9bbe08ce07ab5d49c040",
    "papermill": {
     "duration": 0.006067,
     "end_time": "2021-06-24T16:00:09.961378",
     "exception": false,
     "start_time": "2021-06-24T16:00:09.955311",
     "status": "completed"
    },
    "tags": []
   },
   "source": [
    "well as a first observation we can see that we are lucky, we dont have any missing values (18249 complete data) and 13 columns.\n",
    "Now let's do some Feature Engineering on the Date Feature so we can be able to use the day and the month columns in building our machine learning model later. ( I didn't mention the year because its already there in data frame)"
   ]
  },
  {
   "cell_type": "code",
   "execution_count": 7,
   "metadata": {
    "_uuid": "f031639ce794656e877484d1c9c356df7028177f",
    "execution": {
     "iopub.execute_input": "2021-06-24T16:00:09.980583Z",
     "iopub.status.busy": "2021-06-24T16:00:09.979969Z",
     "iopub.status.idle": "2021-06-24T16:00:10.108788Z",
     "shell.execute_reply": "2021-06-24T16:00:10.109183Z"
    },
    "jupyter": {
     "source_hidden": true
    },
    "papermill": {
     "duration": 0.141327,
     "end_time": "2021-06-24T16:00:10.109415",
     "exception": false,
     "start_time": "2021-06-24T16:00:09.968088",
     "status": "completed"
    },
    "tags": []
   },
   "outputs": [],
   "source": [
    "df['Date']=pd.to_datetime(df['Date'])\n",
    "df['Month']=df['Date'].apply(lambda x:x.month)\n",
    "df['Day']=df['Date'].apply(lambda x:x.day)"
   ]
  },
  {
   "cell_type": "markdown",
   "metadata": {
    "_uuid": "ebdcac9924ce3e366fd3a75170682f7113385b7a",
    "papermill": {
     "duration": 0.005956,
     "end_time": "2021-06-24T16:00:10.121001",
     "exception": false,
     "start_time": "2021-06-24T16:00:10.115045",
     "status": "completed"
    },
    "tags": []
   },
   "source": [
    "as we can see we have 54 regions and 2 unique types, so it's going to be easy to to transform the type feature to dummies, but for the region its going to be a bit complexe so I decided to drop the entire column.\n",
    "I will drop the Date Feature as well because I already have 3 other columns for the Year, Month and Day."
   ]
  },
  {
   "cell_type": "code",
   "execution_count": 8,
   "metadata": {
    "_uuid": "a798682da34327b731ef262985fd50ba68e06460",
    "execution": {
     "iopub.execute_input": "2021-06-24T16:00:10.145564Z",
     "iopub.status.busy": "2021-06-24T16:00:10.144956Z",
     "iopub.status.idle": "2021-06-24T16:00:10.150065Z",
     "shell.execute_reply": "2021-06-24T16:00:10.149511Z"
    },
    "jupyter": {
     "source_hidden": true
    },
    "papermill": {
     "duration": 0.023598,
     "end_time": "2021-06-24T16:00:10.150280",
     "exception": false,
     "start_time": "2021-06-24T16:00:10.126682",
     "status": "completed"
    },
    "tags": []
   },
   "outputs": [],
   "source": [
    "df_final=pd.get_dummies(df.drop(['region','Date'],axis=1),drop_first=True)"
   ]
  },
  {
   "cell_type": "markdown",
   "metadata": {
    "_uuid": "8b74a6b88cb3e9b3e1d1e987e061048f203c7364",
    "papermill": {
     "duration": 0.005786,
     "end_time": "2021-06-24T16:00:10.161776",
     "exception": false,
     "start_time": "2021-06-24T16:00:10.155990",
     "status": "completed"
    },
    "tags": []
   },
   "source": [
    "Now our data are ready! lets apply our model which is going to be the Linear Regression because our Target variable 'AveragePrice'is continuous.\n",
    "Let's now begin to train out regression model! We will need to first split up our data into an X array that contains the features to train on, and a y array with the target variable"
   ]
  },
  {
   "cell_type": "code",
   "execution_count": 9,
   "metadata": {
    "_uuid": "830591f99de9715241e688bf9ce265e979401ff5",
    "execution": {
     "iopub.execute_input": "2021-06-24T16:00:10.179061Z",
     "iopub.status.busy": "2021-06-24T16:00:10.178434Z",
     "iopub.status.idle": "2021-06-24T16:00:10.189839Z",
     "shell.execute_reply": "2021-06-24T16:00:10.189286Z"
    },
    "jupyter": {
     "source_hidden": true
    },
    "papermill": {
     "duration": 0.022245,
     "end_time": "2021-06-24T16:00:10.190049",
     "exception": false,
     "start_time": "2021-06-24T16:00:10.167804",
     "status": "completed"
    },
    "tags": []
   },
   "outputs": [],
   "source": [
    "X=df_final.iloc[:,1:14]\n",
    "y=df_final['AveragePrice']\n",
    "from sklearn.model_selection import train_test_split\n",
    "X_train,X_test,y_train,y_test=train_test_split(X,y,test_size=0.2,random_state=42)"
   ]
  },
  {
   "cell_type": "markdown",
   "metadata": {
    "_uuid": "ea730c77a31cde9de98263079a189accb8b5772b",
    "papermill": {
     "duration": 0.006003,
     "end_time": "2021-06-24T16:00:10.201731",
     "exception": false,
     "start_time": "2021-06-24T16:00:10.195728",
     "status": "completed"
    },
    "tags": []
   },
   "source": [
    "Creating and Training the Model"
   ]
  },
  {
   "cell_type": "code",
   "execution_count": 10,
   "metadata": {
    "_uuid": "eb37015e78974e5fd2ae7e13d065c8ab0a9c6948",
    "execution": {
     "iopub.execute_input": "2021-06-24T16:00:10.217889Z",
     "iopub.status.busy": "2021-06-24T16:00:10.217220Z",
     "iopub.status.idle": "2021-06-24T16:00:18.319621Z",
     "shell.execute_reply": "2021-06-24T16:00:18.320028Z"
    },
    "jupyter": {
     "source_hidden": true
    },
    "papermill": {
     "duration": 8.112745,
     "end_time": "2021-06-24T16:00:18.320273",
     "exception": false,
     "start_time": "2021-06-24T16:00:10.207528",
     "status": "completed"
    },
    "tags": []
   },
   "outputs": [],
   "source": [
    "from sklearn.ensemble import RandomForestRegressor\n",
    "rdr = RandomForestRegressor(\n",
    "    n_estimators=n_estimators,\n",
    "    max_features=max_features\n",
    ")\n",
    "rdr.fit(X_train,y_train)\n",
    "pred=rdr.predict(X_test)"
   ]
  },
  {
   "cell_type": "code",
   "execution_count": 11,
   "metadata": {
    "_uuid": "7ed5b8d4e8abb44a4b548c13ac9fb2d65227d1c5",
    "execution": {
     "iopub.execute_input": "2021-06-24T16:00:18.334681Z",
     "iopub.status.busy": "2021-06-24T16:00:18.334053Z",
     "iopub.status.idle": "2021-06-24T16:00:18.337075Z",
     "shell.execute_reply": "2021-06-24T16:00:18.337463Z"
    },
    "jupyter": {
     "source_hidden": true
    },
    "papermill": {
     "duration": 0.011487,
     "end_time": "2021-06-24T16:00:18.337731",
     "exception": false,
     "start_time": "2021-06-24T16:00:18.326244",
     "status": "completed"
    },
    "tags": []
   },
   "outputs": [],
   "source": [
    "#%%capture cap --no-stderr\n",
    "#print(np.sqrt(mean_squared_error(y_test, pred)))"
   ]
  },
  {
   "cell_type": "code",
   "execution_count": 12,
   "metadata": {
    "execution": {
     "iopub.execute_input": "2021-06-24T16:00:18.352763Z",
     "iopub.status.busy": "2021-06-24T16:00:18.352180Z",
     "iopub.status.idle": "2021-06-24T16:00:18.354006Z",
     "shell.execute_reply": "2021-06-24T16:00:18.354483Z"
    },
    "jupyter": {
     "source_hidden": true
    },
    "papermill": {
     "duration": 0.011564,
     "end_time": "2021-06-24T16:00:18.354707",
     "exception": false,
     "start_time": "2021-06-24T16:00:18.343143",
     "status": "completed"
    },
    "tags": []
   },
   "outputs": [],
   "source": [
    "#with open(output_rmse, 'w') as f:\n",
    "#    f.write(cap.stdout)"
   ]
  },
  {
   "cell_type": "code",
   "execution_count": 13,
   "metadata": {
    "execution": {
     "iopub.execute_input": "2021-06-24T16:00:18.368404Z",
     "iopub.status.busy": "2021-06-24T16:00:18.367914Z",
     "iopub.status.idle": "2021-06-24T16:00:18.387235Z",
     "shell.execute_reply": "2021-06-24T16:00:18.387567Z"
    },
    "jupyter": {
     "source_hidden": true
    },
    "papermill": {
     "duration": 0.027496,
     "end_time": "2021-06-24T16:00:18.387808",
     "exception": false,
     "start_time": "2021-06-24T16:00:18.360312",
     "status": "completed"
    },
    "tags": []
   },
   "outputs": [
    {
     "data": {
      "text/plain": [
       "<sqlalchemy.engine.result.ResultProxy at 0x7fc29a151a50>"
      ]
     },
     "execution_count": 13,
     "metadata": {},
     "output_type": "execute_result"
    }
   ],
   "source": [
    "cnx.execute(\"\"\"\n",
    "    INSERT INTO ml.accuracies (ml_id, ml_date, accuracy) VALUES ('{0}', '{1}', {2}) \n",
    "    ON CONFLICT (ml_id, ml_date) \n",
    "    DO\n",
    "        UPDATE SET accuracy = {2};\n",
    "    \"\"\".format(ml_id, ml_date, np.sqrt(mean_squared_error(y_test, pred))))"
   ]
  }
 ],
 "metadata": {
  "kernelspec": {
   "display_name": "Python 3",
   "language": "python",
   "name": "python3"
  },
  "language_info": {
   "codemirror_mode": {
    "name": "ipython",
    "version": 3
   },
   "file_extension": ".py",
   "mimetype": "text/x-python",
   "name": "python",
   "nbconvert_exporter": "python",
   "pygments_lexer": "ipython3",
   "version": "3.7.10"
  },
  "papermill": {
   "duration": 10.94249,
   "end_time": "2021-06-24T16:00:18.801604",
   "environment_variables": {},
   "exception": null,
   "input_path": "/usr/local/airflow/include/notebooks/avocado_prediction.ipynb",
   "output_path": "/tmp/out-model-avocado-prediction-auto_100.ipynb",
   "parameters": {
    "filepath": "/tmp/avocado.csv",
    "max_features": "auto",
    "ml_id": "auto_100",
    "n_estimators": 100
   },
   "start_time": "2021-06-24T16:00:07.859114",
   "version": "2.1.2"
  }
 },
 "nbformat": 4,
 "nbformat_minor": 4
}