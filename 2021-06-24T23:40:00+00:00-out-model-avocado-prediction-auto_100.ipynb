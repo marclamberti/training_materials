{
 "cells": [
  {
   "cell_type": "code",
   "execution_count": 1,
   "metadata": {
    "_cell_guid": "79c7e3d0-c299-4dcb-8224-4455121ee9b0",
    "_uuid": "d629ff2d2480ee46fbb7e2d37f6b5fab8052498a",
    "execution": {
     "iopub.execute_input": "2021-06-24T23:54:23.764509Z",
     "iopub.status.busy": "2021-06-24T23:54:23.761218Z",
     "iopub.status.idle": "2021-06-24T23:54:27.005131Z",
     "shell.execute_reply": "2021-06-24T23:54:27.001115Z"
    },
    "jupyter": {
     "source_hidden": true
    },
    "papermill": {
     "duration": 3.300519,
     "end_time": "2021-06-24T23:54:27.006219",
     "exception": false,
     "start_time": "2021-06-24T23:54:23.705700",
     "status": "completed"
    },
    "tags": []
   },
   "outputs": [],
   "source": [
    "import pandas as pd\n",
    "import numpy as np\n",
    "from sqlalchemy import create_engine\n",
    "from datetime import date\n",
    "from sklearn.metrics import mean_squared_error"
   ]
  },
  {
   "cell_type": "code",
   "execution_count": 2,
   "metadata": {
    "execution": {
     "iopub.execute_input": "2021-06-24T23:54:27.091583Z",
     "iopub.status.busy": "2021-06-24T23:54:27.085457Z",
     "iopub.status.idle": "2021-06-24T23:54:27.223482Z",
     "shell.execute_reply": "2021-06-24T23:54:27.220356Z"
    },
    "jupyter": {
     "source_hidden": true
    },
    "papermill": {
     "duration": 0.186106,
     "end_time": "2021-06-24T23:54:27.224526",
     "exception": false,
     "start_time": "2021-06-24T23:54:27.038420",
     "status": "completed"
    },
    "tags": []
   },
   "outputs": [],
   "source": [
    "# THIS IS PURELY FOR TEST PURPOSE NEVER DO THAT IN PRODUCTION\n",
    "POSTGRES_ADDRESS='postgres'\n",
    "POSTGRES_PORT='5432'\n",
    "POSTGRES_USERNAME='postgres'\n",
    "POSTGRES_PASSWORD='postgres'\n",
    "\n",
    "postgres_conn = 'postgresql://{0}:{1}@{2}:{3}/'.format(POSTGRES_USERNAME, POSTGRES_PASSWORD, POSTGRES_ADDRESS, POSTGRES_PORT)\n",
    "\n",
    "# Create the connection\n",
    "cnx = create_engine(postgres_conn)\n"
   ]
  },
  {
   "cell_type": "markdown",
   "metadata": {
    "_uuid": "1998755ef10683262b29765345cff1c1c7d10b15",
    "papermill": {
     "duration": 0.028737,
     "end_time": "2021-06-24T23:54:27.282382",
     "exception": false,
     "start_time": "2021-06-24T23:54:27.253645",
     "status": "completed"
    },
    "tags": []
   },
   "source": [
    "Read in the Avocado Prices csv file as a DataFrame called df"
   ]
  },
  {
   "cell_type": "code",
   "execution_count": 3,
   "metadata": {
    "execution": {
     "iopub.execute_input": "2021-06-24T23:54:27.365541Z",
     "iopub.status.busy": "2021-06-24T23:54:27.362326Z",
     "iopub.status.idle": "2021-06-24T23:54:27.376625Z",
     "shell.execute_reply": "2021-06-24T23:54:27.373057Z"
    },
    "jupyter": {
     "source_hidden": true
    },
    "papermill": {
     "duration": 0.065973,
     "end_time": "2021-06-24T23:54:27.377606",
     "exception": false,
     "start_time": "2021-06-24T23:54:27.311633",
     "status": "completed"
    },
    "tags": [
     "parameters"
    ]
   },
   "outputs": [],
   "source": [
    "# Parameterized\n",
    "\n",
    "filepath='avocado.csv'\n",
    "ml_id='auto_100'\n",
    "ml_date=date.today()\n",
    "n_estimators = 100\n",
    "max_features = 'auto'"
   ]
  },
  {
   "cell_type": "code",
   "execution_count": 4,
   "id": "8af689cc",
   "metadata": {
    "execution": {
     "iopub.execute_input": "2021-06-24T23:54:27.461861Z",
     "iopub.status.busy": "2021-06-24T23:54:27.458295Z",
     "iopub.status.idle": "2021-06-24T23:54:27.472721Z",
     "shell.execute_reply": "2021-06-24T23:54:27.469584Z"
    },
    "jupyter": {
     "source_hidden": true
    },
    "papermill": {
     "duration": 0.066387,
     "end_time": "2021-06-24T23:54:27.474086",
     "exception": false,
     "start_time": "2021-06-24T23:54:27.407699",
     "status": "completed"
    },
    "tags": [
     "injected-parameters"
    ]
   },
   "outputs": [],
   "source": [
    "# Parameters\n",
    "filepath = \"/tmp/avocado.csv\"\n",
    "n_estimators = 100\n",
    "max_features = \"auto\"\n",
    "ml_id = \"auto_100\"\n"
   ]
  },
  {
   "cell_type": "code",
   "execution_count": 5,
   "metadata": {
    "_uuid": "55d0e719eb8b91d763c1eacaf0f51ee0586486fc",
    "execution": {
     "iopub.execute_input": "2021-06-24T23:54:27.562763Z",
     "iopub.status.busy": "2021-06-24T23:54:27.559313Z",
     "iopub.status.idle": "2021-06-24T23:54:27.718486Z",
     "shell.execute_reply": "2021-06-24T23:54:27.715101Z"
    },
    "jupyter": {
     "source_hidden": true
    },
    "papermill": {
     "duration": 0.212374,
     "end_time": "2021-06-24T23:54:27.719524",
     "exception": false,
     "start_time": "2021-06-24T23:54:27.507150",
     "status": "completed"
    },
    "tags": []
   },
   "outputs": [],
   "source": [
    "df= pd.read_csv(filepath)"
   ]
  },
  {
   "cell_type": "markdown",
   "metadata": {
    "_uuid": "434e0457f550e2200424e5ec26162e1aa5904005",
    "papermill": {
     "duration": 0.032009,
     "end_time": "2021-06-24T23:54:27.783194",
     "exception": false,
     "start_time": "2021-06-24T23:54:27.751185",
     "status": "completed"
    },
    "tags": []
   },
   "source": [
    "The Feature \"Unnamed:0\" is just a representation of the indexes, so it's useless to keep it, lets remove it !"
   ]
  },
  {
   "cell_type": "code",
   "execution_count": 6,
   "metadata": {
    "_uuid": "9875398e37728dc3141fed4228be337a4735beb6",
    "execution": {
     "iopub.execute_input": "2021-06-24T23:54:27.870924Z",
     "iopub.status.busy": "2021-06-24T23:54:27.862329Z",
     "iopub.status.idle": "2021-06-24T23:54:27.881107Z",
     "shell.execute_reply": "2021-06-24T23:54:27.883374Z"
    },
    "jupyter": {
     "source_hidden": true
    },
    "papermill": {
     "duration": 0.070696,
     "end_time": "2021-06-24T23:54:27.884408",
     "exception": false,
     "start_time": "2021-06-24T23:54:27.813712",
     "status": "completed"
    },
    "tags": []
   },
   "outputs": [],
   "source": [
    "df.drop('Unnamed: 0',axis=1,inplace=True)"
   ]
  },
  {
   "cell_type": "markdown",
   "metadata": {
    "_uuid": "12e94ad381e4cb8d2c8a9bbe08ce07ab5d49c040",
    "papermill": {
     "duration": 0.032938,
     "end_time": "2021-06-24T23:54:27.947813",
     "exception": false,
     "start_time": "2021-06-24T23:54:27.914875",
     "status": "completed"
    },
    "tags": []
   },
   "source": [
    "well as a first observation we can see that we are lucky, we dont have any missing values (18249 complete data) and 13 columns.\n",
    "Now let's do some Feature Engineering on the Date Feature so we can be able to use the day and the month columns in building our machine learning model later. ( I didn't mention the year because its already there in data frame)"
   ]
  },
  {
   "cell_type": "code",
   "execution_count": 7,
   "metadata": {
    "_uuid": "f031639ce794656e877484d1c9c356df7028177f",
    "execution": {
     "iopub.execute_input": "2021-06-24T23:54:28.045539Z",
     "iopub.status.busy": "2021-06-24T23:54:28.037043Z",
     "iopub.status.idle": "2021-06-24T23:54:28.714939Z",
     "shell.execute_reply": "2021-06-24T23:54:28.717200Z"
    },
    "jupyter": {
     "source_hidden": true
    },
    "papermill": {
     "duration": 0.737593,
     "end_time": "2021-06-24T23:54:28.718327",
     "exception": false,
     "start_time": "2021-06-24T23:54:27.980734",
     "status": "completed"
    },
    "tags": []
   },
   "outputs": [],
   "source": [
    "df['Date']=pd.to_datetime(df['Date'])\n",
    "df['Month']=df['Date'].apply(lambda x:x.month)\n",
    "df['Day']=df['Date'].apply(lambda x:x.day)"
   ]
  },
  {
   "cell_type": "markdown",
   "metadata": {
    "_uuid": "ebdcac9924ce3e366fd3a75170682f7113385b7a",
    "papermill": {
     "duration": 0.030886,
     "end_time": "2021-06-24T23:54:28.781415",
     "exception": false,
     "start_time": "2021-06-24T23:54:28.750529",
     "status": "completed"
    },
    "tags": []
   },
   "source": [
    "as we can see we have 54 regions and 2 unique types, so it's going to be easy to to transform the type feature to dummies, but for the region its going to be a bit complexe so I decided to drop the entire column.\n",
    "I will drop the Date Feature as well because I already have 3 other columns for the Year, Month and Day."
   ]
  },
  {
   "cell_type": "code",
   "execution_count": 8,
   "metadata": {
    "_uuid": "a798682da34327b731ef262985fd50ba68e06460",
    "execution": {
     "iopub.execute_input": "2021-06-24T23:54:28.870004Z",
     "iopub.status.busy": "2021-06-24T23:54:28.866880Z",
     "iopub.status.idle": "2021-06-24T23:54:28.918478Z",
     "shell.execute_reply": "2021-06-24T23:54:28.914773Z"
    },
    "jupyter": {
     "source_hidden": true
    },
    "papermill": {
     "duration": 0.105768,
     "end_time": "2021-06-24T23:54:28.919522",
     "exception": false,
     "start_time": "2021-06-24T23:54:28.813754",
     "status": "completed"
    },
    "tags": []
   },
   "outputs": [],
   "source": [
    "df_final=pd.get_dummies(df.drop(['region','Date'],axis=1),drop_first=True)"
   ]
  },
  {
   "cell_type": "markdown",
   "metadata": {
    "_uuid": "8b74a6b88cb3e9b3e1d1e987e061048f203c7364",
    "papermill": {
     "duration": 0.032073,
     "end_time": "2021-06-24T23:54:28.981799",
     "exception": false,
     "start_time": "2021-06-24T23:54:28.949726",
     "status": "completed"
    },
    "tags": []
   },
   "source": [
    "Now our data are ready! lets apply our model which is going to be the Linear Regression because our Target variable 'AveragePrice'is continuous.\n",
    "Let's now begin to train out regression model! We will need to first split up our data into an X array that contains the features to train on, and a y array with the target variable"
   ]
  },
  {
   "cell_type": "code",
   "execution_count": 9,
   "metadata": {
    "_uuid": "830591f99de9715241e688bf9ce265e979401ff5",
    "execution": {
     "iopub.execute_input": "2021-06-24T23:54:29.072777Z",
     "iopub.status.busy": "2021-06-24T23:54:29.069508Z",
     "iopub.status.idle": "2021-06-24T23:54:29.122577Z",
     "shell.execute_reply": "2021-06-24T23:54:29.120125Z"
    },
    "jupyter": {
     "source_hidden": true
    },
    "papermill": {
     "duration": 0.108922,
     "end_time": "2021-06-24T23:54:29.123653",
     "exception": false,
     "start_time": "2021-06-24T23:54:29.014731",
     "status": "completed"
    },
    "tags": []
   },
   "outputs": [],
   "source": [
    "X=df_final.iloc[:,1:14]\n",
    "y=df_final['AveragePrice']\n",
    "from sklearn.model_selection import train_test_split\n",
    "X_train,X_test,y_train,y_test=train_test_split(X,y,test_size=0.2,random_state=42)"
   ]
  },
  {
   "cell_type": "markdown",
   "metadata": {
    "_uuid": "ea730c77a31cde9de98263079a189accb8b5772b",
    "papermill": {
     "duration": 0.032793,
     "end_time": "2021-06-24T23:54:29.188816",
     "exception": false,
     "start_time": "2021-06-24T23:54:29.156023",
     "status": "completed"
    },
    "tags": []
   },
   "source": [
    "Creating and Training the Model"
   ]
  },
  {
   "cell_type": "code",
   "execution_count": 10,
   "metadata": {
    "_uuid": "eb37015e78974e5fd2ae7e13d065c8ab0a9c6948",
    "execution": {
     "iopub.execute_input": "2021-06-24T23:54:29.279051Z",
     "iopub.status.busy": "2021-06-24T23:54:29.275812Z",
     "iopub.status.idle": "2021-06-24T23:55:15.050017Z",
     "shell.execute_reply": "2021-06-24T23:55:15.046466Z"
    },
    "jupyter": {
     "source_hidden": true
    },
    "papermill": {
     "duration": 45.82729,
     "end_time": "2021-06-24T23:55:15.051041",
     "exception": false,
     "start_time": "2021-06-24T23:54:29.223751",
     "status": "completed"
    },
    "tags": []
   },
   "outputs": [],
   "source": [
    "from sklearn.ensemble import RandomForestRegressor\n",
    "rdr = RandomForestRegressor(\n",
    "    n_estimators=n_estimators,\n",
    "    max_features=max_features\n",
    ")\n",
    "rdr.fit(X_train,y_train)\n",
    "pred=rdr.predict(X_test)"
   ]
  },
  {
   "cell_type": "code",
   "execution_count": 11,
   "metadata": {
    "_uuid": "7ed5b8d4e8abb44a4b548c13ac9fb2d65227d1c5",
    "execution": {
     "iopub.execute_input": "2021-06-24T23:55:15.135471Z",
     "iopub.status.busy": "2021-06-24T23:55:15.132329Z",
     "iopub.status.idle": "2021-06-24T23:55:15.145194Z",
     "shell.execute_reply": "2021-06-24T23:55:15.141951Z"
    },
    "jupyter": {
     "source_hidden": true
    },
    "papermill": {
     "duration": 0.061208,
     "end_time": "2021-06-24T23:55:15.146218",
     "exception": false,
     "start_time": "2021-06-24T23:55:15.085010",
     "status": "completed"
    },
    "tags": []
   },
   "outputs": [],
   "source": [
    "#%%capture cap --no-stderr\n",
    "#print(np.sqrt(mean_squared_error(y_test, pred)))"
   ]
  },
  {
   "cell_type": "code",
   "execution_count": 12,
   "metadata": {
    "execution": {
     "iopub.execute_input": "2021-06-24T23:55:15.228709Z",
     "iopub.status.busy": "2021-06-24T23:55:15.225305Z",
     "iopub.status.idle": "2021-06-24T23:55:15.239510Z",
     "shell.execute_reply": "2021-06-24T23:55:15.235959Z"
    },
    "jupyter": {
     "source_hidden": true
    },
    "papermill": {
     "duration": 0.062447,
     "end_time": "2021-06-24T23:55:15.240747",
     "exception": false,
     "start_time": "2021-06-24T23:55:15.178300",
     "status": "completed"
    },
    "tags": []
   },
   "outputs": [],
   "source": [
    "#with open(output_rmse, 'w') as f:\n",
    "#    f.write(cap.stdout)"
   ]
  },
  {
   "cell_type": "code",
   "execution_count": 13,
   "metadata": {
    "execution": {
     "iopub.execute_input": "2021-06-24T23:55:15.328721Z",
     "iopub.status.busy": "2021-06-24T23:55:15.324945Z",
     "iopub.status.idle": "2021-06-24T23:55:15.437848Z",
     "shell.execute_reply": "2021-06-24T23:55:15.434238Z"
    },
    "jupyter": {
     "source_hidden": true
    },
    "papermill": {
     "duration": 0.165088,
     "end_time": "2021-06-24T23:55:15.438898",
     "exception": false,
     "start_time": "2021-06-24T23:55:15.273810",
     "status": "completed"
    },
    "tags": []
   },
   "outputs": [
    {
     "data": {
      "text/plain": [
       "<sqlalchemy.engine.result.ResultProxy at 0x7efd15d1ee90>"
      ]
     },
     "execution_count": 13,
     "metadata": {},
     "output_type": "execute_result"
    }
   ],
   "source": [
    "cnx.execute(\"\"\"\n",
    "    INSERT INTO ml.accuracies (ml_id, ml_date, accuracy) VALUES ('{0}', '{1}', {2}) \n",
    "    ON CONFLICT (ml_id, ml_date) \n",
    "    DO\n",
    "        UPDATE SET accuracy = {2};\n",
    "    \"\"\".format(ml_id, ml_date, np.sqrt(mean_squared_error(y_test, pred))))"
   ]
  }
 ],
 "metadata": {
  "kernelspec": {
   "display_name": "Python 3",
   "language": "python",
   "name": "python3"
  },
  "language_info": {
   "codemirror_mode": {
    "name": "ipython",
    "version": 3
   },
   "file_extension": ".py",
   "mimetype": "text/x-python",
   "name": "python",
   "nbconvert_exporter": "python",
   "pygments_lexer": "ipython3",
   "version": "3.7.10"
  },
  "papermill": {
   "duration": 57.91296,
   "end_time": "2021-06-24T23:55:17.077840",
   "environment_variables": {},
   "exception": null,
   "input_path": "/usr/local/airflow/include/notebooks/avocado_prediction.ipynb",
   "output_path": "/tmp/out-model-avocado-prediction-auto_100.ipynb",
   "parameters": {
    "filepath": "/tmp/avocado.csv",
    "max_features": "auto",
    "ml_id": "auto_100",
    "n_estimators": 100
   },
   "start_time": "2021-06-24T23:54:19.164880",
   "version": "2.1.2"
  }
 },
 "nbformat": 4,
 "nbformat_minor": 4
}