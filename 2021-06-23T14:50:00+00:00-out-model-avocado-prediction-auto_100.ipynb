{
 "cells": [
  {
   "cell_type": "code",
   "execution_count": 1,
   "metadata": {
    "_cell_guid": "79c7e3d0-c299-4dcb-8224-4455121ee9b0",
    "_uuid": "d629ff2d2480ee46fbb7e2d37f6b5fab8052498a",
    "execution": {
     "iopub.execute_input": "2021-06-23T15:08:01.171283Z",
     "iopub.status.busy": "2021-06-23T15:08:01.170668Z",
     "iopub.status.idle": "2021-06-23T15:08:02.117058Z",
     "shell.execute_reply": "2021-06-23T15:08:02.116377Z"
    },
    "jupyter": {
     "source_hidden": true
    },
    "papermill": {
     "duration": 0.961501,
     "end_time": "2021-06-23T15:08:02.117375",
     "exception": false,
     "start_time": "2021-06-23T15:08:01.155874",
     "status": "completed"
    },
    "tags": []
   },
   "outputs": [],
   "source": [
    "import pandas as pd\n",
    "import numpy as np\n",
    "from sqlalchemy import create_engine\n",
    "from datetime import date\n",
    "from sklearn.metrics import mean_squared_error"
   ]
  },
  {
   "cell_type": "code",
   "execution_count": 2,
   "metadata": {
    "execution": {
     "iopub.execute_input": "2021-06-23T15:08:02.181603Z",
     "iopub.status.busy": "2021-06-23T15:08:02.179541Z",
     "iopub.status.idle": "2021-06-23T15:08:02.223682Z",
     "shell.execute_reply": "2021-06-23T15:08:02.224139Z"
    },
    "jupyter": {
     "source_hidden": true
    },
    "papermill": {
     "duration": 0.078256,
     "end_time": "2021-06-23T15:08:02.224366",
     "exception": false,
     "start_time": "2021-06-23T15:08:02.146110",
     "status": "completed"
    },
    "tags": []
   },
   "outputs": [],
   "source": [
    "# THIS IS PURELY FOR TEST PURPOSE NEVER DO THAT IN PRODUCTION\n",
    "POSTGRES_ADDRESS='postgres'\n",
    "POSTGRES_PORT='5432'\n",
    "POSTGRES_USERNAME='postgres'\n",
    "POSTGRES_PASSWORD='postgres'\n",
    "\n",
    "postgres_conn = 'postgresql://{0}:{1}@{2}:{3}/'.format(POSTGRES_USERNAME, POSTGRES_PASSWORD, POSTGRES_ADDRESS, POSTGRES_PORT)\n",
    "\n",
    "# Create the connection\n",
    "cnx = create_engine(postgres_conn)\n"
   ]
  },
  {
   "cell_type": "markdown",
   "metadata": {
    "_uuid": "1998755ef10683262b29765345cff1c1c7d10b15",
    "papermill": {
     "duration": 0.005687,
     "end_time": "2021-06-23T15:08:02.236230",
     "exception": false,
     "start_time": "2021-06-23T15:08:02.230543",
     "status": "completed"
    },
    "tags": []
   },
   "source": [
    "Read in the Avocado Prices csv file as a DataFrame called df"
   ]
  },
  {
   "cell_type": "code",
   "execution_count": 3,
   "metadata": {
    "execution": {
     "iopub.execute_input": "2021-06-23T15:08:02.259883Z",
     "iopub.status.busy": "2021-06-23T15:08:02.258575Z",
     "iopub.status.idle": "2021-06-23T15:08:02.262294Z",
     "shell.execute_reply": "2021-06-23T15:08:02.263119Z"
    },
    "jupyter": {
     "source_hidden": true
    },
    "papermill": {
     "duration": 0.015524,
     "end_time": "2021-06-23T15:08:02.263624",
     "exception": false,
     "start_time": "2021-06-23T15:08:02.248100",
     "status": "completed"
    },
    "tags": [
     "parameters"
    ]
   },
   "outputs": [],
   "source": [
    "# Parameterized\n",
    "\n",
    "filepath='avocado.csv'\n",
    "ml_id='auto_100'\n",
    "ml_date=date.today()\n",
    "n_estimators = 100\n",
    "max_features = 'auto'"
   ]
  },
  {
   "cell_type": "code",
   "execution_count": 4,
   "id": "f4c6c1ca",
   "metadata": {
    "execution": {
     "iopub.execute_input": "2021-06-23T15:08:02.290978Z",
     "iopub.status.busy": "2021-06-23T15:08:02.287967Z",
     "iopub.status.idle": "2021-06-23T15:08:02.291949Z",
     "shell.execute_reply": "2021-06-23T15:08:02.292898Z"
    },
    "jupyter": {
     "source_hidden": true
    },
    "papermill": {
     "duration": 0.021774,
     "end_time": "2021-06-23T15:08:02.293175",
     "exception": false,
     "start_time": "2021-06-23T15:08:02.271401",
     "status": "completed"
    },
    "tags": [
     "injected-parameters"
    ]
   },
   "outputs": [],
   "source": [
    "# Parameters\n",
    "filepath = \"/tmp/avocado.csv\"\n",
    "n_estimators = 100\n",
    "max_features = \"auto\"\n",
    "ml_id = \"auto_100\"\n"
   ]
  },
  {
   "cell_type": "code",
   "execution_count": 5,
   "metadata": {
    "_uuid": "55d0e719eb8b91d763c1eacaf0f51ee0586486fc",
    "execution": {
     "iopub.execute_input": "2021-06-23T15:08:02.332478Z",
     "iopub.status.busy": "2021-06-23T15:08:02.331540Z",
     "iopub.status.idle": "2021-06-23T15:08:02.403013Z",
     "shell.execute_reply": "2021-06-23T15:08:02.404058Z"
    },
    "jupyter": {
     "source_hidden": true
    },
    "papermill": {
     "duration": 0.098839,
     "end_time": "2021-06-23T15:08:02.404455",
     "exception": false,
     "start_time": "2021-06-23T15:08:02.305616",
     "status": "completed"
    },
    "tags": []
   },
   "outputs": [],
   "source": [
    "df= pd.read_csv(filepath)"
   ]
  },
  {
   "cell_type": "markdown",
   "metadata": {
    "_uuid": "434e0457f550e2200424e5ec26162e1aa5904005",
    "papermill": {
     "duration": 0.005625,
     "end_time": "2021-06-23T15:08:02.416788",
     "exception": false,
     "start_time": "2021-06-23T15:08:02.411163",
     "status": "completed"
    },
    "tags": []
   },
   "source": [
    "The Feature \"Unnamed:0\" is just a representation of the indexes, so it's useless to keep it, lets remove it !"
   ]
  },
  {
   "cell_type": "code",
   "execution_count": 6,
   "metadata": {
    "_uuid": "9875398e37728dc3141fed4228be337a4735beb6",
    "execution": {
     "iopub.execute_input": "2021-06-23T15:08:02.439392Z",
     "iopub.status.busy": "2021-06-23T15:08:02.438354Z",
     "iopub.status.idle": "2021-06-23T15:08:02.444693Z",
     "shell.execute_reply": "2021-06-23T15:08:02.443929Z"
    },
    "jupyter": {
     "source_hidden": true
    },
    "papermill": {
     "duration": 0.02039,
     "end_time": "2021-06-23T15:08:02.445063",
     "exception": false,
     "start_time": "2021-06-23T15:08:02.424673",
     "status": "completed"
    },
    "tags": []
   },
   "outputs": [],
   "source": [
    "df.drop('Unnamed: 0',axis=1,inplace=True)"
   ]
  },
  {
   "cell_type": "markdown",
   "metadata": {
    "_uuid": "12e94ad381e4cb8d2c8a9bbe08ce07ab5d49c040",
    "papermill": {
     "duration": 0.006276,
     "end_time": "2021-06-23T15:08:02.458369",
     "exception": false,
     "start_time": "2021-06-23T15:08:02.452093",
     "status": "completed"
    },
    "tags": []
   },
   "source": [
    "well as a first observation we can see that we are lucky, we dont have any missing values (18249 complete data) and 13 columns.\n",
    "Now let's do some Feature Engineering on the Date Feature so we can be able to use the day and the month columns in building our machine learning model later. ( I didn't mention the year because its already there in data frame)"
   ]
  },
  {
   "cell_type": "code",
   "execution_count": 7,
   "metadata": {
    "_uuid": "f031639ce794656e877484d1c9c356df7028177f",
    "execution": {
     "iopub.execute_input": "2021-06-23T15:08:02.486197Z",
     "iopub.status.busy": "2021-06-23T15:08:02.481843Z",
     "iopub.status.idle": "2021-06-23T15:08:02.660682Z",
     "shell.execute_reply": "2021-06-23T15:08:02.659614Z"
    },
    "jupyter": {
     "source_hidden": true
    },
    "papermill": {
     "duration": 0.19313,
     "end_time": "2021-06-23T15:08:02.660990",
     "exception": false,
     "start_time": "2021-06-23T15:08:02.467860",
     "status": "completed"
    },
    "tags": []
   },
   "outputs": [],
   "source": [
    "df['Date']=pd.to_datetime(df['Date'])\n",
    "df['Month']=df['Date'].apply(lambda x:x.month)\n",
    "df['Day']=df['Date'].apply(lambda x:x.day)"
   ]
  },
  {
   "cell_type": "markdown",
   "metadata": {
    "_uuid": "ebdcac9924ce3e366fd3a75170682f7113385b7a",
    "papermill": {
     "duration": 0.005798,
     "end_time": "2021-06-23T15:08:02.676058",
     "exception": false,
     "start_time": "2021-06-23T15:08:02.670260",
     "status": "completed"
    },
    "tags": []
   },
   "source": [
    "as we can see we have 54 regions and 2 unique types, so it's going to be easy to to transform the type feature to dummies, but for the region its going to be a bit complexe so I decided to drop the entire column.\n",
    "I will drop the Date Feature as well because I already have 3 other columns for the Year, Month and Day."
   ]
  },
  {
   "cell_type": "code",
   "execution_count": 8,
   "metadata": {
    "_uuid": "a798682da34327b731ef262985fd50ba68e06460",
    "execution": {
     "iopub.execute_input": "2021-06-23T15:08:02.741689Z",
     "iopub.status.busy": "2021-06-23T15:08:02.739081Z",
     "iopub.status.idle": "2021-06-23T15:08:02.773031Z",
     "shell.execute_reply": "2021-06-23T15:08:02.770498Z"
    },
    "jupyter": {
     "source_hidden": true
    },
    "papermill": {
     "duration": 0.091148,
     "end_time": "2021-06-23T15:08:02.774120",
     "exception": false,
     "start_time": "2021-06-23T15:08:02.682972",
     "status": "completed"
    },
    "tags": []
   },
   "outputs": [],
   "source": [
    "df_final=pd.get_dummies(df.drop(['region','Date'],axis=1),drop_first=True)"
   ]
  },
  {
   "cell_type": "markdown",
   "metadata": {
    "_uuid": "8b74a6b88cb3e9b3e1d1e987e061048f203c7364",
    "papermill": {
     "duration": 0.013684,
     "end_time": "2021-06-23T15:08:02.808969",
     "exception": false,
     "start_time": "2021-06-23T15:08:02.795285",
     "status": "completed"
    },
    "tags": []
   },
   "source": [
    "Now our data are ready! lets apply our model which is going to be the Linear Regression because our Target variable 'AveragePrice'is continuous.\n",
    "Let's now begin to train out regression model! We will need to first split up our data into an X array that contains the features to train on, and a y array with the target variable"
   ]
  },
  {
   "cell_type": "code",
   "execution_count": 9,
   "metadata": {
    "_uuid": "830591f99de9715241e688bf9ce265e979401ff5",
    "execution": {
     "iopub.execute_input": "2021-06-23T15:08:02.870531Z",
     "iopub.status.busy": "2021-06-23T15:08:02.866476Z",
     "iopub.status.idle": "2021-06-23T15:08:02.901553Z",
     "shell.execute_reply": "2021-06-23T15:08:02.898541Z"
    },
    "jupyter": {
     "source_hidden": true
    },
    "papermill": {
     "duration": 0.078748,
     "end_time": "2021-06-23T15:08:02.902376",
     "exception": false,
     "start_time": "2021-06-23T15:08:02.823628",
     "status": "completed"
    },
    "tags": []
   },
   "outputs": [],
   "source": [
    "X=df_final.iloc[:,1:14]\n",
    "y=df_final['AveragePrice']\n",
    "from sklearn.model_selection import train_test_split\n",
    "X_train,X_test,y_train,y_test=train_test_split(X,y,test_size=0.2,random_state=42)"
   ]
  },
  {
   "cell_type": "markdown",
   "metadata": {
    "_uuid": "ea730c77a31cde9de98263079a189accb8b5772b",
    "papermill": {
     "duration": 0.013739,
     "end_time": "2021-06-23T15:08:02.938356",
     "exception": false,
     "start_time": "2021-06-23T15:08:02.924617",
     "status": "completed"
    },
    "tags": []
   },
   "source": [
    "Creating and Training the Model"
   ]
  },
  {
   "cell_type": "code",
   "execution_count": 10,
   "metadata": {
    "_uuid": "eb37015e78974e5fd2ae7e13d065c8ab0a9c6948",
    "execution": {
     "iopub.execute_input": "2021-06-23T15:08:02.972943Z",
     "iopub.status.busy": "2021-06-23T15:08:02.972194Z",
     "iopub.status.idle": "2021-06-23T15:08:14.224700Z",
     "shell.execute_reply": "2021-06-23T15:08:14.225213Z"
    },
    "jupyter": {
     "source_hidden": true
    },
    "papermill": {
     "duration": 11.271759,
     "end_time": "2021-06-23T15:08:14.225526",
     "exception": false,
     "start_time": "2021-06-23T15:08:02.953767",
     "status": "completed"
    },
    "tags": []
   },
   "outputs": [],
   "source": [
    "from sklearn.ensemble import RandomForestRegressor\n",
    "rdr = RandomForestRegressor(\n",
    "    n_estimators=n_estimators,\n",
    "    max_features=max_features\n",
    ")\n",
    "rdr.fit(X_train,y_train)\n",
    "pred=rdr.predict(X_test)"
   ]
  },
  {
   "cell_type": "code",
   "execution_count": 11,
   "metadata": {
    "_uuid": "7ed5b8d4e8abb44a4b548c13ac9fb2d65227d1c5",
    "execution": {
     "iopub.execute_input": "2021-06-23T15:08:14.249582Z",
     "iopub.status.busy": "2021-06-23T15:08:14.248933Z",
     "iopub.status.idle": "2021-06-23T15:08:14.251596Z",
     "shell.execute_reply": "2021-06-23T15:08:14.252216Z"
    },
    "jupyter": {
     "source_hidden": true
    },
    "papermill": {
     "duration": 0.019789,
     "end_time": "2021-06-23T15:08:14.252683",
     "exception": false,
     "start_time": "2021-06-23T15:08:14.232894",
     "status": "completed"
    },
    "tags": []
   },
   "outputs": [],
   "source": [
    "#%%capture cap --no-stderr\n",
    "#print(np.sqrt(mean_squared_error(y_test, pred)))"
   ]
  },
  {
   "cell_type": "code",
   "execution_count": 12,
   "metadata": {
    "execution": {
     "iopub.execute_input": "2021-06-23T15:08:14.273697Z",
     "iopub.status.busy": "2021-06-23T15:08:14.272911Z",
     "iopub.status.idle": "2021-06-23T15:08:14.278474Z",
     "shell.execute_reply": "2021-06-23T15:08:14.277846Z"
    },
    "jupyter": {
     "source_hidden": true
    },
    "papermill": {
     "duration": 0.015407,
     "end_time": "2021-06-23T15:08:14.278812",
     "exception": false,
     "start_time": "2021-06-23T15:08:14.263405",
     "status": "completed"
    },
    "tags": []
   },
   "outputs": [],
   "source": [
    "#with open(output_rmse, 'w') as f:\n",
    "#    f.write(cap.stdout)"
   ]
  },
  {
   "cell_type": "code",
   "execution_count": 13,
   "metadata": {
    "execution": {
     "iopub.execute_input": "2021-06-23T15:08:14.304241Z",
     "iopub.status.busy": "2021-06-23T15:08:14.301662Z",
     "iopub.status.idle": "2021-06-23T15:08:14.326814Z",
     "shell.execute_reply": "2021-06-23T15:08:14.327263Z"
    },
    "jupyter": {
     "source_hidden": true
    },
    "papermill": {
     "duration": 0.042444,
     "end_time": "2021-06-23T15:08:14.327544",
     "exception": false,
     "start_time": "2021-06-23T15:08:14.285100",
     "status": "completed"
    },
    "tags": []
   },
   "outputs": [
    {
     "data": {
      "text/plain": [
       "<sqlalchemy.engine.result.ResultProxy at 0x7fa7d400da90>"
      ]
     },
     "execution_count": 13,
     "metadata": {},
     "output_type": "execute_result"
    }
   ],
   "source": [
    "cnx.execute(\"\"\"\n",
    "    INSERT INTO ml.accuracies (ml_id, ml_date, accuracy) VALUES ('{0}', '{1}', {2}) \n",
    "    ON CONFLICT (ml_id, ml_date) \n",
    "    DO\n",
    "        UPDATE SET accuracy = {2};\n",
    "    \"\"\".format(ml_id, ml_date, np.sqrt(mean_squared_error(y_test, pred))))"
   ]
  }
 ],
 "metadata": {
  "kernelspec": {
   "display_name": "Python 3",
   "language": "python",
   "name": "python3"
  },
  "language_info": {
   "codemirror_mode": {
    "name": "ipython",
    "version": 3
   },
   "file_extension": ".py",
   "mimetype": "text/x-python",
   "name": "python",
   "nbconvert_exporter": "python",
   "pygments_lexer": "ipython3",
   "version": "3.7.10"
  },
  "papermill": {
   "duration": 15.29229,
   "end_time": "2021-06-23T15:08:14.852015",
   "environment_variables": {},
   "exception": null,
   "input_path": "/usr/local/airflow/include/notebooks/avocado_prediction.ipynb",
   "output_path": "/tmp/out-model-avocado-prediction-auto_100.ipynb",
   "parameters": {
    "filepath": "/tmp/avocado.csv",
    "max_features": "auto",
    "ml_id": "auto_100",
    "n_estimators": 100
   },
   "start_time": "2021-06-23T15:07:59.559725",
   "version": "2.1.2"
  }
 },
 "nbformat": 4,
 "nbformat_minor": 4
}