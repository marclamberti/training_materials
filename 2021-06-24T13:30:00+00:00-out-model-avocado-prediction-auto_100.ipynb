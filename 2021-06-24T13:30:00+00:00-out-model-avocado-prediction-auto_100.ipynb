{
 "cells": [
  {
   "cell_type": "code",
   "execution_count": 1,
   "metadata": {
    "_cell_guid": "79c7e3d0-c299-4dcb-8224-4455121ee9b0",
    "_uuid": "d629ff2d2480ee46fbb7e2d37f6b5fab8052498a",
    "execution": {
     "iopub.execute_input": "2021-06-24T13:40:08.265050Z",
     "iopub.status.busy": "2021-06-24T13:40:08.264453Z",
     "iopub.status.idle": "2021-06-24T13:40:08.951064Z",
     "shell.execute_reply": "2021-06-24T13:40:08.950071Z"
    },
    "jupyter": {
     "source_hidden": true
    },
    "papermill": {
     "duration": 0.698364,
     "end_time": "2021-06-24T13:40:08.951403",
     "exception": false,
     "start_time": "2021-06-24T13:40:08.253039",
     "status": "completed"
    },
    "tags": []
   },
   "outputs": [],
   "source": [
    "import pandas as pd\n",
    "import numpy as np\n",
    "from sqlalchemy import create_engine\n",
    "from datetime import date\n",
    "from sklearn.metrics import mean_squared_error"
   ]
  },
  {
   "cell_type": "code",
   "execution_count": 2,
   "metadata": {
    "execution": {
     "iopub.execute_input": "2021-06-24T13:40:08.970544Z",
     "iopub.status.busy": "2021-06-24T13:40:08.969860Z",
     "iopub.status.idle": "2021-06-24T13:40:08.996098Z",
     "shell.execute_reply": "2021-06-24T13:40:08.995579Z"
    },
    "jupyter": {
     "source_hidden": true
    },
    "papermill": {
     "duration": 0.037875,
     "end_time": "2021-06-24T13:40:08.996304",
     "exception": false,
     "start_time": "2021-06-24T13:40:08.958429",
     "status": "completed"
    },
    "tags": []
   },
   "outputs": [],
   "source": [
    "# THIS IS PURELY FOR TEST PURPOSE NEVER DO THAT IN PRODUCTION\n",
    "POSTGRES_ADDRESS='postgres'\n",
    "POSTGRES_PORT='5432'\n",
    "POSTGRES_USERNAME='postgres'\n",
    "POSTGRES_PASSWORD='postgres'\n",
    "\n",
    "postgres_conn = 'postgresql://{0}:{1}@{2}:{3}/'.format(POSTGRES_USERNAME, POSTGRES_PASSWORD, POSTGRES_ADDRESS, POSTGRES_PORT)\n",
    "\n",
    "# Create the connection\n",
    "cnx = create_engine(postgres_conn)\n"
   ]
  },
  {
   "cell_type": "markdown",
   "metadata": {
    "_uuid": "1998755ef10683262b29765345cff1c1c7d10b15",
    "papermill": {
     "duration": 0.005352,
     "end_time": "2021-06-24T13:40:09.007056",
     "exception": false,
     "start_time": "2021-06-24T13:40:09.001704",
     "status": "completed"
    },
    "tags": []
   },
   "source": [
    "Read in the Avocado Prices csv file as a DataFrame called df"
   ]
  },
  {
   "cell_type": "code",
   "execution_count": 3,
   "metadata": {
    "execution": {
     "iopub.execute_input": "2021-06-24T13:40:09.021944Z",
     "iopub.status.busy": "2021-06-24T13:40:09.021373Z",
     "iopub.status.idle": "2021-06-24T13:40:09.024162Z",
     "shell.execute_reply": "2021-06-24T13:40:09.023743Z"
    },
    "jupyter": {
     "source_hidden": true
    },
    "papermill": {
     "duration": 0.012117,
     "end_time": "2021-06-24T13:40:09.024384",
     "exception": false,
     "start_time": "2021-06-24T13:40:09.012267",
     "status": "completed"
    },
    "tags": [
     "parameters"
    ]
   },
   "outputs": [],
   "source": [
    "# Parameterized\n",
    "\n",
    "filepath='avocado.csv'\n",
    "ml_id='auto_100'\n",
    "ml_date=date.today()\n",
    "n_estimators = 100\n",
    "max_features = 'auto'"
   ]
  },
  {
   "cell_type": "code",
   "execution_count": 4,
   "id": "39f0c3a5",
   "metadata": {
    "execution": {
     "iopub.execute_input": "2021-06-24T13:40:09.038748Z",
     "iopub.status.busy": "2021-06-24T13:40:09.038170Z",
     "iopub.status.idle": "2021-06-24T13:40:09.041337Z",
     "shell.execute_reply": "2021-06-24T13:40:09.040881Z"
    },
    "jupyter": {
     "source_hidden": true
    },
    "papermill": {
     "duration": 0.011902,
     "end_time": "2021-06-24T13:40:09.041525",
     "exception": false,
     "start_time": "2021-06-24T13:40:09.029623",
     "status": "completed"
    },
    "tags": [
     "injected-parameters"
    ]
   },
   "outputs": [],
   "source": [
    "# Parameters\n",
    "filepath = \"/tmp/avocado.csv\"\n",
    "n_estimators = 100\n",
    "max_features = \"auto\"\n",
    "ml_id = \"auto_100\"\n"
   ]
  },
  {
   "cell_type": "code",
   "execution_count": 5,
   "metadata": {
    "_uuid": "55d0e719eb8b91d763c1eacaf0f51ee0586486fc",
    "execution": {
     "iopub.execute_input": "2021-06-24T13:40:09.054990Z",
     "iopub.status.busy": "2021-06-24T13:40:09.054501Z",
     "iopub.status.idle": "2021-06-24T13:40:09.080428Z",
     "shell.execute_reply": "2021-06-24T13:40:09.079920Z"
    },
    "jupyter": {
     "source_hidden": true
    },
    "papermill": {
     "duration": 0.033948,
     "end_time": "2021-06-24T13:40:09.080609",
     "exception": false,
     "start_time": "2021-06-24T13:40:09.046661",
     "status": "completed"
    },
    "tags": []
   },
   "outputs": [],
   "source": [
    "df= pd.read_csv(filepath)"
   ]
  },
  {
   "cell_type": "markdown",
   "metadata": {
    "_uuid": "434e0457f550e2200424e5ec26162e1aa5904005",
    "papermill": {
     "duration": 0.004598,
     "end_time": "2021-06-24T13:40:09.089914",
     "exception": false,
     "start_time": "2021-06-24T13:40:09.085316",
     "status": "completed"
    },
    "tags": []
   },
   "source": [
    "The Feature \"Unnamed:0\" is just a representation of the indexes, so it's useless to keep it, lets remove it !"
   ]
  },
  {
   "cell_type": "code",
   "execution_count": 6,
   "metadata": {
    "_uuid": "9875398e37728dc3141fed4228be337a4735beb6",
    "execution": {
     "iopub.execute_input": "2021-06-24T13:40:09.104173Z",
     "iopub.status.busy": "2021-06-24T13:40:09.103694Z",
     "iopub.status.idle": "2021-06-24T13:40:09.106897Z",
     "shell.execute_reply": "2021-06-24T13:40:09.106378Z"
    },
    "jupyter": {
     "source_hidden": true
    },
    "papermill": {
     "duration": 0.012578,
     "end_time": "2021-06-24T13:40:09.107063",
     "exception": false,
     "start_time": "2021-06-24T13:40:09.094485",
     "status": "completed"
    },
    "tags": []
   },
   "outputs": [],
   "source": [
    "df.drop('Unnamed: 0',axis=1,inplace=True)"
   ]
  },
  {
   "cell_type": "markdown",
   "metadata": {
    "_uuid": "12e94ad381e4cb8d2c8a9bbe08ce07ab5d49c040",
    "papermill": {
     "duration": 0.004771,
     "end_time": "2021-06-24T13:40:09.116770",
     "exception": false,
     "start_time": "2021-06-24T13:40:09.111999",
     "status": "completed"
    },
    "tags": []
   },
   "source": [
    "well as a first observation we can see that we are lucky, we dont have any missing values (18249 complete data) and 13 columns.\n",
    "Now let's do some Feature Engineering on the Date Feature so we can be able to use the day and the month columns in building our machine learning model later. ( I didn't mention the year because its already there in data frame)"
   ]
  },
  {
   "cell_type": "code",
   "execution_count": 7,
   "metadata": {
    "_uuid": "f031639ce794656e877484d1c9c356df7028177f",
    "execution": {
     "iopub.execute_input": "2021-06-24T13:40:09.134369Z",
     "iopub.status.busy": "2021-06-24T13:40:09.133717Z",
     "iopub.status.idle": "2021-06-24T13:40:09.238936Z",
     "shell.execute_reply": "2021-06-24T13:40:09.238017Z"
    },
    "jupyter": {
     "source_hidden": true
    },
    "papermill": {
     "duration": 0.117808,
     "end_time": "2021-06-24T13:40:09.239153",
     "exception": false,
     "start_time": "2021-06-24T13:40:09.121345",
     "status": "completed"
    },
    "tags": []
   },
   "outputs": [],
   "source": [
    "df['Date']=pd.to_datetime(df['Date'])\n",
    "df['Month']=df['Date'].apply(lambda x:x.month)\n",
    "df['Day']=df['Date'].apply(lambda x:x.day)"
   ]
  },
  {
   "cell_type": "markdown",
   "metadata": {
    "_uuid": "ebdcac9924ce3e366fd3a75170682f7113385b7a",
    "papermill": {
     "duration": 0.005751,
     "end_time": "2021-06-24T13:40:09.250803",
     "exception": false,
     "start_time": "2021-06-24T13:40:09.245052",
     "status": "completed"
    },
    "tags": []
   },
   "source": [
    "as we can see we have 54 regions and 2 unique types, so it's going to be easy to to transform the type feature to dummies, but for the region its going to be a bit complexe so I decided to drop the entire column.\n",
    "I will drop the Date Feature as well because I already have 3 other columns for the Year, Month and Day."
   ]
  },
  {
   "cell_type": "code",
   "execution_count": 8,
   "metadata": {
    "_uuid": "a798682da34327b731ef262985fd50ba68e06460",
    "execution": {
     "iopub.execute_input": "2021-06-24T13:40:09.266612Z",
     "iopub.status.busy": "2021-06-24T13:40:09.266022Z",
     "iopub.status.idle": "2021-06-24T13:40:09.275900Z",
     "shell.execute_reply": "2021-06-24T13:40:09.275523Z"
    },
    "jupyter": {
     "source_hidden": true
    },
    "papermill": {
     "duration": 0.020125,
     "end_time": "2021-06-24T13:40:09.276237",
     "exception": false,
     "start_time": "2021-06-24T13:40:09.256112",
     "status": "completed"
    },
    "tags": []
   },
   "outputs": [],
   "source": [
    "df_final=pd.get_dummies(df.drop(['region','Date'],axis=1),drop_first=True)"
   ]
  },
  {
   "cell_type": "markdown",
   "metadata": {
    "_uuid": "8b74a6b88cb3e9b3e1d1e987e061048f203c7364",
    "papermill": {
     "duration": 0.006684,
     "end_time": "2021-06-24T13:40:09.288158",
     "exception": false,
     "start_time": "2021-06-24T13:40:09.281474",
     "status": "completed"
    },
    "tags": []
   },
   "source": [
    "Now our data are ready! lets apply our model which is going to be the Linear Regression because our Target variable 'AveragePrice'is continuous.\n",
    "Let's now begin to train out regression model! We will need to first split up our data into an X array that contains the features to train on, and a y array with the target variable"
   ]
  },
  {
   "cell_type": "code",
   "execution_count": 9,
   "metadata": {
    "_uuid": "830591f99de9715241e688bf9ce265e979401ff5",
    "execution": {
     "iopub.execute_input": "2021-06-24T13:40:09.312929Z",
     "iopub.status.busy": "2021-06-24T13:40:09.312111Z",
     "iopub.status.idle": "2021-06-24T13:40:09.323614Z",
     "shell.execute_reply": "2021-06-24T13:40:09.324182Z"
    },
    "jupyter": {
     "source_hidden": true
    },
    "papermill": {
     "duration": 0.027014,
     "end_time": "2021-06-24T13:40:09.324488",
     "exception": false,
     "start_time": "2021-06-24T13:40:09.297474",
     "status": "completed"
    },
    "tags": []
   },
   "outputs": [],
   "source": [
    "X=df_final.iloc[:,1:14]\n",
    "y=df_final['AveragePrice']\n",
    "from sklearn.model_selection import train_test_split\n",
    "X_train,X_test,y_train,y_test=train_test_split(X,y,test_size=0.2,random_state=42)"
   ]
  },
  {
   "cell_type": "markdown",
   "metadata": {
    "_uuid": "ea730c77a31cde9de98263079a189accb8b5772b",
    "papermill": {
     "duration": 0.005761,
     "end_time": "2021-06-24T13:40:09.336018",
     "exception": false,
     "start_time": "2021-06-24T13:40:09.330257",
     "status": "completed"
    },
    "tags": []
   },
   "source": [
    "Creating and Training the Model"
   ]
  },
  {
   "cell_type": "code",
   "execution_count": 10,
   "metadata": {
    "_uuid": "eb37015e78974e5fd2ae7e13d065c8ab0a9c6948",
    "execution": {
     "iopub.execute_input": "2021-06-24T13:40:09.352276Z",
     "iopub.status.busy": "2021-06-24T13:40:09.351611Z",
     "iopub.status.idle": "2021-06-24T13:40:17.119003Z",
     "shell.execute_reply": "2021-06-24T13:40:17.118537Z"
    },
    "jupyter": {
     "source_hidden": true
    },
    "papermill": {
     "duration": 7.777809,
     "end_time": "2021-06-24T13:40:17.119257",
     "exception": false,
     "start_time": "2021-06-24T13:40:09.341448",
     "status": "completed"
    },
    "tags": []
   },
   "outputs": [],
   "source": [
    "from sklearn.ensemble import RandomForestRegressor\n",
    "rdr = RandomForestRegressor(\n",
    "    n_estimators=n_estimators,\n",
    "    max_features=max_features\n",
    ")\n",
    "rdr.fit(X_train,y_train)\n",
    "pred=rdr.predict(X_test)"
   ]
  },
  {
   "cell_type": "code",
   "execution_count": 11,
   "metadata": {
    "_uuid": "7ed5b8d4e8abb44a4b548c13ac9fb2d65227d1c5",
    "execution": {
     "iopub.execute_input": "2021-06-24T13:40:17.134163Z",
     "iopub.status.busy": "2021-06-24T13:40:17.133563Z",
     "iopub.status.idle": "2021-06-24T13:40:17.136643Z",
     "shell.execute_reply": "2021-06-24T13:40:17.136152Z"
    },
    "jupyter": {
     "source_hidden": true
    },
    "papermill": {
     "duration": 0.011738,
     "end_time": "2021-06-24T13:40:17.136826",
     "exception": false,
     "start_time": "2021-06-24T13:40:17.125088",
     "status": "completed"
    },
    "tags": []
   },
   "outputs": [],
   "source": [
    "#%%capture cap --no-stderr\n",
    "#print(np.sqrt(mean_squared_error(y_test, pred)))"
   ]
  },
  {
   "cell_type": "code",
   "execution_count": 12,
   "metadata": {
    "execution": {
     "iopub.execute_input": "2021-06-24T13:40:17.150931Z",
     "iopub.status.busy": "2021-06-24T13:40:17.150423Z",
     "iopub.status.idle": "2021-06-24T13:40:17.153293Z",
     "shell.execute_reply": "2021-06-24T13:40:17.152689Z"
    },
    "jupyter": {
     "source_hidden": true
    },
    "papermill": {
     "duration": 0.011132,
     "end_time": "2021-06-24T13:40:17.153469",
     "exception": false,
     "start_time": "2021-06-24T13:40:17.142337",
     "status": "completed"
    },
    "tags": []
   },
   "outputs": [],
   "source": [
    "#with open(output_rmse, 'w') as f:\n",
    "#    f.write(cap.stdout)"
   ]
  },
  {
   "cell_type": "code",
   "execution_count": 13,
   "metadata": {
    "execution": {
     "iopub.execute_input": "2021-06-24T13:40:17.168970Z",
     "iopub.status.busy": "2021-06-24T13:40:17.167748Z",
     "iopub.status.idle": "2021-06-24T13:40:17.190311Z",
     "shell.execute_reply": "2021-06-24T13:40:17.189888Z"
    },
    "jupyter": {
     "source_hidden": true
    },
    "papermill": {
     "duration": 0.032573,
     "end_time": "2021-06-24T13:40:17.190489",
     "exception": false,
     "start_time": "2021-06-24T13:40:17.157916",
     "status": "completed"
    },
    "tags": []
   },
   "outputs": [
    {
     "data": {
      "text/plain": [
       "<sqlalchemy.engine.result.ResultProxy at 0x7fd64ed13950>"
      ]
     },
     "execution_count": 13,
     "metadata": {},
     "output_type": "execute_result"
    }
   ],
   "source": [
    "cnx.execute(\"\"\"\n",
    "    INSERT INTO ml.accuracies (ml_id, ml_date, accuracy) VALUES ('{0}', '{1}', {2}) \n",
    "    ON CONFLICT (ml_id, ml_date) \n",
    "    DO\n",
    "        UPDATE SET accuracy = {2};\n",
    "    \"\"\".format(ml_id, ml_date, np.sqrt(mean_squared_error(y_test, pred))))"
   ]
  }
 ],
 "metadata": {
  "kernelspec": {
   "display_name": "Python 3",
   "language": "python",
   "name": "python3"
  },
  "language_info": {
   "codemirror_mode": {
    "name": "ipython",
    "version": 3
   },
   "file_extension": ".py",
   "mimetype": "text/x-python",
   "name": "python",
   "nbconvert_exporter": "python",
   "pygments_lexer": "ipython3",
   "version": "3.7.10"
  },
  "papermill": {
   "duration": 11.374326,
   "end_time": "2021-06-24T13:40:18.493696",
   "environment_variables": {},
   "exception": null,
   "input_path": "/usr/local/airflow/include/notebooks/avocado_prediction.ipynb",
   "output_path": "/tmp/out-model-avocado-prediction-auto_100.ipynb",
   "parameters": {
    "filepath": "/tmp/avocado.csv",
    "max_features": "auto",
    "ml_id": "auto_100",
    "n_estimators": 100
   },
   "start_time": "2021-06-24T13:40:07.119370",
   "version": "2.1.2"
  }
 },
 "nbformat": 4,
 "nbformat_minor": 4
}