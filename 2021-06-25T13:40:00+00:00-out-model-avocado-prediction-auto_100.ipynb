{
 "cells": [
  {
   "cell_type": "code",
   "execution_count": 1,
   "metadata": {
    "_cell_guid": "79c7e3d0-c299-4dcb-8224-4455121ee9b0",
    "_uuid": "d629ff2d2480ee46fbb7e2d37f6b5fab8052498a",
    "execution": {
     "iopub.execute_input": "2021-06-25T13:50:10.284893Z",
     "iopub.status.busy": "2021-06-25T13:50:10.284223Z",
     "iopub.status.idle": "2021-06-25T13:50:11.152959Z",
     "shell.execute_reply": "2021-06-25T13:50:11.152042Z"
    },
    "jupyter": {
     "source_hidden": true
    },
    "papermill": {
     "duration": 0.88459,
     "end_time": "2021-06-25T13:50:11.153349",
     "exception": false,
     "start_time": "2021-06-25T13:50:10.268759",
     "status": "completed"
    },
    "tags": []
   },
   "outputs": [],
   "source": [
    "import pandas as pd\n",
    "import numpy as np\n",
    "from sqlalchemy import create_engine\n",
    "from datetime import date\n",
    "from sklearn.metrics import mean_squared_error"
   ]
  },
  {
   "cell_type": "code",
   "execution_count": 2,
   "metadata": {
    "execution": {
     "iopub.execute_input": "2021-06-25T13:50:11.174374Z",
     "iopub.status.busy": "2021-06-25T13:50:11.173471Z",
     "iopub.status.idle": "2021-06-25T13:50:11.206385Z",
     "shell.execute_reply": "2021-06-25T13:50:11.205696Z"
    },
    "jupyter": {
     "source_hidden": true
    },
    "papermill": {
     "duration": 0.045373,
     "end_time": "2021-06-25T13:50:11.206589",
     "exception": false,
     "start_time": "2021-06-25T13:50:11.161216",
     "status": "completed"
    },
    "tags": []
   },
   "outputs": [],
   "source": [
    "# THIS IS PURELY FOR TEST PURPOSE NEVER DO THAT IN PRODUCTION\n",
    "POSTGRES_ADDRESS='postgres'\n",
    "POSTGRES_PORT='5432'\n",
    "POSTGRES_USERNAME='postgres'\n",
    "POSTGRES_PASSWORD='postgres'\n",
    "\n",
    "postgres_conn = 'postgresql://{0}:{1}@{2}:{3}/'.format(POSTGRES_USERNAME, POSTGRES_PASSWORD, POSTGRES_ADDRESS, POSTGRES_PORT)\n",
    "\n",
    "# Create the connection\n",
    "cnx = create_engine(postgres_conn)\n"
   ]
  },
  {
   "cell_type": "markdown",
   "metadata": {
    "_uuid": "1998755ef10683262b29765345cff1c1c7d10b15",
    "papermill": {
     "duration": 0.005066,
     "end_time": "2021-06-25T13:50:11.221054",
     "exception": false,
     "start_time": "2021-06-25T13:50:11.215988",
     "status": "completed"
    },
    "tags": []
   },
   "source": [
    "Read in the Avocado Prices csv file as a DataFrame called df"
   ]
  },
  {
   "cell_type": "code",
   "execution_count": 3,
   "metadata": {
    "execution": {
     "iopub.execute_input": "2021-06-25T13:50:11.240520Z",
     "iopub.status.busy": "2021-06-25T13:50:11.239831Z",
     "iopub.status.idle": "2021-06-25T13:50:11.242946Z",
     "shell.execute_reply": "2021-06-25T13:50:11.242422Z"
    },
    "jupyter": {
     "source_hidden": true
    },
    "papermill": {
     "duration": 0.017135,
     "end_time": "2021-06-25T13:50:11.243143",
     "exception": false,
     "start_time": "2021-06-25T13:50:11.226008",
     "status": "completed"
    },
    "tags": [
     "parameters"
    ]
   },
   "outputs": [],
   "source": [
    "# Parameterized\n",
    "\n",
    "filepath='avocado.csv'\n",
    "ml_id='auto_100'\n",
    "ml_date=date.today()\n",
    "n_estimators = 100\n",
    "max_features = 'auto'"
   ]
  },
  {
   "cell_type": "code",
   "execution_count": 4,
   "id": "f6c60f40",
   "metadata": {
    "execution": {
     "iopub.execute_input": "2021-06-25T13:50:11.262750Z",
     "iopub.status.busy": "2021-06-25T13:50:11.262064Z",
     "iopub.status.idle": "2021-06-25T13:50:11.265101Z",
     "shell.execute_reply": "2021-06-25T13:50:11.264415Z"
    },
    "jupyter": {
     "source_hidden": true
    },
    "papermill": {
     "duration": 0.015523,
     "end_time": "2021-06-25T13:50:11.265308",
     "exception": false,
     "start_time": "2021-06-25T13:50:11.249785",
     "status": "completed"
    },
    "tags": [
     "injected-parameters"
    ]
   },
   "outputs": [],
   "source": [
    "# Parameters\n",
    "filepath = \"/tmp/avocado.csv\"\n",
    "n_estimators = 100\n",
    "max_features = \"auto\"\n",
    "ml_id = \"auto_100\"\n"
   ]
  },
  {
   "cell_type": "code",
   "execution_count": 5,
   "metadata": {
    "_uuid": "55d0e719eb8b91d763c1eacaf0f51ee0586486fc",
    "execution": {
     "iopub.execute_input": "2021-06-25T13:50:11.285627Z",
     "iopub.status.busy": "2021-06-25T13:50:11.285034Z",
     "iopub.status.idle": "2021-06-25T13:50:11.322886Z",
     "shell.execute_reply": "2021-06-25T13:50:11.323332Z"
    },
    "jupyter": {
     "source_hidden": true
    },
    "papermill": {
     "duration": 0.048868,
     "end_time": "2021-06-25T13:50:11.323574",
     "exception": false,
     "start_time": "2021-06-25T13:50:11.274706",
     "status": "completed"
    },
    "tags": []
   },
   "outputs": [],
   "source": [
    "df= pd.read_csv(filepath)"
   ]
  },
  {
   "cell_type": "markdown",
   "metadata": {
    "_uuid": "434e0457f550e2200424e5ec26162e1aa5904005",
    "papermill": {
     "duration": 0.006899,
     "end_time": "2021-06-25T13:50:11.338288",
     "exception": false,
     "start_time": "2021-06-25T13:50:11.331389",
     "status": "completed"
    },
    "tags": []
   },
   "source": [
    "The Feature \"Unnamed:0\" is just a representation of the indexes, so it's useless to keep it, lets remove it !"
   ]
  },
  {
   "cell_type": "code",
   "execution_count": 6,
   "metadata": {
    "_uuid": "9875398e37728dc3141fed4228be337a4735beb6",
    "execution": {
     "iopub.execute_input": "2021-06-25T13:50:11.361852Z",
     "iopub.status.busy": "2021-06-25T13:50:11.361166Z",
     "iopub.status.idle": "2021-06-25T13:50:11.364059Z",
     "shell.execute_reply": "2021-06-25T13:50:11.363384Z"
    },
    "jupyter": {
     "source_hidden": true
    },
    "papermill": {
     "duration": 0.020166,
     "end_time": "2021-06-25T13:50:11.364283",
     "exception": false,
     "start_time": "2021-06-25T13:50:11.344117",
     "status": "completed"
    },
    "tags": []
   },
   "outputs": [],
   "source": [
    "df.drop('Unnamed: 0',axis=1,inplace=True)"
   ]
  },
  {
   "cell_type": "markdown",
   "metadata": {
    "_uuid": "12e94ad381e4cb8d2c8a9bbe08ce07ab5d49c040",
    "papermill": {
     "duration": 0.00948,
     "end_time": "2021-06-25T13:50:11.381657",
     "exception": false,
     "start_time": "2021-06-25T13:50:11.372177",
     "status": "completed"
    },
    "tags": []
   },
   "source": [
    "well as a first observation we can see that we are lucky, we dont have any missing values (18249 complete data) and 13 columns.\n",
    "Now let's do some Feature Engineering on the Date Feature so we can be able to use the day and the month columns in building our machine learning model later. ( I didn't mention the year because its already there in data frame)"
   ]
  },
  {
   "cell_type": "code",
   "execution_count": 7,
   "metadata": {
    "_uuid": "f031639ce794656e877484d1c9c356df7028177f",
    "execution": {
     "iopub.execute_input": "2021-06-25T13:50:11.404422Z",
     "iopub.status.busy": "2021-06-25T13:50:11.403836Z",
     "iopub.status.idle": "2021-06-25T13:50:11.553020Z",
     "shell.execute_reply": "2021-06-25T13:50:11.551911Z"
    },
    "jupyter": {
     "source_hidden": true
    },
    "papermill": {
     "duration": 0.166237,
     "end_time": "2021-06-25T13:50:11.553380",
     "exception": false,
     "start_time": "2021-06-25T13:50:11.387143",
     "status": "completed"
    },
    "tags": []
   },
   "outputs": [],
   "source": [
    "df['Date']=pd.to_datetime(df['Date'])\n",
    "df['Month']=df['Date'].apply(lambda x:x.month)\n",
    "df['Day']=df['Date'].apply(lambda x:x.day)"
   ]
  },
  {
   "cell_type": "markdown",
   "metadata": {
    "_uuid": "ebdcac9924ce3e366fd3a75170682f7113385b7a",
    "papermill": {
     "duration": 0.005799,
     "end_time": "2021-06-25T13:50:11.566296",
     "exception": false,
     "start_time": "2021-06-25T13:50:11.560497",
     "status": "completed"
    },
    "tags": []
   },
   "source": [
    "as we can see we have 54 regions and 2 unique types, so it's going to be easy to to transform the type feature to dummies, but for the region its going to be a bit complexe so I decided to drop the entire column.\n",
    "I will drop the Date Feature as well because I already have 3 other columns for the Year, Month and Day."
   ]
  },
  {
   "cell_type": "code",
   "execution_count": 8,
   "metadata": {
    "_uuid": "a798682da34327b731ef262985fd50ba68e06460",
    "execution": {
     "iopub.execute_input": "2021-06-25T13:50:11.587346Z",
     "iopub.status.busy": "2021-06-25T13:50:11.586686Z",
     "iopub.status.idle": "2021-06-25T13:50:11.601416Z",
     "shell.execute_reply": "2021-06-25T13:50:11.600920Z"
    },
    "jupyter": {
     "source_hidden": true
    },
    "papermill": {
     "duration": 0.026626,
     "end_time": "2021-06-25T13:50:11.601623",
     "exception": false,
     "start_time": "2021-06-25T13:50:11.574997",
     "status": "completed"
    },
    "tags": []
   },
   "outputs": [],
   "source": [
    "df_final=pd.get_dummies(df.drop(['region','Date'],axis=1),drop_first=True)"
   ]
  },
  {
   "cell_type": "markdown",
   "metadata": {
    "_uuid": "8b74a6b88cb3e9b3e1d1e987e061048f203c7364",
    "papermill": {
     "duration": 0.007473,
     "end_time": "2021-06-25T13:50:11.614747",
     "exception": false,
     "start_time": "2021-06-25T13:50:11.607274",
     "status": "completed"
    },
    "tags": []
   },
   "source": [
    "Now our data are ready! lets apply our model which is going to be the Linear Regression because our Target variable 'AveragePrice'is continuous.\n",
    "Let's now begin to train out regression model! We will need to first split up our data into an X array that contains the features to train on, and a y array with the target variable"
   ]
  },
  {
   "cell_type": "code",
   "execution_count": 9,
   "metadata": {
    "_uuid": "830591f99de9715241e688bf9ce265e979401ff5",
    "execution": {
     "iopub.execute_input": "2021-06-25T13:50:11.635496Z",
     "iopub.status.busy": "2021-06-25T13:50:11.634305Z",
     "iopub.status.idle": "2021-06-25T13:50:11.646519Z",
     "shell.execute_reply": "2021-06-25T13:50:11.645996Z"
    },
    "jupyter": {
     "source_hidden": true
    },
    "papermill": {
     "duration": 0.025739,
     "end_time": "2021-06-25T13:50:11.646739",
     "exception": false,
     "start_time": "2021-06-25T13:50:11.621000",
     "status": "completed"
    },
    "tags": []
   },
   "outputs": [],
   "source": [
    "X=df_final.iloc[:,1:14]\n",
    "y=df_final['AveragePrice']\n",
    "from sklearn.model_selection import train_test_split\n",
    "X_train,X_test,y_train,y_test=train_test_split(X,y,test_size=0.2,random_state=42)"
   ]
  },
  {
   "cell_type": "markdown",
   "metadata": {
    "_uuid": "ea730c77a31cde9de98263079a189accb8b5772b",
    "papermill": {
     "duration": 0.006484,
     "end_time": "2021-06-25T13:50:11.665285",
     "exception": false,
     "start_time": "2021-06-25T13:50:11.658801",
     "status": "completed"
    },
    "tags": []
   },
   "source": [
    "Creating and Training the Model"
   ]
  },
  {
   "cell_type": "code",
   "execution_count": 10,
   "metadata": {
    "_uuid": "eb37015e78974e5fd2ae7e13d065c8ab0a9c6948",
    "execution": {
     "iopub.execute_input": "2021-06-25T13:50:11.684432Z",
     "iopub.status.busy": "2021-06-25T13:50:11.683794Z",
     "iopub.status.idle": "2021-06-25T13:50:21.149109Z",
     "shell.execute_reply": "2021-06-25T13:50:21.148550Z"
    },
    "jupyter": {
     "source_hidden": true
    },
    "papermill": {
     "duration": 9.475017,
     "end_time": "2021-06-25T13:50:21.149324",
     "exception": false,
     "start_time": "2021-06-25T13:50:11.674307",
     "status": "completed"
    },
    "tags": []
   },
   "outputs": [],
   "source": [
    "from sklearn.ensemble import RandomForestRegressor\n",
    "rdr = RandomForestRegressor(\n",
    "    n_estimators=n_estimators,\n",
    "    max_features=max_features\n",
    ")\n",
    "rdr.fit(X_train,y_train)\n",
    "pred=rdr.predict(X_test)"
   ]
  },
  {
   "cell_type": "code",
   "execution_count": 11,
   "metadata": {
    "_uuid": "7ed5b8d4e8abb44a4b548c13ac9fb2d65227d1c5",
    "execution": {
     "iopub.execute_input": "2021-06-25T13:50:21.164943Z",
     "iopub.status.busy": "2021-06-25T13:50:21.164109Z",
     "iopub.status.idle": "2021-06-25T13:50:21.168082Z",
     "shell.execute_reply": "2021-06-25T13:50:21.167389Z"
    },
    "jupyter": {
     "source_hidden": true
    },
    "papermill": {
     "duration": 0.012959,
     "end_time": "2021-06-25T13:50:21.168280",
     "exception": false,
     "start_time": "2021-06-25T13:50:21.155321",
     "status": "completed"
    },
    "tags": []
   },
   "outputs": [],
   "source": [
    "#%%capture cap --no-stderr\n",
    "#print(np.sqrt(mean_squared_error(y_test, pred)))"
   ]
  },
  {
   "cell_type": "code",
   "execution_count": 12,
   "metadata": {
    "execution": {
     "iopub.execute_input": "2021-06-25T13:50:21.184570Z",
     "iopub.status.busy": "2021-06-25T13:50:21.183731Z",
     "iopub.status.idle": "2021-06-25T13:50:21.187425Z",
     "shell.execute_reply": "2021-06-25T13:50:21.186831Z"
    },
    "jupyter": {
     "source_hidden": true
    },
    "papermill": {
     "duration": 0.012892,
     "end_time": "2021-06-25T13:50:21.187632",
     "exception": false,
     "start_time": "2021-06-25T13:50:21.174740",
     "status": "completed"
    },
    "tags": []
   },
   "outputs": [],
   "source": [
    "#with open(output_rmse, 'w') as f:\n",
    "#    f.write(cap.stdout)"
   ]
  },
  {
   "cell_type": "code",
   "execution_count": 13,
   "metadata": {
    "execution": {
     "iopub.execute_input": "2021-06-25T13:50:21.207163Z",
     "iopub.status.busy": "2021-06-25T13:50:21.206304Z",
     "iopub.status.idle": "2021-06-25T13:50:21.227717Z",
     "shell.execute_reply": "2021-06-25T13:50:21.228210Z"
    },
    "jupyter": {
     "source_hidden": true
    },
    "papermill": {
     "duration": 0.034189,
     "end_time": "2021-06-25T13:50:21.228462",
     "exception": false,
     "start_time": "2021-06-25T13:50:21.194273",
     "status": "completed"
    },
    "tags": []
   },
   "outputs": [
    {
     "data": {
      "text/plain": [
       "<sqlalchemy.engine.result.ResultProxy at 0x7f3df0a34f50>"
      ]
     },
     "execution_count": 13,
     "metadata": {},
     "output_type": "execute_result"
    }
   ],
   "source": [
    "cnx.execute(\"\"\"\n",
    "    INSERT INTO ml.accuracies (ml_id, ml_date, accuracy) VALUES ('{0}', '{1}', {2}) \n",
    "    ON CONFLICT (ml_id, ml_date) \n",
    "    DO\n",
    "        UPDATE SET accuracy = {2};\n",
    "    \"\"\".format(ml_id, ml_date, np.sqrt(mean_squared_error(y_test, pred))))"
   ]
  }
 ],
 "metadata": {
  "kernelspec": {
   "display_name": "Python 3",
   "language": "python",
   "name": "python3"
  },
  "language_info": {
   "codemirror_mode": {
    "name": "ipython",
    "version": 3
   },
   "file_extension": ".py",
   "mimetype": "text/x-python",
   "name": "python",
   "nbconvert_exporter": "python",
   "pygments_lexer": "ipython3",
   "version": "3.7.10"
  },
  "papermill": {
   "duration": 13.485973,
   "end_time": "2021-06-25T13:50:22.489461",
   "environment_variables": {},
   "exception": null,
   "input_path": "/usr/local/airflow/include/notebooks/avocado_prediction.ipynb",
   "output_path": "/tmp/out-model-avocado-prediction-auto_100.ipynb",
   "parameters": {
    "filepath": "/tmp/avocado.csv",
    "max_features": "auto",
    "ml_id": "auto_100",
    "n_estimators": 100
   },
   "start_time": "2021-06-25T13:50:09.003488",
   "version": "2.1.2"
  }
 },
 "nbformat": 4,
 "nbformat_minor": 4
}