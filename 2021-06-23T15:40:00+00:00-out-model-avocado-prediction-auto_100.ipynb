{
 "cells": [
  {
   "cell_type": "code",
   "execution_count": 1,
   "metadata": {
    "_cell_guid": "79c7e3d0-c299-4dcb-8224-4455121ee9b0",
    "_uuid": "d629ff2d2480ee46fbb7e2d37f6b5fab8052498a",
    "execution": {
     "iopub.execute_input": "2021-06-23T15:50:08.785829Z",
     "iopub.status.busy": "2021-06-23T15:50:08.785065Z",
     "iopub.status.idle": "2021-06-23T15:50:09.653860Z",
     "shell.execute_reply": "2021-06-23T15:50:09.655089Z"
    },
    "jupyter": {
     "source_hidden": true
    },
    "papermill": {
     "duration": 0.88525,
     "end_time": "2021-06-23T15:50:09.655821",
     "exception": false,
     "start_time": "2021-06-23T15:50:08.770571",
     "status": "completed"
    },
    "tags": []
   },
   "outputs": [],
   "source": [
    "import pandas as pd\n",
    "import numpy as np\n",
    "from sqlalchemy import create_engine\n",
    "from datetime import date\n",
    "from sklearn.metrics import mean_squared_error"
   ]
  },
  {
   "cell_type": "code",
   "execution_count": 2,
   "metadata": {
    "execution": {
     "iopub.execute_input": "2021-06-23T15:50:09.682043Z",
     "iopub.status.busy": "2021-06-23T15:50:09.681334Z",
     "iopub.status.idle": "2021-06-23T15:50:09.714608Z",
     "shell.execute_reply": "2021-06-23T15:50:09.715366Z"
    },
    "jupyter": {
     "source_hidden": true
    },
    "papermill": {
     "duration": 0.049477,
     "end_time": "2021-06-23T15:50:09.715912",
     "exception": false,
     "start_time": "2021-06-23T15:50:09.666435",
     "status": "completed"
    },
    "tags": []
   },
   "outputs": [],
   "source": [
    "# THIS IS PURELY FOR TEST PURPOSE NEVER DO THAT IN PRODUCTION\n",
    "POSTGRES_ADDRESS='postgres'\n",
    "POSTGRES_PORT='5432'\n",
    "POSTGRES_USERNAME='postgres'\n",
    "POSTGRES_PASSWORD='postgres'\n",
    "\n",
    "postgres_conn = 'postgresql://{0}:{1}@{2}:{3}/'.format(POSTGRES_USERNAME, POSTGRES_PASSWORD, POSTGRES_ADDRESS, POSTGRES_PORT)\n",
    "\n",
    "# Create the connection\n",
    "cnx = create_engine(postgres_conn)\n"
   ]
  },
  {
   "cell_type": "markdown",
   "metadata": {
    "_uuid": "1998755ef10683262b29765345cff1c1c7d10b15",
    "papermill": {
     "duration": 0.005824,
     "end_time": "2021-06-23T15:50:09.729246",
     "exception": false,
     "start_time": "2021-06-23T15:50:09.723422",
     "status": "completed"
    },
    "tags": []
   },
   "source": [
    "Read in the Avocado Prices csv file as a DataFrame called df"
   ]
  },
  {
   "cell_type": "code",
   "execution_count": 3,
   "metadata": {
    "execution": {
     "iopub.execute_input": "2021-06-23T15:50:09.747390Z",
     "iopub.status.busy": "2021-06-23T15:50:09.746773Z",
     "iopub.status.idle": "2021-06-23T15:50:09.748903Z",
     "shell.execute_reply": "2021-06-23T15:50:09.749549Z"
    },
    "jupyter": {
     "source_hidden": true
    },
    "papermill": {
     "duration": 0.013799,
     "end_time": "2021-06-23T15:50:09.749788",
     "exception": false,
     "start_time": "2021-06-23T15:50:09.735989",
     "status": "completed"
    },
    "tags": [
     "parameters"
    ]
   },
   "outputs": [],
   "source": [
    "# Parameterized\n",
    "\n",
    "filepath='avocado.csv'\n",
    "ml_id='auto_100'\n",
    "ml_date=date.today()\n",
    "n_estimators = 100\n",
    "max_features = 'auto'"
   ]
  },
  {
   "cell_type": "code",
   "execution_count": 4,
   "id": "3602d362",
   "metadata": {
    "execution": {
     "iopub.execute_input": "2021-06-23T15:50:09.769570Z",
     "iopub.status.busy": "2021-06-23T15:50:09.768874Z",
     "iopub.status.idle": "2021-06-23T15:50:09.771903Z",
     "shell.execute_reply": "2021-06-23T15:50:09.771473Z"
    },
    "jupyter": {
     "source_hidden": true
    },
    "papermill": {
     "duration": 0.015034,
     "end_time": "2021-06-23T15:50:09.772101",
     "exception": false,
     "start_time": "2021-06-23T15:50:09.757067",
     "status": "completed"
    },
    "tags": [
     "injected-parameters"
    ]
   },
   "outputs": [],
   "source": [
    "# Parameters\n",
    "filepath = \"/tmp/avocado.csv\"\n",
    "n_estimators = 100\n",
    "max_features = \"auto\"\n",
    "ml_id = \"auto_100\"\n"
   ]
  },
  {
   "cell_type": "code",
   "execution_count": 5,
   "metadata": {
    "_uuid": "55d0e719eb8b91d763c1eacaf0f51ee0586486fc",
    "execution": {
     "iopub.execute_input": "2021-06-23T15:50:09.792474Z",
     "iopub.status.busy": "2021-06-23T15:50:09.791837Z",
     "iopub.status.idle": "2021-06-23T15:50:09.832536Z",
     "shell.execute_reply": "2021-06-23T15:50:09.832946Z"
    },
    "jupyter": {
     "source_hidden": true
    },
    "papermill": {
     "duration": 0.050964,
     "end_time": "2021-06-23T15:50:09.833291",
     "exception": false,
     "start_time": "2021-06-23T15:50:09.782327",
     "status": "completed"
    },
    "tags": []
   },
   "outputs": [],
   "source": [
    "df= pd.read_csv(filepath)"
   ]
  },
  {
   "cell_type": "markdown",
   "metadata": {
    "_uuid": "434e0457f550e2200424e5ec26162e1aa5904005",
    "papermill": {
     "duration": 0.005781,
     "end_time": "2021-06-23T15:50:09.849616",
     "exception": false,
     "start_time": "2021-06-23T15:50:09.843835",
     "status": "completed"
    },
    "tags": []
   },
   "source": [
    "The Feature \"Unnamed:0\" is just a representation of the indexes, so it's useless to keep it, lets remove it !"
   ]
  },
  {
   "cell_type": "code",
   "execution_count": 6,
   "metadata": {
    "_uuid": "9875398e37728dc3141fed4228be337a4735beb6",
    "execution": {
     "iopub.execute_input": "2021-06-23T15:50:09.876705Z",
     "iopub.status.busy": "2021-06-23T15:50:09.875239Z",
     "iopub.status.idle": "2021-06-23T15:50:09.879455Z",
     "shell.execute_reply": "2021-06-23T15:50:09.878647Z"
    },
    "jupyter": {
     "source_hidden": true
    },
    "papermill": {
     "duration": 0.021952,
     "end_time": "2021-06-23T15:50:09.879789",
     "exception": false,
     "start_time": "2021-06-23T15:50:09.857837",
     "status": "completed"
    },
    "tags": []
   },
   "outputs": [],
   "source": [
    "df.drop('Unnamed: 0',axis=1,inplace=True)"
   ]
  },
  {
   "cell_type": "markdown",
   "metadata": {
    "_uuid": "12e94ad381e4cb8d2c8a9bbe08ce07ab5d49c040",
    "papermill": {
     "duration": 0.005867,
     "end_time": "2021-06-23T15:50:09.892034",
     "exception": false,
     "start_time": "2021-06-23T15:50:09.886167",
     "status": "completed"
    },
    "tags": []
   },
   "source": [
    "well as a first observation we can see that we are lucky, we dont have any missing values (18249 complete data) and 13 columns.\n",
    "Now let's do some Feature Engineering on the Date Feature so we can be able to use the day and the month columns in building our machine learning model later. ( I didn't mention the year because its already there in data frame)"
   ]
  },
  {
   "cell_type": "code",
   "execution_count": 7,
   "metadata": {
    "_uuid": "f031639ce794656e877484d1c9c356df7028177f",
    "execution": {
     "iopub.execute_input": "2021-06-23T15:50:09.924392Z",
     "iopub.status.busy": "2021-06-23T15:50:09.919992Z",
     "iopub.status.idle": "2021-06-23T15:50:10.076866Z",
     "shell.execute_reply": "2021-06-23T15:50:10.075954Z"
    },
    "jupyter": {
     "source_hidden": true
    },
    "papermill": {
     "duration": 0.176793,
     "end_time": "2021-06-23T15:50:10.077451",
     "exception": false,
     "start_time": "2021-06-23T15:50:09.900658",
     "status": "completed"
    },
    "tags": []
   },
   "outputs": [],
   "source": [
    "df['Date']=pd.to_datetime(df['Date'])\n",
    "df['Month']=df['Date'].apply(lambda x:x.month)\n",
    "df['Day']=df['Date'].apply(lambda x:x.day)"
   ]
  },
  {
   "cell_type": "markdown",
   "metadata": {
    "_uuid": "ebdcac9924ce3e366fd3a75170682f7113385b7a",
    "papermill": {
     "duration": 0.00586,
     "end_time": "2021-06-23T15:50:10.091885",
     "exception": false,
     "start_time": "2021-06-23T15:50:10.086025",
     "status": "completed"
    },
    "tags": []
   },
   "source": [
    "as we can see we have 54 regions and 2 unique types, so it's going to be easy to to transform the type feature to dummies, but for the region its going to be a bit complexe so I decided to drop the entire column.\n",
    "I will drop the Date Feature as well because I already have 3 other columns for the Year, Month and Day."
   ]
  },
  {
   "cell_type": "code",
   "execution_count": 8,
   "metadata": {
    "_uuid": "a798682da34327b731ef262985fd50ba68e06460",
    "execution": {
     "iopub.execute_input": "2021-06-23T15:50:10.122309Z",
     "iopub.status.busy": "2021-06-23T15:50:10.121173Z",
     "iopub.status.idle": "2021-06-23T15:50:10.128280Z",
     "shell.execute_reply": "2021-06-23T15:50:10.127616Z"
    },
    "jupyter": {
     "source_hidden": true
    },
    "papermill": {
     "duration": 0.02788,
     "end_time": "2021-06-23T15:50:10.128523",
     "exception": false,
     "start_time": "2021-06-23T15:50:10.100643",
     "status": "completed"
    },
    "tags": []
   },
   "outputs": [],
   "source": [
    "df_final=pd.get_dummies(df.drop(['region','Date'],axis=1),drop_first=True)"
   ]
  },
  {
   "cell_type": "markdown",
   "metadata": {
    "_uuid": "8b74a6b88cb3e9b3e1d1e987e061048f203c7364",
    "papermill": {
     "duration": 0.010343,
     "end_time": "2021-06-23T15:50:10.146093",
     "exception": false,
     "start_time": "2021-06-23T15:50:10.135750",
     "status": "completed"
    },
    "tags": []
   },
   "source": [
    "Now our data are ready! lets apply our model which is going to be the Linear Regression because our Target variable 'AveragePrice'is continuous.\n",
    "Let's now begin to train out regression model! We will need to first split up our data into an X array that contains the features to train on, and a y array with the target variable"
   ]
  },
  {
   "cell_type": "code",
   "execution_count": 9,
   "metadata": {
    "_uuid": "830591f99de9715241e688bf9ce265e979401ff5",
    "execution": {
     "iopub.execute_input": "2021-06-23T15:50:10.167541Z",
     "iopub.status.busy": "2021-06-23T15:50:10.166957Z",
     "iopub.status.idle": "2021-06-23T15:50:10.180003Z",
     "shell.execute_reply": "2021-06-23T15:50:10.179543Z"
    },
    "jupyter": {
     "source_hidden": true
    },
    "papermill": {
     "duration": 0.028123,
     "end_time": "2021-06-23T15:50:10.180201",
     "exception": false,
     "start_time": "2021-06-23T15:50:10.152078",
     "status": "completed"
    },
    "tags": []
   },
   "outputs": [],
   "source": [
    "X=df_final.iloc[:,1:14]\n",
    "y=df_final['AveragePrice']\n",
    "from sklearn.model_selection import train_test_split\n",
    "X_train,X_test,y_train,y_test=train_test_split(X,y,test_size=0.2,random_state=42)"
   ]
  },
  {
   "cell_type": "markdown",
   "metadata": {
    "_uuid": "ea730c77a31cde9de98263079a189accb8b5772b",
    "papermill": {
     "duration": 0.006273,
     "end_time": "2021-06-23T15:50:10.192188",
     "exception": false,
     "start_time": "2021-06-23T15:50:10.185915",
     "status": "completed"
    },
    "tags": []
   },
   "source": [
    "Creating and Training the Model"
   ]
  },
  {
   "cell_type": "code",
   "execution_count": 10,
   "metadata": {
    "_uuid": "eb37015e78974e5fd2ae7e13d065c8ab0a9c6948",
    "execution": {
     "iopub.execute_input": "2021-06-23T15:50:10.212765Z",
     "iopub.status.busy": "2021-06-23T15:50:10.212135Z",
     "iopub.status.idle": "2021-06-23T15:50:20.537634Z",
     "shell.execute_reply": "2021-06-23T15:50:20.536853Z"
    },
    "jupyter": {
     "source_hidden": true
    },
    "papermill": {
     "duration": 10.335738,
     "end_time": "2021-06-23T15:50:20.537851",
     "exception": false,
     "start_time": "2021-06-23T15:50:10.202113",
     "status": "completed"
    },
    "tags": []
   },
   "outputs": [],
   "source": [
    "from sklearn.ensemble import RandomForestRegressor\n",
    "rdr = RandomForestRegressor(\n",
    "    n_estimators=n_estimators,\n",
    "    max_features=max_features\n",
    ")\n",
    "rdr.fit(X_train,y_train)\n",
    "pred=rdr.predict(X_test)"
   ]
  },
  {
   "cell_type": "code",
   "execution_count": 11,
   "metadata": {
    "_uuid": "7ed5b8d4e8abb44a4b548c13ac9fb2d65227d1c5",
    "execution": {
     "iopub.execute_input": "2021-06-23T15:50:20.557035Z",
     "iopub.status.busy": "2021-06-23T15:50:20.556403Z",
     "iopub.status.idle": "2021-06-23T15:50:20.560059Z",
     "shell.execute_reply": "2021-06-23T15:50:20.559572Z"
    },
    "jupyter": {
     "source_hidden": true
    },
    "papermill": {
     "duration": 0.016632,
     "end_time": "2021-06-23T15:50:20.560396",
     "exception": false,
     "start_time": "2021-06-23T15:50:20.543764",
     "status": "completed"
    },
    "tags": []
   },
   "outputs": [],
   "source": [
    "#%%capture cap --no-stderr\n",
    "#print(np.sqrt(mean_squared_error(y_test, pred)))"
   ]
  },
  {
   "cell_type": "code",
   "execution_count": 12,
   "metadata": {
    "execution": {
     "iopub.execute_input": "2021-06-23T15:50:20.578887Z",
     "iopub.status.busy": "2021-06-23T15:50:20.578151Z",
     "iopub.status.idle": "2021-06-23T15:50:20.581134Z",
     "shell.execute_reply": "2021-06-23T15:50:20.580588Z"
    },
    "jupyter": {
     "source_hidden": true
    },
    "papermill": {
     "duration": 0.014463,
     "end_time": "2021-06-23T15:50:20.581392",
     "exception": false,
     "start_time": "2021-06-23T15:50:20.566929",
     "status": "completed"
    },
    "tags": []
   },
   "outputs": [],
   "source": [
    "#with open(output_rmse, 'w') as f:\n",
    "#    f.write(cap.stdout)"
   ]
  },
  {
   "cell_type": "code",
   "execution_count": 13,
   "metadata": {
    "execution": {
     "iopub.execute_input": "2021-06-23T15:50:20.601073Z",
     "iopub.status.busy": "2021-06-23T15:50:20.600345Z",
     "iopub.status.idle": "2021-06-23T15:50:20.624641Z",
     "shell.execute_reply": "2021-06-23T15:50:20.625051Z"
    },
    "jupyter": {
     "source_hidden": true
    },
    "papermill": {
     "duration": 0.037547,
     "end_time": "2021-06-23T15:50:20.625291",
     "exception": false,
     "start_time": "2021-06-23T15:50:20.587744",
     "status": "completed"
    },
    "tags": []
   },
   "outputs": [
    {
     "data": {
      "text/plain": [
       "<sqlalchemy.engine.result.ResultProxy at 0x7fe71adaf890>"
      ]
     },
     "execution_count": 13,
     "metadata": {},
     "output_type": "execute_result"
    }
   ],
   "source": [
    "cnx.execute(\"\"\"\n",
    "    INSERT INTO ml.accuracies (ml_id, ml_date, accuracy) VALUES ('{0}', '{1}', {2}) \n",
    "    ON CONFLICT (ml_id, ml_date) \n",
    "    DO\n",
    "        UPDATE SET accuracy = {2};\n",
    "    \"\"\".format(ml_id, ml_date, np.sqrt(mean_squared_error(y_test, pred))))"
   ]
  }
 ],
 "metadata": {
  "kernelspec": {
   "display_name": "Python 3",
   "language": "python",
   "name": "python3"
  },
  "language_info": {
   "codemirror_mode": {
    "name": "ipython",
    "version": 3
   },
   "file_extension": ".py",
   "mimetype": "text/x-python",
   "name": "python",
   "nbconvert_exporter": "python",
   "pygments_lexer": "ipython3",
   "version": "3.7.10"
  },
  "papermill": {
   "duration": 14.446568,
   "end_time": "2021-06-23T15:50:21.939777",
   "environment_variables": {},
   "exception": null,
   "input_path": "/usr/local/airflow/include/notebooks/avocado_prediction.ipynb",
   "output_path": "/tmp/out-model-avocado-prediction-auto_100.ipynb",
   "parameters": {
    "filepath": "/tmp/avocado.csv",
    "max_features": "auto",
    "ml_id": "auto_100",
    "n_estimators": 100
   },
   "start_time": "2021-06-23T15:50:07.493209",
   "version": "2.1.2"
  }
 },
 "nbformat": 4,
 "nbformat_minor": 4
}