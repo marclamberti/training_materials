{
 "cells": [
  {
   "cell_type": "code",
   "execution_count": 1,
   "metadata": {
    "_cell_guid": "79c7e3d0-c299-4dcb-8224-4455121ee9b0",
    "_uuid": "d629ff2d2480ee46fbb7e2d37f6b5fab8052498a",
    "execution": {
     "iopub.execute_input": "2021-06-24T05:00:10.130130Z",
     "iopub.status.busy": "2021-06-24T05:00:10.129392Z",
     "iopub.status.idle": "2021-06-24T05:00:10.981451Z",
     "shell.execute_reply": "2021-06-24T05:00:10.980237Z"
    },
    "jupyter": {
     "source_hidden": true
    },
    "papermill": {
     "duration": 0.867121,
     "end_time": "2021-06-24T05:00:10.981856",
     "exception": false,
     "start_time": "2021-06-24T05:00:10.114735",
     "status": "completed"
    },
    "tags": []
   },
   "outputs": [],
   "source": [
    "import pandas as pd\n",
    "import numpy as np\n",
    "from sqlalchemy import create_engine\n",
    "from datetime import date\n",
    "from sklearn.metrics import mean_squared_error"
   ]
  },
  {
   "cell_type": "code",
   "execution_count": 2,
   "metadata": {
    "execution": {
     "iopub.execute_input": "2021-06-24T05:00:11.010864Z",
     "iopub.status.busy": "2021-06-24T05:00:11.009521Z",
     "iopub.status.idle": "2021-06-24T05:00:11.039606Z",
     "shell.execute_reply": "2021-06-24T05:00:11.039076Z"
    },
    "jupyter": {
     "source_hidden": true
    },
    "papermill": {
     "duration": 0.045878,
     "end_time": "2021-06-24T05:00:11.039820",
     "exception": false,
     "start_time": "2021-06-24T05:00:10.993942",
     "status": "completed"
    },
    "tags": []
   },
   "outputs": [],
   "source": [
    "# THIS IS PURELY FOR TEST PURPOSE NEVER DO THAT IN PRODUCTION\n",
    "POSTGRES_ADDRESS='postgres'\n",
    "POSTGRES_PORT='5432'\n",
    "POSTGRES_USERNAME='postgres'\n",
    "POSTGRES_PASSWORD='postgres'\n",
    "\n",
    "postgres_conn = 'postgresql://{0}:{1}@{2}:{3}/'.format(POSTGRES_USERNAME, POSTGRES_PASSWORD, POSTGRES_ADDRESS, POSTGRES_PORT)\n",
    "\n",
    "# Create the connection\n",
    "cnx = create_engine(postgres_conn)\n"
   ]
  },
  {
   "cell_type": "markdown",
   "metadata": {
    "_uuid": "1998755ef10683262b29765345cff1c1c7d10b15",
    "papermill": {
     "duration": 0.005961,
     "end_time": "2021-06-24T05:00:11.053263",
     "exception": false,
     "start_time": "2021-06-24T05:00:11.047302",
     "status": "completed"
    },
    "tags": []
   },
   "source": [
    "Read in the Avocado Prices csv file as a DataFrame called df"
   ]
  },
  {
   "cell_type": "code",
   "execution_count": 3,
   "metadata": {
    "execution": {
     "iopub.execute_input": "2021-06-24T05:00:11.072860Z",
     "iopub.status.busy": "2021-06-24T05:00:11.072265Z",
     "iopub.status.idle": "2021-06-24T05:00:11.074724Z",
     "shell.execute_reply": "2021-06-24T05:00:11.075118Z"
    },
    "jupyter": {
     "source_hidden": true
    },
    "papermill": {
     "duration": 0.01686,
     "end_time": "2021-06-24T05:00:11.075457",
     "exception": false,
     "start_time": "2021-06-24T05:00:11.058597",
     "status": "completed"
    },
    "tags": [
     "parameters"
    ]
   },
   "outputs": [],
   "source": [
    "# Parameterized\n",
    "\n",
    "filepath='avocado.csv'\n",
    "ml_id='auto_100'\n",
    "ml_date=date.today()\n",
    "n_estimators = 100\n",
    "max_features = 'auto'"
   ]
  },
  {
   "cell_type": "code",
   "execution_count": 4,
   "id": "1675d716",
   "metadata": {
    "execution": {
     "iopub.execute_input": "2021-06-24T05:00:11.098890Z",
     "iopub.status.busy": "2021-06-24T05:00:11.098311Z",
     "iopub.status.idle": "2021-06-24T05:00:11.100853Z",
     "shell.execute_reply": "2021-06-24T05:00:11.101690Z"
    },
    "jupyter": {
     "source_hidden": true
    },
    "papermill": {
     "duration": 0.020489,
     "end_time": "2021-06-24T05:00:11.102138",
     "exception": false,
     "start_time": "2021-06-24T05:00:11.081649",
     "status": "completed"
    },
    "tags": [
     "injected-parameters"
    ]
   },
   "outputs": [],
   "source": [
    "# Parameters\n",
    "filepath = \"/tmp/avocado.csv\"\n",
    "n_estimators = 100\n",
    "max_features = \"auto\"\n",
    "ml_id = \"auto_100\"\n"
   ]
  },
  {
   "cell_type": "code",
   "execution_count": 5,
   "metadata": {
    "_uuid": "55d0e719eb8b91d763c1eacaf0f51ee0586486fc",
    "execution": {
     "iopub.execute_input": "2021-06-24T05:00:11.126319Z",
     "iopub.status.busy": "2021-06-24T05:00:11.125325Z",
     "iopub.status.idle": "2021-06-24T05:00:11.164912Z",
     "shell.execute_reply": "2021-06-24T05:00:11.163890Z"
    },
    "jupyter": {
     "source_hidden": true
    },
    "papermill": {
     "duration": 0.052306,
     "end_time": "2021-06-24T05:00:11.165477",
     "exception": false,
     "start_time": "2021-06-24T05:00:11.113171",
     "status": "completed"
    },
    "tags": []
   },
   "outputs": [],
   "source": [
    "df= pd.read_csv(filepath)"
   ]
  },
  {
   "cell_type": "markdown",
   "metadata": {
    "_uuid": "434e0457f550e2200424e5ec26162e1aa5904005",
    "papermill": {
     "duration": 0.005503,
     "end_time": "2021-06-24T05:00:11.179653",
     "exception": false,
     "start_time": "2021-06-24T05:00:11.174150",
     "status": "completed"
    },
    "tags": []
   },
   "source": [
    "The Feature \"Unnamed:0\" is just a representation of the indexes, so it's useless to keep it, lets remove it !"
   ]
  },
  {
   "cell_type": "code",
   "execution_count": 6,
   "metadata": {
    "_uuid": "9875398e37728dc3141fed4228be337a4735beb6",
    "execution": {
     "iopub.execute_input": "2021-06-24T05:00:11.203027Z",
     "iopub.status.busy": "2021-06-24T05:00:11.200977Z",
     "iopub.status.idle": "2021-06-24T05:00:11.207378Z",
     "shell.execute_reply": "2021-06-24T05:00:11.206553Z"
    },
    "jupyter": {
     "source_hidden": true
    },
    "papermill": {
     "duration": 0.019021,
     "end_time": "2021-06-24T05:00:11.207615",
     "exception": false,
     "start_time": "2021-06-24T05:00:11.188594",
     "status": "completed"
    },
    "tags": []
   },
   "outputs": [],
   "source": [
    "df.drop('Unnamed: 0',axis=1,inplace=True)"
   ]
  },
  {
   "cell_type": "markdown",
   "metadata": {
    "_uuid": "12e94ad381e4cb8d2c8a9bbe08ce07ab5d49c040",
    "papermill": {
     "duration": 0.005718,
     "end_time": "2021-06-24T05:00:11.220800",
     "exception": false,
     "start_time": "2021-06-24T05:00:11.215082",
     "status": "completed"
    },
    "tags": []
   },
   "source": [
    "well as a first observation we can see that we are lucky, we dont have any missing values (18249 complete data) and 13 columns.\n",
    "Now let's do some Feature Engineering on the Date Feature so we can be able to use the day and the month columns in building our machine learning model later. ( I didn't mention the year because its already there in data frame)"
   ]
  },
  {
   "cell_type": "code",
   "execution_count": 7,
   "metadata": {
    "_uuid": "f031639ce794656e877484d1c9c356df7028177f",
    "execution": {
     "iopub.execute_input": "2021-06-24T05:00:11.241604Z",
     "iopub.status.busy": "2021-06-24T05:00:11.240535Z",
     "iopub.status.idle": "2021-06-24T05:00:11.414824Z",
     "shell.execute_reply": "2021-06-24T05:00:11.415311Z"
    },
    "jupyter": {
     "source_hidden": true
    },
    "papermill": {
     "duration": 0.186503,
     "end_time": "2021-06-24T05:00:11.415559",
     "exception": false,
     "start_time": "2021-06-24T05:00:11.229056",
     "status": "completed"
    },
    "tags": []
   },
   "outputs": [],
   "source": [
    "df['Date']=pd.to_datetime(df['Date'])\n",
    "df['Month']=df['Date'].apply(lambda x:x.month)\n",
    "df['Day']=df['Date'].apply(lambda x:x.day)"
   ]
  },
  {
   "cell_type": "markdown",
   "metadata": {
    "_uuid": "ebdcac9924ce3e366fd3a75170682f7113385b7a",
    "papermill": {
     "duration": 0.009969,
     "end_time": "2021-06-24T05:00:11.433625",
     "exception": false,
     "start_time": "2021-06-24T05:00:11.423656",
     "status": "completed"
    },
    "tags": []
   },
   "source": [
    "as we can see we have 54 regions and 2 unique types, so it's going to be easy to to transform the type feature to dummies, but for the region its going to be a bit complexe so I decided to drop the entire column.\n",
    "I will drop the Date Feature as well because I already have 3 other columns for the Year, Month and Day."
   ]
  },
  {
   "cell_type": "code",
   "execution_count": 8,
   "metadata": {
    "_uuid": "a798682da34327b731ef262985fd50ba68e06460",
    "execution": {
     "iopub.execute_input": "2021-06-24T05:00:11.457896Z",
     "iopub.status.busy": "2021-06-24T05:00:11.457286Z",
     "iopub.status.idle": "2021-06-24T05:00:11.468900Z",
     "shell.execute_reply": "2021-06-24T05:00:11.469468Z"
    },
    "jupyter": {
     "source_hidden": true
    },
    "papermill": {
     "duration": 0.03018,
     "end_time": "2021-06-24T05:00:11.469922",
     "exception": false,
     "start_time": "2021-06-24T05:00:11.439742",
     "status": "completed"
    },
    "tags": []
   },
   "outputs": [],
   "source": [
    "df_final=pd.get_dummies(df.drop(['region','Date'],axis=1),drop_first=True)"
   ]
  },
  {
   "cell_type": "markdown",
   "metadata": {
    "_uuid": "8b74a6b88cb3e9b3e1d1e987e061048f203c7364",
    "papermill": {
     "duration": 0.006262,
     "end_time": "2021-06-24T05:00:11.482548",
     "exception": false,
     "start_time": "2021-06-24T05:00:11.476286",
     "status": "completed"
    },
    "tags": []
   },
   "source": [
    "Now our data are ready! lets apply our model which is going to be the Linear Regression because our Target variable 'AveragePrice'is continuous.\n",
    "Let's now begin to train out regression model! We will need to first split up our data into an X array that contains the features to train on, and a y array with the target variable"
   ]
  },
  {
   "cell_type": "code",
   "execution_count": 9,
   "metadata": {
    "_uuid": "830591f99de9715241e688bf9ce265e979401ff5",
    "execution": {
     "iopub.execute_input": "2021-06-24T05:00:11.503267Z",
     "iopub.status.busy": "2021-06-24T05:00:11.502363Z",
     "iopub.status.idle": "2021-06-24T05:00:11.518329Z",
     "shell.execute_reply": "2021-06-24T05:00:11.517630Z"
    },
    "jupyter": {
     "source_hidden": true
    },
    "papermill": {
     "duration": 0.027271,
     "end_time": "2021-06-24T05:00:11.518536",
     "exception": false,
     "start_time": "2021-06-24T05:00:11.491265",
     "status": "completed"
    },
    "tags": []
   },
   "outputs": [],
   "source": [
    "X=df_final.iloc[:,1:14]\n",
    "y=df_final['AveragePrice']\n",
    "from sklearn.model_selection import train_test_split\n",
    "X_train,X_test,y_train,y_test=train_test_split(X,y,test_size=0.2,random_state=42)"
   ]
  },
  {
   "cell_type": "markdown",
   "metadata": {
    "_uuid": "ea730c77a31cde9de98263079a189accb8b5772b",
    "papermill": {
     "duration": 0.007082,
     "end_time": "2021-06-24T05:00:11.536032",
     "exception": false,
     "start_time": "2021-06-24T05:00:11.528950",
     "status": "completed"
    },
    "tags": []
   },
   "source": [
    "Creating and Training the Model"
   ]
  },
  {
   "cell_type": "code",
   "execution_count": 10,
   "metadata": {
    "_uuid": "eb37015e78974e5fd2ae7e13d065c8ab0a9c6948",
    "execution": {
     "iopub.execute_input": "2021-06-24T05:00:11.558251Z",
     "iopub.status.busy": "2021-06-24T05:00:11.557568Z",
     "iopub.status.idle": "2021-06-24T05:00:21.981327Z",
     "shell.execute_reply": "2021-06-24T05:00:21.980591Z"
    },
    "jupyter": {
     "source_hidden": true
    },
    "papermill": {
     "duration": 10.437144,
     "end_time": "2021-06-24T05:00:21.981584",
     "exception": false,
     "start_time": "2021-06-24T05:00:11.544440",
     "status": "completed"
    },
    "tags": []
   },
   "outputs": [],
   "source": [
    "from sklearn.ensemble import RandomForestRegressor\n",
    "rdr = RandomForestRegressor(\n",
    "    n_estimators=n_estimators,\n",
    "    max_features=max_features\n",
    ")\n",
    "rdr.fit(X_train,y_train)\n",
    "pred=rdr.predict(X_test)"
   ]
  },
  {
   "cell_type": "code",
   "execution_count": 11,
   "metadata": {
    "_uuid": "7ed5b8d4e8abb44a4b548c13ac9fb2d65227d1c5",
    "execution": {
     "iopub.execute_input": "2021-06-24T05:00:22.003465Z",
     "iopub.status.busy": "2021-06-24T05:00:22.002754Z",
     "iopub.status.idle": "2021-06-24T05:00:22.005363Z",
     "shell.execute_reply": "2021-06-24T05:00:22.004604Z"
    },
    "jupyter": {
     "source_hidden": true
    },
    "papermill": {
     "duration": 0.016027,
     "end_time": "2021-06-24T05:00:22.005590",
     "exception": false,
     "start_time": "2021-06-24T05:00:21.989563",
     "status": "completed"
    },
    "tags": []
   },
   "outputs": [],
   "source": [
    "#%%capture cap --no-stderr\n",
    "#print(np.sqrt(mean_squared_error(y_test, pred)))"
   ]
  },
  {
   "cell_type": "code",
   "execution_count": 12,
   "metadata": {
    "execution": {
     "iopub.execute_input": "2021-06-24T05:00:22.024889Z",
     "iopub.status.busy": "2021-06-24T05:00:22.024372Z",
     "iopub.status.idle": "2021-06-24T05:00:22.026613Z",
     "shell.execute_reply": "2021-06-24T05:00:22.027156Z"
    },
    "jupyter": {
     "source_hidden": true
    },
    "papermill": {
     "duration": 0.015668,
     "end_time": "2021-06-24T05:00:22.027444",
     "exception": false,
     "start_time": "2021-06-24T05:00:22.011776",
     "status": "completed"
    },
    "tags": []
   },
   "outputs": [],
   "source": [
    "#with open(output_rmse, 'w') as f:\n",
    "#    f.write(cap.stdout)"
   ]
  },
  {
   "cell_type": "code",
   "execution_count": 13,
   "metadata": {
    "execution": {
     "iopub.execute_input": "2021-06-24T05:00:22.050657Z",
     "iopub.status.busy": "2021-06-24T05:00:22.049944Z",
     "iopub.status.idle": "2021-06-24T05:00:22.073238Z",
     "shell.execute_reply": "2021-06-24T05:00:22.074204Z"
    },
    "jupyter": {
     "source_hidden": true
    },
    "papermill": {
     "duration": 0.041497,
     "end_time": "2021-06-24T05:00:22.074645",
     "exception": false,
     "start_time": "2021-06-24T05:00:22.033148",
     "status": "completed"
    },
    "tags": []
   },
   "outputs": [
    {
     "data": {
      "text/plain": [
       "<sqlalchemy.engine.result.ResultProxy at 0x7f3d74ff1610>"
      ]
     },
     "execution_count": 13,
     "metadata": {},
     "output_type": "execute_result"
    }
   ],
   "source": [
    "cnx.execute(\"\"\"\n",
    "    INSERT INTO ml.accuracies (ml_id, ml_date, accuracy) VALUES ('{0}', '{1}', {2}) \n",
    "    ON CONFLICT (ml_id, ml_date) \n",
    "    DO\n",
    "        UPDATE SET accuracy = {2};\n",
    "    \"\"\".format(ml_id, ml_date, np.sqrt(mean_squared_error(y_test, pred))))"
   ]
  }
 ],
 "metadata": {
  "kernelspec": {
   "display_name": "Python 3",
   "language": "python",
   "name": "python3"
  },
  "language_info": {
   "codemirror_mode": {
    "name": "ipython",
    "version": 3
   },
   "file_extension": ".py",
   "mimetype": "text/x-python",
   "name": "python",
   "nbconvert_exporter": "python",
   "pygments_lexer": "ipython3",
   "version": "3.7.10"
  },
  "papermill": {
   "duration": 14.51204,
   "end_time": "2021-06-24T05:00:23.341026",
   "environment_variables": {},
   "exception": null,
   "input_path": "/usr/local/airflow/include/notebooks/avocado_prediction.ipynb",
   "output_path": "/tmp/out-model-avocado-prediction-auto_100.ipynb",
   "parameters": {
    "filepath": "/tmp/avocado.csv",
    "max_features": "auto",
    "ml_id": "auto_100",
    "n_estimators": 100
   },
   "start_time": "2021-06-24T05:00:08.828986",
   "version": "2.1.2"
  }
 },
 "nbformat": 4,
 "nbformat_minor": 4
}