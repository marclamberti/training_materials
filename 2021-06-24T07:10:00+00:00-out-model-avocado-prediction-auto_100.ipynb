{
 "cells": [
  {
   "cell_type": "code",
   "execution_count": 1,
   "metadata": {
    "_cell_guid": "79c7e3d0-c299-4dcb-8224-4455121ee9b0",
    "_uuid": "d629ff2d2480ee46fbb7e2d37f6b5fab8052498a",
    "execution": {
     "iopub.execute_input": "2021-06-24T07:20:09.372348Z",
     "iopub.status.busy": "2021-06-24T07:20:09.371624Z",
     "iopub.status.idle": "2021-06-24T07:20:09.999264Z",
     "shell.execute_reply": "2021-06-24T07:20:09.999815Z"
    },
    "jupyter": {
     "source_hidden": true
    },
    "papermill": {
     "duration": 0.642773,
     "end_time": "2021-06-24T07:20:10.000204",
     "exception": false,
     "start_time": "2021-06-24T07:20:09.357431",
     "status": "completed"
    },
    "tags": []
   },
   "outputs": [],
   "source": [
    "import pandas as pd\n",
    "import numpy as np\n",
    "from sqlalchemy import create_engine\n",
    "from datetime import date\n",
    "from sklearn.metrics import mean_squared_error"
   ]
  },
  {
   "cell_type": "code",
   "execution_count": 2,
   "metadata": {
    "execution": {
     "iopub.execute_input": "2021-06-24T07:20:10.018716Z",
     "iopub.status.busy": "2021-06-24T07:20:10.018087Z",
     "iopub.status.idle": "2021-06-24T07:20:10.043447Z",
     "shell.execute_reply": "2021-06-24T07:20:10.042816Z"
    },
    "jupyter": {
     "source_hidden": true
    },
    "papermill": {
     "duration": 0.036616,
     "end_time": "2021-06-24T07:20:10.043691",
     "exception": false,
     "start_time": "2021-06-24T07:20:10.007075",
     "status": "completed"
    },
    "tags": []
   },
   "outputs": [],
   "source": [
    "# THIS IS PURELY FOR TEST PURPOSE NEVER DO THAT IN PRODUCTION\n",
    "POSTGRES_ADDRESS='postgres'\n",
    "POSTGRES_PORT='5432'\n",
    "POSTGRES_USERNAME='postgres'\n",
    "POSTGRES_PASSWORD='postgres'\n",
    "\n",
    "postgres_conn = 'postgresql://{0}:{1}@{2}:{3}/'.format(POSTGRES_USERNAME, POSTGRES_PASSWORD, POSTGRES_ADDRESS, POSTGRES_PORT)\n",
    "\n",
    "# Create the connection\n",
    "cnx = create_engine(postgres_conn)\n"
   ]
  },
  {
   "cell_type": "markdown",
   "metadata": {
    "_uuid": "1998755ef10683262b29765345cff1c1c7d10b15",
    "papermill": {
     "duration": 0.00525,
     "end_time": "2021-06-24T07:20:10.054043",
     "exception": false,
     "start_time": "2021-06-24T07:20:10.048793",
     "status": "completed"
    },
    "tags": []
   },
   "source": [
    "Read in the Avocado Prices csv file as a DataFrame called df"
   ]
  },
  {
   "cell_type": "code",
   "execution_count": 3,
   "metadata": {
    "execution": {
     "iopub.execute_input": "2021-06-24T07:20:10.067703Z",
     "iopub.status.busy": "2021-06-24T07:20:10.067188Z",
     "iopub.status.idle": "2021-06-24T07:20:10.070452Z",
     "shell.execute_reply": "2021-06-24T07:20:10.069971Z"
    },
    "jupyter": {
     "source_hidden": true
    },
    "papermill": {
     "duration": 0.011571,
     "end_time": "2021-06-24T07:20:10.070604",
     "exception": false,
     "start_time": "2021-06-24T07:20:10.059033",
     "status": "completed"
    },
    "tags": [
     "parameters"
    ]
   },
   "outputs": [],
   "source": [
    "# Parameterized\n",
    "\n",
    "filepath='avocado.csv'\n",
    "ml_id='auto_100'\n",
    "ml_date=date.today()\n",
    "n_estimators = 100\n",
    "max_features = 'auto'"
   ]
  },
  {
   "cell_type": "code",
   "execution_count": 4,
   "id": "bb0b095f",
   "metadata": {
    "execution": {
     "iopub.execute_input": "2021-06-24T07:20:10.083949Z",
     "iopub.status.busy": "2021-06-24T07:20:10.083387Z",
     "iopub.status.idle": "2021-06-24T07:20:10.086891Z",
     "shell.execute_reply": "2021-06-24T07:20:10.086294Z"
    },
    "jupyter": {
     "source_hidden": true
    },
    "papermill": {
     "duration": 0.012208,
     "end_time": "2021-06-24T07:20:10.087046",
     "exception": false,
     "start_time": "2021-06-24T07:20:10.074838",
     "status": "completed"
    },
    "tags": [
     "injected-parameters"
    ]
   },
   "outputs": [],
   "source": [
    "# Parameters\n",
    "filepath = \"/tmp/avocado.csv\"\n",
    "n_estimators = 100\n",
    "max_features = \"auto\"\n",
    "ml_id = \"auto_100\"\n"
   ]
  },
  {
   "cell_type": "code",
   "execution_count": 5,
   "metadata": {
    "_uuid": "55d0e719eb8b91d763c1eacaf0f51ee0586486fc",
    "execution": {
     "iopub.execute_input": "2021-06-24T07:20:10.100454Z",
     "iopub.status.busy": "2021-06-24T07:20:10.099992Z",
     "iopub.status.idle": "2021-06-24T07:20:10.125811Z",
     "shell.execute_reply": "2021-06-24T07:20:10.125368Z"
    },
    "jupyter": {
     "source_hidden": true
    },
    "papermill": {
     "duration": 0.034159,
     "end_time": "2021-06-24T07:20:10.125993",
     "exception": false,
     "start_time": "2021-06-24T07:20:10.091834",
     "status": "completed"
    },
    "tags": []
   },
   "outputs": [],
   "source": [
    "df= pd.read_csv(filepath)"
   ]
  },
  {
   "cell_type": "markdown",
   "metadata": {
    "_uuid": "434e0457f550e2200424e5ec26162e1aa5904005",
    "papermill": {
     "duration": 0.004227,
     "end_time": "2021-06-24T07:20:10.135063",
     "exception": false,
     "start_time": "2021-06-24T07:20:10.130836",
     "status": "completed"
    },
    "tags": []
   },
   "source": [
    "The Feature \"Unnamed:0\" is just a representation of the indexes, so it's useless to keep it, lets remove it !"
   ]
  },
  {
   "cell_type": "code",
   "execution_count": 6,
   "metadata": {
    "_uuid": "9875398e37728dc3141fed4228be337a4735beb6",
    "execution": {
     "iopub.execute_input": "2021-06-24T07:20:10.150394Z",
     "iopub.status.busy": "2021-06-24T07:20:10.149584Z",
     "iopub.status.idle": "2021-06-24T07:20:10.153025Z",
     "shell.execute_reply": "2021-06-24T07:20:10.152630Z"
    },
    "jupyter": {
     "source_hidden": true
    },
    "papermill": {
     "duration": 0.013739,
     "end_time": "2021-06-24T07:20:10.153186",
     "exception": false,
     "start_time": "2021-06-24T07:20:10.139447",
     "status": "completed"
    },
    "tags": []
   },
   "outputs": [],
   "source": [
    "df.drop('Unnamed: 0',axis=1,inplace=True)"
   ]
  },
  {
   "cell_type": "markdown",
   "metadata": {
    "_uuid": "12e94ad381e4cb8d2c8a9bbe08ce07ab5d49c040",
    "papermill": {
     "duration": 0.004997,
     "end_time": "2021-06-24T07:20:10.162655",
     "exception": false,
     "start_time": "2021-06-24T07:20:10.157658",
     "status": "completed"
    },
    "tags": []
   },
   "source": [
    "well as a first observation we can see that we are lucky, we dont have any missing values (18249 complete data) and 13 columns.\n",
    "Now let's do some Feature Engineering on the Date Feature so we can be able to use the day and the month columns in building our machine learning model later. ( I didn't mention the year because its already there in data frame)"
   ]
  },
  {
   "cell_type": "code",
   "execution_count": 7,
   "metadata": {
    "_uuid": "f031639ce794656e877484d1c9c356df7028177f",
    "execution": {
     "iopub.execute_input": "2021-06-24T07:20:10.176110Z",
     "iopub.status.busy": "2021-06-24T07:20:10.175559Z",
     "iopub.status.idle": "2021-06-24T07:20:10.279332Z",
     "shell.execute_reply": "2021-06-24T07:20:10.278763Z"
    },
    "jupyter": {
     "source_hidden": true
    },
    "papermill": {
     "duration": 0.112555,
     "end_time": "2021-06-24T07:20:10.279514",
     "exception": false,
     "start_time": "2021-06-24T07:20:10.166959",
     "status": "completed"
    },
    "tags": []
   },
   "outputs": [],
   "source": [
    "df['Date']=pd.to_datetime(df['Date'])\n",
    "df['Month']=df['Date'].apply(lambda x:x.month)\n",
    "df['Day']=df['Date'].apply(lambda x:x.day)"
   ]
  },
  {
   "cell_type": "markdown",
   "metadata": {
    "_uuid": "ebdcac9924ce3e366fd3a75170682f7113385b7a",
    "papermill": {
     "duration": 0.005034,
     "end_time": "2021-06-24T07:20:10.289951",
     "exception": false,
     "start_time": "2021-06-24T07:20:10.284917",
     "status": "completed"
    },
    "tags": []
   },
   "source": [
    "as we can see we have 54 regions and 2 unique types, so it's going to be easy to to transform the type feature to dummies, but for the region its going to be a bit complexe so I decided to drop the entire column.\n",
    "I will drop the Date Feature as well because I already have 3 other columns for the Year, Month and Day."
   ]
  },
  {
   "cell_type": "code",
   "execution_count": 8,
   "metadata": {
    "_uuid": "a798682da34327b731ef262985fd50ba68e06460",
    "execution": {
     "iopub.execute_input": "2021-06-24T07:20:10.304321Z",
     "iopub.status.busy": "2021-06-24T07:20:10.303867Z",
     "iopub.status.idle": "2021-06-24T07:20:10.313757Z",
     "shell.execute_reply": "2021-06-24T07:20:10.313165Z"
    },
    "jupyter": {
     "source_hidden": true
    },
    "papermill": {
     "duration": 0.018958,
     "end_time": "2021-06-24T07:20:10.313944",
     "exception": false,
     "start_time": "2021-06-24T07:20:10.294986",
     "status": "completed"
    },
    "tags": []
   },
   "outputs": [],
   "source": [
    "df_final=pd.get_dummies(df.drop(['region','Date'],axis=1),drop_first=True)"
   ]
  },
  {
   "cell_type": "markdown",
   "metadata": {
    "_uuid": "8b74a6b88cb3e9b3e1d1e987e061048f203c7364",
    "papermill": {
     "duration": 0.005742,
     "end_time": "2021-06-24T07:20:10.324342",
     "exception": false,
     "start_time": "2021-06-24T07:20:10.318600",
     "status": "completed"
    },
    "tags": []
   },
   "source": [
    "Now our data are ready! lets apply our model which is going to be the Linear Regression because our Target variable 'AveragePrice'is continuous.\n",
    "Let's now begin to train out regression model! We will need to first split up our data into an X array that contains the features to train on, and a y array with the target variable"
   ]
  },
  {
   "cell_type": "code",
   "execution_count": 9,
   "metadata": {
    "_uuid": "830591f99de9715241e688bf9ce265e979401ff5",
    "execution": {
     "iopub.execute_input": "2021-06-24T07:20:10.339409Z",
     "iopub.status.busy": "2021-06-24T07:20:10.338934Z",
     "iopub.status.idle": "2021-06-24T07:20:10.349372Z",
     "shell.execute_reply": "2021-06-24T07:20:10.348770Z"
    },
    "jupyter": {
     "source_hidden": true
    },
    "papermill": {
     "duration": 0.020426,
     "end_time": "2021-06-24T07:20:10.349582",
     "exception": false,
     "start_time": "2021-06-24T07:20:10.329156",
     "status": "completed"
    },
    "tags": []
   },
   "outputs": [],
   "source": [
    "X=df_final.iloc[:,1:14]\n",
    "y=df_final['AveragePrice']\n",
    "from sklearn.model_selection import train_test_split\n",
    "X_train,X_test,y_train,y_test=train_test_split(X,y,test_size=0.2,random_state=42)"
   ]
  },
  {
   "cell_type": "markdown",
   "metadata": {
    "_uuid": "ea730c77a31cde9de98263079a189accb8b5772b",
    "papermill": {
     "duration": 0.00548,
     "end_time": "2021-06-24T07:20:10.360338",
     "exception": false,
     "start_time": "2021-06-24T07:20:10.354858",
     "status": "completed"
    },
    "tags": []
   },
   "source": [
    "Creating and Training the Model"
   ]
  },
  {
   "cell_type": "code",
   "execution_count": 10,
   "metadata": {
    "_uuid": "eb37015e78974e5fd2ae7e13d065c8ab0a9c6948",
    "execution": {
     "iopub.execute_input": "2021-06-24T07:20:10.375073Z",
     "iopub.status.busy": "2021-06-24T07:20:10.374497Z",
     "iopub.status.idle": "2021-06-24T07:20:17.749765Z",
     "shell.execute_reply": "2021-06-24T07:20:17.749088Z"
    },
    "jupyter": {
     "source_hidden": true
    },
    "papermill": {
     "duration": 7.384291,
     "end_time": "2021-06-24T07:20:17.749992",
     "exception": false,
     "start_time": "2021-06-24T07:20:10.365701",
     "status": "completed"
    },
    "tags": []
   },
   "outputs": [],
   "source": [
    "from sklearn.ensemble import RandomForestRegressor\n",
    "rdr = RandomForestRegressor(\n",
    "    n_estimators=n_estimators,\n",
    "    max_features=max_features\n",
    ")\n",
    "rdr.fit(X_train,y_train)\n",
    "pred=rdr.predict(X_test)"
   ]
  },
  {
   "cell_type": "code",
   "execution_count": 11,
   "metadata": {
    "_uuid": "7ed5b8d4e8abb44a4b548c13ac9fb2d65227d1c5",
    "execution": {
     "iopub.execute_input": "2021-06-24T07:20:17.765435Z",
     "iopub.status.busy": "2021-06-24T07:20:17.764853Z",
     "iopub.status.idle": "2021-06-24T07:20:17.767814Z",
     "shell.execute_reply": "2021-06-24T07:20:17.768201Z"
    },
    "jupyter": {
     "source_hidden": true
    },
    "papermill": {
     "duration": 0.012165,
     "end_time": "2021-06-24T07:20:17.768419",
     "exception": false,
     "start_time": "2021-06-24T07:20:17.756254",
     "status": "completed"
    },
    "tags": []
   },
   "outputs": [],
   "source": [
    "#%%capture cap --no-stderr\n",
    "#print(np.sqrt(mean_squared_error(y_test, pred)))"
   ]
  },
  {
   "cell_type": "code",
   "execution_count": 12,
   "metadata": {
    "execution": {
     "iopub.execute_input": "2021-06-24T07:20:17.782139Z",
     "iopub.status.busy": "2021-06-24T07:20:17.781613Z",
     "iopub.status.idle": "2021-06-24T07:20:17.784304Z",
     "shell.execute_reply": "2021-06-24T07:20:17.783959Z"
    },
    "jupyter": {
     "source_hidden": true
    },
    "papermill": {
     "duration": 0.010562,
     "end_time": "2021-06-24T07:20:17.784462",
     "exception": false,
     "start_time": "2021-06-24T07:20:17.773900",
     "status": "completed"
    },
    "tags": []
   },
   "outputs": [],
   "source": [
    "#with open(output_rmse, 'w') as f:\n",
    "#    f.write(cap.stdout)"
   ]
  },
  {
   "cell_type": "code",
   "execution_count": 13,
   "metadata": {
    "execution": {
     "iopub.execute_input": "2021-06-24T07:20:17.798290Z",
     "iopub.status.busy": "2021-06-24T07:20:17.797616Z",
     "iopub.status.idle": "2021-06-24T07:20:17.819836Z",
     "shell.execute_reply": "2021-06-24T07:20:17.819292Z"
    },
    "jupyter": {
     "source_hidden": true
    },
    "papermill": {
     "duration": 0.031115,
     "end_time": "2021-06-24T07:20:17.820002",
     "exception": false,
     "start_time": "2021-06-24T07:20:17.788887",
     "status": "completed"
    },
    "tags": []
   },
   "outputs": [
    {
     "data": {
      "text/plain": [
       "<sqlalchemy.engine.result.ResultProxy at 0x7f8978599a10>"
      ]
     },
     "execution_count": 13,
     "metadata": {},
     "output_type": "execute_result"
    }
   ],
   "source": [
    "cnx.execute(\"\"\"\n",
    "    INSERT INTO ml.accuracies (ml_id, ml_date, accuracy) VALUES ('{0}', '{1}', {2}) \n",
    "    ON CONFLICT (ml_id, ml_date) \n",
    "    DO\n",
    "        UPDATE SET accuracy = {2};\n",
    "    \"\"\".format(ml_id, ml_date, np.sqrt(mean_squared_error(y_test, pred))))"
   ]
  }
 ],
 "metadata": {
  "kernelspec": {
   "display_name": "Python 3",
   "language": "python",
   "name": "python3"
  },
  "language_info": {
   "codemirror_mode": {
    "name": "ipython",
    "version": 3
   },
   "file_extension": ".py",
   "mimetype": "text/x-python",
   "name": "python",
   "nbconvert_exporter": "python",
   "pygments_lexer": "ipython3",
   "version": "3.7.10"
  },
  "papermill": {
   "duration": 9.860809,
   "end_time": "2021-06-24T07:20:18.235784",
   "environment_variables": {},
   "exception": null,
   "input_path": "/usr/local/airflow/include/notebooks/avocado_prediction.ipynb",
   "output_path": "/tmp/out-model-avocado-prediction-auto_100.ipynb",
   "parameters": {
    "filepath": "/tmp/avocado.csv",
    "max_features": "auto",
    "ml_id": "auto_100",
    "n_estimators": 100
   },
   "start_time": "2021-06-24T07:20:08.374975",
   "version": "2.1.2"
  }
 },
 "nbformat": 4,
 "nbformat_minor": 4
}