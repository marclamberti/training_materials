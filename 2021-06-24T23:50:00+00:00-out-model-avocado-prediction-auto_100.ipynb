{
 "cells": [
  {
   "cell_type": "code",
   "execution_count": 1,
   "metadata": {
    "_cell_guid": "79c7e3d0-c299-4dcb-8224-4455121ee9b0",
    "_uuid": "d629ff2d2480ee46fbb7e2d37f6b5fab8052498a",
    "execution": {
     "iopub.execute_input": "2021-06-25T00:00:19.823138Z",
     "iopub.status.busy": "2021-06-25T00:00:19.820894Z",
     "iopub.status.idle": "2021-06-25T00:00:21.940498Z",
     "shell.execute_reply": "2021-06-25T00:00:21.938699Z"
    },
    "jupyter": {
     "source_hidden": true
    },
    "papermill": {
     "duration": 2.157965,
     "end_time": "2021-06-25T00:00:21.941304",
     "exception": false,
     "start_time": "2021-06-25T00:00:19.783339",
     "status": "completed"
    },
    "tags": []
   },
   "outputs": [],
   "source": [
    "import pandas as pd\n",
    "import numpy as np\n",
    "from sqlalchemy import create_engine\n",
    "from datetime import date\n",
    "from sklearn.metrics import mean_squared_error"
   ]
  },
  {
   "cell_type": "code",
   "execution_count": 2,
   "metadata": {
    "execution": {
     "iopub.execute_input": "2021-06-25T00:00:21.997029Z",
     "iopub.status.busy": "2021-06-25T00:00:21.994823Z",
     "iopub.status.idle": "2021-06-25T00:00:22.083382Z",
     "shell.execute_reply": "2021-06-25T00:00:22.081134Z"
    },
    "jupyter": {
     "source_hidden": true
    },
    "papermill": {
     "duration": 0.123032,
     "end_time": "2021-06-25T00:00:22.084125",
     "exception": false,
     "start_time": "2021-06-25T00:00:21.961093",
     "status": "completed"
    },
    "tags": []
   },
   "outputs": [],
   "source": [
    "# THIS IS PURELY FOR TEST PURPOSE NEVER DO THAT IN PRODUCTION\n",
    "POSTGRES_ADDRESS='postgres'\n",
    "POSTGRES_PORT='5432'\n",
    "POSTGRES_USERNAME='postgres'\n",
    "POSTGRES_PASSWORD='postgres'\n",
    "\n",
    "postgres_conn = 'postgresql://{0}:{1}@{2}:{3}/'.format(POSTGRES_USERNAME, POSTGRES_PASSWORD, POSTGRES_ADDRESS, POSTGRES_PORT)\n",
    "\n",
    "# Create the connection\n",
    "cnx = create_engine(postgres_conn)\n"
   ]
  },
  {
   "cell_type": "markdown",
   "metadata": {
    "_uuid": "1998755ef10683262b29765345cff1c1c7d10b15",
    "papermill": {
     "duration": 0.018752,
     "end_time": "2021-06-25T00:00:22.121014",
     "exception": false,
     "start_time": "2021-06-25T00:00:22.102262",
     "status": "completed"
    },
    "tags": []
   },
   "source": [
    "Read in the Avocado Prices csv file as a DataFrame called df"
   ]
  },
  {
   "cell_type": "code",
   "execution_count": 3,
   "metadata": {
    "execution": {
     "iopub.execute_input": "2021-06-25T00:00:22.171132Z",
     "iopub.status.busy": "2021-06-25T00:00:22.168950Z",
     "iopub.status.idle": "2021-06-25T00:00:22.178164Z",
     "shell.execute_reply": "2021-06-25T00:00:22.175928Z"
    },
    "jupyter": {
     "source_hidden": true
    },
    "papermill": {
     "duration": 0.040092,
     "end_time": "2021-06-25T00:00:22.178965",
     "exception": false,
     "start_time": "2021-06-25T00:00:22.138873",
     "status": "completed"
    },
    "tags": [
     "parameters"
    ]
   },
   "outputs": [],
   "source": [
    "# Parameterized\n",
    "\n",
    "filepath='avocado.csv'\n",
    "ml_id='auto_100'\n",
    "ml_date=date.today()\n",
    "n_estimators = 100\n",
    "max_features = 'auto'"
   ]
  },
  {
   "cell_type": "code",
   "execution_count": 4,
   "id": "212b5bc6",
   "metadata": {
    "execution": {
     "iopub.execute_input": "2021-06-25T00:00:22.229728Z",
     "iopub.status.busy": "2021-06-25T00:00:22.227449Z",
     "iopub.status.idle": "2021-06-25T00:00:22.239280Z",
     "shell.execute_reply": "2021-06-25T00:00:22.237249Z"
    },
    "jupyter": {
     "source_hidden": true
    },
    "papermill": {
     "duration": 0.042579,
     "end_time": "2021-06-25T00:00:22.240022",
     "exception": false,
     "start_time": "2021-06-25T00:00:22.197443",
     "status": "completed"
    },
    "tags": [
     "injected-parameters"
    ]
   },
   "outputs": [],
   "source": [
    "# Parameters\n",
    "filepath = \"/tmp/avocado.csv\"\n",
    "n_estimators = 100\n",
    "max_features = \"auto\"\n",
    "ml_id = \"auto_100\"\n"
   ]
  },
  {
   "cell_type": "code",
   "execution_count": 5,
   "metadata": {
    "_uuid": "55d0e719eb8b91d763c1eacaf0f51ee0586486fc",
    "execution": {
     "iopub.execute_input": "2021-06-25T00:00:22.295838Z",
     "iopub.status.busy": "2021-06-25T00:00:22.293511Z",
     "iopub.status.idle": "2021-06-25T00:00:22.392418Z",
     "shell.execute_reply": "2021-06-25T00:00:22.395528Z"
    },
    "jupyter": {
     "source_hidden": true
    },
    "papermill": {
     "duration": 0.137703,
     "end_time": "2021-06-25T00:00:22.397297",
     "exception": false,
     "start_time": "2021-06-25T00:00:22.259594",
     "status": "completed"
    },
    "tags": []
   },
   "outputs": [],
   "source": [
    "df= pd.read_csv(filepath)"
   ]
  },
  {
   "cell_type": "markdown",
   "metadata": {
    "_uuid": "434e0457f550e2200424e5ec26162e1aa5904005",
    "papermill": {
     "duration": 0.01983,
     "end_time": "2021-06-25T00:00:22.437757",
     "exception": false,
     "start_time": "2021-06-25T00:00:22.417927",
     "status": "completed"
    },
    "tags": []
   },
   "source": [
    "The Feature \"Unnamed:0\" is just a representation of the indexes, so it's useless to keep it, lets remove it !"
   ]
  },
  {
   "cell_type": "code",
   "execution_count": 6,
   "metadata": {
    "_uuid": "9875398e37728dc3141fed4228be337a4735beb6",
    "execution": {
     "iopub.execute_input": "2021-06-25T00:00:22.505596Z",
     "iopub.status.busy": "2021-06-25T00:00:22.502758Z",
     "iopub.status.idle": "2021-06-25T00:00:22.510412Z",
     "shell.execute_reply": "2021-06-25T00:00:22.511940Z"
    },
    "jupyter": {
     "source_hidden": true
    },
    "papermill": {
     "duration": 0.054438,
     "end_time": "2021-06-25T00:00:22.512711",
     "exception": false,
     "start_time": "2021-06-25T00:00:22.458273",
     "status": "completed"
    },
    "tags": []
   },
   "outputs": [],
   "source": [
    "df.drop('Unnamed: 0',axis=1,inplace=True)"
   ]
  },
  {
   "cell_type": "markdown",
   "metadata": {
    "_uuid": "12e94ad381e4cb8d2c8a9bbe08ce07ab5d49c040",
    "papermill": {
     "duration": 0.020562,
     "end_time": "2021-06-25T00:00:22.555032",
     "exception": false,
     "start_time": "2021-06-25T00:00:22.534470",
     "status": "completed"
    },
    "tags": []
   },
   "source": [
    "well as a first observation we can see that we are lucky, we dont have any missing values (18249 complete data) and 13 columns.\n",
    "Now let's do some Feature Engineering on the Date Feature so we can be able to use the day and the month columns in building our machine learning model later. ( I didn't mention the year because its already there in data frame)"
   ]
  },
  {
   "cell_type": "code",
   "execution_count": 7,
   "metadata": {
    "_uuid": "f031639ce794656e877484d1c9c356df7028177f",
    "execution": {
     "iopub.execute_input": "2021-06-25T00:00:22.613175Z",
     "iopub.status.busy": "2021-06-25T00:00:22.611080Z",
     "iopub.status.idle": "2021-06-25T00:00:23.063088Z",
     "shell.execute_reply": "2021-06-25T00:00:23.060594Z"
    },
    "jupyter": {
     "source_hidden": true
    },
    "papermill": {
     "duration": 0.489001,
     "end_time": "2021-06-25T00:00:23.063897",
     "exception": false,
     "start_time": "2021-06-25T00:00:22.574896",
     "status": "completed"
    },
    "tags": []
   },
   "outputs": [],
   "source": [
    "df['Date']=pd.to_datetime(df['Date'])\n",
    "df['Month']=df['Date'].apply(lambda x:x.month)\n",
    "df['Day']=df['Date'].apply(lambda x:x.day)"
   ]
  },
  {
   "cell_type": "markdown",
   "metadata": {
    "_uuid": "ebdcac9924ce3e366fd3a75170682f7113385b7a",
    "papermill": {
     "duration": 0.019964,
     "end_time": "2021-06-25T00:00:23.107347",
     "exception": false,
     "start_time": "2021-06-25T00:00:23.087383",
     "status": "completed"
    },
    "tags": []
   },
   "source": [
    "as we can see we have 54 regions and 2 unique types, so it's going to be easy to to transform the type feature to dummies, but for the region its going to be a bit complexe so I decided to drop the entire column.\n",
    "I will drop the Date Feature as well because I already have 3 other columns for the Year, Month and Day."
   ]
  },
  {
   "cell_type": "code",
   "execution_count": 8,
   "metadata": {
    "_uuid": "a798682da34327b731ef262985fd50ba68e06460",
    "execution": {
     "iopub.execute_input": "2021-06-25T00:00:23.169765Z",
     "iopub.status.busy": "2021-06-25T00:00:23.160802Z",
     "iopub.status.idle": "2021-06-25T00:00:23.196363Z",
     "shell.execute_reply": "2021-06-25T00:00:23.194832Z"
    },
    "jupyter": {
     "source_hidden": true
    },
    "papermill": {
     "duration": 0.068997,
     "end_time": "2021-06-25T00:00:23.197133",
     "exception": false,
     "start_time": "2021-06-25T00:00:23.128136",
     "status": "completed"
    },
    "tags": []
   },
   "outputs": [],
   "source": [
    "df_final=pd.get_dummies(df.drop(['region','Date'],axis=1),drop_first=True)"
   ]
  },
  {
   "cell_type": "markdown",
   "metadata": {
    "_uuid": "8b74a6b88cb3e9b3e1d1e987e061048f203c7364",
    "papermill": {
     "duration": 0.020977,
     "end_time": "2021-06-25T00:00:23.238838",
     "exception": false,
     "start_time": "2021-06-25T00:00:23.217861",
     "status": "completed"
    },
    "tags": []
   },
   "source": [
    "Now our data are ready! lets apply our model which is going to be the Linear Regression because our Target variable 'AveragePrice'is continuous.\n",
    "Let's now begin to train out regression model! We will need to first split up our data into an X array that contains the features to train on, and a y array with the target variable"
   ]
  },
  {
   "cell_type": "code",
   "execution_count": 9,
   "metadata": {
    "_uuid": "830591f99de9715241e688bf9ce265e979401ff5",
    "execution": {
     "iopub.execute_input": "2021-06-25T00:00:23.296592Z",
     "iopub.status.busy": "2021-06-25T00:00:23.294515Z",
     "iopub.status.idle": "2021-06-25T00:00:23.326813Z",
     "shell.execute_reply": "2021-06-25T00:00:23.328246Z"
    },
    "jupyter": {
     "source_hidden": true
    },
    "papermill": {
     "duration": 0.070471,
     "end_time": "2021-06-25T00:00:23.329067",
     "exception": false,
     "start_time": "2021-06-25T00:00:23.258596",
     "status": "completed"
    },
    "tags": []
   },
   "outputs": [],
   "source": [
    "X=df_final.iloc[:,1:14]\n",
    "y=df_final['AveragePrice']\n",
    "from sklearn.model_selection import train_test_split\n",
    "X_train,X_test,y_train,y_test=train_test_split(X,y,test_size=0.2,random_state=42)"
   ]
  },
  {
   "cell_type": "markdown",
   "metadata": {
    "_uuid": "ea730c77a31cde9de98263079a189accb8b5772b",
    "papermill": {
     "duration": 0.020351,
     "end_time": "2021-06-25T00:00:23.369804",
     "exception": false,
     "start_time": "2021-06-25T00:00:23.349453",
     "status": "completed"
    },
    "tags": []
   },
   "source": [
    "Creating and Training the Model"
   ]
  },
  {
   "cell_type": "code",
   "execution_count": 10,
   "metadata": {
    "_uuid": "eb37015e78974e5fd2ae7e13d065c8ab0a9c6948",
    "execution": {
     "iopub.execute_input": "2021-06-25T00:00:23.430012Z",
     "iopub.status.busy": "2021-06-25T00:00:23.427838Z",
     "iopub.status.idle": "2021-06-25T00:00:56.605913Z",
     "shell.execute_reply": "2021-06-25T00:00:56.602991Z"
    },
    "jupyter": {
     "source_hidden": true
    },
    "papermill": {
     "duration": 33.217281,
     "end_time": "2021-06-25T00:00:56.606796",
     "exception": false,
     "start_time": "2021-06-25T00:00:23.389515",
     "status": "completed"
    },
    "tags": []
   },
   "outputs": [],
   "source": [
    "from sklearn.ensemble import RandomForestRegressor\n",
    "rdr = RandomForestRegressor(\n",
    "    n_estimators=n_estimators,\n",
    "    max_features=max_features\n",
    ")\n",
    "rdr.fit(X_train,y_train)\n",
    "pred=rdr.predict(X_test)"
   ]
  },
  {
   "cell_type": "code",
   "execution_count": 11,
   "metadata": {
    "_uuid": "7ed5b8d4e8abb44a4b548c13ac9fb2d65227d1c5",
    "execution": {
     "iopub.execute_input": "2021-06-25T00:00:56.673975Z",
     "iopub.status.busy": "2021-06-25T00:00:56.671213Z",
     "iopub.status.idle": "2021-06-25T00:00:56.682687Z",
     "shell.execute_reply": "2021-06-25T00:00:56.679825Z"
    },
    "jupyter": {
     "source_hidden": true
    },
    "papermill": {
     "duration": 0.050365,
     "end_time": "2021-06-25T00:00:56.683609",
     "exception": false,
     "start_time": "2021-06-25T00:00:56.633244",
     "status": "completed"
    },
    "tags": []
   },
   "outputs": [],
   "source": [
    "#%%capture cap --no-stderr\n",
    "#print(np.sqrt(mean_squared_error(y_test, pred)))"
   ]
  },
  {
   "cell_type": "code",
   "execution_count": 12,
   "metadata": {
    "execution": {
     "iopub.execute_input": "2021-06-25T00:00:56.746660Z",
     "iopub.status.busy": "2021-06-25T00:00:56.744024Z",
     "iopub.status.idle": "2021-06-25T00:00:56.753849Z",
     "shell.execute_reply": "2021-06-25T00:00:56.755638Z"
    },
    "jupyter": {
     "source_hidden": true
    },
    "papermill": {
     "duration": 0.047771,
     "end_time": "2021-06-25T00:00:56.756570",
     "exception": false,
     "start_time": "2021-06-25T00:00:56.708799",
     "status": "completed"
    },
    "tags": []
   },
   "outputs": [],
   "source": [
    "#with open(output_rmse, 'w') as f:\n",
    "#    f.write(cap.stdout)"
   ]
  },
  {
   "cell_type": "code",
   "execution_count": 13,
   "metadata": {
    "execution": {
     "iopub.execute_input": "2021-06-25T00:00:56.826164Z",
     "iopub.status.busy": "2021-06-25T00:00:56.823589Z",
     "iopub.status.idle": "2021-06-25T00:00:56.908310Z",
     "shell.execute_reply": "2021-06-25T00:00:56.905898Z"
    },
    "jupyter": {
     "source_hidden": true
    },
    "papermill": {
     "duration": 0.127243,
     "end_time": "2021-06-25T00:00:56.909410",
     "exception": false,
     "start_time": "2021-06-25T00:00:56.782167",
     "status": "completed"
    },
    "tags": []
   },
   "outputs": [
    {
     "data": {
      "text/plain": [
       "<sqlalchemy.engine.result.ResultProxy at 0x7fb3c45574d0>"
      ]
     },
     "execution_count": 13,
     "metadata": {},
     "output_type": "execute_result"
    }
   ],
   "source": [
    "cnx.execute(\"\"\"\n",
    "    INSERT INTO ml.accuracies (ml_id, ml_date, accuracy) VALUES ('{0}', '{1}', {2}) \n",
    "    ON CONFLICT (ml_id, ml_date) \n",
    "    DO\n",
    "        UPDATE SET accuracy = {2};\n",
    "    \"\"\".format(ml_id, ml_date, np.sqrt(mean_squared_error(y_test, pred))))"
   ]
  }
 ],
 "metadata": {
  "kernelspec": {
   "display_name": "Python 3",
   "language": "python",
   "name": "python3"
  },
  "language_info": {
   "codemirror_mode": {
    "name": "ipython",
    "version": 3
   },
   "file_extension": ".py",
   "mimetype": "text/x-python",
   "name": "python",
   "nbconvert_exporter": "python",
   "pygments_lexer": "ipython3",
   "version": "3.7.10"
  },
  "papermill": {
   "duration": 40.97817,
   "end_time": "2021-06-25T00:00:57.772760",
   "environment_variables": {},
   "exception": null,
   "input_path": "/usr/local/airflow/include/notebooks/avocado_prediction.ipynb",
   "output_path": "/tmp/out-model-avocado-prediction-auto_100.ipynb",
   "parameters": {
    "filepath": "/tmp/avocado.csv",
    "max_features": "auto",
    "ml_id": "auto_100",
    "n_estimators": 100
   },
   "start_time": "2021-06-25T00:00:16.794590",
   "version": "2.1.2"
  }
 },
 "nbformat": 4,
 "nbformat_minor": 4
}