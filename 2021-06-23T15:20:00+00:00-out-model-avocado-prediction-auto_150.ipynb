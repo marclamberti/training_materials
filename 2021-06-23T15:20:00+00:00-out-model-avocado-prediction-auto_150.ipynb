{
 "cells": [
  {
   "cell_type": "code",
   "execution_count": 1,
   "metadata": {
    "_cell_guid": "79c7e3d0-c299-4dcb-8224-4455121ee9b0",
    "_uuid": "d629ff2d2480ee46fbb7e2d37f6b5fab8052498a",
    "execution": {
     "iopub.execute_input": "2021-06-23T15:52:54.161236Z",
     "iopub.status.busy": "2021-06-23T15:52:54.160340Z",
     "iopub.status.idle": "2021-06-23T15:52:55.416564Z",
     "shell.execute_reply": "2021-06-23T15:52:55.418440Z"
    },
    "jupyter": {
     "source_hidden": true
    },
    "papermill": {
     "duration": 1.273119,
     "end_time": "2021-06-23T15:52:55.418923",
     "exception": false,
     "start_time": "2021-06-23T15:52:54.145804",
     "status": "completed"
    },
    "tags": []
   },
   "outputs": [],
   "source": [
    "import pandas as pd\n",
    "import numpy as np\n",
    "from sqlalchemy import create_engine\n",
    "from datetime import date\n",
    "from sklearn.metrics import mean_squared_error"
   ]
  },
  {
   "cell_type": "code",
   "execution_count": 2,
   "metadata": {
    "execution": {
     "iopub.execute_input": "2021-06-23T15:52:55.467402Z",
     "iopub.status.busy": "2021-06-23T15:52:55.465060Z",
     "iopub.status.idle": "2021-06-23T15:52:55.566084Z",
     "shell.execute_reply": "2021-06-23T15:52:55.567930Z"
    },
    "jupyter": {
     "source_hidden": true
    },
    "papermill": {
     "duration": 0.134827,
     "end_time": "2021-06-23T15:52:55.568164",
     "exception": false,
     "start_time": "2021-06-23T15:52:55.433337",
     "status": "completed"
    },
    "tags": []
   },
   "outputs": [],
   "source": [
    "# THIS IS PURELY FOR TEST PURPOSE NEVER DO THAT IN PRODUCTION\n",
    "POSTGRES_ADDRESS='postgres'\n",
    "POSTGRES_PORT='5432'\n",
    "POSTGRES_USERNAME='postgres'\n",
    "POSTGRES_PASSWORD='postgres'\n",
    "\n",
    "postgres_conn = 'postgresql://{0}:{1}@{2}:{3}/'.format(POSTGRES_USERNAME, POSTGRES_PASSWORD, POSTGRES_ADDRESS, POSTGRES_PORT)\n",
    "\n",
    "# Create the connection\n",
    "cnx = create_engine(postgres_conn)\n"
   ]
  },
  {
   "cell_type": "markdown",
   "metadata": {
    "_uuid": "1998755ef10683262b29765345cff1c1c7d10b15",
    "papermill": {
     "duration": 0.013864,
     "end_time": "2021-06-23T15:52:55.593733",
     "exception": false,
     "start_time": "2021-06-23T15:52:55.579869",
     "status": "completed"
    },
    "tags": []
   },
   "source": [
    "Read in the Avocado Prices csv file as a DataFrame called df"
   ]
  },
  {
   "cell_type": "code",
   "execution_count": 3,
   "metadata": {
    "execution": {
     "iopub.execute_input": "2021-06-23T15:52:55.636516Z",
     "iopub.status.busy": "2021-06-23T15:52:55.634698Z",
     "iopub.status.idle": "2021-06-23T15:52:55.640002Z",
     "shell.execute_reply": "2021-06-23T15:52:55.639284Z"
    },
    "jupyter": {
     "source_hidden": true
    },
    "papermill": {
     "duration": 0.030073,
     "end_time": "2021-06-23T15:52:55.640159",
     "exception": false,
     "start_time": "2021-06-23T15:52:55.610086",
     "status": "completed"
    },
    "tags": [
     "parameters"
    ]
   },
   "outputs": [],
   "source": [
    "# Parameterized\n",
    "\n",
    "filepath='avocado.csv'\n",
    "ml_id='auto_100'\n",
    "ml_date=date.today()\n",
    "n_estimators = 100\n",
    "max_features = 'auto'"
   ]
  },
  {
   "cell_type": "code",
   "execution_count": 4,
   "id": "d8de03cb",
   "metadata": {
    "execution": {
     "iopub.execute_input": "2021-06-23T15:52:55.684732Z",
     "iopub.status.busy": "2021-06-23T15:52:55.682779Z",
     "iopub.status.idle": "2021-06-23T15:52:55.687001Z",
     "shell.execute_reply": "2021-06-23T15:52:55.686290Z"
    },
    "jupyter": {
     "source_hidden": true
    },
    "papermill": {
     "duration": 0.029902,
     "end_time": "2021-06-23T15:52:55.687162",
     "exception": false,
     "start_time": "2021-06-23T15:52:55.657260",
     "status": "completed"
    },
    "tags": [
     "injected-parameters"
    ]
   },
   "outputs": [],
   "source": [
    "# Parameters\n",
    "filepath = \"/tmp/avocado.csv\"\n",
    "n_estimators = 150\n",
    "max_features = \"auto\"\n",
    "ml_id = \"auto_150\"\n"
   ]
  },
  {
   "cell_type": "code",
   "execution_count": 5,
   "metadata": {
    "_uuid": "55d0e719eb8b91d763c1eacaf0f51ee0586486fc",
    "execution": {
     "iopub.execute_input": "2021-06-23T15:52:55.736244Z",
     "iopub.status.busy": "2021-06-23T15:52:55.735474Z",
     "iopub.status.idle": "2021-06-23T15:52:55.817267Z",
     "shell.execute_reply": "2021-06-23T15:52:55.818673Z"
    },
    "jupyter": {
     "source_hidden": true
    },
    "papermill": {
     "duration": 0.114786,
     "end_time": "2021-06-23T15:52:55.818922",
     "exception": false,
     "start_time": "2021-06-23T15:52:55.704136",
     "status": "completed"
    },
    "tags": []
   },
   "outputs": [],
   "source": [
    "df= pd.read_csv(filepath)"
   ]
  },
  {
   "cell_type": "markdown",
   "metadata": {
    "_uuid": "434e0457f550e2200424e5ec26162e1aa5904005",
    "papermill": {
     "duration": 0.013047,
     "end_time": "2021-06-23T15:52:55.845113",
     "exception": false,
     "start_time": "2021-06-23T15:52:55.832066",
     "status": "completed"
    },
    "tags": []
   },
   "source": [
    "The Feature \"Unnamed:0\" is just a representation of the indexes, so it's useless to keep it, lets remove it !"
   ]
  },
  {
   "cell_type": "code",
   "execution_count": 6,
   "metadata": {
    "_uuid": "9875398e37728dc3141fed4228be337a4735beb6",
    "execution": {
     "iopub.execute_input": "2021-06-23T15:52:55.886108Z",
     "iopub.status.busy": "2021-06-23T15:52:55.884913Z",
     "iopub.status.idle": "2021-06-23T15:52:55.890110Z",
     "shell.execute_reply": "2021-06-23T15:52:55.892013Z"
    },
    "jupyter": {
     "source_hidden": true
    },
    "papermill": {
     "duration": 0.033915,
     "end_time": "2021-06-23T15:52:55.892210",
     "exception": false,
     "start_time": "2021-06-23T15:52:55.858295",
     "status": "completed"
    },
    "tags": []
   },
   "outputs": [],
   "source": [
    "df.drop('Unnamed: 0',axis=1,inplace=True)"
   ]
  },
  {
   "cell_type": "markdown",
   "metadata": {
    "_uuid": "12e94ad381e4cb8d2c8a9bbe08ce07ab5d49c040",
    "papermill": {
     "duration": 0.011986,
     "end_time": "2021-06-23T15:52:55.923359",
     "exception": false,
     "start_time": "2021-06-23T15:52:55.911373",
     "status": "completed"
    },
    "tags": []
   },
   "source": [
    "well as a first observation we can see that we are lucky, we dont have any missing values (18249 complete data) and 13 columns.\n",
    "Now let's do some Feature Engineering on the Date Feature so we can be able to use the day and the month columns in building our machine learning model later. ( I didn't mention the year because its already there in data frame)"
   ]
  },
  {
   "cell_type": "code",
   "execution_count": 7,
   "metadata": {
    "_uuid": "f031639ce794656e877484d1c9c356df7028177f",
    "execution": {
     "iopub.execute_input": "2021-06-23T15:52:55.955164Z",
     "iopub.status.busy": "2021-06-23T15:52:55.954441Z",
     "iopub.status.idle": "2021-06-23T15:52:56.205871Z",
     "shell.execute_reply": "2021-06-23T15:52:56.206349Z"
    },
    "jupyter": {
     "source_hidden": true
    },
    "papermill": {
     "duration": 0.271813,
     "end_time": "2021-06-23T15:52:56.206521",
     "exception": false,
     "start_time": "2021-06-23T15:52:55.934708",
     "status": "completed"
    },
    "tags": []
   },
   "outputs": [],
   "source": [
    "df['Date']=pd.to_datetime(df['Date'])\n",
    "df['Month']=df['Date'].apply(lambda x:x.month)\n",
    "df['Day']=df['Date'].apply(lambda x:x.day)"
   ]
  },
  {
   "cell_type": "markdown",
   "metadata": {
    "_uuid": "ebdcac9924ce3e366fd3a75170682f7113385b7a",
    "papermill": {
     "duration": 0.007463,
     "end_time": "2021-06-23T15:52:56.223274",
     "exception": false,
     "start_time": "2021-06-23T15:52:56.215811",
     "status": "completed"
    },
    "tags": []
   },
   "source": [
    "as we can see we have 54 regions and 2 unique types, so it's going to be easy to to transform the type feature to dummies, but for the region its going to be a bit complexe so I decided to drop the entire column.\n",
    "I will drop the Date Feature as well because I already have 3 other columns for the Year, Month and Day."
   ]
  },
  {
   "cell_type": "code",
   "execution_count": 8,
   "metadata": {
    "_uuid": "a798682da34327b731ef262985fd50ba68e06460",
    "execution": {
     "iopub.execute_input": "2021-06-23T15:52:56.244046Z",
     "iopub.status.busy": "2021-06-23T15:52:56.243173Z",
     "iopub.status.idle": "2021-06-23T15:52:56.256568Z",
     "shell.execute_reply": "2021-06-23T15:52:56.257001Z"
    },
    "jupyter": {
     "source_hidden": true
    },
    "papermill": {
     "duration": 0.026157,
     "end_time": "2021-06-23T15:52:56.257133",
     "exception": false,
     "start_time": "2021-06-23T15:52:56.230976",
     "status": "completed"
    },
    "tags": []
   },
   "outputs": [],
   "source": [
    "df_final=pd.get_dummies(df.drop(['region','Date'],axis=1),drop_first=True)"
   ]
  },
  {
   "cell_type": "markdown",
   "metadata": {
    "_uuid": "8b74a6b88cb3e9b3e1d1e987e061048f203c7364",
    "papermill": {
     "duration": 0.007839,
     "end_time": "2021-06-23T15:52:56.274059",
     "exception": false,
     "start_time": "2021-06-23T15:52:56.266220",
     "status": "completed"
    },
    "tags": []
   },
   "source": [
    "Now our data are ready! lets apply our model which is going to be the Linear Regression because our Target variable 'AveragePrice'is continuous.\n",
    "Let's now begin to train out regression model! We will need to first split up our data into an X array that contains the features to train on, and a y array with the target variable"
   ]
  },
  {
   "cell_type": "code",
   "execution_count": 9,
   "metadata": {
    "_uuid": "830591f99de9715241e688bf9ce265e979401ff5",
    "execution": {
     "iopub.execute_input": "2021-06-23T15:52:56.296887Z",
     "iopub.status.busy": "2021-06-23T15:52:56.296091Z",
     "iopub.status.idle": "2021-06-23T15:52:56.310120Z",
     "shell.execute_reply": "2021-06-23T15:52:56.309703Z"
    },
    "jupyter": {
     "source_hidden": true
    },
    "papermill": {
     "duration": 0.028259,
     "end_time": "2021-06-23T15:52:56.310228",
     "exception": false,
     "start_time": "2021-06-23T15:52:56.281969",
     "status": "completed"
    },
    "tags": []
   },
   "outputs": [],
   "source": [
    "X=df_final.iloc[:,1:14]\n",
    "y=df_final['AveragePrice']\n",
    "from sklearn.model_selection import train_test_split\n",
    "X_train,X_test,y_train,y_test=train_test_split(X,y,test_size=0.2,random_state=42)"
   ]
  },
  {
   "cell_type": "markdown",
   "metadata": {
    "_uuid": "ea730c77a31cde9de98263079a189accb8b5772b",
    "papermill": {
     "duration": 0.007591,
     "end_time": "2021-06-23T15:52:56.325298",
     "exception": false,
     "start_time": "2021-06-23T15:52:56.317707",
     "status": "completed"
    },
    "tags": []
   },
   "source": [
    "Creating and Training the Model"
   ]
  },
  {
   "cell_type": "code",
   "execution_count": 10,
   "metadata": {
    "_uuid": "eb37015e78974e5fd2ae7e13d065c8ab0a9c6948",
    "execution": {
     "iopub.execute_input": "2021-06-23T15:52:56.350238Z",
     "iopub.status.busy": "2021-06-23T15:52:56.347331Z",
     "iopub.status.idle": "2021-06-23T15:53:17.355677Z",
     "shell.execute_reply": "2021-06-23T15:53:17.356924Z"
    },
    "jupyter": {
     "source_hidden": true
    },
    "papermill": {
     "duration": 21.024212,
     "end_time": "2021-06-23T15:53:17.357305",
     "exception": false,
     "start_time": "2021-06-23T15:52:56.333093",
     "status": "completed"
    },
    "tags": []
   },
   "outputs": [],
   "source": [
    "from sklearn.ensemble import RandomForestRegressor\n",
    "rdr = RandomForestRegressor(\n",
    "    n_estimators=n_estimators,\n",
    "    max_features=max_features\n",
    ")\n",
    "rdr.fit(X_train,y_train)\n",
    "pred=rdr.predict(X_test)"
   ]
  },
  {
   "cell_type": "code",
   "execution_count": 11,
   "metadata": {
    "_uuid": "7ed5b8d4e8abb44a4b548c13ac9fb2d65227d1c5",
    "execution": {
     "iopub.execute_input": "2021-06-23T15:53:17.378831Z",
     "iopub.status.busy": "2021-06-23T15:53:17.377461Z",
     "iopub.status.idle": "2021-06-23T15:53:17.380945Z",
     "shell.execute_reply": "2021-06-23T15:53:17.380484Z"
    },
    "jupyter": {
     "source_hidden": true
    },
    "papermill": {
     "duration": 0.014925,
     "end_time": "2021-06-23T15:53:17.381322",
     "exception": false,
     "start_time": "2021-06-23T15:53:17.366397",
     "status": "completed"
    },
    "tags": []
   },
   "outputs": [],
   "source": [
    "#%%capture cap --no-stderr\n",
    "#print(np.sqrt(mean_squared_error(y_test, pred)))"
   ]
  },
  {
   "cell_type": "code",
   "execution_count": 12,
   "metadata": {
    "execution": {
     "iopub.execute_input": "2021-06-23T15:53:17.401572Z",
     "iopub.status.busy": "2021-06-23T15:53:17.399985Z",
     "iopub.status.idle": "2021-06-23T15:53:17.404358Z",
     "shell.execute_reply": "2021-06-23T15:53:17.404915Z"
    },
    "jupyter": {
     "source_hidden": true
    },
    "papermill": {
     "duration": 0.015972,
     "end_time": "2021-06-23T15:53:17.405044",
     "exception": false,
     "start_time": "2021-06-23T15:53:17.389072",
     "status": "completed"
    },
    "tags": []
   },
   "outputs": [],
   "source": [
    "#with open(output_rmse, 'w') as f:\n",
    "#    f.write(cap.stdout)"
   ]
  },
  {
   "cell_type": "code",
   "execution_count": 13,
   "metadata": {
    "execution": {
     "iopub.execute_input": "2021-06-23T15:53:17.427579Z",
     "iopub.status.busy": "2021-06-23T15:53:17.426710Z",
     "iopub.status.idle": "2021-06-23T15:53:17.454865Z",
     "shell.execute_reply": "2021-06-23T15:53:17.455261Z"
    },
    "jupyter": {
     "source_hidden": true
    },
    "papermill": {
     "duration": 0.042376,
     "end_time": "2021-06-23T15:53:17.455395",
     "exception": false,
     "start_time": "2021-06-23T15:53:17.413019",
     "status": "completed"
    },
    "tags": []
   },
   "outputs": [
    {
     "data": {
      "text/plain": [
       "<sqlalchemy.engine.result.ResultProxy at 0x7f8ae158b690>"
      ]
     },
     "execution_count": 13,
     "metadata": {},
     "output_type": "execute_result"
    }
   ],
   "source": [
    "cnx.execute(\"\"\"\n",
    "    INSERT INTO ml.accuracies (ml_id, ml_date, accuracy) VALUES ('{0}', '{1}', {2}) \n",
    "    ON CONFLICT (ml_id, ml_date) \n",
    "    DO\n",
    "        UPDATE SET accuracy = {2};\n",
    "    \"\"\".format(ml_id, ml_date, np.sqrt(mean_squared_error(y_test, pred))))"
   ]
  }
 ],
 "metadata": {
  "kernelspec": {
   "display_name": "Python 3",
   "language": "python",
   "name": "python3"
  },
  "language_info": {
   "codemirror_mode": {
    "name": "ipython",
    "version": 3
   },
   "file_extension": ".py",
   "mimetype": "text/x-python",
   "name": "python",
   "nbconvert_exporter": "python",
   "pygments_lexer": "ipython3",
   "version": "3.7.10"
  },
  "papermill": {
   "duration": 25.394598,
   "end_time": "2021-06-23T15:53:17.871898",
   "environment_variables": {},
   "exception": null,
   "input_path": "/usr/local/airflow/include/notebooks/avocado_prediction.ipynb",
   "output_path": "/tmp/out-model-avocado-prediction-auto_150.ipynb",
   "parameters": {
    "filepath": "/tmp/avocado.csv",
    "max_features": "auto",
    "ml_id": "auto_150",
    "n_estimators": 150
   },
   "start_time": "2021-06-23T15:52:52.477300",
   "version": "2.1.2"
  }
 },
 "nbformat": 4,
 "nbformat_minor": 4
}