{
 "cells": [
  {
   "cell_type": "code",
   "execution_count": 1,
   "metadata": {
    "_cell_guid": "79c7e3d0-c299-4dcb-8224-4455121ee9b0",
    "_uuid": "d629ff2d2480ee46fbb7e2d37f6b5fab8052498a",
    "execution": {
     "iopub.execute_input": "2021-06-24T17:50:08.559323Z",
     "iopub.status.busy": "2021-06-24T17:50:08.558671Z",
     "iopub.status.idle": "2021-06-24T17:50:09.261668Z",
     "shell.execute_reply": "2021-06-24T17:50:09.260662Z"
    },
    "jupyter": {
     "source_hidden": true
    },
    "papermill": {
     "duration": 0.715244,
     "end_time": "2021-06-24T17:50:09.261941",
     "exception": false,
     "start_time": "2021-06-24T17:50:08.546697",
     "status": "completed"
    },
    "tags": []
   },
   "outputs": [],
   "source": [
    "import pandas as pd\n",
    "import numpy as np\n",
    "from sqlalchemy import create_engine\n",
    "from datetime import date\n",
    "from sklearn.metrics import mean_squared_error"
   ]
  },
  {
   "cell_type": "code",
   "execution_count": 2,
   "metadata": {
    "execution": {
     "iopub.execute_input": "2021-06-24T17:50:09.281245Z",
     "iopub.status.busy": "2021-06-24T17:50:09.280514Z",
     "iopub.status.idle": "2021-06-24T17:50:09.307031Z",
     "shell.execute_reply": "2021-06-24T17:50:09.306546Z"
    },
    "jupyter": {
     "source_hidden": true
    },
    "papermill": {
     "duration": 0.038291,
     "end_time": "2021-06-24T17:50:09.307234",
     "exception": false,
     "start_time": "2021-06-24T17:50:09.268943",
     "status": "completed"
    },
    "tags": []
   },
   "outputs": [],
   "source": [
    "# THIS IS PURELY FOR TEST PURPOSE NEVER DO THAT IN PRODUCTION\n",
    "POSTGRES_ADDRESS='postgres'\n",
    "POSTGRES_PORT='5432'\n",
    "POSTGRES_USERNAME='postgres'\n",
    "POSTGRES_PASSWORD='postgres'\n",
    "\n",
    "postgres_conn = 'postgresql://{0}:{1}@{2}:{3}/'.format(POSTGRES_USERNAME, POSTGRES_PASSWORD, POSTGRES_ADDRESS, POSTGRES_PORT)\n",
    "\n",
    "# Create the connection\n",
    "cnx = create_engine(postgres_conn)\n"
   ]
  },
  {
   "cell_type": "markdown",
   "metadata": {
    "_uuid": "1998755ef10683262b29765345cff1c1c7d10b15",
    "papermill": {
     "duration": 0.00549,
     "end_time": "2021-06-24T17:50:09.318274",
     "exception": false,
     "start_time": "2021-06-24T17:50:09.312784",
     "status": "completed"
    },
    "tags": []
   },
   "source": [
    "Read in the Avocado Prices csv file as a DataFrame called df"
   ]
  },
  {
   "cell_type": "code",
   "execution_count": 3,
   "metadata": {
    "execution": {
     "iopub.execute_input": "2021-06-24T17:50:09.333574Z",
     "iopub.status.busy": "2021-06-24T17:50:09.332972Z",
     "iopub.status.idle": "2021-06-24T17:50:09.335349Z",
     "shell.execute_reply": "2021-06-24T17:50:09.335748Z"
    },
    "jupyter": {
     "source_hidden": true
    },
    "papermill": {
     "duration": 0.012619,
     "end_time": "2021-06-24T17:50:09.335981",
     "exception": false,
     "start_time": "2021-06-24T17:50:09.323362",
     "status": "completed"
    },
    "tags": [
     "parameters"
    ]
   },
   "outputs": [],
   "source": [
    "# Parameterized\n",
    "\n",
    "filepath='avocado.csv'\n",
    "ml_id='auto_100'\n",
    "ml_date=date.today()\n",
    "n_estimators = 100\n",
    "max_features = 'auto'"
   ]
  },
  {
   "cell_type": "code",
   "execution_count": 4,
   "id": "26f169be",
   "metadata": {
    "execution": {
     "iopub.execute_input": "2021-06-24T17:50:09.351563Z",
     "iopub.status.busy": "2021-06-24T17:50:09.350999Z",
     "iopub.status.idle": "2021-06-24T17:50:09.352928Z",
     "shell.execute_reply": "2021-06-24T17:50:09.353518Z"
    },
    "jupyter": {
     "source_hidden": true
    },
    "papermill": {
     "duration": 0.012376,
     "end_time": "2021-06-24T17:50:09.353793",
     "exception": false,
     "start_time": "2021-06-24T17:50:09.341417",
     "status": "completed"
    },
    "tags": [
     "injected-parameters"
    ]
   },
   "outputs": [],
   "source": [
    "# Parameters\n",
    "filepath = \"/tmp/avocado.csv\"\n",
    "n_estimators = 100\n",
    "max_features = \"auto\"\n",
    "ml_id = \"auto_100\"\n"
   ]
  },
  {
   "cell_type": "code",
   "execution_count": 5,
   "metadata": {
    "_uuid": "55d0e719eb8b91d763c1eacaf0f51ee0586486fc",
    "execution": {
     "iopub.execute_input": "2021-06-24T17:50:09.370445Z",
     "iopub.status.busy": "2021-06-24T17:50:09.369811Z",
     "iopub.status.idle": "2021-06-24T17:50:09.400240Z",
     "shell.execute_reply": "2021-06-24T17:50:09.399539Z"
    },
    "jupyter": {
     "source_hidden": true
    },
    "papermill": {
     "duration": 0.040739,
     "end_time": "2021-06-24T17:50:09.400444",
     "exception": false,
     "start_time": "2021-06-24T17:50:09.359705",
     "status": "completed"
    },
    "tags": []
   },
   "outputs": [],
   "source": [
    "df= pd.read_csv(filepath)"
   ]
  },
  {
   "cell_type": "markdown",
   "metadata": {
    "_uuid": "434e0457f550e2200424e5ec26162e1aa5904005",
    "papermill": {
     "duration": 0.005779,
     "end_time": "2021-06-24T17:50:09.411886",
     "exception": false,
     "start_time": "2021-06-24T17:50:09.406107",
     "status": "completed"
    },
    "tags": []
   },
   "source": [
    "The Feature \"Unnamed:0\" is just a representation of the indexes, so it's useless to keep it, lets remove it !"
   ]
  },
  {
   "cell_type": "code",
   "execution_count": 6,
   "metadata": {
    "_uuid": "9875398e37728dc3141fed4228be337a4735beb6",
    "execution": {
     "iopub.execute_input": "2021-06-24T17:50:09.429641Z",
     "iopub.status.busy": "2021-06-24T17:50:09.429006Z",
     "iopub.status.idle": "2021-06-24T17:50:09.431314Z",
     "shell.execute_reply": "2021-06-24T17:50:09.431810Z"
    },
    "jupyter": {
     "source_hidden": true
    },
    "papermill": {
     "duration": 0.014677,
     "end_time": "2021-06-24T17:50:09.432131",
     "exception": false,
     "start_time": "2021-06-24T17:50:09.417454",
     "status": "completed"
    },
    "tags": []
   },
   "outputs": [],
   "source": [
    "df.drop('Unnamed: 0',axis=1,inplace=True)"
   ]
  },
  {
   "cell_type": "markdown",
   "metadata": {
    "_uuid": "12e94ad381e4cb8d2c8a9bbe08ce07ab5d49c040",
    "papermill": {
     "duration": 0.005678,
     "end_time": "2021-06-24T17:50:09.443594",
     "exception": false,
     "start_time": "2021-06-24T17:50:09.437916",
     "status": "completed"
    },
    "tags": []
   },
   "source": [
    "well as a first observation we can see that we are lucky, we dont have any missing values (18249 complete data) and 13 columns.\n",
    "Now let's do some Feature Engineering on the Date Feature so we can be able to use the day and the month columns in building our machine learning model later. ( I didn't mention the year because its already there in data frame)"
   ]
  },
  {
   "cell_type": "code",
   "execution_count": 7,
   "metadata": {
    "_uuid": "f031639ce794656e877484d1c9c356df7028177f",
    "execution": {
     "iopub.execute_input": "2021-06-24T17:50:09.461556Z",
     "iopub.status.busy": "2021-06-24T17:50:09.460576Z",
     "iopub.status.idle": "2021-06-24T17:50:09.577766Z",
     "shell.execute_reply": "2021-06-24T17:50:09.578244Z"
    },
    "jupyter": {
     "source_hidden": true
    },
    "papermill": {
     "duration": 0.12884,
     "end_time": "2021-06-24T17:50:09.578458",
     "exception": false,
     "start_time": "2021-06-24T17:50:09.449618",
     "status": "completed"
    },
    "tags": []
   },
   "outputs": [],
   "source": [
    "df['Date']=pd.to_datetime(df['Date'])\n",
    "df['Month']=df['Date'].apply(lambda x:x.month)\n",
    "df['Day']=df['Date'].apply(lambda x:x.day)"
   ]
  },
  {
   "cell_type": "markdown",
   "metadata": {
    "_uuid": "ebdcac9924ce3e366fd3a75170682f7113385b7a",
    "papermill": {
     "duration": 0.005278,
     "end_time": "2021-06-24T17:50:09.589378",
     "exception": false,
     "start_time": "2021-06-24T17:50:09.584100",
     "status": "completed"
    },
    "tags": []
   },
   "source": [
    "as we can see we have 54 regions and 2 unique types, so it's going to be easy to to transform the type feature to dummies, but for the region its going to be a bit complexe so I decided to drop the entire column.\n",
    "I will drop the Date Feature as well because I already have 3 other columns for the Year, Month and Day."
   ]
  },
  {
   "cell_type": "code",
   "execution_count": 8,
   "metadata": {
    "_uuid": "a798682da34327b731ef262985fd50ba68e06460",
    "execution": {
     "iopub.execute_input": "2021-06-24T17:50:09.605347Z",
     "iopub.status.busy": "2021-06-24T17:50:09.604695Z",
     "iopub.status.idle": "2021-06-24T17:50:09.615254Z",
     "shell.execute_reply": "2021-06-24T17:50:09.614527Z"
    },
    "jupyter": {
     "source_hidden": true
    },
    "papermill": {
     "duration": 0.020874,
     "end_time": "2021-06-24T17:50:09.615465",
     "exception": false,
     "start_time": "2021-06-24T17:50:09.594591",
     "status": "completed"
    },
    "tags": []
   },
   "outputs": [],
   "source": [
    "df_final=pd.get_dummies(df.drop(['region','Date'],axis=1),drop_first=True)"
   ]
  },
  {
   "cell_type": "markdown",
   "metadata": {
    "_uuid": "8b74a6b88cb3e9b3e1d1e987e061048f203c7364",
    "papermill": {
     "duration": 0.005969,
     "end_time": "2021-06-24T17:50:09.627209",
     "exception": false,
     "start_time": "2021-06-24T17:50:09.621240",
     "status": "completed"
    },
    "tags": []
   },
   "source": [
    "Now our data are ready! lets apply our model which is going to be the Linear Regression because our Target variable 'AveragePrice'is continuous.\n",
    "Let's now begin to train out regression model! We will need to first split up our data into an X array that contains the features to train on, and a y array with the target variable"
   ]
  },
  {
   "cell_type": "code",
   "execution_count": 9,
   "metadata": {
    "_uuid": "830591f99de9715241e688bf9ce265e979401ff5",
    "execution": {
     "iopub.execute_input": "2021-06-24T17:50:09.643533Z",
     "iopub.status.busy": "2021-06-24T17:50:09.642882Z",
     "iopub.status.idle": "2021-06-24T17:50:09.653926Z",
     "shell.execute_reply": "2021-06-24T17:50:09.653476Z"
    },
    "jupyter": {
     "source_hidden": true
    },
    "papermill": {
     "duration": 0.021307,
     "end_time": "2021-06-24T17:50:09.654171",
     "exception": false,
     "start_time": "2021-06-24T17:50:09.632864",
     "status": "completed"
    },
    "tags": []
   },
   "outputs": [],
   "source": [
    "X=df_final.iloc[:,1:14]\n",
    "y=df_final['AveragePrice']\n",
    "from sklearn.model_selection import train_test_split\n",
    "X_train,X_test,y_train,y_test=train_test_split(X,y,test_size=0.2,random_state=42)"
   ]
  },
  {
   "cell_type": "markdown",
   "metadata": {
    "_uuid": "ea730c77a31cde9de98263079a189accb8b5772b",
    "papermill": {
     "duration": 0.006208,
     "end_time": "2021-06-24T17:50:09.665991",
     "exception": false,
     "start_time": "2021-06-24T17:50:09.659783",
     "status": "completed"
    },
    "tags": []
   },
   "source": [
    "Creating and Training the Model"
   ]
  },
  {
   "cell_type": "code",
   "execution_count": 10,
   "metadata": {
    "_uuid": "eb37015e78974e5fd2ae7e13d065c8ab0a9c6948",
    "execution": {
     "iopub.execute_input": "2021-06-24T17:50:09.682511Z",
     "iopub.status.busy": "2021-06-24T17:50:09.681889Z",
     "iopub.status.idle": "2021-06-24T17:50:18.527196Z",
     "shell.execute_reply": "2021-06-24T17:50:18.526523Z"
    },
    "jupyter": {
     "source_hidden": true
    },
    "papermill": {
     "duration": 8.855931,
     "end_time": "2021-06-24T17:50:18.527403",
     "exception": false,
     "start_time": "2021-06-24T17:50:09.671472",
     "status": "completed"
    },
    "tags": []
   },
   "outputs": [],
   "source": [
    "from sklearn.ensemble import RandomForestRegressor\n",
    "rdr = RandomForestRegressor(\n",
    "    n_estimators=n_estimators,\n",
    "    max_features=max_features\n",
    ")\n",
    "rdr.fit(X_train,y_train)\n",
    "pred=rdr.predict(X_test)"
   ]
  },
  {
   "cell_type": "code",
   "execution_count": 11,
   "metadata": {
    "_uuid": "7ed5b8d4e8abb44a4b548c13ac9fb2d65227d1c5",
    "execution": {
     "iopub.execute_input": "2021-06-24T17:50:18.543279Z",
     "iopub.status.busy": "2021-06-24T17:50:18.542651Z",
     "iopub.status.idle": "2021-06-24T17:50:18.545163Z",
     "shell.execute_reply": "2021-06-24T17:50:18.545554Z"
    },
    "jupyter": {
     "source_hidden": true
    },
    "papermill": {
     "duration": 0.012287,
     "end_time": "2021-06-24T17:50:18.545778",
     "exception": false,
     "start_time": "2021-06-24T17:50:18.533491",
     "status": "completed"
    },
    "tags": []
   },
   "outputs": [],
   "source": [
    "#%%capture cap --no-stderr\n",
    "#print(np.sqrt(mean_squared_error(y_test, pred)))"
   ]
  },
  {
   "cell_type": "code",
   "execution_count": 12,
   "metadata": {
    "execution": {
     "iopub.execute_input": "2021-06-24T17:50:18.561859Z",
     "iopub.status.busy": "2021-06-24T17:50:18.561225Z",
     "iopub.status.idle": "2021-06-24T17:50:18.563459Z",
     "shell.execute_reply": "2021-06-24T17:50:18.564091Z"
    },
    "jupyter": {
     "source_hidden": true
    },
    "papermill": {
     "duration": 0.012859,
     "end_time": "2021-06-24T17:50:18.564317",
     "exception": false,
     "start_time": "2021-06-24T17:50:18.551458",
     "status": "completed"
    },
    "tags": []
   },
   "outputs": [],
   "source": [
    "#with open(output_rmse, 'w') as f:\n",
    "#    f.write(cap.stdout)"
   ]
  },
  {
   "cell_type": "code",
   "execution_count": 13,
   "metadata": {
    "execution": {
     "iopub.execute_input": "2021-06-24T17:50:18.581389Z",
     "iopub.status.busy": "2021-06-24T17:50:18.580725Z",
     "iopub.status.idle": "2021-06-24T17:50:18.600646Z",
     "shell.execute_reply": "2021-06-24T17:50:18.600023Z"
    },
    "jupyter": {
     "source_hidden": true
    },
    "papermill": {
     "duration": 0.03083,
     "end_time": "2021-06-24T17:50:18.600846",
     "exception": false,
     "start_time": "2021-06-24T17:50:18.570016",
     "status": "completed"
    },
    "tags": []
   },
   "outputs": [
    {
     "data": {
      "text/plain": [
       "<sqlalchemy.engine.result.ResultProxy at 0x7f185ec59450>"
      ]
     },
     "execution_count": 13,
     "metadata": {},
     "output_type": "execute_result"
    }
   ],
   "source": [
    "cnx.execute(\"\"\"\n",
    "    INSERT INTO ml.accuracies (ml_id, ml_date, accuracy) VALUES ('{0}', '{1}', {2}) \n",
    "    ON CONFLICT (ml_id, ml_date) \n",
    "    DO\n",
    "        UPDATE SET accuracy = {2};\n",
    "    \"\"\".format(ml_id, ml_date, np.sqrt(mean_squared_error(y_test, pred))))"
   ]
  }
 ],
 "metadata": {
  "kernelspec": {
   "display_name": "Python 3",
   "language": "python",
   "name": "python3"
  },
  "language_info": {
   "codemirror_mode": {
    "name": "ipython",
    "version": 3
   },
   "file_extension": ".py",
   "mimetype": "text/x-python",
   "name": "python",
   "nbconvert_exporter": "python",
   "pygments_lexer": "ipython3",
   "version": "3.7.10"
  },
  "papermill": {
   "duration": 12.386466,
   "end_time": "2021-06-24T17:50:19.787918",
   "environment_variables": {},
   "exception": null,
   "input_path": "/usr/local/airflow/include/notebooks/avocado_prediction.ipynb",
   "output_path": "/tmp/out-model-avocado-prediction-auto_100.ipynb",
   "parameters": {
    "filepath": "/tmp/avocado.csv",
    "max_features": "auto",
    "ml_id": "auto_100",
    "n_estimators": 100
   },
   "start_time": "2021-06-24T17:50:07.401452",
   "version": "2.1.2"
  }
 },
 "nbformat": 4,
 "nbformat_minor": 4
}