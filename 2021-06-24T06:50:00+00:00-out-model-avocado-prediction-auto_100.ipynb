{
 "cells": [
  {
   "cell_type": "code",
   "execution_count": 1,
   "metadata": {
    "_cell_guid": "79c7e3d0-c299-4dcb-8224-4455121ee9b0",
    "_uuid": "d629ff2d2480ee46fbb7e2d37f6b5fab8052498a",
    "execution": {
     "iopub.execute_input": "2021-06-24T07:00:09.509903Z",
     "iopub.status.busy": "2021-06-24T07:00:09.509365Z",
     "iopub.status.idle": "2021-06-24T07:00:10.177609Z",
     "shell.execute_reply": "2021-06-24T07:00:10.176984Z"
    },
    "jupyter": {
     "source_hidden": true
    },
    "papermill": {
     "duration": 0.678923,
     "end_time": "2021-06-24T07:00:10.177851",
     "exception": false,
     "start_time": "2021-06-24T07:00:09.498928",
     "status": "completed"
    },
    "tags": []
   },
   "outputs": [],
   "source": [
    "import pandas as pd\n",
    "import numpy as np\n",
    "from sqlalchemy import create_engine\n",
    "from datetime import date\n",
    "from sklearn.metrics import mean_squared_error"
   ]
  },
  {
   "cell_type": "code",
   "execution_count": 2,
   "metadata": {
    "execution": {
     "iopub.execute_input": "2021-06-24T07:00:10.194576Z",
     "iopub.status.busy": "2021-06-24T07:00:10.193915Z",
     "iopub.status.idle": "2021-06-24T07:00:10.220778Z",
     "shell.execute_reply": "2021-06-24T07:00:10.220301Z"
    },
    "jupyter": {
     "source_hidden": true
    },
    "papermill": {
     "duration": 0.037147,
     "end_time": "2021-06-24T07:00:10.220993",
     "exception": false,
     "start_time": "2021-06-24T07:00:10.183846",
     "status": "completed"
    },
    "tags": []
   },
   "outputs": [],
   "source": [
    "# THIS IS PURELY FOR TEST PURPOSE NEVER DO THAT IN PRODUCTION\n",
    "POSTGRES_ADDRESS='postgres'\n",
    "POSTGRES_PORT='5432'\n",
    "POSTGRES_USERNAME='postgres'\n",
    "POSTGRES_PASSWORD='postgres'\n",
    "\n",
    "postgres_conn = 'postgresql://{0}:{1}@{2}:{3}/'.format(POSTGRES_USERNAME, POSTGRES_PASSWORD, POSTGRES_ADDRESS, POSTGRES_PORT)\n",
    "\n",
    "# Create the connection\n",
    "cnx = create_engine(postgres_conn)\n"
   ]
  },
  {
   "cell_type": "markdown",
   "metadata": {
    "_uuid": "1998755ef10683262b29765345cff1c1c7d10b15",
    "papermill": {
     "duration": 0.005474,
     "end_time": "2021-06-24T07:00:10.231960",
     "exception": false,
     "start_time": "2021-06-24T07:00:10.226486",
     "status": "completed"
    },
    "tags": []
   },
   "source": [
    "Read in the Avocado Prices csv file as a DataFrame called df"
   ]
  },
  {
   "cell_type": "code",
   "execution_count": 3,
   "metadata": {
    "execution": {
     "iopub.execute_input": "2021-06-24T07:00:10.247380Z",
     "iopub.status.busy": "2021-06-24T07:00:10.246681Z",
     "iopub.status.idle": "2021-06-24T07:00:10.249310Z",
     "shell.execute_reply": "2021-06-24T07:00:10.249773Z"
    },
    "jupyter": {
     "source_hidden": true
    },
    "papermill": {
     "duration": 0.012758,
     "end_time": "2021-06-24T07:00:10.250013",
     "exception": false,
     "start_time": "2021-06-24T07:00:10.237255",
     "status": "completed"
    },
    "tags": [
     "parameters"
    ]
   },
   "outputs": [],
   "source": [
    "# Parameterized\n",
    "\n",
    "filepath='avocado.csv'\n",
    "ml_id='auto_100'\n",
    "ml_date=date.today()\n",
    "n_estimators = 100\n",
    "max_features = 'auto'"
   ]
  },
  {
   "cell_type": "code",
   "execution_count": 4,
   "id": "3422334a",
   "metadata": {
    "execution": {
     "iopub.execute_input": "2021-06-24T07:00:10.265299Z",
     "iopub.status.busy": "2021-06-24T07:00:10.264626Z",
     "iopub.status.idle": "2021-06-24T07:00:10.267457Z",
     "shell.execute_reply": "2021-06-24T07:00:10.267901Z"
    },
    "jupyter": {
     "source_hidden": true
    },
    "papermill": {
     "duration": 0.01254,
     "end_time": "2021-06-24T07:00:10.268144",
     "exception": false,
     "start_time": "2021-06-24T07:00:10.255604",
     "status": "completed"
    },
    "tags": [
     "injected-parameters"
    ]
   },
   "outputs": [],
   "source": [
    "# Parameters\n",
    "filepath = \"/tmp/avocado.csv\"\n",
    "n_estimators = 100\n",
    "max_features = \"auto\"\n",
    "ml_id = \"auto_100\"\n"
   ]
  },
  {
   "cell_type": "code",
   "execution_count": 5,
   "metadata": {
    "_uuid": "55d0e719eb8b91d763c1eacaf0f51ee0586486fc",
    "execution": {
     "iopub.execute_input": "2021-06-24T07:00:10.284232Z",
     "iopub.status.busy": "2021-06-24T07:00:10.283567Z",
     "iopub.status.idle": "2021-06-24T07:00:10.314792Z",
     "shell.execute_reply": "2021-06-24T07:00:10.315287Z"
    },
    "jupyter": {
     "source_hidden": true
    },
    "papermill": {
     "duration": 0.041606,
     "end_time": "2021-06-24T07:00:10.315559",
     "exception": false,
     "start_time": "2021-06-24T07:00:10.273953",
     "status": "completed"
    },
    "tags": []
   },
   "outputs": [],
   "source": [
    "df= pd.read_csv(filepath)"
   ]
  },
  {
   "cell_type": "markdown",
   "metadata": {
    "_uuid": "434e0457f550e2200424e5ec26162e1aa5904005",
    "papermill": {
     "duration": 0.005754,
     "end_time": "2021-06-24T07:00:10.327196",
     "exception": false,
     "start_time": "2021-06-24T07:00:10.321442",
     "status": "completed"
    },
    "tags": []
   },
   "source": [
    "The Feature \"Unnamed:0\" is just a representation of the indexes, so it's useless to keep it, lets remove it !"
   ]
  },
  {
   "cell_type": "code",
   "execution_count": 6,
   "metadata": {
    "_uuid": "9875398e37728dc3141fed4228be337a4735beb6",
    "execution": {
     "iopub.execute_input": "2021-06-24T07:00:10.345365Z",
     "iopub.status.busy": "2021-06-24T07:00:10.344657Z",
     "iopub.status.idle": "2021-06-24T07:00:10.347588Z",
     "shell.execute_reply": "2021-06-24T07:00:10.348058Z"
    },
    "jupyter": {
     "source_hidden": true
    },
    "papermill": {
     "duration": 0.015207,
     "end_time": "2021-06-24T07:00:10.348346",
     "exception": false,
     "start_time": "2021-06-24T07:00:10.333139",
     "status": "completed"
    },
    "tags": []
   },
   "outputs": [],
   "source": [
    "df.drop('Unnamed: 0',axis=1,inplace=True)"
   ]
  },
  {
   "cell_type": "markdown",
   "metadata": {
    "_uuid": "12e94ad381e4cb8d2c8a9bbe08ce07ab5d49c040",
    "papermill": {
     "duration": 0.006111,
     "end_time": "2021-06-24T07:00:10.360241",
     "exception": false,
     "start_time": "2021-06-24T07:00:10.354130",
     "status": "completed"
    },
    "tags": []
   },
   "source": [
    "well as a first observation we can see that we are lucky, we dont have any missing values (18249 complete data) and 13 columns.\n",
    "Now let's do some Feature Engineering on the Date Feature so we can be able to use the day and the month columns in building our machine learning model later. ( I didn't mention the year because its already there in data frame)"
   ]
  },
  {
   "cell_type": "code",
   "execution_count": 7,
   "metadata": {
    "_uuid": "f031639ce794656e877484d1c9c356df7028177f",
    "execution": {
     "iopub.execute_input": "2021-06-24T07:00:10.378081Z",
     "iopub.status.busy": "2021-06-24T07:00:10.376970Z",
     "iopub.status.idle": "2021-06-24T07:00:10.506750Z",
     "shell.execute_reply": "2021-06-24T07:00:10.507173Z"
    },
    "jupyter": {
     "source_hidden": true
    },
    "papermill": {
     "duration": 0.141537,
     "end_time": "2021-06-24T07:00:10.507488",
     "exception": false,
     "start_time": "2021-06-24T07:00:10.365951",
     "status": "completed"
    },
    "tags": []
   },
   "outputs": [],
   "source": [
    "df['Date']=pd.to_datetime(df['Date'])\n",
    "df['Month']=df['Date'].apply(lambda x:x.month)\n",
    "df['Day']=df['Date'].apply(lambda x:x.day)"
   ]
  },
  {
   "cell_type": "markdown",
   "metadata": {
    "_uuid": "ebdcac9924ce3e366fd3a75170682f7113385b7a",
    "papermill": {
     "duration": 0.007008,
     "end_time": "2021-06-24T07:00:10.521097",
     "exception": false,
     "start_time": "2021-06-24T07:00:10.514089",
     "status": "completed"
    },
    "tags": []
   },
   "source": [
    "as we can see we have 54 regions and 2 unique types, so it's going to be easy to to transform the type feature to dummies, but for the region its going to be a bit complexe so I decided to drop the entire column.\n",
    "I will drop the Date Feature as well because I already have 3 other columns for the Year, Month and Day."
   ]
  },
  {
   "cell_type": "code",
   "execution_count": 8,
   "metadata": {
    "_uuid": "a798682da34327b731ef262985fd50ba68e06460",
    "execution": {
     "iopub.execute_input": "2021-06-24T07:00:10.549532Z",
     "iopub.status.busy": "2021-06-24T07:00:10.542892Z",
     "iopub.status.idle": "2021-06-24T07:00:10.556646Z",
     "shell.execute_reply": "2021-06-24T07:00:10.555841Z"
    },
    "jupyter": {
     "source_hidden": true
    },
    "papermill": {
     "duration": 0.026659,
     "end_time": "2021-06-24T07:00:10.556875",
     "exception": false,
     "start_time": "2021-06-24T07:00:10.530216",
     "status": "completed"
    },
    "tags": []
   },
   "outputs": [],
   "source": [
    "df_final=pd.get_dummies(df.drop(['region','Date'],axis=1),drop_first=True)"
   ]
  },
  {
   "cell_type": "markdown",
   "metadata": {
    "_uuid": "8b74a6b88cb3e9b3e1d1e987e061048f203c7364",
    "papermill": {
     "duration": 0.006136,
     "end_time": "2021-06-24T07:00:10.569514",
     "exception": false,
     "start_time": "2021-06-24T07:00:10.563378",
     "status": "completed"
    },
    "tags": []
   },
   "source": [
    "Now our data are ready! lets apply our model which is going to be the Linear Regression because our Target variable 'AveragePrice'is continuous.\n",
    "Let's now begin to train out regression model! We will need to first split up our data into an X array that contains the features to train on, and a y array with the target variable"
   ]
  },
  {
   "cell_type": "code",
   "execution_count": 9,
   "metadata": {
    "_uuid": "830591f99de9715241e688bf9ce265e979401ff5",
    "execution": {
     "iopub.execute_input": "2021-06-24T07:00:10.587492Z",
     "iopub.status.busy": "2021-06-24T07:00:10.586838Z",
     "iopub.status.idle": "2021-06-24T07:00:10.598436Z",
     "shell.execute_reply": "2021-06-24T07:00:10.597842Z"
    },
    "jupyter": {
     "source_hidden": true
    },
    "papermill": {
     "duration": 0.023093,
     "end_time": "2021-06-24T07:00:10.598659",
     "exception": false,
     "start_time": "2021-06-24T07:00:10.575566",
     "status": "completed"
    },
    "tags": []
   },
   "outputs": [],
   "source": [
    "X=df_final.iloc[:,1:14]\n",
    "y=df_final['AveragePrice']\n",
    "from sklearn.model_selection import train_test_split\n",
    "X_train,X_test,y_train,y_test=train_test_split(X,y,test_size=0.2,random_state=42)"
   ]
  },
  {
   "cell_type": "markdown",
   "metadata": {
    "_uuid": "ea730c77a31cde9de98263079a189accb8b5772b",
    "papermill": {
     "duration": 0.006408,
     "end_time": "2021-06-24T07:00:10.611258",
     "exception": false,
     "start_time": "2021-06-24T07:00:10.604850",
     "status": "completed"
    },
    "tags": []
   },
   "source": [
    "Creating and Training the Model"
   ]
  },
  {
   "cell_type": "code",
   "execution_count": 10,
   "metadata": {
    "_uuid": "eb37015e78974e5fd2ae7e13d065c8ab0a9c6948",
    "execution": {
     "iopub.execute_input": "2021-06-24T07:00:10.629030Z",
     "iopub.status.busy": "2021-06-24T07:00:10.628313Z",
     "iopub.status.idle": "2021-06-24T07:00:24.377035Z",
     "shell.execute_reply": "2021-06-24T07:00:24.377836Z"
    },
    "jupyter": {
     "source_hidden": true
    },
    "papermill": {
     "duration": 13.760755,
     "end_time": "2021-06-24T07:00:24.378221",
     "exception": false,
     "start_time": "2021-06-24T07:00:10.617466",
     "status": "completed"
    },
    "tags": []
   },
   "outputs": [],
   "source": [
    "from sklearn.ensemble import RandomForestRegressor\n",
    "rdr = RandomForestRegressor(\n",
    "    n_estimators=n_estimators,\n",
    "    max_features=max_features\n",
    ")\n",
    "rdr.fit(X_train,y_train)\n",
    "pred=rdr.predict(X_test)"
   ]
  },
  {
   "cell_type": "code",
   "execution_count": 11,
   "metadata": {
    "_uuid": "7ed5b8d4e8abb44a4b548c13ac9fb2d65227d1c5",
    "execution": {
     "iopub.execute_input": "2021-06-24T07:00:24.403437Z",
     "iopub.status.busy": "2021-06-24T07:00:24.402429Z",
     "iopub.status.idle": "2021-06-24T07:00:24.407925Z",
     "shell.execute_reply": "2021-06-24T07:00:24.406840Z"
    },
    "jupyter": {
     "source_hidden": true
    },
    "papermill": {
     "duration": 0.020045,
     "end_time": "2021-06-24T07:00:24.408320",
     "exception": false,
     "start_time": "2021-06-24T07:00:24.388275",
     "status": "completed"
    },
    "tags": []
   },
   "outputs": [],
   "source": [
    "#%%capture cap --no-stderr\n",
    "#print(np.sqrt(mean_squared_error(y_test, pred)))"
   ]
  },
  {
   "cell_type": "code",
   "execution_count": 12,
   "metadata": {
    "execution": {
     "iopub.execute_input": "2021-06-24T07:00:24.432604Z",
     "iopub.status.busy": "2021-06-24T07:00:24.431660Z",
     "iopub.status.idle": "2021-06-24T07:00:24.437100Z",
     "shell.execute_reply": "2021-06-24T07:00:24.436095Z"
    },
    "jupyter": {
     "source_hidden": true
    },
    "papermill": {
     "duration": 0.019843,
     "end_time": "2021-06-24T07:00:24.437501",
     "exception": false,
     "start_time": "2021-06-24T07:00:24.417658",
     "status": "completed"
    },
    "tags": []
   },
   "outputs": [],
   "source": [
    "#with open(output_rmse, 'w') as f:\n",
    "#    f.write(cap.stdout)"
   ]
  },
  {
   "cell_type": "code",
   "execution_count": 13,
   "metadata": {
    "execution": {
     "iopub.execute_input": "2021-06-24T07:00:24.464145Z",
     "iopub.status.busy": "2021-06-24T07:00:24.463187Z",
     "iopub.status.idle": "2021-06-24T07:00:24.497510Z",
     "shell.execute_reply": "2021-06-24T07:00:24.498261Z"
    },
    "jupyter": {
     "source_hidden": true
    },
    "papermill": {
     "duration": 0.051748,
     "end_time": "2021-06-24T07:00:24.498648",
     "exception": false,
     "start_time": "2021-06-24T07:00:24.446900",
     "status": "completed"
    },
    "tags": []
   },
   "outputs": [
    {
     "data": {
      "text/plain": [
       "<sqlalchemy.engine.result.ResultProxy at 0x7f2054abc2d0>"
      ]
     },
     "execution_count": 13,
     "metadata": {},
     "output_type": "execute_result"
    }
   ],
   "source": [
    "cnx.execute(\"\"\"\n",
    "    INSERT INTO ml.accuracies (ml_id, ml_date, accuracy) VALUES ('{0}', '{1}', {2}) \n",
    "    ON CONFLICT (ml_id, ml_date) \n",
    "    DO\n",
    "        UPDATE SET accuracy = {2};\n",
    "    \"\"\".format(ml_id, ml_date, np.sqrt(mean_squared_error(y_test, pred))))"
   ]
  }
 ],
 "metadata": {
  "kernelspec": {
   "display_name": "Python 3",
   "language": "python",
   "name": "python3"
  },
  "language_info": {
   "codemirror_mode": {
    "name": "ipython",
    "version": 3
   },
   "file_extension": ".py",
   "mimetype": "text/x-python",
   "name": "python",
   "nbconvert_exporter": "python",
   "pygments_lexer": "ipython3",
   "version": "3.7.10"
  },
  "papermill": {
   "duration": 17.374441,
   "end_time": "2021-06-24T07:00:25.747721",
   "environment_variables": {},
   "exception": null,
   "input_path": "/usr/local/airflow/include/notebooks/avocado_prediction.ipynb",
   "output_path": "/tmp/out-model-avocado-prediction-auto_100.ipynb",
   "parameters": {
    "filepath": "/tmp/avocado.csv",
    "max_features": "auto",
    "ml_id": "auto_100",
    "n_estimators": 100
   },
   "start_time": "2021-06-24T07:00:08.373280",
   "version": "2.1.2"
  }
 },
 "nbformat": 4,
 "nbformat_minor": 4
}