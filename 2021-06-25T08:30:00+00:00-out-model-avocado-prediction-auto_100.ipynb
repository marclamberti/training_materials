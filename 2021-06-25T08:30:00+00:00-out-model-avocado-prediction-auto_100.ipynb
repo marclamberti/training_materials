{
 "cells": [
  {
   "cell_type": "code",
   "execution_count": 1,
   "metadata": {
    "_cell_guid": "79c7e3d0-c299-4dcb-8224-4455121ee9b0",
    "_uuid": "d629ff2d2480ee46fbb7e2d37f6b5fab8052498a",
    "execution": {
     "iopub.execute_input": "2021-06-25T08:40:09.563309Z",
     "iopub.status.busy": "2021-06-25T08:40:09.562648Z",
     "iopub.status.idle": "2021-06-25T08:40:10.227467Z",
     "shell.execute_reply": "2021-06-25T08:40:10.226730Z"
    },
    "jupyter": {
     "source_hidden": true
    },
    "papermill": {
     "duration": 0.676905,
     "end_time": "2021-06-25T08:40:10.227777",
     "exception": false,
     "start_time": "2021-06-25T08:40:09.550872",
     "status": "completed"
    },
    "tags": []
   },
   "outputs": [],
   "source": [
    "import pandas as pd\n",
    "import numpy as np\n",
    "from sqlalchemy import create_engine\n",
    "from datetime import date\n",
    "from sklearn.metrics import mean_squared_error"
   ]
  },
  {
   "cell_type": "code",
   "execution_count": 2,
   "metadata": {
    "execution": {
     "iopub.execute_input": "2021-06-25T08:40:10.248042Z",
     "iopub.status.busy": "2021-06-25T08:40:10.247206Z",
     "iopub.status.idle": "2021-06-25T08:40:10.274484Z",
     "shell.execute_reply": "2021-06-25T08:40:10.274012Z"
    },
    "jupyter": {
     "source_hidden": true
    },
    "papermill": {
     "duration": 0.03949,
     "end_time": "2021-06-25T08:40:10.274727",
     "exception": false,
     "start_time": "2021-06-25T08:40:10.235237",
     "status": "completed"
    },
    "tags": []
   },
   "outputs": [],
   "source": [
    "# THIS IS PURELY FOR TEST PURPOSE NEVER DO THAT IN PRODUCTION\n",
    "POSTGRES_ADDRESS='postgres'\n",
    "POSTGRES_PORT='5432'\n",
    "POSTGRES_USERNAME='postgres'\n",
    "POSTGRES_PASSWORD='postgres'\n",
    "\n",
    "postgres_conn = 'postgresql://{0}:{1}@{2}:{3}/'.format(POSTGRES_USERNAME, POSTGRES_PASSWORD, POSTGRES_ADDRESS, POSTGRES_PORT)\n",
    "\n",
    "# Create the connection\n",
    "cnx = create_engine(postgres_conn)\n"
   ]
  },
  {
   "cell_type": "markdown",
   "metadata": {
    "_uuid": "1998755ef10683262b29765345cff1c1c7d10b15",
    "papermill": {
     "duration": 0.005431,
     "end_time": "2021-06-25T08:40:10.285300",
     "exception": false,
     "start_time": "2021-06-25T08:40:10.279869",
     "status": "completed"
    },
    "tags": []
   },
   "source": [
    "Read in the Avocado Prices csv file as a DataFrame called df"
   ]
  },
  {
   "cell_type": "code",
   "execution_count": 3,
   "metadata": {
    "execution": {
     "iopub.execute_input": "2021-06-25T08:40:10.300335Z",
     "iopub.status.busy": "2021-06-25T08:40:10.299697Z",
     "iopub.status.idle": "2021-06-25T08:40:10.302870Z",
     "shell.execute_reply": "2021-06-25T08:40:10.302184Z"
    },
    "jupyter": {
     "source_hidden": true
    },
    "papermill": {
     "duration": 0.012337,
     "end_time": "2021-06-25T08:40:10.303070",
     "exception": false,
     "start_time": "2021-06-25T08:40:10.290733",
     "status": "completed"
    },
    "tags": [
     "parameters"
    ]
   },
   "outputs": [],
   "source": [
    "# Parameterized\n",
    "\n",
    "filepath='avocado.csv'\n",
    "ml_id='auto_100'\n",
    "ml_date=date.today()\n",
    "n_estimators = 100\n",
    "max_features = 'auto'"
   ]
  },
  {
   "cell_type": "code",
   "execution_count": 4,
   "id": "2ed00f37",
   "metadata": {
    "execution": {
     "iopub.execute_input": "2021-06-25T08:40:10.318713Z",
     "iopub.status.busy": "2021-06-25T08:40:10.318079Z",
     "iopub.status.idle": "2021-06-25T08:40:10.320708Z",
     "shell.execute_reply": "2021-06-25T08:40:10.321195Z"
    },
    "jupyter": {
     "source_hidden": true
    },
    "papermill": {
     "duration": 0.012343,
     "end_time": "2021-06-25T08:40:10.321426",
     "exception": false,
     "start_time": "2021-06-25T08:40:10.309083",
     "status": "completed"
    },
    "tags": [
     "injected-parameters"
    ]
   },
   "outputs": [],
   "source": [
    "# Parameters\n",
    "filepath = \"/tmp/avocado.csv\"\n",
    "n_estimators = 100\n",
    "max_features = \"auto\"\n",
    "ml_id = \"auto_100\"\n"
   ]
  },
  {
   "cell_type": "code",
   "execution_count": 5,
   "metadata": {
    "_uuid": "55d0e719eb8b91d763c1eacaf0f51ee0586486fc",
    "execution": {
     "iopub.execute_input": "2021-06-25T08:40:10.337831Z",
     "iopub.status.busy": "2021-06-25T08:40:10.337164Z",
     "iopub.status.idle": "2021-06-25T08:40:10.368891Z",
     "shell.execute_reply": "2021-06-25T08:40:10.368354Z"
    },
    "jupyter": {
     "source_hidden": true
    },
    "papermill": {
     "duration": 0.041844,
     "end_time": "2021-06-25T08:40:10.369112",
     "exception": false,
     "start_time": "2021-06-25T08:40:10.327268",
     "status": "completed"
    },
    "tags": []
   },
   "outputs": [],
   "source": [
    "df= pd.read_csv(filepath)"
   ]
  },
  {
   "cell_type": "markdown",
   "metadata": {
    "_uuid": "434e0457f550e2200424e5ec26162e1aa5904005",
    "papermill": {
     "duration": 0.005609,
     "end_time": "2021-06-25T08:40:10.380246",
     "exception": false,
     "start_time": "2021-06-25T08:40:10.374637",
     "status": "completed"
    },
    "tags": []
   },
   "source": [
    "The Feature \"Unnamed:0\" is just a representation of the indexes, so it's useless to keep it, lets remove it !"
   ]
  },
  {
   "cell_type": "code",
   "execution_count": 6,
   "metadata": {
    "_uuid": "9875398e37728dc3141fed4228be337a4735beb6",
    "execution": {
     "iopub.execute_input": "2021-06-25T08:40:10.398599Z",
     "iopub.status.busy": "2021-06-25T08:40:10.398014Z",
     "iopub.status.idle": "2021-06-25T08:40:10.400977Z",
     "shell.execute_reply": "2021-06-25T08:40:10.401369Z"
    },
    "jupyter": {
     "source_hidden": true
    },
    "papermill": {
     "duration": 0.015691,
     "end_time": "2021-06-25T08:40:10.401640",
     "exception": false,
     "start_time": "2021-06-25T08:40:10.385949",
     "status": "completed"
    },
    "tags": []
   },
   "outputs": [],
   "source": [
    "df.drop('Unnamed: 0',axis=1,inplace=True)"
   ]
  },
  {
   "cell_type": "markdown",
   "metadata": {
    "_uuid": "12e94ad381e4cb8d2c8a9bbe08ce07ab5d49c040",
    "papermill": {
     "duration": 0.005982,
     "end_time": "2021-06-25T08:40:10.412734",
     "exception": false,
     "start_time": "2021-06-25T08:40:10.406752",
     "status": "completed"
    },
    "tags": []
   },
   "source": [
    "well as a first observation we can see that we are lucky, we dont have any missing values (18249 complete data) and 13 columns.\n",
    "Now let's do some Feature Engineering on the Date Feature so we can be able to use the day and the month columns in building our machine learning model later. ( I didn't mention the year because its already there in data frame)"
   ]
  },
  {
   "cell_type": "code",
   "execution_count": 7,
   "metadata": {
    "_uuid": "f031639ce794656e877484d1c9c356df7028177f",
    "execution": {
     "iopub.execute_input": "2021-06-25T08:40:10.429045Z",
     "iopub.status.busy": "2021-06-25T08:40:10.428472Z",
     "iopub.status.idle": "2021-06-25T08:40:10.545538Z",
     "shell.execute_reply": "2021-06-25T08:40:10.544440Z"
    },
    "jupyter": {
     "source_hidden": true
    },
    "papermill": {
     "duration": 0.127131,
     "end_time": "2021-06-25T08:40:10.545723",
     "exception": false,
     "start_time": "2021-06-25T08:40:10.418592",
     "status": "completed"
    },
    "tags": []
   },
   "outputs": [],
   "source": [
    "df['Date']=pd.to_datetime(df['Date'])\n",
    "df['Month']=df['Date'].apply(lambda x:x.month)\n",
    "df['Day']=df['Date'].apply(lambda x:x.day)"
   ]
  },
  {
   "cell_type": "markdown",
   "metadata": {
    "_uuid": "ebdcac9924ce3e366fd3a75170682f7113385b7a",
    "papermill": {
     "duration": 0.005845,
     "end_time": "2021-06-25T08:40:10.556658",
     "exception": false,
     "start_time": "2021-06-25T08:40:10.550813",
     "status": "completed"
    },
    "tags": []
   },
   "source": [
    "as we can see we have 54 regions and 2 unique types, so it's going to be easy to to transform the type feature to dummies, but for the region its going to be a bit complexe so I decided to drop the entire column.\n",
    "I will drop the Date Feature as well because I already have 3 other columns for the Year, Month and Day."
   ]
  },
  {
   "cell_type": "code",
   "execution_count": 8,
   "metadata": {
    "_uuid": "a798682da34327b731ef262985fd50ba68e06460",
    "execution": {
     "iopub.execute_input": "2021-06-25T08:40:10.579825Z",
     "iopub.status.busy": "2021-06-25T08:40:10.574182Z",
     "iopub.status.idle": "2021-06-25T08:40:10.584104Z",
     "shell.execute_reply": "2021-06-25T08:40:10.584958Z"
    },
    "jupyter": {
     "source_hidden": true
    },
    "papermill": {
     "duration": 0.022011,
     "end_time": "2021-06-25T08:40:10.585452",
     "exception": false,
     "start_time": "2021-06-25T08:40:10.563441",
     "status": "completed"
    },
    "tags": []
   },
   "outputs": [],
   "source": [
    "df_final=pd.get_dummies(df.drop(['region','Date'],axis=1),drop_first=True)"
   ]
  },
  {
   "cell_type": "markdown",
   "metadata": {
    "_uuid": "8b74a6b88cb3e9b3e1d1e987e061048f203c7364",
    "papermill": {
     "duration": 0.005635,
     "end_time": "2021-06-25T08:40:10.598821",
     "exception": false,
     "start_time": "2021-06-25T08:40:10.593186",
     "status": "completed"
    },
    "tags": []
   },
   "source": [
    "Now our data are ready! lets apply our model which is going to be the Linear Regression because our Target variable 'AveragePrice'is continuous.\n",
    "Let's now begin to train out regression model! We will need to first split up our data into an X array that contains the features to train on, and a y array with the target variable"
   ]
  },
  {
   "cell_type": "code",
   "execution_count": 9,
   "metadata": {
    "_uuid": "830591f99de9715241e688bf9ce265e979401ff5",
    "execution": {
     "iopub.execute_input": "2021-06-25T08:40:10.615008Z",
     "iopub.status.busy": "2021-06-25T08:40:10.614417Z",
     "iopub.status.idle": "2021-06-25T08:40:10.624633Z",
     "shell.execute_reply": "2021-06-25T08:40:10.623796Z"
    },
    "jupyter": {
     "source_hidden": true
    },
    "papermill": {
     "duration": 0.020412,
     "end_time": "2021-06-25T08:40:10.624944",
     "exception": false,
     "start_time": "2021-06-25T08:40:10.604532",
     "status": "completed"
    },
    "tags": []
   },
   "outputs": [],
   "source": [
    "X=df_final.iloc[:,1:14]\n",
    "y=df_final['AveragePrice']\n",
    "from sklearn.model_selection import train_test_split\n",
    "X_train,X_test,y_train,y_test=train_test_split(X,y,test_size=0.2,random_state=42)"
   ]
  },
  {
   "cell_type": "markdown",
   "metadata": {
    "_uuid": "ea730c77a31cde9de98263079a189accb8b5772b",
    "papermill": {
     "duration": 0.005831,
     "end_time": "2021-06-25T08:40:10.636391",
     "exception": false,
     "start_time": "2021-06-25T08:40:10.630560",
     "status": "completed"
    },
    "tags": []
   },
   "source": [
    "Creating and Training the Model"
   ]
  },
  {
   "cell_type": "code",
   "execution_count": 10,
   "metadata": {
    "_uuid": "eb37015e78974e5fd2ae7e13d065c8ab0a9c6948",
    "execution": {
     "iopub.execute_input": "2021-06-25T08:40:10.652221Z",
     "iopub.status.busy": "2021-06-25T08:40:10.651494Z",
     "iopub.status.idle": "2021-06-25T08:40:18.749535Z",
     "shell.execute_reply": "2021-06-25T08:40:18.750002Z"
    },
    "jupyter": {
     "source_hidden": true
    },
    "papermill": {
     "duration": 8.107975,
     "end_time": "2021-06-25T08:40:18.750243",
     "exception": false,
     "start_time": "2021-06-25T08:40:10.642268",
     "status": "completed"
    },
    "tags": []
   },
   "outputs": [],
   "source": [
    "from sklearn.ensemble import RandomForestRegressor\n",
    "rdr = RandomForestRegressor(\n",
    "    n_estimators=n_estimators,\n",
    "    max_features=max_features\n",
    ")\n",
    "rdr.fit(X_train,y_train)\n",
    "pred=rdr.predict(X_test)"
   ]
  },
  {
   "cell_type": "code",
   "execution_count": 11,
   "metadata": {
    "_uuid": "7ed5b8d4e8abb44a4b548c13ac9fb2d65227d1c5",
    "execution": {
     "iopub.execute_input": "2021-06-25T08:40:18.765293Z",
     "iopub.status.busy": "2021-06-25T08:40:18.764635Z",
     "iopub.status.idle": "2021-06-25T08:40:18.767854Z",
     "shell.execute_reply": "2021-06-25T08:40:18.767352Z"
    },
    "jupyter": {
     "source_hidden": true
    },
    "papermill": {
     "duration": 0.011975,
     "end_time": "2021-06-25T08:40:18.768065",
     "exception": false,
     "start_time": "2021-06-25T08:40:18.756090",
     "status": "completed"
    },
    "tags": []
   },
   "outputs": [],
   "source": [
    "#%%capture cap --no-stderr\n",
    "#print(np.sqrt(mean_squared_error(y_test, pred)))"
   ]
  },
  {
   "cell_type": "code",
   "execution_count": 12,
   "metadata": {
    "execution": {
     "iopub.execute_input": "2021-06-25T08:40:18.783052Z",
     "iopub.status.busy": "2021-06-25T08:40:18.782412Z",
     "iopub.status.idle": "2021-06-25T08:40:18.785588Z",
     "shell.execute_reply": "2021-06-25T08:40:18.784979Z"
    },
    "jupyter": {
     "source_hidden": true
    },
    "papermill": {
     "duration": 0.011896,
     "end_time": "2021-06-25T08:40:18.785783",
     "exception": false,
     "start_time": "2021-06-25T08:40:18.773887",
     "status": "completed"
    },
    "tags": []
   },
   "outputs": [],
   "source": [
    "#with open(output_rmse, 'w') as f:\n",
    "#    f.write(cap.stdout)"
   ]
  },
  {
   "cell_type": "code",
   "execution_count": 13,
   "metadata": {
    "execution": {
     "iopub.execute_input": "2021-06-25T08:40:18.802708Z",
     "iopub.status.busy": "2021-06-25T08:40:18.802067Z",
     "iopub.status.idle": "2021-06-25T08:40:18.821852Z",
     "shell.execute_reply": "2021-06-25T08:40:18.822297Z"
    },
    "jupyter": {
     "source_hidden": true
    },
    "papermill": {
     "duration": 0.030889,
     "end_time": "2021-06-25T08:40:18.822532",
     "exception": false,
     "start_time": "2021-06-25T08:40:18.791643",
     "status": "completed"
    },
    "tags": []
   },
   "outputs": [
    {
     "data": {
      "text/plain": [
       "<sqlalchemy.engine.result.ResultProxy at 0x7f1a5e576f10>"
      ]
     },
     "execution_count": 13,
     "metadata": {},
     "output_type": "execute_result"
    }
   ],
   "source": [
    "cnx.execute(\"\"\"\n",
    "    INSERT INTO ml.accuracies (ml_id, ml_date, accuracy) VALUES ('{0}', '{1}', {2}) \n",
    "    ON CONFLICT (ml_id, ml_date) \n",
    "    DO\n",
    "        UPDATE SET accuracy = {2};\n",
    "    \"\"\".format(ml_id, ml_date, np.sqrt(mean_squared_error(y_test, pred))))"
   ]
  }
 ],
 "metadata": {
  "kernelspec": {
   "display_name": "Python 3",
   "language": "python",
   "name": "python3"
  },
  "language_info": {
   "codemirror_mode": {
    "name": "ipython",
    "version": 3
   },
   "file_extension": ".py",
   "mimetype": "text/x-python",
   "name": "python",
   "nbconvert_exporter": "python",
   "pygments_lexer": "ipython3",
   "version": "3.7.10"
  },
  "papermill": {
   "duration": 10.82635,
   "end_time": "2021-06-25T08:40:19.243858",
   "environment_variables": {},
   "exception": null,
   "input_path": "/usr/local/airflow/include/notebooks/avocado_prediction.ipynb",
   "output_path": "/tmp/out-model-avocado-prediction-auto_100.ipynb",
   "parameters": {
    "filepath": "/tmp/avocado.csv",
    "max_features": "auto",
    "ml_id": "auto_100",
    "n_estimators": 100
   },
   "start_time": "2021-06-25T08:40:08.417508",
   "version": "2.1.2"
  }
 },
 "nbformat": 4,
 "nbformat_minor": 4
}