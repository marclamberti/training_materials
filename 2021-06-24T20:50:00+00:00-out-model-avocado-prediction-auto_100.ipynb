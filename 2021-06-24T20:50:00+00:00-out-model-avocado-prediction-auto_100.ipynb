{
 "cells": [
  {
   "cell_type": "code",
   "execution_count": 1,
   "metadata": {
    "_cell_guid": "79c7e3d0-c299-4dcb-8224-4455121ee9b0",
    "_uuid": "d629ff2d2480ee46fbb7e2d37f6b5fab8052498a",
    "execution": {
     "iopub.execute_input": "2021-06-24T21:04:50.203427Z",
     "iopub.status.busy": "2021-06-24T21:04:50.200039Z",
     "iopub.status.idle": "2021-06-24T21:04:53.300531Z",
     "shell.execute_reply": "2021-06-24T21:04:53.296759Z"
    },
    "jupyter": {
     "source_hidden": true
    },
    "papermill": {
     "duration": 3.155346,
     "end_time": "2021-06-24T21:04:53.301636",
     "exception": false,
     "start_time": "2021-06-24T21:04:50.146290",
     "status": "completed"
    },
    "tags": []
   },
   "outputs": [],
   "source": [
    "import pandas as pd\n",
    "import numpy as np\n",
    "from sqlalchemy import create_engine\n",
    "from datetime import date\n",
    "from sklearn.metrics import mean_squared_error"
   ]
  },
  {
   "cell_type": "code",
   "execution_count": 2,
   "metadata": {
    "execution": {
     "iopub.execute_input": "2021-06-24T21:04:53.396778Z",
     "iopub.status.busy": "2021-06-24T21:04:53.392157Z",
     "iopub.status.idle": "2021-06-24T21:04:53.529497Z",
     "shell.execute_reply": "2021-06-24T21:04:53.526064Z"
    },
    "jupyter": {
     "source_hidden": true
    },
    "papermill": {
     "duration": 0.198101,
     "end_time": "2021-06-24T21:04:53.530534",
     "exception": false,
     "start_time": "2021-06-24T21:04:53.332433",
     "status": "completed"
    },
    "tags": []
   },
   "outputs": [],
   "source": [
    "# THIS IS PURELY FOR TEST PURPOSE NEVER DO THAT IN PRODUCTION\n",
    "POSTGRES_ADDRESS='postgres'\n",
    "POSTGRES_PORT='5432'\n",
    "POSTGRES_USERNAME='postgres'\n",
    "POSTGRES_PASSWORD='postgres'\n",
    "\n",
    "postgres_conn = 'postgresql://{0}:{1}@{2}:{3}/'.format(POSTGRES_USERNAME, POSTGRES_PASSWORD, POSTGRES_ADDRESS, POSTGRES_PORT)\n",
    "\n",
    "# Create the connection\n",
    "cnx = create_engine(postgres_conn)\n"
   ]
  },
  {
   "cell_type": "markdown",
   "metadata": {
    "_uuid": "1998755ef10683262b29765345cff1c1c7d10b15",
    "papermill": {
     "duration": 0.029848,
     "end_time": "2021-06-24T21:04:53.589147",
     "exception": false,
     "start_time": "2021-06-24T21:04:53.559299",
     "status": "completed"
    },
    "tags": []
   },
   "source": [
    "Read in the Avocado Prices csv file as a DataFrame called df"
   ]
  },
  {
   "cell_type": "code",
   "execution_count": 3,
   "metadata": {
    "execution": {
     "iopub.execute_input": "2021-06-24T21:04:53.666719Z",
     "iopub.status.busy": "2021-06-24T21:04:53.663492Z",
     "iopub.status.idle": "2021-06-24T21:04:53.676307Z",
     "shell.execute_reply": "2021-06-24T21:04:53.678418Z"
    },
    "jupyter": {
     "source_hidden": true
    },
    "papermill": {
     "duration": 0.061954,
     "end_time": "2021-06-24T21:04:53.679546",
     "exception": false,
     "start_time": "2021-06-24T21:04:53.617592",
     "status": "completed"
    },
    "tags": [
     "parameters"
    ]
   },
   "outputs": [],
   "source": [
    "# Parameterized\n",
    "\n",
    "filepath='avocado.csv'\n",
    "ml_id='auto_100'\n",
    "ml_date=date.today()\n",
    "n_estimators = 100\n",
    "max_features = 'auto'"
   ]
  },
  {
   "cell_type": "code",
   "execution_count": 4,
   "id": "53c1c226",
   "metadata": {
    "execution": {
     "iopub.execute_input": "2021-06-24T21:04:53.755863Z",
     "iopub.status.busy": "2021-06-24T21:04:53.752763Z",
     "iopub.status.idle": "2021-06-24T21:04:53.761723Z",
     "shell.execute_reply": "2021-06-24T21:04:53.763816Z"
    },
    "jupyter": {
     "source_hidden": true
    },
    "papermill": {
     "duration": 0.056472,
     "end_time": "2021-06-24T21:04:53.764871",
     "exception": false,
     "start_time": "2021-06-24T21:04:53.708399",
     "status": "completed"
    },
    "tags": [
     "injected-parameters"
    ]
   },
   "outputs": [],
   "source": [
    "# Parameters\n",
    "filepath = \"/tmp/avocado.csv\"\n",
    "n_estimators = 100\n",
    "max_features = \"auto\"\n",
    "ml_id = \"auto_100\"\n"
   ]
  },
  {
   "cell_type": "code",
   "execution_count": 5,
   "metadata": {
    "_uuid": "55d0e719eb8b91d763c1eacaf0f51ee0586486fc",
    "execution": {
     "iopub.execute_input": "2021-06-24T21:04:53.846953Z",
     "iopub.status.busy": "2021-06-24T21:04:53.837709Z",
     "iopub.status.idle": "2021-06-24T21:04:54.003396Z",
     "shell.execute_reply": "2021-06-24T21:04:54.000576Z"
    },
    "jupyter": {
     "source_hidden": true
    },
    "papermill": {
     "duration": 0.208908,
     "end_time": "2021-06-24T21:04:54.004349",
     "exception": false,
     "start_time": "2021-06-24T21:04:53.795441",
     "status": "completed"
    },
    "tags": []
   },
   "outputs": [],
   "source": [
    "df= pd.read_csv(filepath)"
   ]
  },
  {
   "cell_type": "markdown",
   "metadata": {
    "_uuid": "434e0457f550e2200424e5ec26162e1aa5904005",
    "papermill": {
     "duration": 0.031559,
     "end_time": "2021-06-24T21:04:54.068716",
     "exception": false,
     "start_time": "2021-06-24T21:04:54.037157",
     "status": "completed"
    },
    "tags": []
   },
   "source": [
    "The Feature \"Unnamed:0\" is just a representation of the indexes, so it's useless to keep it, lets remove it !"
   ]
  },
  {
   "cell_type": "code",
   "execution_count": 6,
   "metadata": {
    "_uuid": "9875398e37728dc3141fed4228be337a4735beb6",
    "execution": {
     "iopub.execute_input": "2021-06-24T21:04:54.151498Z",
     "iopub.status.busy": "2021-06-24T21:04:54.148465Z",
     "iopub.status.idle": "2021-06-24T21:04:54.170155Z",
     "shell.execute_reply": "2021-06-24T21:04:54.165856Z"
    },
    "jupyter": {
     "source_hidden": true
    },
    "papermill": {
     "duration": 0.070566,
     "end_time": "2021-06-24T21:04:54.171127",
     "exception": false,
     "start_time": "2021-06-24T21:04:54.100561",
     "status": "completed"
    },
    "tags": []
   },
   "outputs": [],
   "source": [
    "df.drop('Unnamed: 0',axis=1,inplace=True)"
   ]
  },
  {
   "cell_type": "markdown",
   "metadata": {
    "_uuid": "12e94ad381e4cb8d2c8a9bbe08ce07ab5d49c040",
    "papermill": {
     "duration": 0.032856,
     "end_time": "2021-06-24T21:04:54.235439",
     "exception": false,
     "start_time": "2021-06-24T21:04:54.202583",
     "status": "completed"
    },
    "tags": []
   },
   "source": [
    "well as a first observation we can see that we are lucky, we dont have any missing values (18249 complete data) and 13 columns.\n",
    "Now let's do some Feature Engineering on the Date Feature so we can be able to use the day and the month columns in building our machine learning model later. ( I didn't mention the year because its already there in data frame)"
   ]
  },
  {
   "cell_type": "code",
   "execution_count": 7,
   "metadata": {
    "_uuid": "f031639ce794656e877484d1c9c356df7028177f",
    "execution": {
     "iopub.execute_input": "2021-06-24T21:04:54.325857Z",
     "iopub.status.busy": "2021-06-24T21:04:54.322702Z",
     "iopub.status.idle": "2021-06-24T21:04:54.999279Z",
     "shell.execute_reply": "2021-06-24T21:04:55.001529Z"
    },
    "jupyter": {
     "source_hidden": true
    },
    "papermill": {
     "duration": 0.736151,
     "end_time": "2021-06-24T21:04:55.002699",
     "exception": false,
     "start_time": "2021-06-24T21:04:54.266548",
     "status": "completed"
    },
    "tags": []
   },
   "outputs": [],
   "source": [
    "df['Date']=pd.to_datetime(df['Date'])\n",
    "df['Month']=df['Date'].apply(lambda x:x.month)\n",
    "df['Day']=df['Date'].apply(lambda x:x.day)"
   ]
  },
  {
   "cell_type": "markdown",
   "metadata": {
    "_uuid": "ebdcac9924ce3e366fd3a75170682f7113385b7a",
    "papermill": {
     "duration": 0.031153,
     "end_time": "2021-06-24T21:04:55.066296",
     "exception": false,
     "start_time": "2021-06-24T21:04:55.035143",
     "status": "completed"
    },
    "tags": []
   },
   "source": [
    "as we can see we have 54 regions and 2 unique types, so it's going to be easy to to transform the type feature to dummies, but for the region its going to be a bit complexe so I decided to drop the entire column.\n",
    "I will drop the Date Feature as well because I already have 3 other columns for the Year, Month and Day."
   ]
  },
  {
   "cell_type": "code",
   "execution_count": 8,
   "metadata": {
    "_uuid": "a798682da34327b731ef262985fd50ba68e06460",
    "execution": {
     "iopub.execute_input": "2021-06-24T21:04:55.159782Z",
     "iopub.status.busy": "2021-06-24T21:04:55.151199Z",
     "iopub.status.idle": "2021-06-24T21:04:55.204375Z",
     "shell.execute_reply": "2021-06-24T21:04:55.200799Z"
    },
    "jupyter": {
     "source_hidden": true
    },
    "papermill": {
     "duration": 0.106851,
     "end_time": "2021-06-24T21:04:55.205429",
     "exception": false,
     "start_time": "2021-06-24T21:04:55.098578",
     "status": "completed"
    },
    "tags": []
   },
   "outputs": [],
   "source": [
    "df_final=pd.get_dummies(df.drop(['region','Date'],axis=1),drop_first=True)"
   ]
  },
  {
   "cell_type": "markdown",
   "metadata": {
    "_uuid": "8b74a6b88cb3e9b3e1d1e987e061048f203c7364",
    "papermill": {
     "duration": 0.032089,
     "end_time": "2021-06-24T21:04:55.268493",
     "exception": false,
     "start_time": "2021-06-24T21:04:55.236404",
     "status": "completed"
    },
    "tags": []
   },
   "source": [
    "Now our data are ready! lets apply our model which is going to be the Linear Regression because our Target variable 'AveragePrice'is continuous.\n",
    "Let's now begin to train out regression model! We will need to first split up our data into an X array that contains the features to train on, and a y array with the target variable"
   ]
  },
  {
   "cell_type": "code",
   "execution_count": 9,
   "metadata": {
    "_uuid": "830591f99de9715241e688bf9ce265e979401ff5",
    "execution": {
     "iopub.execute_input": "2021-06-24T21:04:55.357115Z",
     "iopub.status.busy": "2021-06-24T21:04:55.353131Z",
     "iopub.status.idle": "2021-06-24T21:04:55.406568Z",
     "shell.execute_reply": "2021-06-24T21:04:55.408690Z"
    },
    "jupyter": {
     "source_hidden": true
    },
    "papermill": {
     "duration": 0.110577,
     "end_time": "2021-06-24T21:04:55.410059",
     "exception": false,
     "start_time": "2021-06-24T21:04:55.299482",
     "status": "completed"
    },
    "tags": []
   },
   "outputs": [],
   "source": [
    "X=df_final.iloc[:,1:14]\n",
    "y=df_final['AveragePrice']\n",
    "from sklearn.model_selection import train_test_split\n",
    "X_train,X_test,y_train,y_test=train_test_split(X,y,test_size=0.2,random_state=42)"
   ]
  },
  {
   "cell_type": "markdown",
   "metadata": {
    "_uuid": "ea730c77a31cde9de98263079a189accb8b5772b",
    "papermill": {
     "duration": 0.032596,
     "end_time": "2021-06-24T21:04:55.473951",
     "exception": false,
     "start_time": "2021-06-24T21:04:55.441355",
     "status": "completed"
    },
    "tags": []
   },
   "source": [
    "Creating and Training the Model"
   ]
  },
  {
   "cell_type": "code",
   "execution_count": 10,
   "metadata": {
    "_uuid": "eb37015e78974e5fd2ae7e13d065c8ab0a9c6948",
    "execution": {
     "iopub.execute_input": "2021-06-24T21:04:55.556407Z",
     "iopub.status.busy": "2021-06-24T21:04:55.553222Z",
     "iopub.status.idle": "2021-06-24T21:05:18.952198Z",
     "shell.execute_reply": "2021-06-24T21:05:18.951733Z"
    },
    "jupyter": {
     "source_hidden": true
    },
    "papermill": {
     "duration": 23.448239,
     "end_time": "2021-06-24T21:05:18.952406",
     "exception": false,
     "start_time": "2021-06-24T21:04:55.504167",
     "status": "completed"
    },
    "tags": []
   },
   "outputs": [],
   "source": [
    "from sklearn.ensemble import RandomForestRegressor\n",
    "rdr = RandomForestRegressor(\n",
    "    n_estimators=n_estimators,\n",
    "    max_features=max_features\n",
    ")\n",
    "rdr.fit(X_train,y_train)\n",
    "pred=rdr.predict(X_test)"
   ]
  },
  {
   "cell_type": "code",
   "execution_count": 11,
   "metadata": {
    "_uuid": "7ed5b8d4e8abb44a4b548c13ac9fb2d65227d1c5",
    "execution": {
     "iopub.execute_input": "2021-06-24T21:05:18.969075Z",
     "iopub.status.busy": "2021-06-24T21:05:18.968519Z",
     "iopub.status.idle": "2021-06-24T21:05:18.971557Z",
     "shell.execute_reply": "2021-06-24T21:05:18.971031Z"
    },
    "jupyter": {
     "source_hidden": true
    },
    "papermill": {
     "duration": 0.013045,
     "end_time": "2021-06-24T21:05:18.971734",
     "exception": false,
     "start_time": "2021-06-24T21:05:18.958689",
     "status": "completed"
    },
    "tags": []
   },
   "outputs": [],
   "source": [
    "#%%capture cap --no-stderr\n",
    "#print(np.sqrt(mean_squared_error(y_test, pred)))"
   ]
  },
  {
   "cell_type": "code",
   "execution_count": 12,
   "metadata": {
    "execution": {
     "iopub.execute_input": "2021-06-24T21:05:18.987203Z",
     "iopub.status.busy": "2021-06-24T21:05:18.986516Z",
     "iopub.status.idle": "2021-06-24T21:05:18.993230Z",
     "shell.execute_reply": "2021-06-24T21:05:18.992668Z"
    },
    "jupyter": {
     "source_hidden": true
    },
    "papermill": {
     "duration": 0.015865,
     "end_time": "2021-06-24T21:05:18.993424",
     "exception": false,
     "start_time": "2021-06-24T21:05:18.977559",
     "status": "completed"
    },
    "tags": []
   },
   "outputs": [],
   "source": [
    "#with open(output_rmse, 'w') as f:\n",
    "#    f.write(cap.stdout)"
   ]
  },
  {
   "cell_type": "code",
   "execution_count": 13,
   "metadata": {
    "execution": {
     "iopub.execute_input": "2021-06-24T21:05:19.009920Z",
     "iopub.status.busy": "2021-06-24T21:05:19.008802Z",
     "iopub.status.idle": "2021-06-24T21:05:19.029915Z",
     "shell.execute_reply": "2021-06-24T21:05:19.030480Z"
    },
    "jupyter": {
     "source_hidden": true
    },
    "papermill": {
     "duration": 0.03154,
     "end_time": "2021-06-24T21:05:19.030872",
     "exception": false,
     "start_time": "2021-06-24T21:05:18.999332",
     "status": "completed"
    },
    "tags": []
   },
   "outputs": [
    {
     "data": {
      "text/plain": [
       "<sqlalchemy.engine.result.ResultProxy at 0x7f213400c910>"
      ]
     },
     "execution_count": 13,
     "metadata": {},
     "output_type": "execute_result"
    }
   ],
   "source": [
    "cnx.execute(\"\"\"\n",
    "    INSERT INTO ml.accuracies (ml_id, ml_date, accuracy) VALUES ('{0}', '{1}', {2}) \n",
    "    ON CONFLICT (ml_id, ml_date) \n",
    "    DO\n",
    "        UPDATE SET accuracy = {2};\n",
    "    \"\"\".format(ml_id, ml_date, np.sqrt(mean_squared_error(y_test, pred))))"
   ]
  }
 ],
 "metadata": {
  "kernelspec": {
   "display_name": "Python 3",
   "language": "python",
   "name": "python3"
  },
  "language_info": {
   "codemirror_mode": {
    "name": "ipython",
    "version": 3
   },
   "file_extension": ".py",
   "mimetype": "text/x-python",
   "name": "python",
   "nbconvert_exporter": "python",
   "pygments_lexer": "ipython3",
   "version": "3.7.10"
  },
  "papermill": {
   "duration": 34.560251,
   "end_time": "2021-06-24T21:05:20.283254",
   "environment_variables": {},
   "exception": null,
   "input_path": "/usr/local/airflow/include/notebooks/avocado_prediction.ipynb",
   "output_path": "/tmp/out-model-avocado-prediction-auto_100.ipynb",
   "parameters": {
    "filepath": "/tmp/avocado.csv",
    "max_features": "auto",
    "ml_id": "auto_100",
    "n_estimators": 100
   },
   "start_time": "2021-06-24T21:04:45.723003",
   "version": "2.1.2"
  }
 },
 "nbformat": 4,
 "nbformat_minor": 4
}