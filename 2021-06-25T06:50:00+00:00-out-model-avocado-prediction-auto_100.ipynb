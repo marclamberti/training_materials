{
 "cells": [
  {
   "cell_type": "code",
   "execution_count": 1,
   "metadata": {
    "_cell_guid": "79c7e3d0-c299-4dcb-8224-4455121ee9b0",
    "_uuid": "d629ff2d2480ee46fbb7e2d37f6b5fab8052498a",
    "execution": {
     "iopub.execute_input": "2021-06-25T07:00:13.630652Z",
     "iopub.status.busy": "2021-06-25T07:00:13.629821Z",
     "iopub.status.idle": "2021-06-25T07:00:14.276372Z",
     "shell.execute_reply": "2021-06-25T07:00:14.276926Z"
    },
    "jupyter": {
     "source_hidden": true
    },
    "papermill": {
     "duration": 0.662689,
     "end_time": "2021-06-25T07:00:14.277327",
     "exception": false,
     "start_time": "2021-06-25T07:00:13.614638",
     "status": "completed"
    },
    "tags": []
   },
   "outputs": [],
   "source": [
    "import pandas as pd\n",
    "import numpy as np\n",
    "from sqlalchemy import create_engine\n",
    "from datetime import date\n",
    "from sklearn.metrics import mean_squared_error"
   ]
  },
  {
   "cell_type": "code",
   "execution_count": 2,
   "metadata": {
    "execution": {
     "iopub.execute_input": "2021-06-25T07:00:14.296258Z",
     "iopub.status.busy": "2021-06-25T07:00:14.295677Z",
     "iopub.status.idle": "2021-06-25T07:00:14.320132Z",
     "shell.execute_reply": "2021-06-25T07:00:14.320797Z"
    },
    "jupyter": {
     "source_hidden": true
    },
    "papermill": {
     "duration": 0.036328,
     "end_time": "2021-06-25T07:00:14.321038",
     "exception": false,
     "start_time": "2021-06-25T07:00:14.284710",
     "status": "completed"
    },
    "tags": []
   },
   "outputs": [],
   "source": [
    "# THIS IS PURELY FOR TEST PURPOSE NEVER DO THAT IN PRODUCTION\n",
    "POSTGRES_ADDRESS='postgres'\n",
    "POSTGRES_PORT='5432'\n",
    "POSTGRES_USERNAME='postgres'\n",
    "POSTGRES_PASSWORD='postgres'\n",
    "\n",
    "postgres_conn = 'postgresql://{0}:{1}@{2}:{3}/'.format(POSTGRES_USERNAME, POSTGRES_PASSWORD, POSTGRES_ADDRESS, POSTGRES_PORT)\n",
    "\n",
    "# Create the connection\n",
    "cnx = create_engine(postgres_conn)\n"
   ]
  },
  {
   "cell_type": "markdown",
   "metadata": {
    "_uuid": "1998755ef10683262b29765345cff1c1c7d10b15",
    "papermill": {
     "duration": 0.005261,
     "end_time": "2021-06-25T07:00:14.331652",
     "exception": false,
     "start_time": "2021-06-25T07:00:14.326391",
     "status": "completed"
    },
    "tags": []
   },
   "source": [
    "Read in the Avocado Prices csv file as a DataFrame called df"
   ]
  },
  {
   "cell_type": "code",
   "execution_count": 3,
   "metadata": {
    "execution": {
     "iopub.execute_input": "2021-06-25T07:00:14.345814Z",
     "iopub.status.busy": "2021-06-25T07:00:14.345159Z",
     "iopub.status.idle": "2021-06-25T07:00:14.348237Z",
     "shell.execute_reply": "2021-06-25T07:00:14.347811Z"
    },
    "jupyter": {
     "source_hidden": true
    },
    "papermill": {
     "duration": 0.011774,
     "end_time": "2021-06-25T07:00:14.348431",
     "exception": false,
     "start_time": "2021-06-25T07:00:14.336657",
     "status": "completed"
    },
    "tags": [
     "parameters"
    ]
   },
   "outputs": [],
   "source": [
    "# Parameterized\n",
    "\n",
    "filepath='avocado.csv'\n",
    "ml_id='auto_100'\n",
    "ml_date=date.today()\n",
    "n_estimators = 100\n",
    "max_features = 'auto'"
   ]
  },
  {
   "cell_type": "code",
   "execution_count": 4,
   "id": "32c7ac3f",
   "metadata": {
    "execution": {
     "iopub.execute_input": "2021-06-25T07:00:14.362641Z",
     "iopub.status.busy": "2021-06-25T07:00:14.362000Z",
     "iopub.status.idle": "2021-06-25T07:00:14.364997Z",
     "shell.execute_reply": "2021-06-25T07:00:14.364560Z"
    },
    "jupyter": {
     "source_hidden": true
    },
    "papermill": {
     "duration": 0.011449,
     "end_time": "2021-06-25T07:00:14.365190",
     "exception": false,
     "start_time": "2021-06-25T07:00:14.353741",
     "status": "completed"
    },
    "tags": [
     "injected-parameters"
    ]
   },
   "outputs": [],
   "source": [
    "# Parameters\n",
    "filepath = \"/tmp/avocado.csv\"\n",
    "n_estimators = 100\n",
    "max_features = \"auto\"\n",
    "ml_id = \"auto_100\"\n"
   ]
  },
  {
   "cell_type": "code",
   "execution_count": 5,
   "metadata": {
    "_uuid": "55d0e719eb8b91d763c1eacaf0f51ee0586486fc",
    "execution": {
     "iopub.execute_input": "2021-06-25T07:00:14.379886Z",
     "iopub.status.busy": "2021-06-25T07:00:14.379256Z",
     "iopub.status.idle": "2021-06-25T07:00:14.408872Z",
     "shell.execute_reply": "2021-06-25T07:00:14.408202Z"
    },
    "jupyter": {
     "source_hidden": true
    },
    "papermill": {
     "duration": 0.038623,
     "end_time": "2021-06-25T07:00:14.409083",
     "exception": false,
     "start_time": "2021-06-25T07:00:14.370460",
     "status": "completed"
    },
    "tags": []
   },
   "outputs": [],
   "source": [
    "df= pd.read_csv(filepath)"
   ]
  },
  {
   "cell_type": "markdown",
   "metadata": {
    "_uuid": "434e0457f550e2200424e5ec26162e1aa5904005",
    "papermill": {
     "duration": 0.005344,
     "end_time": "2021-06-25T07:00:14.419909",
     "exception": false,
     "start_time": "2021-06-25T07:00:14.414565",
     "status": "completed"
    },
    "tags": []
   },
   "source": [
    "The Feature \"Unnamed:0\" is just a representation of the indexes, so it's useless to keep it, lets remove it !"
   ]
  },
  {
   "cell_type": "code",
   "execution_count": 6,
   "metadata": {
    "_uuid": "9875398e37728dc3141fed4228be337a4735beb6",
    "execution": {
     "iopub.execute_input": "2021-06-25T07:00:14.436507Z",
     "iopub.status.busy": "2021-06-25T07:00:14.435812Z",
     "iopub.status.idle": "2021-06-25T07:00:14.438516Z",
     "shell.execute_reply": "2021-06-25T07:00:14.438106Z"
    },
    "jupyter": {
     "source_hidden": true
    },
    "papermill": {
     "duration": 0.013531,
     "end_time": "2021-06-25T07:00:14.438756",
     "exception": false,
     "start_time": "2021-06-25T07:00:14.425225",
     "status": "completed"
    },
    "tags": []
   },
   "outputs": [],
   "source": [
    "df.drop('Unnamed: 0',axis=1,inplace=True)"
   ]
  },
  {
   "cell_type": "markdown",
   "metadata": {
    "_uuid": "12e94ad381e4cb8d2c8a9bbe08ce07ab5d49c040",
    "papermill": {
     "duration": 0.005313,
     "end_time": "2021-06-25T07:00:14.449241",
     "exception": false,
     "start_time": "2021-06-25T07:00:14.443928",
     "status": "completed"
    },
    "tags": []
   },
   "source": [
    "well as a first observation we can see that we are lucky, we dont have any missing values (18249 complete data) and 13 columns.\n",
    "Now let's do some Feature Engineering on the Date Feature so we can be able to use the day and the month columns in building our machine learning model later. ( I didn't mention the year because its already there in data frame)"
   ]
  },
  {
   "cell_type": "code",
   "execution_count": 7,
   "metadata": {
    "_uuid": "f031639ce794656e877484d1c9c356df7028177f",
    "execution": {
     "iopub.execute_input": "2021-06-25T07:00:14.464971Z",
     "iopub.status.busy": "2021-06-25T07:00:14.464358Z",
     "iopub.status.idle": "2021-06-25T07:00:14.580691Z",
     "shell.execute_reply": "2021-06-25T07:00:14.581084Z"
    },
    "jupyter": {
     "source_hidden": true
    },
    "papermill": {
     "duration": 0.126946,
     "end_time": "2021-06-25T07:00:14.581328",
     "exception": false,
     "start_time": "2021-06-25T07:00:14.454382",
     "status": "completed"
    },
    "tags": []
   },
   "outputs": [],
   "source": [
    "df['Date']=pd.to_datetime(df['Date'])\n",
    "df['Month']=df['Date'].apply(lambda x:x.month)\n",
    "df['Day']=df['Date'].apply(lambda x:x.day)"
   ]
  },
  {
   "cell_type": "markdown",
   "metadata": {
    "_uuid": "ebdcac9924ce3e366fd3a75170682f7113385b7a",
    "papermill": {
     "duration": 0.005712,
     "end_time": "2021-06-25T07:00:14.592762",
     "exception": false,
     "start_time": "2021-06-25T07:00:14.587050",
     "status": "completed"
    },
    "tags": []
   },
   "source": [
    "as we can see we have 54 regions and 2 unique types, so it's going to be easy to to transform the type feature to dummies, but for the region its going to be a bit complexe so I decided to drop the entire column.\n",
    "I will drop the Date Feature as well because I already have 3 other columns for the Year, Month and Day."
   ]
  },
  {
   "cell_type": "code",
   "execution_count": 8,
   "metadata": {
    "_uuid": "a798682da34327b731ef262985fd50ba68e06460",
    "execution": {
     "iopub.execute_input": "2021-06-25T07:00:14.613357Z",
     "iopub.status.busy": "2021-06-25T07:00:14.608446Z",
     "iopub.status.idle": "2021-06-25T07:00:14.618858Z",
     "shell.execute_reply": "2021-06-25T07:00:14.618228Z"
    },
    "jupyter": {
     "source_hidden": true
    },
    "papermill": {
     "duration": 0.020906,
     "end_time": "2021-06-25T07:00:14.619065",
     "exception": false,
     "start_time": "2021-06-25T07:00:14.598159",
     "status": "completed"
    },
    "tags": []
   },
   "outputs": [],
   "source": [
    "df_final=pd.get_dummies(df.drop(['region','Date'],axis=1),drop_first=True)"
   ]
  },
  {
   "cell_type": "markdown",
   "metadata": {
    "_uuid": "8b74a6b88cb3e9b3e1d1e987e061048f203c7364",
    "papermill": {
     "duration": 0.005574,
     "end_time": "2021-06-25T07:00:14.630331",
     "exception": false,
     "start_time": "2021-06-25T07:00:14.624757",
     "status": "completed"
    },
    "tags": []
   },
   "source": [
    "Now our data are ready! lets apply our model which is going to be the Linear Regression because our Target variable 'AveragePrice'is continuous.\n",
    "Let's now begin to train out regression model! We will need to first split up our data into an X array that contains the features to train on, and a y array with the target variable"
   ]
  },
  {
   "cell_type": "code",
   "execution_count": 9,
   "metadata": {
    "_uuid": "830591f99de9715241e688bf9ce265e979401ff5",
    "execution": {
     "iopub.execute_input": "2021-06-25T07:00:14.646236Z",
     "iopub.status.busy": "2021-06-25T07:00:14.645619Z",
     "iopub.status.idle": "2021-06-25T07:00:14.656462Z",
     "shell.execute_reply": "2021-06-25T07:00:14.656003Z"
    },
    "jupyter": {
     "source_hidden": true
    },
    "papermill": {
     "duration": 0.021142,
     "end_time": "2021-06-25T07:00:14.656722",
     "exception": false,
     "start_time": "2021-06-25T07:00:14.635580",
     "status": "completed"
    },
    "tags": []
   },
   "outputs": [],
   "source": [
    "X=df_final.iloc[:,1:14]\n",
    "y=df_final['AveragePrice']\n",
    "from sklearn.model_selection import train_test_split\n",
    "X_train,X_test,y_train,y_test=train_test_split(X,y,test_size=0.2,random_state=42)"
   ]
  },
  {
   "cell_type": "markdown",
   "metadata": {
    "_uuid": "ea730c77a31cde9de98263079a189accb8b5772b",
    "papermill": {
     "duration": 0.005453,
     "end_time": "2021-06-25T07:00:14.668152",
     "exception": false,
     "start_time": "2021-06-25T07:00:14.662699",
     "status": "completed"
    },
    "tags": []
   },
   "source": [
    "Creating and Training the Model"
   ]
  },
  {
   "cell_type": "code",
   "execution_count": 10,
   "metadata": {
    "_uuid": "eb37015e78974e5fd2ae7e13d065c8ab0a9c6948",
    "execution": {
     "iopub.execute_input": "2021-06-25T07:00:14.685556Z",
     "iopub.status.busy": "2021-06-25T07:00:14.682598Z",
     "iopub.status.idle": "2021-06-25T07:00:27.211927Z",
     "shell.execute_reply": "2021-06-25T07:00:27.210809Z"
    },
    "jupyter": {
     "source_hidden": true
    },
    "papermill": {
     "duration": 12.538789,
     "end_time": "2021-06-25T07:00:27.212437",
     "exception": false,
     "start_time": "2021-06-25T07:00:14.673648",
     "status": "completed"
    },
    "tags": []
   },
   "outputs": [],
   "source": [
    "from sklearn.ensemble import RandomForestRegressor\n",
    "rdr = RandomForestRegressor(\n",
    "    n_estimators=n_estimators,\n",
    "    max_features=max_features\n",
    ")\n",
    "rdr.fit(X_train,y_train)\n",
    "pred=rdr.predict(X_test)"
   ]
  },
  {
   "cell_type": "code",
   "execution_count": 11,
   "metadata": {
    "_uuid": "7ed5b8d4e8abb44a4b548c13ac9fb2d65227d1c5",
    "execution": {
     "iopub.execute_input": "2021-06-25T07:00:27.245849Z",
     "iopub.status.busy": "2021-06-25T07:00:27.244510Z",
     "iopub.status.idle": "2021-06-25T07:00:27.254432Z",
     "shell.execute_reply": "2021-06-25T07:00:27.252920Z"
    },
    "jupyter": {
     "source_hidden": true
    },
    "papermill": {
     "duration": 0.028971,
     "end_time": "2021-06-25T07:00:27.254863",
     "exception": false,
     "start_time": "2021-06-25T07:00:27.225892",
     "status": "completed"
    },
    "tags": []
   },
   "outputs": [],
   "source": [
    "#%%capture cap --no-stderr\n",
    "#print(np.sqrt(mean_squared_error(y_test, pred)))"
   ]
  },
  {
   "cell_type": "code",
   "execution_count": 12,
   "metadata": {
    "execution": {
     "iopub.execute_input": "2021-06-25T07:00:27.287372Z",
     "iopub.status.busy": "2021-06-25T07:00:27.286081Z",
     "iopub.status.idle": "2021-06-25T07:00:27.291976Z",
     "shell.execute_reply": "2021-06-25T07:00:27.292891Z"
    },
    "jupyter": {
     "source_hidden": true
    },
    "papermill": {
     "duration": 0.025907,
     "end_time": "2021-06-25T07:00:27.293464",
     "exception": false,
     "start_time": "2021-06-25T07:00:27.267557",
     "status": "completed"
    },
    "tags": []
   },
   "outputs": [],
   "source": [
    "#with open(output_rmse, 'w') as f:\n",
    "#    f.write(cap.stdout)"
   ]
  },
  {
   "cell_type": "code",
   "execution_count": 13,
   "metadata": {
    "execution": {
     "iopub.execute_input": "2021-06-25T07:00:27.333692Z",
     "iopub.status.busy": "2021-06-25T07:00:27.332356Z",
     "iopub.status.idle": "2021-06-25T07:00:27.373064Z",
     "shell.execute_reply": "2021-06-25T07:00:27.374072Z"
    },
    "jupyter": {
     "source_hidden": true
    },
    "papermill": {
     "duration": 0.065612,
     "end_time": "2021-06-25T07:00:27.374533",
     "exception": false,
     "start_time": "2021-06-25T07:00:27.308921",
     "status": "completed"
    },
    "tags": []
   },
   "outputs": [
    {
     "data": {
      "text/plain": [
       "<sqlalchemy.engine.result.ResultProxy at 0x7f6478bd8190>"
      ]
     },
     "execution_count": 13,
     "metadata": {},
     "output_type": "execute_result"
    }
   ],
   "source": [
    "cnx.execute(\"\"\"\n",
    "    INSERT INTO ml.accuracies (ml_id, ml_date, accuracy) VALUES ('{0}', '{1}', {2}) \n",
    "    ON CONFLICT (ml_id, ml_date) \n",
    "    DO\n",
    "        UPDATE SET accuracy = {2};\n",
    "    \"\"\".format(ml_id, ml_date, np.sqrt(mean_squared_error(y_test, pred))))"
   ]
  }
 ],
 "metadata": {
  "kernelspec": {
   "display_name": "Python 3",
   "language": "python",
   "name": "python3"
  },
  "language_info": {
   "codemirror_mode": {
    "name": "ipython",
    "version": 3
   },
   "file_extension": ".py",
   "mimetype": "text/x-python",
   "name": "python",
   "nbconvert_exporter": "python",
   "pygments_lexer": "ipython3",
   "version": "3.7.10"
  },
  "papermill": {
   "duration": 16.378559,
   "end_time": "2021-06-25T07:00:28.764420",
   "environment_variables": {},
   "exception": null,
   "input_path": "/usr/local/airflow/include/notebooks/avocado_prediction.ipynb",
   "output_path": "/tmp/out-model-avocado-prediction-auto_100.ipynb",
   "parameters": {
    "filepath": "/tmp/avocado.csv",
    "max_features": "auto",
    "ml_id": "auto_100",
    "n_estimators": 100
   },
   "start_time": "2021-06-25T07:00:12.385861",
   "version": "2.1.2"
  }
 },
 "nbformat": 4,
 "nbformat_minor": 4
}