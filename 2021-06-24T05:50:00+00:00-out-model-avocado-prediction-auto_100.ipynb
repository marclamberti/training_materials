{
 "cells": [
  {
   "cell_type": "code",
   "execution_count": 1,
   "metadata": {
    "_cell_guid": "79c7e3d0-c299-4dcb-8224-4455121ee9b0",
    "_uuid": "d629ff2d2480ee46fbb7e2d37f6b5fab8052498a",
    "execution": {
     "iopub.execute_input": "2021-06-24T06:00:09.491225Z",
     "iopub.status.busy": "2021-06-24T06:00:09.490377Z",
     "iopub.status.idle": "2021-06-24T06:00:10.144293Z",
     "shell.execute_reply": "2021-06-24T06:00:10.143347Z"
    },
    "jupyter": {
     "source_hidden": true
    },
    "papermill": {
     "duration": 0.669847,
     "end_time": "2021-06-24T06:00:10.144563",
     "exception": false,
     "start_time": "2021-06-24T06:00:09.474716",
     "status": "completed"
    },
    "tags": []
   },
   "outputs": [],
   "source": [
    "import pandas as pd\n",
    "import numpy as np\n",
    "from sqlalchemy import create_engine\n",
    "from datetime import date\n",
    "from sklearn.metrics import mean_squared_error"
   ]
  },
  {
   "cell_type": "code",
   "execution_count": 2,
   "metadata": {
    "execution": {
     "iopub.execute_input": "2021-06-24T06:00:10.164200Z",
     "iopub.status.busy": "2021-06-24T06:00:10.163451Z",
     "iopub.status.idle": "2021-06-24T06:00:10.192381Z",
     "shell.execute_reply": "2021-06-24T06:00:10.191670Z"
    },
    "jupyter": {
     "source_hidden": true
    },
    "papermill": {
     "duration": 0.040617,
     "end_time": "2021-06-24T06:00:10.192597",
     "exception": false,
     "start_time": "2021-06-24T06:00:10.151980",
     "status": "completed"
    },
    "tags": []
   },
   "outputs": [],
   "source": [
    "# THIS IS PURELY FOR TEST PURPOSE NEVER DO THAT IN PRODUCTION\n",
    "POSTGRES_ADDRESS='postgres'\n",
    "POSTGRES_PORT='5432'\n",
    "POSTGRES_USERNAME='postgres'\n",
    "POSTGRES_PASSWORD='postgres'\n",
    "\n",
    "postgres_conn = 'postgresql://{0}:{1}@{2}:{3}/'.format(POSTGRES_USERNAME, POSTGRES_PASSWORD, POSTGRES_ADDRESS, POSTGRES_PORT)\n",
    "\n",
    "# Create the connection\n",
    "cnx = create_engine(postgres_conn)\n"
   ]
  },
  {
   "cell_type": "markdown",
   "metadata": {
    "_uuid": "1998755ef10683262b29765345cff1c1c7d10b15",
    "papermill": {
     "duration": 0.00518,
     "end_time": "2021-06-24T06:00:10.203042",
     "exception": false,
     "start_time": "2021-06-24T06:00:10.197862",
     "status": "completed"
    },
    "tags": []
   },
   "source": [
    "Read in the Avocado Prices csv file as a DataFrame called df"
   ]
  },
  {
   "cell_type": "code",
   "execution_count": 3,
   "metadata": {
    "execution": {
     "iopub.execute_input": "2021-06-24T06:00:10.217302Z",
     "iopub.status.busy": "2021-06-24T06:00:10.216719Z",
     "iopub.status.idle": "2021-06-24T06:00:10.219822Z",
     "shell.execute_reply": "2021-06-24T06:00:10.219391Z"
    },
    "jupyter": {
     "source_hidden": true
    },
    "papermill": {
     "duration": 0.012071,
     "end_time": "2021-06-24T06:00:10.220069",
     "exception": false,
     "start_time": "2021-06-24T06:00:10.207998",
     "status": "completed"
    },
    "tags": [
     "parameters"
    ]
   },
   "outputs": [],
   "source": [
    "# Parameterized\n",
    "\n",
    "filepath='avocado.csv'\n",
    "ml_id='auto_100'\n",
    "ml_date=date.today()\n",
    "n_estimators = 100\n",
    "max_features = 'auto'"
   ]
  },
  {
   "cell_type": "code",
   "execution_count": 4,
   "id": "bdb6ad82",
   "metadata": {
    "execution": {
     "iopub.execute_input": "2021-06-24T06:00:10.234576Z",
     "iopub.status.busy": "2021-06-24T06:00:10.233968Z",
     "iopub.status.idle": "2021-06-24T06:00:10.236911Z",
     "shell.execute_reply": "2021-06-24T06:00:10.237305Z"
    },
    "jupyter": {
     "source_hidden": true
    },
    "papermill": {
     "duration": 0.012262,
     "end_time": "2021-06-24T06:00:10.237541",
     "exception": false,
     "start_time": "2021-06-24T06:00:10.225279",
     "status": "completed"
    },
    "tags": [
     "injected-parameters"
    ]
   },
   "outputs": [],
   "source": [
    "# Parameters\n",
    "filepath = \"/tmp/avocado.csv\"\n",
    "n_estimators = 100\n",
    "max_features = \"auto\"\n",
    "ml_id = \"auto_100\"\n"
   ]
  },
  {
   "cell_type": "code",
   "execution_count": 5,
   "metadata": {
    "_uuid": "55d0e719eb8b91d763c1eacaf0f51ee0586486fc",
    "execution": {
     "iopub.execute_input": "2021-06-24T06:00:10.253022Z",
     "iopub.status.busy": "2021-06-24T06:00:10.252328Z",
     "iopub.status.idle": "2021-06-24T06:00:10.281792Z",
     "shell.execute_reply": "2021-06-24T06:00:10.281322Z"
    },
    "jupyter": {
     "source_hidden": true
    },
    "papermill": {
     "duration": 0.038951,
     "end_time": "2021-06-24T06:00:10.282061",
     "exception": false,
     "start_time": "2021-06-24T06:00:10.243110",
     "status": "completed"
    },
    "tags": []
   },
   "outputs": [],
   "source": [
    "df= pd.read_csv(filepath)"
   ]
  },
  {
   "cell_type": "markdown",
   "metadata": {
    "_uuid": "434e0457f550e2200424e5ec26162e1aa5904005",
    "papermill": {
     "duration": 0.005528,
     "end_time": "2021-06-24T06:00:10.293177",
     "exception": false,
     "start_time": "2021-06-24T06:00:10.287649",
     "status": "completed"
    },
    "tags": []
   },
   "source": [
    "The Feature \"Unnamed:0\" is just a representation of the indexes, so it's useless to keep it, lets remove it !"
   ]
  },
  {
   "cell_type": "code",
   "execution_count": 6,
   "metadata": {
    "_uuid": "9875398e37728dc3141fed4228be337a4735beb6",
    "execution": {
     "iopub.execute_input": "2021-06-24T06:00:10.307967Z",
     "iopub.status.busy": "2021-06-24T06:00:10.307422Z",
     "iopub.status.idle": "2021-06-24T06:00:10.310109Z",
     "shell.execute_reply": "2021-06-24T06:00:10.309698Z"
    },
    "jupyter": {
     "source_hidden": true
    },
    "papermill": {
     "duration": 0.012004,
     "end_time": "2021-06-24T06:00:10.310277",
     "exception": false,
     "start_time": "2021-06-24T06:00:10.298273",
     "status": "completed"
    },
    "tags": []
   },
   "outputs": [],
   "source": [
    "df.drop('Unnamed: 0',axis=1,inplace=True)"
   ]
  },
  {
   "cell_type": "markdown",
   "metadata": {
    "_uuid": "12e94ad381e4cb8d2c8a9bbe08ce07ab5d49c040",
    "papermill": {
     "duration": 0.005995,
     "end_time": "2021-06-24T06:00:10.320678",
     "exception": false,
     "start_time": "2021-06-24T06:00:10.314683",
     "status": "completed"
    },
    "tags": []
   },
   "source": [
    "well as a first observation we can see that we are lucky, we dont have any missing values (18249 complete data) and 13 columns.\n",
    "Now let's do some Feature Engineering on the Date Feature so we can be able to use the day and the month columns in building our machine learning model later. ( I didn't mention the year because its already there in data frame)"
   ]
  },
  {
   "cell_type": "code",
   "execution_count": 7,
   "metadata": {
    "_uuid": "f031639ce794656e877484d1c9c356df7028177f",
    "execution": {
     "iopub.execute_input": "2021-06-24T06:00:10.336019Z",
     "iopub.status.busy": "2021-06-24T06:00:10.335426Z",
     "iopub.status.idle": "2021-06-24T06:00:10.443018Z",
     "shell.execute_reply": "2021-06-24T06:00:10.442573Z"
    },
    "jupyter": {
     "source_hidden": true
    },
    "papermill": {
     "duration": 0.118072,
     "end_time": "2021-06-24T06:00:10.443202",
     "exception": false,
     "start_time": "2021-06-24T06:00:10.325130",
     "status": "completed"
    },
    "tags": []
   },
   "outputs": [],
   "source": [
    "df['Date']=pd.to_datetime(df['Date'])\n",
    "df['Month']=df['Date'].apply(lambda x:x.month)\n",
    "df['Day']=df['Date'].apply(lambda x:x.day)"
   ]
  },
  {
   "cell_type": "markdown",
   "metadata": {
    "_uuid": "ebdcac9924ce3e366fd3a75170682f7113385b7a",
    "papermill": {
     "duration": 0.005427,
     "end_time": "2021-06-24T06:00:10.453827",
     "exception": false,
     "start_time": "2021-06-24T06:00:10.448400",
     "status": "completed"
    },
    "tags": []
   },
   "source": [
    "as we can see we have 54 regions and 2 unique types, so it's going to be easy to to transform the type feature to dummies, but for the region its going to be a bit complexe so I decided to drop the entire column.\n",
    "I will drop the Date Feature as well because I already have 3 other columns for the Year, Month and Day."
   ]
  },
  {
   "cell_type": "code",
   "execution_count": 8,
   "metadata": {
    "_uuid": "a798682da34327b731ef262985fd50ba68e06460",
    "execution": {
     "iopub.execute_input": "2021-06-24T06:00:10.472419Z",
     "iopub.status.busy": "2021-06-24T06:00:10.471934Z",
     "iopub.status.idle": "2021-06-24T06:00:10.476962Z",
     "shell.execute_reply": "2021-06-24T06:00:10.476354Z"
    },
    "jupyter": {
     "source_hidden": true
    },
    "papermill": {
     "duration": 0.018453,
     "end_time": "2021-06-24T06:00:10.477145",
     "exception": false,
     "start_time": "2021-06-24T06:00:10.458692",
     "status": "completed"
    },
    "tags": []
   },
   "outputs": [],
   "source": [
    "df_final=pd.get_dummies(df.drop(['region','Date'],axis=1),drop_first=True)"
   ]
  },
  {
   "cell_type": "markdown",
   "metadata": {
    "_uuid": "8b74a6b88cb3e9b3e1d1e987e061048f203c7364",
    "papermill": {
     "duration": 0.005927,
     "end_time": "2021-06-24T06:00:10.488035",
     "exception": false,
     "start_time": "2021-06-24T06:00:10.482108",
     "status": "completed"
    },
    "tags": []
   },
   "source": [
    "Now our data are ready! lets apply our model which is going to be the Linear Regression because our Target variable 'AveragePrice'is continuous.\n",
    "Let's now begin to train out regression model! We will need to first split up our data into an X array that contains the features to train on, and a y array with the target variable"
   ]
  },
  {
   "cell_type": "code",
   "execution_count": 9,
   "metadata": {
    "_uuid": "830591f99de9715241e688bf9ce265e979401ff5",
    "execution": {
     "iopub.execute_input": "2021-06-24T06:00:10.504444Z",
     "iopub.status.busy": "2021-06-24T06:00:10.503783Z",
     "iopub.status.idle": "2021-06-24T06:00:10.514611Z",
     "shell.execute_reply": "2021-06-24T06:00:10.513977Z"
    },
    "jupyter": {
     "source_hidden": true
    },
    "papermill": {
     "duration": 0.021549,
     "end_time": "2021-06-24T06:00:10.514868",
     "exception": false,
     "start_time": "2021-06-24T06:00:10.493319",
     "status": "completed"
    },
    "tags": []
   },
   "outputs": [],
   "source": [
    "X=df_final.iloc[:,1:14]\n",
    "y=df_final['AveragePrice']\n",
    "from sklearn.model_selection import train_test_split\n",
    "X_train,X_test,y_train,y_test=train_test_split(X,y,test_size=0.2,random_state=42)"
   ]
  },
  {
   "cell_type": "markdown",
   "metadata": {
    "_uuid": "ea730c77a31cde9de98263079a189accb8b5772b",
    "papermill": {
     "duration": 0.005552,
     "end_time": "2021-06-24T06:00:10.526156",
     "exception": false,
     "start_time": "2021-06-24T06:00:10.520604",
     "status": "completed"
    },
    "tags": []
   },
   "source": [
    "Creating and Training the Model"
   ]
  },
  {
   "cell_type": "code",
   "execution_count": 10,
   "metadata": {
    "_uuid": "eb37015e78974e5fd2ae7e13d065c8ab0a9c6948",
    "execution": {
     "iopub.execute_input": "2021-06-24T06:00:10.541266Z",
     "iopub.status.busy": "2021-06-24T06:00:10.540675Z",
     "iopub.status.idle": "2021-06-24T06:00:18.212391Z",
     "shell.execute_reply": "2021-06-24T06:00:18.211929Z"
    },
    "jupyter": {
     "source_hidden": true
    },
    "papermill": {
     "duration": 7.681055,
     "end_time": "2021-06-24T06:00:18.212600",
     "exception": false,
     "start_time": "2021-06-24T06:00:10.531545",
     "status": "completed"
    },
    "tags": []
   },
   "outputs": [],
   "source": [
    "from sklearn.ensemble import RandomForestRegressor\n",
    "rdr = RandomForestRegressor(\n",
    "    n_estimators=n_estimators,\n",
    "    max_features=max_features\n",
    ")\n",
    "rdr.fit(X_train,y_train)\n",
    "pred=rdr.predict(X_test)"
   ]
  },
  {
   "cell_type": "code",
   "execution_count": 11,
   "metadata": {
    "_uuid": "7ed5b8d4e8abb44a4b548c13ac9fb2d65227d1c5",
    "execution": {
     "iopub.execute_input": "2021-06-24T06:00:18.228208Z",
     "iopub.status.busy": "2021-06-24T06:00:18.227570Z",
     "iopub.status.idle": "2021-06-24T06:00:18.230283Z",
     "shell.execute_reply": "2021-06-24T06:00:18.230709Z"
    },
    "jupyter": {
     "source_hidden": true
    },
    "papermill": {
     "duration": 0.012409,
     "end_time": "2021-06-24T06:00:18.230972",
     "exception": false,
     "start_time": "2021-06-24T06:00:18.218563",
     "status": "completed"
    },
    "tags": []
   },
   "outputs": [],
   "source": [
    "#%%capture cap --no-stderr\n",
    "#print(np.sqrt(mean_squared_error(y_test, pred)))"
   ]
  },
  {
   "cell_type": "code",
   "execution_count": 12,
   "metadata": {
    "execution": {
     "iopub.execute_input": "2021-06-24T06:00:18.245976Z",
     "iopub.status.busy": "2021-06-24T06:00:18.245335Z",
     "iopub.status.idle": "2021-06-24T06:00:18.248134Z",
     "shell.execute_reply": "2021-06-24T06:00:18.248542Z"
    },
    "jupyter": {
     "source_hidden": true
    },
    "papermill": {
     "duration": 0.012156,
     "end_time": "2021-06-24T06:00:18.248829",
     "exception": false,
     "start_time": "2021-06-24T06:00:18.236673",
     "status": "completed"
    },
    "tags": []
   },
   "outputs": [],
   "source": [
    "#with open(output_rmse, 'w') as f:\n",
    "#    f.write(cap.stdout)"
   ]
  },
  {
   "cell_type": "code",
   "execution_count": 13,
   "metadata": {
    "execution": {
     "iopub.execute_input": "2021-06-24T06:00:18.265302Z",
     "iopub.status.busy": "2021-06-24T06:00:18.264710Z",
     "iopub.status.idle": "2021-06-24T06:00:18.285509Z",
     "shell.execute_reply": "2021-06-24T06:00:18.284876Z"
    },
    "jupyter": {
     "source_hidden": true
    },
    "papermill": {
     "duration": 0.031271,
     "end_time": "2021-06-24T06:00:18.285813",
     "exception": false,
     "start_time": "2021-06-24T06:00:18.254542",
     "status": "completed"
    },
    "tags": []
   },
   "outputs": [
    {
     "data": {
      "text/plain": [
       "<sqlalchemy.engine.result.ResultProxy at 0x7f0819b53890>"
      ]
     },
     "execution_count": 13,
     "metadata": {},
     "output_type": "execute_result"
    }
   ],
   "source": [
    "cnx.execute(\"\"\"\n",
    "    INSERT INTO ml.accuracies (ml_id, ml_date, accuracy) VALUES ('{0}', '{1}', {2}) \n",
    "    ON CONFLICT (ml_id, ml_date) \n",
    "    DO\n",
    "        UPDATE SET accuracy = {2};\n",
    "    \"\"\".format(ml_id, ml_date, np.sqrt(mean_squared_error(y_test, pred))))"
   ]
  }
 ],
 "metadata": {
  "kernelspec": {
   "display_name": "Python 3",
   "language": "python",
   "name": "python3"
  },
  "language_info": {
   "codemirror_mode": {
    "name": "ipython",
    "version": 3
   },
   "file_extension": ".py",
   "mimetype": "text/x-python",
   "name": "python",
   "nbconvert_exporter": "python",
   "pygments_lexer": "ipython3",
   "version": "3.7.10"
  },
  "papermill": {
   "duration": 10.352295,
   "end_time": "2021-06-24T06:00:18.707322",
   "environment_variables": {},
   "exception": null,
   "input_path": "/usr/local/airflow/include/notebooks/avocado_prediction.ipynb",
   "output_path": "/tmp/out-model-avocado-prediction-auto_100.ipynb",
   "parameters": {
    "filepath": "/tmp/avocado.csv",
    "max_features": "auto",
    "ml_id": "auto_100",
    "n_estimators": 100
   },
   "start_time": "2021-06-24T06:00:08.355027",
   "version": "2.1.2"
  }
 },
 "nbformat": 4,
 "nbformat_minor": 4
}