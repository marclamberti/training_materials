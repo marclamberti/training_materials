{
 "cells": [
  {
   "cell_type": "code",
   "execution_count": 1,
   "metadata": {
    "_cell_guid": "79c7e3d0-c299-4dcb-8224-4455121ee9b0",
    "_uuid": "d629ff2d2480ee46fbb7e2d37f6b5fab8052498a",
    "execution": {
     "iopub.execute_input": "2021-06-25T10:00:09.181530Z",
     "iopub.status.busy": "2021-06-25T10:00:09.180868Z",
     "iopub.status.idle": "2021-06-25T10:00:09.838775Z",
     "shell.execute_reply": "2021-06-25T10:00:09.837804Z"
    },
    "jupyter": {
     "source_hidden": true
    },
    "papermill": {
     "duration": 0.669986,
     "end_time": "2021-06-25T10:00:09.839056",
     "exception": false,
     "start_time": "2021-06-25T10:00:09.169070",
     "status": "completed"
    },
    "tags": []
   },
   "outputs": [],
   "source": [
    "import pandas as pd\n",
    "import numpy as np\n",
    "from sqlalchemy import create_engine\n",
    "from datetime import date\n",
    "from sklearn.metrics import mean_squared_error"
   ]
  },
  {
   "cell_type": "code",
   "execution_count": 2,
   "metadata": {
    "execution": {
     "iopub.execute_input": "2021-06-25T10:00:09.861422Z",
     "iopub.status.busy": "2021-06-25T10:00:09.860453Z",
     "iopub.status.idle": "2021-06-25T10:00:09.887925Z",
     "shell.execute_reply": "2021-06-25T10:00:09.887436Z"
    },
    "jupyter": {
     "source_hidden": true
    },
    "papermill": {
     "duration": 0.041475,
     "end_time": "2021-06-25T10:00:09.888126",
     "exception": false,
     "start_time": "2021-06-25T10:00:09.846651",
     "status": "completed"
    },
    "tags": []
   },
   "outputs": [],
   "source": [
    "# THIS IS PURELY FOR TEST PURPOSE NEVER DO THAT IN PRODUCTION\n",
    "POSTGRES_ADDRESS='postgres'\n",
    "POSTGRES_PORT='5432'\n",
    "POSTGRES_USERNAME='postgres'\n",
    "POSTGRES_PASSWORD='postgres'\n",
    "\n",
    "postgres_conn = 'postgresql://{0}:{1}@{2}:{3}/'.format(POSTGRES_USERNAME, POSTGRES_PASSWORD, POSTGRES_ADDRESS, POSTGRES_PORT)\n",
    "\n",
    "# Create the connection\n",
    "cnx = create_engine(postgres_conn)\n"
   ]
  },
  {
   "cell_type": "markdown",
   "metadata": {
    "_uuid": "1998755ef10683262b29765345cff1c1c7d10b15",
    "papermill": {
     "duration": 0.005576,
     "end_time": "2021-06-25T10:00:09.898910",
     "exception": false,
     "start_time": "2021-06-25T10:00:09.893334",
     "status": "completed"
    },
    "tags": []
   },
   "source": [
    "Read in the Avocado Prices csv file as a DataFrame called df"
   ]
  },
  {
   "cell_type": "code",
   "execution_count": 3,
   "metadata": {
    "execution": {
     "iopub.execute_input": "2021-06-25T10:00:09.913876Z",
     "iopub.status.busy": "2021-06-25T10:00:09.913284Z",
     "iopub.status.idle": "2021-06-25T10:00:09.915901Z",
     "shell.execute_reply": "2021-06-25T10:00:09.916340Z"
    },
    "jupyter": {
     "source_hidden": true
    },
    "papermill": {
     "duration": 0.012518,
     "end_time": "2021-06-25T10:00:09.916578",
     "exception": false,
     "start_time": "2021-06-25T10:00:09.904060",
     "status": "completed"
    },
    "tags": [
     "parameters"
    ]
   },
   "outputs": [],
   "source": [
    "# Parameterized\n",
    "\n",
    "filepath='avocado.csv'\n",
    "ml_id='auto_100'\n",
    "ml_date=date.today()\n",
    "n_estimators = 100\n",
    "max_features = 'auto'"
   ]
  },
  {
   "cell_type": "code",
   "execution_count": 4,
   "id": "8f9e1774",
   "metadata": {
    "execution": {
     "iopub.execute_input": "2021-06-25T10:00:09.932338Z",
     "iopub.status.busy": "2021-06-25T10:00:09.931683Z",
     "iopub.status.idle": "2021-06-25T10:00:09.934470Z",
     "shell.execute_reply": "2021-06-25T10:00:09.934865Z"
    },
    "jupyter": {
     "source_hidden": true
    },
    "papermill": {
     "duration": 0.012664,
     "end_time": "2021-06-25T10:00:09.935102",
     "exception": false,
     "start_time": "2021-06-25T10:00:09.922438",
     "status": "completed"
    },
    "tags": [
     "injected-parameters"
    ]
   },
   "outputs": [],
   "source": [
    "# Parameters\n",
    "filepath = \"/tmp/avocado.csv\"\n",
    "n_estimators = 100\n",
    "max_features = \"auto\"\n",
    "ml_id = \"auto_100\"\n"
   ]
  },
  {
   "cell_type": "code",
   "execution_count": 5,
   "metadata": {
    "_uuid": "55d0e719eb8b91d763c1eacaf0f51ee0586486fc",
    "execution": {
     "iopub.execute_input": "2021-06-25T10:00:09.951349Z",
     "iopub.status.busy": "2021-06-25T10:00:09.950699Z",
     "iopub.status.idle": "2021-06-25T10:00:09.981326Z",
     "shell.execute_reply": "2021-06-25T10:00:09.980815Z"
    },
    "jupyter": {
     "source_hidden": true
    },
    "papermill": {
     "duration": 0.040804,
     "end_time": "2021-06-25T10:00:09.981540",
     "exception": false,
     "start_time": "2021-06-25T10:00:09.940736",
     "status": "completed"
    },
    "tags": []
   },
   "outputs": [],
   "source": [
    "df= pd.read_csv(filepath)"
   ]
  },
  {
   "cell_type": "markdown",
   "metadata": {
    "_uuid": "434e0457f550e2200424e5ec26162e1aa5904005",
    "papermill": {
     "duration": 0.005656,
     "end_time": "2021-06-25T10:00:09.992741",
     "exception": false,
     "start_time": "2021-06-25T10:00:09.987085",
     "status": "completed"
    },
    "tags": []
   },
   "source": [
    "The Feature \"Unnamed:0\" is just a representation of the indexes, so it's useless to keep it, lets remove it !"
   ]
  },
  {
   "cell_type": "code",
   "execution_count": 6,
   "metadata": {
    "_uuid": "9875398e37728dc3141fed4228be337a4735beb6",
    "execution": {
     "iopub.execute_input": "2021-06-25T10:00:10.009727Z",
     "iopub.status.busy": "2021-06-25T10:00:10.009131Z",
     "iopub.status.idle": "2021-06-25T10:00:10.011545Z",
     "shell.execute_reply": "2021-06-25T10:00:10.011905Z"
    },
    "jupyter": {
     "source_hidden": true
    },
    "papermill": {
     "duration": 0.013738,
     "end_time": "2021-06-25T10:00:10.012169",
     "exception": false,
     "start_time": "2021-06-25T10:00:09.998431",
     "status": "completed"
    },
    "tags": []
   },
   "outputs": [],
   "source": [
    "df.drop('Unnamed: 0',axis=1,inplace=True)"
   ]
  },
  {
   "cell_type": "markdown",
   "metadata": {
    "_uuid": "12e94ad381e4cb8d2c8a9bbe08ce07ab5d49c040",
    "papermill": {
     "duration": 0.005456,
     "end_time": "2021-06-25T10:00:10.023098",
     "exception": false,
     "start_time": "2021-06-25T10:00:10.017642",
     "status": "completed"
    },
    "tags": []
   },
   "source": [
    "well as a first observation we can see that we are lucky, we dont have any missing values (18249 complete data) and 13 columns.\n",
    "Now let's do some Feature Engineering on the Date Feature so we can be able to use the day and the month columns in building our machine learning model later. ( I didn't mention the year because its already there in data frame)"
   ]
  },
  {
   "cell_type": "code",
   "execution_count": 7,
   "metadata": {
    "_uuid": "f031639ce794656e877484d1c9c356df7028177f",
    "execution": {
     "iopub.execute_input": "2021-06-25T10:00:10.037839Z",
     "iopub.status.busy": "2021-06-25T10:00:10.037326Z",
     "iopub.status.idle": "2021-06-25T10:00:10.147899Z",
     "shell.execute_reply": "2021-06-25T10:00:10.148310Z"
    },
    "jupyter": {
     "source_hidden": true
    },
    "papermill": {
     "duration": 0.120731,
     "end_time": "2021-06-25T10:00:10.148502",
     "exception": false,
     "start_time": "2021-06-25T10:00:10.027771",
     "status": "completed"
    },
    "tags": []
   },
   "outputs": [],
   "source": [
    "df['Date']=pd.to_datetime(df['Date'])\n",
    "df['Month']=df['Date'].apply(lambda x:x.month)\n",
    "df['Day']=df['Date'].apply(lambda x:x.day)"
   ]
  },
  {
   "cell_type": "markdown",
   "metadata": {
    "_uuid": "ebdcac9924ce3e366fd3a75170682f7113385b7a",
    "papermill": {
     "duration": 0.005323,
     "end_time": "2021-06-25T10:00:10.159083",
     "exception": false,
     "start_time": "2021-06-25T10:00:10.153760",
     "status": "completed"
    },
    "tags": []
   },
   "source": [
    "as we can see we have 54 regions and 2 unique types, so it's going to be easy to to transform the type feature to dummies, but for the region its going to be a bit complexe so I decided to drop the entire column.\n",
    "I will drop the Date Feature as well because I already have 3 other columns for the Year, Month and Day."
   ]
  },
  {
   "cell_type": "code",
   "execution_count": 8,
   "metadata": {
    "_uuid": "a798682da34327b731ef262985fd50ba68e06460",
    "execution": {
     "iopub.execute_input": "2021-06-25T10:00:10.182686Z",
     "iopub.status.busy": "2021-06-25T10:00:10.177636Z",
     "iopub.status.idle": "2021-06-25T10:00:10.188076Z",
     "shell.execute_reply": "2021-06-25T10:00:10.187536Z"
    },
    "jupyter": {
     "source_hidden": true
    },
    "papermill": {
     "duration": 0.021026,
     "end_time": "2021-06-25T10:00:10.188296",
     "exception": false,
     "start_time": "2021-06-25T10:00:10.167270",
     "status": "completed"
    },
    "tags": []
   },
   "outputs": [],
   "source": [
    "df_final=pd.get_dummies(df.drop(['region','Date'],axis=1),drop_first=True)"
   ]
  },
  {
   "cell_type": "markdown",
   "metadata": {
    "_uuid": "8b74a6b88cb3e9b3e1d1e987e061048f203c7364",
    "papermill": {
     "duration": 0.00733,
     "end_time": "2021-06-25T10:00:10.201383",
     "exception": false,
     "start_time": "2021-06-25T10:00:10.194053",
     "status": "completed"
    },
    "tags": []
   },
   "source": [
    "Now our data are ready! lets apply our model which is going to be the Linear Regression because our Target variable 'AveragePrice'is continuous.\n",
    "Let's now begin to train out regression model! We will need to first split up our data into an X array that contains the features to train on, and a y array with the target variable"
   ]
  },
  {
   "cell_type": "code",
   "execution_count": 9,
   "metadata": {
    "_uuid": "830591f99de9715241e688bf9ce265e979401ff5",
    "execution": {
     "iopub.execute_input": "2021-06-25T10:00:10.219317Z",
     "iopub.status.busy": "2021-06-25T10:00:10.218654Z",
     "iopub.status.idle": "2021-06-25T10:00:10.228775Z",
     "shell.execute_reply": "2021-06-25T10:00:10.229246Z"
    },
    "jupyter": {
     "source_hidden": true
    },
    "papermill": {
     "duration": 0.021798,
     "end_time": "2021-06-25T10:00:10.229493",
     "exception": false,
     "start_time": "2021-06-25T10:00:10.207695",
     "status": "completed"
    },
    "tags": []
   },
   "outputs": [],
   "source": [
    "X=df_final.iloc[:,1:14]\n",
    "y=df_final['AveragePrice']\n",
    "from sklearn.model_selection import train_test_split\n",
    "X_train,X_test,y_train,y_test=train_test_split(X,y,test_size=0.2,random_state=42)"
   ]
  },
  {
   "cell_type": "markdown",
   "metadata": {
    "_uuid": "ea730c77a31cde9de98263079a189accb8b5772b",
    "papermill": {
     "duration": 0.005583,
     "end_time": "2021-06-25T10:00:10.240882",
     "exception": false,
     "start_time": "2021-06-25T10:00:10.235299",
     "status": "completed"
    },
    "tags": []
   },
   "source": [
    "Creating and Training the Model"
   ]
  },
  {
   "cell_type": "code",
   "execution_count": 10,
   "metadata": {
    "_uuid": "eb37015e78974e5fd2ae7e13d065c8ab0a9c6948",
    "execution": {
     "iopub.execute_input": "2021-06-25T10:00:10.257739Z",
     "iopub.status.busy": "2021-06-25T10:00:10.257061Z",
     "iopub.status.idle": "2021-06-25T10:00:18.645797Z",
     "shell.execute_reply": "2021-06-25T10:00:18.645004Z"
    },
    "jupyter": {
     "source_hidden": true
    },
    "papermill": {
     "duration": 8.399522,
     "end_time": "2021-06-25T10:00:18.646032",
     "exception": false,
     "start_time": "2021-06-25T10:00:10.246510",
     "status": "completed"
    },
    "tags": []
   },
   "outputs": [],
   "source": [
    "from sklearn.ensemble import RandomForestRegressor\n",
    "rdr = RandomForestRegressor(\n",
    "    n_estimators=n_estimators,\n",
    "    max_features=max_features\n",
    ")\n",
    "rdr.fit(X_train,y_train)\n",
    "pred=rdr.predict(X_test)"
   ]
  },
  {
   "cell_type": "code",
   "execution_count": 11,
   "metadata": {
    "_uuid": "7ed5b8d4e8abb44a4b548c13ac9fb2d65227d1c5",
    "execution": {
     "iopub.execute_input": "2021-06-25T10:00:18.665252Z",
     "iopub.status.busy": "2021-06-25T10:00:18.664530Z",
     "iopub.status.idle": "2021-06-25T10:00:18.667795Z",
     "shell.execute_reply": "2021-06-25T10:00:18.667340Z"
    },
    "jupyter": {
     "source_hidden": true
    },
    "papermill": {
     "duration": 0.014729,
     "end_time": "2021-06-25T10:00:18.668005",
     "exception": false,
     "start_time": "2021-06-25T10:00:18.653276",
     "status": "completed"
    },
    "tags": []
   },
   "outputs": [],
   "source": [
    "#%%capture cap --no-stderr\n",
    "#print(np.sqrt(mean_squared_error(y_test, pred)))"
   ]
  },
  {
   "cell_type": "code",
   "execution_count": 12,
   "metadata": {
    "execution": {
     "iopub.execute_input": "2021-06-25T10:00:18.684265Z",
     "iopub.status.busy": "2021-06-25T10:00:18.683621Z",
     "iopub.status.idle": "2021-06-25T10:00:18.686326Z",
     "shell.execute_reply": "2021-06-25T10:00:18.685844Z"
    },
    "jupyter": {
     "source_hidden": true
    },
    "papermill": {
     "duration": 0.012144,
     "end_time": "2021-06-25T10:00:18.686529",
     "exception": false,
     "start_time": "2021-06-25T10:00:18.674385",
     "status": "completed"
    },
    "tags": []
   },
   "outputs": [],
   "source": [
    "#with open(output_rmse, 'w') as f:\n",
    "#    f.write(cap.stdout)"
   ]
  },
  {
   "cell_type": "code",
   "execution_count": 13,
   "metadata": {
    "execution": {
     "iopub.execute_input": "2021-06-25T10:00:18.704839Z",
     "iopub.status.busy": "2021-06-25T10:00:18.704096Z",
     "iopub.status.idle": "2021-06-25T10:00:18.724257Z",
     "shell.execute_reply": "2021-06-25T10:00:18.724654Z"
    },
    "jupyter": {
     "source_hidden": true
    },
    "papermill": {
     "duration": 0.032449,
     "end_time": "2021-06-25T10:00:18.724894",
     "exception": false,
     "start_time": "2021-06-25T10:00:18.692445",
     "status": "completed"
    },
    "tags": []
   },
   "outputs": [
    {
     "data": {
      "text/plain": [
       "<sqlalchemy.engine.result.ResultProxy at 0x7f6c1c01b3d0>"
      ]
     },
     "execution_count": 13,
     "metadata": {},
     "output_type": "execute_result"
    }
   ],
   "source": [
    "cnx.execute(\"\"\"\n",
    "    INSERT INTO ml.accuracies (ml_id, ml_date, accuracy) VALUES ('{0}', '{1}', {2}) \n",
    "    ON CONFLICT (ml_id, ml_date) \n",
    "    DO\n",
    "        UPDATE SET accuracy = {2};\n",
    "    \"\"\".format(ml_id, ml_date, np.sqrt(mean_squared_error(y_test, pred))))"
   ]
  }
 ],
 "metadata": {
  "kernelspec": {
   "display_name": "Python 3",
   "language": "python",
   "name": "python3"
  },
  "language_info": {
   "codemirror_mode": {
    "name": "ipython",
    "version": 3
   },
   "file_extension": ".py",
   "mimetype": "text/x-python",
   "name": "python",
   "nbconvert_exporter": "python",
   "pygments_lexer": "ipython3",
   "version": "3.7.10"
  },
  "papermill": {
   "duration": 11.10508,
   "end_time": "2021-06-25T10:00:19.142772",
   "environment_variables": {},
   "exception": null,
   "input_path": "/usr/local/airflow/include/notebooks/avocado_prediction.ipynb",
   "output_path": "/tmp/out-model-avocado-prediction-auto_100.ipynb",
   "parameters": {
    "filepath": "/tmp/avocado.csv",
    "max_features": "auto",
    "ml_id": "auto_100",
    "n_estimators": 100
   },
   "start_time": "2021-06-25T10:00:08.037692",
   "version": "2.1.2"
  }
 },
 "nbformat": 4,
 "nbformat_minor": 4
}