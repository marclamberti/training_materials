{
 "cells": [
  {
   "cell_type": "code",
   "execution_count": 1,
   "metadata": {
    "_cell_guid": "79c7e3d0-c299-4dcb-8224-4455121ee9b0",
    "_uuid": "d629ff2d2480ee46fbb7e2d37f6b5fab8052498a",
    "execution": {
     "iopub.execute_input": "2021-06-23T15:20:08.649352Z",
     "iopub.status.busy": "2021-06-23T15:20:08.648494Z",
     "iopub.status.idle": "2021-06-23T15:20:09.450107Z",
     "shell.execute_reply": "2021-06-23T15:20:09.449442Z"
    },
    "jupyter": {
     "source_hidden": true
    },
    "papermill": {
     "duration": 0.816656,
     "end_time": "2021-06-23T15:20:09.450422",
     "exception": false,
     "start_time": "2021-06-23T15:20:08.633766",
     "status": "completed"
    },
    "tags": []
   },
   "outputs": [],
   "source": [
    "import pandas as pd\n",
    "import numpy as np\n",
    "from sqlalchemy import create_engine\n",
    "from datetime import date\n",
    "from sklearn.metrics import mean_squared_error"
   ]
  },
  {
   "cell_type": "code",
   "execution_count": 2,
   "metadata": {
    "execution": {
     "iopub.execute_input": "2021-06-23T15:20:09.473298Z",
     "iopub.status.busy": "2021-06-23T15:20:09.472644Z",
     "iopub.status.idle": "2021-06-23T15:20:09.506796Z",
     "shell.execute_reply": "2021-06-23T15:20:09.506254Z"
    },
    "jupyter": {
     "source_hidden": true
    },
    "papermill": {
     "duration": 0.049297,
     "end_time": "2021-06-23T15:20:09.507012",
     "exception": false,
     "start_time": "2021-06-23T15:20:09.457715",
     "status": "completed"
    },
    "tags": []
   },
   "outputs": [],
   "source": [
    "# THIS IS PURELY FOR TEST PURPOSE NEVER DO THAT IN PRODUCTION\n",
    "POSTGRES_ADDRESS='postgres'\n",
    "POSTGRES_PORT='5432'\n",
    "POSTGRES_USERNAME='postgres'\n",
    "POSTGRES_PASSWORD='postgres'\n",
    "\n",
    "postgres_conn = 'postgresql://{0}:{1}@{2}:{3}/'.format(POSTGRES_USERNAME, POSTGRES_PASSWORD, POSTGRES_ADDRESS, POSTGRES_PORT)\n",
    "\n",
    "# Create the connection\n",
    "cnx = create_engine(postgres_conn)\n"
   ]
  },
  {
   "cell_type": "markdown",
   "metadata": {
    "_uuid": "1998755ef10683262b29765345cff1c1c7d10b15",
    "papermill": {
     "duration": 0.005482,
     "end_time": "2021-06-23T15:20:09.517858",
     "exception": false,
     "start_time": "2021-06-23T15:20:09.512376",
     "status": "completed"
    },
    "tags": []
   },
   "source": [
    "Read in the Avocado Prices csv file as a DataFrame called df"
   ]
  },
  {
   "cell_type": "code",
   "execution_count": 3,
   "metadata": {
    "execution": {
     "iopub.execute_input": "2021-06-23T15:20:09.535151Z",
     "iopub.status.busy": "2021-06-23T15:20:09.534435Z",
     "iopub.status.idle": "2021-06-23T15:20:09.537417Z",
     "shell.execute_reply": "2021-06-23T15:20:09.537954Z"
    },
    "jupyter": {
     "source_hidden": true
    },
    "papermill": {
     "duration": 0.012974,
     "end_time": "2021-06-23T15:20:09.538324",
     "exception": false,
     "start_time": "2021-06-23T15:20:09.525350",
     "status": "completed"
    },
    "tags": [
     "parameters"
    ]
   },
   "outputs": [],
   "source": [
    "# Parameterized\n",
    "\n",
    "filepath='avocado.csv'\n",
    "ml_id='auto_100'\n",
    "ml_date=date.today()\n",
    "n_estimators = 100\n",
    "max_features = 'auto'"
   ]
  },
  {
   "cell_type": "code",
   "execution_count": 4,
   "id": "173d7077",
   "metadata": {
    "execution": {
     "iopub.execute_input": "2021-06-23T15:20:09.553452Z",
     "iopub.status.busy": "2021-06-23T15:20:09.552824Z",
     "iopub.status.idle": "2021-06-23T15:20:09.555320Z",
     "shell.execute_reply": "2021-06-23T15:20:09.555788Z"
    },
    "jupyter": {
     "source_hidden": true
    },
    "papermill": {
     "duration": 0.012117,
     "end_time": "2021-06-23T15:20:09.556022",
     "exception": false,
     "start_time": "2021-06-23T15:20:09.543905",
     "status": "completed"
    },
    "tags": [
     "injected-parameters"
    ]
   },
   "outputs": [],
   "source": [
    "# Parameters\n",
    "filepath = \"/tmp/avocado.csv\"\n",
    "n_estimators = 100\n",
    "max_features = \"auto\"\n",
    "ml_id = \"auto_100\"\n"
   ]
  },
  {
   "cell_type": "code",
   "execution_count": 5,
   "metadata": {
    "_uuid": "55d0e719eb8b91d763c1eacaf0f51ee0586486fc",
    "execution": {
     "iopub.execute_input": "2021-06-23T15:20:09.579302Z",
     "iopub.status.busy": "2021-06-23T15:20:09.578417Z",
     "iopub.status.idle": "2021-06-23T15:20:09.613868Z",
     "shell.execute_reply": "2021-06-23T15:20:09.613397Z"
    },
    "jupyter": {
     "source_hidden": true
    },
    "papermill": {
     "duration": 0.045893,
     "end_time": "2021-06-23T15:20:09.614082",
     "exception": false,
     "start_time": "2021-06-23T15:20:09.568189",
     "status": "completed"
    },
    "tags": []
   },
   "outputs": [],
   "source": [
    "df= pd.read_csv(filepath)"
   ]
  },
  {
   "cell_type": "markdown",
   "metadata": {
    "_uuid": "434e0457f550e2200424e5ec26162e1aa5904005",
    "papermill": {
     "duration": 0.007688,
     "end_time": "2021-06-23T15:20:09.628625",
     "exception": false,
     "start_time": "2021-06-23T15:20:09.620937",
     "status": "completed"
    },
    "tags": []
   },
   "source": [
    "The Feature \"Unnamed:0\" is just a representation of the indexes, so it's useless to keep it, lets remove it !"
   ]
  },
  {
   "cell_type": "code",
   "execution_count": 6,
   "metadata": {
    "_uuid": "9875398e37728dc3141fed4228be337a4735beb6",
    "execution": {
     "iopub.execute_input": "2021-06-23T15:20:09.649820Z",
     "iopub.status.busy": "2021-06-23T15:20:09.649242Z",
     "iopub.status.idle": "2021-06-23T15:20:09.651723Z",
     "shell.execute_reply": "2021-06-23T15:20:09.652203Z"
    },
    "jupyter": {
     "source_hidden": true
    },
    "papermill": {
     "duration": 0.017441,
     "end_time": "2021-06-23T15:20:09.652431",
     "exception": false,
     "start_time": "2021-06-23T15:20:09.634990",
     "status": "completed"
    },
    "tags": []
   },
   "outputs": [],
   "source": [
    "df.drop('Unnamed: 0',axis=1,inplace=True)"
   ]
  },
  {
   "cell_type": "markdown",
   "metadata": {
    "_uuid": "12e94ad381e4cb8d2c8a9bbe08ce07ab5d49c040",
    "papermill": {
     "duration": 0.007397,
     "end_time": "2021-06-23T15:20:09.665465",
     "exception": false,
     "start_time": "2021-06-23T15:20:09.658068",
     "status": "completed"
    },
    "tags": []
   },
   "source": [
    "well as a first observation we can see that we are lucky, we dont have any missing values (18249 complete data) and 13 columns.\n",
    "Now let's do some Feature Engineering on the Date Feature so we can be able to use the day and the month columns in building our machine learning model later. ( I didn't mention the year because its already there in data frame)"
   ]
  },
  {
   "cell_type": "code",
   "execution_count": 7,
   "metadata": {
    "_uuid": "f031639ce794656e877484d1c9c356df7028177f",
    "execution": {
     "iopub.execute_input": "2021-06-23T15:20:09.688471Z",
     "iopub.status.busy": "2021-06-23T15:20:09.687680Z",
     "iopub.status.idle": "2021-06-23T15:20:09.835533Z",
     "shell.execute_reply": "2021-06-23T15:20:09.834849Z"
    },
    "jupyter": {
     "source_hidden": true
    },
    "papermill": {
     "duration": 0.16433,
     "end_time": "2021-06-23T15:20:09.835774",
     "exception": false,
     "start_time": "2021-06-23T15:20:09.671444",
     "status": "completed"
    },
    "tags": []
   },
   "outputs": [],
   "source": [
    "df['Date']=pd.to_datetime(df['Date'])\n",
    "df['Month']=df['Date'].apply(lambda x:x.month)\n",
    "df['Day']=df['Date'].apply(lambda x:x.day)"
   ]
  },
  {
   "cell_type": "markdown",
   "metadata": {
    "_uuid": "ebdcac9924ce3e366fd3a75170682f7113385b7a",
    "papermill": {
     "duration": 0.006304,
     "end_time": "2021-06-23T15:20:09.850579",
     "exception": false,
     "start_time": "2021-06-23T15:20:09.844275",
     "status": "completed"
    },
    "tags": []
   },
   "source": [
    "as we can see we have 54 regions and 2 unique types, so it's going to be easy to to transform the type feature to dummies, but for the region its going to be a bit complexe so I decided to drop the entire column.\n",
    "I will drop the Date Feature as well because I already have 3 other columns for the Year, Month and Day."
   ]
  },
  {
   "cell_type": "code",
   "execution_count": 8,
   "metadata": {
    "_uuid": "a798682da34327b731ef262985fd50ba68e06460",
    "execution": {
     "iopub.execute_input": "2021-06-23T15:20:09.871471Z",
     "iopub.status.busy": "2021-06-23T15:20:09.870829Z",
     "iopub.status.idle": "2021-06-23T15:20:09.882532Z",
     "shell.execute_reply": "2021-06-23T15:20:09.883493Z"
    },
    "jupyter": {
     "source_hidden": true
    },
    "papermill": {
     "duration": 0.027892,
     "end_time": "2021-06-23T15:20:09.883841",
     "exception": false,
     "start_time": "2021-06-23T15:20:09.855949",
     "status": "completed"
    },
    "tags": []
   },
   "outputs": [],
   "source": [
    "df_final=pd.get_dummies(df.drop(['region','Date'],axis=1),drop_first=True)"
   ]
  },
  {
   "cell_type": "markdown",
   "metadata": {
    "_uuid": "8b74a6b88cb3e9b3e1d1e987e061048f203c7364",
    "papermill": {
     "duration": 0.005794,
     "end_time": "2021-06-23T15:20:09.896437",
     "exception": false,
     "start_time": "2021-06-23T15:20:09.890643",
     "status": "completed"
    },
    "tags": []
   },
   "source": [
    "Now our data are ready! lets apply our model which is going to be the Linear Regression because our Target variable 'AveragePrice'is continuous.\n",
    "Let's now begin to train out regression model! We will need to first split up our data into an X array that contains the features to train on, and a y array with the target variable"
   ]
  },
  {
   "cell_type": "code",
   "execution_count": 9,
   "metadata": {
    "_uuid": "830591f99de9715241e688bf9ce265e979401ff5",
    "execution": {
     "iopub.execute_input": "2021-06-23T15:20:09.915623Z",
     "iopub.status.busy": "2021-06-23T15:20:09.914848Z",
     "iopub.status.idle": "2021-06-23T15:20:09.929743Z",
     "shell.execute_reply": "2021-06-23T15:20:09.929230Z"
    },
    "jupyter": {
     "source_hidden": true
    },
    "papermill": {
     "duration": 0.026001,
     "end_time": "2021-06-23T15:20:09.929940",
     "exception": false,
     "start_time": "2021-06-23T15:20:09.903939",
     "status": "completed"
    },
    "tags": []
   },
   "outputs": [],
   "source": [
    "X=df_final.iloc[:,1:14]\n",
    "y=df_final['AveragePrice']\n",
    "from sklearn.model_selection import train_test_split\n",
    "X_train,X_test,y_train,y_test=train_test_split(X,y,test_size=0.2,random_state=42)"
   ]
  },
  {
   "cell_type": "markdown",
   "metadata": {
    "_uuid": "ea730c77a31cde9de98263079a189accb8b5772b",
    "papermill": {
     "duration": 0.007745,
     "end_time": "2021-06-23T15:20:09.943323",
     "exception": false,
     "start_time": "2021-06-23T15:20:09.935578",
     "status": "completed"
    },
    "tags": []
   },
   "source": [
    "Creating and Training the Model"
   ]
  },
  {
   "cell_type": "code",
   "execution_count": 10,
   "metadata": {
    "_uuid": "eb37015e78974e5fd2ae7e13d065c8ab0a9c6948",
    "execution": {
     "iopub.execute_input": "2021-06-23T15:20:09.964101Z",
     "iopub.status.busy": "2021-06-23T15:20:09.963410Z",
     "iopub.status.idle": "2021-06-23T15:20:19.637301Z",
     "shell.execute_reply": "2021-06-23T15:20:19.636358Z"
    },
    "jupyter": {
     "source_hidden": true
    },
    "papermill": {
     "duration": 9.687093,
     "end_time": "2021-06-23T15:20:19.637533",
     "exception": false,
     "start_time": "2021-06-23T15:20:09.950440",
     "status": "completed"
    },
    "tags": []
   },
   "outputs": [],
   "source": [
    "from sklearn.ensemble import RandomForestRegressor\n",
    "rdr = RandomForestRegressor(\n",
    "    n_estimators=n_estimators,\n",
    "    max_features=max_features\n",
    ")\n",
    "rdr.fit(X_train,y_train)\n",
    "pred=rdr.predict(X_test)"
   ]
  },
  {
   "cell_type": "code",
   "execution_count": 11,
   "metadata": {
    "_uuid": "7ed5b8d4e8abb44a4b548c13ac9fb2d65227d1c5",
    "execution": {
     "iopub.execute_input": "2021-06-23T15:20:19.654599Z",
     "iopub.status.busy": "2021-06-23T15:20:19.653959Z",
     "iopub.status.idle": "2021-06-23T15:20:19.658627Z",
     "shell.execute_reply": "2021-06-23T15:20:19.658032Z"
    },
    "jupyter": {
     "source_hidden": true
    },
    "papermill": {
     "duration": 0.015637,
     "end_time": "2021-06-23T15:20:19.658860",
     "exception": false,
     "start_time": "2021-06-23T15:20:19.643223",
     "status": "completed"
    },
    "tags": []
   },
   "outputs": [],
   "source": [
    "#%%capture cap --no-stderr\n",
    "#print(np.sqrt(mean_squared_error(y_test, pred)))"
   ]
  },
  {
   "cell_type": "code",
   "execution_count": 12,
   "metadata": {
    "execution": {
     "iopub.execute_input": "2021-06-23T15:20:19.677611Z",
     "iopub.status.busy": "2021-06-23T15:20:19.676841Z",
     "iopub.status.idle": "2021-06-23T15:20:19.679399Z",
     "shell.execute_reply": "2021-06-23T15:20:19.679774Z"
    },
    "jupyter": {
     "source_hidden": true
    },
    "papermill": {
     "duration": 0.015152,
     "end_time": "2021-06-23T15:20:19.680073",
     "exception": false,
     "start_time": "2021-06-23T15:20:19.664921",
     "status": "completed"
    },
    "tags": []
   },
   "outputs": [],
   "source": [
    "#with open(output_rmse, 'w') as f:\n",
    "#    f.write(cap.stdout)"
   ]
  },
  {
   "cell_type": "code",
   "execution_count": 13,
   "metadata": {
    "execution": {
     "iopub.execute_input": "2021-06-23T15:20:19.700787Z",
     "iopub.status.busy": "2021-06-23T15:20:19.700197Z",
     "iopub.status.idle": "2021-06-23T15:20:19.723390Z",
     "shell.execute_reply": "2021-06-23T15:20:19.722770Z"
    },
    "jupyter": {
     "source_hidden": true
    },
    "papermill": {
     "duration": 0.03806,
     "end_time": "2021-06-23T15:20:19.723610",
     "exception": false,
     "start_time": "2021-06-23T15:20:19.685550",
     "status": "completed"
    },
    "tags": []
   },
   "outputs": [
    {
     "data": {
      "text/plain": [
       "<sqlalchemy.engine.result.ResultProxy at 0x7f40414b2310>"
      ]
     },
     "execution_count": 13,
     "metadata": {},
     "output_type": "execute_result"
    }
   ],
   "source": [
    "cnx.execute(\"\"\"\n",
    "    INSERT INTO ml.accuracies (ml_id, ml_date, accuracy) VALUES ('{0}', '{1}', {2}) \n",
    "    ON CONFLICT (ml_id, ml_date) \n",
    "    DO\n",
    "        UPDATE SET accuracy = {2};\n",
    "    \"\"\".format(ml_id, ml_date, np.sqrt(mean_squared_error(y_test, pred))))"
   ]
  }
 ],
 "metadata": {
  "kernelspec": {
   "display_name": "Python 3",
   "language": "python",
   "name": "python3"
  },
  "language_info": {
   "codemirror_mode": {
    "name": "ipython",
    "version": 3
   },
   "file_extension": ".py",
   "mimetype": "text/x-python",
   "name": "python",
   "nbconvert_exporter": "python",
   "pygments_lexer": "ipython3",
   "version": "3.7.10"
  },
  "papermill": {
   "duration": 12.775538,
   "end_time": "2021-06-23T15:20:20.142586",
   "environment_variables": {},
   "exception": null,
   "input_path": "/usr/local/airflow/include/notebooks/avocado_prediction.ipynb",
   "output_path": "/tmp/out-model-avocado-prediction-auto_100.ipynb",
   "parameters": {
    "filepath": "/tmp/avocado.csv",
    "max_features": "auto",
    "ml_id": "auto_100",
    "n_estimators": 100
   },
   "start_time": "2021-06-23T15:20:07.367048",
   "version": "2.1.2"
  }
 },
 "nbformat": 4,
 "nbformat_minor": 4
}