{
 "cells": [
  {
   "cell_type": "code",
   "execution_count": 1,
   "metadata": {
    "_cell_guid": "79c7e3d0-c299-4dcb-8224-4455121ee9b0",
    "_uuid": "d629ff2d2480ee46fbb7e2d37f6b5fab8052498a",
    "execution": {
     "iopub.execute_input": "2021-06-24T16:30:09.761998Z",
     "iopub.status.busy": "2021-06-24T16:30:09.761340Z",
     "iopub.status.idle": "2021-06-24T16:30:10.442568Z",
     "shell.execute_reply": "2021-06-24T16:30:10.443137Z"
    },
    "jupyter": {
     "source_hidden": true
    },
    "papermill": {
     "duration": 0.694163,
     "end_time": "2021-06-24T16:30:10.443534",
     "exception": false,
     "start_time": "2021-06-24T16:30:09.749371",
     "status": "completed"
    },
    "tags": []
   },
   "outputs": [],
   "source": [
    "import pandas as pd\n",
    "import numpy as np\n",
    "from sqlalchemy import create_engine\n",
    "from datetime import date\n",
    "from sklearn.metrics import mean_squared_error"
   ]
  },
  {
   "cell_type": "code",
   "execution_count": 2,
   "metadata": {
    "execution": {
     "iopub.execute_input": "2021-06-24T16:30:10.462072Z",
     "iopub.status.busy": "2021-06-24T16:30:10.461442Z",
     "iopub.status.idle": "2021-06-24T16:30:10.491363Z",
     "shell.execute_reply": "2021-06-24T16:30:10.490904Z"
    },
    "jupyter": {
     "source_hidden": true
    },
    "papermill": {
     "duration": 0.040664,
     "end_time": "2021-06-24T16:30:10.491573",
     "exception": false,
     "start_time": "2021-06-24T16:30:10.450909",
     "status": "completed"
    },
    "tags": []
   },
   "outputs": [],
   "source": [
    "# THIS IS PURELY FOR TEST PURPOSE NEVER DO THAT IN PRODUCTION\n",
    "POSTGRES_ADDRESS='postgres'\n",
    "POSTGRES_PORT='5432'\n",
    "POSTGRES_USERNAME='postgres'\n",
    "POSTGRES_PASSWORD='postgres'\n",
    "\n",
    "postgres_conn = 'postgresql://{0}:{1}@{2}:{3}/'.format(POSTGRES_USERNAME, POSTGRES_PASSWORD, POSTGRES_ADDRESS, POSTGRES_PORT)\n",
    "\n",
    "# Create the connection\n",
    "cnx = create_engine(postgres_conn)\n"
   ]
  },
  {
   "cell_type": "markdown",
   "metadata": {
    "_uuid": "1998755ef10683262b29765345cff1c1c7d10b15",
    "papermill": {
     "duration": 0.005543,
     "end_time": "2021-06-24T16:30:10.502294",
     "exception": false,
     "start_time": "2021-06-24T16:30:10.496751",
     "status": "completed"
    },
    "tags": []
   },
   "source": [
    "Read in the Avocado Prices csv file as a DataFrame called df"
   ]
  },
  {
   "cell_type": "code",
   "execution_count": 3,
   "metadata": {
    "execution": {
     "iopub.execute_input": "2021-06-24T16:30:10.516950Z",
     "iopub.status.busy": "2021-06-24T16:30:10.516299Z",
     "iopub.status.idle": "2021-06-24T16:30:10.519089Z",
     "shell.execute_reply": "2021-06-24T16:30:10.518516Z"
    },
    "jupyter": {
     "source_hidden": true
    },
    "papermill": {
     "duration": 0.011997,
     "end_time": "2021-06-24T16:30:10.519293",
     "exception": false,
     "start_time": "2021-06-24T16:30:10.507296",
     "status": "completed"
    },
    "tags": [
     "parameters"
    ]
   },
   "outputs": [],
   "source": [
    "# Parameterized\n",
    "\n",
    "filepath='avocado.csv'\n",
    "ml_id='auto_100'\n",
    "ml_date=date.today()\n",
    "n_estimators = 100\n",
    "max_features = 'auto'"
   ]
  },
  {
   "cell_type": "code",
   "execution_count": 4,
   "id": "8bda1f98",
   "metadata": {
    "execution": {
     "iopub.execute_input": "2021-06-24T16:30:10.535166Z",
     "iopub.status.busy": "2021-06-24T16:30:10.534519Z",
     "iopub.status.idle": "2021-06-24T16:30:10.536772Z",
     "shell.execute_reply": "2021-06-24T16:30:10.537163Z"
    },
    "jupyter": {
     "source_hidden": true
    },
    "papermill": {
     "duration": 0.012769,
     "end_time": "2021-06-24T16:30:10.537394",
     "exception": false,
     "start_time": "2021-06-24T16:30:10.524625",
     "status": "completed"
    },
    "tags": [
     "injected-parameters"
    ]
   },
   "outputs": [],
   "source": [
    "# Parameters\n",
    "filepath = \"/tmp/avocado.csv\"\n",
    "n_estimators = 100\n",
    "max_features = \"auto\"\n",
    "ml_id = \"auto_100\"\n"
   ]
  },
  {
   "cell_type": "code",
   "execution_count": 5,
   "metadata": {
    "_uuid": "55d0e719eb8b91d763c1eacaf0f51ee0586486fc",
    "execution": {
     "iopub.execute_input": "2021-06-24T16:30:10.554685Z",
     "iopub.status.busy": "2021-06-24T16:30:10.554076Z",
     "iopub.status.idle": "2021-06-24T16:30:10.583963Z",
     "shell.execute_reply": "2021-06-24T16:30:10.583364Z"
    },
    "jupyter": {
     "source_hidden": true
    },
    "papermill": {
     "duration": 0.04126,
     "end_time": "2021-06-24T16:30:10.584168",
     "exception": false,
     "start_time": "2021-06-24T16:30:10.542908",
     "status": "completed"
    },
    "tags": []
   },
   "outputs": [],
   "source": [
    "df= pd.read_csv(filepath)"
   ]
  },
  {
   "cell_type": "markdown",
   "metadata": {
    "_uuid": "434e0457f550e2200424e5ec26162e1aa5904005",
    "papermill": {
     "duration": 0.005537,
     "end_time": "2021-06-24T16:30:10.595501",
     "exception": false,
     "start_time": "2021-06-24T16:30:10.589964",
     "status": "completed"
    },
    "tags": []
   },
   "source": [
    "The Feature \"Unnamed:0\" is just a representation of the indexes, so it's useless to keep it, lets remove it !"
   ]
  },
  {
   "cell_type": "code",
   "execution_count": 6,
   "metadata": {
    "_uuid": "9875398e37728dc3141fed4228be337a4735beb6",
    "execution": {
     "iopub.execute_input": "2021-06-24T16:30:10.612115Z",
     "iopub.status.busy": "2021-06-24T16:30:10.611459Z",
     "iopub.status.idle": "2021-06-24T16:30:10.614108Z",
     "shell.execute_reply": "2021-06-24T16:30:10.613666Z"
    },
    "jupyter": {
     "source_hidden": true
    },
    "papermill": {
     "duration": 0.013386,
     "end_time": "2021-06-24T16:30:10.614320",
     "exception": false,
     "start_time": "2021-06-24T16:30:10.600934",
     "status": "completed"
    },
    "tags": []
   },
   "outputs": [],
   "source": [
    "df.drop('Unnamed: 0',axis=1,inplace=True)"
   ]
  },
  {
   "cell_type": "markdown",
   "metadata": {
    "_uuid": "12e94ad381e4cb8d2c8a9bbe08ce07ab5d49c040",
    "papermill": {
     "duration": 0.005313,
     "end_time": "2021-06-24T16:30:10.625160",
     "exception": false,
     "start_time": "2021-06-24T16:30:10.619847",
     "status": "completed"
    },
    "tags": []
   },
   "source": [
    "well as a first observation we can see that we are lucky, we dont have any missing values (18249 complete data) and 13 columns.\n",
    "Now let's do some Feature Engineering on the Date Feature so we can be able to use the day and the month columns in building our machine learning model later. ( I didn't mention the year because its already there in data frame)"
   ]
  },
  {
   "cell_type": "code",
   "execution_count": 7,
   "metadata": {
    "_uuid": "f031639ce794656e877484d1c9c356df7028177f",
    "execution": {
     "iopub.execute_input": "2021-06-24T16:30:10.642247Z",
     "iopub.status.busy": "2021-06-24T16:30:10.641690Z",
     "iopub.status.idle": "2021-06-24T16:30:10.762446Z",
     "shell.execute_reply": "2021-06-24T16:30:10.761918Z"
    },
    "jupyter": {
     "source_hidden": true
    },
    "papermill": {
     "duration": 0.132534,
     "end_time": "2021-06-24T16:30:10.762625",
     "exception": false,
     "start_time": "2021-06-24T16:30:10.630091",
     "status": "completed"
    },
    "tags": []
   },
   "outputs": [],
   "source": [
    "df['Date']=pd.to_datetime(df['Date'])\n",
    "df['Month']=df['Date'].apply(lambda x:x.month)\n",
    "df['Day']=df['Date'].apply(lambda x:x.day)"
   ]
  },
  {
   "cell_type": "markdown",
   "metadata": {
    "_uuid": "ebdcac9924ce3e366fd3a75170682f7113385b7a",
    "papermill": {
     "duration": 0.004838,
     "end_time": "2021-06-24T16:30:10.774775",
     "exception": false,
     "start_time": "2021-06-24T16:30:10.769937",
     "status": "completed"
    },
    "tags": []
   },
   "source": [
    "as we can see we have 54 regions and 2 unique types, so it's going to be easy to to transform the type feature to dummies, but for the region its going to be a bit complexe so I decided to drop the entire column.\n",
    "I will drop the Date Feature as well because I already have 3 other columns for the Year, Month and Day."
   ]
  },
  {
   "cell_type": "code",
   "execution_count": 8,
   "metadata": {
    "_uuid": "a798682da34327b731ef262985fd50ba68e06460",
    "execution": {
     "iopub.execute_input": "2021-06-24T16:30:10.790411Z",
     "iopub.status.busy": "2021-06-24T16:30:10.789882Z",
     "iopub.status.idle": "2021-06-24T16:30:10.799729Z",
     "shell.execute_reply": "2021-06-24T16:30:10.798501Z"
    },
    "jupyter": {
     "source_hidden": true
    },
    "papermill": {
     "duration": 0.020041,
     "end_time": "2021-06-24T16:30:10.799964",
     "exception": false,
     "start_time": "2021-06-24T16:30:10.779923",
     "status": "completed"
    },
    "tags": []
   },
   "outputs": [],
   "source": [
    "df_final=pd.get_dummies(df.drop(['region','Date'],axis=1),drop_first=True)"
   ]
  },
  {
   "cell_type": "markdown",
   "metadata": {
    "_uuid": "8b74a6b88cb3e9b3e1d1e987e061048f203c7364",
    "papermill": {
     "duration": 0.004915,
     "end_time": "2021-06-24T16:30:10.810201",
     "exception": false,
     "start_time": "2021-06-24T16:30:10.805286",
     "status": "completed"
    },
    "tags": []
   },
   "source": [
    "Now our data are ready! lets apply our model which is going to be the Linear Regression because our Target variable 'AveragePrice'is continuous.\n",
    "Let's now begin to train out regression model! We will need to first split up our data into an X array that contains the features to train on, and a y array with the target variable"
   ]
  },
  {
   "cell_type": "code",
   "execution_count": 9,
   "metadata": {
    "_uuid": "830591f99de9715241e688bf9ce265e979401ff5",
    "execution": {
     "iopub.execute_input": "2021-06-24T16:30:10.830149Z",
     "iopub.status.busy": "2021-06-24T16:30:10.828964Z",
     "iopub.status.idle": "2021-06-24T16:30:10.840255Z",
     "shell.execute_reply": "2021-06-24T16:30:10.840705Z"
    },
    "jupyter": {
     "source_hidden": true
    },
    "papermill": {
     "duration": 0.02561,
     "end_time": "2021-06-24T16:30:10.840941",
     "exception": false,
     "start_time": "2021-06-24T16:30:10.815331",
     "status": "completed"
    },
    "tags": []
   },
   "outputs": [],
   "source": [
    "X=df_final.iloc[:,1:14]\n",
    "y=df_final['AveragePrice']\n",
    "from sklearn.model_selection import train_test_split\n",
    "X_train,X_test,y_train,y_test=train_test_split(X,y,test_size=0.2,random_state=42)"
   ]
  },
  {
   "cell_type": "markdown",
   "metadata": {
    "_uuid": "ea730c77a31cde9de98263079a189accb8b5772b",
    "papermill": {
     "duration": 0.005832,
     "end_time": "2021-06-24T16:30:10.852336",
     "exception": false,
     "start_time": "2021-06-24T16:30:10.846504",
     "status": "completed"
    },
    "tags": []
   },
   "source": [
    "Creating and Training the Model"
   ]
  },
  {
   "cell_type": "code",
   "execution_count": 10,
   "metadata": {
    "_uuid": "eb37015e78974e5fd2ae7e13d065c8ab0a9c6948",
    "execution": {
     "iopub.execute_input": "2021-06-24T16:30:10.869316Z",
     "iopub.status.busy": "2021-06-24T16:30:10.868680Z",
     "iopub.status.idle": "2021-06-24T16:30:19.326005Z",
     "shell.execute_reply": "2021-06-24T16:30:19.325447Z"
    },
    "jupyter": {
     "source_hidden": true
    },
    "papermill": {
     "duration": 8.468354,
     "end_time": "2021-06-24T16:30:19.326213",
     "exception": false,
     "start_time": "2021-06-24T16:30:10.857859",
     "status": "completed"
    },
    "tags": []
   },
   "outputs": [],
   "source": [
    "from sklearn.ensemble import RandomForestRegressor\n",
    "rdr = RandomForestRegressor(\n",
    "    n_estimators=n_estimators,\n",
    "    max_features=max_features\n",
    ")\n",
    "rdr.fit(X_train,y_train)\n",
    "pred=rdr.predict(X_test)"
   ]
  },
  {
   "cell_type": "code",
   "execution_count": 11,
   "metadata": {
    "_uuid": "7ed5b8d4e8abb44a4b548c13ac9fb2d65227d1c5",
    "execution": {
     "iopub.execute_input": "2021-06-24T16:30:19.341553Z",
     "iopub.status.busy": "2021-06-24T16:30:19.340966Z",
     "iopub.status.idle": "2021-06-24T16:30:19.344171Z",
     "shell.execute_reply": "2021-06-24T16:30:19.343491Z"
    },
    "jupyter": {
     "source_hidden": true
    },
    "papermill": {
     "duration": 0.012164,
     "end_time": "2021-06-24T16:30:19.344372",
     "exception": false,
     "start_time": "2021-06-24T16:30:19.332208",
     "status": "completed"
    },
    "tags": []
   },
   "outputs": [],
   "source": [
    "#%%capture cap --no-stderr\n",
    "#print(np.sqrt(mean_squared_error(y_test, pred)))"
   ]
  },
  {
   "cell_type": "code",
   "execution_count": 12,
   "metadata": {
    "execution": {
     "iopub.execute_input": "2021-06-24T16:30:19.359764Z",
     "iopub.status.busy": "2021-06-24T16:30:19.359113Z",
     "iopub.status.idle": "2021-06-24T16:30:19.362154Z",
     "shell.execute_reply": "2021-06-24T16:30:19.361666Z"
    },
    "jupyter": {
     "source_hidden": true
    },
    "papermill": {
     "duration": 0.012121,
     "end_time": "2021-06-24T16:30:19.362356",
     "exception": false,
     "start_time": "2021-06-24T16:30:19.350235",
     "status": "completed"
    },
    "tags": []
   },
   "outputs": [],
   "source": [
    "#with open(output_rmse, 'w') as f:\n",
    "#    f.write(cap.stdout)"
   ]
  },
  {
   "cell_type": "code",
   "execution_count": 13,
   "metadata": {
    "execution": {
     "iopub.execute_input": "2021-06-24T16:30:19.379033Z",
     "iopub.status.busy": "2021-06-24T16:30:19.378414Z",
     "iopub.status.idle": "2021-06-24T16:30:19.398449Z",
     "shell.execute_reply": "2021-06-24T16:30:19.398010Z"
    },
    "jupyter": {
     "source_hidden": true
    },
    "papermill": {
     "duration": 0.030511,
     "end_time": "2021-06-24T16:30:19.398694",
     "exception": false,
     "start_time": "2021-06-24T16:30:19.368183",
     "status": "completed"
    },
    "tags": []
   },
   "outputs": [
    {
     "data": {
      "text/plain": [
       "<sqlalchemy.engine.result.ResultProxy at 0x7f323215f090>"
      ]
     },
     "execution_count": 13,
     "metadata": {},
     "output_type": "execute_result"
    }
   ],
   "source": [
    "cnx.execute(\"\"\"\n",
    "    INSERT INTO ml.accuracies (ml_id, ml_date, accuracy) VALUES ('{0}', '{1}', {2}) \n",
    "    ON CONFLICT (ml_id, ml_date) \n",
    "    DO\n",
    "        UPDATE SET accuracy = {2};\n",
    "    \"\"\".format(ml_id, ml_date, np.sqrt(mean_squared_error(y_test, pred))))"
   ]
  }
 ],
 "metadata": {
  "kernelspec": {
   "display_name": "Python 3",
   "language": "python",
   "name": "python3"
  },
  "language_info": {
   "codemirror_mode": {
    "name": "ipython",
    "version": 3
   },
   "file_extension": ".py",
   "mimetype": "text/x-python",
   "name": "python",
   "nbconvert_exporter": "python",
   "pygments_lexer": "ipython3",
   "version": "3.7.10"
  },
  "papermill": {
   "duration": 11.313175,
   "end_time": "2021-06-24T16:30:19.813530",
   "environment_variables": {},
   "exception": null,
   "input_path": "/usr/local/airflow/include/notebooks/avocado_prediction.ipynb",
   "output_path": "/tmp/out-model-avocado-prediction-auto_100.ipynb",
   "parameters": {
    "filepath": "/tmp/avocado.csv",
    "max_features": "auto",
    "ml_id": "auto_100",
    "n_estimators": 100
   },
   "start_time": "2021-06-24T16:30:08.500355",
   "version": "2.1.2"
  }
 },
 "nbformat": 4,
 "nbformat_minor": 4
}