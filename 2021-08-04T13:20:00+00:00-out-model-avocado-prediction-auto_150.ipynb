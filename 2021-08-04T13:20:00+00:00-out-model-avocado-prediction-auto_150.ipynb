{
 "cells": [
  {
   "cell_type": "code",
   "execution_count": 1,
   "metadata": {
    "_cell_guid": "79c7e3d0-c299-4dcb-8224-4455121ee9b0",
    "_uuid": "d629ff2d2480ee46fbb7e2d37f6b5fab8052498a",
    "execution": {
     "iopub.execute_input": "2021-08-04T13:33:03.456059Z",
     "iopub.status.busy": "2021-08-04T13:33:03.455245Z",
     "iopub.status.idle": "2021-08-04T13:33:04.067338Z",
     "shell.execute_reply": "2021-08-04T13:33:04.066398Z"
    },
    "jupyter": {
     "source_hidden": true
    },
    "papermill": {
     "duration": 0.626587,
     "end_time": "2021-08-04T13:33:04.067603",
     "exception": false,
     "start_time": "2021-08-04T13:33:03.441016",
     "status": "completed"
    },
    "tags": []
   },
   "outputs": [],
   "source": [
    "import pandas as pd\n",
    "import numpy as np\n",
    "from sqlalchemy import create_engine\n",
    "from datetime import date\n",
    "from sklearn.metrics import mean_squared_error"
   ]
  },
  {
   "cell_type": "code",
   "execution_count": 2,
   "metadata": {
    "execution": {
     "iopub.execute_input": "2021-08-04T13:33:04.085451Z",
     "iopub.status.busy": "2021-08-04T13:33:04.084834Z",
     "iopub.status.idle": "2021-08-04T13:33:04.110757Z",
     "shell.execute_reply": "2021-08-04T13:33:04.110026Z"
    },
    "jupyter": {
     "source_hidden": true
    },
    "papermill": {
     "duration": 0.036972,
     "end_time": "2021-08-04T13:33:04.110973",
     "exception": false,
     "start_time": "2021-08-04T13:33:04.074001",
     "status": "completed"
    },
    "tags": []
   },
   "outputs": [],
   "source": [
    "# THIS IS PURELY FOR TEST PURPOSE NEVER DO THAT IN PRODUCTION\n",
    "POSTGRES_ADDRESS='postgres'\n",
    "POSTGRES_PORT='5432'\n",
    "POSTGRES_USERNAME='postgres'\n",
    "POSTGRES_PASSWORD='postgres'\n",
    "\n",
    "postgres_conn = 'postgresql://{0}:{1}@{2}:{3}/'.format(POSTGRES_USERNAME, POSTGRES_PASSWORD, POSTGRES_ADDRESS, POSTGRES_PORT)\n",
    "\n",
    "# Create the connection\n",
    "cnx = create_engine(postgres_conn)\n"
   ]
  },
  {
   "cell_type": "markdown",
   "metadata": {
    "_uuid": "1998755ef10683262b29765345cff1c1c7d10b15",
    "papermill": {
     "duration": 0.0051,
     "end_time": "2021-08-04T13:33:04.121283",
     "exception": false,
     "start_time": "2021-08-04T13:33:04.116183",
     "status": "completed"
    },
    "tags": []
   },
   "source": [
    "Read in the Avocado Prices csv file as a DataFrame called df"
   ]
  },
  {
   "cell_type": "code",
   "execution_count": 3,
   "metadata": {
    "execution": {
     "iopub.execute_input": "2021-08-04T13:33:04.135631Z",
     "iopub.status.busy": "2021-08-04T13:33:04.135075Z",
     "iopub.status.idle": "2021-08-04T13:33:04.137773Z",
     "shell.execute_reply": "2021-08-04T13:33:04.137378Z"
    },
    "jupyter": {
     "source_hidden": true
    },
    "papermill": {
     "duration": 0.01159,
     "end_time": "2021-08-04T13:33:04.137928",
     "exception": false,
     "start_time": "2021-08-04T13:33:04.126338",
     "status": "completed"
    },
    "tags": [
     "parameters"
    ]
   },
   "outputs": [],
   "source": [
    "# Parameterized\n",
    "\n",
    "filepath='avocado.csv'\n",
    "ml_id='auto_100'\n",
    "ml_date=date.today()\n",
    "n_estimators = 100\n",
    "max_features = 'auto'"
   ]
  },
  {
   "cell_type": "code",
   "execution_count": 4,
   "id": "8745687f",
   "metadata": {
    "execution": {
     "iopub.execute_input": "2021-08-04T13:33:04.150068Z",
     "iopub.status.busy": "2021-08-04T13:33:04.149528Z",
     "iopub.status.idle": "2021-08-04T13:33:04.152887Z",
     "shell.execute_reply": "2021-08-04T13:33:04.152465Z"
    },
    "jupyter": {
     "source_hidden": true
    },
    "papermill": {
     "duration": 0.011094,
     "end_time": "2021-08-04T13:33:04.153040",
     "exception": false,
     "start_time": "2021-08-04T13:33:04.141946",
     "status": "completed"
    },
    "tags": [
     "injected-parameters"
    ]
   },
   "outputs": [],
   "source": [
    "# Parameters\n",
    "filepath = \"/tmp/avocado.csv\"\n",
    "n_estimators = 150\n",
    "max_features = \"auto\"\n",
    "ml_id = \"auto_150\"\n"
   ]
  },
  {
   "cell_type": "code",
   "execution_count": 5,
   "metadata": {
    "_uuid": "55d0e719eb8b91d763c1eacaf0f51ee0586486fc",
    "execution": {
     "iopub.execute_input": "2021-08-04T13:33:04.166203Z",
     "iopub.status.busy": "2021-08-04T13:33:04.165671Z",
     "iopub.status.idle": "2021-08-04T13:33:04.191476Z",
     "shell.execute_reply": "2021-08-04T13:33:04.191115Z"
    },
    "jupyter": {
     "source_hidden": true
    },
    "papermill": {
     "duration": 0.034156,
     "end_time": "2021-08-04T13:33:04.191642",
     "exception": false,
     "start_time": "2021-08-04T13:33:04.157486",
     "status": "completed"
    },
    "tags": []
   },
   "outputs": [],
   "source": [
    "df= pd.read_csv(filepath)"
   ]
  },
  {
   "cell_type": "markdown",
   "metadata": {
    "_uuid": "434e0457f550e2200424e5ec26162e1aa5904005",
    "papermill": {
     "duration": 0.004727,
     "end_time": "2021-08-04T13:33:04.200935",
     "exception": false,
     "start_time": "2021-08-04T13:33:04.196208",
     "status": "completed"
    },
    "tags": []
   },
   "source": [
    "The Feature \"Unnamed:0\" is just a representation of the indexes, so it's useless to keep it, lets remove it !"
   ]
  },
  {
   "cell_type": "code",
   "execution_count": 6,
   "metadata": {
    "_uuid": "9875398e37728dc3141fed4228be337a4735beb6",
    "execution": {
     "iopub.execute_input": "2021-08-04T13:33:04.216556Z",
     "iopub.status.busy": "2021-08-04T13:33:04.216040Z",
     "iopub.status.idle": "2021-08-04T13:33:04.218905Z",
     "shell.execute_reply": "2021-08-04T13:33:04.218520Z"
    },
    "jupyter": {
     "source_hidden": true
    },
    "papermill": {
     "duration": 0.013257,
     "end_time": "2021-08-04T13:33:04.219098",
     "exception": false,
     "start_time": "2021-08-04T13:33:04.205841",
     "status": "completed"
    },
    "tags": []
   },
   "outputs": [],
   "source": [
    "df.drop('Unnamed: 0',axis=1,inplace=True)"
   ]
  },
  {
   "cell_type": "markdown",
   "metadata": {
    "_uuid": "12e94ad381e4cb8d2c8a9bbe08ce07ab5d49c040",
    "papermill": {
     "duration": 0.004239,
     "end_time": "2021-08-04T13:33:04.227475",
     "exception": false,
     "start_time": "2021-08-04T13:33:04.223236",
     "status": "completed"
    },
    "tags": []
   },
   "source": [
    "well as a first observation we can see that we are lucky, we dont have any missing values (18249 complete data) and 13 columns.\n",
    "Now let's do some Feature Engineering on the Date Feature so we can be able to use the day and the month columns in building our machine learning model later. ( I didn't mention the year because its already there in data frame)"
   ]
  },
  {
   "cell_type": "code",
   "execution_count": 7,
   "metadata": {
    "_uuid": "f031639ce794656e877484d1c9c356df7028177f",
    "execution": {
     "iopub.execute_input": "2021-08-04T13:33:04.341261Z",
     "iopub.status.busy": "2021-08-04T13:33:04.340465Z",
     "iopub.status.idle": "2021-08-04T13:33:04.461440Z",
     "shell.execute_reply": "2021-08-04T13:33:04.461038Z"
    },
    "jupyter": {
     "source_hidden": true
    },
    "papermill": {
     "duration": 0.136035,
     "end_time": "2021-08-04T13:33:04.461668",
     "exception": false,
     "start_time": "2021-08-04T13:33:04.325633",
     "status": "completed"
    },
    "tags": []
   },
   "outputs": [],
   "source": [
    "df['Date']=pd.to_datetime(df['Date'])\n",
    "df['Month']=df['Date'].apply(lambda x:x.month)\n",
    "df['Day']=df['Date'].apply(lambda x:x.day)"
   ]
  },
  {
   "cell_type": "markdown",
   "metadata": {
    "_uuid": "ebdcac9924ce3e366fd3a75170682f7113385b7a",
    "papermill": {
     "duration": 0.004419,
     "end_time": "2021-08-04T13:33:04.470589",
     "exception": false,
     "start_time": "2021-08-04T13:33:04.466170",
     "status": "completed"
    },
    "tags": []
   },
   "source": [
    "as we can see we have 54 regions and 2 unique types, so it's going to be easy to to transform the type feature to dummies, but for the region its going to be a bit complexe so I decided to drop the entire column.\n",
    "I will drop the Date Feature as well because I already have 3 other columns for the Year, Month and Day."
   ]
  },
  {
   "cell_type": "code",
   "execution_count": 8,
   "metadata": {
    "_uuid": "a798682da34327b731ef262985fd50ba68e06460",
    "execution": {
     "iopub.execute_input": "2021-08-04T13:33:04.483555Z",
     "iopub.status.busy": "2021-08-04T13:33:04.483070Z",
     "iopub.status.idle": "2021-08-04T13:33:04.492386Z",
     "shell.execute_reply": "2021-08-04T13:33:04.492009Z"
    },
    "jupyter": {
     "source_hidden": true
    },
    "papermill": {
     "duration": 0.017656,
     "end_time": "2021-08-04T13:33:04.492558",
     "exception": false,
     "start_time": "2021-08-04T13:33:04.474902",
     "status": "completed"
    },
    "tags": []
   },
   "outputs": [],
   "source": [
    "df_final=pd.get_dummies(df.drop(['region','Date'],axis=1),drop_first=True)"
   ]
  },
  {
   "cell_type": "markdown",
   "metadata": {
    "_uuid": "8b74a6b88cb3e9b3e1d1e987e061048f203c7364",
    "papermill": {
     "duration": 0.004647,
     "end_time": "2021-08-04T13:33:04.501965",
     "exception": false,
     "start_time": "2021-08-04T13:33:04.497318",
     "status": "completed"
    },
    "tags": []
   },
   "source": [
    "Now our data are ready! lets apply our model which is going to be the Linear Regression because our Target variable 'AveragePrice'is continuous.\n",
    "Let's now begin to train out regression model! We will need to first split up our data into an X array that contains the features to train on, and a y array with the target variable"
   ]
  },
  {
   "cell_type": "code",
   "execution_count": 9,
   "metadata": {
    "_uuid": "830591f99de9715241e688bf9ce265e979401ff5",
    "execution": {
     "iopub.execute_input": "2021-08-04T13:33:04.515098Z",
     "iopub.status.busy": "2021-08-04T13:33:04.514542Z",
     "iopub.status.idle": "2021-08-04T13:33:04.524698Z",
     "shell.execute_reply": "2021-08-04T13:33:04.524093Z"
    },
    "jupyter": {
     "source_hidden": true
    },
    "papermill": {
     "duration": 0.018717,
     "end_time": "2021-08-04T13:33:04.524880",
     "exception": false,
     "start_time": "2021-08-04T13:33:04.506163",
     "status": "completed"
    },
    "tags": []
   },
   "outputs": [],
   "source": [
    "X=df_final.iloc[:,1:14]\n",
    "y=df_final['AveragePrice']\n",
    "from sklearn.model_selection import train_test_split\n",
    "X_train,X_test,y_train,y_test=train_test_split(X,y,test_size=0.2,random_state=42)"
   ]
  },
  {
   "cell_type": "markdown",
   "metadata": {
    "_uuid": "ea730c77a31cde9de98263079a189accb8b5772b",
    "papermill": {
     "duration": 0.004406,
     "end_time": "2021-08-04T13:33:04.534351",
     "exception": false,
     "start_time": "2021-08-04T13:33:04.529945",
     "status": "completed"
    },
    "tags": []
   },
   "source": [
    "Creating and Training the Model"
   ]
  },
  {
   "cell_type": "code",
   "execution_count": 10,
   "metadata": {
    "_uuid": "eb37015e78974e5fd2ae7e13d065c8ab0a9c6948",
    "execution": {
     "iopub.execute_input": "2021-08-04T13:33:04.547970Z",
     "iopub.status.busy": "2021-08-04T13:33:04.547247Z",
     "iopub.status.idle": "2021-08-04T13:33:15.674608Z",
     "shell.execute_reply": "2021-08-04T13:33:15.674097Z"
    },
    "jupyter": {
     "source_hidden": true
    },
    "papermill": {
     "duration": 11.135668,
     "end_time": "2021-08-04T13:33:15.674817",
     "exception": false,
     "start_time": "2021-08-04T13:33:04.539149",
     "status": "completed"
    },
    "tags": []
   },
   "outputs": [],
   "source": [
    "from sklearn.ensemble import RandomForestRegressor\n",
    "rdr = RandomForestRegressor(\n",
    "    n_estimators=n_estimators,\n",
    "    max_features=max_features\n",
    ")\n",
    "rdr.fit(X_train,y_train)\n",
    "pred=rdr.predict(X_test)"
   ]
  },
  {
   "cell_type": "code",
   "execution_count": 11,
   "metadata": {
    "_uuid": "7ed5b8d4e8abb44a4b548c13ac9fb2d65227d1c5",
    "execution": {
     "iopub.execute_input": "2021-08-04T13:33:15.689936Z",
     "iopub.status.busy": "2021-08-04T13:33:15.689308Z",
     "iopub.status.idle": "2021-08-04T13:33:15.692634Z",
     "shell.execute_reply": "2021-08-04T13:33:15.692212Z"
    },
    "jupyter": {
     "source_hidden": true
    },
    "papermill": {
     "duration": 0.012223,
     "end_time": "2021-08-04T13:33:15.692873",
     "exception": false,
     "start_time": "2021-08-04T13:33:15.680650",
     "status": "completed"
    },
    "tags": []
   },
   "outputs": [],
   "source": [
    "#%%capture cap --no-stderr\n",
    "#print(np.sqrt(mean_squared_error(y_test, pred)))"
   ]
  },
  {
   "cell_type": "code",
   "execution_count": 12,
   "metadata": {
    "execution": {
     "iopub.execute_input": "2021-08-04T13:33:15.706997Z",
     "iopub.status.busy": "2021-08-04T13:33:15.706402Z",
     "iopub.status.idle": "2021-08-04T13:33:15.709327Z",
     "shell.execute_reply": "2021-08-04T13:33:15.708981Z"
    },
    "jupyter": {
     "source_hidden": true
    },
    "papermill": {
     "duration": 0.011226,
     "end_time": "2021-08-04T13:33:15.709489",
     "exception": false,
     "start_time": "2021-08-04T13:33:15.698263",
     "status": "completed"
    },
    "tags": []
   },
   "outputs": [],
   "source": [
    "#with open(output_rmse, 'w') as f:\n",
    "#    f.write(cap.stdout)"
   ]
  },
  {
   "cell_type": "code",
   "execution_count": 13,
   "metadata": {
    "execution": {
     "iopub.execute_input": "2021-08-04T13:33:15.723537Z",
     "iopub.status.busy": "2021-08-04T13:33:15.722687Z",
     "iopub.status.idle": "2021-08-04T13:33:15.748422Z",
     "shell.execute_reply": "2021-08-04T13:33:15.747980Z"
    },
    "jupyter": {
     "source_hidden": true
    },
    "papermill": {
     "duration": 0.034492,
     "end_time": "2021-08-04T13:33:15.748729",
     "exception": false,
     "start_time": "2021-08-04T13:33:15.714237",
     "status": "completed"
    },
    "tags": []
   },
   "outputs": [
    {
     "data": {
      "text/plain": [
       "<sqlalchemy.engine.result.ResultProxy at 0x7fe1bc2ab310>"
      ]
     },
     "execution_count": 13,
     "metadata": {},
     "output_type": "execute_result"
    }
   ],
   "source": [
    "cnx.execute(\"\"\"\n",
    "    INSERT INTO ml.accuracies (ml_id, ml_date, accuracy) VALUES ('{0}', '{1}', {2}) \n",
    "    ON CONFLICT (ml_id, ml_date) \n",
    "    DO\n",
    "        UPDATE SET accuracy = {2};\n",
    "    \"\"\".format(ml_id, ml_date, np.sqrt(mean_squared_error(y_test, pred))))"
   ]
  }
 ],
 "metadata": {
  "kernelspec": {
   "display_name": "Python 3",
   "language": "python",
   "name": "python3"
  },
  "language_info": {
   "codemirror_mode": {
    "name": "ipython",
    "version": 3
   },
   "file_extension": ".py",
   "mimetype": "text/x-python",
   "name": "python",
   "nbconvert_exporter": "python",
   "pygments_lexer": "ipython3",
   "version": "3.7.10"
  },
  "papermill": {
   "duration": 13.776462,
   "end_time": "2021-08-04T13:33:16.165216",
   "environment_variables": {},
   "exception": null,
   "input_path": "/usr/local/airflow/include/notebooks/avocado_prediction.ipynb",
   "output_path": "/tmp/out-model-avocado-prediction-auto_150.ipynb",
   "parameters": {
    "filepath": "/tmp/avocado.csv",
    "max_features": "auto",
    "ml_id": "auto_150",
    "n_estimators": 150
   },
   "start_time": "2021-08-04T13:33:02.388754",
   "version": "2.1.2"
  }
 },
 "nbformat": 4,
 "nbformat_minor": 4
}