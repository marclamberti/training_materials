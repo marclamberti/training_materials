{
 "cells": [
  {
   "cell_type": "code",
   "execution_count": 1,
   "metadata": {
    "_cell_guid": "79c7e3d0-c299-4dcb-8224-4455121ee9b0",
    "_uuid": "d629ff2d2480ee46fbb7e2d37f6b5fab8052498a",
    "execution": {
     "iopub.execute_input": "2021-06-25T12:20:09.551094Z",
     "iopub.status.busy": "2021-06-25T12:20:09.550372Z",
     "iopub.status.idle": "2021-06-25T12:20:10.187579Z",
     "shell.execute_reply": "2021-06-25T12:20:10.186877Z"
    },
    "jupyter": {
     "source_hidden": true
    },
    "papermill": {
     "duration": 0.651966,
     "end_time": "2021-06-25T12:20:10.187850",
     "exception": false,
     "start_time": "2021-06-25T12:20:09.535884",
     "status": "completed"
    },
    "tags": []
   },
   "outputs": [],
   "source": [
    "import pandas as pd\n",
    "import numpy as np\n",
    "from sqlalchemy import create_engine\n",
    "from datetime import date\n",
    "from sklearn.metrics import mean_squared_error"
   ]
  },
  {
   "cell_type": "code",
   "execution_count": 2,
   "metadata": {
    "execution": {
     "iopub.execute_input": "2021-06-25T12:20:10.206063Z",
     "iopub.status.busy": "2021-06-25T12:20:10.205474Z",
     "iopub.status.idle": "2021-06-25T12:20:10.231033Z",
     "shell.execute_reply": "2021-06-25T12:20:10.230573Z"
    },
    "jupyter": {
     "source_hidden": true
    },
    "papermill": {
     "duration": 0.03657,
     "end_time": "2021-06-25T12:20:10.231289",
     "exception": false,
     "start_time": "2021-06-25T12:20:10.194719",
     "status": "completed"
    },
    "tags": []
   },
   "outputs": [],
   "source": [
    "# THIS IS PURELY FOR TEST PURPOSE NEVER DO THAT IN PRODUCTION\n",
    "POSTGRES_ADDRESS='postgres'\n",
    "POSTGRES_PORT='5432'\n",
    "POSTGRES_USERNAME='postgres'\n",
    "POSTGRES_PASSWORD='postgres'\n",
    "\n",
    "postgres_conn = 'postgresql://{0}:{1}@{2}:{3}/'.format(POSTGRES_USERNAME, POSTGRES_PASSWORD, POSTGRES_ADDRESS, POSTGRES_PORT)\n",
    "\n",
    "# Create the connection\n",
    "cnx = create_engine(postgres_conn)\n"
   ]
  },
  {
   "cell_type": "markdown",
   "metadata": {
    "_uuid": "1998755ef10683262b29765345cff1c1c7d10b15",
    "papermill": {
     "duration": 0.005296,
     "end_time": "2021-06-25T12:20:10.241776",
     "exception": false,
     "start_time": "2021-06-25T12:20:10.236480",
     "status": "completed"
    },
    "tags": []
   },
   "source": [
    "Read in the Avocado Prices csv file as a DataFrame called df"
   ]
  },
  {
   "cell_type": "code",
   "execution_count": 3,
   "metadata": {
    "execution": {
     "iopub.execute_input": "2021-06-25T12:20:10.256472Z",
     "iopub.status.busy": "2021-06-25T12:20:10.255742Z",
     "iopub.status.idle": "2021-06-25T12:20:10.258596Z",
     "shell.execute_reply": "2021-06-25T12:20:10.258116Z"
    },
    "jupyter": {
     "source_hidden": true
    },
    "papermill": {
     "duration": 0.011976,
     "end_time": "2021-06-25T12:20:10.258779",
     "exception": false,
     "start_time": "2021-06-25T12:20:10.246803",
     "status": "completed"
    },
    "tags": [
     "parameters"
    ]
   },
   "outputs": [],
   "source": [
    "# Parameterized\n",
    "\n",
    "filepath='avocado.csv'\n",
    "ml_id='auto_100'\n",
    "ml_date=date.today()\n",
    "n_estimators = 100\n",
    "max_features = 'auto'"
   ]
  },
  {
   "cell_type": "code",
   "execution_count": 4,
   "id": "8bcbfdaa",
   "metadata": {
    "execution": {
     "iopub.execute_input": "2021-06-25T12:20:10.272370Z",
     "iopub.status.busy": "2021-06-25T12:20:10.271791Z",
     "iopub.status.idle": "2021-06-25T12:20:10.274425Z",
     "shell.execute_reply": "2021-06-25T12:20:10.274035Z"
    },
    "jupyter": {
     "source_hidden": true
    },
    "papermill": {
     "duration": 0.010745,
     "end_time": "2021-06-25T12:20:10.274580",
     "exception": false,
     "start_time": "2021-06-25T12:20:10.263835",
     "status": "completed"
    },
    "tags": [
     "injected-parameters"
    ]
   },
   "outputs": [],
   "source": [
    "# Parameters\n",
    "filepath = \"/tmp/avocado.csv\"\n",
    "n_estimators = 100\n",
    "max_features = \"auto\"\n",
    "ml_id = \"auto_100\"\n"
   ]
  },
  {
   "cell_type": "code",
   "execution_count": 5,
   "metadata": {
    "_uuid": "55d0e719eb8b91d763c1eacaf0f51ee0586486fc",
    "execution": {
     "iopub.execute_input": "2021-06-25T12:20:10.289339Z",
     "iopub.status.busy": "2021-06-25T12:20:10.288763Z",
     "iopub.status.idle": "2021-06-25T12:20:10.314102Z",
     "shell.execute_reply": "2021-06-25T12:20:10.314707Z"
    },
    "jupyter": {
     "source_hidden": true
    },
    "papermill": {
     "duration": 0.034624,
     "end_time": "2021-06-25T12:20:10.314914",
     "exception": false,
     "start_time": "2021-06-25T12:20:10.280290",
     "status": "completed"
    },
    "tags": []
   },
   "outputs": [],
   "source": [
    "df= pd.read_csv(filepath)"
   ]
  },
  {
   "cell_type": "markdown",
   "metadata": {
    "_uuid": "434e0457f550e2200424e5ec26162e1aa5904005",
    "papermill": {
     "duration": 0.004407,
     "end_time": "2021-06-25T12:20:10.324113",
     "exception": false,
     "start_time": "2021-06-25T12:20:10.319706",
     "status": "completed"
    },
    "tags": []
   },
   "source": [
    "The Feature \"Unnamed:0\" is just a representation of the indexes, so it's useless to keep it, lets remove it !"
   ]
  },
  {
   "cell_type": "code",
   "execution_count": 6,
   "metadata": {
    "_uuid": "9875398e37728dc3141fed4228be337a4735beb6",
    "execution": {
     "iopub.execute_input": "2021-06-25T12:20:10.339083Z",
     "iopub.status.busy": "2021-06-25T12:20:10.338588Z",
     "iopub.status.idle": "2021-06-25T12:20:10.341467Z",
     "shell.execute_reply": "2021-06-25T12:20:10.341080Z"
    },
    "jupyter": {
     "source_hidden": true
    },
    "papermill": {
     "duration": 0.012938,
     "end_time": "2021-06-25T12:20:10.341627",
     "exception": false,
     "start_time": "2021-06-25T12:20:10.328689",
     "status": "completed"
    },
    "tags": []
   },
   "outputs": [],
   "source": [
    "df.drop('Unnamed: 0',axis=1,inplace=True)"
   ]
  },
  {
   "cell_type": "markdown",
   "metadata": {
    "_uuid": "12e94ad381e4cb8d2c8a9bbe08ce07ab5d49c040",
    "papermill": {
     "duration": 0.004435,
     "end_time": "2021-06-25T12:20:10.350367",
     "exception": false,
     "start_time": "2021-06-25T12:20:10.345932",
     "status": "completed"
    },
    "tags": []
   },
   "source": [
    "well as a first observation we can see that we are lucky, we dont have any missing values (18249 complete data) and 13 columns.\n",
    "Now let's do some Feature Engineering on the Date Feature so we can be able to use the day and the month columns in building our machine learning model later. ( I didn't mention the year because its already there in data frame)"
   ]
  },
  {
   "cell_type": "code",
   "execution_count": 7,
   "metadata": {
    "_uuid": "f031639ce794656e877484d1c9c356df7028177f",
    "execution": {
     "iopub.execute_input": "2021-06-25T12:20:10.363969Z",
     "iopub.status.busy": "2021-06-25T12:20:10.363496Z",
     "iopub.status.idle": "2021-06-25T12:20:10.470620Z",
     "shell.execute_reply": "2021-06-25T12:20:10.469941Z"
    },
    "jupyter": {
     "source_hidden": true
    },
    "papermill": {
     "duration": 0.116086,
     "end_time": "2021-06-25T12:20:10.470851",
     "exception": false,
     "start_time": "2021-06-25T12:20:10.354765",
     "status": "completed"
    },
    "tags": []
   },
   "outputs": [],
   "source": [
    "df['Date']=pd.to_datetime(df['Date'])\n",
    "df['Month']=df['Date'].apply(lambda x:x.month)\n",
    "df['Day']=df['Date'].apply(lambda x:x.day)"
   ]
  },
  {
   "cell_type": "markdown",
   "metadata": {
    "_uuid": "ebdcac9924ce3e366fd3a75170682f7113385b7a",
    "papermill": {
     "duration": 0.004642,
     "end_time": "2021-06-25T12:20:10.480910",
     "exception": false,
     "start_time": "2021-06-25T12:20:10.476268",
     "status": "completed"
    },
    "tags": []
   },
   "source": [
    "as we can see we have 54 regions and 2 unique types, so it's going to be easy to to transform the type feature to dummies, but for the region its going to be a bit complexe so I decided to drop the entire column.\n",
    "I will drop the Date Feature as well because I already have 3 other columns for the Year, Month and Day."
   ]
  },
  {
   "cell_type": "code",
   "execution_count": 8,
   "metadata": {
    "_uuid": "a798682da34327b731ef262985fd50ba68e06460",
    "execution": {
     "iopub.execute_input": "2021-06-25T12:20:10.499424Z",
     "iopub.status.busy": "2021-06-25T12:20:10.494624Z",
     "iopub.status.idle": "2021-06-25T12:20:10.503947Z",
     "shell.execute_reply": "2021-06-25T12:20:10.503590Z"
    },
    "jupyter": {
     "source_hidden": true
    },
    "papermill": {
     "duration": 0.018134,
     "end_time": "2021-06-25T12:20:10.504112",
     "exception": false,
     "start_time": "2021-06-25T12:20:10.485978",
     "status": "completed"
    },
    "tags": []
   },
   "outputs": [],
   "source": [
    "df_final=pd.get_dummies(df.drop(['region','Date'],axis=1),drop_first=True)"
   ]
  },
  {
   "cell_type": "markdown",
   "metadata": {
    "_uuid": "8b74a6b88cb3e9b3e1d1e987e061048f203c7364",
    "papermill": {
     "duration": 0.004596,
     "end_time": "2021-06-25T12:20:10.513566",
     "exception": false,
     "start_time": "2021-06-25T12:20:10.508970",
     "status": "completed"
    },
    "tags": []
   },
   "source": [
    "Now our data are ready! lets apply our model which is going to be the Linear Regression because our Target variable 'AveragePrice'is continuous.\n",
    "Let's now begin to train out regression model! We will need to first split up our data into an X array that contains the features to train on, and a y array with the target variable"
   ]
  },
  {
   "cell_type": "code",
   "execution_count": 9,
   "metadata": {
    "_uuid": "830591f99de9715241e688bf9ce265e979401ff5",
    "execution": {
     "iopub.execute_input": "2021-06-25T12:20:10.528109Z",
     "iopub.status.busy": "2021-06-25T12:20:10.527615Z",
     "iopub.status.idle": "2021-06-25T12:20:10.538092Z",
     "shell.execute_reply": "2021-06-25T12:20:10.537575Z"
    },
    "jupyter": {
     "source_hidden": true
    },
    "papermill": {
     "duration": 0.02037,
     "end_time": "2021-06-25T12:20:10.538509",
     "exception": false,
     "start_time": "2021-06-25T12:20:10.518139",
     "status": "completed"
    },
    "tags": []
   },
   "outputs": [],
   "source": [
    "X=df_final.iloc[:,1:14]\n",
    "y=df_final['AveragePrice']\n",
    "from sklearn.model_selection import train_test_split\n",
    "X_train,X_test,y_train,y_test=train_test_split(X,y,test_size=0.2,random_state=42)"
   ]
  },
  {
   "cell_type": "markdown",
   "metadata": {
    "_uuid": "ea730c77a31cde9de98263079a189accb8b5772b",
    "papermill": {
     "duration": 0.004761,
     "end_time": "2021-06-25T12:20:10.548822",
     "exception": false,
     "start_time": "2021-06-25T12:20:10.544061",
     "status": "completed"
    },
    "tags": []
   },
   "source": [
    "Creating and Training the Model"
   ]
  },
  {
   "cell_type": "code",
   "execution_count": 10,
   "metadata": {
    "_uuid": "eb37015e78974e5fd2ae7e13d065c8ab0a9c6948",
    "execution": {
     "iopub.execute_input": "2021-06-25T12:20:10.562816Z",
     "iopub.status.busy": "2021-06-25T12:20:10.562097Z",
     "iopub.status.idle": "2021-06-25T12:20:18.314926Z",
     "shell.execute_reply": "2021-06-25T12:20:18.314151Z"
    },
    "jupyter": {
     "source_hidden": true
    },
    "papermill": {
     "duration": 7.761673,
     "end_time": "2021-06-25T12:20:18.315150",
     "exception": false,
     "start_time": "2021-06-25T12:20:10.553477",
     "status": "completed"
    },
    "tags": []
   },
   "outputs": [],
   "source": [
    "from sklearn.ensemble import RandomForestRegressor\n",
    "rdr = RandomForestRegressor(\n",
    "    n_estimators=n_estimators,\n",
    "    max_features=max_features\n",
    ")\n",
    "rdr.fit(X_train,y_train)\n",
    "pred=rdr.predict(X_test)"
   ]
  },
  {
   "cell_type": "code",
   "execution_count": 11,
   "metadata": {
    "_uuid": "7ed5b8d4e8abb44a4b548c13ac9fb2d65227d1c5",
    "execution": {
     "iopub.execute_input": "2021-06-25T12:20:18.331115Z",
     "iopub.status.busy": "2021-06-25T12:20:18.330503Z",
     "iopub.status.idle": "2021-06-25T12:20:18.333695Z",
     "shell.execute_reply": "2021-06-25T12:20:18.333257Z"
    },
    "jupyter": {
     "source_hidden": true
    },
    "papermill": {
     "duration": 0.012323,
     "end_time": "2021-06-25T12:20:18.333896",
     "exception": false,
     "start_time": "2021-06-25T12:20:18.321573",
     "status": "completed"
    },
    "tags": []
   },
   "outputs": [],
   "source": [
    "#%%capture cap --no-stderr\n",
    "#print(np.sqrt(mean_squared_error(y_test, pred)))"
   ]
  },
  {
   "cell_type": "code",
   "execution_count": 12,
   "metadata": {
    "execution": {
     "iopub.execute_input": "2021-06-25T12:20:18.349411Z",
     "iopub.status.busy": "2021-06-25T12:20:18.348652Z",
     "iopub.status.idle": "2021-06-25T12:20:18.351616Z",
     "shell.execute_reply": "2021-06-25T12:20:18.351142Z"
    },
    "jupyter": {
     "source_hidden": true
    },
    "papermill": {
     "duration": 0.011996,
     "end_time": "2021-06-25T12:20:18.351812",
     "exception": false,
     "start_time": "2021-06-25T12:20:18.339816",
     "status": "completed"
    },
    "tags": []
   },
   "outputs": [],
   "source": [
    "#with open(output_rmse, 'w') as f:\n",
    "#    f.write(cap.stdout)"
   ]
  },
  {
   "cell_type": "code",
   "execution_count": 13,
   "metadata": {
    "execution": {
     "iopub.execute_input": "2021-06-25T12:20:18.367674Z",
     "iopub.status.busy": "2021-06-25T12:20:18.366884Z",
     "iopub.status.idle": "2021-06-25T12:20:18.385231Z",
     "shell.execute_reply": "2021-06-25T12:20:18.384689Z"
    },
    "jupyter": {
     "source_hidden": true
    },
    "papermill": {
     "duration": 0.028022,
     "end_time": "2021-06-25T12:20:18.385403",
     "exception": false,
     "start_time": "2021-06-25T12:20:18.357381",
     "status": "completed"
    },
    "tags": []
   },
   "outputs": [
    {
     "data": {
      "text/plain": [
       "<sqlalchemy.engine.result.ResultProxy at 0x7f665107ea10>"
      ]
     },
     "execution_count": 13,
     "metadata": {},
     "output_type": "execute_result"
    }
   ],
   "source": [
    "cnx.execute(\"\"\"\n",
    "    INSERT INTO ml.accuracies (ml_id, ml_date, accuracy) VALUES ('{0}', '{1}', {2}) \n",
    "    ON CONFLICT (ml_id, ml_date) \n",
    "    DO\n",
    "        UPDATE SET accuracy = {2};\n",
    "    \"\"\".format(ml_id, ml_date, np.sqrt(mean_squared_error(y_test, pred))))"
   ]
  }
 ],
 "metadata": {
  "kernelspec": {
   "display_name": "Python 3",
   "language": "python",
   "name": "python3"
  },
  "language_info": {
   "codemirror_mode": {
    "name": "ipython",
    "version": 3
   },
   "file_extension": ".py",
   "mimetype": "text/x-python",
   "name": "python",
   "nbconvert_exporter": "python",
   "pygments_lexer": "ipython3",
   "version": "3.7.10"
  },
  "papermill": {
   "duration": 11.385354,
   "end_time": "2021-06-25T12:20:19.775176",
   "environment_variables": {},
   "exception": null,
   "input_path": "/usr/local/airflow/include/notebooks/avocado_prediction.ipynb",
   "output_path": "/tmp/out-model-avocado-prediction-auto_100.ipynb",
   "parameters": {
    "filepath": "/tmp/avocado.csv",
    "max_features": "auto",
    "ml_id": "auto_100",
    "n_estimators": 100
   },
   "start_time": "2021-06-25T12:20:08.389822",
   "version": "2.1.2"
  }
 },
 "nbformat": 4,
 "nbformat_minor": 4
}