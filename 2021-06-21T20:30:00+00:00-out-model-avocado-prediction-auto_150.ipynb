{
 "cells": [
  {
   "cell_type": "code",
   "execution_count": 1,
   "metadata": {
    "_cell_guid": "79c7e3d0-c299-4dcb-8224-4455121ee9b0",
    "_uuid": "d629ff2d2480ee46fbb7e2d37f6b5fab8052498a",
    "execution": {
     "iopub.execute_input": "2021-06-23T15:16:12.594865Z",
     "iopub.status.busy": "2021-06-23T15:16:12.593762Z",
     "iopub.status.idle": "2021-06-23T15:16:13.762445Z",
     "shell.execute_reply": "2021-06-23T15:16:13.763108Z"
    },
    "jupyter": {
     "source_hidden": true
    },
    "papermill": {
     "duration": 1.216137,
     "end_time": "2021-06-23T15:16:13.763368",
     "exception": false,
     "start_time": "2021-06-23T15:16:12.547231",
     "status": "completed"
    },
    "tags": []
   },
   "outputs": [],
   "source": [
    "import pandas as pd\n",
    "import numpy as np\n",
    "from sqlalchemy import create_engine\n",
    "from datetime import date\n",
    "from sklearn.metrics import mean_squared_error"
   ]
  },
  {
   "cell_type": "code",
   "execution_count": 2,
   "metadata": {
    "execution": {
     "iopub.execute_input": "2021-06-23T15:16:13.786950Z",
     "iopub.status.busy": "2021-06-23T15:16:13.786104Z",
     "iopub.status.idle": "2021-06-23T15:16:13.827218Z",
     "shell.execute_reply": "2021-06-23T15:16:13.824231Z"
    },
    "jupyter": {
     "source_hidden": true
    },
    "papermill": {
     "duration": 0.055328,
     "end_time": "2021-06-23T15:16:13.827519",
     "exception": false,
     "start_time": "2021-06-23T15:16:13.772191",
     "status": "completed"
    },
    "tags": []
   },
   "outputs": [],
   "source": [
    "# THIS IS PURELY FOR TEST PURPOSE NEVER DO THAT IN PRODUCTION\n",
    "POSTGRES_ADDRESS='postgres'\n",
    "POSTGRES_PORT='5432'\n",
    "POSTGRES_USERNAME='postgres'\n",
    "POSTGRES_PASSWORD='postgres'\n",
    "\n",
    "postgres_conn = 'postgresql://{0}:{1}@{2}:{3}/'.format(POSTGRES_USERNAME, POSTGRES_PASSWORD, POSTGRES_ADDRESS, POSTGRES_PORT)\n",
    "\n",
    "# Create the connection\n",
    "cnx = create_engine(postgres_conn)\n"
   ]
  },
  {
   "cell_type": "markdown",
   "metadata": {
    "_uuid": "1998755ef10683262b29765345cff1c1c7d10b15",
    "papermill": {
     "duration": 0.007516,
     "end_time": "2021-06-23T15:16:13.843140",
     "exception": false,
     "start_time": "2021-06-23T15:16:13.835624",
     "status": "completed"
    },
    "tags": []
   },
   "source": [
    "Read in the Avocado Prices csv file as a DataFrame called df"
   ]
  },
  {
   "cell_type": "code",
   "execution_count": 3,
   "metadata": {
    "execution": {
     "iopub.execute_input": "2021-06-23T15:16:13.865412Z",
     "iopub.status.busy": "2021-06-23T15:16:13.864633Z",
     "iopub.status.idle": "2021-06-23T15:16:13.868832Z",
     "shell.execute_reply": "2021-06-23T15:16:13.868445Z"
    },
    "jupyter": {
     "source_hidden": true
    },
    "papermill": {
     "duration": 0.01887,
     "end_time": "2021-06-23T15:16:13.868940",
     "exception": false,
     "start_time": "2021-06-23T15:16:13.850070",
     "status": "completed"
    },
    "tags": [
     "parameters"
    ]
   },
   "outputs": [],
   "source": [
    "# Parameterized\n",
    "\n",
    "filepath='avocado.csv'\n",
    "ml_id='auto_100'\n",
    "ml_date=date.today()\n",
    "n_estimators = 100\n",
    "max_features = 'auto'"
   ]
  },
  {
   "cell_type": "code",
   "execution_count": 4,
   "id": "15affdec",
   "metadata": {
    "execution": {
     "iopub.execute_input": "2021-06-23T15:16:13.892247Z",
     "iopub.status.busy": "2021-06-23T15:16:13.889871Z",
     "iopub.status.idle": "2021-06-23T15:16:13.894336Z",
     "shell.execute_reply": "2021-06-23T15:16:13.894988Z"
    },
    "jupyter": {
     "source_hidden": true
    },
    "papermill": {
     "duration": 0.016687,
     "end_time": "2021-06-23T15:16:13.895186",
     "exception": false,
     "start_time": "2021-06-23T15:16:13.878499",
     "status": "completed"
    },
    "tags": [
     "injected-parameters"
    ]
   },
   "outputs": [],
   "source": [
    "# Parameters\n",
    "filepath = \"/tmp/avocado.csv\"\n",
    "n_estimators = 150\n",
    "max_features = \"auto\"\n",
    "ml_id = \"auto_150\"\n"
   ]
  },
  {
   "cell_type": "code",
   "execution_count": 5,
   "metadata": {
    "_uuid": "55d0e719eb8b91d763c1eacaf0f51ee0586486fc",
    "execution": {
     "iopub.execute_input": "2021-06-23T15:16:13.917543Z",
     "iopub.status.busy": "2021-06-23T15:16:13.916068Z",
     "iopub.status.idle": "2021-06-23T15:16:13.976510Z",
     "shell.execute_reply": "2021-06-23T15:16:13.977886Z"
    },
    "jupyter": {
     "source_hidden": true
    },
    "papermill": {
     "duration": 0.076146,
     "end_time": "2021-06-23T15:16:13.978156",
     "exception": false,
     "start_time": "2021-06-23T15:16:13.902010",
     "status": "completed"
    },
    "tags": []
   },
   "outputs": [],
   "source": [
    "df= pd.read_csv(filepath)"
   ]
  },
  {
   "cell_type": "markdown",
   "metadata": {
    "_uuid": "434e0457f550e2200424e5ec26162e1aa5904005",
    "papermill": {
     "duration": 0.009207,
     "end_time": "2021-06-23T15:16:13.996560",
     "exception": false,
     "start_time": "2021-06-23T15:16:13.987353",
     "status": "completed"
    },
    "tags": []
   },
   "source": [
    "The Feature \"Unnamed:0\" is just a representation of the indexes, so it's useless to keep it, lets remove it !"
   ]
  },
  {
   "cell_type": "code",
   "execution_count": 6,
   "metadata": {
    "_uuid": "9875398e37728dc3141fed4228be337a4735beb6",
    "execution": {
     "iopub.execute_input": "2021-06-23T15:16:14.024369Z",
     "iopub.status.busy": "2021-06-23T15:16:14.022644Z",
     "iopub.status.idle": "2021-06-23T15:16:14.031049Z",
     "shell.execute_reply": "2021-06-23T15:16:14.031412Z"
    },
    "jupyter": {
     "source_hidden": true
    },
    "papermill": {
     "duration": 0.026849,
     "end_time": "2021-06-23T15:16:14.031554",
     "exception": false,
     "start_time": "2021-06-23T15:16:14.004705",
     "status": "completed"
    },
    "tags": []
   },
   "outputs": [],
   "source": [
    "df.drop('Unnamed: 0',axis=1,inplace=True)"
   ]
  },
  {
   "cell_type": "markdown",
   "metadata": {
    "_uuid": "12e94ad381e4cb8d2c8a9bbe08ce07ab5d49c040",
    "papermill": {
     "duration": 0.010141,
     "end_time": "2021-06-23T15:16:14.049664",
     "exception": false,
     "start_time": "2021-06-23T15:16:14.039523",
     "status": "completed"
    },
    "tags": []
   },
   "source": [
    "well as a first observation we can see that we are lucky, we dont have any missing values (18249 complete data) and 13 columns.\n",
    "Now let's do some Feature Engineering on the Date Feature so we can be able to use the day and the month columns in building our machine learning model later. ( I didn't mention the year because its already there in data frame)"
   ]
  },
  {
   "cell_type": "code",
   "execution_count": 7,
   "metadata": {
    "_uuid": "f031639ce794656e877484d1c9c356df7028177f",
    "execution": {
     "iopub.execute_input": "2021-06-23T15:16:14.081064Z",
     "iopub.status.busy": "2021-06-23T15:16:14.080276Z",
     "iopub.status.idle": "2021-06-23T15:16:14.299976Z",
     "shell.execute_reply": "2021-06-23T15:16:14.300778Z"
    },
    "jupyter": {
     "source_hidden": true
    },
    "papermill": {
     "duration": 0.241799,
     "end_time": "2021-06-23T15:16:14.301032",
     "exception": false,
     "start_time": "2021-06-23T15:16:14.059233",
     "status": "completed"
    },
    "tags": []
   },
   "outputs": [],
   "source": [
    "df['Date']=pd.to_datetime(df['Date'])\n",
    "df['Month']=df['Date'].apply(lambda x:x.month)\n",
    "df['Day']=df['Date'].apply(lambda x:x.day)"
   ]
  },
  {
   "cell_type": "markdown",
   "metadata": {
    "_uuid": "ebdcac9924ce3e366fd3a75170682f7113385b7a",
    "papermill": {
     "duration": 0.007857,
     "end_time": "2021-06-23T15:16:14.317990",
     "exception": false,
     "start_time": "2021-06-23T15:16:14.310133",
     "status": "completed"
    },
    "tags": []
   },
   "source": [
    "as we can see we have 54 regions and 2 unique types, so it's going to be easy to to transform the type feature to dummies, but for the region its going to be a bit complexe so I decided to drop the entire column.\n",
    "I will drop the Date Feature as well because I already have 3 other columns for the Year, Month and Day."
   ]
  },
  {
   "cell_type": "code",
   "execution_count": 8,
   "metadata": {
    "_uuid": "a798682da34327b731ef262985fd50ba68e06460",
    "execution": {
     "iopub.execute_input": "2021-06-23T15:16:14.343050Z",
     "iopub.status.busy": "2021-06-23T15:16:14.341853Z",
     "iopub.status.idle": "2021-06-23T15:16:14.352303Z",
     "shell.execute_reply": "2021-06-23T15:16:14.352673Z"
    },
    "jupyter": {
     "source_hidden": true
    },
    "papermill": {
     "duration": 0.027115,
     "end_time": "2021-06-23T15:16:14.352805",
     "exception": false,
     "start_time": "2021-06-23T15:16:14.325690",
     "status": "completed"
    },
    "tags": []
   },
   "outputs": [],
   "source": [
    "df_final=pd.get_dummies(df.drop(['region','Date'],axis=1),drop_first=True)"
   ]
  },
  {
   "cell_type": "markdown",
   "metadata": {
    "_uuid": "8b74a6b88cb3e9b3e1d1e987e061048f203c7364",
    "papermill": {
     "duration": 0.007186,
     "end_time": "2021-06-23T15:16:14.367898",
     "exception": false,
     "start_time": "2021-06-23T15:16:14.360712",
     "status": "completed"
    },
    "tags": []
   },
   "source": [
    "Now our data are ready! lets apply our model which is going to be the Linear Regression because our Target variable 'AveragePrice'is continuous.\n",
    "Let's now begin to train out regression model! We will need to first split up our data into an X array that contains the features to train on, and a y array with the target variable"
   ]
  },
  {
   "cell_type": "code",
   "execution_count": 9,
   "metadata": {
    "_uuid": "830591f99de9715241e688bf9ce265e979401ff5",
    "execution": {
     "iopub.execute_input": "2021-06-23T15:16:14.408475Z",
     "iopub.status.busy": "2021-06-23T15:16:14.403660Z",
     "iopub.status.idle": "2021-06-23T15:16:14.419114Z",
     "shell.execute_reply": "2021-06-23T15:16:14.420430Z"
    },
    "jupyter": {
     "source_hidden": true
    },
    "papermill": {
     "duration": 0.042773,
     "end_time": "2021-06-23T15:16:14.420581",
     "exception": false,
     "start_time": "2021-06-23T15:16:14.377808",
     "status": "completed"
    },
    "tags": []
   },
   "outputs": [],
   "source": [
    "X=df_final.iloc[:,1:14]\n",
    "y=df_final['AveragePrice']\n",
    "from sklearn.model_selection import train_test_split\n",
    "X_train,X_test,y_train,y_test=train_test_split(X,y,test_size=0.2,random_state=42)"
   ]
  },
  {
   "cell_type": "markdown",
   "metadata": {
    "_uuid": "ea730c77a31cde9de98263079a189accb8b5772b",
    "papermill": {
     "duration": 0.015613,
     "end_time": "2021-06-23T15:16:14.450046",
     "exception": false,
     "start_time": "2021-06-23T15:16:14.434433",
     "status": "completed"
    },
    "tags": []
   },
   "source": [
    "Creating and Training the Model"
   ]
  },
  {
   "cell_type": "code",
   "execution_count": 10,
   "metadata": {
    "_uuid": "eb37015e78974e5fd2ae7e13d065c8ab0a9c6948",
    "execution": {
     "iopub.execute_input": "2021-06-23T15:16:14.493981Z",
     "iopub.status.busy": "2021-06-23T15:16:14.493041Z",
     "iopub.status.idle": "2021-06-23T15:16:36.333142Z",
     "shell.execute_reply": "2021-06-23T15:16:36.332315Z"
    },
    "jupyter": {
     "source_hidden": true
    },
    "papermill": {
     "duration": 21.866854,
     "end_time": "2021-06-23T15:16:36.333386",
     "exception": false,
     "start_time": "2021-06-23T15:16:14.466532",
     "status": "completed"
    },
    "tags": []
   },
   "outputs": [],
   "source": [
    "from sklearn.ensemble import RandomForestRegressor\n",
    "rdr = RandomForestRegressor(\n",
    "    n_estimators=n_estimators,\n",
    "    max_features=max_features\n",
    ")\n",
    "rdr.fit(X_train,y_train)\n",
    "pred=rdr.predict(X_test)"
   ]
  },
  {
   "cell_type": "code",
   "execution_count": 11,
   "metadata": {
    "_uuid": "7ed5b8d4e8abb44a4b548c13ac9fb2d65227d1c5",
    "execution": {
     "iopub.execute_input": "2021-06-23T15:16:36.354116Z",
     "iopub.status.busy": "2021-06-23T15:16:36.352598Z",
     "iopub.status.idle": "2021-06-23T15:16:36.355631Z",
     "shell.execute_reply": "2021-06-23T15:16:36.356046Z"
    },
    "jupyter": {
     "source_hidden": true
    },
    "papermill": {
     "duration": 0.014767,
     "end_time": "2021-06-23T15:16:36.356449",
     "exception": false,
     "start_time": "2021-06-23T15:16:36.341682",
     "status": "completed"
    },
    "tags": []
   },
   "outputs": [],
   "source": [
    "#%%capture cap --no-stderr\n",
    "#print(np.sqrt(mean_squared_error(y_test, pred)))"
   ]
  },
  {
   "cell_type": "code",
   "execution_count": 12,
   "metadata": {
    "execution": {
     "iopub.execute_input": "2021-06-23T15:16:36.376398Z",
     "iopub.status.busy": "2021-06-23T15:16:36.375468Z",
     "iopub.status.idle": "2021-06-23T15:16:36.379864Z",
     "shell.execute_reply": "2021-06-23T15:16:36.379154Z"
    },
    "jupyter": {
     "source_hidden": true
    },
    "papermill": {
     "duration": 0.016004,
     "end_time": "2021-06-23T15:16:36.380027",
     "exception": false,
     "start_time": "2021-06-23T15:16:36.364023",
     "status": "completed"
    },
    "tags": []
   },
   "outputs": [],
   "source": [
    "#with open(output_rmse, 'w') as f:\n",
    "#    f.write(cap.stdout)"
   ]
  },
  {
   "cell_type": "code",
   "execution_count": 13,
   "metadata": {
    "execution": {
     "iopub.execute_input": "2021-06-23T15:16:36.402162Z",
     "iopub.status.busy": "2021-06-23T15:16:36.401361Z",
     "iopub.status.idle": "2021-06-23T15:16:36.426881Z",
     "shell.execute_reply": "2021-06-23T15:16:36.427301Z"
    },
    "jupyter": {
     "source_hidden": true
    },
    "papermill": {
     "duration": 0.040659,
     "end_time": "2021-06-23T15:16:36.427739",
     "exception": false,
     "start_time": "2021-06-23T15:16:36.387080",
     "status": "completed"
    },
    "tags": []
   },
   "outputs": [
    {
     "data": {
      "text/plain": [
       "<sqlalchemy.engine.result.ResultProxy at 0x7f17f2b0bdd0>"
      ]
     },
     "execution_count": 13,
     "metadata": {},
     "output_type": "execute_result"
    }
   ],
   "source": [
    "cnx.execute(\"\"\"\n",
    "    INSERT INTO ml.accuracies (ml_id, ml_date, accuracy) VALUES ('{0}', '{1}', {2}) \n",
    "    ON CONFLICT (ml_id, ml_date) \n",
    "    DO\n",
    "        UPDATE SET accuracy = {2};\n",
    "    \"\"\".format(ml_id, ml_date, np.sqrt(mean_squared_error(y_test, pred))))"
   ]
  }
 ],
 "metadata": {
  "kernelspec": {
   "display_name": "Python 3",
   "language": "python",
   "name": "python3"
  },
  "language_info": {
   "codemirror_mode": {
    "name": "ipython",
    "version": 3
   },
   "file_extension": ".py",
   "mimetype": "text/x-python",
   "name": "python",
   "nbconvert_exporter": "python",
   "pygments_lexer": "ipython3",
   "version": "3.7.10"
  },
  "papermill": {
   "duration": 26.8455,
   "end_time": "2021-06-23T15:16:37.046001",
   "environment_variables": {},
   "exception": null,
   "input_path": "/usr/local/airflow/include/notebooks/avocado_prediction.ipynb",
   "output_path": "/tmp/out-model-avocado-prediction-auto_150.ipynb",
   "parameters": {
    "filepath": "/tmp/avocado.csv",
    "max_features": "auto",
    "ml_id": "auto_150",
    "n_estimators": 150
   },
   "start_time": "2021-06-23T15:16:10.200501",
   "version": "2.1.2"
  }
 },
 "nbformat": 4,
 "nbformat_minor": 4
}