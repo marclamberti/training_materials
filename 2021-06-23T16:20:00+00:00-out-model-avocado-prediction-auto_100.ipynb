{
 "cells": [
  {
   "cell_type": "code",
   "execution_count": 1,
   "metadata": {
    "_cell_guid": "79c7e3d0-c299-4dcb-8224-4455121ee9b0",
    "_uuid": "d629ff2d2480ee46fbb7e2d37f6b5fab8052498a",
    "execution": {
     "iopub.execute_input": "2021-06-23T16:30:07.904027Z",
     "iopub.status.busy": "2021-06-23T16:30:07.903234Z",
     "iopub.status.idle": "2021-06-23T16:30:08.574471Z",
     "shell.execute_reply": "2021-06-23T16:30:08.575035Z"
    },
    "jupyter": {
     "source_hidden": true
    },
    "papermill": {
     "duration": 0.685945,
     "end_time": "2021-06-23T16:30:08.575450",
     "exception": false,
     "start_time": "2021-06-23T16:30:07.889505",
     "status": "completed"
    },
    "tags": []
   },
   "outputs": [],
   "source": [
    "import pandas as pd\n",
    "import numpy as np\n",
    "from sqlalchemy import create_engine\n",
    "from datetime import date\n",
    "from sklearn.metrics import mean_squared_error"
   ]
  },
  {
   "cell_type": "code",
   "execution_count": 2,
   "metadata": {
    "execution": {
     "iopub.execute_input": "2021-06-23T16:30:08.595177Z",
     "iopub.status.busy": "2021-06-23T16:30:08.594325Z",
     "iopub.status.idle": "2021-06-23T16:30:08.621213Z",
     "shell.execute_reply": "2021-06-23T16:30:08.621624Z"
    },
    "jupyter": {
     "source_hidden": true
    },
    "papermill": {
     "duration": 0.039259,
     "end_time": "2021-06-23T16:30:08.621918",
     "exception": false,
     "start_time": "2021-06-23T16:30:08.582659",
     "status": "completed"
    },
    "tags": []
   },
   "outputs": [],
   "source": [
    "# THIS IS PURELY FOR TEST PURPOSE NEVER DO THAT IN PRODUCTION\n",
    "POSTGRES_ADDRESS='postgres'\n",
    "POSTGRES_PORT='5432'\n",
    "POSTGRES_USERNAME='postgres'\n",
    "POSTGRES_PASSWORD='postgres'\n",
    "\n",
    "postgres_conn = 'postgresql://{0}:{1}@{2}:{3}/'.format(POSTGRES_USERNAME, POSTGRES_PASSWORD, POSTGRES_ADDRESS, POSTGRES_PORT)\n",
    "\n",
    "# Create the connection\n",
    "cnx = create_engine(postgres_conn)\n"
   ]
  },
  {
   "cell_type": "markdown",
   "metadata": {
    "_uuid": "1998755ef10683262b29765345cff1c1c7d10b15",
    "papermill": {
     "duration": 0.005615,
     "end_time": "2021-06-23T16:30:08.632665",
     "exception": false,
     "start_time": "2021-06-23T16:30:08.627050",
     "status": "completed"
    },
    "tags": []
   },
   "source": [
    "Read in the Avocado Prices csv file as a DataFrame called df"
   ]
  },
  {
   "cell_type": "code",
   "execution_count": 3,
   "metadata": {
    "execution": {
     "iopub.execute_input": "2021-06-23T16:30:08.647396Z",
     "iopub.status.busy": "2021-06-23T16:30:08.646720Z",
     "iopub.status.idle": "2021-06-23T16:30:08.649488Z",
     "shell.execute_reply": "2021-06-23T16:30:08.649923Z"
    },
    "jupyter": {
     "source_hidden": true
    },
    "papermill": {
     "duration": 0.012398,
     "end_time": "2021-06-23T16:30:08.650168",
     "exception": false,
     "start_time": "2021-06-23T16:30:08.637770",
     "status": "completed"
    },
    "tags": [
     "parameters"
    ]
   },
   "outputs": [],
   "source": [
    "# Parameterized\n",
    "\n",
    "filepath='avocado.csv'\n",
    "ml_id='auto_100'\n",
    "ml_date=date.today()\n",
    "n_estimators = 100\n",
    "max_features = 'auto'"
   ]
  },
  {
   "cell_type": "code",
   "execution_count": 4,
   "id": "5edc5deb",
   "metadata": {
    "execution": {
     "iopub.execute_input": "2021-06-23T16:30:08.665422Z",
     "iopub.status.busy": "2021-06-23T16:30:08.664782Z",
     "iopub.status.idle": "2021-06-23T16:30:08.668157Z",
     "shell.execute_reply": "2021-06-23T16:30:08.667636Z"
    },
    "jupyter": {
     "source_hidden": true
    },
    "papermill": {
     "duration": 0.012624,
     "end_time": "2021-06-23T16:30:08.668367",
     "exception": false,
     "start_time": "2021-06-23T16:30:08.655743",
     "status": "completed"
    },
    "tags": [
     "injected-parameters"
    ]
   },
   "outputs": [],
   "source": [
    "# Parameters\n",
    "filepath = \"/tmp/avocado.csv\"\n",
    "n_estimators = 100\n",
    "max_features = \"auto\"\n",
    "ml_id = \"auto_100\"\n"
   ]
  },
  {
   "cell_type": "code",
   "execution_count": 5,
   "metadata": {
    "_uuid": "55d0e719eb8b91d763c1eacaf0f51ee0586486fc",
    "execution": {
     "iopub.execute_input": "2021-06-23T16:30:08.684270Z",
     "iopub.status.busy": "2021-06-23T16:30:08.683595Z",
     "iopub.status.idle": "2021-06-23T16:30:08.713297Z",
     "shell.execute_reply": "2021-06-23T16:30:08.713718Z"
    },
    "jupyter": {
     "source_hidden": true
    },
    "papermill": {
     "duration": 0.040129,
     "end_time": "2021-06-23T16:30:08.714017",
     "exception": false,
     "start_time": "2021-06-23T16:30:08.673888",
     "status": "completed"
    },
    "tags": []
   },
   "outputs": [],
   "source": [
    "df= pd.read_csv(filepath)"
   ]
  },
  {
   "cell_type": "markdown",
   "metadata": {
    "_uuid": "434e0457f550e2200424e5ec26162e1aa5904005",
    "papermill": {
     "duration": 0.005525,
     "end_time": "2021-06-23T16:30:08.725278",
     "exception": false,
     "start_time": "2021-06-23T16:30:08.719753",
     "status": "completed"
    },
    "tags": []
   },
   "source": [
    "The Feature \"Unnamed:0\" is just a representation of the indexes, so it's useless to keep it, lets remove it !"
   ]
  },
  {
   "cell_type": "code",
   "execution_count": 6,
   "metadata": {
    "_uuid": "9875398e37728dc3141fed4228be337a4735beb6",
    "execution": {
     "iopub.execute_input": "2021-06-23T16:30:08.742995Z",
     "iopub.status.busy": "2021-06-23T16:30:08.742361Z",
     "iopub.status.idle": "2021-06-23T16:30:08.745252Z",
     "shell.execute_reply": "2021-06-23T16:30:08.745657Z"
    },
    "jupyter": {
     "source_hidden": true
    },
    "papermill": {
     "duration": 0.01515,
     "end_time": "2021-06-23T16:30:08.745897",
     "exception": false,
     "start_time": "2021-06-23T16:30:08.730747",
     "status": "completed"
    },
    "tags": []
   },
   "outputs": [],
   "source": [
    "df.drop('Unnamed: 0',axis=1,inplace=True)"
   ]
  },
  {
   "cell_type": "markdown",
   "metadata": {
    "_uuid": "12e94ad381e4cb8d2c8a9bbe08ce07ab5d49c040",
    "papermill": {
     "duration": 0.005597,
     "end_time": "2021-06-23T16:30:08.757723",
     "exception": false,
     "start_time": "2021-06-23T16:30:08.752126",
     "status": "completed"
    },
    "tags": []
   },
   "source": [
    "well as a first observation we can see that we are lucky, we dont have any missing values (18249 complete data) and 13 columns.\n",
    "Now let's do some Feature Engineering on the Date Feature so we can be able to use the day and the month columns in building our machine learning model later. ( I didn't mention the year because its already there in data frame)"
   ]
  },
  {
   "cell_type": "code",
   "execution_count": 7,
   "metadata": {
    "_uuid": "f031639ce794656e877484d1c9c356df7028177f",
    "execution": {
     "iopub.execute_input": "2021-06-23T16:30:08.774553Z",
     "iopub.status.busy": "2021-06-23T16:30:08.773947Z",
     "iopub.status.idle": "2021-06-23T16:30:08.897432Z",
     "shell.execute_reply": "2021-06-23T16:30:08.896616Z"
    },
    "jupyter": {
     "source_hidden": true
    },
    "papermill": {
     "duration": 0.134656,
     "end_time": "2021-06-23T16:30:08.897720",
     "exception": false,
     "start_time": "2021-06-23T16:30:08.763064",
     "status": "completed"
    },
    "tags": []
   },
   "outputs": [],
   "source": [
    "df['Date']=pd.to_datetime(df['Date'])\n",
    "df['Month']=df['Date'].apply(lambda x:x.month)\n",
    "df['Day']=df['Date'].apply(lambda x:x.day)"
   ]
  },
  {
   "cell_type": "markdown",
   "metadata": {
    "_uuid": "ebdcac9924ce3e366fd3a75170682f7113385b7a",
    "papermill": {
     "duration": 0.005508,
     "end_time": "2021-06-23T16:30:08.909276",
     "exception": false,
     "start_time": "2021-06-23T16:30:08.903768",
     "status": "completed"
    },
    "tags": []
   },
   "source": [
    "as we can see we have 54 regions and 2 unique types, so it's going to be easy to to transform the type feature to dummies, but for the region its going to be a bit complexe so I decided to drop the entire column.\n",
    "I will drop the Date Feature as well because I already have 3 other columns for the Year, Month and Day."
   ]
  },
  {
   "cell_type": "code",
   "execution_count": 8,
   "metadata": {
    "_uuid": "a798682da34327b731ef262985fd50ba68e06460",
    "execution": {
     "iopub.execute_input": "2021-06-23T16:30:08.926347Z",
     "iopub.status.busy": "2021-06-23T16:30:08.925686Z",
     "iopub.status.idle": "2021-06-23T16:30:08.935625Z",
     "shell.execute_reply": "2021-06-23T16:30:08.936088Z"
    },
    "jupyter": {
     "source_hidden": true
    },
    "papermill": {
     "duration": 0.021632,
     "end_time": "2021-06-23T16:30:08.936303",
     "exception": false,
     "start_time": "2021-06-23T16:30:08.914671",
     "status": "completed"
    },
    "tags": []
   },
   "outputs": [],
   "source": [
    "df_final=pd.get_dummies(df.drop(['region','Date'],axis=1),drop_first=True)"
   ]
  },
  {
   "cell_type": "markdown",
   "metadata": {
    "_uuid": "8b74a6b88cb3e9b3e1d1e987e061048f203c7364",
    "papermill": {
     "duration": 0.005757,
     "end_time": "2021-06-23T16:30:08.947659",
     "exception": false,
     "start_time": "2021-06-23T16:30:08.941902",
     "status": "completed"
    },
    "tags": []
   },
   "source": [
    "Now our data are ready! lets apply our model which is going to be the Linear Regression because our Target variable 'AveragePrice'is continuous.\n",
    "Let's now begin to train out regression model! We will need to first split up our data into an X array that contains the features to train on, and a y array with the target variable"
   ]
  },
  {
   "cell_type": "code",
   "execution_count": 9,
   "metadata": {
    "_uuid": "830591f99de9715241e688bf9ce265e979401ff5",
    "execution": {
     "iopub.execute_input": "2021-06-23T16:30:08.964592Z",
     "iopub.status.busy": "2021-06-23T16:30:08.963929Z",
     "iopub.status.idle": "2021-06-23T16:30:08.975082Z",
     "shell.execute_reply": "2021-06-23T16:30:08.974543Z"
    },
    "jupyter": {
     "source_hidden": true
    },
    "papermill": {
     "duration": 0.021723,
     "end_time": "2021-06-23T16:30:08.975289",
     "exception": false,
     "start_time": "2021-06-23T16:30:08.953566",
     "status": "completed"
    },
    "tags": []
   },
   "outputs": [],
   "source": [
    "X=df_final.iloc[:,1:14]\n",
    "y=df_final['AveragePrice']\n",
    "from sklearn.model_selection import train_test_split\n",
    "X_train,X_test,y_train,y_test=train_test_split(X,y,test_size=0.2,random_state=42)"
   ]
  },
  {
   "cell_type": "markdown",
   "metadata": {
    "_uuid": "ea730c77a31cde9de98263079a189accb8b5772b",
    "papermill": {
     "duration": 0.005619,
     "end_time": "2021-06-23T16:30:08.986622",
     "exception": false,
     "start_time": "2021-06-23T16:30:08.981003",
     "status": "completed"
    },
    "tags": []
   },
   "source": [
    "Creating and Training the Model"
   ]
  },
  {
   "cell_type": "code",
   "execution_count": 10,
   "metadata": {
    "_uuid": "eb37015e78974e5fd2ae7e13d065c8ab0a9c6948",
    "execution": {
     "iopub.execute_input": "2021-06-23T16:30:09.002557Z",
     "iopub.status.busy": "2021-06-23T16:30:09.001928Z",
     "iopub.status.idle": "2021-06-23T16:30:17.217387Z",
     "shell.execute_reply": "2021-06-23T16:30:17.217793Z"
    },
    "jupyter": {
     "source_hidden": true
    },
    "papermill": {
     "duration": 8.225927,
     "end_time": "2021-06-23T16:30:17.218085",
     "exception": false,
     "start_time": "2021-06-23T16:30:08.992158",
     "status": "completed"
    },
    "tags": []
   },
   "outputs": [],
   "source": [
    "from sklearn.ensemble import RandomForestRegressor\n",
    "rdr = RandomForestRegressor(\n",
    "    n_estimators=n_estimators,\n",
    "    max_features=max_features\n",
    ")\n",
    "rdr.fit(X_train,y_train)\n",
    "pred=rdr.predict(X_test)"
   ]
  },
  {
   "cell_type": "code",
   "execution_count": 11,
   "metadata": {
    "_uuid": "7ed5b8d4e8abb44a4b548c13ac9fb2d65227d1c5",
    "execution": {
     "iopub.execute_input": "2021-06-23T16:30:17.233887Z",
     "iopub.status.busy": "2021-06-23T16:30:17.233240Z",
     "iopub.status.idle": "2021-06-23T16:30:17.236150Z",
     "shell.execute_reply": "2021-06-23T16:30:17.235671Z"
    },
    "jupyter": {
     "source_hidden": true
    },
    "papermill": {
     "duration": 0.0122,
     "end_time": "2021-06-23T16:30:17.236359",
     "exception": false,
     "start_time": "2021-06-23T16:30:17.224159",
     "status": "completed"
    },
    "tags": []
   },
   "outputs": [],
   "source": [
    "#%%capture cap --no-stderr\n",
    "#print(np.sqrt(mean_squared_error(y_test, pred)))"
   ]
  },
  {
   "cell_type": "code",
   "execution_count": 12,
   "metadata": {
    "execution": {
     "iopub.execute_input": "2021-06-23T16:30:17.251871Z",
     "iopub.status.busy": "2021-06-23T16:30:17.251215Z",
     "iopub.status.idle": "2021-06-23T16:30:17.254298Z",
     "shell.execute_reply": "2021-06-23T16:30:17.253818Z"
    },
    "jupyter": {
     "source_hidden": true
    },
    "papermill": {
     "duration": 0.012246,
     "end_time": "2021-06-23T16:30:17.254491",
     "exception": false,
     "start_time": "2021-06-23T16:30:17.242245",
     "status": "completed"
    },
    "tags": []
   },
   "outputs": [],
   "source": [
    "#with open(output_rmse, 'w') as f:\n",
    "#    f.write(cap.stdout)"
   ]
  },
  {
   "cell_type": "code",
   "execution_count": 13,
   "metadata": {
    "execution": {
     "iopub.execute_input": "2021-06-23T16:30:17.271336Z",
     "iopub.status.busy": "2021-06-23T16:30:17.270687Z",
     "iopub.status.idle": "2021-06-23T16:30:17.290271Z",
     "shell.execute_reply": "2021-06-23T16:30:17.290892Z"
    },
    "jupyter": {
     "source_hidden": true
    },
    "papermill": {
     "duration": 0.030856,
     "end_time": "2021-06-23T16:30:17.291185",
     "exception": false,
     "start_time": "2021-06-23T16:30:17.260329",
     "status": "completed"
    },
    "tags": []
   },
   "outputs": [
    {
     "data": {
      "text/plain": [
       "<sqlalchemy.engine.result.ResultProxy at 0x7f39bcbf5f90>"
      ]
     },
     "execution_count": 13,
     "metadata": {},
     "output_type": "execute_result"
    }
   ],
   "source": [
    "cnx.execute(\"\"\"\n",
    "    INSERT INTO ml.accuracies (ml_id, ml_date, accuracy) VALUES ('{0}', '{1}', {2}) \n",
    "    ON CONFLICT (ml_id, ml_date) \n",
    "    DO\n",
    "        UPDATE SET accuracy = {2};\n",
    "    \"\"\".format(ml_id, ml_date, np.sqrt(mean_squared_error(y_test, pred))))"
   ]
  }
 ],
 "metadata": {
  "kernelspec": {
   "display_name": "Python 3",
   "language": "python",
   "name": "python3"
  },
  "language_info": {
   "codemirror_mode": {
    "name": "ipython",
    "version": 3
   },
   "file_extension": ".py",
   "mimetype": "text/x-python",
   "name": "python",
   "nbconvert_exporter": "python",
   "pygments_lexer": "ipython3",
   "version": "3.7.10"
  },
  "papermill": {
   "duration": 11.065794,
   "end_time": "2021-06-23T16:30:17.707446",
   "environment_variables": {},
   "exception": null,
   "input_path": "/usr/local/airflow/include/notebooks/avocado_prediction.ipynb",
   "output_path": "/tmp/out-model-avocado-prediction-auto_100.ipynb",
   "parameters": {
    "filepath": "/tmp/avocado.csv",
    "max_features": "auto",
    "ml_id": "auto_100",
    "n_estimators": 100
   },
   "start_time": "2021-06-23T16:30:06.641652",
   "version": "2.1.2"
  }
 },
 "nbformat": 4,
 "nbformat_minor": 4
}