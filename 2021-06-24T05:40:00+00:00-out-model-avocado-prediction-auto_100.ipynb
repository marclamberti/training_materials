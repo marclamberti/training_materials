{
 "cells": [
  {
   "cell_type": "code",
   "execution_count": 1,
   "metadata": {
    "_cell_guid": "79c7e3d0-c299-4dcb-8224-4455121ee9b0",
    "_uuid": "d629ff2d2480ee46fbb7e2d37f6b5fab8052498a",
    "execution": {
     "iopub.execute_input": "2021-06-24T05:50:10.567116Z",
     "iopub.status.busy": "2021-06-24T05:50:10.566461Z",
     "iopub.status.idle": "2021-06-24T05:50:11.372259Z",
     "shell.execute_reply": "2021-06-24T05:50:11.372780Z"
    },
    "jupyter": {
     "source_hidden": true
    },
    "papermill": {
     "duration": 0.822483,
     "end_time": "2021-06-24T05:50:11.373250",
     "exception": false,
     "start_time": "2021-06-24T05:50:10.550767",
     "status": "completed"
    },
    "tags": []
   },
   "outputs": [],
   "source": [
    "import pandas as pd\n",
    "import numpy as np\n",
    "from sqlalchemy import create_engine\n",
    "from datetime import date\n",
    "from sklearn.metrics import mean_squared_error"
   ]
  },
  {
   "cell_type": "code",
   "execution_count": 2,
   "metadata": {
    "execution": {
     "iopub.execute_input": "2021-06-24T05:50:11.396679Z",
     "iopub.status.busy": "2021-06-24T05:50:11.395622Z",
     "iopub.status.idle": "2021-06-24T05:50:11.430007Z",
     "shell.execute_reply": "2021-06-24T05:50:11.430501Z"
    },
    "jupyter": {
     "source_hidden": true
    },
    "papermill": {
     "duration": 0.046432,
     "end_time": "2021-06-24T05:50:11.430786",
     "exception": false,
     "start_time": "2021-06-24T05:50:11.384354",
     "status": "completed"
    },
    "tags": []
   },
   "outputs": [],
   "source": [
    "# THIS IS PURELY FOR TEST PURPOSE NEVER DO THAT IN PRODUCTION\n",
    "POSTGRES_ADDRESS='postgres'\n",
    "POSTGRES_PORT='5432'\n",
    "POSTGRES_USERNAME='postgres'\n",
    "POSTGRES_PASSWORD='postgres'\n",
    "\n",
    "postgres_conn = 'postgresql://{0}:{1}@{2}:{3}/'.format(POSTGRES_USERNAME, POSTGRES_PASSWORD, POSTGRES_ADDRESS, POSTGRES_PORT)\n",
    "\n",
    "# Create the connection\n",
    "cnx = create_engine(postgres_conn)\n"
   ]
  },
  {
   "cell_type": "markdown",
   "metadata": {
    "_uuid": "1998755ef10683262b29765345cff1c1c7d10b15",
    "papermill": {
     "duration": 0.013668,
     "end_time": "2021-06-24T05:50:11.452343",
     "exception": false,
     "start_time": "2021-06-24T05:50:11.438675",
     "status": "completed"
    },
    "tags": []
   },
   "source": [
    "Read in the Avocado Prices csv file as a DataFrame called df"
   ]
  },
  {
   "cell_type": "code",
   "execution_count": 3,
   "metadata": {
    "execution": {
     "iopub.execute_input": "2021-06-24T05:50:11.475139Z",
     "iopub.status.busy": "2021-06-24T05:50:11.474046Z",
     "iopub.status.idle": "2021-06-24T05:50:11.485663Z",
     "shell.execute_reply": "2021-06-24T05:50:11.485176Z"
    },
    "jupyter": {
     "source_hidden": true
    },
    "papermill": {
     "duration": 0.021598,
     "end_time": "2021-06-24T05:50:11.485879",
     "exception": false,
     "start_time": "2021-06-24T05:50:11.464281",
     "status": "completed"
    },
    "tags": [
     "parameters"
    ]
   },
   "outputs": [],
   "source": [
    "# Parameterized\n",
    "\n",
    "filepath='avocado.csv'\n",
    "ml_id='auto_100'\n",
    "ml_date=date.today()\n",
    "n_estimators = 100\n",
    "max_features = 'auto'"
   ]
  },
  {
   "cell_type": "code",
   "execution_count": 4,
   "id": "35c55eec",
   "metadata": {
    "execution": {
     "iopub.execute_input": "2021-06-24T05:50:11.509197Z",
     "iopub.status.busy": "2021-06-24T05:50:11.508387Z",
     "iopub.status.idle": "2021-06-24T05:50:11.510512Z",
     "shell.execute_reply": "2021-06-24T05:50:11.510944Z"
    },
    "jupyter": {
     "source_hidden": true
    },
    "papermill": {
     "duration": 0.018529,
     "end_time": "2021-06-24T05:50:11.511206",
     "exception": false,
     "start_time": "2021-06-24T05:50:11.492677",
     "status": "completed"
    },
    "tags": [
     "injected-parameters"
    ]
   },
   "outputs": [],
   "source": [
    "# Parameters\n",
    "filepath = \"/tmp/avocado.csv\"\n",
    "n_estimators = 100\n",
    "max_features = \"auto\"\n",
    "ml_id = \"auto_100\"\n"
   ]
  },
  {
   "cell_type": "code",
   "execution_count": 5,
   "metadata": {
    "_uuid": "55d0e719eb8b91d763c1eacaf0f51ee0586486fc",
    "execution": {
     "iopub.execute_input": "2021-06-24T05:50:11.532637Z",
     "iopub.status.busy": "2021-06-24T05:50:11.531986Z",
     "iopub.status.idle": "2021-06-24T05:50:11.571030Z",
     "shell.execute_reply": "2021-06-24T05:50:11.570572Z"
    },
    "jupyter": {
     "source_hidden": true
    },
    "papermill": {
     "duration": 0.052073,
     "end_time": "2021-06-24T05:50:11.571277",
     "exception": false,
     "start_time": "2021-06-24T05:50:11.519204",
     "status": "completed"
    },
    "tags": []
   },
   "outputs": [],
   "source": [
    "df= pd.read_csv(filepath)"
   ]
  },
  {
   "cell_type": "markdown",
   "metadata": {
    "_uuid": "434e0457f550e2200424e5ec26162e1aa5904005",
    "papermill": {
     "duration": 0.006045,
     "end_time": "2021-06-24T05:50:11.585095",
     "exception": false,
     "start_time": "2021-06-24T05:50:11.579050",
     "status": "completed"
    },
    "tags": []
   },
   "source": [
    "The Feature \"Unnamed:0\" is just a representation of the indexes, so it's useless to keep it, lets remove it !"
   ]
  },
  {
   "cell_type": "code",
   "execution_count": 6,
   "metadata": {
    "_uuid": "9875398e37728dc3141fed4228be337a4735beb6",
    "execution": {
     "iopub.execute_input": "2021-06-24T05:50:11.605447Z",
     "iopub.status.busy": "2021-06-24T05:50:11.604912Z",
     "iopub.status.idle": "2021-06-24T05:50:11.608291Z",
     "shell.execute_reply": "2021-06-24T05:50:11.607728Z"
    },
    "jupyter": {
     "source_hidden": true
    },
    "papermill": {
     "duration": 0.017588,
     "end_time": "2021-06-24T05:50:11.608488",
     "exception": false,
     "start_time": "2021-06-24T05:50:11.590900",
     "status": "completed"
    },
    "tags": []
   },
   "outputs": [],
   "source": [
    "df.drop('Unnamed: 0',axis=1,inplace=True)"
   ]
  },
  {
   "cell_type": "markdown",
   "metadata": {
    "_uuid": "12e94ad381e4cb8d2c8a9bbe08ce07ab5d49c040",
    "papermill": {
     "duration": 0.008063,
     "end_time": "2021-06-24T05:50:11.622136",
     "exception": false,
     "start_time": "2021-06-24T05:50:11.614073",
     "status": "completed"
    },
    "tags": []
   },
   "source": [
    "well as a first observation we can see that we are lucky, we dont have any missing values (18249 complete data) and 13 columns.\n",
    "Now let's do some Feature Engineering on the Date Feature so we can be able to use the day and the month columns in building our machine learning model later. ( I didn't mention the year because its already there in data frame)"
   ]
  },
  {
   "cell_type": "code",
   "execution_count": 7,
   "metadata": {
    "_uuid": "f031639ce794656e877484d1c9c356df7028177f",
    "execution": {
     "iopub.execute_input": "2021-06-24T05:50:11.643580Z",
     "iopub.status.busy": "2021-06-24T05:50:11.642426Z",
     "iopub.status.idle": "2021-06-24T05:50:11.782341Z",
     "shell.execute_reply": "2021-06-24T05:50:11.781669Z"
    },
    "jupyter": {
     "source_hidden": true
    },
    "papermill": {
     "duration": 0.155483,
     "end_time": "2021-06-24T05:50:11.782607",
     "exception": false,
     "start_time": "2021-06-24T05:50:11.627124",
     "status": "completed"
    },
    "tags": []
   },
   "outputs": [],
   "source": [
    "df['Date']=pd.to_datetime(df['Date'])\n",
    "df['Month']=df['Date'].apply(lambda x:x.month)\n",
    "df['Day']=df['Date'].apply(lambda x:x.day)"
   ]
  },
  {
   "cell_type": "markdown",
   "metadata": {
    "_uuid": "ebdcac9924ce3e366fd3a75170682f7113385b7a",
    "papermill": {
     "duration": 0.005349,
     "end_time": "2021-06-24T05:50:11.794002",
     "exception": false,
     "start_time": "2021-06-24T05:50:11.788653",
     "status": "completed"
    },
    "tags": []
   },
   "source": [
    "as we can see we have 54 regions and 2 unique types, so it's going to be easy to to transform the type feature to dummies, but for the region its going to be a bit complexe so I decided to drop the entire column.\n",
    "I will drop the Date Feature as well because I already have 3 other columns for the Year, Month and Day."
   ]
  },
  {
   "cell_type": "code",
   "execution_count": 8,
   "metadata": {
    "_uuid": "a798682da34327b731ef262985fd50ba68e06460",
    "execution": {
     "iopub.execute_input": "2021-06-24T05:50:11.822029Z",
     "iopub.status.busy": "2021-06-24T05:50:11.813224Z",
     "iopub.status.idle": "2021-06-24T05:50:11.827875Z",
     "shell.execute_reply": "2021-06-24T05:50:11.828430Z"
    },
    "jupyter": {
     "source_hidden": true
    },
    "papermill": {
     "duration": 0.02667,
     "end_time": "2021-06-24T05:50:11.828675",
     "exception": false,
     "start_time": "2021-06-24T05:50:11.802005",
     "status": "completed"
    },
    "tags": []
   },
   "outputs": [],
   "source": [
    "df_final=pd.get_dummies(df.drop(['region','Date'],axis=1),drop_first=True)"
   ]
  },
  {
   "cell_type": "markdown",
   "metadata": {
    "_uuid": "8b74a6b88cb3e9b3e1d1e987e061048f203c7364",
    "papermill": {
     "duration": 0.012016,
     "end_time": "2021-06-24T05:50:11.846358",
     "exception": false,
     "start_time": "2021-06-24T05:50:11.834342",
     "status": "completed"
    },
    "tags": []
   },
   "source": [
    "Now our data are ready! lets apply our model which is going to be the Linear Regression because our Target variable 'AveragePrice'is continuous.\n",
    "Let's now begin to train out regression model! We will need to first split up our data into an X array that contains the features to train on, and a y array with the target variable"
   ]
  },
  {
   "cell_type": "code",
   "execution_count": 9,
   "metadata": {
    "_uuid": "830591f99de9715241e688bf9ce265e979401ff5",
    "execution": {
     "iopub.execute_input": "2021-06-24T05:50:11.866522Z",
     "iopub.status.busy": "2021-06-24T05:50:11.865949Z",
     "iopub.status.idle": "2021-06-24T05:50:11.878030Z",
     "shell.execute_reply": "2021-06-24T05:50:11.877168Z"
    },
    "jupyter": {
     "source_hidden": true
    },
    "papermill": {
     "duration": 0.026492,
     "end_time": "2021-06-24T05:50:11.878525",
     "exception": false,
     "start_time": "2021-06-24T05:50:11.852033",
     "status": "completed"
    },
    "tags": []
   },
   "outputs": [],
   "source": [
    "X=df_final.iloc[:,1:14]\n",
    "y=df_final['AveragePrice']\n",
    "from sklearn.model_selection import train_test_split\n",
    "X_train,X_test,y_train,y_test=train_test_split(X,y,test_size=0.2,random_state=42)"
   ]
  },
  {
   "cell_type": "markdown",
   "metadata": {
    "_uuid": "ea730c77a31cde9de98263079a189accb8b5772b",
    "papermill": {
     "duration": 0.005424,
     "end_time": "2021-06-24T05:50:11.893282",
     "exception": false,
     "start_time": "2021-06-24T05:50:11.887858",
     "status": "completed"
    },
    "tags": []
   },
   "source": [
    "Creating and Training the Model"
   ]
  },
  {
   "cell_type": "code",
   "execution_count": 10,
   "metadata": {
    "_uuid": "eb37015e78974e5fd2ae7e13d065c8ab0a9c6948",
    "execution": {
     "iopub.execute_input": "2021-06-24T05:50:11.918599Z",
     "iopub.status.busy": "2021-06-24T05:50:11.917241Z",
     "iopub.status.idle": "2021-06-24T05:50:21.483097Z",
     "shell.execute_reply": "2021-06-24T05:50:21.482578Z"
    },
    "jupyter": {
     "source_hidden": true
    },
    "papermill": {
     "duration": 9.577538,
     "end_time": "2021-06-24T05:50:21.483312",
     "exception": false,
     "start_time": "2021-06-24T05:50:11.905774",
     "status": "completed"
    },
    "tags": []
   },
   "outputs": [],
   "source": [
    "from sklearn.ensemble import RandomForestRegressor\n",
    "rdr = RandomForestRegressor(\n",
    "    n_estimators=n_estimators,\n",
    "    max_features=max_features\n",
    ")\n",
    "rdr.fit(X_train,y_train)\n",
    "pred=rdr.predict(X_test)"
   ]
  },
  {
   "cell_type": "code",
   "execution_count": 11,
   "metadata": {
    "_uuid": "7ed5b8d4e8abb44a4b548c13ac9fb2d65227d1c5",
    "execution": {
     "iopub.execute_input": "2021-06-24T05:50:21.501590Z",
     "iopub.status.busy": "2021-06-24T05:50:21.500950Z",
     "iopub.status.idle": "2021-06-24T05:50:21.503630Z",
     "shell.execute_reply": "2021-06-24T05:50:21.503095Z"
    },
    "jupyter": {
     "source_hidden": true
    },
    "papermill": {
     "duration": 0.011615,
     "end_time": "2021-06-24T05:50:21.503885",
     "exception": false,
     "start_time": "2021-06-24T05:50:21.492270",
     "status": "completed"
    },
    "tags": []
   },
   "outputs": [],
   "source": [
    "#%%capture cap --no-stderr\n",
    "#print(np.sqrt(mean_squared_error(y_test, pred)))"
   ]
  },
  {
   "cell_type": "code",
   "execution_count": 12,
   "metadata": {
    "execution": {
     "iopub.execute_input": "2021-06-24T05:50:21.523511Z",
     "iopub.status.busy": "2021-06-24T05:50:21.522910Z",
     "iopub.status.idle": "2021-06-24T05:50:21.525291Z",
     "shell.execute_reply": "2021-06-24T05:50:21.525863Z"
    },
    "jupyter": {
     "source_hidden": true
    },
    "papermill": {
     "duration": 0.013715,
     "end_time": "2021-06-24T05:50:21.526321",
     "exception": false,
     "start_time": "2021-06-24T05:50:21.512606",
     "status": "completed"
    },
    "tags": []
   },
   "outputs": [],
   "source": [
    "#with open(output_rmse, 'w') as f:\n",
    "#    f.write(cap.stdout)"
   ]
  },
  {
   "cell_type": "code",
   "execution_count": 13,
   "metadata": {
    "execution": {
     "iopub.execute_input": "2021-06-24T05:50:21.550863Z",
     "iopub.status.busy": "2021-06-24T05:50:21.550180Z",
     "iopub.status.idle": "2021-06-24T05:50:21.574213Z",
     "shell.execute_reply": "2021-06-24T05:50:21.573543Z"
    },
    "jupyter": {
     "source_hidden": true
    },
    "papermill": {
     "duration": 0.037257,
     "end_time": "2021-06-24T05:50:21.574462",
     "exception": false,
     "start_time": "2021-06-24T05:50:21.537205",
     "status": "completed"
    },
    "tags": []
   },
   "outputs": [
    {
     "data": {
      "text/plain": [
       "<sqlalchemy.engine.result.ResultProxy at 0x7f5c8511c9d0>"
      ]
     },
     "execution_count": 13,
     "metadata": {},
     "output_type": "execute_result"
    }
   ],
   "source": [
    "cnx.execute(\"\"\"\n",
    "    INSERT INTO ml.accuracies (ml_id, ml_date, accuracy) VALUES ('{0}', '{1}', {2}) \n",
    "    ON CONFLICT (ml_id, ml_date) \n",
    "    DO\n",
    "        UPDATE SET accuracy = {2};\n",
    "    \"\"\".format(ml_id, ml_date, np.sqrt(mean_squared_error(y_test, pred))))"
   ]
  }
 ],
 "metadata": {
  "kernelspec": {
   "display_name": "Python 3",
   "language": "python",
   "name": "python3"
  },
  "language_info": {
   "codemirror_mode": {
    "name": "ipython",
    "version": 3
   },
   "file_extension": ".py",
   "mimetype": "text/x-python",
   "name": "python",
   "nbconvert_exporter": "python",
   "pygments_lexer": "ipython3",
   "version": "3.7.10"
  },
  "papermill": {
   "duration": 13.483344,
   "end_time": "2021-06-24T05:50:22.798990",
   "environment_variables": {},
   "exception": null,
   "input_path": "/usr/local/airflow/include/notebooks/avocado_prediction.ipynb",
   "output_path": "/tmp/out-model-avocado-prediction-auto_100.ipynb",
   "parameters": {
    "filepath": "/tmp/avocado.csv",
    "max_features": "auto",
    "ml_id": "auto_100",
    "n_estimators": 100
   },
   "start_time": "2021-06-24T05:50:09.315646",
   "version": "2.1.2"
  }
 },
 "nbformat": 4,
 "nbformat_minor": 4
}