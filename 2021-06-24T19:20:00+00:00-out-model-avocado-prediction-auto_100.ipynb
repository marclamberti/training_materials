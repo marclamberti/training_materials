{
 "cells": [
  {
   "cell_type": "code",
   "execution_count": 1,
   "metadata": {
    "_cell_guid": "79c7e3d0-c299-4dcb-8224-4455121ee9b0",
    "_uuid": "d629ff2d2480ee46fbb7e2d37f6b5fab8052498a",
    "execution": {
     "iopub.execute_input": "2021-06-24T19:32:00.235043Z",
     "iopub.status.busy": "2021-06-24T19:32:00.231936Z",
     "iopub.status.idle": "2021-06-24T19:32:03.725596Z",
     "shell.execute_reply": "2021-06-24T19:32:03.721699Z"
    },
    "jupyter": {
     "source_hidden": true
    },
    "papermill": {
     "duration": 3.548799,
     "end_time": "2021-06-24T19:32:03.726936",
     "exception": false,
     "start_time": "2021-06-24T19:32:00.178137",
     "status": "completed"
    },
    "tags": []
   },
   "outputs": [],
   "source": [
    "import pandas as pd\n",
    "import numpy as np\n",
    "from sqlalchemy import create_engine\n",
    "from datetime import date\n",
    "from sklearn.metrics import mean_squared_error"
   ]
  },
  {
   "cell_type": "code",
   "execution_count": 2,
   "metadata": {
    "execution": {
     "iopub.execute_input": "2021-06-24T19:32:03.811641Z",
     "iopub.status.busy": "2021-06-24T19:32:03.805875Z",
     "iopub.status.idle": "2021-06-24T19:32:03.943601Z",
     "shell.execute_reply": "2021-06-24T19:32:03.940776Z"
    },
    "jupyter": {
     "source_hidden": true
    },
    "papermill": {
     "duration": 0.185528,
     "end_time": "2021-06-24T19:32:03.944681",
     "exception": false,
     "start_time": "2021-06-24T19:32:03.759153",
     "status": "completed"
    },
    "tags": []
   },
   "outputs": [],
   "source": [
    "# THIS IS PURELY FOR TEST PURPOSE NEVER DO THAT IN PRODUCTION\n",
    "POSTGRES_ADDRESS='postgres'\n",
    "POSTGRES_PORT='5432'\n",
    "POSTGRES_USERNAME='postgres'\n",
    "POSTGRES_PASSWORD='postgres'\n",
    "\n",
    "postgres_conn = 'postgresql://{0}:{1}@{2}:{3}/'.format(POSTGRES_USERNAME, POSTGRES_PASSWORD, POSTGRES_ADDRESS, POSTGRES_PORT)\n",
    "\n",
    "# Create the connection\n",
    "cnx = create_engine(postgres_conn)\n"
   ]
  },
  {
   "cell_type": "markdown",
   "metadata": {
    "_uuid": "1998755ef10683262b29765345cff1c1c7d10b15",
    "papermill": {
     "duration": 0.032428,
     "end_time": "2021-06-24T19:32:04.007461",
     "exception": false,
     "start_time": "2021-06-24T19:32:03.975033",
     "status": "completed"
    },
    "tags": []
   },
   "source": [
    "Read in the Avocado Prices csv file as a DataFrame called df"
   ]
  },
  {
   "cell_type": "code",
   "execution_count": 3,
   "metadata": {
    "execution": {
     "iopub.execute_input": "2021-06-24T19:32:04.090230Z",
     "iopub.status.busy": "2021-06-24T19:32:04.086892Z",
     "iopub.status.idle": "2021-06-24T19:32:04.101901Z",
     "shell.execute_reply": "2021-06-24T19:32:04.099085Z"
    },
    "jupyter": {
     "source_hidden": true
    },
    "papermill": {
     "duration": 0.0661,
     "end_time": "2021-06-24T19:32:04.102996",
     "exception": false,
     "start_time": "2021-06-24T19:32:04.036896",
     "status": "completed"
    },
    "tags": [
     "parameters"
    ]
   },
   "outputs": [],
   "source": [
    "# Parameterized\n",
    "\n",
    "filepath='avocado.csv'\n",
    "ml_id='auto_100'\n",
    "ml_date=date.today()\n",
    "n_estimators = 100\n",
    "max_features = 'auto'"
   ]
  },
  {
   "cell_type": "code",
   "execution_count": 4,
   "id": "7a974b69",
   "metadata": {
    "execution": {
     "iopub.execute_input": "2021-06-24T19:32:04.196050Z",
     "iopub.status.busy": "2021-06-24T19:32:04.192802Z",
     "iopub.status.idle": "2021-06-24T19:32:04.209582Z",
     "shell.execute_reply": "2021-06-24T19:32:04.207018Z"
    },
    "jupyter": {
     "source_hidden": true
    },
    "papermill": {
     "duration": 0.076401,
     "end_time": "2021-06-24T19:32:04.210641",
     "exception": false,
     "start_time": "2021-06-24T19:32:04.134240",
     "status": "completed"
    },
    "tags": [
     "injected-parameters"
    ]
   },
   "outputs": [],
   "source": [
    "# Parameters\n",
    "filepath = \"/tmp/avocado.csv\"\n",
    "n_estimators = 100\n",
    "max_features = \"auto\"\n",
    "ml_id = \"auto_100\"\n"
   ]
  },
  {
   "cell_type": "code",
   "execution_count": 5,
   "metadata": {
    "_uuid": "55d0e719eb8b91d763c1eacaf0f51ee0586486fc",
    "execution": {
     "iopub.execute_input": "2021-06-24T19:32:04.305686Z",
     "iopub.status.busy": "2021-06-24T19:32:04.302459Z",
     "iopub.status.idle": "2021-06-24T19:32:04.466953Z",
     "shell.execute_reply": "2021-06-24T19:32:04.461883Z"
    },
    "jupyter": {
     "source_hidden": true
    },
    "papermill": {
     "duration": 0.221377,
     "end_time": "2021-06-24T19:32:04.468287",
     "exception": false,
     "start_time": "2021-06-24T19:32:04.246910",
     "status": "completed"
    },
    "tags": []
   },
   "outputs": [],
   "source": [
    "df= pd.read_csv(filepath)"
   ]
  },
  {
   "cell_type": "markdown",
   "metadata": {
    "_uuid": "434e0457f550e2200424e5ec26162e1aa5904005",
    "papermill": {
     "duration": 0.043743,
     "end_time": "2021-06-24T19:32:04.552453",
     "exception": false,
     "start_time": "2021-06-24T19:32:04.508710",
     "status": "completed"
    },
    "tags": []
   },
   "source": [
    "The Feature \"Unnamed:0\" is just a representation of the indexes, so it's useless to keep it, lets remove it !"
   ]
  },
  {
   "cell_type": "code",
   "execution_count": 6,
   "metadata": {
    "_uuid": "9875398e37728dc3141fed4228be337a4735beb6",
    "execution": {
     "iopub.execute_input": "2021-06-24T19:32:04.673559Z",
     "iopub.status.busy": "2021-06-24T19:32:04.659204Z",
     "iopub.status.idle": "2021-06-24T19:32:04.695890Z",
     "shell.execute_reply": "2021-06-24T19:32:04.691968Z"
    },
    "jupyter": {
     "source_hidden": true
    },
    "papermill": {
     "duration": 0.10425,
     "end_time": "2021-06-24T19:32:04.697060",
     "exception": false,
     "start_time": "2021-06-24T19:32:04.592810",
     "status": "completed"
    },
    "tags": []
   },
   "outputs": [],
   "source": [
    "df.drop('Unnamed: 0',axis=1,inplace=True)"
   ]
  },
  {
   "cell_type": "markdown",
   "metadata": {
    "_uuid": "12e94ad381e4cb8d2c8a9bbe08ce07ab5d49c040",
    "papermill": {
     "duration": 0.047384,
     "end_time": "2021-06-24T19:32:04.793465",
     "exception": false,
     "start_time": "2021-06-24T19:32:04.746081",
     "status": "completed"
    },
    "tags": []
   },
   "source": [
    "well as a first observation we can see that we are lucky, we dont have any missing values (18249 complete data) and 13 columns.\n",
    "Now let's do some Feature Engineering on the Date Feature so we can be able to use the day and the month columns in building our machine learning model later. ( I didn't mention the year because its already there in data frame)"
   ]
  },
  {
   "cell_type": "code",
   "execution_count": 7,
   "metadata": {
    "_uuid": "f031639ce794656e877484d1c9c356df7028177f",
    "execution": {
     "iopub.execute_input": "2021-06-24T19:32:04.883843Z",
     "iopub.status.busy": "2021-06-24T19:32:04.879960Z",
     "iopub.status.idle": "2021-06-24T19:32:05.701175Z",
     "shell.execute_reply": "2021-06-24T19:32:05.697327Z"
    },
    "jupyter": {
     "source_hidden": true
    },
    "papermill": {
     "duration": 0.874865,
     "end_time": "2021-06-24T19:32:05.702263",
     "exception": false,
     "start_time": "2021-06-24T19:32:04.827398",
     "status": "completed"
    },
    "tags": []
   },
   "outputs": [],
   "source": [
    "df['Date']=pd.to_datetime(df['Date'])\n",
    "df['Month']=df['Date'].apply(lambda x:x.month)\n",
    "df['Day']=df['Date'].apply(lambda x:x.day)"
   ]
  },
  {
   "cell_type": "markdown",
   "metadata": {
    "_uuid": "ebdcac9924ce3e366fd3a75170682f7113385b7a",
    "papermill": {
     "duration": 0.033423,
     "end_time": "2021-06-24T19:32:05.770482",
     "exception": false,
     "start_time": "2021-06-24T19:32:05.737059",
     "status": "completed"
    },
    "tags": []
   },
   "source": [
    "as we can see we have 54 regions and 2 unique types, so it's going to be easy to to transform the type feature to dummies, but for the region its going to be a bit complexe so I decided to drop the entire column.\n",
    "I will drop the Date Feature as well because I already have 3 other columns for the Year, Month and Day."
   ]
  },
  {
   "cell_type": "code",
   "execution_count": 8,
   "metadata": {
    "_uuid": "a798682da34327b731ef262985fd50ba68e06460",
    "execution": {
     "iopub.execute_input": "2021-06-24T19:32:05.893007Z",
     "iopub.status.busy": "2021-06-24T19:32:05.887173Z",
     "iopub.status.idle": "2021-06-24T19:32:05.984154Z",
     "shell.execute_reply": "2021-06-24T19:32:05.978935Z"
    },
    "jupyter": {
     "source_hidden": true
    },
    "papermill": {
     "duration": 0.175182,
     "end_time": "2021-06-24T19:32:05.985250",
     "exception": false,
     "start_time": "2021-06-24T19:32:05.810068",
     "status": "completed"
    },
    "tags": []
   },
   "outputs": [],
   "source": [
    "df_final=pd.get_dummies(df.drop(['region','Date'],axis=1),drop_first=True)"
   ]
  },
  {
   "cell_type": "markdown",
   "metadata": {
    "_uuid": "8b74a6b88cb3e9b3e1d1e987e061048f203c7364",
    "papermill": {
     "duration": 0.081801,
     "end_time": "2021-06-24T19:32:06.137830",
     "exception": false,
     "start_time": "2021-06-24T19:32:06.056029",
     "status": "completed"
    },
    "tags": []
   },
   "source": [
    "Now our data are ready! lets apply our model which is going to be the Linear Regression because our Target variable 'AveragePrice'is continuous.\n",
    "Let's now begin to train out regression model! We will need to first split up our data into an X array that contains the features to train on, and a y array with the target variable"
   ]
  },
  {
   "cell_type": "code",
   "execution_count": 9,
   "metadata": {
    "_uuid": "830591f99de9715241e688bf9ce265e979401ff5",
    "execution": {
     "iopub.execute_input": "2021-06-24T19:32:06.299507Z",
     "iopub.status.busy": "2021-06-24T19:32:06.295545Z",
     "iopub.status.idle": "2021-06-24T19:32:06.363564Z",
     "shell.execute_reply": "2021-06-24T19:32:06.365760Z"
    },
    "jupyter": {
     "source_hidden": true
    },
    "papermill": {
     "duration": 0.150661,
     "end_time": "2021-06-24T19:32:06.366976",
     "exception": false,
     "start_time": "2021-06-24T19:32:06.216315",
     "status": "completed"
    },
    "tags": []
   },
   "outputs": [],
   "source": [
    "X=df_final.iloc[:,1:14]\n",
    "y=df_final['AveragePrice']\n",
    "from sklearn.model_selection import train_test_split\n",
    "X_train,X_test,y_train,y_test=train_test_split(X,y,test_size=0.2,random_state=42)"
   ]
  },
  {
   "cell_type": "markdown",
   "metadata": {
    "_uuid": "ea730c77a31cde9de98263079a189accb8b5772b",
    "papermill": {
     "duration": 0.047946,
     "end_time": "2021-06-24T19:32:06.453820",
     "exception": false,
     "start_time": "2021-06-24T19:32:06.405874",
     "status": "completed"
    },
    "tags": []
   },
   "source": [
    "Creating and Training the Model"
   ]
  },
  {
   "cell_type": "code",
   "execution_count": 10,
   "metadata": {
    "_uuid": "eb37015e78974e5fd2ae7e13d065c8ab0a9c6948",
    "execution": {
     "iopub.execute_input": "2021-06-24T19:32:06.556400Z",
     "iopub.status.busy": "2021-06-24T19:32:06.552890Z",
     "iopub.status.idle": "2021-06-24T19:32:45.381713Z",
     "shell.execute_reply": "2021-06-24T19:32:45.381024Z"
    },
    "jupyter": {
     "source_hidden": true
    },
    "papermill": {
     "duration": 38.884904,
     "end_time": "2021-06-24T19:32:45.381973",
     "exception": false,
     "start_time": "2021-06-24T19:32:06.497069",
     "status": "completed"
    },
    "tags": []
   },
   "outputs": [],
   "source": [
    "from sklearn.ensemble import RandomForestRegressor\n",
    "rdr = RandomForestRegressor(\n",
    "    n_estimators=n_estimators,\n",
    "    max_features=max_features\n",
    ")\n",
    "rdr.fit(X_train,y_train)\n",
    "pred=rdr.predict(X_test)"
   ]
  },
  {
   "cell_type": "code",
   "execution_count": 11,
   "metadata": {
    "_uuid": "7ed5b8d4e8abb44a4b548c13ac9fb2d65227d1c5",
    "execution": {
     "iopub.execute_input": "2021-06-24T19:32:45.397276Z",
     "iopub.status.busy": "2021-06-24T19:32:45.396624Z",
     "iopub.status.idle": "2021-06-24T19:32:45.399814Z",
     "shell.execute_reply": "2021-06-24T19:32:45.399378Z"
    },
    "jupyter": {
     "source_hidden": true
    },
    "papermill": {
     "duration": 0.01228,
     "end_time": "2021-06-24T19:32:45.400012",
     "exception": false,
     "start_time": "2021-06-24T19:32:45.387732",
     "status": "completed"
    },
    "tags": []
   },
   "outputs": [],
   "source": [
    "#%%capture cap --no-stderr\n",
    "#print(np.sqrt(mean_squared_error(y_test, pred)))"
   ]
  },
  {
   "cell_type": "code",
   "execution_count": 12,
   "metadata": {
    "execution": {
     "iopub.execute_input": "2021-06-24T19:32:45.415658Z",
     "iopub.status.busy": "2021-06-24T19:32:45.414877Z",
     "iopub.status.idle": "2021-06-24T19:32:45.417185Z",
     "shell.execute_reply": "2021-06-24T19:32:45.417827Z"
    },
    "jupyter": {
     "source_hidden": true
    },
    "papermill": {
     "duration": 0.012752,
     "end_time": "2021-06-24T19:32:45.418078",
     "exception": false,
     "start_time": "2021-06-24T19:32:45.405326",
     "status": "completed"
    },
    "tags": []
   },
   "outputs": [],
   "source": [
    "#with open(output_rmse, 'w') as f:\n",
    "#    f.write(cap.stdout)"
   ]
  },
  {
   "cell_type": "code",
   "execution_count": 13,
   "metadata": {
    "execution": {
     "iopub.execute_input": "2021-06-24T19:32:45.436089Z",
     "iopub.status.busy": "2021-06-24T19:32:45.435249Z",
     "iopub.status.idle": "2021-06-24T19:32:45.455812Z",
     "shell.execute_reply": "2021-06-24T19:32:45.455383Z"
    },
    "jupyter": {
     "source_hidden": true
    },
    "papermill": {
     "duration": 0.0319,
     "end_time": "2021-06-24T19:32:45.456012",
     "exception": false,
     "start_time": "2021-06-24T19:32:45.424112",
     "status": "completed"
    },
    "tags": []
   },
   "outputs": [
    {
     "data": {
      "text/plain": [
       "<sqlalchemy.engine.result.ResultProxy at 0x7fb9ac65b090>"
      ]
     },
     "execution_count": 13,
     "metadata": {},
     "output_type": "execute_result"
    }
   ],
   "source": [
    "cnx.execute(\"\"\"\n",
    "    INSERT INTO ml.accuracies (ml_id, ml_date, accuracy) VALUES ('{0}', '{1}', {2}) \n",
    "    ON CONFLICT (ml_id, ml_date) \n",
    "    DO\n",
    "        UPDATE SET accuracy = {2};\n",
    "    \"\"\".format(ml_id, ml_date, np.sqrt(mean_squared_error(y_test, pred))))"
   ]
  }
 ],
 "metadata": {
  "kernelspec": {
   "display_name": "Python 3",
   "language": "python",
   "name": "python3"
  },
  "language_info": {
   "codemirror_mode": {
    "name": "ipython",
    "version": 3
   },
   "file_extension": ".py",
   "mimetype": "text/x-python",
   "name": "python",
   "nbconvert_exporter": "python",
   "pygments_lexer": "ipython3",
   "version": "3.7.10"
  },
  "papermill": {
   "duration": 50.210417,
   "end_time": "2021-06-24T19:32:45.773706",
   "environment_variables": {},
   "exception": null,
   "input_path": "/usr/local/airflow/include/notebooks/avocado_prediction.ipynb",
   "output_path": "/tmp/out-model-avocado-prediction-auto_100.ipynb",
   "parameters": {
    "filepath": "/tmp/avocado.csv",
    "max_features": "auto",
    "ml_id": "auto_100",
    "n_estimators": 100
   },
   "start_time": "2021-06-24T19:31:55.563289",
   "version": "2.1.2"
  }
 },
 "nbformat": 4,
 "nbformat_minor": 4
}