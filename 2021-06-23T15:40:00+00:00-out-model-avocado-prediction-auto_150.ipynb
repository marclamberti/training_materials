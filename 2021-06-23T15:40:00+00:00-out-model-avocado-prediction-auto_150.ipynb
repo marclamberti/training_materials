{
 "cells": [
  {
   "cell_type": "code",
   "execution_count": 1,
   "metadata": {
    "_cell_guid": "79c7e3d0-c299-4dcb-8224-4455121ee9b0",
    "_uuid": "d629ff2d2480ee46fbb7e2d37f6b5fab8052498a",
    "execution": {
     "iopub.execute_input": "2021-06-23T15:55:19.310523Z",
     "iopub.status.busy": "2021-06-23T15:55:19.309984Z",
     "iopub.status.idle": "2021-06-23T15:55:20.318523Z",
     "shell.execute_reply": "2021-06-23T15:55:20.317943Z"
    },
    "jupyter": {
     "source_hidden": true
    },
    "papermill": {
     "duration": 1.024161,
     "end_time": "2021-06-23T15:55:20.318670",
     "exception": false,
     "start_time": "2021-06-23T15:55:19.294509",
     "status": "completed"
    },
    "tags": []
   },
   "outputs": [],
   "source": [
    "import pandas as pd\n",
    "import numpy as np\n",
    "from sqlalchemy import create_engine\n",
    "from datetime import date\n",
    "from sklearn.metrics import mean_squared_error"
   ]
  },
  {
   "cell_type": "code",
   "execution_count": 2,
   "metadata": {
    "execution": {
     "iopub.execute_input": "2021-06-23T15:55:20.342140Z",
     "iopub.status.busy": "2021-06-23T15:55:20.340100Z",
     "iopub.status.idle": "2021-06-23T15:55:20.376491Z",
     "shell.execute_reply": "2021-06-23T15:55:20.376898Z"
    },
    "jupyter": {
     "source_hidden": true
    },
    "papermill": {
     "duration": 0.05032,
     "end_time": "2021-06-23T15:55:20.377050",
     "exception": false,
     "start_time": "2021-06-23T15:55:20.326730",
     "status": "completed"
    },
    "tags": []
   },
   "outputs": [],
   "source": [
    "# THIS IS PURELY FOR TEST PURPOSE NEVER DO THAT IN PRODUCTION\n",
    "POSTGRES_ADDRESS='postgres'\n",
    "POSTGRES_PORT='5432'\n",
    "POSTGRES_USERNAME='postgres'\n",
    "POSTGRES_PASSWORD='postgres'\n",
    "\n",
    "postgres_conn = 'postgresql://{0}:{1}@{2}:{3}/'.format(POSTGRES_USERNAME, POSTGRES_PASSWORD, POSTGRES_ADDRESS, POSTGRES_PORT)\n",
    "\n",
    "# Create the connection\n",
    "cnx = create_engine(postgres_conn)\n"
   ]
  },
  {
   "cell_type": "markdown",
   "metadata": {
    "_uuid": "1998755ef10683262b29765345cff1c1c7d10b15",
    "papermill": {
     "duration": 0.007371,
     "end_time": "2021-06-23T15:55:20.390704",
     "exception": false,
     "start_time": "2021-06-23T15:55:20.383333",
     "status": "completed"
    },
    "tags": []
   },
   "source": [
    "Read in the Avocado Prices csv file as a DataFrame called df"
   ]
  },
  {
   "cell_type": "code",
   "execution_count": 3,
   "metadata": {
    "execution": {
     "iopub.execute_input": "2021-06-23T15:55:20.409423Z",
     "iopub.status.busy": "2021-06-23T15:55:20.408758Z",
     "iopub.status.idle": "2021-06-23T15:55:20.412366Z",
     "shell.execute_reply": "2021-06-23T15:55:20.412750Z"
    },
    "jupyter": {
     "source_hidden": true
    },
    "papermill": {
     "duration": 0.014955,
     "end_time": "2021-06-23T15:55:20.412876",
     "exception": false,
     "start_time": "2021-06-23T15:55:20.397921",
     "status": "completed"
    },
    "tags": [
     "parameters"
    ]
   },
   "outputs": [],
   "source": [
    "# Parameterized\n",
    "\n",
    "filepath='avocado.csv'\n",
    "ml_id='auto_100'\n",
    "ml_date=date.today()\n",
    "n_estimators = 100\n",
    "max_features = 'auto'"
   ]
  },
  {
   "cell_type": "code",
   "execution_count": 4,
   "id": "590e5c0f",
   "metadata": {
    "execution": {
     "iopub.execute_input": "2021-06-23T15:55:20.429064Z",
     "iopub.status.busy": "2021-06-23T15:55:20.428279Z",
     "iopub.status.idle": "2021-06-23T15:55:20.430578Z",
     "shell.execute_reply": "2021-06-23T15:55:20.431435Z"
    },
    "jupyter": {
     "source_hidden": true
    },
    "papermill": {
     "duration": 0.013404,
     "end_time": "2021-06-23T15:55:20.431624",
     "exception": false,
     "start_time": "2021-06-23T15:55:20.418220",
     "status": "completed"
    },
    "tags": [
     "injected-parameters"
    ]
   },
   "outputs": [],
   "source": [
    "# Parameters\n",
    "filepath = \"/tmp/avocado.csv\"\n",
    "n_estimators = 150\n",
    "max_features = \"auto\"\n",
    "ml_id = \"auto_150\"\n"
   ]
  },
  {
   "cell_type": "code",
   "execution_count": 5,
   "metadata": {
    "_uuid": "55d0e719eb8b91d763c1eacaf0f51ee0586486fc",
    "execution": {
     "iopub.execute_input": "2021-06-23T15:55:20.453862Z",
     "iopub.status.busy": "2021-06-23T15:55:20.453380Z",
     "iopub.status.idle": "2021-06-23T15:55:20.492463Z",
     "shell.execute_reply": "2021-06-23T15:55:20.493635Z"
    },
    "jupyter": {
     "source_hidden": true
    },
    "papermill": {
     "duration": 0.055734,
     "end_time": "2021-06-23T15:55:20.494214",
     "exception": false,
     "start_time": "2021-06-23T15:55:20.438480",
     "status": "completed"
    },
    "tags": []
   },
   "outputs": [],
   "source": [
    "df= pd.read_csv(filepath)"
   ]
  },
  {
   "cell_type": "markdown",
   "metadata": {
    "_uuid": "434e0457f550e2200424e5ec26162e1aa5904005",
    "papermill": {
     "duration": 0.007702,
     "end_time": "2021-06-23T15:55:20.509957",
     "exception": false,
     "start_time": "2021-06-23T15:55:20.502255",
     "status": "completed"
    },
    "tags": []
   },
   "source": [
    "The Feature \"Unnamed:0\" is just a representation of the indexes, so it's useless to keep it, lets remove it !"
   ]
  },
  {
   "cell_type": "code",
   "execution_count": 6,
   "metadata": {
    "_uuid": "9875398e37728dc3141fed4228be337a4735beb6",
    "execution": {
     "iopub.execute_input": "2021-06-23T15:55:20.531555Z",
     "iopub.status.busy": "2021-06-23T15:55:20.531075Z",
     "iopub.status.idle": "2021-06-23T15:55:20.535037Z",
     "shell.execute_reply": "2021-06-23T15:55:20.535396Z"
    },
    "jupyter": {
     "source_hidden": true
    },
    "papermill": {
     "duration": 0.017578,
     "end_time": "2021-06-23T15:55:20.535519",
     "exception": false,
     "start_time": "2021-06-23T15:55:20.517941",
     "status": "completed"
    },
    "tags": []
   },
   "outputs": [],
   "source": [
    "df.drop('Unnamed: 0',axis=1,inplace=True)"
   ]
  },
  {
   "cell_type": "markdown",
   "metadata": {
    "_uuid": "12e94ad381e4cb8d2c8a9bbe08ce07ab5d49c040",
    "papermill": {
     "duration": 0.007526,
     "end_time": "2021-06-23T15:55:20.550488",
     "exception": false,
     "start_time": "2021-06-23T15:55:20.542962",
     "status": "completed"
    },
    "tags": []
   },
   "source": [
    "well as a first observation we can see that we are lucky, we dont have any missing values (18249 complete data) and 13 columns.\n",
    "Now let's do some Feature Engineering on the Date Feature so we can be able to use the day and the month columns in building our machine learning model later. ( I didn't mention the year because its already there in data frame)"
   ]
  },
  {
   "cell_type": "code",
   "execution_count": 7,
   "metadata": {
    "_uuid": "f031639ce794656e877484d1c9c356df7028177f",
    "execution": {
     "iopub.execute_input": "2021-06-23T15:55:20.575423Z",
     "iopub.status.busy": "2021-06-23T15:55:20.574888Z",
     "iopub.status.idle": "2021-06-23T15:55:20.817151Z",
     "shell.execute_reply": "2021-06-23T15:55:20.817947Z"
    },
    "jupyter": {
     "source_hidden": true
    },
    "papermill": {
     "duration": 0.261087,
     "end_time": "2021-06-23T15:55:20.818128",
     "exception": false,
     "start_time": "2021-06-23T15:55:20.557041",
     "status": "completed"
    },
    "tags": []
   },
   "outputs": [],
   "source": [
    "df['Date']=pd.to_datetime(df['Date'])\n",
    "df['Month']=df['Date'].apply(lambda x:x.month)\n",
    "df['Day']=df['Date'].apply(lambda x:x.day)"
   ]
  },
  {
   "cell_type": "markdown",
   "metadata": {
    "_uuid": "ebdcac9924ce3e366fd3a75170682f7113385b7a",
    "papermill": {
     "duration": 0.008274,
     "end_time": "2021-06-23T15:55:20.834045",
     "exception": false,
     "start_time": "2021-06-23T15:55:20.825771",
     "status": "completed"
    },
    "tags": []
   },
   "source": [
    "as we can see we have 54 regions and 2 unique types, so it's going to be easy to to transform the type feature to dummies, but for the region its going to be a bit complexe so I decided to drop the entire column.\n",
    "I will drop the Date Feature as well because I already have 3 other columns for the Year, Month and Day."
   ]
  },
  {
   "cell_type": "code",
   "execution_count": 8,
   "metadata": {
    "_uuid": "a798682da34327b731ef262985fd50ba68e06460",
    "execution": {
     "iopub.execute_input": "2021-06-23T15:55:20.858576Z",
     "iopub.status.busy": "2021-06-23T15:55:20.857539Z",
     "iopub.status.idle": "2021-06-23T15:55:20.871451Z",
     "shell.execute_reply": "2021-06-23T15:55:20.870717Z"
    },
    "jupyter": {
     "source_hidden": true
    },
    "papermill": {
     "duration": 0.029563,
     "end_time": "2021-06-23T15:55:20.871573",
     "exception": false,
     "start_time": "2021-06-23T15:55:20.842010",
     "status": "completed"
    },
    "tags": []
   },
   "outputs": [],
   "source": [
    "df_final=pd.get_dummies(df.drop(['region','Date'],axis=1),drop_first=True)"
   ]
  },
  {
   "cell_type": "markdown",
   "metadata": {
    "_uuid": "8b74a6b88cb3e9b3e1d1e987e061048f203c7364",
    "papermill": {
     "duration": 0.007773,
     "end_time": "2021-06-23T15:55:20.887344",
     "exception": false,
     "start_time": "2021-06-23T15:55:20.879571",
     "status": "completed"
    },
    "tags": []
   },
   "source": [
    "Now our data are ready! lets apply our model which is going to be the Linear Regression because our Target variable 'AveragePrice'is continuous.\n",
    "Let's now begin to train out regression model! We will need to first split up our data into an X array that contains the features to train on, and a y array with the target variable"
   ]
  },
  {
   "cell_type": "code",
   "execution_count": 9,
   "metadata": {
    "_uuid": "830591f99de9715241e688bf9ce265e979401ff5",
    "execution": {
     "iopub.execute_input": "2021-06-23T15:55:20.911657Z",
     "iopub.status.busy": "2021-06-23T15:55:20.911079Z",
     "iopub.status.idle": "2021-06-23T15:55:20.920999Z",
     "shell.execute_reply": "2021-06-23T15:55:20.922074Z"
    },
    "jupyter": {
     "source_hidden": true
    },
    "papermill": {
     "duration": 0.027456,
     "end_time": "2021-06-23T15:55:20.922272",
     "exception": false,
     "start_time": "2021-06-23T15:55:20.894816",
     "status": "completed"
    },
    "tags": []
   },
   "outputs": [],
   "source": [
    "X=df_final.iloc[:,1:14]\n",
    "y=df_final['AveragePrice']\n",
    "from sklearn.model_selection import train_test_split\n",
    "X_train,X_test,y_train,y_test=train_test_split(X,y,test_size=0.2,random_state=42)"
   ]
  },
  {
   "cell_type": "markdown",
   "metadata": {
    "_uuid": "ea730c77a31cde9de98263079a189accb8b5772b",
    "papermill": {
     "duration": 0.006457,
     "end_time": "2021-06-23T15:55:20.936688",
     "exception": false,
     "start_time": "2021-06-23T15:55:20.930231",
     "status": "completed"
    },
    "tags": []
   },
   "source": [
    "Creating and Training the Model"
   ]
  },
  {
   "cell_type": "code",
   "execution_count": 10,
   "metadata": {
    "_uuid": "eb37015e78974e5fd2ae7e13d065c8ab0a9c6948",
    "execution": {
     "iopub.execute_input": "2021-06-23T15:55:20.957124Z",
     "iopub.status.busy": "2021-06-23T15:55:20.956332Z",
     "iopub.status.idle": "2021-06-23T15:55:40.645910Z",
     "shell.execute_reply": "2021-06-23T15:55:40.646591Z"
    },
    "jupyter": {
     "source_hidden": true
    },
    "papermill": {
     "duration": 19.702329,
     "end_time": "2021-06-23T15:55:40.646768",
     "exception": false,
     "start_time": "2021-06-23T15:55:20.944439",
     "status": "completed"
    },
    "tags": []
   },
   "outputs": [],
   "source": [
    "from sklearn.ensemble import RandomForestRegressor\n",
    "rdr = RandomForestRegressor(\n",
    "    n_estimators=n_estimators,\n",
    "    max_features=max_features\n",
    ")\n",
    "rdr.fit(X_train,y_train)\n",
    "pred=rdr.predict(X_test)"
   ]
  },
  {
   "cell_type": "code",
   "execution_count": 11,
   "metadata": {
    "_uuid": "7ed5b8d4e8abb44a4b548c13ac9fb2d65227d1c5",
    "execution": {
     "iopub.execute_input": "2021-06-23T15:55:40.670557Z",
     "iopub.status.busy": "2021-06-23T15:55:40.667976Z",
     "iopub.status.idle": "2021-06-23T15:55:40.671280Z",
     "shell.execute_reply": "2021-06-23T15:55:40.671784Z"
    },
    "jupyter": {
     "source_hidden": true
    },
    "papermill": {
     "duration": 0.016426,
     "end_time": "2021-06-23T15:55:40.671940",
     "exception": false,
     "start_time": "2021-06-23T15:55:40.655514",
     "status": "completed"
    },
    "tags": []
   },
   "outputs": [],
   "source": [
    "#%%capture cap --no-stderr\n",
    "#print(np.sqrt(mean_squared_error(y_test, pred)))"
   ]
  },
  {
   "cell_type": "code",
   "execution_count": 12,
   "metadata": {
    "execution": {
     "iopub.execute_input": "2021-06-23T15:55:40.692089Z",
     "iopub.status.busy": "2021-06-23T15:55:40.691548Z",
     "iopub.status.idle": "2021-06-23T15:55:40.695048Z",
     "shell.execute_reply": "2021-06-23T15:55:40.695413Z"
    },
    "jupyter": {
     "source_hidden": true
    },
    "papermill": {
     "duration": 0.015578,
     "end_time": "2021-06-23T15:55:40.695531",
     "exception": false,
     "start_time": "2021-06-23T15:55:40.679953",
     "status": "completed"
    },
    "tags": []
   },
   "outputs": [],
   "source": [
    "#with open(output_rmse, 'w') as f:\n",
    "#    f.write(cap.stdout)"
   ]
  },
  {
   "cell_type": "code",
   "execution_count": 13,
   "metadata": {
    "execution": {
     "iopub.execute_input": "2021-06-23T15:55:40.716910Z",
     "iopub.status.busy": "2021-06-23T15:55:40.716034Z",
     "iopub.status.idle": "2021-06-23T15:55:40.745212Z",
     "shell.execute_reply": "2021-06-23T15:55:40.744700Z"
    },
    "jupyter": {
     "source_hidden": true
    },
    "papermill": {
     "duration": 0.041975,
     "end_time": "2021-06-23T15:55:40.745321",
     "exception": false,
     "start_time": "2021-06-23T15:55:40.703346",
     "status": "completed"
    },
    "tags": []
   },
   "outputs": [
    {
     "data": {
      "text/plain": [
       "<sqlalchemy.engine.result.ResultProxy at 0x7fd235a20a90>"
      ]
     },
     "execution_count": 13,
     "metadata": {},
     "output_type": "execute_result"
    }
   ],
   "source": [
    "cnx.execute(\"\"\"\n",
    "    INSERT INTO ml.accuracies (ml_id, ml_date, accuracy) VALUES ('{0}', '{1}', {2}) \n",
    "    ON CONFLICT (ml_id, ml_date) \n",
    "    DO\n",
    "        UPDATE SET accuracy = {2};\n",
    "    \"\"\".format(ml_id, ml_date, np.sqrt(mean_squared_error(y_test, pred))))"
   ]
  }
 ],
 "metadata": {
  "kernelspec": {
   "display_name": "Python 3",
   "language": "python",
   "name": "python3"
  },
  "language_info": {
   "codemirror_mode": {
    "name": "ipython",
    "version": 3
   },
   "file_extension": ".py",
   "mimetype": "text/x-python",
   "name": "python",
   "nbconvert_exporter": "python",
   "pygments_lexer": "ipython3",
   "version": "3.7.10"
  },
  "papermill": {
   "duration": 23.452999,
   "end_time": "2021-06-23T15:55:41.166834",
   "environment_variables": {},
   "exception": null,
   "input_path": "/usr/local/airflow/include/notebooks/avocado_prediction.ipynb",
   "output_path": "/tmp/out-model-avocado-prediction-auto_150.ipynb",
   "parameters": {
    "filepath": "/tmp/avocado.csv",
    "max_features": "auto",
    "ml_id": "auto_150",
    "n_estimators": 150
   },
   "start_time": "2021-06-23T15:55:17.713835",
   "version": "2.1.2"
  }
 },
 "nbformat": 4,
 "nbformat_minor": 4
}