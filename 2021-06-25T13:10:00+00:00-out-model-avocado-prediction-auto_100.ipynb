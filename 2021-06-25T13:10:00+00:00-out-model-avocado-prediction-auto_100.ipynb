{
 "cells": [
  {
   "cell_type": "code",
   "execution_count": 1,
   "metadata": {
    "_cell_guid": "79c7e3d0-c299-4dcb-8224-4455121ee9b0",
    "_uuid": "d629ff2d2480ee46fbb7e2d37f6b5fab8052498a",
    "execution": {
     "iopub.execute_input": "2021-06-25T13:20:09.529785Z",
     "iopub.status.busy": "2021-06-25T13:20:09.529159Z",
     "iopub.status.idle": "2021-06-25T13:20:10.124989Z",
     "shell.execute_reply": "2021-06-25T13:20:10.124073Z"
    },
    "jupyter": {
     "source_hidden": true
    },
    "papermill": {
     "duration": 0.609607,
     "end_time": "2021-06-25T13:20:10.125248",
     "exception": false,
     "start_time": "2021-06-25T13:20:09.515641",
     "status": "completed"
    },
    "tags": []
   },
   "outputs": [],
   "source": [
    "import pandas as pd\n",
    "import numpy as np\n",
    "from sqlalchemy import create_engine\n",
    "from datetime import date\n",
    "from sklearn.metrics import mean_squared_error"
   ]
  },
  {
   "cell_type": "code",
   "execution_count": 2,
   "metadata": {
    "execution": {
     "iopub.execute_input": "2021-06-25T13:20:10.143659Z",
     "iopub.status.busy": "2021-06-25T13:20:10.142925Z",
     "iopub.status.idle": "2021-06-25T13:20:10.167458Z",
     "shell.execute_reply": "2021-06-25T13:20:10.167031Z"
    },
    "jupyter": {
     "source_hidden": true
    },
    "papermill": {
     "duration": 0.035523,
     "end_time": "2021-06-25T13:20:10.167699",
     "exception": false,
     "start_time": "2021-06-25T13:20:10.132176",
     "status": "completed"
    },
    "tags": []
   },
   "outputs": [],
   "source": [
    "# THIS IS PURELY FOR TEST PURPOSE NEVER DO THAT IN PRODUCTION\n",
    "POSTGRES_ADDRESS='postgres'\n",
    "POSTGRES_PORT='5432'\n",
    "POSTGRES_USERNAME='postgres'\n",
    "POSTGRES_PASSWORD='postgres'\n",
    "\n",
    "postgres_conn = 'postgresql://{0}:{1}@{2}:{3}/'.format(POSTGRES_USERNAME, POSTGRES_PASSWORD, POSTGRES_ADDRESS, POSTGRES_PORT)\n",
    "\n",
    "# Create the connection\n",
    "cnx = create_engine(postgres_conn)\n"
   ]
  },
  {
   "cell_type": "markdown",
   "metadata": {
    "_uuid": "1998755ef10683262b29765345cff1c1c7d10b15",
    "papermill": {
     "duration": 0.005126,
     "end_time": "2021-06-25T13:20:10.177785",
     "exception": false,
     "start_time": "2021-06-25T13:20:10.172659",
     "status": "completed"
    },
    "tags": []
   },
   "source": [
    "Read in the Avocado Prices csv file as a DataFrame called df"
   ]
  },
  {
   "cell_type": "code",
   "execution_count": 3,
   "metadata": {
    "execution": {
     "iopub.execute_input": "2021-06-25T13:20:10.190932Z",
     "iopub.status.busy": "2021-06-25T13:20:10.190240Z",
     "iopub.status.idle": "2021-06-25T13:20:10.193542Z",
     "shell.execute_reply": "2021-06-25T13:20:10.193139Z"
    },
    "jupyter": {
     "source_hidden": true
    },
    "papermill": {
     "duration": 0.011315,
     "end_time": "2021-06-25T13:20:10.193796",
     "exception": false,
     "start_time": "2021-06-25T13:20:10.182481",
     "status": "completed"
    },
    "tags": [
     "parameters"
    ]
   },
   "outputs": [],
   "source": [
    "# Parameterized\n",
    "\n",
    "filepath='avocado.csv'\n",
    "ml_id='auto_100'\n",
    "ml_date=date.today()\n",
    "n_estimators = 100\n",
    "max_features = 'auto'"
   ]
  },
  {
   "cell_type": "code",
   "execution_count": 4,
   "id": "a180b1b5",
   "metadata": {
    "execution": {
     "iopub.execute_input": "2021-06-25T13:20:10.206299Z",
     "iopub.status.busy": "2021-06-25T13:20:10.205841Z",
     "iopub.status.idle": "2021-06-25T13:20:10.209190Z",
     "shell.execute_reply": "2021-06-25T13:20:10.208816Z"
    },
    "jupyter": {
     "source_hidden": true
    },
    "papermill": {
     "duration": 0.01144,
     "end_time": "2021-06-25T13:20:10.209359",
     "exception": false,
     "start_time": "2021-06-25T13:20:10.197919",
     "status": "completed"
    },
    "tags": [
     "injected-parameters"
    ]
   },
   "outputs": [],
   "source": [
    "# Parameters\n",
    "filepath = \"/tmp/avocado.csv\"\n",
    "n_estimators = 100\n",
    "max_features = \"auto\"\n",
    "ml_id = \"auto_100\"\n"
   ]
  },
  {
   "cell_type": "code",
   "execution_count": 5,
   "metadata": {
    "_uuid": "55d0e719eb8b91d763c1eacaf0f51ee0586486fc",
    "execution": {
     "iopub.execute_input": "2021-06-25T13:20:10.223960Z",
     "iopub.status.busy": "2021-06-25T13:20:10.223365Z",
     "iopub.status.idle": "2021-06-25T13:20:10.249423Z",
     "shell.execute_reply": "2021-06-25T13:20:10.248852Z"
    },
    "jupyter": {
     "source_hidden": true
    },
    "papermill": {
     "duration": 0.035768,
     "end_time": "2021-06-25T13:20:10.249661",
     "exception": false,
     "start_time": "2021-06-25T13:20:10.213893",
     "status": "completed"
    },
    "tags": []
   },
   "outputs": [],
   "source": [
    "df= pd.read_csv(filepath)"
   ]
  },
  {
   "cell_type": "markdown",
   "metadata": {
    "_uuid": "434e0457f550e2200424e5ec26162e1aa5904005",
    "papermill": {
     "duration": 0.005026,
     "end_time": "2021-06-25T13:20:10.259666",
     "exception": false,
     "start_time": "2021-06-25T13:20:10.254640",
     "status": "completed"
    },
    "tags": []
   },
   "source": [
    "The Feature \"Unnamed:0\" is just a representation of the indexes, so it's useless to keep it, lets remove it !"
   ]
  },
  {
   "cell_type": "code",
   "execution_count": 6,
   "metadata": {
    "_uuid": "9875398e37728dc3141fed4228be337a4735beb6",
    "execution": {
     "iopub.execute_input": "2021-06-25T13:20:10.275078Z",
     "iopub.status.busy": "2021-06-25T13:20:10.274496Z",
     "iopub.status.idle": "2021-06-25T13:20:10.277604Z",
     "shell.execute_reply": "2021-06-25T13:20:10.277265Z"
    },
    "jupyter": {
     "source_hidden": true
    },
    "papermill": {
     "duration": 0.013573,
     "end_time": "2021-06-25T13:20:10.277874",
     "exception": false,
     "start_time": "2021-06-25T13:20:10.264301",
     "status": "completed"
    },
    "tags": []
   },
   "outputs": [],
   "source": [
    "df.drop('Unnamed: 0',axis=1,inplace=True)"
   ]
  },
  {
   "cell_type": "markdown",
   "metadata": {
    "_uuid": "12e94ad381e4cb8d2c8a9bbe08ce07ab5d49c040",
    "papermill": {
     "duration": 0.004926,
     "end_time": "2021-06-25T13:20:10.287498",
     "exception": false,
     "start_time": "2021-06-25T13:20:10.282572",
     "status": "completed"
    },
    "tags": []
   },
   "source": [
    "well as a first observation we can see that we are lucky, we dont have any missing values (18249 complete data) and 13 columns.\n",
    "Now let's do some Feature Engineering on the Date Feature so we can be able to use the day and the month columns in building our machine learning model later. ( I didn't mention the year because its already there in data frame)"
   ]
  },
  {
   "cell_type": "code",
   "execution_count": 7,
   "metadata": {
    "_uuid": "f031639ce794656e877484d1c9c356df7028177f",
    "execution": {
     "iopub.execute_input": "2021-06-25T13:20:10.302011Z",
     "iopub.status.busy": "2021-06-25T13:20:10.301383Z",
     "iopub.status.idle": "2021-06-25T13:20:10.402803Z",
     "shell.execute_reply": "2021-06-25T13:20:10.402189Z"
    },
    "jupyter": {
     "source_hidden": true
    },
    "papermill": {
     "duration": 0.111046,
     "end_time": "2021-06-25T13:20:10.402983",
     "exception": false,
     "start_time": "2021-06-25T13:20:10.291937",
     "status": "completed"
    },
    "tags": []
   },
   "outputs": [],
   "source": [
    "df['Date']=pd.to_datetime(df['Date'])\n",
    "df['Month']=df['Date'].apply(lambda x:x.month)\n",
    "df['Day']=df['Date'].apply(lambda x:x.day)"
   ]
  },
  {
   "cell_type": "markdown",
   "metadata": {
    "_uuid": "ebdcac9924ce3e366fd3a75170682f7113385b7a",
    "papermill": {
     "duration": 0.004281,
     "end_time": "2021-06-25T13:20:10.412365",
     "exception": false,
     "start_time": "2021-06-25T13:20:10.408084",
     "status": "completed"
    },
    "tags": []
   },
   "source": [
    "as we can see we have 54 regions and 2 unique types, so it's going to be easy to to transform the type feature to dummies, but for the region its going to be a bit complexe so I decided to drop the entire column.\n",
    "I will drop the Date Feature as well because I already have 3 other columns for the Year, Month and Day."
   ]
  },
  {
   "cell_type": "code",
   "execution_count": 8,
   "metadata": {
    "_uuid": "a798682da34327b731ef262985fd50ba68e06460",
    "execution": {
     "iopub.execute_input": "2021-06-25T13:20:10.431248Z",
     "iopub.status.busy": "2021-06-25T13:20:10.430628Z",
     "iopub.status.idle": "2021-06-25T13:20:10.436722Z",
     "shell.execute_reply": "2021-06-25T13:20:10.436149Z"
    },
    "jupyter": {
     "source_hidden": true
    },
    "papermill": {
     "duration": 0.020222,
     "end_time": "2021-06-25T13:20:10.436949",
     "exception": false,
     "start_time": "2021-06-25T13:20:10.416727",
     "status": "completed"
    },
    "tags": []
   },
   "outputs": [],
   "source": [
    "df_final=pd.get_dummies(df.drop(['region','Date'],axis=1),drop_first=True)"
   ]
  },
  {
   "cell_type": "markdown",
   "metadata": {
    "_uuid": "8b74a6b88cb3e9b3e1d1e987e061048f203c7364",
    "papermill": {
     "duration": 0.004733,
     "end_time": "2021-06-25T13:20:10.446651",
     "exception": false,
     "start_time": "2021-06-25T13:20:10.441918",
     "status": "completed"
    },
    "tags": []
   },
   "source": [
    "Now our data are ready! lets apply our model which is going to be the Linear Regression because our Target variable 'AveragePrice'is continuous.\n",
    "Let's now begin to train out regression model! We will need to first split up our data into an X array that contains the features to train on, and a y array with the target variable"
   ]
  },
  {
   "cell_type": "code",
   "execution_count": 9,
   "metadata": {
    "_uuid": "830591f99de9715241e688bf9ce265e979401ff5",
    "execution": {
     "iopub.execute_input": "2021-06-25T13:20:10.462487Z",
     "iopub.status.busy": "2021-06-25T13:20:10.461644Z",
     "iopub.status.idle": "2021-06-25T13:20:10.473656Z",
     "shell.execute_reply": "2021-06-25T13:20:10.472653Z"
    },
    "jupyter": {
     "source_hidden": true
    },
    "papermill": {
     "duration": 0.02262,
     "end_time": "2021-06-25T13:20:10.473916",
     "exception": false,
     "start_time": "2021-06-25T13:20:10.451296",
     "status": "completed"
    },
    "tags": []
   },
   "outputs": [],
   "source": [
    "X=df_final.iloc[:,1:14]\n",
    "y=df_final['AveragePrice']\n",
    "from sklearn.model_selection import train_test_split\n",
    "X_train,X_test,y_train,y_test=train_test_split(X,y,test_size=0.2,random_state=42)"
   ]
  },
  {
   "cell_type": "markdown",
   "metadata": {
    "_uuid": "ea730c77a31cde9de98263079a189accb8b5772b",
    "papermill": {
     "duration": 0.005537,
     "end_time": "2021-06-25T13:20:10.486698",
     "exception": false,
     "start_time": "2021-06-25T13:20:10.481161",
     "status": "completed"
    },
    "tags": []
   },
   "source": [
    "Creating and Training the Model"
   ]
  },
  {
   "cell_type": "code",
   "execution_count": 10,
   "metadata": {
    "_uuid": "eb37015e78974e5fd2ae7e13d065c8ab0a9c6948",
    "execution": {
     "iopub.execute_input": "2021-06-25T13:20:10.502891Z",
     "iopub.status.busy": "2021-06-25T13:20:10.502168Z",
     "iopub.status.idle": "2021-06-25T13:20:17.667224Z",
     "shell.execute_reply": "2021-06-25T13:20:17.667632Z"
    },
    "jupyter": {
     "source_hidden": true
    },
    "papermill": {
     "duration": 7.176028,
     "end_time": "2021-06-25T13:20:17.667921",
     "exception": false,
     "start_time": "2021-06-25T13:20:10.491893",
     "status": "completed"
    },
    "tags": []
   },
   "outputs": [],
   "source": [
    "from sklearn.ensemble import RandomForestRegressor\n",
    "rdr = RandomForestRegressor(\n",
    "    n_estimators=n_estimators,\n",
    "    max_features=max_features\n",
    ")\n",
    "rdr.fit(X_train,y_train)\n",
    "pred=rdr.predict(X_test)"
   ]
  },
  {
   "cell_type": "code",
   "execution_count": 11,
   "metadata": {
    "_uuid": "7ed5b8d4e8abb44a4b548c13ac9fb2d65227d1c5",
    "execution": {
     "iopub.execute_input": "2021-06-25T13:20:17.683268Z",
     "iopub.status.busy": "2021-06-25T13:20:17.682617Z",
     "iopub.status.idle": "2021-06-25T13:20:17.685579Z",
     "shell.execute_reply": "2021-06-25T13:20:17.685158Z"
    },
    "jupyter": {
     "source_hidden": true
    },
    "papermill": {
     "duration": 0.011832,
     "end_time": "2021-06-25T13:20:17.685816",
     "exception": false,
     "start_time": "2021-06-25T13:20:17.673984",
     "status": "completed"
    },
    "tags": []
   },
   "outputs": [],
   "source": [
    "#%%capture cap --no-stderr\n",
    "#print(np.sqrt(mean_squared_error(y_test, pred)))"
   ]
  },
  {
   "cell_type": "code",
   "execution_count": 12,
   "metadata": {
    "execution": {
     "iopub.execute_input": "2021-06-25T13:20:17.699325Z",
     "iopub.status.busy": "2021-06-25T13:20:17.698865Z",
     "iopub.status.idle": "2021-06-25T13:20:17.702037Z",
     "shell.execute_reply": "2021-06-25T13:20:17.701661Z"
    },
    "jupyter": {
     "source_hidden": true
    },
    "papermill": {
     "duration": 0.011282,
     "end_time": "2021-06-25T13:20:17.702209",
     "exception": false,
     "start_time": "2021-06-25T13:20:17.690927",
     "status": "completed"
    },
    "tags": []
   },
   "outputs": [],
   "source": [
    "#with open(output_rmse, 'w') as f:\n",
    "#    f.write(cap.stdout)"
   ]
  },
  {
   "cell_type": "code",
   "execution_count": 13,
   "metadata": {
    "execution": {
     "iopub.execute_input": "2021-06-25T13:20:17.717293Z",
     "iopub.status.busy": "2021-06-25T13:20:17.716251Z",
     "iopub.status.idle": "2021-06-25T13:20:17.737339Z",
     "shell.execute_reply": "2021-06-25T13:20:17.736792Z"
    },
    "jupyter": {
     "source_hidden": true
    },
    "papermill": {
     "duration": 0.030585,
     "end_time": "2021-06-25T13:20:17.737502",
     "exception": false,
     "start_time": "2021-06-25T13:20:17.706917",
     "status": "completed"
    },
    "tags": []
   },
   "outputs": [
    {
     "data": {
      "text/plain": [
       "<sqlalchemy.engine.result.ResultProxy at 0x7f84647a5490>"
      ]
     },
     "execution_count": 13,
     "metadata": {},
     "output_type": "execute_result"
    }
   ],
   "source": [
    "cnx.execute(\"\"\"\n",
    "    INSERT INTO ml.accuracies (ml_id, ml_date, accuracy) VALUES ('{0}', '{1}', {2}) \n",
    "    ON CONFLICT (ml_id, ml_date) \n",
    "    DO\n",
    "        UPDATE SET accuracy = {2};\n",
    "    \"\"\".format(ml_id, ml_date, np.sqrt(mean_squared_error(y_test, pred))))"
   ]
  }
 ],
 "metadata": {
  "kernelspec": {
   "display_name": "Python 3",
   "language": "python",
   "name": "python3"
  },
  "language_info": {
   "codemirror_mode": {
    "name": "ipython",
    "version": 3
   },
   "file_extension": ".py",
   "mimetype": "text/x-python",
   "name": "python",
   "nbconvert_exporter": "python",
   "pygments_lexer": "ipython3",
   "version": "3.7.10"
  },
  "papermill": {
   "duration": 9.74172,
   "end_time": "2021-06-25T13:20:18.117803",
   "environment_variables": {},
   "exception": null,
   "input_path": "/usr/local/airflow/include/notebooks/avocado_prediction.ipynb",
   "output_path": "/tmp/out-model-avocado-prediction-auto_100.ipynb",
   "parameters": {
    "filepath": "/tmp/avocado.csv",
    "max_features": "auto",
    "ml_id": "auto_100",
    "n_estimators": 100
   },
   "start_time": "2021-06-25T13:20:08.376083",
   "version": "2.1.2"
  }
 },
 "nbformat": 4,
 "nbformat_minor": 4
}