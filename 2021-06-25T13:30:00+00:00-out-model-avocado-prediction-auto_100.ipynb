{
 "cells": [
  {
   "cell_type": "code",
   "execution_count": 1,
   "metadata": {
    "_cell_guid": "79c7e3d0-c299-4dcb-8224-4455121ee9b0",
    "_uuid": "d629ff2d2480ee46fbb7e2d37f6b5fab8052498a",
    "execution": {
     "iopub.execute_input": "2021-06-25T13:40:10.396231Z",
     "iopub.status.busy": "2021-06-25T13:40:10.395426Z",
     "iopub.status.idle": "2021-06-25T13:40:11.226033Z",
     "shell.execute_reply": "2021-06-25T13:40:11.226870Z"
    },
    "jupyter": {
     "source_hidden": true
    },
    "papermill": {
     "duration": 0.843426,
     "end_time": "2021-06-25T13:40:11.227317",
     "exception": false,
     "start_time": "2021-06-25T13:40:10.383891",
     "status": "completed"
    },
    "tags": []
   },
   "outputs": [],
   "source": [
    "import pandas as pd\n",
    "import numpy as np\n",
    "from sqlalchemy import create_engine\n",
    "from datetime import date\n",
    "from sklearn.metrics import mean_squared_error"
   ]
  },
  {
   "cell_type": "code",
   "execution_count": 2,
   "metadata": {
    "execution": {
     "iopub.execute_input": "2021-06-25T13:40:11.247567Z",
     "iopub.status.busy": "2021-06-25T13:40:11.246213Z",
     "iopub.status.idle": "2021-06-25T13:40:11.278155Z",
     "shell.execute_reply": "2021-06-25T13:40:11.277433Z"
    },
    "jupyter": {
     "source_hidden": true
    },
    "papermill": {
     "duration": 0.044988,
     "end_time": "2021-06-25T13:40:11.278372",
     "exception": false,
     "start_time": "2021-06-25T13:40:11.233384",
     "status": "completed"
    },
    "tags": []
   },
   "outputs": [],
   "source": [
    "# THIS IS PURELY FOR TEST PURPOSE NEVER DO THAT IN PRODUCTION\n",
    "POSTGRES_ADDRESS='postgres'\n",
    "POSTGRES_PORT='5432'\n",
    "POSTGRES_USERNAME='postgres'\n",
    "POSTGRES_PASSWORD='postgres'\n",
    "\n",
    "postgres_conn = 'postgresql://{0}:{1}@{2}:{3}/'.format(POSTGRES_USERNAME, POSTGRES_PASSWORD, POSTGRES_ADDRESS, POSTGRES_PORT)\n",
    "\n",
    "# Create the connection\n",
    "cnx = create_engine(postgres_conn)\n"
   ]
  },
  {
   "cell_type": "markdown",
   "metadata": {
    "_uuid": "1998755ef10683262b29765345cff1c1c7d10b15",
    "papermill": {
     "duration": 0.005176,
     "end_time": "2021-06-25T13:40:11.292883",
     "exception": false,
     "start_time": "2021-06-25T13:40:11.287707",
     "status": "completed"
    },
    "tags": []
   },
   "source": [
    "Read in the Avocado Prices csv file as a DataFrame called df"
   ]
  },
  {
   "cell_type": "code",
   "execution_count": 3,
   "metadata": {
    "execution": {
     "iopub.execute_input": "2021-06-25T13:40:11.311197Z",
     "iopub.status.busy": "2021-06-25T13:40:11.310278Z",
     "iopub.status.idle": "2021-06-25T13:40:11.314169Z",
     "shell.execute_reply": "2021-06-25T13:40:11.313609Z"
    },
    "jupyter": {
     "source_hidden": true
    },
    "papermill": {
     "duration": 0.016526,
     "end_time": "2021-06-25T13:40:11.314378",
     "exception": false,
     "start_time": "2021-06-25T13:40:11.297852",
     "status": "completed"
    },
    "tags": [
     "parameters"
    ]
   },
   "outputs": [],
   "source": [
    "# Parameterized\n",
    "\n",
    "filepath='avocado.csv'\n",
    "ml_id='auto_100'\n",
    "ml_date=date.today()\n",
    "n_estimators = 100\n",
    "max_features = 'auto'"
   ]
  },
  {
   "cell_type": "code",
   "execution_count": 4,
   "id": "e92a206d",
   "metadata": {
    "execution": {
     "iopub.execute_input": "2021-06-25T13:40:11.337882Z",
     "iopub.status.busy": "2021-06-25T13:40:11.336629Z",
     "iopub.status.idle": "2021-06-25T13:40:11.340200Z",
     "shell.execute_reply": "2021-06-25T13:40:11.341317Z"
    },
    "jupyter": {
     "source_hidden": true
    },
    "papermill": {
     "duration": 0.022452,
     "end_time": "2021-06-25T13:40:11.342119",
     "exception": false,
     "start_time": "2021-06-25T13:40:11.319667",
     "status": "completed"
    },
    "tags": [
     "injected-parameters"
    ]
   },
   "outputs": [],
   "source": [
    "# Parameters\n",
    "filepath = \"/tmp/avocado.csv\"\n",
    "n_estimators = 100\n",
    "max_features = \"auto\"\n",
    "ml_id = \"auto_100\"\n"
   ]
  },
  {
   "cell_type": "code",
   "execution_count": 5,
   "metadata": {
    "_uuid": "55d0e719eb8b91d763c1eacaf0f51ee0586486fc",
    "execution": {
     "iopub.execute_input": "2021-06-25T13:40:11.374044Z",
     "iopub.status.busy": "2021-06-25T13:40:11.373268Z",
     "iopub.status.idle": "2021-06-25T13:40:11.423346Z",
     "shell.execute_reply": "2021-06-25T13:40:11.422283Z"
    },
    "jupyter": {
     "source_hidden": true
    },
    "papermill": {
     "duration": 0.069803,
     "end_time": "2021-06-25T13:40:11.423749",
     "exception": false,
     "start_time": "2021-06-25T13:40:11.353946",
     "status": "completed"
    },
    "tags": []
   },
   "outputs": [],
   "source": [
    "df= pd.read_csv(filepath)"
   ]
  },
  {
   "cell_type": "markdown",
   "metadata": {
    "_uuid": "434e0457f550e2200424e5ec26162e1aa5904005",
    "papermill": {
     "duration": 0.005777,
     "end_time": "2021-06-25T13:40:11.436076",
     "exception": false,
     "start_time": "2021-06-25T13:40:11.430299",
     "status": "completed"
    },
    "tags": []
   },
   "source": [
    "The Feature \"Unnamed:0\" is just a representation of the indexes, so it's useless to keep it, lets remove it !"
   ]
  },
  {
   "cell_type": "code",
   "execution_count": 6,
   "metadata": {
    "_uuid": "9875398e37728dc3141fed4228be337a4735beb6",
    "execution": {
     "iopub.execute_input": "2021-06-25T13:40:11.458289Z",
     "iopub.status.busy": "2021-06-25T13:40:11.457445Z",
     "iopub.status.idle": "2021-06-25T13:40:11.461713Z",
     "shell.execute_reply": "2021-06-25T13:40:11.460247Z"
    },
    "jupyter": {
     "source_hidden": true
    },
    "papermill": {
     "duration": 0.019039,
     "end_time": "2021-06-25T13:40:11.462082",
     "exception": false,
     "start_time": "2021-06-25T13:40:11.443043",
     "status": "completed"
    },
    "tags": []
   },
   "outputs": [],
   "source": [
    "df.drop('Unnamed: 0',axis=1,inplace=True)"
   ]
  },
  {
   "cell_type": "markdown",
   "metadata": {
    "_uuid": "12e94ad381e4cb8d2c8a9bbe08ce07ab5d49c040",
    "papermill": {
     "duration": 0.005312,
     "end_time": "2021-06-25T13:40:11.475663",
     "exception": false,
     "start_time": "2021-06-25T13:40:11.470351",
     "status": "completed"
    },
    "tags": []
   },
   "source": [
    "well as a first observation we can see that we are lucky, we dont have any missing values (18249 complete data) and 13 columns.\n",
    "Now let's do some Feature Engineering on the Date Feature so we can be able to use the day and the month columns in building our machine learning model later. ( I didn't mention the year because its already there in data frame)"
   ]
  },
  {
   "cell_type": "code",
   "execution_count": 7,
   "metadata": {
    "_uuid": "f031639ce794656e877484d1c9c356df7028177f",
    "execution": {
     "iopub.execute_input": "2021-06-25T13:40:11.498128Z",
     "iopub.status.busy": "2021-06-25T13:40:11.497365Z",
     "iopub.status.idle": "2021-06-25T13:40:11.650818Z",
     "shell.execute_reply": "2021-06-25T13:40:11.650276Z"
    },
    "jupyter": {
     "source_hidden": true
    },
    "papermill": {
     "duration": 0.167128,
     "end_time": "2021-06-25T13:40:11.651011",
     "exception": false,
     "start_time": "2021-06-25T13:40:11.483883",
     "status": "completed"
    },
    "tags": []
   },
   "outputs": [],
   "source": [
    "df['Date']=pd.to_datetime(df['Date'])\n",
    "df['Month']=df['Date'].apply(lambda x:x.month)\n",
    "df['Day']=df['Date'].apply(lambda x:x.day)"
   ]
  },
  {
   "cell_type": "markdown",
   "metadata": {
    "_uuid": "ebdcac9924ce3e366fd3a75170682f7113385b7a",
    "papermill": {
     "duration": 0.007709,
     "end_time": "2021-06-25T13:40:11.664161",
     "exception": false,
     "start_time": "2021-06-25T13:40:11.656452",
     "status": "completed"
    },
    "tags": []
   },
   "source": [
    "as we can see we have 54 regions and 2 unique types, so it's going to be easy to to transform the type feature to dummies, but for the region its going to be a bit complexe so I decided to drop the entire column.\n",
    "I will drop the Date Feature as well because I already have 3 other columns for the Year, Month and Day."
   ]
  },
  {
   "cell_type": "code",
   "execution_count": 8,
   "metadata": {
    "_uuid": "a798682da34327b731ef262985fd50ba68e06460",
    "execution": {
     "iopub.execute_input": "2021-06-25T13:40:11.687367Z",
     "iopub.status.busy": "2021-06-25T13:40:11.686687Z",
     "iopub.status.idle": "2021-06-25T13:40:11.697958Z",
     "shell.execute_reply": "2021-06-25T13:40:11.697254Z"
    },
    "jupyter": {
     "source_hidden": true
    },
    "papermill": {
     "duration": 0.025579,
     "end_time": "2021-06-25T13:40:11.698169",
     "exception": false,
     "start_time": "2021-06-25T13:40:11.672590",
     "status": "completed"
    },
    "tags": []
   },
   "outputs": [],
   "source": [
    "df_final=pd.get_dummies(df.drop(['region','Date'],axis=1),drop_first=True)"
   ]
  },
  {
   "cell_type": "markdown",
   "metadata": {
    "_uuid": "8b74a6b88cb3e9b3e1d1e987e061048f203c7364",
    "papermill": {
     "duration": 0.006209,
     "end_time": "2021-06-25T13:40:11.714194",
     "exception": false,
     "start_time": "2021-06-25T13:40:11.707985",
     "status": "completed"
    },
    "tags": []
   },
   "source": [
    "Now our data are ready! lets apply our model which is going to be the Linear Regression because our Target variable 'AveragePrice'is continuous.\n",
    "Let's now begin to train out regression model! We will need to first split up our data into an X array that contains the features to train on, and a y array with the target variable"
   ]
  },
  {
   "cell_type": "code",
   "execution_count": 9,
   "metadata": {
    "_uuid": "830591f99de9715241e688bf9ce265e979401ff5",
    "execution": {
     "iopub.execute_input": "2021-06-25T13:40:11.734299Z",
     "iopub.status.busy": "2021-06-25T13:40:11.733699Z",
     "iopub.status.idle": "2021-06-25T13:40:11.747184Z",
     "shell.execute_reply": "2021-06-25T13:40:11.748223Z"
    },
    "jupyter": {
     "source_hidden": true
    },
    "papermill": {
     "duration": 0.028997,
     "end_time": "2021-06-25T13:40:11.748480",
     "exception": false,
     "start_time": "2021-06-25T13:40:11.719483",
     "status": "completed"
    },
    "tags": []
   },
   "outputs": [],
   "source": [
    "X=df_final.iloc[:,1:14]\n",
    "y=df_final['AveragePrice']\n",
    "from sklearn.model_selection import train_test_split\n",
    "X_train,X_test,y_train,y_test=train_test_split(X,y,test_size=0.2,random_state=42)"
   ]
  },
  {
   "cell_type": "markdown",
   "metadata": {
    "_uuid": "ea730c77a31cde9de98263079a189accb8b5772b",
    "papermill": {
     "duration": 0.006625,
     "end_time": "2021-06-25T13:40:11.762048",
     "exception": false,
     "start_time": "2021-06-25T13:40:11.755423",
     "status": "completed"
    },
    "tags": []
   },
   "source": [
    "Creating and Training the Model"
   ]
  },
  {
   "cell_type": "code",
   "execution_count": 10,
   "metadata": {
    "_uuid": "eb37015e78974e5fd2ae7e13d065c8ab0a9c6948",
    "execution": {
     "iopub.execute_input": "2021-06-25T13:40:11.784108Z",
     "iopub.status.busy": "2021-06-25T13:40:11.782972Z",
     "iopub.status.idle": "2021-06-25T13:40:22.052558Z",
     "shell.execute_reply": "2021-06-25T13:40:22.051985Z"
    },
    "jupyter": {
     "source_hidden": true
    },
    "papermill": {
     "duration": 10.281205,
     "end_time": "2021-06-25T13:40:22.052774",
     "exception": false,
     "start_time": "2021-06-25T13:40:11.771569",
     "status": "completed"
    },
    "tags": []
   },
   "outputs": [],
   "source": [
    "from sklearn.ensemble import RandomForestRegressor\n",
    "rdr = RandomForestRegressor(\n",
    "    n_estimators=n_estimators,\n",
    "    max_features=max_features\n",
    ")\n",
    "rdr.fit(X_train,y_train)\n",
    "pred=rdr.predict(X_test)"
   ]
  },
  {
   "cell_type": "code",
   "execution_count": 11,
   "metadata": {
    "_uuid": "7ed5b8d4e8abb44a4b548c13ac9fb2d65227d1c5",
    "execution": {
     "iopub.execute_input": "2021-06-25T13:40:22.076392Z",
     "iopub.status.busy": "2021-06-25T13:40:22.075627Z",
     "iopub.status.idle": "2021-06-25T13:40:22.080738Z",
     "shell.execute_reply": "2021-06-25T13:40:22.079942Z"
    },
    "jupyter": {
     "source_hidden": true
    },
    "papermill": {
     "duration": 0.016317,
     "end_time": "2021-06-25T13:40:22.080973",
     "exception": false,
     "start_time": "2021-06-25T13:40:22.064656",
     "status": "completed"
    },
    "tags": []
   },
   "outputs": [],
   "source": [
    "#%%capture cap --no-stderr\n",
    "#print(np.sqrt(mean_squared_error(y_test, pred)))"
   ]
  },
  {
   "cell_type": "code",
   "execution_count": 12,
   "metadata": {
    "execution": {
     "iopub.execute_input": "2021-06-25T13:40:22.099029Z",
     "iopub.status.busy": "2021-06-25T13:40:22.097944Z",
     "iopub.status.idle": "2021-06-25T13:40:22.103087Z",
     "shell.execute_reply": "2021-06-25T13:40:22.102291Z"
    },
    "jupyter": {
     "source_hidden": true
    },
    "papermill": {
     "duration": 0.015143,
     "end_time": "2021-06-25T13:40:22.103366",
     "exception": false,
     "start_time": "2021-06-25T13:40:22.088223",
     "status": "completed"
    },
    "tags": []
   },
   "outputs": [],
   "source": [
    "#with open(output_rmse, 'w') as f:\n",
    "#    f.write(cap.stdout)"
   ]
  },
  {
   "cell_type": "code",
   "execution_count": 13,
   "metadata": {
    "execution": {
     "iopub.execute_input": "2021-06-25T13:40:22.123529Z",
     "iopub.status.busy": "2021-06-25T13:40:22.122487Z",
     "iopub.status.idle": "2021-06-25T13:40:22.149294Z",
     "shell.execute_reply": "2021-06-25T13:40:22.148777Z"
    },
    "jupyter": {
     "source_hidden": true
    },
    "papermill": {
     "duration": 0.03988,
     "end_time": "2021-06-25T13:40:22.149480",
     "exception": false,
     "start_time": "2021-06-25T13:40:22.109600",
     "status": "completed"
    },
    "tags": []
   },
   "outputs": [
    {
     "data": {
      "text/plain": [
       "<sqlalchemy.engine.result.ResultProxy at 0x7f8cb32f98d0>"
      ]
     },
     "execution_count": 13,
     "metadata": {},
     "output_type": "execute_result"
    }
   ],
   "source": [
    "cnx.execute(\"\"\"\n",
    "    INSERT INTO ml.accuracies (ml_id, ml_date, accuracy) VALUES ('{0}', '{1}', {2}) \n",
    "    ON CONFLICT (ml_id, ml_date) \n",
    "    DO\n",
    "        UPDATE SET accuracy = {2};\n",
    "    \"\"\".format(ml_id, ml_date, np.sqrt(mean_squared_error(y_test, pred))))"
   ]
  }
 ],
 "metadata": {
  "kernelspec": {
   "display_name": "Python 3",
   "language": "python",
   "name": "python3"
  },
  "language_info": {
   "codemirror_mode": {
    "name": "ipython",
    "version": 3
   },
   "file_extension": ".py",
   "mimetype": "text/x-python",
   "name": "python",
   "nbconvert_exporter": "python",
   "pygments_lexer": "ipython3",
   "version": "3.7.10"
  },
  "papermill": {
   "duration": 14.475347,
   "end_time": "2021-06-25T13:40:23.608078",
   "environment_variables": {},
   "exception": null,
   "input_path": "/usr/local/airflow/include/notebooks/avocado_prediction.ipynb",
   "output_path": "/tmp/out-model-avocado-prediction-auto_100.ipynb",
   "parameters": {
    "filepath": "/tmp/avocado.csv",
    "max_features": "auto",
    "ml_id": "auto_100",
    "n_estimators": 100
   },
   "start_time": "2021-06-25T13:40:09.132731",
   "version": "2.1.2"
  }
 },
 "nbformat": 4,
 "nbformat_minor": 4
}