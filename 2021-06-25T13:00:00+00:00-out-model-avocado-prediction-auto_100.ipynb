{
 "cells": [
  {
   "cell_type": "code",
   "execution_count": 1,
   "metadata": {
    "_cell_guid": "79c7e3d0-c299-4dcb-8224-4455121ee9b0",
    "_uuid": "d629ff2d2480ee46fbb7e2d37f6b5fab8052498a",
    "execution": {
     "iopub.execute_input": "2021-06-25T13:10:10.182977Z",
     "iopub.status.busy": "2021-06-25T13:10:10.182281Z",
     "iopub.status.idle": "2021-06-25T13:10:10.880058Z",
     "shell.execute_reply": "2021-06-25T13:10:10.879279Z"
    },
    "jupyter": {
     "source_hidden": true
    },
    "papermill": {
     "duration": 0.719311,
     "end_time": "2021-06-25T13:10:10.880333",
     "exception": false,
     "start_time": "2021-06-25T13:10:10.161022",
     "status": "completed"
    },
    "tags": []
   },
   "outputs": [],
   "source": [
    "import pandas as pd\n",
    "import numpy as np\n",
    "from sqlalchemy import create_engine\n",
    "from datetime import date\n",
    "from sklearn.metrics import mean_squared_error"
   ]
  },
  {
   "cell_type": "code",
   "execution_count": 2,
   "metadata": {
    "execution": {
     "iopub.execute_input": "2021-06-25T13:10:10.901032Z",
     "iopub.status.busy": "2021-06-25T13:10:10.899925Z",
     "iopub.status.idle": "2021-06-25T13:10:10.927173Z",
     "shell.execute_reply": "2021-06-25T13:10:10.926492Z"
    },
    "jupyter": {
     "source_hidden": true
    },
    "papermill": {
     "duration": 0.03978,
     "end_time": "2021-06-25T13:10:10.927376",
     "exception": false,
     "start_time": "2021-06-25T13:10:10.887596",
     "status": "completed"
    },
    "tags": []
   },
   "outputs": [],
   "source": [
    "# THIS IS PURELY FOR TEST PURPOSE NEVER DO THAT IN PRODUCTION\n",
    "POSTGRES_ADDRESS='postgres'\n",
    "POSTGRES_PORT='5432'\n",
    "POSTGRES_USERNAME='postgres'\n",
    "POSTGRES_PASSWORD='postgres'\n",
    "\n",
    "postgres_conn = 'postgresql://{0}:{1}@{2}:{3}/'.format(POSTGRES_USERNAME, POSTGRES_PASSWORD, POSTGRES_ADDRESS, POSTGRES_PORT)\n",
    "\n",
    "# Create the connection\n",
    "cnx = create_engine(postgres_conn)\n"
   ]
  },
  {
   "cell_type": "markdown",
   "metadata": {
    "_uuid": "1998755ef10683262b29765345cff1c1c7d10b15",
    "papermill": {
     "duration": 0.005184,
     "end_time": "2021-06-25T13:10:10.937803",
     "exception": false,
     "start_time": "2021-06-25T13:10:10.932619",
     "status": "completed"
    },
    "tags": []
   },
   "source": [
    "Read in the Avocado Prices csv file as a DataFrame called df"
   ]
  },
  {
   "cell_type": "code",
   "execution_count": 3,
   "metadata": {
    "execution": {
     "iopub.execute_input": "2021-06-25T13:10:10.952941Z",
     "iopub.status.busy": "2021-06-25T13:10:10.952312Z",
     "iopub.status.idle": "2021-06-25T13:10:10.954769Z",
     "shell.execute_reply": "2021-06-25T13:10:10.955236Z"
    },
    "jupyter": {
     "source_hidden": true
    },
    "papermill": {
     "duration": 0.012089,
     "end_time": "2021-06-25T13:10:10.955468",
     "exception": false,
     "start_time": "2021-06-25T13:10:10.943379",
     "status": "completed"
    },
    "tags": [
     "parameters"
    ]
   },
   "outputs": [],
   "source": [
    "# Parameterized\n",
    "\n",
    "filepath='avocado.csv'\n",
    "ml_id='auto_100'\n",
    "ml_date=date.today()\n",
    "n_estimators = 100\n",
    "max_features = 'auto'"
   ]
  },
  {
   "cell_type": "code",
   "execution_count": 4,
   "id": "918642b9",
   "metadata": {
    "execution": {
     "iopub.execute_input": "2021-06-25T13:10:10.970019Z",
     "iopub.status.busy": "2021-06-25T13:10:10.969359Z",
     "iopub.status.idle": "2021-06-25T13:10:10.972847Z",
     "shell.execute_reply": "2021-06-25T13:10:10.972234Z"
    },
    "jupyter": {
     "source_hidden": true
    },
    "papermill": {
     "duration": 0.012362,
     "end_time": "2021-06-25T13:10:10.973078",
     "exception": false,
     "start_time": "2021-06-25T13:10:10.960716",
     "status": "completed"
    },
    "tags": [
     "injected-parameters"
    ]
   },
   "outputs": [],
   "source": [
    "# Parameters\n",
    "filepath = \"/tmp/avocado.csv\"\n",
    "n_estimators = 100\n",
    "max_features = \"auto\"\n",
    "ml_id = \"auto_100\"\n"
   ]
  },
  {
   "cell_type": "code",
   "execution_count": 5,
   "metadata": {
    "_uuid": "55d0e719eb8b91d763c1eacaf0f51ee0586486fc",
    "execution": {
     "iopub.execute_input": "2021-06-25T13:10:10.987328Z",
     "iopub.status.busy": "2021-06-25T13:10:10.986794Z",
     "iopub.status.idle": "2021-06-25T13:10:11.018189Z",
     "shell.execute_reply": "2021-06-25T13:10:11.018713Z"
    },
    "jupyter": {
     "source_hidden": true
    },
    "papermill": {
     "duration": 0.040627,
     "end_time": "2021-06-25T13:10:11.019009",
     "exception": false,
     "start_time": "2021-06-25T13:10:10.978382",
     "status": "completed"
    },
    "tags": []
   },
   "outputs": [],
   "source": [
    "df= pd.read_csv(filepath)"
   ]
  },
  {
   "cell_type": "markdown",
   "metadata": {
    "_uuid": "434e0457f550e2200424e5ec26162e1aa5904005",
    "papermill": {
     "duration": 0.005633,
     "end_time": "2021-06-25T13:10:11.030314",
     "exception": false,
     "start_time": "2021-06-25T13:10:11.024681",
     "status": "completed"
    },
    "tags": []
   },
   "source": [
    "The Feature \"Unnamed:0\" is just a representation of the indexes, so it's useless to keep it, lets remove it !"
   ]
  },
  {
   "cell_type": "code",
   "execution_count": 6,
   "metadata": {
    "_uuid": "9875398e37728dc3141fed4228be337a4735beb6",
    "execution": {
     "iopub.execute_input": "2021-06-25T13:10:11.048217Z",
     "iopub.status.busy": "2021-06-25T13:10:11.047549Z",
     "iopub.status.idle": "2021-06-25T13:10:11.050779Z",
     "shell.execute_reply": "2021-06-25T13:10:11.050165Z"
    },
    "jupyter": {
     "source_hidden": true
    },
    "papermill": {
     "duration": 0.014783,
     "end_time": "2021-06-25T13:10:11.050981",
     "exception": false,
     "start_time": "2021-06-25T13:10:11.036198",
     "status": "completed"
    },
    "tags": []
   },
   "outputs": [],
   "source": [
    "df.drop('Unnamed: 0',axis=1,inplace=True)"
   ]
  },
  {
   "cell_type": "markdown",
   "metadata": {
    "_uuid": "12e94ad381e4cb8d2c8a9bbe08ce07ab5d49c040",
    "papermill": {
     "duration": 0.005959,
     "end_time": "2021-06-25T13:10:11.062534",
     "exception": false,
     "start_time": "2021-06-25T13:10:11.056575",
     "status": "completed"
    },
    "tags": []
   },
   "source": [
    "well as a first observation we can see that we are lucky, we dont have any missing values (18249 complete data) and 13 columns.\n",
    "Now let's do some Feature Engineering on the Date Feature so we can be able to use the day and the month columns in building our machine learning model later. ( I didn't mention the year because its already there in data frame)"
   ]
  },
  {
   "cell_type": "code",
   "execution_count": 7,
   "metadata": {
    "_uuid": "f031639ce794656e877484d1c9c356df7028177f",
    "execution": {
     "iopub.execute_input": "2021-06-25T13:10:11.080099Z",
     "iopub.status.busy": "2021-06-25T13:10:11.079465Z",
     "iopub.status.idle": "2021-06-25T13:10:11.200451Z",
     "shell.execute_reply": "2021-06-25T13:10:11.200803Z"
    },
    "jupyter": {
     "source_hidden": true
    },
    "papermill": {
     "duration": 0.132897,
     "end_time": "2021-06-25T13:10:11.201056",
     "exception": false,
     "start_time": "2021-06-25T13:10:11.068159",
     "status": "completed"
    },
    "tags": []
   },
   "outputs": [],
   "source": [
    "df['Date']=pd.to_datetime(df['Date'])\n",
    "df['Month']=df['Date'].apply(lambda x:x.month)\n",
    "df['Day']=df['Date'].apply(lambda x:x.day)"
   ]
  },
  {
   "cell_type": "markdown",
   "metadata": {
    "_uuid": "ebdcac9924ce3e366fd3a75170682f7113385b7a",
    "papermill": {
     "duration": 0.005375,
     "end_time": "2021-06-25T13:10:11.211610",
     "exception": false,
     "start_time": "2021-06-25T13:10:11.206235",
     "status": "completed"
    },
    "tags": []
   },
   "source": [
    "as we can see we have 54 regions and 2 unique types, so it's going to be easy to to transform the type feature to dummies, but for the region its going to be a bit complexe so I decided to drop the entire column.\n",
    "I will drop the Date Feature as well because I already have 3 other columns for the Year, Month and Day."
   ]
  },
  {
   "cell_type": "code",
   "execution_count": 8,
   "metadata": {
    "_uuid": "a798682da34327b731ef262985fd50ba68e06460",
    "execution": {
     "iopub.execute_input": "2021-06-25T13:10:11.232124Z",
     "iopub.status.busy": "2021-06-25T13:10:11.227012Z",
     "iopub.status.idle": "2021-06-25T13:10:11.237495Z",
     "shell.execute_reply": "2021-06-25T13:10:11.236960Z"
    },
    "jupyter": {
     "source_hidden": true
    },
    "papermill": {
     "duration": 0.02091,
     "end_time": "2021-06-25T13:10:11.237697",
     "exception": false,
     "start_time": "2021-06-25T13:10:11.216787",
     "status": "completed"
    },
    "tags": []
   },
   "outputs": [],
   "source": [
    "df_final=pd.get_dummies(df.drop(['region','Date'],axis=1),drop_first=True)"
   ]
  },
  {
   "cell_type": "markdown",
   "metadata": {
    "_uuid": "8b74a6b88cb3e9b3e1d1e987e061048f203c7364",
    "papermill": {
     "duration": 0.005558,
     "end_time": "2021-06-25T13:10:11.248863",
     "exception": false,
     "start_time": "2021-06-25T13:10:11.243305",
     "status": "completed"
    },
    "tags": []
   },
   "source": [
    "Now our data are ready! lets apply our model which is going to be the Linear Regression because our Target variable 'AveragePrice'is continuous.\n",
    "Let's now begin to train out regression model! We will need to first split up our data into an X array that contains the features to train on, and a y array with the target variable"
   ]
  },
  {
   "cell_type": "code",
   "execution_count": 9,
   "metadata": {
    "_uuid": "830591f99de9715241e688bf9ce265e979401ff5",
    "execution": {
     "iopub.execute_input": "2021-06-25T13:10:11.264800Z",
     "iopub.status.busy": "2021-06-25T13:10:11.264138Z",
     "iopub.status.idle": "2021-06-25T13:10:11.275491Z",
     "shell.execute_reply": "2021-06-25T13:10:11.274755Z"
    },
    "jupyter": {
     "source_hidden": true
    },
    "papermill": {
     "duration": 0.021338,
     "end_time": "2021-06-25T13:10:11.275714",
     "exception": false,
     "start_time": "2021-06-25T13:10:11.254376",
     "status": "completed"
    },
    "tags": []
   },
   "outputs": [],
   "source": [
    "X=df_final.iloc[:,1:14]\n",
    "y=df_final['AveragePrice']\n",
    "from sklearn.model_selection import train_test_split\n",
    "X_train,X_test,y_train,y_test=train_test_split(X,y,test_size=0.2,random_state=42)"
   ]
  },
  {
   "cell_type": "markdown",
   "metadata": {
    "_uuid": "ea730c77a31cde9de98263079a189accb8b5772b",
    "papermill": {
     "duration": 0.005549,
     "end_time": "2021-06-25T13:10:11.286928",
     "exception": false,
     "start_time": "2021-06-25T13:10:11.281379",
     "status": "completed"
    },
    "tags": []
   },
   "source": [
    "Creating and Training the Model"
   ]
  },
  {
   "cell_type": "code",
   "execution_count": 10,
   "metadata": {
    "_uuid": "eb37015e78974e5fd2ae7e13d065c8ab0a9c6948",
    "execution": {
     "iopub.execute_input": "2021-06-25T13:10:11.301451Z",
     "iopub.status.busy": "2021-06-25T13:10:11.300958Z",
     "iopub.status.idle": "2021-06-25T13:10:19.385680Z",
     "shell.execute_reply": "2021-06-25T13:10:19.386098Z"
    },
    "jupyter": {
     "source_hidden": true
    },
    "papermill": {
     "duration": 8.094169,
     "end_time": "2021-06-25T13:10:19.386346",
     "exception": false,
     "start_time": "2021-06-25T13:10:11.292177",
     "status": "completed"
    },
    "tags": []
   },
   "outputs": [],
   "source": [
    "from sklearn.ensemble import RandomForestRegressor\n",
    "rdr = RandomForestRegressor(\n",
    "    n_estimators=n_estimators,\n",
    "    max_features=max_features\n",
    ")\n",
    "rdr.fit(X_train,y_train)\n",
    "pred=rdr.predict(X_test)"
   ]
  },
  {
   "cell_type": "code",
   "execution_count": 11,
   "metadata": {
    "_uuid": "7ed5b8d4e8abb44a4b548c13ac9fb2d65227d1c5",
    "execution": {
     "iopub.execute_input": "2021-06-25T13:10:19.402396Z",
     "iopub.status.busy": "2021-06-25T13:10:19.401750Z",
     "iopub.status.idle": "2021-06-25T13:10:19.403953Z",
     "shell.execute_reply": "2021-06-25T13:10:19.404348Z"
    },
    "jupyter": {
     "source_hidden": true
    },
    "papermill": {
     "duration": 0.012258,
     "end_time": "2021-06-25T13:10:19.404631",
     "exception": false,
     "start_time": "2021-06-25T13:10:19.392373",
     "status": "completed"
    },
    "tags": []
   },
   "outputs": [],
   "source": [
    "#%%capture cap --no-stderr\n",
    "#print(np.sqrt(mean_squared_error(y_test, pred)))"
   ]
  },
  {
   "cell_type": "code",
   "execution_count": 12,
   "metadata": {
    "execution": {
     "iopub.execute_input": "2021-06-25T13:10:19.420514Z",
     "iopub.status.busy": "2021-06-25T13:10:19.419859Z",
     "iopub.status.idle": "2021-06-25T13:10:19.423227Z",
     "shell.execute_reply": "2021-06-25T13:10:19.422573Z"
    },
    "jupyter": {
     "source_hidden": true
    },
    "papermill": {
     "duration": 0.012877,
     "end_time": "2021-06-25T13:10:19.423433",
     "exception": false,
     "start_time": "2021-06-25T13:10:19.410556",
     "status": "completed"
    },
    "tags": []
   },
   "outputs": [],
   "source": [
    "#with open(output_rmse, 'w') as f:\n",
    "#    f.write(cap.stdout)"
   ]
  },
  {
   "cell_type": "code",
   "execution_count": 13,
   "metadata": {
    "execution": {
     "iopub.execute_input": "2021-06-25T13:10:19.440820Z",
     "iopub.status.busy": "2021-06-25T13:10:19.440213Z",
     "iopub.status.idle": "2021-06-25T13:10:19.460064Z",
     "shell.execute_reply": "2021-06-25T13:10:19.459392Z"
    },
    "jupyter": {
     "source_hidden": true
    },
    "papermill": {
     "duration": 0.03101,
     "end_time": "2021-06-25T13:10:19.460275",
     "exception": false,
     "start_time": "2021-06-25T13:10:19.429265",
     "status": "completed"
    },
    "tags": []
   },
   "outputs": [
    {
     "data": {
      "text/plain": [
       "<sqlalchemy.engine.result.ResultProxy at 0x7f23a9d41550>"
      ]
     },
     "execution_count": 13,
     "metadata": {},
     "output_type": "execute_result"
    }
   ],
   "source": [
    "cnx.execute(\"\"\"\n",
    "    INSERT INTO ml.accuracies (ml_id, ml_date, accuracy) VALUES ('{0}', '{1}', {2}) \n",
    "    ON CONFLICT (ml_id, ml_date) \n",
    "    DO\n",
    "        UPDATE SET accuracy = {2};\n",
    "    \"\"\".format(ml_id, ml_date, np.sqrt(mean_squared_error(y_test, pred))))"
   ]
  }
 ],
 "metadata": {
  "kernelspec": {
   "display_name": "Python 3",
   "language": "python",
   "name": "python3"
  },
  "language_info": {
   "codemirror_mode": {
    "name": "ipython",
    "version": 3
   },
   "file_extension": ".py",
   "mimetype": "text/x-python",
   "name": "python",
   "nbconvert_exporter": "python",
   "pygments_lexer": "ipython3",
   "version": "3.7.10"
  },
  "papermill": {
   "duration": 10.860979,
   "end_time": "2021-06-25T13:10:19.877522",
   "environment_variables": {},
   "exception": null,
   "input_path": "/usr/local/airflow/include/notebooks/avocado_prediction.ipynb",
   "output_path": "/tmp/out-model-avocado-prediction-auto_100.ipynb",
   "parameters": {
    "filepath": "/tmp/avocado.csv",
    "max_features": "auto",
    "ml_id": "auto_100",
    "n_estimators": 100
   },
   "start_time": "2021-06-25T13:10:09.016543",
   "version": "2.1.2"
  }
 },
 "nbformat": 4,
 "nbformat_minor": 4
}