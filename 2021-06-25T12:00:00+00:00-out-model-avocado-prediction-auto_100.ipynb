{
 "cells": [
  {
   "cell_type": "code",
   "execution_count": 1,
   "metadata": {
    "_cell_guid": "79c7e3d0-c299-4dcb-8224-4455121ee9b0",
    "_uuid": "d629ff2d2480ee46fbb7e2d37f6b5fab8052498a",
    "execution": {
     "iopub.execute_input": "2021-06-25T12:10:09.318062Z",
     "iopub.status.busy": "2021-06-25T12:10:09.317314Z",
     "iopub.status.idle": "2021-06-25T12:10:09.999294Z",
     "shell.execute_reply": "2021-06-25T12:10:09.998679Z"
    },
    "jupyter": {
     "source_hidden": true
    },
    "papermill": {
     "duration": 0.696364,
     "end_time": "2021-06-25T12:10:09.999527",
     "exception": false,
     "start_time": "2021-06-25T12:10:09.303163",
     "status": "completed"
    },
    "tags": []
   },
   "outputs": [],
   "source": [
    "import pandas as pd\n",
    "import numpy as np\n",
    "from sqlalchemy import create_engine\n",
    "from datetime import date\n",
    "from sklearn.metrics import mean_squared_error"
   ]
  },
  {
   "cell_type": "code",
   "execution_count": 2,
   "metadata": {
    "execution": {
     "iopub.execute_input": "2021-06-25T12:10:10.016528Z",
     "iopub.status.busy": "2021-06-25T12:10:10.015919Z",
     "iopub.status.idle": "2021-06-25T12:10:10.041970Z",
     "shell.execute_reply": "2021-06-25T12:10:10.041472Z"
    },
    "jupyter": {
     "source_hidden": true
    },
    "papermill": {
     "duration": 0.036695,
     "end_time": "2021-06-25T12:10:10.042177",
     "exception": false,
     "start_time": "2021-06-25T12:10:10.005482",
     "status": "completed"
    },
    "tags": []
   },
   "outputs": [],
   "source": [
    "# THIS IS PURELY FOR TEST PURPOSE NEVER DO THAT IN PRODUCTION\n",
    "POSTGRES_ADDRESS='postgres'\n",
    "POSTGRES_PORT='5432'\n",
    "POSTGRES_USERNAME='postgres'\n",
    "POSTGRES_PASSWORD='postgres'\n",
    "\n",
    "postgres_conn = 'postgresql://{0}:{1}@{2}:{3}/'.format(POSTGRES_USERNAME, POSTGRES_PASSWORD, POSTGRES_ADDRESS, POSTGRES_PORT)\n",
    "\n",
    "# Create the connection\n",
    "cnx = create_engine(postgres_conn)\n"
   ]
  },
  {
   "cell_type": "markdown",
   "metadata": {
    "_uuid": "1998755ef10683262b29765345cff1c1c7d10b15",
    "papermill": {
     "duration": 0.00533,
     "end_time": "2021-06-25T12:10:10.052766",
     "exception": false,
     "start_time": "2021-06-25T12:10:10.047436",
     "status": "completed"
    },
    "tags": []
   },
   "source": [
    "Read in the Avocado Prices csv file as a DataFrame called df"
   ]
  },
  {
   "cell_type": "code",
   "execution_count": 3,
   "metadata": {
    "execution": {
     "iopub.execute_input": "2021-06-25T12:10:10.068491Z",
     "iopub.status.busy": "2021-06-25T12:10:10.067887Z",
     "iopub.status.idle": "2021-06-25T12:10:10.071180Z",
     "shell.execute_reply": "2021-06-25T12:10:10.070715Z"
    },
    "jupyter": {
     "source_hidden": true
    },
    "papermill": {
     "duration": 0.013015,
     "end_time": "2021-06-25T12:10:10.071403",
     "exception": false,
     "start_time": "2021-06-25T12:10:10.058388",
     "status": "completed"
    },
    "tags": [
     "parameters"
    ]
   },
   "outputs": [],
   "source": [
    "# Parameterized\n",
    "\n",
    "filepath='avocado.csv'\n",
    "ml_id='auto_100'\n",
    "ml_date=date.today()\n",
    "n_estimators = 100\n",
    "max_features = 'auto'"
   ]
  },
  {
   "cell_type": "code",
   "execution_count": 4,
   "id": "bfc2e1c5",
   "metadata": {
    "execution": {
     "iopub.execute_input": "2021-06-25T12:10:10.087515Z",
     "iopub.status.busy": "2021-06-25T12:10:10.086904Z",
     "iopub.status.idle": "2021-06-25T12:10:10.089309Z",
     "shell.execute_reply": "2021-06-25T12:10:10.088771Z"
    },
    "jupyter": {
     "source_hidden": true
    },
    "papermill": {
     "duration": 0.012437,
     "end_time": "2021-06-25T12:10:10.089528",
     "exception": false,
     "start_time": "2021-06-25T12:10:10.077091",
     "status": "completed"
    },
    "tags": [
     "injected-parameters"
    ]
   },
   "outputs": [],
   "source": [
    "# Parameters\n",
    "filepath = \"/tmp/avocado.csv\"\n",
    "n_estimators = 100\n",
    "max_features = \"auto\"\n",
    "ml_id = \"auto_100\"\n"
   ]
  },
  {
   "cell_type": "code",
   "execution_count": 5,
   "metadata": {
    "_uuid": "55d0e719eb8b91d763c1eacaf0f51ee0586486fc",
    "execution": {
     "iopub.execute_input": "2021-06-25T12:10:10.105534Z",
     "iopub.status.busy": "2021-06-25T12:10:10.104933Z",
     "iopub.status.idle": "2021-06-25T12:10:10.133757Z",
     "shell.execute_reply": "2021-06-25T12:10:10.134317Z"
    },
    "jupyter": {
     "source_hidden": true
    },
    "papermill": {
     "duration": 0.039488,
     "end_time": "2021-06-25T12:10:10.134731",
     "exception": false,
     "start_time": "2021-06-25T12:10:10.095243",
     "status": "completed"
    },
    "tags": []
   },
   "outputs": [],
   "source": [
    "df= pd.read_csv(filepath)"
   ]
  },
  {
   "cell_type": "markdown",
   "metadata": {
    "_uuid": "434e0457f550e2200424e5ec26162e1aa5904005",
    "papermill": {
     "duration": 0.005416,
     "end_time": "2021-06-25T12:10:10.145289",
     "exception": false,
     "start_time": "2021-06-25T12:10:10.139873",
     "status": "completed"
    },
    "tags": []
   },
   "source": [
    "The Feature \"Unnamed:0\" is just a representation of the indexes, so it's useless to keep it, lets remove it !"
   ]
  },
  {
   "cell_type": "code",
   "execution_count": 6,
   "metadata": {
    "_uuid": "9875398e37728dc3141fed4228be337a4735beb6",
    "execution": {
     "iopub.execute_input": "2021-06-25T12:10:10.160912Z",
     "iopub.status.busy": "2021-06-25T12:10:10.160374Z",
     "iopub.status.idle": "2021-06-25T12:10:10.163407Z",
     "shell.execute_reply": "2021-06-25T12:10:10.162864Z"
    },
    "jupyter": {
     "source_hidden": true
    },
    "papermill": {
     "duration": 0.013417,
     "end_time": "2021-06-25T12:10:10.163628",
     "exception": false,
     "start_time": "2021-06-25T12:10:10.150211",
     "status": "completed"
    },
    "tags": []
   },
   "outputs": [],
   "source": [
    "df.drop('Unnamed: 0',axis=1,inplace=True)"
   ]
  },
  {
   "cell_type": "markdown",
   "metadata": {
    "_uuid": "12e94ad381e4cb8d2c8a9bbe08ce07ab5d49c040",
    "papermill": {
     "duration": 0.005634,
     "end_time": "2021-06-25T12:10:10.176336",
     "exception": false,
     "start_time": "2021-06-25T12:10:10.170702",
     "status": "completed"
    },
    "tags": []
   },
   "source": [
    "well as a first observation we can see that we are lucky, we dont have any missing values (18249 complete data) and 13 columns.\n",
    "Now let's do some Feature Engineering on the Date Feature so we can be able to use the day and the month columns in building our machine learning model later. ( I didn't mention the year because its already there in data frame)"
   ]
  },
  {
   "cell_type": "code",
   "execution_count": 7,
   "metadata": {
    "_uuid": "f031639ce794656e877484d1c9c356df7028177f",
    "execution": {
     "iopub.execute_input": "2021-06-25T12:10:10.193219Z",
     "iopub.status.busy": "2021-06-25T12:10:10.192580Z",
     "iopub.status.idle": "2021-06-25T12:10:10.306399Z",
     "shell.execute_reply": "2021-06-25T12:10:10.305997Z"
    },
    "jupyter": {
     "source_hidden": true
    },
    "papermill": {
     "duration": 0.124759,
     "end_time": "2021-06-25T12:10:10.306582",
     "exception": false,
     "start_time": "2021-06-25T12:10:10.181823",
     "status": "completed"
    },
    "tags": []
   },
   "outputs": [],
   "source": [
    "df['Date']=pd.to_datetime(df['Date'])\n",
    "df['Month']=df['Date'].apply(lambda x:x.month)\n",
    "df['Day']=df['Date'].apply(lambda x:x.day)"
   ]
  },
  {
   "cell_type": "markdown",
   "metadata": {
    "_uuid": "ebdcac9924ce3e366fd3a75170682f7113385b7a",
    "papermill": {
     "duration": 0.004628,
     "end_time": "2021-06-25T12:10:10.316707",
     "exception": false,
     "start_time": "2021-06-25T12:10:10.312079",
     "status": "completed"
    },
    "tags": []
   },
   "source": [
    "as we can see we have 54 regions and 2 unique types, so it's going to be easy to to transform the type feature to dummies, but for the region its going to be a bit complexe so I decided to drop the entire column.\n",
    "I will drop the Date Feature as well because I already have 3 other columns for the Year, Month and Day."
   ]
  },
  {
   "cell_type": "code",
   "execution_count": 8,
   "metadata": {
    "_uuid": "a798682da34327b731ef262985fd50ba68e06460",
    "execution": {
     "iopub.execute_input": "2021-06-25T12:10:10.339694Z",
     "iopub.status.busy": "2021-06-25T12:10:10.334358Z",
     "iopub.status.idle": "2021-06-25T12:10:10.344896Z",
     "shell.execute_reply": "2021-06-25T12:10:10.344303Z"
    },
    "jupyter": {
     "source_hidden": true
    },
    "papermill": {
     "duration": 0.022336,
     "end_time": "2021-06-25T12:10:10.345155",
     "exception": false,
     "start_time": "2021-06-25T12:10:10.322819",
     "status": "completed"
    },
    "tags": []
   },
   "outputs": [],
   "source": [
    "df_final=pd.get_dummies(df.drop(['region','Date'],axis=1),drop_first=True)"
   ]
  },
  {
   "cell_type": "markdown",
   "metadata": {
    "_uuid": "8b74a6b88cb3e9b3e1d1e987e061048f203c7364",
    "papermill": {
     "duration": 0.00493,
     "end_time": "2021-06-25T12:10:10.356110",
     "exception": false,
     "start_time": "2021-06-25T12:10:10.351180",
     "status": "completed"
    },
    "tags": []
   },
   "source": [
    "Now our data are ready! lets apply our model which is going to be the Linear Regression because our Target variable 'AveragePrice'is continuous.\n",
    "Let's now begin to train out regression model! We will need to first split up our data into an X array that contains the features to train on, and a y array with the target variable"
   ]
  },
  {
   "cell_type": "code",
   "execution_count": 9,
   "metadata": {
    "_uuid": "830591f99de9715241e688bf9ce265e979401ff5",
    "execution": {
     "iopub.execute_input": "2021-06-25T12:10:10.371630Z",
     "iopub.status.busy": "2021-06-25T12:10:10.371151Z",
     "iopub.status.idle": "2021-06-25T12:10:10.380927Z",
     "shell.execute_reply": "2021-06-25T12:10:10.381310Z"
    },
    "jupyter": {
     "source_hidden": true
    },
    "papermill": {
     "duration": 0.020005,
     "end_time": "2021-06-25T12:10:10.381737",
     "exception": false,
     "start_time": "2021-06-25T12:10:10.361732",
     "status": "completed"
    },
    "tags": []
   },
   "outputs": [],
   "source": [
    "X=df_final.iloc[:,1:14]\n",
    "y=df_final['AveragePrice']\n",
    "from sklearn.model_selection import train_test_split\n",
    "X_train,X_test,y_train,y_test=train_test_split(X,y,test_size=0.2,random_state=42)"
   ]
  },
  {
   "cell_type": "markdown",
   "metadata": {
    "_uuid": "ea730c77a31cde9de98263079a189accb8b5772b",
    "papermill": {
     "duration": 0.005446,
     "end_time": "2021-06-25T12:10:10.392965",
     "exception": false,
     "start_time": "2021-06-25T12:10:10.387519",
     "status": "completed"
    },
    "tags": []
   },
   "source": [
    "Creating and Training the Model"
   ]
  },
  {
   "cell_type": "code",
   "execution_count": 10,
   "metadata": {
    "_uuid": "eb37015e78974e5fd2ae7e13d065c8ab0a9c6948",
    "execution": {
     "iopub.execute_input": "2021-06-25T12:10:10.408427Z",
     "iopub.status.busy": "2021-06-25T12:10:10.407905Z",
     "iopub.status.idle": "2021-06-25T12:10:18.495853Z",
     "shell.execute_reply": "2021-06-25T12:10:18.495169Z"
    },
    "jupyter": {
     "source_hidden": true
    },
    "papermill": {
     "duration": 8.097775,
     "end_time": "2021-06-25T12:10:18.496053",
     "exception": false,
     "start_time": "2021-06-25T12:10:10.398278",
     "status": "completed"
    },
    "tags": []
   },
   "outputs": [],
   "source": [
    "from sklearn.ensemble import RandomForestRegressor\n",
    "rdr = RandomForestRegressor(\n",
    "    n_estimators=n_estimators,\n",
    "    max_features=max_features\n",
    ")\n",
    "rdr.fit(X_train,y_train)\n",
    "pred=rdr.predict(X_test)"
   ]
  },
  {
   "cell_type": "code",
   "execution_count": 11,
   "metadata": {
    "_uuid": "7ed5b8d4e8abb44a4b548c13ac9fb2d65227d1c5",
    "execution": {
     "iopub.execute_input": "2021-06-25T12:10:18.511058Z",
     "iopub.status.busy": "2021-06-25T12:10:18.510386Z",
     "iopub.status.idle": "2021-06-25T12:10:18.513592Z",
     "shell.execute_reply": "2021-06-25T12:10:18.513155Z"
    },
    "jupyter": {
     "source_hidden": true
    },
    "papermill": {
     "duration": 0.011993,
     "end_time": "2021-06-25T12:10:18.513850",
     "exception": false,
     "start_time": "2021-06-25T12:10:18.501857",
     "status": "completed"
    },
    "tags": []
   },
   "outputs": [],
   "source": [
    "#%%capture cap --no-stderr\n",
    "#print(np.sqrt(mean_squared_error(y_test, pred)))"
   ]
  },
  {
   "cell_type": "code",
   "execution_count": 12,
   "metadata": {
    "execution": {
     "iopub.execute_input": "2021-06-25T12:10:18.529340Z",
     "iopub.status.busy": "2021-06-25T12:10:18.528740Z",
     "iopub.status.idle": "2021-06-25T12:10:18.531939Z",
     "shell.execute_reply": "2021-06-25T12:10:18.531454Z"
    },
    "jupyter": {
     "source_hidden": true
    },
    "papermill": {
     "duration": 0.01246,
     "end_time": "2021-06-25T12:10:18.532139",
     "exception": false,
     "start_time": "2021-06-25T12:10:18.519679",
     "status": "completed"
    },
    "tags": []
   },
   "outputs": [],
   "source": [
    "#with open(output_rmse, 'w') as f:\n",
    "#    f.write(cap.stdout)"
   ]
  },
  {
   "cell_type": "code",
   "execution_count": 13,
   "metadata": {
    "execution": {
     "iopub.execute_input": "2021-06-25T12:10:18.549174Z",
     "iopub.status.busy": "2021-06-25T12:10:18.548465Z",
     "iopub.status.idle": "2021-06-25T12:10:18.570435Z",
     "shell.execute_reply": "2021-06-25T12:10:18.570067Z"
    },
    "jupyter": {
     "source_hidden": true
    },
    "papermill": {
     "duration": 0.032804,
     "end_time": "2021-06-25T12:10:18.570609",
     "exception": false,
     "start_time": "2021-06-25T12:10:18.537805",
     "status": "completed"
    },
    "tags": []
   },
   "outputs": [
    {
     "data": {
      "text/plain": [
       "<sqlalchemy.engine.result.ResultProxy at 0x7f6b22469ed0>"
      ]
     },
     "execution_count": 13,
     "metadata": {},
     "output_type": "execute_result"
    }
   ],
   "source": [
    "cnx.execute(\"\"\"\n",
    "    INSERT INTO ml.accuracies (ml_id, ml_date, accuracy) VALUES ('{0}', '{1}', {2}) \n",
    "    ON CONFLICT (ml_id, ml_date) \n",
    "    DO\n",
    "        UPDATE SET accuracy = {2};\n",
    "    \"\"\".format(ml_id, ml_date, np.sqrt(mean_squared_error(y_test, pred))))"
   ]
  }
 ],
 "metadata": {
  "kernelspec": {
   "display_name": "Python 3",
   "language": "python",
   "name": "python3"
  },
  "language_info": {
   "codemirror_mode": {
    "name": "ipython",
    "version": 3
   },
   "file_extension": ".py",
   "mimetype": "text/x-python",
   "name": "python",
   "nbconvert_exporter": "python",
   "pygments_lexer": "ipython3",
   "version": "3.7.10"
  },
  "papermill": {
   "duration": 10.837281,
   "end_time": "2021-06-25T12:10:18.988958",
   "environment_variables": {},
   "exception": null,
   "input_path": "/usr/local/airflow/include/notebooks/avocado_prediction.ipynb",
   "output_path": "/tmp/out-model-avocado-prediction-auto_100.ipynb",
   "parameters": {
    "filepath": "/tmp/avocado.csv",
    "max_features": "auto",
    "ml_id": "auto_100",
    "n_estimators": 100
   },
   "start_time": "2021-06-25T12:10:08.151677",
   "version": "2.1.2"
  }
 },
 "nbformat": 4,
 "nbformat_minor": 4
}