{
 "cells": [
  {
   "cell_type": "code",
   "execution_count": 1,
   "metadata": {
    "_cell_guid": "79c7e3d0-c299-4dcb-8224-4455121ee9b0",
    "_uuid": "d629ff2d2480ee46fbb7e2d37f6b5fab8052498a",
    "execution": {
     "iopub.execute_input": "2021-06-25T08:20:10.163408Z",
     "iopub.status.busy": "2021-06-25T08:20:10.162716Z",
     "iopub.status.idle": "2021-06-25T08:20:10.885104Z",
     "shell.execute_reply": "2021-06-25T08:20:10.884329Z"
    },
    "jupyter": {
     "source_hidden": true
    },
    "papermill": {
     "duration": 0.735228,
     "end_time": "2021-06-25T08:20:10.885383",
     "exception": false,
     "start_time": "2021-06-25T08:20:10.150155",
     "status": "completed"
    },
    "tags": []
   },
   "outputs": [],
   "source": [
    "import pandas as pd\n",
    "import numpy as np\n",
    "from sqlalchemy import create_engine\n",
    "from datetime import date\n",
    "from sklearn.metrics import mean_squared_error"
   ]
  },
  {
   "cell_type": "code",
   "execution_count": 2,
   "metadata": {
    "execution": {
     "iopub.execute_input": "2021-06-25T08:20:10.906846Z",
     "iopub.status.busy": "2021-06-25T08:20:10.906039Z",
     "iopub.status.idle": "2021-06-25T08:20:10.937881Z",
     "shell.execute_reply": "2021-06-25T08:20:10.937163Z"
    },
    "jupyter": {
     "source_hidden": true
    },
    "papermill": {
     "duration": 0.044896,
     "end_time": "2021-06-25T08:20:10.938173",
     "exception": false,
     "start_time": "2021-06-25T08:20:10.893277",
     "status": "completed"
    },
    "tags": []
   },
   "outputs": [],
   "source": [
    "# THIS IS PURELY FOR TEST PURPOSE NEVER DO THAT IN PRODUCTION\n",
    "POSTGRES_ADDRESS='postgres'\n",
    "POSTGRES_PORT='5432'\n",
    "POSTGRES_USERNAME='postgres'\n",
    "POSTGRES_PASSWORD='postgres'\n",
    "\n",
    "postgres_conn = 'postgresql://{0}:{1}@{2}:{3}/'.format(POSTGRES_USERNAME, POSTGRES_PASSWORD, POSTGRES_ADDRESS, POSTGRES_PORT)\n",
    "\n",
    "# Create the connection\n",
    "cnx = create_engine(postgres_conn)\n"
   ]
  },
  {
   "cell_type": "markdown",
   "metadata": {
    "_uuid": "1998755ef10683262b29765345cff1c1c7d10b15",
    "papermill": {
     "duration": 0.005984,
     "end_time": "2021-06-25T08:20:10.950852",
     "exception": false,
     "start_time": "2021-06-25T08:20:10.944868",
     "status": "completed"
    },
    "tags": []
   },
   "source": [
    "Read in the Avocado Prices csv file as a DataFrame called df"
   ]
  },
  {
   "cell_type": "code",
   "execution_count": 3,
   "metadata": {
    "execution": {
     "iopub.execute_input": "2021-06-25T08:20:10.966236Z",
     "iopub.status.busy": "2021-06-25T08:20:10.965602Z",
     "iopub.status.idle": "2021-06-25T08:20:10.969063Z",
     "shell.execute_reply": "2021-06-25T08:20:10.968378Z"
    },
    "jupyter": {
     "source_hidden": true
    },
    "papermill": {
     "duration": 0.013141,
     "end_time": "2021-06-25T08:20:10.969273",
     "exception": false,
     "start_time": "2021-06-25T08:20:10.956132",
     "status": "completed"
    },
    "tags": [
     "parameters"
    ]
   },
   "outputs": [],
   "source": [
    "# Parameterized\n",
    "\n",
    "filepath='avocado.csv'\n",
    "ml_id='auto_100'\n",
    "ml_date=date.today()\n",
    "n_estimators = 100\n",
    "max_features = 'auto'"
   ]
  },
  {
   "cell_type": "code",
   "execution_count": 4,
   "id": "47e65d14",
   "metadata": {
    "execution": {
     "iopub.execute_input": "2021-06-25T08:20:10.985586Z",
     "iopub.status.busy": "2021-06-25T08:20:10.984925Z",
     "iopub.status.idle": "2021-06-25T08:20:10.987554Z",
     "shell.execute_reply": "2021-06-25T08:20:10.988017Z"
    },
    "jupyter": {
     "source_hidden": true
    },
    "papermill": {
     "duration": 0.013444,
     "end_time": "2021-06-25T08:20:10.988268",
     "exception": false,
     "start_time": "2021-06-25T08:20:10.974824",
     "status": "completed"
    },
    "tags": [
     "injected-parameters"
    ]
   },
   "outputs": [],
   "source": [
    "# Parameters\n",
    "filepath = \"/tmp/avocado.csv\"\n",
    "n_estimators = 100\n",
    "max_features = \"auto\"\n",
    "ml_id = \"auto_100\"\n"
   ]
  },
  {
   "cell_type": "code",
   "execution_count": 5,
   "metadata": {
    "_uuid": "55d0e719eb8b91d763c1eacaf0f51ee0586486fc",
    "execution": {
     "iopub.execute_input": "2021-06-25T08:20:11.004930Z",
     "iopub.status.busy": "2021-06-25T08:20:11.004271Z",
     "iopub.status.idle": "2021-06-25T08:20:11.035688Z",
     "shell.execute_reply": "2021-06-25T08:20:11.035085Z"
    },
    "jupyter": {
     "source_hidden": true
    },
    "papermill": {
     "duration": 0.041538,
     "end_time": "2021-06-25T08:20:11.035898",
     "exception": false,
     "start_time": "2021-06-25T08:20:10.994360",
     "status": "completed"
    },
    "tags": []
   },
   "outputs": [],
   "source": [
    "df= pd.read_csv(filepath)"
   ]
  },
  {
   "cell_type": "markdown",
   "metadata": {
    "_uuid": "434e0457f550e2200424e5ec26162e1aa5904005",
    "papermill": {
     "duration": 0.005946,
     "end_time": "2021-06-25T08:20:11.047582",
     "exception": false,
     "start_time": "2021-06-25T08:20:11.041636",
     "status": "completed"
    },
    "tags": []
   },
   "source": [
    "The Feature \"Unnamed:0\" is just a representation of the indexes, so it's useless to keep it, lets remove it !"
   ]
  },
  {
   "cell_type": "code",
   "execution_count": 6,
   "metadata": {
    "_uuid": "9875398e37728dc3141fed4228be337a4735beb6",
    "execution": {
     "iopub.execute_input": "2021-06-25T08:20:11.066150Z",
     "iopub.status.busy": "2021-06-25T08:20:11.065539Z",
     "iopub.status.idle": "2021-06-25T08:20:11.068769Z",
     "shell.execute_reply": "2021-06-25T08:20:11.068238Z"
    },
    "jupyter": {
     "source_hidden": true
    },
    "papermill": {
     "duration": 0.015237,
     "end_time": "2021-06-25T08:20:11.068975",
     "exception": false,
     "start_time": "2021-06-25T08:20:11.053738",
     "status": "completed"
    },
    "tags": []
   },
   "outputs": [],
   "source": [
    "df.drop('Unnamed: 0',axis=1,inplace=True)"
   ]
  },
  {
   "cell_type": "markdown",
   "metadata": {
    "_uuid": "12e94ad381e4cb8d2c8a9bbe08ce07ab5d49c040",
    "papermill": {
     "duration": 0.006046,
     "end_time": "2021-06-25T08:20:11.080636",
     "exception": false,
     "start_time": "2021-06-25T08:20:11.074590",
     "status": "completed"
    },
    "tags": []
   },
   "source": [
    "well as a first observation we can see that we are lucky, we dont have any missing values (18249 complete data) and 13 columns.\n",
    "Now let's do some Feature Engineering on the Date Feature so we can be able to use the day and the month columns in building our machine learning model later. ( I didn't mention the year because its already there in data frame)"
   ]
  },
  {
   "cell_type": "code",
   "execution_count": 7,
   "metadata": {
    "_uuid": "f031639ce794656e877484d1c9c356df7028177f",
    "execution": {
     "iopub.execute_input": "2021-06-25T08:20:11.097799Z",
     "iopub.status.busy": "2021-06-25T08:20:11.097153Z",
     "iopub.status.idle": "2021-06-25T08:20:11.221813Z",
     "shell.execute_reply": "2021-06-25T08:20:11.222221Z"
    },
    "jupyter": {
     "source_hidden": true
    },
    "papermill": {
     "duration": 0.136347,
     "end_time": "2021-06-25T08:20:11.222511",
     "exception": false,
     "start_time": "2021-06-25T08:20:11.086164",
     "status": "completed"
    },
    "tags": []
   },
   "outputs": [],
   "source": [
    "df['Date']=pd.to_datetime(df['Date'])\n",
    "df['Month']=df['Date'].apply(lambda x:x.month)\n",
    "df['Day']=df['Date'].apply(lambda x:x.day)"
   ]
  },
  {
   "cell_type": "markdown",
   "metadata": {
    "_uuid": "ebdcac9924ce3e366fd3a75170682f7113385b7a",
    "papermill": {
     "duration": 0.005726,
     "end_time": "2021-06-25T08:20:11.234326",
     "exception": false,
     "start_time": "2021-06-25T08:20:11.228600",
     "status": "completed"
    },
    "tags": []
   },
   "source": [
    "as we can see we have 54 regions and 2 unique types, so it's going to be easy to to transform the type feature to dummies, but for the region its going to be a bit complexe so I decided to drop the entire column.\n",
    "I will drop the Date Feature as well because I already have 3 other columns for the Year, Month and Day."
   ]
  },
  {
   "cell_type": "code",
   "execution_count": 8,
   "metadata": {
    "_uuid": "a798682da34327b731ef262985fd50ba68e06460",
    "execution": {
     "iopub.execute_input": "2021-06-25T08:20:11.251770Z",
     "iopub.status.busy": "2021-06-25T08:20:11.251096Z",
     "iopub.status.idle": "2021-06-25T08:20:11.261953Z",
     "shell.execute_reply": "2021-06-25T08:20:11.261336Z"
    },
    "jupyter": {
     "source_hidden": true
    },
    "papermill": {
     "duration": 0.022311,
     "end_time": "2021-06-25T08:20:11.262159",
     "exception": false,
     "start_time": "2021-06-25T08:20:11.239848",
     "status": "completed"
    },
    "tags": []
   },
   "outputs": [],
   "source": [
    "df_final=pd.get_dummies(df.drop(['region','Date'],axis=1),drop_first=True)"
   ]
  },
  {
   "cell_type": "markdown",
   "metadata": {
    "_uuid": "8b74a6b88cb3e9b3e1d1e987e061048f203c7364",
    "papermill": {
     "duration": 0.005825,
     "end_time": "2021-06-25T08:20:11.274181",
     "exception": false,
     "start_time": "2021-06-25T08:20:11.268356",
     "status": "completed"
    },
    "tags": []
   },
   "source": [
    "Now our data are ready! lets apply our model which is going to be the Linear Regression because our Target variable 'AveragePrice'is continuous.\n",
    "Let's now begin to train out regression model! We will need to first split up our data into an X array that contains the features to train on, and a y array with the target variable"
   ]
  },
  {
   "cell_type": "code",
   "execution_count": 9,
   "metadata": {
    "_uuid": "830591f99de9715241e688bf9ce265e979401ff5",
    "execution": {
     "iopub.execute_input": "2021-06-25T08:20:11.291928Z",
     "iopub.status.busy": "2021-06-25T08:20:11.291266Z",
     "iopub.status.idle": "2021-06-25T08:20:11.302456Z",
     "shell.execute_reply": "2021-06-25T08:20:11.301961Z"
    },
    "jupyter": {
     "source_hidden": true
    },
    "papermill": {
     "duration": 0.022495,
     "end_time": "2021-06-25T08:20:11.302665",
     "exception": false,
     "start_time": "2021-06-25T08:20:11.280170",
     "status": "completed"
    },
    "tags": []
   },
   "outputs": [],
   "source": [
    "X=df_final.iloc[:,1:14]\n",
    "y=df_final['AveragePrice']\n",
    "from sklearn.model_selection import train_test_split\n",
    "X_train,X_test,y_train,y_test=train_test_split(X,y,test_size=0.2,random_state=42)"
   ]
  },
  {
   "cell_type": "markdown",
   "metadata": {
    "_uuid": "ea730c77a31cde9de98263079a189accb8b5772b",
    "papermill": {
     "duration": 0.005887,
     "end_time": "2021-06-25T08:20:11.314390",
     "exception": false,
     "start_time": "2021-06-25T08:20:11.308503",
     "status": "completed"
    },
    "tags": []
   },
   "source": [
    "Creating and Training the Model"
   ]
  },
  {
   "cell_type": "code",
   "execution_count": 10,
   "metadata": {
    "_uuid": "eb37015e78974e5fd2ae7e13d065c8ab0a9c6948",
    "execution": {
     "iopub.execute_input": "2021-06-25T08:20:11.331508Z",
     "iopub.status.busy": "2021-06-25T08:20:11.330728Z",
     "iopub.status.idle": "2021-06-25T08:20:19.630632Z",
     "shell.execute_reply": "2021-06-25T08:20:19.631044Z"
    },
    "jupyter": {
     "source_hidden": true
    },
    "papermill": {
     "duration": 8.31116,
     "end_time": "2021-06-25T08:20:19.631331",
     "exception": false,
     "start_time": "2021-06-25T08:20:11.320171",
     "status": "completed"
    },
    "tags": []
   },
   "outputs": [],
   "source": [
    "from sklearn.ensemble import RandomForestRegressor\n",
    "rdr = RandomForestRegressor(\n",
    "    n_estimators=n_estimators,\n",
    "    max_features=max_features\n",
    ")\n",
    "rdr.fit(X_train,y_train)\n",
    "pred=rdr.predict(X_test)"
   ]
  },
  {
   "cell_type": "code",
   "execution_count": 11,
   "metadata": {
    "_uuid": "7ed5b8d4e8abb44a4b548c13ac9fb2d65227d1c5",
    "execution": {
     "iopub.execute_input": "2021-06-25T08:20:19.646318Z",
     "iopub.status.busy": "2021-06-25T08:20:19.645673Z",
     "iopub.status.idle": "2021-06-25T08:20:19.648923Z",
     "shell.execute_reply": "2021-06-25T08:20:19.648490Z"
    },
    "jupyter": {
     "source_hidden": true
    },
    "papermill": {
     "duration": 0.011869,
     "end_time": "2021-06-25T08:20:19.649118",
     "exception": false,
     "start_time": "2021-06-25T08:20:19.637249",
     "status": "completed"
    },
    "tags": []
   },
   "outputs": [],
   "source": [
    "#%%capture cap --no-stderr\n",
    "#print(np.sqrt(mean_squared_error(y_test, pred)))"
   ]
  },
  {
   "cell_type": "code",
   "execution_count": 12,
   "metadata": {
    "execution": {
     "iopub.execute_input": "2021-06-25T08:20:19.663954Z",
     "iopub.status.busy": "2021-06-25T08:20:19.663370Z",
     "iopub.status.idle": "2021-06-25T08:20:19.666733Z",
     "shell.execute_reply": "2021-06-25T08:20:19.666135Z"
    },
    "jupyter": {
     "source_hidden": true
    },
    "papermill": {
     "duration": 0.012276,
     "end_time": "2021-06-25T08:20:19.666930",
     "exception": false,
     "start_time": "2021-06-25T08:20:19.654654",
     "status": "completed"
    },
    "tags": []
   },
   "outputs": [],
   "source": [
    "#with open(output_rmse, 'w') as f:\n",
    "#    f.write(cap.stdout)"
   ]
  },
  {
   "cell_type": "code",
   "execution_count": 13,
   "metadata": {
    "execution": {
     "iopub.execute_input": "2021-06-25T08:20:19.684504Z",
     "iopub.status.busy": "2021-06-25T08:20:19.683747Z",
     "iopub.status.idle": "2021-06-25T08:20:19.705361Z",
     "shell.execute_reply": "2021-06-25T08:20:19.705929Z"
    },
    "jupyter": {
     "source_hidden": true
    },
    "papermill": {
     "duration": 0.033544,
     "end_time": "2021-06-25T08:20:19.706190",
     "exception": false,
     "start_time": "2021-06-25T08:20:19.672646",
     "status": "completed"
    },
    "tags": []
   },
   "outputs": [
    {
     "data": {
      "text/plain": [
       "<sqlalchemy.engine.result.ResultProxy at 0x7efff6f1c650>"
      ]
     },
     "execution_count": 13,
     "metadata": {},
     "output_type": "execute_result"
    }
   ],
   "source": [
    "cnx.execute(\"\"\"\n",
    "    INSERT INTO ml.accuracies (ml_id, ml_date, accuracy) VALUES ('{0}', '{1}', {2}) \n",
    "    ON CONFLICT (ml_id, ml_date) \n",
    "    DO\n",
    "        UPDATE SET accuracy = {2};\n",
    "    \"\"\".format(ml_id, ml_date, np.sqrt(mean_squared_error(y_test, pred))))"
   ]
  }
 ],
 "metadata": {
  "kernelspec": {
   "display_name": "Python 3",
   "language": "python",
   "name": "python3"
  },
  "language_info": {
   "codemirror_mode": {
    "name": "ipython",
    "version": 3
   },
   "file_extension": ".py",
   "mimetype": "text/x-python",
   "name": "python",
   "nbconvert_exporter": "python",
   "pygments_lexer": "ipython3",
   "version": "3.7.10"
  },
  "papermill": {
   "duration": 11.215028,
   "end_time": "2021-06-25T08:20:20.123388",
   "environment_variables": {},
   "exception": null,
   "input_path": "/usr/local/airflow/include/notebooks/avocado_prediction.ipynb",
   "output_path": "/tmp/out-model-avocado-prediction-auto_100.ipynb",
   "parameters": {
    "filepath": "/tmp/avocado.csv",
    "max_features": "auto",
    "ml_id": "auto_100",
    "n_estimators": 100
   },
   "start_time": "2021-06-25T08:20:08.908360",
   "version": "2.1.2"
  }
 },
 "nbformat": 4,
 "nbformat_minor": 4
}