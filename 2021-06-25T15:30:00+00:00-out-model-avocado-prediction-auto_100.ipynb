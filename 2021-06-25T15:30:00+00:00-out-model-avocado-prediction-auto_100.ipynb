{
 "cells": [
  {
   "cell_type": "code",
   "execution_count": 1,
   "metadata": {
    "_cell_guid": "79c7e3d0-c299-4dcb-8224-4455121ee9b0",
    "_uuid": "d629ff2d2480ee46fbb7e2d37f6b5fab8052498a",
    "execution": {
     "iopub.execute_input": "2021-06-25T15:40:18.333072Z",
     "iopub.status.busy": "2021-06-25T15:40:18.332249Z",
     "iopub.status.idle": "2021-06-25T15:40:18.963754Z",
     "shell.execute_reply": "2021-06-25T15:40:18.962769Z"
    },
    "jupyter": {
     "source_hidden": true
    },
    "papermill": {
     "duration": 0.646542,
     "end_time": "2021-06-25T15:40:18.964014",
     "exception": false,
     "start_time": "2021-06-25T15:40:18.317472",
     "status": "completed"
    },
    "tags": []
   },
   "outputs": [],
   "source": [
    "import pandas as pd\n",
    "import numpy as np\n",
    "from sqlalchemy import create_engine\n",
    "from datetime import date\n",
    "from sklearn.metrics import mean_squared_error"
   ]
  },
  {
   "cell_type": "code",
   "execution_count": 2,
   "metadata": {
    "execution": {
     "iopub.execute_input": "2021-06-25T15:40:18.983848Z",
     "iopub.status.busy": "2021-06-25T15:40:18.983161Z",
     "iopub.status.idle": "2021-06-25T15:40:19.009462Z",
     "shell.execute_reply": "2021-06-25T15:40:19.009006Z"
    },
    "jupyter": {
     "source_hidden": true
    },
    "papermill": {
     "duration": 0.038874,
     "end_time": "2021-06-25T15:40:19.009706",
     "exception": false,
     "start_time": "2021-06-25T15:40:18.970832",
     "status": "completed"
    },
    "tags": []
   },
   "outputs": [],
   "source": [
    "# THIS IS PURELY FOR TEST PURPOSE NEVER DO THAT IN PRODUCTION\n",
    "POSTGRES_ADDRESS='postgres'\n",
    "POSTGRES_PORT='5432'\n",
    "POSTGRES_USERNAME='postgres'\n",
    "POSTGRES_PASSWORD='postgres'\n",
    "\n",
    "postgres_conn = 'postgresql://{0}:{1}@{2}:{3}/'.format(POSTGRES_USERNAME, POSTGRES_PASSWORD, POSTGRES_ADDRESS, POSTGRES_PORT)\n",
    "\n",
    "# Create the connection\n",
    "cnx = create_engine(postgres_conn)\n"
   ]
  },
  {
   "cell_type": "markdown",
   "metadata": {
    "_uuid": "1998755ef10683262b29765345cff1c1c7d10b15",
    "papermill": {
     "duration": 0.005144,
     "end_time": "2021-06-25T15:40:19.019975",
     "exception": false,
     "start_time": "2021-06-25T15:40:19.014831",
     "status": "completed"
    },
    "tags": []
   },
   "source": [
    "Read in the Avocado Prices csv file as a DataFrame called df"
   ]
  },
  {
   "cell_type": "code",
   "execution_count": 3,
   "metadata": {
    "execution": {
     "iopub.execute_input": "2021-06-25T15:40:19.034009Z",
     "iopub.status.busy": "2021-06-25T15:40:19.033382Z",
     "iopub.status.idle": "2021-06-25T15:40:19.036401Z",
     "shell.execute_reply": "2021-06-25T15:40:19.035846Z"
    },
    "jupyter": {
     "source_hidden": true
    },
    "papermill": {
     "duration": 0.011752,
     "end_time": "2021-06-25T15:40:19.036639",
     "exception": false,
     "start_time": "2021-06-25T15:40:19.024887",
     "status": "completed"
    },
    "tags": [
     "parameters"
    ]
   },
   "outputs": [],
   "source": [
    "# Parameterized\n",
    "\n",
    "filepath='avocado.csv'\n",
    "ml_id='auto_100'\n",
    "ml_date=date.today()\n",
    "n_estimators = 100\n",
    "max_features = 'auto'"
   ]
  },
  {
   "cell_type": "code",
   "execution_count": 4,
   "id": "e9dbf987",
   "metadata": {
    "execution": {
     "iopub.execute_input": "2021-06-25T15:40:19.048735Z",
     "iopub.status.busy": "2021-06-25T15:40:19.048195Z",
     "iopub.status.idle": "2021-06-25T15:40:19.050830Z",
     "shell.execute_reply": "2021-06-25T15:40:19.050420Z"
    },
    "jupyter": {
     "source_hidden": true
    },
    "papermill": {
     "duration": 0.009951,
     "end_time": "2021-06-25T15:40:19.050996",
     "exception": false,
     "start_time": "2021-06-25T15:40:19.041045",
     "status": "completed"
    },
    "tags": [
     "injected-parameters"
    ]
   },
   "outputs": [],
   "source": [
    "# Parameters\n",
    "filepath = \"/tmp/avocado.csv\"\n",
    "n_estimators = 100\n",
    "max_features = \"auto\"\n",
    "ml_id = \"auto_100\"\n"
   ]
  },
  {
   "cell_type": "code",
   "execution_count": 5,
   "metadata": {
    "_uuid": "55d0e719eb8b91d763c1eacaf0f51ee0586486fc",
    "execution": {
     "iopub.execute_input": "2021-06-25T15:40:19.063747Z",
     "iopub.status.busy": "2021-06-25T15:40:19.063208Z",
     "iopub.status.idle": "2021-06-25T15:40:19.088414Z",
     "shell.execute_reply": "2021-06-25T15:40:19.088025Z"
    },
    "jupyter": {
     "source_hidden": true
    },
    "papermill": {
     "duration": 0.03296,
     "end_time": "2021-06-25T15:40:19.088623",
     "exception": false,
     "start_time": "2021-06-25T15:40:19.055663",
     "status": "completed"
    },
    "tags": []
   },
   "outputs": [],
   "source": [
    "df= pd.read_csv(filepath)"
   ]
  },
  {
   "cell_type": "markdown",
   "metadata": {
    "_uuid": "434e0457f550e2200424e5ec26162e1aa5904005",
    "papermill": {
     "duration": 0.004431,
     "end_time": "2021-06-25T15:40:19.097944",
     "exception": false,
     "start_time": "2021-06-25T15:40:19.093513",
     "status": "completed"
    },
    "tags": []
   },
   "source": [
    "The Feature \"Unnamed:0\" is just a representation of the indexes, so it's useless to keep it, lets remove it !"
   ]
  },
  {
   "cell_type": "code",
   "execution_count": 6,
   "metadata": {
    "_uuid": "9875398e37728dc3141fed4228be337a4735beb6",
    "execution": {
     "iopub.execute_input": "2021-06-25T15:40:19.112372Z",
     "iopub.status.busy": "2021-06-25T15:40:19.111846Z",
     "iopub.status.idle": "2021-06-25T15:40:19.114581Z",
     "shell.execute_reply": "2021-06-25T15:40:19.114020Z"
    },
    "jupyter": {
     "source_hidden": true
    },
    "papermill": {
     "duration": 0.012357,
     "end_time": "2021-06-25T15:40:19.114740",
     "exception": false,
     "start_time": "2021-06-25T15:40:19.102383",
     "status": "completed"
    },
    "tags": []
   },
   "outputs": [],
   "source": [
    "df.drop('Unnamed: 0',axis=1,inplace=True)"
   ]
  },
  {
   "cell_type": "markdown",
   "metadata": {
    "_uuid": "12e94ad381e4cb8d2c8a9bbe08ce07ab5d49c040",
    "papermill": {
     "duration": 0.004665,
     "end_time": "2021-06-25T15:40:19.124392",
     "exception": false,
     "start_time": "2021-06-25T15:40:19.119727",
     "status": "completed"
    },
    "tags": []
   },
   "source": [
    "well as a first observation we can see that we are lucky, we dont have any missing values (18249 complete data) and 13 columns.\n",
    "Now let's do some Feature Engineering on the Date Feature so we can be able to use the day and the month columns in building our machine learning model later. ( I didn't mention the year because its already there in data frame)"
   ]
  },
  {
   "cell_type": "code",
   "execution_count": 7,
   "metadata": {
    "_uuid": "f031639ce794656e877484d1c9c356df7028177f",
    "execution": {
     "iopub.execute_input": "2021-06-25T15:40:19.137985Z",
     "iopub.status.busy": "2021-06-25T15:40:19.137391Z",
     "iopub.status.idle": "2021-06-25T15:40:19.240953Z",
     "shell.execute_reply": "2021-06-25T15:40:19.240561Z"
    },
    "jupyter": {
     "source_hidden": true
    },
    "papermill": {
     "duration": 0.112337,
     "end_time": "2021-06-25T15:40:19.241133",
     "exception": false,
     "start_time": "2021-06-25T15:40:19.128796",
     "status": "completed"
    },
    "tags": []
   },
   "outputs": [],
   "source": [
    "df['Date']=pd.to_datetime(df['Date'])\n",
    "df['Month']=df['Date'].apply(lambda x:x.month)\n",
    "df['Day']=df['Date'].apply(lambda x:x.day)"
   ]
  },
  {
   "cell_type": "markdown",
   "metadata": {
    "_uuid": "ebdcac9924ce3e366fd3a75170682f7113385b7a",
    "papermill": {
     "duration": 0.004233,
     "end_time": "2021-06-25T15:40:19.250210",
     "exception": false,
     "start_time": "2021-06-25T15:40:19.245977",
     "status": "completed"
    },
    "tags": []
   },
   "source": [
    "as we can see we have 54 regions and 2 unique types, so it's going to be easy to to transform the type feature to dummies, but for the region its going to be a bit complexe so I decided to drop the entire column.\n",
    "I will drop the Date Feature as well because I already have 3 other columns for the Year, Month and Day."
   ]
  },
  {
   "cell_type": "code",
   "execution_count": 8,
   "metadata": {
    "_uuid": "a798682da34327b731ef262985fd50ba68e06460",
    "execution": {
     "iopub.execute_input": "2021-06-25T15:40:19.266108Z",
     "iopub.status.busy": "2021-06-25T15:40:19.265575Z",
     "iopub.status.idle": "2021-06-25T15:40:19.272788Z",
     "shell.execute_reply": "2021-06-25T15:40:19.272359Z"
    },
    "jupyter": {
     "source_hidden": true
    },
    "papermill": {
     "duration": 0.018454,
     "end_time": "2021-06-25T15:40:19.272950",
     "exception": false,
     "start_time": "2021-06-25T15:40:19.254496",
     "status": "completed"
    },
    "tags": []
   },
   "outputs": [],
   "source": [
    "df_final=pd.get_dummies(df.drop(['region','Date'],axis=1),drop_first=True)"
   ]
  },
  {
   "cell_type": "markdown",
   "metadata": {
    "_uuid": "8b74a6b88cb3e9b3e1d1e987e061048f203c7364",
    "papermill": {
     "duration": 0.004592,
     "end_time": "2021-06-25T15:40:19.282214",
     "exception": false,
     "start_time": "2021-06-25T15:40:19.277622",
     "status": "completed"
    },
    "tags": []
   },
   "source": [
    "Now our data are ready! lets apply our model which is going to be the Linear Regression because our Target variable 'AveragePrice'is continuous.\n",
    "Let's now begin to train out regression model! We will need to first split up our data into an X array that contains the features to train on, and a y array with the target variable"
   ]
  },
  {
   "cell_type": "code",
   "execution_count": 9,
   "metadata": {
    "_uuid": "830591f99de9715241e688bf9ce265e979401ff5",
    "execution": {
     "iopub.execute_input": "2021-06-25T15:40:19.295758Z",
     "iopub.status.busy": "2021-06-25T15:40:19.295189Z",
     "iopub.status.idle": "2021-06-25T15:40:19.304655Z",
     "shell.execute_reply": "2021-06-25T15:40:19.304163Z"
    },
    "jupyter": {
     "source_hidden": true
    },
    "papermill": {
     "duration": 0.018149,
     "end_time": "2021-06-25T15:40:19.304889",
     "exception": false,
     "start_time": "2021-06-25T15:40:19.286740",
     "status": "completed"
    },
    "tags": []
   },
   "outputs": [],
   "source": [
    "X=df_final.iloc[:,1:14]\n",
    "y=df_final['AveragePrice']\n",
    "from sklearn.model_selection import train_test_split\n",
    "X_train,X_test,y_train,y_test=train_test_split(X,y,test_size=0.2,random_state=42)"
   ]
  },
  {
   "cell_type": "markdown",
   "metadata": {
    "_uuid": "ea730c77a31cde9de98263079a189accb8b5772b",
    "papermill": {
     "duration": 0.004366,
     "end_time": "2021-06-25T15:40:19.314038",
     "exception": false,
     "start_time": "2021-06-25T15:40:19.309672",
     "status": "completed"
    },
    "tags": []
   },
   "source": [
    "Creating and Training the Model"
   ]
  },
  {
   "cell_type": "code",
   "execution_count": 10,
   "metadata": {
    "_uuid": "eb37015e78974e5fd2ae7e13d065c8ab0a9c6948",
    "execution": {
     "iopub.execute_input": "2021-06-25T15:40:19.327825Z",
     "iopub.status.busy": "2021-06-25T15:40:19.327208Z",
     "iopub.status.idle": "2021-06-25T15:40:26.683070Z",
     "shell.execute_reply": "2021-06-25T15:40:26.683527Z"
    },
    "jupyter": {
     "source_hidden": true
    },
    "papermill": {
     "duration": 7.364651,
     "end_time": "2021-06-25T15:40:26.683769",
     "exception": false,
     "start_time": "2021-06-25T15:40:19.319118",
     "status": "completed"
    },
    "tags": []
   },
   "outputs": [],
   "source": [
    "from sklearn.ensemble import RandomForestRegressor\n",
    "rdr = RandomForestRegressor(\n",
    "    n_estimators=n_estimators,\n",
    "    max_features=max_features\n",
    ")\n",
    "rdr.fit(X_train,y_train)\n",
    "pred=rdr.predict(X_test)"
   ]
  },
  {
   "cell_type": "code",
   "execution_count": 11,
   "metadata": {
    "_uuid": "7ed5b8d4e8abb44a4b548c13ac9fb2d65227d1c5",
    "execution": {
     "iopub.execute_input": "2021-06-25T15:40:26.698621Z",
     "iopub.status.busy": "2021-06-25T15:40:26.697983Z",
     "iopub.status.idle": "2021-06-25T15:40:26.701220Z",
     "shell.execute_reply": "2021-06-25T15:40:26.700587Z"
    },
    "jupyter": {
     "source_hidden": true
    },
    "papermill": {
     "duration": 0.011874,
     "end_time": "2021-06-25T15:40:26.701479",
     "exception": false,
     "start_time": "2021-06-25T15:40:26.689605",
     "status": "completed"
    },
    "tags": []
   },
   "outputs": [],
   "source": [
    "#%%capture cap --no-stderr\n",
    "#print(np.sqrt(mean_squared_error(y_test, pred)))"
   ]
  },
  {
   "cell_type": "code",
   "execution_count": 12,
   "metadata": {
    "execution": {
     "iopub.execute_input": "2021-06-25T15:40:26.716452Z",
     "iopub.status.busy": "2021-06-25T15:40:26.715813Z",
     "iopub.status.idle": "2021-06-25T15:40:26.718505Z",
     "shell.execute_reply": "2021-06-25T15:40:26.718030Z"
    },
    "jupyter": {
     "source_hidden": true
    },
    "papermill": {
     "duration": 0.011737,
     "end_time": "2021-06-25T15:40:26.718710",
     "exception": false,
     "start_time": "2021-06-25T15:40:26.706973",
     "status": "completed"
    },
    "tags": []
   },
   "outputs": [],
   "source": [
    "#with open(output_rmse, 'w') as f:\n",
    "#    f.write(cap.stdout)"
   ]
  },
  {
   "cell_type": "code",
   "execution_count": 13,
   "metadata": {
    "execution": {
     "iopub.execute_input": "2021-06-25T15:40:26.735151Z",
     "iopub.status.busy": "2021-06-25T15:40:26.734244Z",
     "iopub.status.idle": "2021-06-25T15:40:26.756629Z",
     "shell.execute_reply": "2021-06-25T15:40:26.757087Z"
    },
    "jupyter": {
     "source_hidden": true
    },
    "papermill": {
     "duration": 0.03301,
     "end_time": "2021-06-25T15:40:26.757319",
     "exception": false,
     "start_time": "2021-06-25T15:40:26.724309",
     "status": "completed"
    },
    "tags": []
   },
   "outputs": [
    {
     "data": {
      "text/plain": [
       "<sqlalchemy.engine.result.ResultProxy at 0x7fdc586a0f10>"
      ]
     },
     "execution_count": 13,
     "metadata": {},
     "output_type": "execute_result"
    }
   ],
   "source": [
    "cnx.execute(\"\"\"\n",
    "    INSERT INTO ml.accuracies (ml_id, ml_date, accuracy) VALUES ('{0}', '{1}', {2}) \n",
    "    ON CONFLICT (ml_id, ml_date) \n",
    "    DO\n",
    "        UPDATE SET accuracy = {2};\n",
    "    \"\"\".format(ml_id, ml_date, np.sqrt(mean_squared_error(y_test, pred))))"
   ]
  }
 ],
 "metadata": {
  "kernelspec": {
   "display_name": "Python 3",
   "language": "python",
   "name": "python3"
  },
  "language_info": {
   "codemirror_mode": {
    "name": "ipython",
    "version": 3
   },
   "file_extension": ".py",
   "mimetype": "text/x-python",
   "name": "python",
   "nbconvert_exporter": "python",
   "pygments_lexer": "ipython3",
   "version": "3.7.10"
  },
  "papermill": {
   "duration": 9.959132,
   "end_time": "2021-06-25T15:40:27.175138",
   "environment_variables": {},
   "exception": null,
   "input_path": "/usr/local/airflow/include/notebooks/avocado_prediction.ipynb",
   "output_path": "/tmp/out-model-avocado-prediction-auto_100.ipynb",
   "parameters": {
    "filepath": "/tmp/avocado.csv",
    "max_features": "auto",
    "ml_id": "auto_100",
    "n_estimators": 100
   },
   "start_time": "2021-06-25T15:40:17.216006",
   "version": "2.1.2"
  }
 },
 "nbformat": 4,
 "nbformat_minor": 4
}