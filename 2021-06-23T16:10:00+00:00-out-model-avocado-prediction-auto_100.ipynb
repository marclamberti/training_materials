{
 "cells": [
  {
   "cell_type": "code",
   "execution_count": 1,
   "metadata": {
    "_cell_guid": "79c7e3d0-c299-4dcb-8224-4455121ee9b0",
    "_uuid": "d629ff2d2480ee46fbb7e2d37f6b5fab8052498a",
    "execution": {
     "iopub.execute_input": "2021-06-23T16:20:07.459400Z",
     "iopub.status.busy": "2021-06-23T16:20:07.458582Z",
     "iopub.status.idle": "2021-06-23T16:20:08.088892Z",
     "shell.execute_reply": "2021-06-23T16:20:08.087936Z"
    },
    "jupyter": {
     "source_hidden": true
    },
    "papermill": {
     "duration": 0.643973,
     "end_time": "2021-06-23T16:20:08.089225",
     "exception": false,
     "start_time": "2021-06-23T16:20:07.445252",
     "status": "completed"
    },
    "tags": []
   },
   "outputs": [],
   "source": [
    "import pandas as pd\n",
    "import numpy as np\n",
    "from sqlalchemy import create_engine\n",
    "from datetime import date\n",
    "from sklearn.metrics import mean_squared_error"
   ]
  },
  {
   "cell_type": "code",
   "execution_count": 2,
   "metadata": {
    "execution": {
     "iopub.execute_input": "2021-06-23T16:20:08.108415Z",
     "iopub.status.busy": "2021-06-23T16:20:08.107612Z",
     "iopub.status.idle": "2021-06-23T16:20:08.133977Z",
     "shell.execute_reply": "2021-06-23T16:20:08.133535Z"
    },
    "jupyter": {
     "source_hidden": true
    },
    "papermill": {
     "duration": 0.037903,
     "end_time": "2021-06-23T16:20:08.134214",
     "exception": false,
     "start_time": "2021-06-23T16:20:08.096311",
     "status": "completed"
    },
    "tags": []
   },
   "outputs": [],
   "source": [
    "# THIS IS PURELY FOR TEST PURPOSE NEVER DO THAT IN PRODUCTION\n",
    "POSTGRES_ADDRESS='postgres'\n",
    "POSTGRES_PORT='5432'\n",
    "POSTGRES_USERNAME='postgres'\n",
    "POSTGRES_PASSWORD='postgres'\n",
    "\n",
    "postgres_conn = 'postgresql://{0}:{1}@{2}:{3}/'.format(POSTGRES_USERNAME, POSTGRES_PASSWORD, POSTGRES_ADDRESS, POSTGRES_PORT)\n",
    "\n",
    "# Create the connection\n",
    "cnx = create_engine(postgres_conn)\n"
   ]
  },
  {
   "cell_type": "markdown",
   "metadata": {
    "_uuid": "1998755ef10683262b29765345cff1c1c7d10b15",
    "papermill": {
     "duration": 0.005351,
     "end_time": "2021-06-23T16:20:08.144766",
     "exception": false,
     "start_time": "2021-06-23T16:20:08.139415",
     "status": "completed"
    },
    "tags": []
   },
   "source": [
    "Read in the Avocado Prices csv file as a DataFrame called df"
   ]
  },
  {
   "cell_type": "code",
   "execution_count": 3,
   "metadata": {
    "execution": {
     "iopub.execute_input": "2021-06-23T16:20:08.159580Z",
     "iopub.status.busy": "2021-06-23T16:20:08.158802Z",
     "iopub.status.idle": "2021-06-23T16:20:08.161973Z",
     "shell.execute_reply": "2021-06-23T16:20:08.161498Z"
    },
    "jupyter": {
     "source_hidden": true
    },
    "papermill": {
     "duration": 0.012406,
     "end_time": "2021-06-23T16:20:08.162174",
     "exception": false,
     "start_time": "2021-06-23T16:20:08.149768",
     "status": "completed"
    },
    "tags": [
     "parameters"
    ]
   },
   "outputs": [],
   "source": [
    "# Parameterized\n",
    "\n",
    "filepath='avocado.csv'\n",
    "ml_id='auto_100'\n",
    "ml_date=date.today()\n",
    "n_estimators = 100\n",
    "max_features = 'auto'"
   ]
  },
  {
   "cell_type": "code",
   "execution_count": 4,
   "id": "b2600a3d",
   "metadata": {
    "execution": {
     "iopub.execute_input": "2021-06-23T16:20:08.176842Z",
     "iopub.status.busy": "2021-06-23T16:20:08.176249Z",
     "iopub.status.idle": "2021-06-23T16:20:08.179148Z",
     "shell.execute_reply": "2021-06-23T16:20:08.178493Z"
    },
    "jupyter": {
     "source_hidden": true
    },
    "papermill": {
     "duration": 0.011741,
     "end_time": "2021-06-23T16:20:08.179322",
     "exception": false,
     "start_time": "2021-06-23T16:20:08.167581",
     "status": "completed"
    },
    "tags": [
     "injected-parameters"
    ]
   },
   "outputs": [],
   "source": [
    "# Parameters\n",
    "filepath = \"/tmp/avocado.csv\"\n",
    "n_estimators = 100\n",
    "max_features = \"auto\"\n",
    "ml_id = \"auto_100\"\n"
   ]
  },
  {
   "cell_type": "code",
   "execution_count": 5,
   "metadata": {
    "_uuid": "55d0e719eb8b91d763c1eacaf0f51ee0586486fc",
    "execution": {
     "iopub.execute_input": "2021-06-23T16:20:08.194507Z",
     "iopub.status.busy": "2021-06-23T16:20:08.193791Z",
     "iopub.status.idle": "2021-06-23T16:20:08.223304Z",
     "shell.execute_reply": "2021-06-23T16:20:08.222755Z"
    },
    "jupyter": {
     "source_hidden": true
    },
    "papermill": {
     "duration": 0.038861,
     "end_time": "2021-06-23T16:20:08.223510",
     "exception": false,
     "start_time": "2021-06-23T16:20:08.184649",
     "status": "completed"
    },
    "tags": []
   },
   "outputs": [],
   "source": [
    "df= pd.read_csv(filepath)"
   ]
  },
  {
   "cell_type": "markdown",
   "metadata": {
    "_uuid": "434e0457f550e2200424e5ec26162e1aa5904005",
    "papermill": {
     "duration": 0.00553,
     "end_time": "2021-06-23T16:20:08.234578",
     "exception": false,
     "start_time": "2021-06-23T16:20:08.229048",
     "status": "completed"
    },
    "tags": []
   },
   "source": [
    "The Feature \"Unnamed:0\" is just a representation of the indexes, so it's useless to keep it, lets remove it !"
   ]
  },
  {
   "cell_type": "code",
   "execution_count": 6,
   "metadata": {
    "_uuid": "9875398e37728dc3141fed4228be337a4735beb6",
    "execution": {
     "iopub.execute_input": "2021-06-23T16:20:08.251701Z",
     "iopub.status.busy": "2021-06-23T16:20:08.251101Z",
     "iopub.status.idle": "2021-06-23T16:20:08.254747Z",
     "shell.execute_reply": "2021-06-23T16:20:08.254070Z"
    },
    "jupyter": {
     "source_hidden": true
    },
    "papermill": {
     "duration": 0.014727,
     "end_time": "2021-06-23T16:20:08.254950",
     "exception": false,
     "start_time": "2021-06-23T16:20:08.240223",
     "status": "completed"
    },
    "tags": []
   },
   "outputs": [],
   "source": [
    "df.drop('Unnamed: 0',axis=1,inplace=True)"
   ]
  },
  {
   "cell_type": "markdown",
   "metadata": {
    "_uuid": "12e94ad381e4cb8d2c8a9bbe08ce07ab5d49c040",
    "papermill": {
     "duration": 0.005633,
     "end_time": "2021-06-23T16:20:08.267162",
     "exception": false,
     "start_time": "2021-06-23T16:20:08.261529",
     "status": "completed"
    },
    "tags": []
   },
   "source": [
    "well as a first observation we can see that we are lucky, we dont have any missing values (18249 complete data) and 13 columns.\n",
    "Now let's do some Feature Engineering on the Date Feature so we can be able to use the day and the month columns in building our machine learning model later. ( I didn't mention the year because its already there in data frame)"
   ]
  },
  {
   "cell_type": "code",
   "execution_count": 7,
   "metadata": {
    "_uuid": "f031639ce794656e877484d1c9c356df7028177f",
    "execution": {
     "iopub.execute_input": "2021-06-23T16:20:08.282442Z",
     "iopub.status.busy": "2021-06-23T16:20:08.281852Z",
     "iopub.status.idle": "2021-06-23T16:20:08.391495Z",
     "shell.execute_reply": "2021-06-23T16:20:08.390886Z"
    },
    "jupyter": {
     "source_hidden": true
    },
    "papermill": {
     "duration": 0.119148,
     "end_time": "2021-06-23T16:20:08.391674",
     "exception": false,
     "start_time": "2021-06-23T16:20:08.272526",
     "status": "completed"
    },
    "tags": []
   },
   "outputs": [],
   "source": [
    "df['Date']=pd.to_datetime(df['Date'])\n",
    "df['Month']=df['Date'].apply(lambda x:x.month)\n",
    "df['Day']=df['Date'].apply(lambda x:x.day)"
   ]
  },
  {
   "cell_type": "markdown",
   "metadata": {
    "_uuid": "ebdcac9924ce3e366fd3a75170682f7113385b7a",
    "papermill": {
     "duration": 0.004535,
     "end_time": "2021-06-23T16:20:08.401487",
     "exception": false,
     "start_time": "2021-06-23T16:20:08.396952",
     "status": "completed"
    },
    "tags": []
   },
   "source": [
    "as we can see we have 54 regions and 2 unique types, so it's going to be easy to to transform the type feature to dummies, but for the region its going to be a bit complexe so I decided to drop the entire column.\n",
    "I will drop the Date Feature as well because I already have 3 other columns for the Year, Month and Day."
   ]
  },
  {
   "cell_type": "code",
   "execution_count": 8,
   "metadata": {
    "_uuid": "a798682da34327b731ef262985fd50ba68e06460",
    "execution": {
     "iopub.execute_input": "2021-06-23T16:20:08.421327Z",
     "iopub.status.busy": "2021-06-23T16:20:08.418719Z",
     "iopub.status.idle": "2021-06-23T16:20:08.425770Z",
     "shell.execute_reply": "2021-06-23T16:20:08.425314Z"
    },
    "jupyter": {
     "source_hidden": true
    },
    "papermill": {
     "duration": 0.019056,
     "end_time": "2021-06-23T16:20:08.425955",
     "exception": false,
     "start_time": "2021-06-23T16:20:08.406899",
     "status": "completed"
    },
    "tags": []
   },
   "outputs": [],
   "source": [
    "df_final=pd.get_dummies(df.drop(['region','Date'],axis=1),drop_first=True)"
   ]
  },
  {
   "cell_type": "markdown",
   "metadata": {
    "_uuid": "8b74a6b88cb3e9b3e1d1e987e061048f203c7364",
    "papermill": {
     "duration": 0.005855,
     "end_time": "2021-06-23T16:20:08.437415",
     "exception": false,
     "start_time": "2021-06-23T16:20:08.431560",
     "status": "completed"
    },
    "tags": []
   },
   "source": [
    "Now our data are ready! lets apply our model which is going to be the Linear Regression because our Target variable 'AveragePrice'is continuous.\n",
    "Let's now begin to train out regression model! We will need to first split up our data into an X array that contains the features to train on, and a y array with the target variable"
   ]
  },
  {
   "cell_type": "code",
   "execution_count": 9,
   "metadata": {
    "_uuid": "830591f99de9715241e688bf9ce265e979401ff5",
    "execution": {
     "iopub.execute_input": "2021-06-23T16:20:08.452127Z",
     "iopub.status.busy": "2021-06-23T16:20:08.451605Z",
     "iopub.status.idle": "2021-06-23T16:20:08.462580Z",
     "shell.execute_reply": "2021-06-23T16:20:08.462052Z"
    },
    "jupyter": {
     "source_hidden": true
    },
    "papermill": {
     "duration": 0.020842,
     "end_time": "2021-06-23T16:20:08.462792",
     "exception": false,
     "start_time": "2021-06-23T16:20:08.441950",
     "status": "completed"
    },
    "tags": []
   },
   "outputs": [],
   "source": [
    "X=df_final.iloc[:,1:14]\n",
    "y=df_final['AveragePrice']\n",
    "from sklearn.model_selection import train_test_split\n",
    "X_train,X_test,y_train,y_test=train_test_split(X,y,test_size=0.2,random_state=42)"
   ]
  },
  {
   "cell_type": "markdown",
   "metadata": {
    "_uuid": "ea730c77a31cde9de98263079a189accb8b5772b",
    "papermill": {
     "duration": 0.00563,
     "end_time": "2021-06-23T16:20:08.474220",
     "exception": false,
     "start_time": "2021-06-23T16:20:08.468590",
     "status": "completed"
    },
    "tags": []
   },
   "source": [
    "Creating and Training the Model"
   ]
  },
  {
   "cell_type": "code",
   "execution_count": 10,
   "metadata": {
    "_uuid": "eb37015e78974e5fd2ae7e13d065c8ab0a9c6948",
    "execution": {
     "iopub.execute_input": "2021-06-23T16:20:08.489945Z",
     "iopub.status.busy": "2021-06-23T16:20:08.489409Z",
     "iopub.status.idle": "2021-06-23T16:20:16.135265Z",
     "shell.execute_reply": "2021-06-23T16:20:16.134585Z"
    },
    "jupyter": {
     "source_hidden": true
    },
    "papermill": {
     "duration": 7.65574,
     "end_time": "2021-06-23T16:20:16.135475",
     "exception": false,
     "start_time": "2021-06-23T16:20:08.479735",
     "status": "completed"
    },
    "tags": []
   },
   "outputs": [],
   "source": [
    "from sklearn.ensemble import RandomForestRegressor\n",
    "rdr = RandomForestRegressor(\n",
    "    n_estimators=n_estimators,\n",
    "    max_features=max_features\n",
    ")\n",
    "rdr.fit(X_train,y_train)\n",
    "pred=rdr.predict(X_test)"
   ]
  },
  {
   "cell_type": "code",
   "execution_count": 11,
   "metadata": {
    "_uuid": "7ed5b8d4e8abb44a4b548c13ac9fb2d65227d1c5",
    "execution": {
     "iopub.execute_input": "2021-06-23T16:20:16.150635Z",
     "iopub.status.busy": "2021-06-23T16:20:16.150006Z",
     "iopub.status.idle": "2021-06-23T16:20:16.152951Z",
     "shell.execute_reply": "2021-06-23T16:20:16.152488Z"
    },
    "jupyter": {
     "source_hidden": true
    },
    "papermill": {
     "duration": 0.011783,
     "end_time": "2021-06-23T16:20:16.153189",
     "exception": false,
     "start_time": "2021-06-23T16:20:16.141406",
     "status": "completed"
    },
    "tags": []
   },
   "outputs": [],
   "source": [
    "#%%capture cap --no-stderr\n",
    "#print(np.sqrt(mean_squared_error(y_test, pred)))"
   ]
  },
  {
   "cell_type": "code",
   "execution_count": 12,
   "metadata": {
    "execution": {
     "iopub.execute_input": "2021-06-23T16:20:16.168070Z",
     "iopub.status.busy": "2021-06-23T16:20:16.167459Z",
     "iopub.status.idle": "2021-06-23T16:20:16.170636Z",
     "shell.execute_reply": "2021-06-23T16:20:16.170215Z"
    },
    "jupyter": {
     "source_hidden": true
    },
    "papermill": {
     "duration": 0.011837,
     "end_time": "2021-06-23T16:20:16.170829",
     "exception": false,
     "start_time": "2021-06-23T16:20:16.158992",
     "status": "completed"
    },
    "tags": []
   },
   "outputs": [],
   "source": [
    "#with open(output_rmse, 'w') as f:\n",
    "#    f.write(cap.stdout)"
   ]
  },
  {
   "cell_type": "code",
   "execution_count": 13,
   "metadata": {
    "execution": {
     "iopub.execute_input": "2021-06-23T16:20:16.187321Z",
     "iopub.status.busy": "2021-06-23T16:20:16.186347Z",
     "iopub.status.idle": "2021-06-23T16:20:16.208009Z",
     "shell.execute_reply": "2021-06-23T16:20:16.207354Z"
    },
    "jupyter": {
     "source_hidden": true
    },
    "papermill": {
     "duration": 0.031872,
     "end_time": "2021-06-23T16:20:16.208209",
     "exception": false,
     "start_time": "2021-06-23T16:20:16.176337",
     "status": "completed"
    },
    "tags": []
   },
   "outputs": [
    {
     "data": {
      "text/plain": [
       "<sqlalchemy.engine.result.ResultProxy at 0x7f120cf3d5d0>"
      ]
     },
     "execution_count": 13,
     "metadata": {},
     "output_type": "execute_result"
    }
   ],
   "source": [
    "cnx.execute(\"\"\"\n",
    "    INSERT INTO ml.accuracies (ml_id, ml_date, accuracy) VALUES ('{0}', '{1}', {2}) \n",
    "    ON CONFLICT (ml_id, ml_date) \n",
    "    DO\n",
    "        UPDATE SET accuracy = {2};\n",
    "    \"\"\".format(ml_id, ml_date, np.sqrt(mean_squared_error(y_test, pred))))"
   ]
  }
 ],
 "metadata": {
  "kernelspec": {
   "display_name": "Python 3",
   "language": "python",
   "name": "python3"
  },
  "language_info": {
   "codemirror_mode": {
    "name": "ipython",
    "version": 3
   },
   "file_extension": ".py",
   "mimetype": "text/x-python",
   "name": "python",
   "nbconvert_exporter": "python",
   "pygments_lexer": "ipython3",
   "version": "3.7.10"
  },
  "papermill": {
   "duration": 10.292492,
   "end_time": "2021-06-23T16:20:16.628461",
   "environment_variables": {},
   "exception": null,
   "input_path": "/usr/local/airflow/include/notebooks/avocado_prediction.ipynb",
   "output_path": "/tmp/out-model-avocado-prediction-auto_100.ipynb",
   "parameters": {
    "filepath": "/tmp/avocado.csv",
    "max_features": "auto",
    "ml_id": "auto_100",
    "n_estimators": 100
   },
   "start_time": "2021-06-23T16:20:06.335969",
   "version": "2.1.2"
  }
 },
 "nbformat": 4,
 "nbformat_minor": 4
}