{
 "cells": [
  {
   "cell_type": "code",
   "execution_count": 1,
   "metadata": {
    "_cell_guid": "79c7e3d0-c299-4dcb-8224-4455121ee9b0",
    "_uuid": "d629ff2d2480ee46fbb7e2d37f6b5fab8052498a",
    "execution": {
     "iopub.execute_input": "2021-06-24T15:00:09.895134Z",
     "iopub.status.busy": "2021-06-24T15:00:09.894325Z",
     "iopub.status.idle": "2021-06-24T15:00:10.581244Z",
     "shell.execute_reply": "2021-06-24T15:00:10.580244Z"
    },
    "jupyter": {
     "source_hidden": true
    },
    "papermill": {
     "duration": 0.700198,
     "end_time": "2021-06-24T15:00:10.581520",
     "exception": false,
     "start_time": "2021-06-24T15:00:09.881322",
     "status": "completed"
    },
    "tags": []
   },
   "outputs": [],
   "source": [
    "import pandas as pd\n",
    "import numpy as np\n",
    "from sqlalchemy import create_engine\n",
    "from datetime import date\n",
    "from sklearn.metrics import mean_squared_error"
   ]
  },
  {
   "cell_type": "code",
   "execution_count": 2,
   "metadata": {
    "execution": {
     "iopub.execute_input": "2021-06-24T15:00:10.601901Z",
     "iopub.status.busy": "2021-06-24T15:00:10.601136Z",
     "iopub.status.idle": "2021-06-24T15:00:10.631393Z",
     "shell.execute_reply": "2021-06-24T15:00:10.630863Z"
    },
    "jupyter": {
     "source_hidden": true
    },
    "papermill": {
     "duration": 0.042888,
     "end_time": "2021-06-24T15:00:10.631604",
     "exception": false,
     "start_time": "2021-06-24T15:00:10.588716",
     "status": "completed"
    },
    "tags": []
   },
   "outputs": [],
   "source": [
    "# THIS IS PURELY FOR TEST PURPOSE NEVER DO THAT IN PRODUCTION\n",
    "POSTGRES_ADDRESS='postgres'\n",
    "POSTGRES_PORT='5432'\n",
    "POSTGRES_USERNAME='postgres'\n",
    "POSTGRES_PASSWORD='postgres'\n",
    "\n",
    "postgres_conn = 'postgresql://{0}:{1}@{2}:{3}/'.format(POSTGRES_USERNAME, POSTGRES_PASSWORD, POSTGRES_ADDRESS, POSTGRES_PORT)\n",
    "\n",
    "# Create the connection\n",
    "cnx = create_engine(postgres_conn)\n"
   ]
  },
  {
   "cell_type": "markdown",
   "metadata": {
    "_uuid": "1998755ef10683262b29765345cff1c1c7d10b15",
    "papermill": {
     "duration": 0.005591,
     "end_time": "2021-06-24T15:00:10.642374",
     "exception": false,
     "start_time": "2021-06-24T15:00:10.636783",
     "status": "completed"
    },
    "tags": []
   },
   "source": [
    "Read in the Avocado Prices csv file as a DataFrame called df"
   ]
  },
  {
   "cell_type": "code",
   "execution_count": 3,
   "metadata": {
    "execution": {
     "iopub.execute_input": "2021-06-24T15:00:10.656574Z",
     "iopub.status.busy": "2021-06-24T15:00:10.655321Z",
     "iopub.status.idle": "2021-06-24T15:00:10.659763Z",
     "shell.execute_reply": "2021-06-24T15:00:10.659130Z"
    },
    "jupyter": {
     "source_hidden": true
    },
    "papermill": {
     "duration": 0.012683,
     "end_time": "2021-06-24T15:00:10.659967",
     "exception": false,
     "start_time": "2021-06-24T15:00:10.647284",
     "status": "completed"
    },
    "tags": [
     "parameters"
    ]
   },
   "outputs": [],
   "source": [
    "# Parameterized\n",
    "\n",
    "filepath='avocado.csv'\n",
    "ml_id='auto_100'\n",
    "ml_date=date.today()\n",
    "n_estimators = 100\n",
    "max_features = 'auto'"
   ]
  },
  {
   "cell_type": "code",
   "execution_count": 4,
   "id": "0e989c8b",
   "metadata": {
    "execution": {
     "iopub.execute_input": "2021-06-24T15:00:10.675662Z",
     "iopub.status.busy": "2021-06-24T15:00:10.675017Z",
     "iopub.status.idle": "2021-06-24T15:00:10.678031Z",
     "shell.execute_reply": "2021-06-24T15:00:10.677419Z"
    },
    "jupyter": {
     "source_hidden": true
    },
    "papermill": {
     "duration": 0.012586,
     "end_time": "2021-06-24T15:00:10.678277",
     "exception": false,
     "start_time": "2021-06-24T15:00:10.665691",
     "status": "completed"
    },
    "tags": [
     "injected-parameters"
    ]
   },
   "outputs": [],
   "source": [
    "# Parameters\n",
    "filepath = \"/tmp/avocado.csv\"\n",
    "n_estimators = 100\n",
    "max_features = \"auto\"\n",
    "ml_id = \"auto_100\"\n"
   ]
  },
  {
   "cell_type": "code",
   "execution_count": 5,
   "metadata": {
    "_uuid": "55d0e719eb8b91d763c1eacaf0f51ee0586486fc",
    "execution": {
     "iopub.execute_input": "2021-06-24T15:00:10.695347Z",
     "iopub.status.busy": "2021-06-24T15:00:10.694721Z",
     "iopub.status.idle": "2021-06-24T15:00:10.725813Z",
     "shell.execute_reply": "2021-06-24T15:00:10.725166Z"
    },
    "jupyter": {
     "source_hidden": true
    },
    "papermill": {
     "duration": 0.04162,
     "end_time": "2021-06-24T15:00:10.726067",
     "exception": false,
     "start_time": "2021-06-24T15:00:10.684447",
     "status": "completed"
    },
    "tags": []
   },
   "outputs": [],
   "source": [
    "df= pd.read_csv(filepath)"
   ]
  },
  {
   "cell_type": "markdown",
   "metadata": {
    "_uuid": "434e0457f550e2200424e5ec26162e1aa5904005",
    "papermill": {
     "duration": 0.005526,
     "end_time": "2021-06-24T15:00:10.737363",
     "exception": false,
     "start_time": "2021-06-24T15:00:10.731837",
     "status": "completed"
    },
    "tags": []
   },
   "source": [
    "The Feature \"Unnamed:0\" is just a representation of the indexes, so it's useless to keep it, lets remove it !"
   ]
  },
  {
   "cell_type": "code",
   "execution_count": 6,
   "metadata": {
    "_uuid": "9875398e37728dc3141fed4228be337a4735beb6",
    "execution": {
     "iopub.execute_input": "2021-06-24T15:00:10.754617Z",
     "iopub.status.busy": "2021-06-24T15:00:10.754032Z",
     "iopub.status.idle": "2021-06-24T15:00:10.757253Z",
     "shell.execute_reply": "2021-06-24T15:00:10.756585Z"
    },
    "jupyter": {
     "source_hidden": true
    },
    "papermill": {
     "duration": 0.01447,
     "end_time": "2021-06-24T15:00:10.757454",
     "exception": false,
     "start_time": "2021-06-24T15:00:10.742984",
     "status": "completed"
    },
    "tags": []
   },
   "outputs": [],
   "source": [
    "df.drop('Unnamed: 0',axis=1,inplace=True)"
   ]
  },
  {
   "cell_type": "markdown",
   "metadata": {
    "_uuid": "12e94ad381e4cb8d2c8a9bbe08ce07ab5d49c040",
    "papermill": {
     "duration": 0.005835,
     "end_time": "2021-06-24T15:00:10.768801",
     "exception": false,
     "start_time": "2021-06-24T15:00:10.762966",
     "status": "completed"
    },
    "tags": []
   },
   "source": [
    "well as a first observation we can see that we are lucky, we dont have any missing values (18249 complete data) and 13 columns.\n",
    "Now let's do some Feature Engineering on the Date Feature so we can be able to use the day and the month columns in building our machine learning model later. ( I didn't mention the year because its already there in data frame)"
   ]
  },
  {
   "cell_type": "code",
   "execution_count": 7,
   "metadata": {
    "_uuid": "f031639ce794656e877484d1c9c356df7028177f",
    "execution": {
     "iopub.execute_input": "2021-06-24T15:00:10.786316Z",
     "iopub.status.busy": "2021-06-24T15:00:10.785659Z",
     "iopub.status.idle": "2021-06-24T15:00:10.909705Z",
     "shell.execute_reply": "2021-06-24T15:00:10.909293Z"
    },
    "jupyter": {
     "source_hidden": true
    },
    "papermill": {
     "duration": 0.135323,
     "end_time": "2021-06-24T15:00:10.909892",
     "exception": false,
     "start_time": "2021-06-24T15:00:10.774569",
     "status": "completed"
    },
    "tags": []
   },
   "outputs": [],
   "source": [
    "df['Date']=pd.to_datetime(df['Date'])\n",
    "df['Month']=df['Date'].apply(lambda x:x.month)\n",
    "df['Day']=df['Date'].apply(lambda x:x.day)"
   ]
  },
  {
   "cell_type": "markdown",
   "metadata": {
    "_uuid": "ebdcac9924ce3e366fd3a75170682f7113385b7a",
    "papermill": {
     "duration": 0.005704,
     "end_time": "2021-06-24T15:00:10.921015",
     "exception": false,
     "start_time": "2021-06-24T15:00:10.915311",
     "status": "completed"
    },
    "tags": []
   },
   "source": [
    "as we can see we have 54 regions and 2 unique types, so it's going to be easy to to transform the type feature to dummies, but for the region its going to be a bit complexe so I decided to drop the entire column.\n",
    "I will drop the Date Feature as well because I already have 3 other columns for the Year, Month and Day."
   ]
  },
  {
   "cell_type": "code",
   "execution_count": 8,
   "metadata": {
    "_uuid": "a798682da34327b731ef262985fd50ba68e06460",
    "execution": {
     "iopub.execute_input": "2021-06-24T15:00:10.943074Z",
     "iopub.status.busy": "2021-06-24T15:00:10.942470Z",
     "iopub.status.idle": "2021-06-24T15:00:10.947887Z",
     "shell.execute_reply": "2021-06-24T15:00:10.947345Z"
    },
    "jupyter": {
     "source_hidden": true
    },
    "papermill": {
     "duration": 0.021987,
     "end_time": "2021-06-24T15:00:10.948218",
     "exception": false,
     "start_time": "2021-06-24T15:00:10.926231",
     "status": "completed"
    },
    "tags": []
   },
   "outputs": [],
   "source": [
    "df_final=pd.get_dummies(df.drop(['region','Date'],axis=1),drop_first=True)"
   ]
  },
  {
   "cell_type": "markdown",
   "metadata": {
    "_uuid": "8b74a6b88cb3e9b3e1d1e987e061048f203c7364",
    "papermill": {
     "duration": 0.005809,
     "end_time": "2021-06-24T15:00:10.960215",
     "exception": false,
     "start_time": "2021-06-24T15:00:10.954406",
     "status": "completed"
    },
    "tags": []
   },
   "source": [
    "Now our data are ready! lets apply our model which is going to be the Linear Regression because our Target variable 'AveragePrice'is continuous.\n",
    "Let's now begin to train out regression model! We will need to first split up our data into an X array that contains the features to train on, and a y array with the target variable"
   ]
  },
  {
   "cell_type": "code",
   "execution_count": 9,
   "metadata": {
    "_uuid": "830591f99de9715241e688bf9ce265e979401ff5",
    "execution": {
     "iopub.execute_input": "2021-06-24T15:00:10.978314Z",
     "iopub.status.busy": "2021-06-24T15:00:10.977627Z",
     "iopub.status.idle": "2021-06-24T15:00:10.988005Z",
     "shell.execute_reply": "2021-06-24T15:00:10.987545Z"
    },
    "jupyter": {
     "source_hidden": true
    },
    "papermill": {
     "duration": 0.022218,
     "end_time": "2021-06-24T15:00:10.988272",
     "exception": false,
     "start_time": "2021-06-24T15:00:10.966054",
     "status": "completed"
    },
    "tags": []
   },
   "outputs": [],
   "source": [
    "X=df_final.iloc[:,1:14]\n",
    "y=df_final['AveragePrice']\n",
    "from sklearn.model_selection import train_test_split\n",
    "X_train,X_test,y_train,y_test=train_test_split(X,y,test_size=0.2,random_state=42)"
   ]
  },
  {
   "cell_type": "markdown",
   "metadata": {
    "_uuid": "ea730c77a31cde9de98263079a189accb8b5772b",
    "papermill": {
     "duration": 0.005604,
     "end_time": "2021-06-24T15:00:10.999616",
     "exception": false,
     "start_time": "2021-06-24T15:00:10.994012",
     "status": "completed"
    },
    "tags": []
   },
   "source": [
    "Creating and Training the Model"
   ]
  },
  {
   "cell_type": "code",
   "execution_count": 10,
   "metadata": {
    "_uuid": "eb37015e78974e5fd2ae7e13d065c8ab0a9c6948",
    "execution": {
     "iopub.execute_input": "2021-06-24T15:00:11.016290Z",
     "iopub.status.busy": "2021-06-24T15:00:11.015720Z",
     "iopub.status.idle": "2021-06-24T15:00:19.102863Z",
     "shell.execute_reply": "2021-06-24T15:00:19.102337Z"
    },
    "jupyter": {
     "source_hidden": true
    },
    "papermill": {
     "duration": 8.09781,
     "end_time": "2021-06-24T15:00:19.103083",
     "exception": false,
     "start_time": "2021-06-24T15:00:11.005273",
     "status": "completed"
    },
    "tags": []
   },
   "outputs": [],
   "source": [
    "from sklearn.ensemble import RandomForestRegressor\n",
    "rdr = RandomForestRegressor(\n",
    "    n_estimators=n_estimators,\n",
    "    max_features=max_features\n",
    ")\n",
    "rdr.fit(X_train,y_train)\n",
    "pred=rdr.predict(X_test)"
   ]
  },
  {
   "cell_type": "code",
   "execution_count": 11,
   "metadata": {
    "_uuid": "7ed5b8d4e8abb44a4b548c13ac9fb2d65227d1c5",
    "execution": {
     "iopub.execute_input": "2021-06-24T15:00:19.119067Z",
     "iopub.status.busy": "2021-06-24T15:00:19.118421Z",
     "iopub.status.idle": "2021-06-24T15:00:19.121451Z",
     "shell.execute_reply": "2021-06-24T15:00:19.120977Z"
    },
    "jupyter": {
     "source_hidden": true
    },
    "papermill": {
     "duration": 0.012375,
     "end_time": "2021-06-24T15:00:19.121701",
     "exception": false,
     "start_time": "2021-06-24T15:00:19.109326",
     "status": "completed"
    },
    "tags": []
   },
   "outputs": [],
   "source": [
    "#%%capture cap --no-stderr\n",
    "#print(np.sqrt(mean_squared_error(y_test, pred)))"
   ]
  },
  {
   "cell_type": "code",
   "execution_count": 12,
   "metadata": {
    "execution": {
     "iopub.execute_input": "2021-06-24T15:00:19.136829Z",
     "iopub.status.busy": "2021-06-24T15:00:19.136199Z",
     "iopub.status.idle": "2021-06-24T15:00:19.139520Z",
     "shell.execute_reply": "2021-06-24T15:00:19.138900Z"
    },
    "jupyter": {
     "source_hidden": true
    },
    "papermill": {
     "duration": 0.012435,
     "end_time": "2021-06-24T15:00:19.139760",
     "exception": false,
     "start_time": "2021-06-24T15:00:19.127325",
     "status": "completed"
    },
    "tags": []
   },
   "outputs": [],
   "source": [
    "#with open(output_rmse, 'w') as f:\n",
    "#    f.write(cap.stdout)"
   ]
  },
  {
   "cell_type": "code",
   "execution_count": 13,
   "metadata": {
    "execution": {
     "iopub.execute_input": "2021-06-24T15:00:19.156240Z",
     "iopub.status.busy": "2021-06-24T15:00:19.155669Z",
     "iopub.status.idle": "2021-06-24T15:00:19.176100Z",
     "shell.execute_reply": "2021-06-24T15:00:19.175558Z"
    },
    "jupyter": {
     "source_hidden": true
    },
    "papermill": {
     "duration": 0.030939,
     "end_time": "2021-06-24T15:00:19.176305",
     "exception": false,
     "start_time": "2021-06-24T15:00:19.145366",
     "status": "completed"
    },
    "tags": []
   },
   "outputs": [
    {
     "data": {
      "text/plain": [
       "<sqlalchemy.engine.result.ResultProxy at 0x7f3c3963be90>"
      ]
     },
     "execution_count": 13,
     "metadata": {},
     "output_type": "execute_result"
    }
   ],
   "source": [
    "cnx.execute(\"\"\"\n",
    "    INSERT INTO ml.accuracies (ml_id, ml_date, accuracy) VALUES ('{0}', '{1}', {2}) \n",
    "    ON CONFLICT (ml_id, ml_date) \n",
    "    DO\n",
    "        UPDATE SET accuracy = {2};\n",
    "    \"\"\".format(ml_id, ml_date, np.sqrt(mean_squared_error(y_test, pred))))"
   ]
  }
 ],
 "metadata": {
  "kernelspec": {
   "display_name": "Python 3",
   "language": "python",
   "name": "python3"
  },
  "language_info": {
   "codemirror_mode": {
    "name": "ipython",
    "version": 3
   },
   "file_extension": ".py",
   "mimetype": "text/x-python",
   "name": "python",
   "nbconvert_exporter": "python",
   "pygments_lexer": "ipython3",
   "version": "3.7.10"
  },
  "papermill": {
   "duration": 10.766919,
   "end_time": "2021-06-24T15:00:19.593223",
   "environment_variables": {},
   "exception": null,
   "input_path": "/usr/local/airflow/include/notebooks/avocado_prediction.ipynb",
   "output_path": "/tmp/out-model-avocado-prediction-auto_100.ipynb",
   "parameters": {
    "filepath": "/tmp/avocado.csv",
    "max_features": "auto",
    "ml_id": "auto_100",
    "n_estimators": 100
   },
   "start_time": "2021-06-24T15:00:08.826304",
   "version": "2.1.2"
  }
 },
 "nbformat": 4,
 "nbformat_minor": 4
}