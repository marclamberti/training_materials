{
 "cells": [
  {
   "cell_type": "code",
   "execution_count": 1,
   "metadata": {
    "_cell_guid": "79c7e3d0-c299-4dcb-8224-4455121ee9b0",
    "_uuid": "d629ff2d2480ee46fbb7e2d37f6b5fab8052498a",
    "execution": {
     "iopub.execute_input": "2021-06-25T09:40:08.991778Z",
     "iopub.status.busy": "2021-06-25T09:40:08.991163Z",
     "iopub.status.idle": "2021-06-25T09:40:09.611772Z",
     "shell.execute_reply": "2021-06-25T09:40:09.610733Z"
    },
    "jupyter": {
     "source_hidden": true
    },
    "papermill": {
     "duration": 0.640979,
     "end_time": "2021-06-25T09:40:09.612049",
     "exception": false,
     "start_time": "2021-06-25T09:40:08.971070",
     "status": "completed"
    },
    "tags": []
   },
   "outputs": [],
   "source": [
    "import pandas as pd\n",
    "import numpy as np\n",
    "from sqlalchemy import create_engine\n",
    "from datetime import date\n",
    "from sklearn.metrics import mean_squared_error"
   ]
  },
  {
   "cell_type": "code",
   "execution_count": 2,
   "metadata": {
    "execution": {
     "iopub.execute_input": "2021-06-25T09:40:09.629931Z",
     "iopub.status.busy": "2021-06-25T09:40:09.629330Z",
     "iopub.status.idle": "2021-06-25T09:40:09.654015Z",
     "shell.execute_reply": "2021-06-25T09:40:09.654484Z"
    },
    "jupyter": {
     "source_hidden": true
    },
    "papermill": {
     "duration": 0.03585,
     "end_time": "2021-06-25T09:40:09.654738",
     "exception": false,
     "start_time": "2021-06-25T09:40:09.618888",
     "status": "completed"
    },
    "tags": []
   },
   "outputs": [],
   "source": [
    "# THIS IS PURELY FOR TEST PURPOSE NEVER DO THAT IN PRODUCTION\n",
    "POSTGRES_ADDRESS='postgres'\n",
    "POSTGRES_PORT='5432'\n",
    "POSTGRES_USERNAME='postgres'\n",
    "POSTGRES_PASSWORD='postgres'\n",
    "\n",
    "postgres_conn = 'postgresql://{0}:{1}@{2}:{3}/'.format(POSTGRES_USERNAME, POSTGRES_PASSWORD, POSTGRES_ADDRESS, POSTGRES_PORT)\n",
    "\n",
    "# Create the connection\n",
    "cnx = create_engine(postgres_conn)\n"
   ]
  },
  {
   "cell_type": "markdown",
   "metadata": {
    "_uuid": "1998755ef10683262b29765345cff1c1c7d10b15",
    "papermill": {
     "duration": 0.005332,
     "end_time": "2021-06-25T09:40:09.665414",
     "exception": false,
     "start_time": "2021-06-25T09:40:09.660082",
     "status": "completed"
    },
    "tags": []
   },
   "source": [
    "Read in the Avocado Prices csv file as a DataFrame called df"
   ]
  },
  {
   "cell_type": "code",
   "execution_count": 3,
   "metadata": {
    "execution": {
     "iopub.execute_input": "2021-06-25T09:40:09.679356Z",
     "iopub.status.busy": "2021-06-25T09:40:09.678828Z",
     "iopub.status.idle": "2021-06-25T09:40:09.681640Z",
     "shell.execute_reply": "2021-06-25T09:40:09.681106Z"
    },
    "jupyter": {
     "source_hidden": true
    },
    "papermill": {
     "duration": 0.011311,
     "end_time": "2021-06-25T09:40:09.681795",
     "exception": false,
     "start_time": "2021-06-25T09:40:09.670484",
     "status": "completed"
    },
    "tags": [
     "parameters"
    ]
   },
   "outputs": [],
   "source": [
    "# Parameterized\n",
    "\n",
    "filepath='avocado.csv'\n",
    "ml_id='auto_100'\n",
    "ml_date=date.today()\n",
    "n_estimators = 100\n",
    "max_features = 'auto'"
   ]
  },
  {
   "cell_type": "code",
   "execution_count": 4,
   "id": "1c26719e",
   "metadata": {
    "execution": {
     "iopub.execute_input": "2021-06-25T09:40:09.694953Z",
     "iopub.status.busy": "2021-06-25T09:40:09.694459Z",
     "iopub.status.idle": "2021-06-25T09:40:09.697340Z",
     "shell.execute_reply": "2021-06-25T09:40:09.696929Z"
    },
    "jupyter": {
     "source_hidden": true
    },
    "papermill": {
     "duration": 0.010729,
     "end_time": "2021-06-25T09:40:09.697493",
     "exception": false,
     "start_time": "2021-06-25T09:40:09.686764",
     "status": "completed"
    },
    "tags": [
     "injected-parameters"
    ]
   },
   "outputs": [],
   "source": [
    "# Parameters\n",
    "filepath = \"/tmp/avocado.csv\"\n",
    "n_estimators = 100\n",
    "max_features = \"auto\"\n",
    "ml_id = \"auto_100\"\n"
   ]
  },
  {
   "cell_type": "code",
   "execution_count": 5,
   "metadata": {
    "_uuid": "55d0e719eb8b91d763c1eacaf0f51ee0586486fc",
    "execution": {
     "iopub.execute_input": "2021-06-25T09:40:09.710812Z",
     "iopub.status.busy": "2021-06-25T09:40:09.710346Z",
     "iopub.status.idle": "2021-06-25T09:40:09.704956Z",
     "shell.execute_reply": "2021-06-25T09:40:09.704474Z"
    },
    "jupyter": {
     "source_hidden": true
    },
    "papermill": {
     "duration": 0.003365,
     "end_time": "2021-06-25T09:40:09.705191",
     "exception": false,
     "start_time": "2021-06-25T09:40:09.701826",
     "status": "completed"
    },
    "tags": []
   },
   "outputs": [],
   "source": [
    "df= pd.read_csv(filepath)"
   ]
  },
  {
   "cell_type": "markdown",
   "metadata": {
    "_uuid": "434e0457f550e2200424e5ec26162e1aa5904005",
    "papermill": {
     "duration": 0.004824,
     "end_time": "2021-06-25T09:40:09.714891",
     "exception": false,
     "start_time": "2021-06-25T09:40:09.710067",
     "status": "completed"
    },
    "tags": []
   },
   "source": [
    "The Feature \"Unnamed:0\" is just a representation of the indexes, so it's useless to keep it, lets remove it !"
   ]
  },
  {
   "cell_type": "code",
   "execution_count": 6,
   "metadata": {
    "_uuid": "9875398e37728dc3141fed4228be337a4735beb6",
    "execution": {
     "iopub.execute_input": "2021-06-25T09:40:09.731053Z",
     "iopub.status.busy": "2021-06-25T09:40:09.730501Z",
     "iopub.status.idle": "2021-06-25T09:40:09.733414Z",
     "shell.execute_reply": "2021-06-25T09:40:09.732934Z"
    },
    "jupyter": {
     "source_hidden": true
    },
    "papermill": {
     "duration": 0.013594,
     "end_time": "2021-06-25T09:40:09.733554",
     "exception": false,
     "start_time": "2021-06-25T09:40:09.719960",
     "status": "completed"
    },
    "tags": []
   },
   "outputs": [],
   "source": [
    "df.drop('Unnamed: 0',axis=1,inplace=True)"
   ]
  },
  {
   "cell_type": "markdown",
   "metadata": {
    "_uuid": "12e94ad381e4cb8d2c8a9bbe08ce07ab5d49c040",
    "papermill": {
     "duration": 0.00478,
     "end_time": "2021-06-25T09:40:09.743208",
     "exception": false,
     "start_time": "2021-06-25T09:40:09.738428",
     "status": "completed"
    },
    "tags": []
   },
   "source": [
    "well as a first observation we can see that we are lucky, we dont have any missing values (18249 complete data) and 13 columns.\n",
    "Now let's do some Feature Engineering on the Date Feature so we can be able to use the day and the month columns in building our machine learning model later. ( I didn't mention the year because its already there in data frame)"
   ]
  },
  {
   "cell_type": "code",
   "execution_count": 7,
   "metadata": {
    "_uuid": "f031639ce794656e877484d1c9c356df7028177f",
    "execution": {
     "iopub.execute_input": "2021-06-25T09:40:09.760517Z",
     "iopub.status.busy": "2021-06-25T09:40:09.760023Z",
     "iopub.status.idle": "2021-06-25T09:40:09.862611Z",
     "shell.execute_reply": "2021-06-25T09:40:09.862042Z"
    },
    "jupyter": {
     "source_hidden": true
    },
    "papermill": {
     "duration": 0.11457,
     "end_time": "2021-06-25T09:40:09.862822",
     "exception": false,
     "start_time": "2021-06-25T09:40:09.748252",
     "status": "completed"
    },
    "tags": []
   },
   "outputs": [],
   "source": [
    "df['Date']=pd.to_datetime(df['Date'])\n",
    "df['Month']=df['Date'].apply(lambda x:x.month)\n",
    "df['Day']=df['Date'].apply(lambda x:x.day)"
   ]
  },
  {
   "cell_type": "markdown",
   "metadata": {
    "_uuid": "ebdcac9924ce3e366fd3a75170682f7113385b7a",
    "papermill": {
     "duration": 0.004573,
     "end_time": "2021-06-25T09:40:09.872706",
     "exception": false,
     "start_time": "2021-06-25T09:40:09.868133",
     "status": "completed"
    },
    "tags": []
   },
   "source": [
    "as we can see we have 54 regions and 2 unique types, so it's going to be easy to to transform the type feature to dummies, but for the region its going to be a bit complexe so I decided to drop the entire column.\n",
    "I will drop the Date Feature as well because I already have 3 other columns for the Year, Month and Day."
   ]
  },
  {
   "cell_type": "code",
   "execution_count": 8,
   "metadata": {
    "_uuid": "a798682da34327b731ef262985fd50ba68e06460",
    "execution": {
     "iopub.execute_input": "2021-06-25T09:40:09.891509Z",
     "iopub.status.busy": "2021-06-25T09:40:09.891012Z",
     "iopub.status.idle": "2021-06-25T09:40:09.895578Z",
     "shell.execute_reply": "2021-06-25T09:40:09.895050Z"
    },
    "jupyter": {
     "source_hidden": true
    },
    "papermill": {
     "duration": 0.018462,
     "end_time": "2021-06-25T09:40:09.895792",
     "exception": false,
     "start_time": "2021-06-25T09:40:09.877330",
     "status": "completed"
    },
    "tags": []
   },
   "outputs": [],
   "source": [
    "df_final=pd.get_dummies(df.drop(['region','Date'],axis=1),drop_first=True)"
   ]
  },
  {
   "cell_type": "markdown",
   "metadata": {
    "_uuid": "8b74a6b88cb3e9b3e1d1e987e061048f203c7364",
    "papermill": {
     "duration": 0.004968,
     "end_time": "2021-06-25T09:40:09.905496",
     "exception": false,
     "start_time": "2021-06-25T09:40:09.900528",
     "status": "completed"
    },
    "tags": []
   },
   "source": [
    "Now our data are ready! lets apply our model which is going to be the Linear Regression because our Target variable 'AveragePrice'is continuous.\n",
    "Let's now begin to train out regression model! We will need to first split up our data into an X array that contains the features to train on, and a y array with the target variable"
   ]
  },
  {
   "cell_type": "code",
   "execution_count": 9,
   "metadata": {
    "_uuid": "830591f99de9715241e688bf9ce265e979401ff5",
    "execution": {
     "iopub.execute_input": "2021-06-25T09:40:09.920027Z",
     "iopub.status.busy": "2021-06-25T09:40:09.919239Z",
     "iopub.status.idle": "2021-06-25T09:40:09.928327Z",
     "shell.execute_reply": "2021-06-25T09:40:09.927944Z"
    },
    "jupyter": {
     "source_hidden": true
    },
    "papermill": {
     "duration": 0.018309,
     "end_time": "2021-06-25T09:40:09.928505",
     "exception": false,
     "start_time": "2021-06-25T09:40:09.910196",
     "status": "completed"
    },
    "tags": []
   },
   "outputs": [],
   "source": [
    "X=df_final.iloc[:,1:14]\n",
    "y=df_final['AveragePrice']\n",
    "from sklearn.model_selection import train_test_split\n",
    "X_train,X_test,y_train,y_test=train_test_split(X,y,test_size=0.2,random_state=42)"
   ]
  },
  {
   "cell_type": "markdown",
   "metadata": {
    "_uuid": "ea730c77a31cde9de98263079a189accb8b5772b",
    "papermill": {
     "duration": 0.004513,
     "end_time": "2021-06-25T09:40:09.937720",
     "exception": false,
     "start_time": "2021-06-25T09:40:09.933207",
     "status": "completed"
    },
    "tags": []
   },
   "source": [
    "Creating and Training the Model"
   ]
  },
  {
   "cell_type": "code",
   "execution_count": 10,
   "metadata": {
    "_uuid": "eb37015e78974e5fd2ae7e13d065c8ab0a9c6948",
    "execution": {
     "iopub.execute_input": "2021-06-25T09:40:09.953264Z",
     "iopub.status.busy": "2021-06-25T09:40:09.952698Z",
     "iopub.status.idle": "2021-06-25T09:40:17.206134Z",
     "shell.execute_reply": "2021-06-25T09:40:17.205421Z"
    },
    "jupyter": {
     "source_hidden": true
    },
    "papermill": {
     "duration": 7.264314,
     "end_time": "2021-06-25T09:40:17.206344",
     "exception": false,
     "start_time": "2021-06-25T09:40:09.942030",
     "status": "completed"
    },
    "tags": []
   },
   "outputs": [],
   "source": [
    "from sklearn.ensemble import RandomForestRegressor\n",
    "rdr = RandomForestRegressor(\n",
    "    n_estimators=n_estimators,\n",
    "    max_features=max_features\n",
    ")\n",
    "rdr.fit(X_train,y_train)\n",
    "pred=rdr.predict(X_test)"
   ]
  },
  {
   "cell_type": "code",
   "execution_count": 11,
   "metadata": {
    "_uuid": "7ed5b8d4e8abb44a4b548c13ac9fb2d65227d1c5",
    "execution": {
     "iopub.execute_input": "2021-06-25T09:40:17.221567Z",
     "iopub.status.busy": "2021-06-25T09:40:17.220986Z",
     "iopub.status.idle": "2021-06-25T09:40:17.224459Z",
     "shell.execute_reply": "2021-06-25T09:40:17.224040Z"
    },
    "jupyter": {
     "source_hidden": true
    },
    "papermill": {
     "duration": 0.012301,
     "end_time": "2021-06-25T09:40:17.224650",
     "exception": false,
     "start_time": "2021-06-25T09:40:17.212349",
     "status": "completed"
    },
    "tags": []
   },
   "outputs": [],
   "source": [
    "#%%capture cap --no-stderr\n",
    "#print(np.sqrt(mean_squared_error(y_test, pred)))"
   ]
  },
  {
   "cell_type": "code",
   "execution_count": 12,
   "metadata": {
    "execution": {
     "iopub.execute_input": "2021-06-25T09:40:17.238499Z",
     "iopub.status.busy": "2021-06-25T09:40:17.237940Z",
     "iopub.status.idle": "2021-06-25T09:40:17.241053Z",
     "shell.execute_reply": "2021-06-25T09:40:17.240631Z"
    },
    "jupyter": {
     "source_hidden": true
    },
    "papermill": {
     "duration": 0.011196,
     "end_time": "2021-06-25T09:40:17.241226",
     "exception": false,
     "start_time": "2021-06-25T09:40:17.230030",
     "status": "completed"
    },
    "tags": []
   },
   "outputs": [],
   "source": [
    "#with open(output_rmse, 'w') as f:\n",
    "#    f.write(cap.stdout)"
   ]
  },
  {
   "cell_type": "code",
   "execution_count": 13,
   "metadata": {
    "execution": {
     "iopub.execute_input": "2021-06-25T09:40:17.257173Z",
     "iopub.status.busy": "2021-06-25T09:40:17.256180Z",
     "iopub.status.idle": "2021-06-25T09:40:17.279893Z",
     "shell.execute_reply": "2021-06-25T09:40:17.279461Z"
    },
    "jupyter": {
     "source_hidden": true
    },
    "papermill": {
     "duration": 0.034038,
     "end_time": "2021-06-25T09:40:17.280098",
     "exception": false,
     "start_time": "2021-06-25T09:40:17.246060",
     "status": "completed"
    },
    "tags": []
   },
   "outputs": [
    {
     "data": {
      "text/plain": [
       "<sqlalchemy.engine.result.ResultProxy at 0x7fda46ed0f90>"
      ]
     },
     "execution_count": 13,
     "metadata": {},
     "output_type": "execute_result"
    }
   ],
   "source": [
    "cnx.execute(\"\"\"\n",
    "    INSERT INTO ml.accuracies (ml_id, ml_date, accuracy) VALUES ('{0}', '{1}', {2}) \n",
    "    ON CONFLICT (ml_id, ml_date) \n",
    "    DO\n",
    "        UPDATE SET accuracy = {2};\n",
    "    \"\"\".format(ml_id, ml_date, np.sqrt(mean_squared_error(y_test, pred))))"
   ]
  }
 ],
 "metadata": {
  "kernelspec": {
   "display_name": "Python 3",
   "language": "python",
   "name": "python3"
  },
  "language_info": {
   "codemirror_mode": {
    "name": "ipython",
    "version": 3
   },
   "file_extension": ".py",
   "mimetype": "text/x-python",
   "name": "python",
   "nbconvert_exporter": "python",
   "pygments_lexer": "ipython3",
   "version": "3.7.10"
  },
  "papermill": {
   "duration": 9.667294,
   "end_time": "2021-06-25T09:40:17.698056",
   "environment_variables": {},
   "exception": null,
   "input_path": "/usr/local/airflow/include/notebooks/avocado_prediction.ipynb",
   "output_path": "/tmp/out-model-avocado-prediction-auto_100.ipynb",
   "parameters": {
    "filepath": "/tmp/avocado.csv",
    "max_features": "auto",
    "ml_id": "auto_100",
    "n_estimators": 100
   },
   "start_time": "2021-06-25T09:40:08.030762",
   "version": "2.1.2"
  }
 },
 "nbformat": 4,
 "nbformat_minor": 4
}