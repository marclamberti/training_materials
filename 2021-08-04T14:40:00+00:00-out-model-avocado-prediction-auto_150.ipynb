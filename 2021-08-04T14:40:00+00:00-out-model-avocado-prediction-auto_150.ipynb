{
 "cells": [
  {
   "cell_type": "code",
   "execution_count": 1,
   "metadata": {
    "_cell_guid": "79c7e3d0-c299-4dcb-8224-4455121ee9b0",
    "_uuid": "d629ff2d2480ee46fbb7e2d37f6b5fab8052498a",
    "execution": {
     "iopub.execute_input": "2021-08-04T14:53:18.082100Z",
     "iopub.status.busy": "2021-08-04T14:53:18.081408Z",
     "iopub.status.idle": "2021-08-04T14:53:18.913277Z",
     "shell.execute_reply": "2021-08-04T14:53:18.911912Z"
    },
    "jupyter": {
     "source_hidden": true
    },
    "papermill": {
     "duration": 0.848931,
     "end_time": "2021-08-04T14:53:18.913671",
     "exception": false,
     "start_time": "2021-08-04T14:53:18.064740",
     "status": "completed"
    },
    "tags": []
   },
   "outputs": [],
   "source": [
    "import pandas as pd\n",
    "import numpy as np\n",
    "from sqlalchemy import create_engine\n",
    "from datetime import date\n",
    "from sklearn.metrics import mean_squared_error"
   ]
  },
  {
   "cell_type": "code",
   "execution_count": 2,
   "metadata": {
    "execution": {
     "iopub.execute_input": "2021-08-04T14:53:18.939638Z",
     "iopub.status.busy": "2021-08-04T14:53:18.938828Z",
     "iopub.status.idle": "2021-08-04T14:53:18.967291Z",
     "shell.execute_reply": "2021-08-04T14:53:18.967709Z"
    },
    "jupyter": {
     "source_hidden": true
    },
    "papermill": {
     "duration": 0.044541,
     "end_time": "2021-08-04T14:53:18.967949",
     "exception": false,
     "start_time": "2021-08-04T14:53:18.923408",
     "status": "completed"
    },
    "tags": []
   },
   "outputs": [],
   "source": [
    "# THIS IS PURELY FOR TEST PURPOSE NEVER DO THAT IN PRODUCTION\n",
    "POSTGRES_ADDRESS='postgres'\n",
    "POSTGRES_PORT='5432'\n",
    "POSTGRES_USERNAME='postgres'\n",
    "POSTGRES_PASSWORD='postgres'\n",
    "\n",
    "postgres_conn = 'postgresql://{0}:{1}@{2}:{3}/'.format(POSTGRES_USERNAME, POSTGRES_PASSWORD, POSTGRES_ADDRESS, POSTGRES_PORT)\n",
    "\n",
    "# Create the connection\n",
    "cnx = create_engine(postgres_conn)\n"
   ]
  },
  {
   "cell_type": "markdown",
   "metadata": {
    "_uuid": "1998755ef10683262b29765345cff1c1c7d10b15",
    "papermill": {
     "duration": 0.00823,
     "end_time": "2021-08-04T14:53:18.983090",
     "exception": false,
     "start_time": "2021-08-04T14:53:18.974860",
     "status": "completed"
    },
    "tags": []
   },
   "source": [
    "Read in the Avocado Prices csv file as a DataFrame called df"
   ]
  },
  {
   "cell_type": "code",
   "execution_count": 3,
   "metadata": {
    "execution": {
     "iopub.execute_input": "2021-08-04T14:53:19.000178Z",
     "iopub.status.busy": "2021-08-04T14:53:18.999556Z",
     "iopub.status.idle": "2021-08-04T14:53:19.002242Z",
     "shell.execute_reply": "2021-08-04T14:53:19.002760Z"
    },
    "jupyter": {
     "source_hidden": true
    },
    "papermill": {
     "duration": 0.014238,
     "end_time": "2021-08-04T14:53:19.002971",
     "exception": false,
     "start_time": "2021-08-04T14:53:18.988733",
     "status": "completed"
    },
    "tags": [
     "parameters"
    ]
   },
   "outputs": [],
   "source": [
    "# Parameterized\n",
    "\n",
    "filepath='avocado.csv'\n",
    "ml_id='auto_100'\n",
    "ml_date=date.today()\n",
    "n_estimators = 100\n",
    "max_features = 'auto'"
   ]
  },
  {
   "cell_type": "code",
   "execution_count": 4,
   "id": "cbdbcaa8",
   "metadata": {
    "execution": {
     "iopub.execute_input": "2021-08-04T14:53:19.021956Z",
     "iopub.status.busy": "2021-08-04T14:53:19.021287Z",
     "iopub.status.idle": "2021-08-04T14:53:19.024023Z",
     "shell.execute_reply": "2021-08-04T14:53:19.023380Z"
    },
    "jupyter": {
     "source_hidden": true
    },
    "papermill": {
     "duration": 0.016086,
     "end_time": "2021-08-04T14:53:19.024217",
     "exception": false,
     "start_time": "2021-08-04T14:53:19.008131",
     "status": "completed"
    },
    "tags": [
     "injected-parameters"
    ]
   },
   "outputs": [],
   "source": [
    "# Parameters\n",
    "filepath = \"/tmp/avocado.csv\"\n",
    "n_estimators = 150\n",
    "max_features = \"auto\"\n",
    "ml_id = \"auto_150\"\n"
   ]
  },
  {
   "cell_type": "code",
   "execution_count": 5,
   "metadata": {
    "_uuid": "55d0e719eb8b91d763c1eacaf0f51ee0586486fc",
    "execution": {
     "iopub.execute_input": "2021-08-04T14:53:19.042847Z",
     "iopub.status.busy": "2021-08-04T14:53:19.042207Z",
     "iopub.status.idle": "2021-08-04T14:53:19.076532Z",
     "shell.execute_reply": "2021-08-04T14:53:19.075854Z"
    },
    "jupyter": {
     "source_hidden": true
    },
    "papermill": {
     "duration": 0.046635,
     "end_time": "2021-08-04T14:53:19.076760",
     "exception": false,
     "start_time": "2021-08-04T14:53:19.030125",
     "status": "completed"
    },
    "tags": []
   },
   "outputs": [],
   "source": [
    "df= pd.read_csv(filepath)"
   ]
  },
  {
   "cell_type": "markdown",
   "metadata": {
    "_uuid": "434e0457f550e2200424e5ec26162e1aa5904005",
    "papermill": {
     "duration": 0.005373,
     "end_time": "2021-08-04T14:53:19.089028",
     "exception": false,
     "start_time": "2021-08-04T14:53:19.083655",
     "status": "completed"
    },
    "tags": []
   },
   "source": [
    "The Feature \"Unnamed:0\" is just a representation of the indexes, so it's useless to keep it, lets remove it !"
   ]
  },
  {
   "cell_type": "code",
   "execution_count": 6,
   "metadata": {
    "_uuid": "9875398e37728dc3141fed4228be337a4735beb6",
    "execution": {
     "iopub.execute_input": "2021-08-04T14:53:19.116269Z",
     "iopub.status.busy": "2021-08-04T14:53:19.115075Z",
     "iopub.status.idle": "2021-08-04T14:53:19.119413Z",
     "shell.execute_reply": "2021-08-04T14:53:19.118695Z"
    },
    "jupyter": {
     "source_hidden": true
    },
    "papermill": {
     "duration": 0.019625,
     "end_time": "2021-08-04T14:53:19.119647",
     "exception": false,
     "start_time": "2021-08-04T14:53:19.100022",
     "status": "completed"
    },
    "tags": []
   },
   "outputs": [],
   "source": [
    "df.drop('Unnamed: 0',axis=1,inplace=True)"
   ]
  },
  {
   "cell_type": "markdown",
   "metadata": {
    "_uuid": "12e94ad381e4cb8d2c8a9bbe08ce07ab5d49c040",
    "papermill": {
     "duration": 0.006498,
     "end_time": "2021-08-04T14:53:19.131657",
     "exception": false,
     "start_time": "2021-08-04T14:53:19.125159",
     "status": "completed"
    },
    "tags": []
   },
   "source": [
    "well as a first observation we can see that we are lucky, we dont have any missing values (18249 complete data) and 13 columns.\n",
    "Now let's do some Feature Engineering on the Date Feature so we can be able to use the day and the month columns in building our machine learning model later. ( I didn't mention the year because its already there in data frame)"
   ]
  },
  {
   "cell_type": "code",
   "execution_count": 7,
   "metadata": {
    "_uuid": "f031639ce794656e877484d1c9c356df7028177f",
    "execution": {
     "iopub.execute_input": "2021-08-04T14:53:19.268494Z",
     "iopub.status.busy": "2021-08-04T14:53:19.267674Z",
     "iopub.status.idle": "2021-08-04T14:53:19.414717Z",
     "shell.execute_reply": "2021-08-04T14:53:19.413679Z"
    },
    "jupyter": {
     "source_hidden": true
    },
    "papermill": {
     "duration": 0.164816,
     "end_time": "2021-08-04T14:53:19.415126",
     "exception": false,
     "start_time": "2021-08-04T14:53:19.250310",
     "status": "completed"
    },
    "tags": []
   },
   "outputs": [],
   "source": [
    "df['Date']=pd.to_datetime(df['Date'])\n",
    "df['Month']=df['Date'].apply(lambda x:x.month)\n",
    "df['Day']=df['Date'].apply(lambda x:x.day)"
   ]
  },
  {
   "cell_type": "markdown",
   "metadata": {
    "_uuid": "ebdcac9924ce3e366fd3a75170682f7113385b7a",
    "papermill": {
     "duration": 0.005444,
     "end_time": "2021-08-04T14:53:19.427409",
     "exception": false,
     "start_time": "2021-08-04T14:53:19.421965",
     "status": "completed"
    },
    "tags": []
   },
   "source": [
    "as we can see we have 54 regions and 2 unique types, so it's going to be easy to to transform the type feature to dummies, but for the region its going to be a bit complexe so I decided to drop the entire column.\n",
    "I will drop the Date Feature as well because I already have 3 other columns for the Year, Month and Day."
   ]
  },
  {
   "cell_type": "code",
   "execution_count": 8,
   "metadata": {
    "_uuid": "a798682da34327b731ef262985fd50ba68e06460",
    "execution": {
     "iopub.execute_input": "2021-08-04T14:53:19.446350Z",
     "iopub.status.busy": "2021-08-04T14:53:19.445718Z",
     "iopub.status.idle": "2021-08-04T14:53:19.459866Z",
     "shell.execute_reply": "2021-08-04T14:53:19.458872Z"
    },
    "jupyter": {
     "source_hidden": true
    },
    "papermill": {
     "duration": 0.025123,
     "end_time": "2021-08-04T14:53:19.460085",
     "exception": false,
     "start_time": "2021-08-04T14:53:19.434962",
     "status": "completed"
    },
    "tags": []
   },
   "outputs": [],
   "source": [
    "df_final=pd.get_dummies(df.drop(['region','Date'],axis=1),drop_first=True)"
   ]
  },
  {
   "cell_type": "markdown",
   "metadata": {
    "_uuid": "8b74a6b88cb3e9b3e1d1e987e061048f203c7364",
    "papermill": {
     "duration": 0.008756,
     "end_time": "2021-08-04T14:53:19.474911",
     "exception": false,
     "start_time": "2021-08-04T14:53:19.466155",
     "status": "completed"
    },
    "tags": []
   },
   "source": [
    "Now our data are ready! lets apply our model which is going to be the Linear Regression because our Target variable 'AveragePrice'is continuous.\n",
    "Let's now begin to train out regression model! We will need to first split up our data into an X array that contains the features to train on, and a y array with the target variable"
   ]
  },
  {
   "cell_type": "code",
   "execution_count": 9,
   "metadata": {
    "_uuid": "830591f99de9715241e688bf9ce265e979401ff5",
    "execution": {
     "iopub.execute_input": "2021-08-04T14:53:19.495575Z",
     "iopub.status.busy": "2021-08-04T14:53:19.494190Z",
     "iopub.status.idle": "2021-08-04T14:53:19.506487Z",
     "shell.execute_reply": "2021-08-04T14:53:19.505979Z"
    },
    "jupyter": {
     "source_hidden": true
    },
    "papermill": {
     "duration": 0.024237,
     "end_time": "2021-08-04T14:53:19.506744",
     "exception": false,
     "start_time": "2021-08-04T14:53:19.482507",
     "status": "completed"
    },
    "tags": []
   },
   "outputs": [],
   "source": [
    "X=df_final.iloc[:,1:14]\n",
    "y=df_final['AveragePrice']\n",
    "from sklearn.model_selection import train_test_split\n",
    "X_train,X_test,y_train,y_test=train_test_split(X,y,test_size=0.2,random_state=42)"
   ]
  },
  {
   "cell_type": "markdown",
   "metadata": {
    "_uuid": "ea730c77a31cde9de98263079a189accb8b5772b",
    "papermill": {
     "duration": 0.009477,
     "end_time": "2021-08-04T14:53:19.523217",
     "exception": false,
     "start_time": "2021-08-04T14:53:19.513740",
     "status": "completed"
    },
    "tags": []
   },
   "source": [
    "Creating and Training the Model"
   ]
  },
  {
   "cell_type": "code",
   "execution_count": 10,
   "metadata": {
    "_uuid": "eb37015e78974e5fd2ae7e13d065c8ab0a9c6948",
    "execution": {
     "iopub.execute_input": "2021-08-04T14:53:19.542745Z",
     "iopub.status.busy": "2021-08-04T14:53:19.542081Z",
     "iopub.status.idle": "2021-08-04T14:53:34.780142Z",
     "shell.execute_reply": "2021-08-04T14:53:34.778749Z"
    },
    "jupyter": {
     "source_hidden": true
    },
    "papermill": {
     "duration": 15.251057,
     "end_time": "2021-08-04T14:53:34.780564",
     "exception": false,
     "start_time": "2021-08-04T14:53:19.529507",
     "status": "completed"
    },
    "tags": []
   },
   "outputs": [],
   "source": [
    "from sklearn.ensemble import RandomForestRegressor\n",
    "rdr = RandomForestRegressor(\n",
    "    n_estimators=n_estimators,\n",
    "    max_features=max_features\n",
    ")\n",
    "rdr.fit(X_train,y_train)\n",
    "pred=rdr.predict(X_test)"
   ]
  },
  {
   "cell_type": "code",
   "execution_count": 11,
   "metadata": {
    "_uuid": "7ed5b8d4e8abb44a4b548c13ac9fb2d65227d1c5",
    "execution": {
     "iopub.execute_input": "2021-08-04T14:53:34.805394Z",
     "iopub.status.busy": "2021-08-04T14:53:34.804732Z",
     "iopub.status.idle": "2021-08-04T14:53:34.808659Z",
     "shell.execute_reply": "2021-08-04T14:53:34.808178Z"
    },
    "jupyter": {
     "source_hidden": true
    },
    "papermill": {
     "duration": 0.019781,
     "end_time": "2021-08-04T14:53:34.808974",
     "exception": false,
     "start_time": "2021-08-04T14:53:34.789193",
     "status": "completed"
    },
    "tags": []
   },
   "outputs": [],
   "source": [
    "#%%capture cap --no-stderr\n",
    "#print(np.sqrt(mean_squared_error(y_test, pred)))"
   ]
  },
  {
   "cell_type": "code",
   "execution_count": 12,
   "metadata": {
    "execution": {
     "iopub.execute_input": "2021-08-04T14:53:34.828090Z",
     "iopub.status.busy": "2021-08-04T14:53:34.827442Z",
     "iopub.status.idle": "2021-08-04T14:53:34.830278Z",
     "shell.execute_reply": "2021-08-04T14:53:34.830729Z"
    },
    "jupyter": {
     "source_hidden": true
    },
    "papermill": {
     "duration": 0.014621,
     "end_time": "2021-08-04T14:53:34.831017",
     "exception": false,
     "start_time": "2021-08-04T14:53:34.816396",
     "status": "completed"
    },
    "tags": []
   },
   "outputs": [],
   "source": [
    "#with open(output_rmse, 'w') as f:\n",
    "#    f.write(cap.stdout)"
   ]
  },
  {
   "cell_type": "code",
   "execution_count": 13,
   "metadata": {
    "execution": {
     "iopub.execute_input": "2021-08-04T14:53:34.850890Z",
     "iopub.status.busy": "2021-08-04T14:53:34.850186Z",
     "iopub.status.idle": "2021-08-04T14:53:34.874822Z",
     "shell.execute_reply": "2021-08-04T14:53:34.874220Z"
    },
    "jupyter": {
     "source_hidden": true
    },
    "papermill": {
     "duration": 0.036012,
     "end_time": "2021-08-04T14:53:34.875114",
     "exception": false,
     "start_time": "2021-08-04T14:53:34.839102",
     "status": "completed"
    },
    "tags": []
   },
   "outputs": [
    {
     "data": {
      "text/plain": [
       "<sqlalchemy.engine.result.ResultProxy at 0x7fe53aba8910>"
      ]
     },
     "execution_count": 13,
     "metadata": {},
     "output_type": "execute_result"
    }
   ],
   "source": [
    "cnx.execute(\"\"\"\n",
    "    INSERT INTO ml.accuracies (ml_id, ml_date, accuracy) VALUES ('{0}', '{1}', {2}) \n",
    "    ON CONFLICT (ml_id, ml_date) \n",
    "    DO\n",
    "        UPDATE SET accuracy = {2};\n",
    "    \"\"\".format(ml_id, ml_date, np.sqrt(mean_squared_error(y_test, pred))))"
   ]
  }
 ],
 "metadata": {
  "kernelspec": {
   "display_name": "Python 3",
   "language": "python",
   "name": "python3"
  },
  "language_info": {
   "codemirror_mode": {
    "name": "ipython",
    "version": 3
   },
   "file_extension": ".py",
   "mimetype": "text/x-python",
   "name": "python",
   "nbconvert_exporter": "python",
   "pygments_lexer": "ipython3",
   "version": "3.7.10"
  },
  "papermill": {
   "duration": 19.3385,
   "end_time": "2021-08-04T14:53:36.268489",
   "environment_variables": {},
   "exception": null,
   "input_path": "/usr/local/airflow/include/notebooks/avocado_prediction.ipynb",
   "output_path": "/tmp/out-model-avocado-prediction-auto_150.ipynb",
   "parameters": {
    "filepath": "/tmp/avocado.csv",
    "max_features": "auto",
    "ml_id": "auto_150",
    "n_estimators": 150
   },
   "start_time": "2021-08-04T14:53:16.929989",
   "version": "2.1.2"
  }
 },
 "nbformat": 4,
 "nbformat_minor": 4
}