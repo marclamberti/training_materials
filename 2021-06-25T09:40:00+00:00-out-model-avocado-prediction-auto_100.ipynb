{
 "cells": [
  {
   "cell_type": "code",
   "execution_count": 1,
   "metadata": {
    "_cell_guid": "79c7e3d0-c299-4dcb-8224-4455121ee9b0",
    "_uuid": "d629ff2d2480ee46fbb7e2d37f6b5fab8052498a",
    "execution": {
     "iopub.execute_input": "2021-06-25T09:50:10.514383Z",
     "iopub.status.busy": "2021-06-25T09:50:10.513497Z",
     "iopub.status.idle": "2021-06-25T09:50:11.167116Z",
     "shell.execute_reply": "2021-06-25T09:50:11.166380Z"
    },
    "jupyter": {
     "source_hidden": true
    },
    "papermill": {
     "duration": 0.669183,
     "end_time": "2021-06-25T09:50:11.167383",
     "exception": false,
     "start_time": "2021-06-25T09:50:10.498200",
     "status": "completed"
    },
    "tags": []
   },
   "outputs": [],
   "source": [
    "import pandas as pd\n",
    "import numpy as np\n",
    "from sqlalchemy import create_engine\n",
    "from datetime import date\n",
    "from sklearn.metrics import mean_squared_error"
   ]
  },
  {
   "cell_type": "code",
   "execution_count": 2,
   "metadata": {
    "execution": {
     "iopub.execute_input": "2021-06-25T09:50:11.187287Z",
     "iopub.status.busy": "2021-06-25T09:50:11.186616Z",
     "iopub.status.idle": "2021-06-25T09:50:11.212279Z",
     "shell.execute_reply": "2021-06-25T09:50:11.212687Z"
    },
    "jupyter": {
     "source_hidden": true
    },
    "papermill": {
     "duration": 0.03845,
     "end_time": "2021-06-25T09:50:11.212962",
     "exception": false,
     "start_time": "2021-06-25T09:50:11.174512",
     "status": "completed"
    },
    "tags": []
   },
   "outputs": [],
   "source": [
    "# THIS IS PURELY FOR TEST PURPOSE NEVER DO THAT IN PRODUCTION\n",
    "POSTGRES_ADDRESS='postgres'\n",
    "POSTGRES_PORT='5432'\n",
    "POSTGRES_USERNAME='postgres'\n",
    "POSTGRES_PASSWORD='postgres'\n",
    "\n",
    "postgres_conn = 'postgresql://{0}:{1}@{2}:{3}/'.format(POSTGRES_USERNAME, POSTGRES_PASSWORD, POSTGRES_ADDRESS, POSTGRES_PORT)\n",
    "\n",
    "# Create the connection\n",
    "cnx = create_engine(postgres_conn)\n"
   ]
  },
  {
   "cell_type": "markdown",
   "metadata": {
    "_uuid": "1998755ef10683262b29765345cff1c1c7d10b15",
    "papermill": {
     "duration": 0.005308,
     "end_time": "2021-06-25T09:50:11.223587",
     "exception": false,
     "start_time": "2021-06-25T09:50:11.218279",
     "status": "completed"
    },
    "tags": []
   },
   "source": [
    "Read in the Avocado Prices csv file as a DataFrame called df"
   ]
  },
  {
   "cell_type": "code",
   "execution_count": 3,
   "metadata": {
    "execution": {
     "iopub.execute_input": "2021-06-25T09:50:11.238169Z",
     "iopub.status.busy": "2021-06-25T09:50:11.237529Z",
     "iopub.status.idle": "2021-06-25T09:50:11.240575Z",
     "shell.execute_reply": "2021-06-25T09:50:11.239932Z"
    },
    "jupyter": {
     "source_hidden": true
    },
    "papermill": {
     "duration": 0.012254,
     "end_time": "2021-06-25T09:50:11.240780",
     "exception": false,
     "start_time": "2021-06-25T09:50:11.228526",
     "status": "completed"
    },
    "tags": [
     "parameters"
    ]
   },
   "outputs": [],
   "source": [
    "# Parameterized\n",
    "\n",
    "filepath='avocado.csv'\n",
    "ml_id='auto_100'\n",
    "ml_date=date.today()\n",
    "n_estimators = 100\n",
    "max_features = 'auto'"
   ]
  },
  {
   "cell_type": "code",
   "execution_count": 4,
   "id": "71d47f4a",
   "metadata": {
    "execution": {
     "iopub.execute_input": "2021-06-25T09:50:11.255803Z",
     "iopub.status.busy": "2021-06-25T09:50:11.255149Z",
     "iopub.status.idle": "2021-06-25T09:50:11.258347Z",
     "shell.execute_reply": "2021-06-25T09:50:11.257677Z"
    },
    "jupyter": {
     "source_hidden": true
    },
    "papermill": {
     "duration": 0.012371,
     "end_time": "2021-06-25T09:50:11.258539",
     "exception": false,
     "start_time": "2021-06-25T09:50:11.246168",
     "status": "completed"
    },
    "tags": [
     "injected-parameters"
    ]
   },
   "outputs": [],
   "source": [
    "# Parameters\n",
    "filepath = \"/tmp/avocado.csv\"\n",
    "n_estimators = 100\n",
    "max_features = \"auto\"\n",
    "ml_id = \"auto_100\"\n"
   ]
  },
  {
   "cell_type": "code",
   "execution_count": 5,
   "metadata": {
    "_uuid": "55d0e719eb8b91d763c1eacaf0f51ee0586486fc",
    "execution": {
     "iopub.execute_input": "2021-06-25T09:50:11.273974Z",
     "iopub.status.busy": "2021-06-25T09:50:11.273341Z",
     "iopub.status.idle": "2021-06-25T09:50:11.302870Z",
     "shell.execute_reply": "2021-06-25T09:50:11.302473Z"
    },
    "jupyter": {
     "source_hidden": true
    },
    "papermill": {
     "duration": 0.039201,
     "end_time": "2021-06-25T09:50:11.303167",
     "exception": false,
     "start_time": "2021-06-25T09:50:11.263966",
     "status": "completed"
    },
    "tags": []
   },
   "outputs": [],
   "source": [
    "df= pd.read_csv(filepath)"
   ]
  },
  {
   "cell_type": "markdown",
   "metadata": {
    "_uuid": "434e0457f550e2200424e5ec26162e1aa5904005",
    "papermill": {
     "duration": 0.005458,
     "end_time": "2021-06-25T09:50:11.314542",
     "exception": false,
     "start_time": "2021-06-25T09:50:11.309084",
     "status": "completed"
    },
    "tags": []
   },
   "source": [
    "The Feature \"Unnamed:0\" is just a representation of the indexes, so it's useless to keep it, lets remove it !"
   ]
  },
  {
   "cell_type": "code",
   "execution_count": 6,
   "metadata": {
    "_uuid": "9875398e37728dc3141fed4228be337a4735beb6",
    "execution": {
     "iopub.execute_input": "2021-06-25T09:50:11.331595Z",
     "iopub.status.busy": "2021-06-25T09:50:11.330985Z",
     "iopub.status.idle": "2021-06-25T09:50:11.333838Z",
     "shell.execute_reply": "2021-06-25T09:50:11.334371Z"
    },
    "jupyter": {
     "source_hidden": true
    },
    "papermill": {
     "duration": 0.014601,
     "end_time": "2021-06-25T09:50:11.334609",
     "exception": false,
     "start_time": "2021-06-25T09:50:11.320008",
     "status": "completed"
    },
    "tags": []
   },
   "outputs": [],
   "source": [
    "df.drop('Unnamed: 0',axis=1,inplace=True)"
   ]
  },
  {
   "cell_type": "markdown",
   "metadata": {
    "_uuid": "12e94ad381e4cb8d2c8a9bbe08ce07ab5d49c040",
    "papermill": {
     "duration": 0.005657,
     "end_time": "2021-06-25T09:50:11.345920",
     "exception": false,
     "start_time": "2021-06-25T09:50:11.340263",
     "status": "completed"
    },
    "tags": []
   },
   "source": [
    "well as a first observation we can see that we are lucky, we dont have any missing values (18249 complete data) and 13 columns.\n",
    "Now let's do some Feature Engineering on the Date Feature so we can be able to use the day and the month columns in building our machine learning model later. ( I didn't mention the year because its already there in data frame)"
   ]
  },
  {
   "cell_type": "code",
   "execution_count": 7,
   "metadata": {
    "_uuid": "f031639ce794656e877484d1c9c356df7028177f",
    "execution": {
     "iopub.execute_input": "2021-06-25T09:50:11.361071Z",
     "iopub.status.busy": "2021-06-25T09:50:11.360534Z",
     "iopub.status.idle": "2021-06-25T09:50:11.470174Z",
     "shell.execute_reply": "2021-06-25T09:50:11.469550Z"
    },
    "jupyter": {
     "source_hidden": true
    },
    "papermill": {
     "duration": 0.11938,
     "end_time": "2021-06-25T09:50:11.470398",
     "exception": false,
     "start_time": "2021-06-25T09:50:11.351018",
     "status": "completed"
    },
    "tags": []
   },
   "outputs": [],
   "source": [
    "df['Date']=pd.to_datetime(df['Date'])\n",
    "df['Month']=df['Date'].apply(lambda x:x.month)\n",
    "df['Day']=df['Date'].apply(lambda x:x.day)"
   ]
  },
  {
   "cell_type": "markdown",
   "metadata": {
    "_uuid": "ebdcac9924ce3e366fd3a75170682f7113385b7a",
    "papermill": {
     "duration": 0.004582,
     "end_time": "2021-06-25T09:50:11.480631",
     "exception": false,
     "start_time": "2021-06-25T09:50:11.476049",
     "status": "completed"
    },
    "tags": []
   },
   "source": [
    "as we can see we have 54 regions and 2 unique types, so it's going to be easy to to transform the type feature to dummies, but for the region its going to be a bit complexe so I decided to drop the entire column.\n",
    "I will drop the Date Feature as well because I already have 3 other columns for the Year, Month and Day."
   ]
  },
  {
   "cell_type": "code",
   "execution_count": 8,
   "metadata": {
    "_uuid": "a798682da34327b731ef262985fd50ba68e06460",
    "execution": {
     "iopub.execute_input": "2021-06-25T09:50:11.499647Z",
     "iopub.status.busy": "2021-06-25T09:50:11.495309Z",
     "iopub.status.idle": "2021-06-25T09:50:11.504489Z",
     "shell.execute_reply": "2021-06-25T09:50:11.504848Z"
    },
    "jupyter": {
     "source_hidden": true
    },
    "papermill": {
     "duration": 0.019941,
     "end_time": "2021-06-25T09:50:11.505107",
     "exception": false,
     "start_time": "2021-06-25T09:50:11.485166",
     "status": "completed"
    },
    "tags": []
   },
   "outputs": [],
   "source": [
    "df_final=pd.get_dummies(df.drop(['region','Date'],axis=1),drop_first=True)"
   ]
  },
  {
   "cell_type": "markdown",
   "metadata": {
    "_uuid": "8b74a6b88cb3e9b3e1d1e987e061048f203c7364",
    "papermill": {
     "duration": 0.005436,
     "end_time": "2021-06-25T09:50:11.516711",
     "exception": false,
     "start_time": "2021-06-25T09:50:11.511275",
     "status": "completed"
    },
    "tags": []
   },
   "source": [
    "Now our data are ready! lets apply our model which is going to be the Linear Regression because our Target variable 'AveragePrice'is continuous.\n",
    "Let's now begin to train out regression model! We will need to first split up our data into an X array that contains the features to train on, and a y array with the target variable"
   ]
  },
  {
   "cell_type": "code",
   "execution_count": 9,
   "metadata": {
    "_uuid": "830591f99de9715241e688bf9ce265e979401ff5",
    "execution": {
     "iopub.execute_input": "2021-06-25T09:50:11.533098Z",
     "iopub.status.busy": "2021-06-25T09:50:11.532531Z",
     "iopub.status.idle": "2021-06-25T09:50:11.542724Z",
     "shell.execute_reply": "2021-06-25T09:50:11.542271Z"
    },
    "jupyter": {
     "source_hidden": true
    },
    "papermill": {
     "duration": 0.020415,
     "end_time": "2021-06-25T09:50:11.542972",
     "exception": false,
     "start_time": "2021-06-25T09:50:11.522557",
     "status": "completed"
    },
    "tags": []
   },
   "outputs": [],
   "source": [
    "X=df_final.iloc[:,1:14]\n",
    "y=df_final['AveragePrice']\n",
    "from sklearn.model_selection import train_test_split\n",
    "X_train,X_test,y_train,y_test=train_test_split(X,y,test_size=0.2,random_state=42)"
   ]
  },
  {
   "cell_type": "markdown",
   "metadata": {
    "_uuid": "ea730c77a31cde9de98263079a189accb8b5772b",
    "papermill": {
     "duration": 0.00584,
     "end_time": "2021-06-25T09:50:11.554417",
     "exception": false,
     "start_time": "2021-06-25T09:50:11.548577",
     "status": "completed"
    },
    "tags": []
   },
   "source": [
    "Creating and Training the Model"
   ]
  },
  {
   "cell_type": "code",
   "execution_count": 10,
   "metadata": {
    "_uuid": "eb37015e78974e5fd2ae7e13d065c8ab0a9c6948",
    "execution": {
     "iopub.execute_input": "2021-06-25T09:50:11.569646Z",
     "iopub.status.busy": "2021-06-25T09:50:11.568825Z",
     "iopub.status.idle": "2021-06-25T09:50:20.023439Z",
     "shell.execute_reply": "2021-06-25T09:50:20.022715Z"
    },
    "jupyter": {
     "source_hidden": true
    },
    "papermill": {
     "duration": 8.463872,
     "end_time": "2021-06-25T09:50:20.023648",
     "exception": false,
     "start_time": "2021-06-25T09:50:11.559776",
     "status": "completed"
    },
    "tags": []
   },
   "outputs": [],
   "source": [
    "from sklearn.ensemble import RandomForestRegressor\n",
    "rdr = RandomForestRegressor(\n",
    "    n_estimators=n_estimators,\n",
    "    max_features=max_features\n",
    ")\n",
    "rdr.fit(X_train,y_train)\n",
    "pred=rdr.predict(X_test)"
   ]
  },
  {
   "cell_type": "code",
   "execution_count": 11,
   "metadata": {
    "_uuid": "7ed5b8d4e8abb44a4b548c13ac9fb2d65227d1c5",
    "execution": {
     "iopub.execute_input": "2021-06-25T09:50:20.040146Z",
     "iopub.status.busy": "2021-06-25T09:50:20.039496Z",
     "iopub.status.idle": "2021-06-25T09:50:20.042486Z",
     "shell.execute_reply": "2021-06-25T09:50:20.042045Z"
    },
    "jupyter": {
     "source_hidden": true
    },
    "papermill": {
     "duration": 0.01224,
     "end_time": "2021-06-25T09:50:20.042692",
     "exception": false,
     "start_time": "2021-06-25T09:50:20.030452",
     "status": "completed"
    },
    "tags": []
   },
   "outputs": [],
   "source": [
    "#%%capture cap --no-stderr\n",
    "#print(np.sqrt(mean_squared_error(y_test, pred)))"
   ]
  },
  {
   "cell_type": "code",
   "execution_count": 12,
   "metadata": {
    "execution": {
     "iopub.execute_input": "2021-06-25T09:50:20.057985Z",
     "iopub.status.busy": "2021-06-25T09:50:20.057348Z",
     "iopub.status.idle": "2021-06-25T09:50:20.060165Z",
     "shell.execute_reply": "2021-06-25T09:50:20.059484Z"
    },
    "jupyter": {
     "source_hidden": true
    },
    "papermill": {
     "duration": 0.011707,
     "end_time": "2021-06-25T09:50:20.060364",
     "exception": false,
     "start_time": "2021-06-25T09:50:20.048657",
     "status": "completed"
    },
    "tags": []
   },
   "outputs": [],
   "source": [
    "#with open(output_rmse, 'w') as f:\n",
    "#    f.write(cap.stdout)"
   ]
  },
  {
   "cell_type": "code",
   "execution_count": 13,
   "metadata": {
    "execution": {
     "iopub.execute_input": "2021-06-25T09:50:20.076792Z",
     "iopub.status.busy": "2021-06-25T09:50:20.076179Z",
     "iopub.status.idle": "2021-06-25T09:50:20.095841Z",
     "shell.execute_reply": "2021-06-25T09:50:20.095307Z"
    },
    "jupyter": {
     "source_hidden": true
    },
    "papermill": {
     "duration": 0.030047,
     "end_time": "2021-06-25T09:50:20.096082",
     "exception": false,
     "start_time": "2021-06-25T09:50:20.066035",
     "status": "completed"
    },
    "tags": []
   },
   "outputs": [
    {
     "data": {
      "text/plain": [
       "<sqlalchemy.engine.result.ResultProxy at 0x7f5c9502a9d0>"
      ]
     },
     "execution_count": 13,
     "metadata": {},
     "output_type": "execute_result"
    }
   ],
   "source": [
    "cnx.execute(\"\"\"\n",
    "    INSERT INTO ml.accuracies (ml_id, ml_date, accuracy) VALUES ('{0}', '{1}', {2}) \n",
    "    ON CONFLICT (ml_id, ml_date) \n",
    "    DO\n",
    "        UPDATE SET accuracy = {2};\n",
    "    \"\"\".format(ml_id, ml_date, np.sqrt(mean_squared_error(y_test, pred))))"
   ]
  }
 ],
 "metadata": {
  "kernelspec": {
   "display_name": "Python 3",
   "language": "python",
   "name": "python3"
  },
  "language_info": {
   "codemirror_mode": {
    "name": "ipython",
    "version": 3
   },
   "file_extension": ".py",
   "mimetype": "text/x-python",
   "name": "python",
   "nbconvert_exporter": "python",
   "pygments_lexer": "ipython3",
   "version": "3.7.10"
  },
  "papermill": {
   "duration": 11.020165,
   "end_time": "2021-06-25T09:50:20.511955",
   "environment_variables": {},
   "exception": null,
   "input_path": "/usr/local/airflow/include/notebooks/avocado_prediction.ipynb",
   "output_path": "/tmp/out-model-avocado-prediction-auto_100.ipynb",
   "parameters": {
    "filepath": "/tmp/avocado.csv",
    "max_features": "auto",
    "ml_id": "auto_100",
    "n_estimators": 100
   },
   "start_time": "2021-06-25T09:50:09.491790",
   "version": "2.1.2"
  }
 },
 "nbformat": 4,
 "nbformat_minor": 4
}