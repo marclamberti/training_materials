{
 "cells": [
  {
   "cell_type": "code",
   "execution_count": 1,
   "metadata": {
    "_cell_guid": "79c7e3d0-c299-4dcb-8224-4455121ee9b0",
    "_uuid": "d629ff2d2480ee46fbb7e2d37f6b5fab8052498a",
    "execution": {
     "iopub.execute_input": "2021-06-24T14:40:09.276459Z",
     "iopub.status.busy": "2021-06-24T14:40:09.275643Z",
     "iopub.status.idle": "2021-06-24T14:40:09.943422Z",
     "shell.execute_reply": "2021-06-24T14:40:09.942660Z"
    },
    "jupyter": {
     "source_hidden": true
    },
    "papermill": {
     "duration": 0.683653,
     "end_time": "2021-06-24T14:40:09.943695",
     "exception": false,
     "start_time": "2021-06-24T14:40:09.260042",
     "status": "completed"
    },
    "tags": []
   },
   "outputs": [],
   "source": [
    "import pandas as pd\n",
    "import numpy as np\n",
    "from sqlalchemy import create_engine\n",
    "from datetime import date\n",
    "from sklearn.metrics import mean_squared_error"
   ]
  },
  {
   "cell_type": "code",
   "execution_count": 2,
   "metadata": {
    "execution": {
     "iopub.execute_input": "2021-06-24T14:40:09.963629Z",
     "iopub.status.busy": "2021-06-24T14:40:09.962881Z",
     "iopub.status.idle": "2021-06-24T14:40:09.989986Z",
     "shell.execute_reply": "2021-06-24T14:40:09.990475Z"
    },
    "jupyter": {
     "source_hidden": true
    },
    "papermill": {
     "duration": 0.039691,
     "end_time": "2021-06-24T14:40:09.990698",
     "exception": false,
     "start_time": "2021-06-24T14:40:09.951007",
     "status": "completed"
    },
    "tags": []
   },
   "outputs": [],
   "source": [
    "# THIS IS PURELY FOR TEST PURPOSE NEVER DO THAT IN PRODUCTION\n",
    "POSTGRES_ADDRESS='postgres'\n",
    "POSTGRES_PORT='5432'\n",
    "POSTGRES_USERNAME='postgres'\n",
    "POSTGRES_PASSWORD='postgres'\n",
    "\n",
    "postgres_conn = 'postgresql://{0}:{1}@{2}:{3}/'.format(POSTGRES_USERNAME, POSTGRES_PASSWORD, POSTGRES_ADDRESS, POSTGRES_PORT)\n",
    "\n",
    "# Create the connection\n",
    "cnx = create_engine(postgres_conn)\n"
   ]
  },
  {
   "cell_type": "markdown",
   "metadata": {
    "_uuid": "1998755ef10683262b29765345cff1c1c7d10b15",
    "papermill": {
     "duration": 0.005323,
     "end_time": "2021-06-24T14:40:10.001457",
     "exception": false,
     "start_time": "2021-06-24T14:40:09.996134",
     "status": "completed"
    },
    "tags": []
   },
   "source": [
    "Read in the Avocado Prices csv file as a DataFrame called df"
   ]
  },
  {
   "cell_type": "code",
   "execution_count": 3,
   "metadata": {
    "execution": {
     "iopub.execute_input": "2021-06-24T14:40:10.016316Z",
     "iopub.status.busy": "2021-06-24T14:40:10.015677Z",
     "iopub.status.idle": "2021-06-24T14:40:10.019022Z",
     "shell.execute_reply": "2021-06-24T14:40:10.018357Z"
    },
    "jupyter": {
     "source_hidden": true
    },
    "papermill": {
     "duration": 0.012729,
     "end_time": "2021-06-24T14:40:10.019227",
     "exception": false,
     "start_time": "2021-06-24T14:40:10.006498",
     "status": "completed"
    },
    "tags": [
     "parameters"
    ]
   },
   "outputs": [],
   "source": [
    "# Parameterized\n",
    "\n",
    "filepath='avocado.csv'\n",
    "ml_id='auto_100'\n",
    "ml_date=date.today()\n",
    "n_estimators = 100\n",
    "max_features = 'auto'"
   ]
  },
  {
   "cell_type": "code",
   "execution_count": 4,
   "id": "7c7e4a71",
   "metadata": {
    "execution": {
     "iopub.execute_input": "2021-06-24T14:40:10.033935Z",
     "iopub.status.busy": "2021-06-24T14:40:10.033288Z",
     "iopub.status.idle": "2021-06-24T14:40:10.035953Z",
     "shell.execute_reply": "2021-06-24T14:40:10.036402Z"
    },
    "jupyter": {
     "source_hidden": true
    },
    "papermill": {
     "duration": 0.012012,
     "end_time": "2021-06-24T14:40:10.036637",
     "exception": false,
     "start_time": "2021-06-24T14:40:10.024625",
     "status": "completed"
    },
    "tags": [
     "injected-parameters"
    ]
   },
   "outputs": [],
   "source": [
    "# Parameters\n",
    "filepath = \"/tmp/avocado.csv\"\n",
    "n_estimators = 100\n",
    "max_features = \"auto\"\n",
    "ml_id = \"auto_100\"\n"
   ]
  },
  {
   "cell_type": "code",
   "execution_count": 5,
   "metadata": {
    "_uuid": "55d0e719eb8b91d763c1eacaf0f51ee0586486fc",
    "execution": {
     "iopub.execute_input": "2021-06-24T14:40:10.052473Z",
     "iopub.status.busy": "2021-06-24T14:40:10.051819Z",
     "iopub.status.idle": "2021-06-24T14:40:10.082056Z",
     "shell.execute_reply": "2021-06-24T14:40:10.082517Z"
    },
    "jupyter": {
     "source_hidden": true
    },
    "papermill": {
     "duration": 0.040454,
     "end_time": "2021-06-24T14:40:10.082765",
     "exception": false,
     "start_time": "2021-06-24T14:40:10.042311",
     "status": "completed"
    },
    "tags": []
   },
   "outputs": [],
   "source": [
    "df= pd.read_csv(filepath)"
   ]
  },
  {
   "cell_type": "markdown",
   "metadata": {
    "_uuid": "434e0457f550e2200424e5ec26162e1aa5904005",
    "papermill": {
     "duration": 0.00533,
     "end_time": "2021-06-24T14:40:10.093646",
     "exception": false,
     "start_time": "2021-06-24T14:40:10.088316",
     "status": "completed"
    },
    "tags": []
   },
   "source": [
    "The Feature \"Unnamed:0\" is just a representation of the indexes, so it's useless to keep it, lets remove it !"
   ]
  },
  {
   "cell_type": "code",
   "execution_count": 6,
   "metadata": {
    "_uuid": "9875398e37728dc3141fed4228be337a4735beb6",
    "execution": {
     "iopub.execute_input": "2021-06-24T14:40:10.109632Z",
     "iopub.status.busy": "2021-06-24T14:40:10.109066Z",
     "iopub.status.idle": "2021-06-24T14:40:10.111673Z",
     "shell.execute_reply": "2021-06-24T14:40:10.111226Z"
    },
    "jupyter": {
     "source_hidden": true
    },
    "papermill": {
     "duration": 0.012347,
     "end_time": "2021-06-24T14:40:10.111850",
     "exception": false,
     "start_time": "2021-06-24T14:40:10.099503",
     "status": "completed"
    },
    "tags": []
   },
   "outputs": [],
   "source": [
    "df.drop('Unnamed: 0',axis=1,inplace=True)"
   ]
  },
  {
   "cell_type": "markdown",
   "metadata": {
    "_uuid": "12e94ad381e4cb8d2c8a9bbe08ce07ab5d49c040",
    "papermill": {
     "duration": 0.005488,
     "end_time": "2021-06-24T14:40:10.122059",
     "exception": false,
     "start_time": "2021-06-24T14:40:10.116571",
     "status": "completed"
    },
    "tags": []
   },
   "source": [
    "well as a first observation we can see that we are lucky, we dont have any missing values (18249 complete data) and 13 columns.\n",
    "Now let's do some Feature Engineering on the Date Feature so we can be able to use the day and the month columns in building our machine learning model later. ( I didn't mention the year because its already there in data frame)"
   ]
  },
  {
   "cell_type": "code",
   "execution_count": 7,
   "metadata": {
    "_uuid": "f031639ce794656e877484d1c9c356df7028177f",
    "execution": {
     "iopub.execute_input": "2021-06-24T14:40:10.136563Z",
     "iopub.status.busy": "2021-06-24T14:40:10.135981Z",
     "iopub.status.idle": "2021-06-24T14:40:10.251472Z",
     "shell.execute_reply": "2021-06-24T14:40:10.250757Z"
    },
    "jupyter": {
     "source_hidden": true
    },
    "papermill": {
     "duration": 0.125002,
     "end_time": "2021-06-24T14:40:10.251676",
     "exception": false,
     "start_time": "2021-06-24T14:40:10.126674",
     "status": "completed"
    },
    "tags": []
   },
   "outputs": [],
   "source": [
    "df['Date']=pd.to_datetime(df['Date'])\n",
    "df['Month']=df['Date'].apply(lambda x:x.month)\n",
    "df['Day']=df['Date'].apply(lambda x:x.day)"
   ]
  },
  {
   "cell_type": "markdown",
   "metadata": {
    "_uuid": "ebdcac9924ce3e366fd3a75170682f7113385b7a",
    "papermill": {
     "duration": 0.005703,
     "end_time": "2021-06-24T14:40:10.262199",
     "exception": false,
     "start_time": "2021-06-24T14:40:10.256496",
     "status": "completed"
    },
    "tags": []
   },
   "source": [
    "as we can see we have 54 regions and 2 unique types, so it's going to be easy to to transform the type feature to dummies, but for the region its going to be a bit complexe so I decided to drop the entire column.\n",
    "I will drop the Date Feature as well because I already have 3 other columns for the Year, Month and Day."
   ]
  },
  {
   "cell_type": "code",
   "execution_count": 8,
   "metadata": {
    "_uuid": "a798682da34327b731ef262985fd50ba68e06460",
    "execution": {
     "iopub.execute_input": "2021-06-24T14:40:10.279001Z",
     "iopub.status.busy": "2021-06-24T14:40:10.278482Z",
     "iopub.status.idle": "2021-06-24T14:40:10.288555Z",
     "shell.execute_reply": "2021-06-24T14:40:10.288931Z"
    },
    "jupyter": {
     "source_hidden": true
    },
    "papermill": {
     "duration": 0.020703,
     "end_time": "2021-06-24T14:40:10.289159",
     "exception": false,
     "start_time": "2021-06-24T14:40:10.268456",
     "status": "completed"
    },
    "tags": []
   },
   "outputs": [],
   "source": [
    "df_final=pd.get_dummies(df.drop(['region','Date'],axis=1),drop_first=True)"
   ]
  },
  {
   "cell_type": "markdown",
   "metadata": {
    "_uuid": "8b74a6b88cb3e9b3e1d1e987e061048f203c7364",
    "papermill": {
     "duration": 0.005493,
     "end_time": "2021-06-24T14:40:10.300858",
     "exception": false,
     "start_time": "2021-06-24T14:40:10.295365",
     "status": "completed"
    },
    "tags": []
   },
   "source": [
    "Now our data are ready! lets apply our model which is going to be the Linear Regression because our Target variable 'AveragePrice'is continuous.\n",
    "Let's now begin to train out regression model! We will need to first split up our data into an X array that contains the features to train on, and a y array with the target variable"
   ]
  },
  {
   "cell_type": "code",
   "execution_count": 9,
   "metadata": {
    "_uuid": "830591f99de9715241e688bf9ce265e979401ff5",
    "execution": {
     "iopub.execute_input": "2021-06-24T14:40:10.319842Z",
     "iopub.status.busy": "2021-06-24T14:40:10.319155Z",
     "iopub.status.idle": "2021-06-24T14:40:10.330323Z",
     "shell.execute_reply": "2021-06-24T14:40:10.329842Z"
    },
    "jupyter": {
     "source_hidden": true
    },
    "papermill": {
     "duration": 0.024003,
     "end_time": "2021-06-24T14:40:10.330594",
     "exception": false,
     "start_time": "2021-06-24T14:40:10.306591",
     "status": "completed"
    },
    "tags": []
   },
   "outputs": [],
   "source": [
    "X=df_final.iloc[:,1:14]\n",
    "y=df_final['AveragePrice']\n",
    "from sklearn.model_selection import train_test_split\n",
    "X_train,X_test,y_train,y_test=train_test_split(X,y,test_size=0.2,random_state=42)"
   ]
  },
  {
   "cell_type": "markdown",
   "metadata": {
    "_uuid": "ea730c77a31cde9de98263079a189accb8b5772b",
    "papermill": {
     "duration": 0.006088,
     "end_time": "2021-06-24T14:40:10.342814",
     "exception": false,
     "start_time": "2021-06-24T14:40:10.336726",
     "status": "completed"
    },
    "tags": []
   },
   "source": [
    "Creating and Training the Model"
   ]
  },
  {
   "cell_type": "code",
   "execution_count": 10,
   "metadata": {
    "_uuid": "eb37015e78974e5fd2ae7e13d065c8ab0a9c6948",
    "execution": {
     "iopub.execute_input": "2021-06-24T14:40:10.358434Z",
     "iopub.status.busy": "2021-06-24T14:40:10.357786Z",
     "iopub.status.idle": "2021-06-24T14:40:18.821767Z",
     "shell.execute_reply": "2021-06-24T14:40:18.821252Z"
    },
    "jupyter": {
     "source_hidden": true
    },
    "papermill": {
     "duration": 8.473506,
     "end_time": "2021-06-24T14:40:18.821981",
     "exception": false,
     "start_time": "2021-06-24T14:40:10.348475",
     "status": "completed"
    },
    "tags": []
   },
   "outputs": [],
   "source": [
    "from sklearn.ensemble import RandomForestRegressor\n",
    "rdr = RandomForestRegressor(\n",
    "    n_estimators=n_estimators,\n",
    "    max_features=max_features\n",
    ")\n",
    "rdr.fit(X_train,y_train)\n",
    "pred=rdr.predict(X_test)"
   ]
  },
  {
   "cell_type": "code",
   "execution_count": 11,
   "metadata": {
    "_uuid": "7ed5b8d4e8abb44a4b548c13ac9fb2d65227d1c5",
    "execution": {
     "iopub.execute_input": "2021-06-24T14:40:18.837568Z",
     "iopub.status.busy": "2021-06-24T14:40:18.836866Z",
     "iopub.status.idle": "2021-06-24T14:40:18.840162Z",
     "shell.execute_reply": "2021-06-24T14:40:18.839330Z"
    },
    "jupyter": {
     "source_hidden": true
    },
    "papermill": {
     "duration": 0.012166,
     "end_time": "2021-06-24T14:40:18.840397",
     "exception": false,
     "start_time": "2021-06-24T14:40:18.828231",
     "status": "completed"
    },
    "tags": []
   },
   "outputs": [],
   "source": [
    "#%%capture cap --no-stderr\n",
    "#print(np.sqrt(mean_squared_error(y_test, pred)))"
   ]
  },
  {
   "cell_type": "code",
   "execution_count": 12,
   "metadata": {
    "execution": {
     "iopub.execute_input": "2021-06-24T14:40:18.856270Z",
     "iopub.status.busy": "2021-06-24T14:40:18.855626Z",
     "iopub.status.idle": "2021-06-24T14:40:18.859047Z",
     "shell.execute_reply": "2021-06-24T14:40:18.858299Z"
    },
    "jupyter": {
     "source_hidden": true
    },
    "papermill": {
     "duration": 0.012865,
     "end_time": "2021-06-24T14:40:18.859260",
     "exception": false,
     "start_time": "2021-06-24T14:40:18.846395",
     "status": "completed"
    },
    "tags": []
   },
   "outputs": [],
   "source": [
    "#with open(output_rmse, 'w') as f:\n",
    "#    f.write(cap.stdout)"
   ]
  },
  {
   "cell_type": "code",
   "execution_count": 13,
   "metadata": {
    "execution": {
     "iopub.execute_input": "2021-06-24T14:40:18.876814Z",
     "iopub.status.busy": "2021-06-24T14:40:18.876161Z",
     "iopub.status.idle": "2021-06-24T14:40:18.895719Z",
     "shell.execute_reply": "2021-06-24T14:40:18.895188Z"
    },
    "jupyter": {
     "source_hidden": true
    },
    "papermill": {
     "duration": 0.030725,
     "end_time": "2021-06-24T14:40:18.895922",
     "exception": false,
     "start_time": "2021-06-24T14:40:18.865197",
     "status": "completed"
    },
    "tags": []
   },
   "outputs": [
    {
     "data": {
      "text/plain": [
       "<sqlalchemy.engine.result.ResultProxy at 0x7eff1303e1d0>"
      ]
     },
     "execution_count": 13,
     "metadata": {},
     "output_type": "execute_result"
    }
   ],
   "source": [
    "cnx.execute(\"\"\"\n",
    "    INSERT INTO ml.accuracies (ml_id, ml_date, accuracy) VALUES ('{0}', '{1}', {2}) \n",
    "    ON CONFLICT (ml_id, ml_date) \n",
    "    DO\n",
    "        UPDATE SET accuracy = {2};\n",
    "    \"\"\".format(ml_id, ml_date, np.sqrt(mean_squared_error(y_test, pred))))"
   ]
  }
 ],
 "metadata": {
  "kernelspec": {
   "display_name": "Python 3",
   "language": "python",
   "name": "python3"
  },
  "language_info": {
   "codemirror_mode": {
    "name": "ipython",
    "version": 3
   },
   "file_extension": ".py",
   "mimetype": "text/x-python",
   "name": "python",
   "nbconvert_exporter": "python",
   "pygments_lexer": "ipython3",
   "version": "3.7.10"
  },
  "papermill": {
   "duration": 11.280142,
   "end_time": "2021-06-24T14:40:19.311752",
   "environment_variables": {},
   "exception": null,
   "input_path": "/usr/local/airflow/include/notebooks/avocado_prediction.ipynb",
   "output_path": "/tmp/out-model-avocado-prediction-auto_100.ipynb",
   "parameters": {
    "filepath": "/tmp/avocado.csv",
    "max_features": "auto",
    "ml_id": "auto_100",
    "n_estimators": 100
   },
   "start_time": "2021-06-24T14:40:08.031610",
   "version": "2.1.2"
  }
 },
 "nbformat": 4,
 "nbformat_minor": 4
}