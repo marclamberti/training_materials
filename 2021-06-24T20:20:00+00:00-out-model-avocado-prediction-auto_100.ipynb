{
 "cells": [
  {
   "cell_type": "code",
   "execution_count": 1,
   "metadata": {
    "_cell_guid": "79c7e3d0-c299-4dcb-8224-4455121ee9b0",
    "_uuid": "d629ff2d2480ee46fbb7e2d37f6b5fab8052498a",
    "execution": {
     "iopub.execute_input": "2021-06-24T20:30:09.528917Z",
     "iopub.status.busy": "2021-06-24T20:30:09.528026Z",
     "iopub.status.idle": "2021-06-24T20:30:10.183068Z",
     "shell.execute_reply": "2021-06-24T20:30:10.182261Z"
    },
    "jupyter": {
     "source_hidden": true
    },
    "papermill": {
     "duration": 0.670141,
     "end_time": "2021-06-24T20:30:10.183585",
     "exception": false,
     "start_time": "2021-06-24T20:30:09.513444",
     "status": "completed"
    },
    "tags": []
   },
   "outputs": [],
   "source": [
    "import pandas as pd\n",
    "import numpy as np\n",
    "from sqlalchemy import create_engine\n",
    "from datetime import date\n",
    "from sklearn.metrics import mean_squared_error"
   ]
  },
  {
   "cell_type": "code",
   "execution_count": 2,
   "metadata": {
    "execution": {
     "iopub.execute_input": "2021-06-24T20:30:10.203734Z",
     "iopub.status.busy": "2021-06-24T20:30:10.202968Z",
     "iopub.status.idle": "2021-06-24T20:30:10.230093Z",
     "shell.execute_reply": "2021-06-24T20:30:10.229423Z"
    },
    "jupyter": {
     "source_hidden": true
    },
    "papermill": {
     "duration": 0.039452,
     "end_time": "2021-06-24T20:30:10.230295",
     "exception": false,
     "start_time": "2021-06-24T20:30:10.190843",
     "status": "completed"
    },
    "tags": []
   },
   "outputs": [],
   "source": [
    "# THIS IS PURELY FOR TEST PURPOSE NEVER DO THAT IN PRODUCTION\n",
    "POSTGRES_ADDRESS='postgres'\n",
    "POSTGRES_PORT='5432'\n",
    "POSTGRES_USERNAME='postgres'\n",
    "POSTGRES_PASSWORD='postgres'\n",
    "\n",
    "postgres_conn = 'postgresql://{0}:{1}@{2}:{3}/'.format(POSTGRES_USERNAME, POSTGRES_PASSWORD, POSTGRES_ADDRESS, POSTGRES_PORT)\n",
    "\n",
    "# Create the connection\n",
    "cnx = create_engine(postgres_conn)\n"
   ]
  },
  {
   "cell_type": "markdown",
   "metadata": {
    "_uuid": "1998755ef10683262b29765345cff1c1c7d10b15",
    "papermill": {
     "duration": 0.005269,
     "end_time": "2021-06-24T20:30:10.240977",
     "exception": false,
     "start_time": "2021-06-24T20:30:10.235708",
     "status": "completed"
    },
    "tags": []
   },
   "source": [
    "Read in the Avocado Prices csv file as a DataFrame called df"
   ]
  },
  {
   "cell_type": "code",
   "execution_count": 3,
   "metadata": {
    "execution": {
     "iopub.execute_input": "2021-06-24T20:30:10.256577Z",
     "iopub.status.busy": "2021-06-24T20:30:10.255950Z",
     "iopub.status.idle": "2021-06-24T20:30:10.258607Z",
     "shell.execute_reply": "2021-06-24T20:30:10.258140Z"
    },
    "jupyter": {
     "source_hidden": true
    },
    "papermill": {
     "duration": 0.012602,
     "end_time": "2021-06-24T20:30:10.258804",
     "exception": false,
     "start_time": "2021-06-24T20:30:10.246202",
     "status": "completed"
    },
    "tags": [
     "parameters"
    ]
   },
   "outputs": [],
   "source": [
    "# Parameterized\n",
    "\n",
    "filepath='avocado.csv'\n",
    "ml_id='auto_100'\n",
    "ml_date=date.today()\n",
    "n_estimators = 100\n",
    "max_features = 'auto'"
   ]
  },
  {
   "cell_type": "code",
   "execution_count": 4,
   "id": "367552d9",
   "metadata": {
    "execution": {
     "iopub.execute_input": "2021-06-24T20:30:10.274702Z",
     "iopub.status.busy": "2021-06-24T20:30:10.274094Z",
     "iopub.status.idle": "2021-06-24T20:30:10.276854Z",
     "shell.execute_reply": "2021-06-24T20:30:10.277435Z"
    },
    "jupyter": {
     "source_hidden": true
    },
    "papermill": {
     "duration": 0.013518,
     "end_time": "2021-06-24T20:30:10.277694",
     "exception": false,
     "start_time": "2021-06-24T20:30:10.264176",
     "status": "completed"
    },
    "tags": [
     "injected-parameters"
    ]
   },
   "outputs": [],
   "source": [
    "# Parameters\n",
    "filepath = \"/tmp/avocado.csv\"\n",
    "n_estimators = 100\n",
    "max_features = \"auto\"\n",
    "ml_id = \"auto_100\"\n"
   ]
  },
  {
   "cell_type": "code",
   "execution_count": 5,
   "metadata": {
    "_uuid": "55d0e719eb8b91d763c1eacaf0f51ee0586486fc",
    "execution": {
     "iopub.execute_input": "2021-06-24T20:30:10.294005Z",
     "iopub.status.busy": "2021-06-24T20:30:10.293404Z",
     "iopub.status.idle": "2021-06-24T20:30:10.324459Z",
     "shell.execute_reply": "2021-06-24T20:30:10.324004Z"
    },
    "jupyter": {
     "source_hidden": true
    },
    "papermill": {
     "duration": 0.040827,
     "end_time": "2021-06-24T20:30:10.324692",
     "exception": false,
     "start_time": "2021-06-24T20:30:10.283865",
     "status": "completed"
    },
    "tags": []
   },
   "outputs": [],
   "source": [
    "df= pd.read_csv(filepath)"
   ]
  },
  {
   "cell_type": "markdown",
   "metadata": {
    "_uuid": "434e0457f550e2200424e5ec26162e1aa5904005",
    "papermill": {
     "duration": 0.005773,
     "end_time": "2021-06-24T20:30:10.336051",
     "exception": false,
     "start_time": "2021-06-24T20:30:10.330278",
     "status": "completed"
    },
    "tags": []
   },
   "source": [
    "The Feature \"Unnamed:0\" is just a representation of the indexes, so it's useless to keep it, lets remove it !"
   ]
  },
  {
   "cell_type": "code",
   "execution_count": 6,
   "metadata": {
    "_uuid": "9875398e37728dc3141fed4228be337a4735beb6",
    "execution": {
     "iopub.execute_input": "2021-06-24T20:30:10.353756Z",
     "iopub.status.busy": "2021-06-24T20:30:10.353083Z",
     "iopub.status.idle": "2021-06-24T20:30:10.356044Z",
     "shell.execute_reply": "2021-06-24T20:30:10.355380Z"
    },
    "jupyter": {
     "source_hidden": true
    },
    "papermill": {
     "duration": 0.01484,
     "end_time": "2021-06-24T20:30:10.356248",
     "exception": false,
     "start_time": "2021-06-24T20:30:10.341408",
     "status": "completed"
    },
    "tags": []
   },
   "outputs": [],
   "source": [
    "df.drop('Unnamed: 0',axis=1,inplace=True)"
   ]
  },
  {
   "cell_type": "markdown",
   "metadata": {
    "_uuid": "12e94ad381e4cb8d2c8a9bbe08ce07ab5d49c040",
    "papermill": {
     "duration": 0.005817,
     "end_time": "2021-06-24T20:30:10.367795",
     "exception": false,
     "start_time": "2021-06-24T20:30:10.361978",
     "status": "completed"
    },
    "tags": []
   },
   "source": [
    "well as a first observation we can see that we are lucky, we dont have any missing values (18249 complete data) and 13 columns.\n",
    "Now let's do some Feature Engineering on the Date Feature so we can be able to use the day and the month columns in building our machine learning model later. ( I didn't mention the year because its already there in data frame)"
   ]
  },
  {
   "cell_type": "code",
   "execution_count": 7,
   "metadata": {
    "_uuid": "f031639ce794656e877484d1c9c356df7028177f",
    "execution": {
     "iopub.execute_input": "2021-06-24T20:30:10.385044Z",
     "iopub.status.busy": "2021-06-24T20:30:10.384181Z",
     "iopub.status.idle": "2021-06-24T20:30:10.501886Z",
     "shell.execute_reply": "2021-06-24T20:30:10.501426Z"
    },
    "jupyter": {
     "source_hidden": true
    },
    "papermill": {
     "duration": 0.129016,
     "end_time": "2021-06-24T20:30:10.502095",
     "exception": false,
     "start_time": "2021-06-24T20:30:10.373079",
     "status": "completed"
    },
    "tags": []
   },
   "outputs": [],
   "source": [
    "df['Date']=pd.to_datetime(df['Date'])\n",
    "df['Month']=df['Date'].apply(lambda x:x.month)\n",
    "df['Day']=df['Date'].apply(lambda x:x.day)"
   ]
  },
  {
   "cell_type": "markdown",
   "metadata": {
    "_uuid": "ebdcac9924ce3e366fd3a75170682f7113385b7a",
    "papermill": {
     "duration": 0.005558,
     "end_time": "2021-06-24T20:30:10.512876",
     "exception": false,
     "start_time": "2021-06-24T20:30:10.507318",
     "status": "completed"
    },
    "tags": []
   },
   "source": [
    "as we can see we have 54 regions and 2 unique types, so it's going to be easy to to transform the type feature to dummies, but for the region its going to be a bit complexe so I decided to drop the entire column.\n",
    "I will drop the Date Feature as well because I already have 3 other columns for the Year, Month and Day."
   ]
  },
  {
   "cell_type": "code",
   "execution_count": 8,
   "metadata": {
    "_uuid": "a798682da34327b731ef262985fd50ba68e06460",
    "execution": {
     "iopub.execute_input": "2021-06-24T20:30:10.534933Z",
     "iopub.status.busy": "2021-06-24T20:30:10.529602Z",
     "iopub.status.idle": "2021-06-24T20:30:10.540224Z",
     "shell.execute_reply": "2021-06-24T20:30:10.539744Z"
    },
    "jupyter": {
     "source_hidden": true
    },
    "papermill": {
     "duration": 0.021771,
     "end_time": "2021-06-24T20:30:10.540427",
     "exception": false,
     "start_time": "2021-06-24T20:30:10.518656",
     "status": "completed"
    },
    "tags": []
   },
   "outputs": [],
   "source": [
    "df_final=pd.get_dummies(df.drop(['region','Date'],axis=1),drop_first=True)"
   ]
  },
  {
   "cell_type": "markdown",
   "metadata": {
    "_uuid": "8b74a6b88cb3e9b3e1d1e987e061048f203c7364",
    "papermill": {
     "duration": 0.006301,
     "end_time": "2021-06-24T20:30:10.552382",
     "exception": false,
     "start_time": "2021-06-24T20:30:10.546081",
     "status": "completed"
    },
    "tags": []
   },
   "source": [
    "Now our data are ready! lets apply our model which is going to be the Linear Regression because our Target variable 'AveragePrice'is continuous.\n",
    "Let's now begin to train out regression model! We will need to first split up our data into an X array that contains the features to train on, and a y array with the target variable"
   ]
  },
  {
   "cell_type": "code",
   "execution_count": 9,
   "metadata": {
    "_uuid": "830591f99de9715241e688bf9ce265e979401ff5",
    "execution": {
     "iopub.execute_input": "2021-06-24T20:30:10.569306Z",
     "iopub.status.busy": "2021-06-24T20:30:10.568607Z",
     "iopub.status.idle": "2021-06-24T20:30:10.580178Z",
     "shell.execute_reply": "2021-06-24T20:30:10.579501Z"
    },
    "jupyter": {
     "source_hidden": true
    },
    "papermill": {
     "duration": 0.022438,
     "end_time": "2021-06-24T20:30:10.580385",
     "exception": false,
     "start_time": "2021-06-24T20:30:10.557947",
     "status": "completed"
    },
    "tags": []
   },
   "outputs": [],
   "source": [
    "X=df_final.iloc[:,1:14]\n",
    "y=df_final['AveragePrice']\n",
    "from sklearn.model_selection import train_test_split\n",
    "X_train,X_test,y_train,y_test=train_test_split(X,y,test_size=0.2,random_state=42)"
   ]
  },
  {
   "cell_type": "markdown",
   "metadata": {
    "_uuid": "ea730c77a31cde9de98263079a189accb8b5772b",
    "papermill": {
     "duration": 0.005665,
     "end_time": "2021-06-24T20:30:10.592097",
     "exception": false,
     "start_time": "2021-06-24T20:30:10.586432",
     "status": "completed"
    },
    "tags": []
   },
   "source": [
    "Creating and Training the Model"
   ]
  },
  {
   "cell_type": "code",
   "execution_count": 10,
   "metadata": {
    "_uuid": "eb37015e78974e5fd2ae7e13d065c8ab0a9c6948",
    "execution": {
     "iopub.execute_input": "2021-06-24T20:30:10.608429Z",
     "iopub.status.busy": "2021-06-24T20:30:10.607843Z",
     "iopub.status.idle": "2021-06-24T20:30:19.232279Z",
     "shell.execute_reply": "2021-06-24T20:30:19.231017Z"
    },
    "jupyter": {
     "source_hidden": true
    },
    "papermill": {
     "duration": 8.634658,
     "end_time": "2021-06-24T20:30:19.232552",
     "exception": false,
     "start_time": "2021-06-24T20:30:10.597894",
     "status": "completed"
    },
    "tags": []
   },
   "outputs": [],
   "source": [
    "from sklearn.ensemble import RandomForestRegressor\n",
    "rdr = RandomForestRegressor(\n",
    "    n_estimators=n_estimators,\n",
    "    max_features=max_features\n",
    ")\n",
    "rdr.fit(X_train,y_train)\n",
    "pred=rdr.predict(X_test)"
   ]
  },
  {
   "cell_type": "code",
   "execution_count": 11,
   "metadata": {
    "_uuid": "7ed5b8d4e8abb44a4b548c13ac9fb2d65227d1c5",
    "execution": {
     "iopub.execute_input": "2021-06-24T20:30:19.249696Z",
     "iopub.status.busy": "2021-06-24T20:30:19.249015Z",
     "iopub.status.idle": "2021-06-24T20:30:19.253593Z",
     "shell.execute_reply": "2021-06-24T20:30:19.253119Z"
    },
    "jupyter": {
     "source_hidden": true
    },
    "papermill": {
     "duration": 0.015207,
     "end_time": "2021-06-24T20:30:19.253795",
     "exception": false,
     "start_time": "2021-06-24T20:30:19.238588",
     "status": "completed"
    },
    "tags": []
   },
   "outputs": [],
   "source": [
    "#%%capture cap --no-stderr\n",
    "#print(np.sqrt(mean_squared_error(y_test, pred)))"
   ]
  },
  {
   "cell_type": "code",
   "execution_count": 12,
   "metadata": {
    "execution": {
     "iopub.execute_input": "2021-06-24T20:30:19.269578Z",
     "iopub.status.busy": "2021-06-24T20:30:19.268928Z",
     "iopub.status.idle": "2021-06-24T20:30:19.272000Z",
     "shell.execute_reply": "2021-06-24T20:30:19.271464Z"
    },
    "jupyter": {
     "source_hidden": true
    },
    "papermill": {
     "duration": 0.012274,
     "end_time": "2021-06-24T20:30:19.272208",
     "exception": false,
     "start_time": "2021-06-24T20:30:19.259934",
     "status": "completed"
    },
    "tags": []
   },
   "outputs": [],
   "source": [
    "#with open(output_rmse, 'w') as f:\n",
    "#    f.write(cap.stdout)"
   ]
  },
  {
   "cell_type": "code",
   "execution_count": 13,
   "metadata": {
    "execution": {
     "iopub.execute_input": "2021-06-24T20:30:19.290724Z",
     "iopub.status.busy": "2021-06-24T20:30:19.290078Z",
     "iopub.status.idle": "2021-06-24T20:30:19.311864Z",
     "shell.execute_reply": "2021-06-24T20:30:19.311339Z"
    },
    "jupyter": {
     "source_hidden": true
    },
    "papermill": {
     "duration": 0.033179,
     "end_time": "2021-06-24T20:30:19.312078",
     "exception": false,
     "start_time": "2021-06-24T20:30:19.278899",
     "status": "completed"
    },
    "tags": []
   },
   "outputs": [
    {
     "data": {
      "text/plain": [
       "<sqlalchemy.engine.result.ResultProxy at 0x7fc2f4ede4d0>"
      ]
     },
     "execution_count": 13,
     "metadata": {},
     "output_type": "execute_result"
    }
   ],
   "source": [
    "cnx.execute(\"\"\"\n",
    "    INSERT INTO ml.accuracies (ml_id, ml_date, accuracy) VALUES ('{0}', '{1}', {2}) \n",
    "    ON CONFLICT (ml_id, ml_date) \n",
    "    DO\n",
    "        UPDATE SET accuracy = {2};\n",
    "    \"\"\".format(ml_id, ml_date, np.sqrt(mean_squared_error(y_test, pred))))"
   ]
  }
 ],
 "metadata": {
  "kernelspec": {
   "display_name": "Python 3",
   "language": "python",
   "name": "python3"
  },
  "language_info": {
   "codemirror_mode": {
    "name": "ipython",
    "version": 3
   },
   "file_extension": ".py",
   "mimetype": "text/x-python",
   "name": "python",
   "nbconvert_exporter": "python",
   "pygments_lexer": "ipython3",
   "version": "3.7.10"
  },
  "papermill": {
   "duration": 11.370923,
   "end_time": "2021-06-24T20:30:19.731278",
   "environment_variables": {},
   "exception": null,
   "input_path": "/usr/local/airflow/include/notebooks/avocado_prediction.ipynb",
   "output_path": "/tmp/out-model-avocado-prediction-auto_100.ipynb",
   "parameters": {
    "filepath": "/tmp/avocado.csv",
    "max_features": "auto",
    "ml_id": "auto_100",
    "n_estimators": 100
   },
   "start_time": "2021-06-24T20:30:08.360355",
   "version": "2.1.2"
  }
 },
 "nbformat": 4,
 "nbformat_minor": 4
}