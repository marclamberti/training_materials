{
 "cells": [
  {
   "cell_type": "code",
   "execution_count": 1,
   "metadata": {
    "_cell_guid": "79c7e3d0-c299-4dcb-8224-4455121ee9b0",
    "_uuid": "d629ff2d2480ee46fbb7e2d37f6b5fab8052498a",
    "execution": {
     "iopub.execute_input": "2021-06-25T06:35:40.845024Z",
     "iopub.status.busy": "2021-06-25T06:35:40.843194Z",
     "iopub.status.idle": "2021-06-25T06:35:42.581661Z",
     "shell.execute_reply": "2021-06-25T06:35:42.579516Z"
    },
    "jupyter": {
     "source_hidden": true
    },
    "papermill": {
     "duration": 1.768847,
     "end_time": "2021-06-25T06:35:42.582357",
     "exception": false,
     "start_time": "2021-06-25T06:35:40.813510",
     "status": "completed"
    },
    "tags": []
   },
   "outputs": [],
   "source": [
    "import pandas as pd\n",
    "import numpy as np\n",
    "from sqlalchemy import create_engine\n",
    "from datetime import date\n",
    "from sklearn.metrics import mean_squared_error"
   ]
  },
  {
   "cell_type": "code",
   "execution_count": 2,
   "metadata": {
    "execution": {
     "iopub.execute_input": "2021-06-25T06:35:42.628293Z",
     "iopub.status.busy": "2021-06-25T06:35:42.626591Z",
     "iopub.status.idle": "2021-06-25T06:35:42.696869Z",
     "shell.execute_reply": "2021-06-25T06:35:42.698138Z"
    },
    "jupyter": {
     "source_hidden": true
    },
    "papermill": {
     "duration": 0.100241,
     "end_time": "2021-06-25T06:35:42.698897",
     "exception": false,
     "start_time": "2021-06-25T06:35:42.598656",
     "status": "completed"
    },
    "tags": []
   },
   "outputs": [],
   "source": [
    "# THIS IS PURELY FOR TEST PURPOSE NEVER DO THAT IN PRODUCTION\n",
    "POSTGRES_ADDRESS='postgres'\n",
    "POSTGRES_PORT='5432'\n",
    "POSTGRES_USERNAME='postgres'\n",
    "POSTGRES_PASSWORD='postgres'\n",
    "\n",
    "postgres_conn = 'postgresql://{0}:{1}@{2}:{3}/'.format(POSTGRES_USERNAME, POSTGRES_PASSWORD, POSTGRES_ADDRESS, POSTGRES_PORT)\n",
    "\n",
    "# Create the connection\n",
    "cnx = create_engine(postgres_conn)\n"
   ]
  },
  {
   "cell_type": "markdown",
   "metadata": {
    "_uuid": "1998755ef10683262b29765345cff1c1c7d10b15",
    "papermill": {
     "duration": 0.015002,
     "end_time": "2021-06-25T06:35:42.728692",
     "exception": false,
     "start_time": "2021-06-25T06:35:42.713690",
     "status": "completed"
    },
    "tags": []
   },
   "source": [
    "Read in the Avocado Prices csv file as a DataFrame called df"
   ]
  },
  {
   "cell_type": "code",
   "execution_count": 3,
   "metadata": {
    "execution": {
     "iopub.execute_input": "2021-06-25T06:35:42.769743Z",
     "iopub.status.busy": "2021-06-25T06:35:42.767956Z",
     "iopub.status.idle": "2021-06-25T06:35:42.776939Z",
     "shell.execute_reply": "2021-06-25T06:35:42.775121Z"
    },
    "jupyter": {
     "source_hidden": true
    },
    "papermill": {
     "duration": 0.034044,
     "end_time": "2021-06-25T06:35:42.777442",
     "exception": false,
     "start_time": "2021-06-25T06:35:42.743398",
     "status": "completed"
    },
    "tags": [
     "parameters"
    ]
   },
   "outputs": [],
   "source": [
    "# Parameterized\n",
    "\n",
    "filepath='avocado.csv'\n",
    "ml_id='auto_100'\n",
    "ml_date=date.today()\n",
    "n_estimators = 100\n",
    "max_features = 'auto'"
   ]
  },
  {
   "cell_type": "code",
   "execution_count": 4,
   "id": "05841a99",
   "metadata": {
    "execution": {
     "iopub.execute_input": "2021-06-25T06:35:42.818259Z",
     "iopub.status.busy": "2021-06-25T06:35:42.816507Z",
     "iopub.status.idle": "2021-06-25T06:35:42.820882Z",
     "shell.execute_reply": "2021-06-25T06:35:42.822581Z"
    },
    "jupyter": {
     "source_hidden": true
    },
    "papermill": {
     "duration": 0.030738,
     "end_time": "2021-06-25T06:35:42.823256",
     "exception": false,
     "start_time": "2021-06-25T06:35:42.792518",
     "status": "completed"
    },
    "tags": [
     "injected-parameters"
    ]
   },
   "outputs": [],
   "source": [
    "# Parameters\n",
    "filepath = \"/tmp/avocado.csv\"\n",
    "n_estimators = 100\n",
    "max_features = \"auto\"\n",
    "ml_id = \"auto_100\"\n"
   ]
  },
  {
   "cell_type": "code",
   "execution_count": 5,
   "metadata": {
    "_uuid": "55d0e719eb8b91d763c1eacaf0f51ee0586486fc",
    "execution": {
     "iopub.execute_input": "2021-06-25T06:35:42.868233Z",
     "iopub.status.busy": "2021-06-25T06:35:42.866588Z",
     "iopub.status.idle": "2021-06-25T06:35:42.949639Z",
     "shell.execute_reply": "2021-06-25T06:35:42.947772Z"
    },
    "jupyter": {
     "source_hidden": true
    },
    "papermill": {
     "duration": 0.1112,
     "end_time": "2021-06-25T06:35:42.950293",
     "exception": false,
     "start_time": "2021-06-25T06:35:42.839093",
     "status": "completed"
    },
    "tags": []
   },
   "outputs": [],
   "source": [
    "df= pd.read_csv(filepath)"
   ]
  },
  {
   "cell_type": "markdown",
   "metadata": {
    "_uuid": "434e0457f550e2200424e5ec26162e1aa5904005",
    "papermill": {
     "duration": 0.015804,
     "end_time": "2021-06-25T06:35:42.982165",
     "exception": false,
     "start_time": "2021-06-25T06:35:42.966361",
     "status": "completed"
    },
    "tags": []
   },
   "source": [
    "The Feature \"Unnamed:0\" is just a representation of the indexes, so it's useless to keep it, lets remove it !"
   ]
  },
  {
   "cell_type": "code",
   "execution_count": 6,
   "metadata": {
    "_uuid": "9875398e37728dc3141fed4228be337a4735beb6",
    "execution": {
     "iopub.execute_input": "2021-06-25T06:35:43.031967Z",
     "iopub.status.busy": "2021-06-25T06:35:43.030199Z",
     "iopub.status.idle": "2021-06-25T06:35:43.037000Z",
     "shell.execute_reply": "2021-06-25T06:35:43.038440Z"
    },
    "jupyter": {
     "source_hidden": true
    },
    "papermill": {
     "duration": 0.039239,
     "end_time": "2021-06-25T06:35:43.039125",
     "exception": false,
     "start_time": "2021-06-25T06:35:42.999886",
     "status": "completed"
    },
    "tags": []
   },
   "outputs": [],
   "source": [
    "df.drop('Unnamed: 0',axis=1,inplace=True)"
   ]
  },
  {
   "cell_type": "markdown",
   "metadata": {
    "_uuid": "12e94ad381e4cb8d2c8a9bbe08ce07ab5d49c040",
    "papermill": {
     "duration": 0.016392,
     "end_time": "2021-06-25T06:35:43.071437",
     "exception": false,
     "start_time": "2021-06-25T06:35:43.055045",
     "status": "completed"
    },
    "tags": []
   },
   "source": [
    "well as a first observation we can see that we are lucky, we dont have any missing values (18249 complete data) and 13 columns.\n",
    "Now let's do some Feature Engineering on the Date Feature so we can be able to use the day and the month columns in building our machine learning model later. ( I didn't mention the year because its already there in data frame)"
   ]
  },
  {
   "cell_type": "code",
   "execution_count": 7,
   "metadata": {
    "_uuid": "f031639ce794656e877484d1c9c356df7028177f",
    "execution": {
     "iopub.execute_input": "2021-06-25T06:35:43.119155Z",
     "iopub.status.busy": "2021-06-25T06:35:43.117370Z",
     "iopub.status.idle": "2021-06-25T06:35:43.462187Z",
     "shell.execute_reply": "2021-06-25T06:35:43.460864Z"
    },
    "jupyter": {
     "source_hidden": true
    },
    "papermill": {
     "duration": 0.375338,
     "end_time": "2021-06-25T06:35:43.462839",
     "exception": false,
     "start_time": "2021-06-25T06:35:43.087501",
     "status": "completed"
    },
    "tags": []
   },
   "outputs": [],
   "source": [
    "df['Date']=pd.to_datetime(df['Date'])\n",
    "df['Month']=df['Date'].apply(lambda x:x.month)\n",
    "df['Day']=df['Date'].apply(lambda x:x.day)"
   ]
  },
  {
   "cell_type": "markdown",
   "metadata": {
    "_uuid": "ebdcac9924ce3e366fd3a75170682f7113385b7a",
    "papermill": {
     "duration": 0.016276,
     "end_time": "2021-06-25T06:35:43.495620",
     "exception": false,
     "start_time": "2021-06-25T06:35:43.479344",
     "status": "completed"
    },
    "tags": []
   },
   "source": [
    "as we can see we have 54 regions and 2 unique types, so it's going to be easy to to transform the type feature to dummies, but for the region its going to be a bit complexe so I decided to drop the entire column.\n",
    "I will drop the Date Feature as well because I already have 3 other columns for the Year, Month and Day."
   ]
  },
  {
   "cell_type": "code",
   "execution_count": 8,
   "metadata": {
    "_uuid": "a798682da34327b731ef262985fd50ba68e06460",
    "execution": {
     "iopub.execute_input": "2021-06-25T06:35:43.541150Z",
     "iopub.status.busy": "2021-06-25T06:35:43.539301Z",
     "iopub.status.idle": "2021-06-25T06:35:43.565514Z",
     "shell.execute_reply": "2021-06-25T06:35:43.563631Z"
    },
    "jupyter": {
     "source_hidden": true
    },
    "papermill": {
     "duration": 0.054984,
     "end_time": "2021-06-25T06:35:43.566141",
     "exception": false,
     "start_time": "2021-06-25T06:35:43.511157",
     "status": "completed"
    },
    "tags": []
   },
   "outputs": [],
   "source": [
    "df_final=pd.get_dummies(df.drop(['region','Date'],axis=1),drop_first=True)"
   ]
  },
  {
   "cell_type": "markdown",
   "metadata": {
    "_uuid": "8b74a6b88cb3e9b3e1d1e987e061048f203c7364",
    "papermill": {
     "duration": 0.015988,
     "end_time": "2021-06-25T06:35:43.598187",
     "exception": false,
     "start_time": "2021-06-25T06:35:43.582199",
     "status": "completed"
    },
    "tags": []
   },
   "source": [
    "Now our data are ready! lets apply our model which is going to be the Linear Regression because our Target variable 'AveragePrice'is continuous.\n",
    "Let's now begin to train out regression model! We will need to first split up our data into an X array that contains the features to train on, and a y array with the target variable"
   ]
  },
  {
   "cell_type": "code",
   "execution_count": 9,
   "metadata": {
    "_uuid": "830591f99de9715241e688bf9ce265e979401ff5",
    "execution": {
     "iopub.execute_input": "2021-06-25T06:35:43.644578Z",
     "iopub.status.busy": "2021-06-25T06:35:43.642899Z",
     "iopub.status.idle": "2021-06-25T06:35:43.673067Z",
     "shell.execute_reply": "2021-06-25T06:35:43.671635Z"
    },
    "jupyter": {
     "source_hidden": true
    },
    "papermill": {
     "duration": 0.059529,
     "end_time": "2021-06-25T06:35:43.673598",
     "exception": false,
     "start_time": "2021-06-25T06:35:43.614069",
     "status": "completed"
    },
    "tags": []
   },
   "outputs": [],
   "source": [
    "X=df_final.iloc[:,1:14]\n",
    "y=df_final['AveragePrice']\n",
    "from sklearn.model_selection import train_test_split\n",
    "X_train,X_test,y_train,y_test=train_test_split(X,y,test_size=0.2,random_state=42)"
   ]
  },
  {
   "cell_type": "markdown",
   "metadata": {
    "_uuid": "ea730c77a31cde9de98263079a189accb8b5772b",
    "papermill": {
     "duration": 0.01595,
     "end_time": "2021-06-25T06:35:43.705585",
     "exception": false,
     "start_time": "2021-06-25T06:35:43.689635",
     "status": "completed"
    },
    "tags": []
   },
   "source": [
    "Creating and Training the Model"
   ]
  },
  {
   "cell_type": "code",
   "execution_count": 10,
   "metadata": {
    "_uuid": "eb37015e78974e5fd2ae7e13d065c8ab0a9c6948",
    "execution": {
     "iopub.execute_input": "2021-06-25T06:35:43.752468Z",
     "iopub.status.busy": "2021-06-25T06:35:43.750568Z",
     "iopub.status.idle": "2021-06-25T06:36:07.527991Z",
     "shell.execute_reply": "2021-06-25T06:36:07.525937Z"
    },
    "jupyter": {
     "source_hidden": true
    },
    "papermill": {
     "duration": 23.807175,
     "end_time": "2021-06-25T06:36:07.528642",
     "exception": false,
     "start_time": "2021-06-25T06:35:43.721467",
     "status": "completed"
    },
    "tags": []
   },
   "outputs": [],
   "source": [
    "from sklearn.ensemble import RandomForestRegressor\n",
    "rdr = RandomForestRegressor(\n",
    "    n_estimators=n_estimators,\n",
    "    max_features=max_features\n",
    ")\n",
    "rdr.fit(X_train,y_train)\n",
    "pred=rdr.predict(X_test)"
   ]
  },
  {
   "cell_type": "code",
   "execution_count": 11,
   "metadata": {
    "_uuid": "7ed5b8d4e8abb44a4b548c13ac9fb2d65227d1c5",
    "execution": {
     "iopub.execute_input": "2021-06-25T06:36:07.574542Z",
     "iopub.status.busy": "2021-06-25T06:36:07.572356Z",
     "iopub.status.idle": "2021-06-25T06:36:07.578366Z",
     "shell.execute_reply": "2021-06-25T06:36:07.579432Z"
    },
    "jupyter": {
     "source_hidden": true
    },
    "papermill": {
     "duration": 0.033784,
     "end_time": "2021-06-25T06:36:07.580170",
     "exception": false,
     "start_time": "2021-06-25T06:36:07.546386",
     "status": "completed"
    },
    "tags": []
   },
   "outputs": [],
   "source": [
    "#%%capture cap --no-stderr\n",
    "#print(np.sqrt(mean_squared_error(y_test, pred)))"
   ]
  },
  {
   "cell_type": "code",
   "execution_count": 12,
   "metadata": {
    "execution": {
     "iopub.execute_input": "2021-06-25T06:36:07.622984Z",
     "iopub.status.busy": "2021-06-25T06:36:07.621146Z",
     "iopub.status.idle": "2021-06-25T06:36:07.629164Z",
     "shell.execute_reply": "2021-06-25T06:36:07.627530Z"
    },
    "jupyter": {
     "source_hidden": true
    },
    "papermill": {
     "duration": 0.032796,
     "end_time": "2021-06-25T06:36:07.629794",
     "exception": false,
     "start_time": "2021-06-25T06:36:07.596998",
     "status": "completed"
    },
    "tags": []
   },
   "outputs": [],
   "source": [
    "#with open(output_rmse, 'w') as f:\n",
    "#    f.write(cap.stdout)"
   ]
  },
  {
   "cell_type": "code",
   "execution_count": 13,
   "metadata": {
    "execution": {
     "iopub.execute_input": "2021-06-25T06:36:07.676102Z",
     "iopub.status.busy": "2021-06-25T06:36:07.674435Z",
     "iopub.status.idle": "2021-06-25T06:36:07.732719Z",
     "shell.execute_reply": "2021-06-25T06:36:07.733915Z"
    },
    "jupyter": {
     "source_hidden": true
    },
    "papermill": {
     "duration": 0.088116,
     "end_time": "2021-06-25T06:36:07.734650",
     "exception": false,
     "start_time": "2021-06-25T06:36:07.646534",
     "status": "completed"
    },
    "tags": []
   },
   "outputs": [
    {
     "data": {
      "text/plain": [
       "<sqlalchemy.engine.result.ResultProxy at 0x7fb4eaae6910>"
      ]
     },
     "execution_count": 13,
     "metadata": {},
     "output_type": "execute_result"
    }
   ],
   "source": [
    "cnx.execute(\"\"\"\n",
    "    INSERT INTO ml.accuracies (ml_id, ml_date, accuracy) VALUES ('{0}', '{1}', {2}) \n",
    "    ON CONFLICT (ml_id, ml_date) \n",
    "    DO\n",
    "        UPDATE SET accuracy = {2};\n",
    "    \"\"\".format(ml_id, ml_date, np.sqrt(mean_squared_error(y_test, pred))))"
   ]
  }
 ],
 "metadata": {
  "kernelspec": {
   "display_name": "Python 3",
   "language": "python",
   "name": "python3"
  },
  "language_info": {
   "codemirror_mode": {
    "name": "ipython",
    "version": 3
   },
   "file_extension": ".py",
   "mimetype": "text/x-python",
   "name": "python",
   "nbconvert_exporter": "python",
   "pygments_lexer": "ipython3",
   "version": "3.7.10"
  },
  "papermill": {
   "duration": 30.948216,
   "end_time": "2021-06-25T06:36:09.320593",
   "environment_variables": {},
   "exception": null,
   "input_path": "/usr/local/airflow/include/notebooks/avocado_prediction.ipynb",
   "output_path": "/tmp/out-model-avocado-prediction-auto_100.ipynb",
   "parameters": {
    "filepath": "/tmp/avocado.csv",
    "max_features": "auto",
    "ml_id": "auto_100",
    "n_estimators": 100
   },
   "start_time": "2021-06-25T06:35:38.372377",
   "version": "2.1.2"
  }
 },
 "nbformat": 4,
 "nbformat_minor": 4
}