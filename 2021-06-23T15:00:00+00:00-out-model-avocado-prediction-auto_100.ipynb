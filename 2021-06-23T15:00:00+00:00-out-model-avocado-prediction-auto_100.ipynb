{
 "cells": [
  {
   "cell_type": "code",
   "execution_count": 1,
   "metadata": {
    "_cell_guid": "79c7e3d0-c299-4dcb-8224-4455121ee9b0",
    "_uuid": "d629ff2d2480ee46fbb7e2d37f6b5fab8052498a",
    "execution": {
     "iopub.execute_input": "2021-06-23T15:10:08.664317Z",
     "iopub.status.busy": "2021-06-23T15:10:08.663712Z",
     "iopub.status.idle": "2021-06-23T15:10:09.508480Z",
     "shell.execute_reply": "2021-06-23T15:10:09.506733Z"
    },
    "jupyter": {
     "source_hidden": true
    },
    "papermill": {
     "duration": 0.858215,
     "end_time": "2021-06-23T15:10:09.508921",
     "exception": false,
     "start_time": "2021-06-23T15:10:08.650706",
     "status": "completed"
    },
    "tags": []
   },
   "outputs": [],
   "source": [
    "import pandas as pd\n",
    "import numpy as np\n",
    "from sqlalchemy import create_engine\n",
    "from datetime import date\n",
    "from sklearn.metrics import mean_squared_error"
   ]
  },
  {
   "cell_type": "code",
   "execution_count": 2,
   "metadata": {
    "execution": {
     "iopub.execute_input": "2021-06-23T15:10:09.538618Z",
     "iopub.status.busy": "2021-06-23T15:10:09.537854Z",
     "iopub.status.idle": "2021-06-23T15:10:09.571787Z",
     "shell.execute_reply": "2021-06-23T15:10:09.570737Z"
    },
    "jupyter": {
     "source_hidden": true
    },
    "papermill": {
     "duration": 0.05198,
     "end_time": "2021-06-23T15:10:09.572343",
     "exception": false,
     "start_time": "2021-06-23T15:10:09.520363",
     "status": "completed"
    },
    "tags": []
   },
   "outputs": [],
   "source": [
    "# THIS IS PURELY FOR TEST PURPOSE NEVER DO THAT IN PRODUCTION\n",
    "POSTGRES_ADDRESS='postgres'\n",
    "POSTGRES_PORT='5432'\n",
    "POSTGRES_USERNAME='postgres'\n",
    "POSTGRES_PASSWORD='postgres'\n",
    "\n",
    "postgres_conn = 'postgresql://{0}:{1}@{2}:{3}/'.format(POSTGRES_USERNAME, POSTGRES_PASSWORD, POSTGRES_ADDRESS, POSTGRES_PORT)\n",
    "\n",
    "# Create the connection\n",
    "cnx = create_engine(postgres_conn)\n"
   ]
  },
  {
   "cell_type": "markdown",
   "metadata": {
    "_uuid": "1998755ef10683262b29765345cff1c1c7d10b15",
    "papermill": {
     "duration": 0.005954,
     "end_time": "2021-06-23T15:10:09.588175",
     "exception": false,
     "start_time": "2021-06-23T15:10:09.582221",
     "status": "completed"
    },
    "tags": []
   },
   "source": [
    "Read in the Avocado Prices csv file as a DataFrame called df"
   ]
  },
  {
   "cell_type": "code",
   "execution_count": 3,
   "metadata": {
    "execution": {
     "iopub.execute_input": "2021-06-23T15:10:09.609767Z",
     "iopub.status.busy": "2021-06-23T15:10:09.608510Z",
     "iopub.status.idle": "2021-06-23T15:10:09.612937Z",
     "shell.execute_reply": "2021-06-23T15:10:09.613594Z"
    },
    "jupyter": {
     "source_hidden": true
    },
    "papermill": {
     "duration": 0.016753,
     "end_time": "2021-06-23T15:10:09.613835",
     "exception": false,
     "start_time": "2021-06-23T15:10:09.597082",
     "status": "completed"
    },
    "tags": [
     "parameters"
    ]
   },
   "outputs": [],
   "source": [
    "# Parameterized\n",
    "\n",
    "filepath='avocado.csv'\n",
    "ml_id='auto_100'\n",
    "ml_date=date.today()\n",
    "n_estimators = 100\n",
    "max_features = 'auto'"
   ]
  },
  {
   "cell_type": "code",
   "execution_count": 4,
   "id": "23afa079",
   "metadata": {
    "execution": {
     "iopub.execute_input": "2021-06-23T15:10:09.632369Z",
     "iopub.status.busy": "2021-06-23T15:10:09.631278Z",
     "iopub.status.idle": "2021-06-23T15:10:09.634532Z",
     "shell.execute_reply": "2021-06-23T15:10:09.635104Z"
    },
    "jupyter": {
     "source_hidden": true
    },
    "papermill": {
     "duration": 0.014815,
     "end_time": "2021-06-23T15:10:09.635333",
     "exception": false,
     "start_time": "2021-06-23T15:10:09.620518",
     "status": "completed"
    },
    "tags": [
     "injected-parameters"
    ]
   },
   "outputs": [],
   "source": [
    "# Parameters\n",
    "filepath = \"/tmp/avocado.csv\"\n",
    "n_estimators = 100\n",
    "max_features = \"auto\"\n",
    "ml_id = \"auto_100\"\n"
   ]
  },
  {
   "cell_type": "code",
   "execution_count": 5,
   "metadata": {
    "_uuid": "55d0e719eb8b91d763c1eacaf0f51ee0586486fc",
    "execution": {
     "iopub.execute_input": "2021-06-23T15:10:09.654229Z",
     "iopub.status.busy": "2021-06-23T15:10:09.653601Z",
     "iopub.status.idle": "2021-06-23T15:10:09.688382Z",
     "shell.execute_reply": "2021-06-23T15:10:09.687754Z"
    },
    "jupyter": {
     "source_hidden": true
    },
    "papermill": {
     "duration": 0.047037,
     "end_time": "2021-06-23T15:10:09.688641",
     "exception": false,
     "start_time": "2021-06-23T15:10:09.641604",
     "status": "completed"
    },
    "tags": []
   },
   "outputs": [],
   "source": [
    "df= pd.read_csv(filepath)"
   ]
  },
  {
   "cell_type": "markdown",
   "metadata": {
    "_uuid": "434e0457f550e2200424e5ec26162e1aa5904005",
    "papermill": {
     "duration": 0.00663,
     "end_time": "2021-06-23T15:10:09.705415",
     "exception": false,
     "start_time": "2021-06-23T15:10:09.698785",
     "status": "completed"
    },
    "tags": []
   },
   "source": [
    "The Feature \"Unnamed:0\" is just a representation of the indexes, so it's useless to keep it, lets remove it !"
   ]
  },
  {
   "cell_type": "code",
   "execution_count": 6,
   "metadata": {
    "_uuid": "9875398e37728dc3141fed4228be337a4735beb6",
    "execution": {
     "iopub.execute_input": "2021-06-23T15:10:09.730448Z",
     "iopub.status.busy": "2021-06-23T15:10:09.728806Z",
     "iopub.status.idle": "2021-06-23T15:10:09.733888Z",
     "shell.execute_reply": "2021-06-23T15:10:09.734722Z"
    },
    "jupyter": {
     "source_hidden": true
    },
    "papermill": {
     "duration": 0.020243,
     "end_time": "2021-06-23T15:10:09.735022",
     "exception": false,
     "start_time": "2021-06-23T15:10:09.714779",
     "status": "completed"
    },
    "tags": []
   },
   "outputs": [],
   "source": [
    "df.drop('Unnamed: 0',axis=1,inplace=True)"
   ]
  },
  {
   "cell_type": "markdown",
   "metadata": {
    "_uuid": "12e94ad381e4cb8d2c8a9bbe08ce07ab5d49c040",
    "papermill": {
     "duration": 0.006099,
     "end_time": "2021-06-23T15:10:09.747263",
     "exception": false,
     "start_time": "2021-06-23T15:10:09.741164",
     "status": "completed"
    },
    "tags": []
   },
   "source": [
    "well as a first observation we can see that we are lucky, we dont have any missing values (18249 complete data) and 13 columns.\n",
    "Now let's do some Feature Engineering on the Date Feature so we can be able to use the day and the month columns in building our machine learning model later. ( I didn't mention the year because its already there in data frame)"
   ]
  },
  {
   "cell_type": "code",
   "execution_count": 7,
   "metadata": {
    "_uuid": "f031639ce794656e877484d1c9c356df7028177f",
    "execution": {
     "iopub.execute_input": "2021-06-23T15:10:09.768281Z",
     "iopub.status.busy": "2021-06-23T15:10:09.767617Z",
     "iopub.status.idle": "2021-06-23T15:10:09.923664Z",
     "shell.execute_reply": "2021-06-23T15:10:09.922977Z"
    },
    "jupyter": {
     "source_hidden": true
    },
    "papermill": {
     "duration": 0.168089,
     "end_time": "2021-06-23T15:10:09.923868",
     "exception": false,
     "start_time": "2021-06-23T15:10:09.755779",
     "status": "completed"
    },
    "tags": []
   },
   "outputs": [],
   "source": [
    "df['Date']=pd.to_datetime(df['Date'])\n",
    "df['Month']=df['Date'].apply(lambda x:x.month)\n",
    "df['Day']=df['Date'].apply(lambda x:x.day)"
   ]
  },
  {
   "cell_type": "markdown",
   "metadata": {
    "_uuid": "ebdcac9924ce3e366fd3a75170682f7113385b7a",
    "papermill": {
     "duration": 0.007224,
     "end_time": "2021-06-23T15:10:09.938832",
     "exception": false,
     "start_time": "2021-06-23T15:10:09.931608",
     "status": "completed"
    },
    "tags": []
   },
   "source": [
    "as we can see we have 54 regions and 2 unique types, so it's going to be easy to to transform the type feature to dummies, but for the region its going to be a bit complexe so I decided to drop the entire column.\n",
    "I will drop the Date Feature as well because I already have 3 other columns for the Year, Month and Day."
   ]
  },
  {
   "cell_type": "code",
   "execution_count": 8,
   "metadata": {
    "_uuid": "a798682da34327b731ef262985fd50ba68e06460",
    "execution": {
     "iopub.execute_input": "2021-06-23T15:10:09.959733Z",
     "iopub.status.busy": "2021-06-23T15:10:09.959045Z",
     "iopub.status.idle": "2021-06-23T15:10:09.970888Z",
     "shell.execute_reply": "2021-06-23T15:10:09.971649Z"
    },
    "jupyter": {
     "source_hidden": true
    },
    "papermill": {
     "duration": 0.027574,
     "end_time": "2021-06-23T15:10:09.972009",
     "exception": false,
     "start_time": "2021-06-23T15:10:09.944435",
     "status": "completed"
    },
    "tags": []
   },
   "outputs": [],
   "source": [
    "df_final=pd.get_dummies(df.drop(['region','Date'],axis=1),drop_first=True)"
   ]
  },
  {
   "cell_type": "markdown",
   "metadata": {
    "_uuid": "8b74a6b88cb3e9b3e1d1e987e061048f203c7364",
    "papermill": {
     "duration": 0.006347,
     "end_time": "2021-06-23T15:10:09.985997",
     "exception": false,
     "start_time": "2021-06-23T15:10:09.979650",
     "status": "completed"
    },
    "tags": []
   },
   "source": [
    "Now our data are ready! lets apply our model which is going to be the Linear Regression because our Target variable 'AveragePrice'is continuous.\n",
    "Let's now begin to train out regression model! We will need to first split up our data into an X array that contains the features to train on, and a y array with the target variable"
   ]
  },
  {
   "cell_type": "code",
   "execution_count": 9,
   "metadata": {
    "_uuid": "830591f99de9715241e688bf9ce265e979401ff5",
    "execution": {
     "iopub.execute_input": "2021-06-23T15:10:10.005866Z",
     "iopub.status.busy": "2021-06-23T15:10:10.005221Z",
     "iopub.status.idle": "2021-06-23T15:10:10.020069Z",
     "shell.execute_reply": "2021-06-23T15:10:10.019420Z"
    },
    "jupyter": {
     "source_hidden": true
    },
    "papermill": {
     "duration": 0.027438,
     "end_time": "2021-06-23T15:10:10.020324",
     "exception": false,
     "start_time": "2021-06-23T15:10:09.992886",
     "status": "completed"
    },
    "tags": []
   },
   "outputs": [],
   "source": [
    "X=df_final.iloc[:,1:14]\n",
    "y=df_final['AveragePrice']\n",
    "from sklearn.model_selection import train_test_split\n",
    "X_train,X_test,y_train,y_test=train_test_split(X,y,test_size=0.2,random_state=42)"
   ]
  },
  {
   "cell_type": "markdown",
   "metadata": {
    "_uuid": "ea730c77a31cde9de98263079a189accb8b5772b",
    "papermill": {
     "duration": 0.00782,
     "end_time": "2021-06-23T15:10:10.034384",
     "exception": false,
     "start_time": "2021-06-23T15:10:10.026564",
     "status": "completed"
    },
    "tags": []
   },
   "source": [
    "Creating and Training the Model"
   ]
  },
  {
   "cell_type": "code",
   "execution_count": 10,
   "metadata": {
    "_uuid": "eb37015e78974e5fd2ae7e13d065c8ab0a9c6948",
    "execution": {
     "iopub.execute_input": "2021-06-23T15:10:10.052655Z",
     "iopub.status.busy": "2021-06-23T15:10:10.051772Z",
     "iopub.status.idle": "2021-06-23T15:10:19.761016Z",
     "shell.execute_reply": "2021-06-23T15:10:19.759849Z"
    },
    "jupyter": {
     "source_hidden": true
    },
    "papermill": {
     "duration": 9.720632,
     "end_time": "2021-06-23T15:10:19.761465",
     "exception": false,
     "start_time": "2021-06-23T15:10:10.040833",
     "status": "completed"
    },
    "tags": []
   },
   "outputs": [],
   "source": [
    "from sklearn.ensemble import RandomForestRegressor\n",
    "rdr = RandomForestRegressor(\n",
    "    n_estimators=n_estimators,\n",
    "    max_features=max_features\n",
    ")\n",
    "rdr.fit(X_train,y_train)\n",
    "pred=rdr.predict(X_test)"
   ]
  },
  {
   "cell_type": "code",
   "execution_count": 11,
   "metadata": {
    "_uuid": "7ed5b8d4e8abb44a4b548c13ac9fb2d65227d1c5",
    "execution": {
     "iopub.execute_input": "2021-06-23T15:10:19.780943Z",
     "iopub.status.busy": "2021-06-23T15:10:19.779878Z",
     "iopub.status.idle": "2021-06-23T15:10:19.783583Z",
     "shell.execute_reply": "2021-06-23T15:10:19.782720Z"
    },
    "jupyter": {
     "source_hidden": true
    },
    "papermill": {
     "duration": 0.013011,
     "end_time": "2021-06-23T15:10:19.783882",
     "exception": false,
     "start_time": "2021-06-23T15:10:19.770871",
     "status": "completed"
    },
    "tags": []
   },
   "outputs": [],
   "source": [
    "#%%capture cap --no-stderr\n",
    "#print(np.sqrt(mean_squared_error(y_test, pred)))"
   ]
  },
  {
   "cell_type": "code",
   "execution_count": 12,
   "metadata": {
    "execution": {
     "iopub.execute_input": "2021-06-23T15:10:19.799754Z",
     "iopub.status.busy": "2021-06-23T15:10:19.799117Z",
     "iopub.status.idle": "2021-06-23T15:10:19.804172Z",
     "shell.execute_reply": "2021-06-23T15:10:19.802980Z"
    },
    "jupyter": {
     "source_hidden": true
    },
    "papermill": {
     "duration": 0.014854,
     "end_time": "2021-06-23T15:10:19.804507",
     "exception": false,
     "start_time": "2021-06-23T15:10:19.789653",
     "status": "completed"
    },
    "tags": []
   },
   "outputs": [],
   "source": [
    "#with open(output_rmse, 'w') as f:\n",
    "#    f.write(cap.stdout)"
   ]
  },
  {
   "cell_type": "code",
   "execution_count": 13,
   "metadata": {
    "execution": {
     "iopub.execute_input": "2021-06-23T15:10:19.825149Z",
     "iopub.status.busy": "2021-06-23T15:10:19.822987Z",
     "iopub.status.idle": "2021-06-23T15:10:19.847957Z",
     "shell.execute_reply": "2021-06-23T15:10:19.846778Z"
    },
    "jupyter": {
     "source_hidden": true
    },
    "papermill": {
     "duration": 0.037174,
     "end_time": "2021-06-23T15:10:19.848386",
     "exception": false,
     "start_time": "2021-06-23T15:10:19.811212",
     "status": "completed"
    },
    "tags": []
   },
   "outputs": [
    {
     "data": {
      "text/plain": [
       "<sqlalchemy.engine.result.ResultProxy at 0x7f0d09ea4290>"
      ]
     },
     "execution_count": 13,
     "metadata": {},
     "output_type": "execute_result"
    }
   ],
   "source": [
    "cnx.execute(\"\"\"\n",
    "    INSERT INTO ml.accuracies (ml_id, ml_date, accuracy) VALUES ('{0}', '{1}', {2}) \n",
    "    ON CONFLICT (ml_id, ml_date) \n",
    "    DO\n",
    "        UPDATE SET accuracy = {2};\n",
    "    \"\"\".format(ml_id, ml_date, np.sqrt(mean_squared_error(y_test, pred))))"
   ]
  }
 ],
 "metadata": {
  "kernelspec": {
   "display_name": "Python 3",
   "language": "python",
   "name": "python3"
  },
  "language_info": {
   "codemirror_mode": {
    "name": "ipython",
    "version": 3
   },
   "file_extension": ".py",
   "mimetype": "text/x-python",
   "name": "python",
   "nbconvert_exporter": "python",
   "pygments_lexer": "ipython3",
   "version": "3.7.10"
  },
  "papermill": {
   "duration": 13.19693,
   "end_time": "2021-06-23T15:10:20.265406",
   "environment_variables": {},
   "exception": null,
   "input_path": "/usr/local/airflow/include/notebooks/avocado_prediction.ipynb",
   "output_path": "/tmp/out-model-avocado-prediction-auto_100.ipynb",
   "parameters": {
    "filepath": "/tmp/avocado.csv",
    "max_features": "auto",
    "ml_id": "auto_100",
    "n_estimators": 100
   },
   "start_time": "2021-06-23T15:10:07.068476",
   "version": "2.1.2"
  }
 },
 "nbformat": 4,
 "nbformat_minor": 4
}