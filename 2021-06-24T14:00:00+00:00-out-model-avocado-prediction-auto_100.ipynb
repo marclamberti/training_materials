{
 "cells": [
  {
   "cell_type": "code",
   "execution_count": 1,
   "metadata": {
    "_cell_guid": "79c7e3d0-c299-4dcb-8224-4455121ee9b0",
    "_uuid": "d629ff2d2480ee46fbb7e2d37f6b5fab8052498a",
    "execution": {
     "iopub.execute_input": "2021-06-24T14:10:09.001355Z",
     "iopub.status.busy": "2021-06-24T14:10:09.000535Z",
     "iopub.status.idle": "2021-06-24T14:10:09.719776Z",
     "shell.execute_reply": "2021-06-24T14:10:09.720386Z"
    },
    "jupyter": {
     "source_hidden": true
    },
    "papermill": {
     "duration": 0.736182,
     "end_time": "2021-06-24T14:10:09.720802",
     "exception": false,
     "start_time": "2021-06-24T14:10:08.984620",
     "status": "completed"
    },
    "tags": []
   },
   "outputs": [],
   "source": [
    "import pandas as pd\n",
    "import numpy as np\n",
    "from sqlalchemy import create_engine\n",
    "from datetime import date\n",
    "from sklearn.metrics import mean_squared_error"
   ]
  },
  {
   "cell_type": "code",
   "execution_count": 2,
   "metadata": {
    "execution": {
     "iopub.execute_input": "2021-06-24T14:10:09.738606Z",
     "iopub.status.busy": "2021-06-24T14:10:09.737973Z",
     "iopub.status.idle": "2021-06-24T14:10:09.763704Z",
     "shell.execute_reply": "2021-06-24T14:10:09.763243Z"
    },
    "jupyter": {
     "source_hidden": true
    },
    "papermill": {
     "duration": 0.03626,
     "end_time": "2021-06-24T14:10:09.763953",
     "exception": false,
     "start_time": "2021-06-24T14:10:09.727693",
     "status": "completed"
    },
    "tags": []
   },
   "outputs": [],
   "source": [
    "# THIS IS PURELY FOR TEST PURPOSE NEVER DO THAT IN PRODUCTION\n",
    "POSTGRES_ADDRESS='postgres'\n",
    "POSTGRES_PORT='5432'\n",
    "POSTGRES_USERNAME='postgres'\n",
    "POSTGRES_PASSWORD='postgres'\n",
    "\n",
    "postgres_conn = 'postgresql://{0}:{1}@{2}:{3}/'.format(POSTGRES_USERNAME, POSTGRES_PASSWORD, POSTGRES_ADDRESS, POSTGRES_PORT)\n",
    "\n",
    "# Create the connection\n",
    "cnx = create_engine(postgres_conn)\n"
   ]
  },
  {
   "cell_type": "markdown",
   "metadata": {
    "_uuid": "1998755ef10683262b29765345cff1c1c7d10b15",
    "papermill": {
     "duration": 0.005466,
     "end_time": "2021-06-24T14:10:09.774820",
     "exception": false,
     "start_time": "2021-06-24T14:10:09.769354",
     "status": "completed"
    },
    "tags": []
   },
   "source": [
    "Read in the Avocado Prices csv file as a DataFrame called df"
   ]
  },
  {
   "cell_type": "code",
   "execution_count": 3,
   "metadata": {
    "execution": {
     "iopub.execute_input": "2021-06-24T14:10:09.790174Z",
     "iopub.status.busy": "2021-06-24T14:10:09.789522Z",
     "iopub.status.idle": "2021-06-24T14:10:09.792596Z",
     "shell.execute_reply": "2021-06-24T14:10:09.792004Z"
    },
    "jupyter": {
     "source_hidden": true
    },
    "papermill": {
     "duration": 0.012788,
     "end_time": "2021-06-24T14:10:09.792898",
     "exception": false,
     "start_time": "2021-06-24T14:10:09.780110",
     "status": "completed"
    },
    "tags": [
     "parameters"
    ]
   },
   "outputs": [],
   "source": [
    "# Parameterized\n",
    "\n",
    "filepath='avocado.csv'\n",
    "ml_id='auto_100'\n",
    "ml_date=date.today()\n",
    "n_estimators = 100\n",
    "max_features = 'auto'"
   ]
  },
  {
   "cell_type": "code",
   "execution_count": 4,
   "id": "b19c7bf4",
   "metadata": {
    "execution": {
     "iopub.execute_input": "2021-06-24T14:10:09.807441Z",
     "iopub.status.busy": "2021-06-24T14:10:09.806867Z",
     "iopub.status.idle": "2021-06-24T14:10:09.809012Z",
     "shell.execute_reply": "2021-06-24T14:10:09.809546Z"
    },
    "jupyter": {
     "source_hidden": true
    },
    "papermill": {
     "duration": 0.01161,
     "end_time": "2021-06-24T14:10:09.809831",
     "exception": false,
     "start_time": "2021-06-24T14:10:09.798221",
     "status": "completed"
    },
    "tags": [
     "injected-parameters"
    ]
   },
   "outputs": [],
   "source": [
    "# Parameters\n",
    "filepath = \"/tmp/avocado.csv\"\n",
    "n_estimators = 100\n",
    "max_features = \"auto\"\n",
    "ml_id = \"auto_100\"\n"
   ]
  },
  {
   "cell_type": "code",
   "execution_count": 5,
   "metadata": {
    "_uuid": "55d0e719eb8b91d763c1eacaf0f51ee0586486fc",
    "execution": {
     "iopub.execute_input": "2021-06-24T14:10:09.825539Z",
     "iopub.status.busy": "2021-06-24T14:10:09.824891Z",
     "iopub.status.idle": "2021-06-24T14:10:09.855969Z",
     "shell.execute_reply": "2021-06-24T14:10:09.855429Z"
    },
    "jupyter": {
     "source_hidden": true
    },
    "papermill": {
     "duration": 0.040844,
     "end_time": "2021-06-24T14:10:09.856174",
     "exception": false,
     "start_time": "2021-06-24T14:10:09.815330",
     "status": "completed"
    },
    "tags": []
   },
   "outputs": [],
   "source": [
    "df= pd.read_csv(filepath)"
   ]
  },
  {
   "cell_type": "markdown",
   "metadata": {
    "_uuid": "434e0457f550e2200424e5ec26162e1aa5904005",
    "papermill": {
     "duration": 0.005584,
     "end_time": "2021-06-24T14:10:09.867502",
     "exception": false,
     "start_time": "2021-06-24T14:10:09.861918",
     "status": "completed"
    },
    "tags": []
   },
   "source": [
    "The Feature \"Unnamed:0\" is just a representation of the indexes, so it's useless to keep it, lets remove it !"
   ]
  },
  {
   "cell_type": "code",
   "execution_count": 6,
   "metadata": {
    "_uuid": "9875398e37728dc3141fed4228be337a4735beb6",
    "execution": {
     "iopub.execute_input": "2021-06-24T14:10:09.885556Z",
     "iopub.status.busy": "2021-06-24T14:10:09.884945Z",
     "iopub.status.idle": "2021-06-24T14:10:09.887488Z",
     "shell.execute_reply": "2021-06-24T14:10:09.887053Z"
    },
    "jupyter": {
     "source_hidden": true
    },
    "papermill": {
     "duration": 0.014735,
     "end_time": "2021-06-24T14:10:09.887742",
     "exception": false,
     "start_time": "2021-06-24T14:10:09.873007",
     "status": "completed"
    },
    "tags": []
   },
   "outputs": [],
   "source": [
    "df.drop('Unnamed: 0',axis=1,inplace=True)"
   ]
  },
  {
   "cell_type": "markdown",
   "metadata": {
    "_uuid": "12e94ad381e4cb8d2c8a9bbe08ce07ab5d49c040",
    "papermill": {
     "duration": 0.005998,
     "end_time": "2021-06-24T14:10:09.899477",
     "exception": false,
     "start_time": "2021-06-24T14:10:09.893479",
     "status": "completed"
    },
    "tags": []
   },
   "source": [
    "well as a first observation we can see that we are lucky, we dont have any missing values (18249 complete data) and 13 columns.\n",
    "Now let's do some Feature Engineering on the Date Feature so we can be able to use the day and the month columns in building our machine learning model later. ( I didn't mention the year because its already there in data frame)"
   ]
  },
  {
   "cell_type": "code",
   "execution_count": 7,
   "metadata": {
    "_uuid": "f031639ce794656e877484d1c9c356df7028177f",
    "execution": {
     "iopub.execute_input": "2021-06-24T14:10:09.913592Z",
     "iopub.status.busy": "2021-06-24T14:10:09.912984Z",
     "iopub.status.idle": "2021-06-24T14:10:10.033885Z",
     "shell.execute_reply": "2021-06-24T14:10:10.033375Z"
    },
    "jupyter": {
     "source_hidden": true
    },
    "papermill": {
     "duration": 0.129195,
     "end_time": "2021-06-24T14:10:10.034073",
     "exception": false,
     "start_time": "2021-06-24T14:10:09.904878",
     "status": "completed"
    },
    "tags": []
   },
   "outputs": [],
   "source": [
    "df['Date']=pd.to_datetime(df['Date'])\n",
    "df['Month']=df['Date'].apply(lambda x:x.month)\n",
    "df['Day']=df['Date'].apply(lambda x:x.day)"
   ]
  },
  {
   "cell_type": "markdown",
   "metadata": {
    "_uuid": "ebdcac9924ce3e366fd3a75170682f7113385b7a",
    "papermill": {
     "duration": 0.00474,
     "end_time": "2021-06-24T14:10:10.043783",
     "exception": false,
     "start_time": "2021-06-24T14:10:10.039043",
     "status": "completed"
    },
    "tags": []
   },
   "source": [
    "as we can see we have 54 regions and 2 unique types, so it's going to be easy to to transform the type feature to dummies, but for the region its going to be a bit complexe so I decided to drop the entire column.\n",
    "I will drop the Date Feature as well because I already have 3 other columns for the Year, Month and Day."
   ]
  },
  {
   "cell_type": "code",
   "execution_count": 8,
   "metadata": {
    "_uuid": "a798682da34327b731ef262985fd50ba68e06460",
    "execution": {
     "iopub.execute_input": "2021-06-24T14:10:10.058411Z",
     "iopub.status.busy": "2021-06-24T14:10:10.057871Z",
     "iopub.status.idle": "2021-06-24T14:10:10.068576Z",
     "shell.execute_reply": "2021-06-24T14:10:10.067247Z"
    },
    "jupyter": {
     "source_hidden": true
    },
    "papermill": {
     "duration": 0.02041,
     "end_time": "2021-06-24T14:10:10.069078",
     "exception": false,
     "start_time": "2021-06-24T14:10:10.048668",
     "status": "completed"
    },
    "tags": []
   },
   "outputs": [],
   "source": [
    "df_final=pd.get_dummies(df.drop(['region','Date'],axis=1),drop_first=True)"
   ]
  },
  {
   "cell_type": "markdown",
   "metadata": {
    "_uuid": "8b74a6b88cb3e9b3e1d1e987e061048f203c7364",
    "papermill": {
     "duration": 0.00648,
     "end_time": "2021-06-24T14:10:10.081784",
     "exception": false,
     "start_time": "2021-06-24T14:10:10.075304",
     "status": "completed"
    },
    "tags": []
   },
   "source": [
    "Now our data are ready! lets apply our model which is going to be the Linear Regression because our Target variable 'AveragePrice'is continuous.\n",
    "Let's now begin to train out regression model! We will need to first split up our data into an X array that contains the features to train on, and a y array with the target variable"
   ]
  },
  {
   "cell_type": "code",
   "execution_count": 9,
   "metadata": {
    "_uuid": "830591f99de9715241e688bf9ce265e979401ff5",
    "execution": {
     "iopub.execute_input": "2021-06-24T14:10:10.100812Z",
     "iopub.status.busy": "2021-06-24T14:10:10.098709Z",
     "iopub.status.idle": "2021-06-24T14:10:10.109847Z",
     "shell.execute_reply": "2021-06-24T14:10:10.108980Z"
    },
    "jupyter": {
     "source_hidden": true
    },
    "papermill": {
     "duration": 0.02281,
     "end_time": "2021-06-24T14:10:10.110074",
     "exception": false,
     "start_time": "2021-06-24T14:10:10.087264",
     "status": "completed"
    },
    "tags": []
   },
   "outputs": [],
   "source": [
    "X=df_final.iloc[:,1:14]\n",
    "y=df_final['AveragePrice']\n",
    "from sklearn.model_selection import train_test_split\n",
    "X_train,X_test,y_train,y_test=train_test_split(X,y,test_size=0.2,random_state=42)"
   ]
  },
  {
   "cell_type": "markdown",
   "metadata": {
    "_uuid": "ea730c77a31cde9de98263079a189accb8b5772b",
    "papermill": {
     "duration": 0.005575,
     "end_time": "2021-06-24T14:10:10.121195",
     "exception": false,
     "start_time": "2021-06-24T14:10:10.115620",
     "status": "completed"
    },
    "tags": []
   },
   "source": [
    "Creating and Training the Model"
   ]
  },
  {
   "cell_type": "code",
   "execution_count": 10,
   "metadata": {
    "_uuid": "eb37015e78974e5fd2ae7e13d065c8ab0a9c6948",
    "execution": {
     "iopub.execute_input": "2021-06-24T14:10:10.136879Z",
     "iopub.status.busy": "2021-06-24T14:10:10.136290Z",
     "iopub.status.idle": "2021-06-24T14:10:17.737306Z",
     "shell.execute_reply": "2021-06-24T14:10:17.736738Z"
    },
    "jupyter": {
     "source_hidden": true
    },
    "papermill": {
     "duration": 7.610822,
     "end_time": "2021-06-24T14:10:17.737511",
     "exception": false,
     "start_time": "2021-06-24T14:10:10.126689",
     "status": "completed"
    },
    "tags": []
   },
   "outputs": [],
   "source": [
    "from sklearn.ensemble import RandomForestRegressor\n",
    "rdr = RandomForestRegressor(\n",
    "    n_estimators=n_estimators,\n",
    "    max_features=max_features\n",
    ")\n",
    "rdr.fit(X_train,y_train)\n",
    "pred=rdr.predict(X_test)"
   ]
  },
  {
   "cell_type": "code",
   "execution_count": 11,
   "metadata": {
    "_uuid": "7ed5b8d4e8abb44a4b548c13ac9fb2d65227d1c5",
    "execution": {
     "iopub.execute_input": "2021-06-24T14:10:17.752313Z",
     "iopub.status.busy": "2021-06-24T14:10:17.751675Z",
     "iopub.status.idle": "2021-06-24T14:10:17.754692Z",
     "shell.execute_reply": "2021-06-24T14:10:17.754064Z"
    },
    "jupyter": {
     "source_hidden": true
    },
    "papermill": {
     "duration": 0.01155,
     "end_time": "2021-06-24T14:10:17.754891",
     "exception": false,
     "start_time": "2021-06-24T14:10:17.743341",
     "status": "completed"
    },
    "tags": []
   },
   "outputs": [],
   "source": [
    "#%%capture cap --no-stderr\n",
    "#print(np.sqrt(mean_squared_error(y_test, pred)))"
   ]
  },
  {
   "cell_type": "code",
   "execution_count": 12,
   "metadata": {
    "execution": {
     "iopub.execute_input": "2021-06-24T14:10:17.769786Z",
     "iopub.status.busy": "2021-06-24T14:10:17.769209Z",
     "iopub.status.idle": "2021-06-24T14:10:17.771867Z",
     "shell.execute_reply": "2021-06-24T14:10:17.772287Z"
    },
    "jupyter": {
     "source_hidden": true
    },
    "papermill": {
     "duration": 0.011914,
     "end_time": "2021-06-24T14:10:17.772491",
     "exception": false,
     "start_time": "2021-06-24T14:10:17.760577",
     "status": "completed"
    },
    "tags": []
   },
   "outputs": [],
   "source": [
    "#with open(output_rmse, 'w') as f:\n",
    "#    f.write(cap.stdout)"
   ]
  },
  {
   "cell_type": "code",
   "execution_count": 13,
   "metadata": {
    "execution": {
     "iopub.execute_input": "2021-06-24T14:10:17.787780Z",
     "iopub.status.busy": "2021-06-24T14:10:17.786936Z",
     "iopub.status.idle": "2021-06-24T14:10:17.807230Z",
     "shell.execute_reply": "2021-06-24T14:10:17.807661Z"
    },
    "jupyter": {
     "source_hidden": true
    },
    "papermill": {
     "duration": 0.030478,
     "end_time": "2021-06-24T14:10:17.807932",
     "exception": false,
     "start_time": "2021-06-24T14:10:17.777454",
     "status": "completed"
    },
    "tags": []
   },
   "outputs": [
    {
     "data": {
      "text/plain": [
       "<sqlalchemy.engine.result.ResultProxy at 0x7fa99ded8110>"
      ]
     },
     "execution_count": 13,
     "metadata": {},
     "output_type": "execute_result"
    }
   ],
   "source": [
    "cnx.execute(\"\"\"\n",
    "    INSERT INTO ml.accuracies (ml_id, ml_date, accuracy) VALUES ('{0}', '{1}', {2}) \n",
    "    ON CONFLICT (ml_id, ml_date) \n",
    "    DO\n",
    "        UPDATE SET accuracy = {2};\n",
    "    \"\"\".format(ml_id, ml_date, np.sqrt(mean_squared_error(y_test, pred))))"
   ]
  }
 ],
 "metadata": {
  "kernelspec": {
   "display_name": "Python 3",
   "language": "python",
   "name": "python3"
  },
  "language_info": {
   "codemirror_mode": {
    "name": "ipython",
    "version": 3
   },
   "file_extension": ".py",
   "mimetype": "text/x-python",
   "name": "python",
   "nbconvert_exporter": "python",
   "pygments_lexer": "ipython3",
   "version": "3.7.10"
  },
  "papermill": {
   "duration": 11.388067,
   "end_time": "2021-06-24T14:10:19.217551",
   "environment_variables": {},
   "exception": null,
   "input_path": "/usr/local/airflow/include/notebooks/avocado_prediction.ipynb",
   "output_path": "/tmp/out-model-avocado-prediction-auto_100.ipynb",
   "parameters": {
    "filepath": "/tmp/avocado.csv",
    "max_features": "auto",
    "ml_id": "auto_100",
    "n_estimators": 100
   },
   "start_time": "2021-06-24T14:10:07.829484",
   "version": "2.1.2"
  }
 },
 "nbformat": 4,
 "nbformat_minor": 4
}